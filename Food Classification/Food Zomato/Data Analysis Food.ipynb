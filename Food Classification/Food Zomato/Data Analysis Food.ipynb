{
 "metadata": {
  "kernelspec": {
   "language": "python",
   "display_name": "Python 3",
   "name": "python3"
  },
  "language_info": {
   "pygments_lexer": "ipython3",
   "nbconvert_exporter": "python",
   "version": "3.6.4",
   "file_extension": ".py",
   "codemirror_mode": {
    "name": "ipython",
    "version": 3
   },
   "name": "python",
   "mimetype": "text/x-python"
  }
 },
 "nbformat_minor": 4,
 "nbformat": 4,
 "cells": [
  {
   "cell_type": "markdown",
   "source": [
    "#### We often face issues while Performing Explory Data Analysis(EDA),Specially if we are beginners. Well worry no more :)\n",
    "\n",
    "#### In this Notebook we'll Understand how to performe EDA step by step.\n"
   ],
   "metadata": {}
  },
  {
   "cell_type": "markdown",
   "source": [
    "# A Lot to know, A Lot to discuss... Lets Begin"
   ],
   "metadata": {}
  },
  {
   "cell_type": "code",
   "source": [
    "# Import all required Libraries\n",
    "import numpy as np\n",
    "import pandas as pd \n",
    "import matplotlib.pyplot as plt\n",
    "import seaborn as sns"
   ],
   "metadata": {
    "execution": {
     "iopub.status.busy": "2022-07-21T09:09:19.217354Z",
     "iopub.execute_input": "2022-07-21T09:09:19.218038Z",
     "iopub.status.idle": "2022-07-21T09:09:20.332920Z",
     "shell.execute_reply.started": "2022-07-21T09:09:19.217921Z",
     "shell.execute_reply": "2022-07-21T09:09:20.331935Z"
    },
    "trusted": true,
    "ExecuteTime": {
     "end_time": "2023-09-15T09:53:44.433242900Z",
     "start_time": "2023-09-15T09:53:44.406943900Z"
    }
   },
   "execution_count": 1,
   "outputs": []
  },
  {
   "cell_type": "code",
   "source": [
    "# Load the data in Df using df.read_csv.\n",
    "df=pd.read_csv('zomato.csv')\n",
    "df.head()"
   ],
   "metadata": {
    "execution": {
     "iopub.status.busy": "2022-07-21T09:09:20.334471Z",
     "iopub.execute_input": "2022-07-21T09:09:20.334972Z",
     "iopub.status.idle": "2022-07-21T09:09:31.677143Z",
     "shell.execute_reply.started": "2022-07-21T09:09:20.334940Z",
     "shell.execute_reply": "2022-07-21T09:09:31.676086Z"
    },
    "trusted": true,
    "ExecuteTime": {
     "end_time": "2023-09-15T09:53:56.805079900Z",
     "start_time": "2023-09-15T09:53:48.302295Z"
    }
   },
   "execution_count": 2,
   "outputs": [
    {
     "data": {
      "text/plain": "                                                 url  \\\n0  https://www.zomato.com/bangalore/jalsa-banasha...   \n1  https://www.zomato.com/bangalore/spice-elephan...   \n2  https://www.zomato.com/SanchurroBangalore?cont...   \n3  https://www.zomato.com/bangalore/addhuri-udupi...   \n4  https://www.zomato.com/bangalore/grand-village...   \n\n                                             address                   name  \\\n0  942, 21st Main Road, 2nd Stage, Banashankari, ...                  Jalsa   \n1  2nd Floor, 80 Feet Road, Near Big Bazaar, 6th ...         Spice Elephant   \n2  1112, Next to KIMS Medical College, 17th Cross...        San Churro Cafe   \n3  1st Floor, Annakuteera, 3rd Stage, Banashankar...  Addhuri Udupi Bhojana   \n4  10, 3rd Floor, Lakshmi Associates, Gandhi Baza...          Grand Village   \n\n  online_order book_table   rate  votes                             phone  \\\n0          Yes        Yes  4.1/5    775    080 42297555\\r\\n+91 9743772233   \n1          Yes         No  4.1/5    787                      080 41714161   \n2          Yes         No  3.8/5    918                    +91 9663487993   \n3           No         No  3.7/5     88                    +91 9620009302   \n4           No         No  3.8/5    166  +91 8026612447\\r\\n+91 9901210005   \n\n       location            rest_type  \\\n0  Banashankari        Casual Dining   \n1  Banashankari        Casual Dining   \n2  Banashankari  Cafe, Casual Dining   \n3  Banashankari          Quick Bites   \n4  Basavanagudi        Casual Dining   \n\n                                          dish_liked  \\\n0  Pasta, Lunch Buffet, Masala Papad, Paneer Laja...   \n1  Momos, Lunch Buffet, Chocolate Nirvana, Thai G...   \n2  Churros, Cannelloni, Minestrone Soup, Hot Choc...   \n3                                        Masala Dosa   \n4                                Panipuri, Gol Gappe   \n\n                         cuisines approx_cost(for two people)  \\\n0  North Indian, Mughlai, Chinese                         800   \n1     Chinese, North Indian, Thai                         800   \n2          Cafe, Mexican, Italian                         800   \n3      South Indian, North Indian                         300   \n4        North Indian, Rajasthani                         600   \n\n                                        reviews_list menu_item  \\\n0  [('Rated 4.0', 'RATED\\n  A beautiful place to ...        []   \n1  [('Rated 4.0', 'RATED\\n  Had been here for din...        []   \n2  [('Rated 3.0', \"RATED\\n  Ambience is not that ...        []   \n3  [('Rated 4.0', \"RATED\\n  Great food and proper...        []   \n4  [('Rated 4.0', 'RATED\\n  Very good restaurant ...        []   \n\n  listed_in(type) listed_in(city)  \n0          Buffet    Banashankari  \n1          Buffet    Banashankari  \n2          Buffet    Banashankari  \n3          Buffet    Banashankari  \n4          Buffet    Banashankari  ",
      "text/html": "<div>\n<style scoped>\n    .dataframe tbody tr th:only-of-type {\n        vertical-align: middle;\n    }\n\n    .dataframe tbody tr th {\n        vertical-align: top;\n    }\n\n    .dataframe thead th {\n        text-align: right;\n    }\n</style>\n<table border=\"1\" class=\"dataframe\">\n  <thead>\n    <tr style=\"text-align: right;\">\n      <th></th>\n      <th>url</th>\n      <th>address</th>\n      <th>name</th>\n      <th>online_order</th>\n      <th>book_table</th>\n      <th>rate</th>\n      <th>votes</th>\n      <th>phone</th>\n      <th>location</th>\n      <th>rest_type</th>\n      <th>dish_liked</th>\n      <th>cuisines</th>\n      <th>approx_cost(for two people)</th>\n      <th>reviews_list</th>\n      <th>menu_item</th>\n      <th>listed_in(type)</th>\n      <th>listed_in(city)</th>\n    </tr>\n  </thead>\n  <tbody>\n    <tr>\n      <th>0</th>\n      <td>https://www.zomato.com/bangalore/jalsa-banasha...</td>\n      <td>942, 21st Main Road, 2nd Stage, Banashankari, ...</td>\n      <td>Jalsa</td>\n      <td>Yes</td>\n      <td>Yes</td>\n      <td>4.1/5</td>\n      <td>775</td>\n      <td>080 42297555\\r\\n+91 9743772233</td>\n      <td>Banashankari</td>\n      <td>Casual Dining</td>\n      <td>Pasta, Lunch Buffet, Masala Papad, Paneer Laja...</td>\n      <td>North Indian, Mughlai, Chinese</td>\n      <td>800</td>\n      <td>[('Rated 4.0', 'RATED\\n  A beautiful place to ...</td>\n      <td>[]</td>\n      <td>Buffet</td>\n      <td>Banashankari</td>\n    </tr>\n    <tr>\n      <th>1</th>\n      <td>https://www.zomato.com/bangalore/spice-elephan...</td>\n      <td>2nd Floor, 80 Feet Road, Near Big Bazaar, 6th ...</td>\n      <td>Spice Elephant</td>\n      <td>Yes</td>\n      <td>No</td>\n      <td>4.1/5</td>\n      <td>787</td>\n      <td>080 41714161</td>\n      <td>Banashankari</td>\n      <td>Casual Dining</td>\n      <td>Momos, Lunch Buffet, Chocolate Nirvana, Thai G...</td>\n      <td>Chinese, North Indian, Thai</td>\n      <td>800</td>\n      <td>[('Rated 4.0', 'RATED\\n  Had been here for din...</td>\n      <td>[]</td>\n      <td>Buffet</td>\n      <td>Banashankari</td>\n    </tr>\n    <tr>\n      <th>2</th>\n      <td>https://www.zomato.com/SanchurroBangalore?cont...</td>\n      <td>1112, Next to KIMS Medical College, 17th Cross...</td>\n      <td>San Churro Cafe</td>\n      <td>Yes</td>\n      <td>No</td>\n      <td>3.8/5</td>\n      <td>918</td>\n      <td>+91 9663487993</td>\n      <td>Banashankari</td>\n      <td>Cafe, Casual Dining</td>\n      <td>Churros, Cannelloni, Minestrone Soup, Hot Choc...</td>\n      <td>Cafe, Mexican, Italian</td>\n      <td>800</td>\n      <td>[('Rated 3.0', \"RATED\\n  Ambience is not that ...</td>\n      <td>[]</td>\n      <td>Buffet</td>\n      <td>Banashankari</td>\n    </tr>\n    <tr>\n      <th>3</th>\n      <td>https://www.zomato.com/bangalore/addhuri-udupi...</td>\n      <td>1st Floor, Annakuteera, 3rd Stage, Banashankar...</td>\n      <td>Addhuri Udupi Bhojana</td>\n      <td>No</td>\n      <td>No</td>\n      <td>3.7/5</td>\n      <td>88</td>\n      <td>+91 9620009302</td>\n      <td>Banashankari</td>\n      <td>Quick Bites</td>\n      <td>Masala Dosa</td>\n      <td>South Indian, North Indian</td>\n      <td>300</td>\n      <td>[('Rated 4.0', \"RATED\\n  Great food and proper...</td>\n      <td>[]</td>\n      <td>Buffet</td>\n      <td>Banashankari</td>\n    </tr>\n    <tr>\n      <th>4</th>\n      <td>https://www.zomato.com/bangalore/grand-village...</td>\n      <td>10, 3rd Floor, Lakshmi Associates, Gandhi Baza...</td>\n      <td>Grand Village</td>\n      <td>No</td>\n      <td>No</td>\n      <td>3.8/5</td>\n      <td>166</td>\n      <td>+91 8026612447\\r\\n+91 9901210005</td>\n      <td>Basavanagudi</td>\n      <td>Casual Dining</td>\n      <td>Panipuri, Gol Gappe</td>\n      <td>North Indian, Rajasthani</td>\n      <td>600</td>\n      <td>[('Rated 4.0', 'RATED\\n  Very good restaurant ...</td>\n      <td>[]</td>\n      <td>Buffet</td>\n      <td>Banashankari</td>\n    </tr>\n  </tbody>\n</table>\n</div>"
     },
     "execution_count": 2,
     "metadata": {},
     "output_type": "execute_result"
    }
   ]
  },
  {
   "cell_type": "markdown",
   "source": [
    "### Data Cleaning\n"
   ],
   "metadata": {}
  },
  {
   "cell_type": "code",
   "source": [
    "#size before cleaning\n",
    "df.shape"
   ],
   "metadata": {
    "execution": {
     "iopub.status.busy": "2022-07-21T09:09:31.678568Z",
     "iopub.execute_input": "2022-07-21T09:09:31.678870Z",
     "iopub.status.idle": "2022-07-21T09:09:31.684938Z",
     "shell.execute_reply.started": "2022-07-21T09:09:31.678843Z",
     "shell.execute_reply": "2022-07-21T09:09:31.683919Z"
    },
    "trusted": true,
    "ExecuteTime": {
     "end_time": "2023-09-15T09:54:12.712696Z",
     "start_time": "2023-09-15T09:54:12.634575Z"
    }
   },
   "execution_count": 3,
   "outputs": [
    {
     "data": {
      "text/plain": "(51717, 17)"
     },
     "execution_count": 3,
     "metadata": {},
     "output_type": "execute_result"
    }
   ]
  },
  {
   "cell_type": "code",
   "source": [
    "df.columns"
   ],
   "metadata": {
    "execution": {
     "iopub.status.busy": "2022-07-21T09:09:31.687024Z",
     "iopub.execute_input": "2022-07-21T09:09:31.687334Z",
     "iopub.status.idle": "2022-07-21T09:09:31.702094Z",
     "shell.execute_reply.started": "2022-07-21T09:09:31.687290Z",
     "shell.execute_reply": "2022-07-21T09:09:31.701098Z"
    },
    "trusted": true,
    "ExecuteTime": {
     "end_time": "2023-09-15T09:54:19.552694800Z",
     "start_time": "2023-09-15T09:54:19.487154900Z"
    }
   },
   "execution_count": 4,
   "outputs": [
    {
     "data": {
      "text/plain": "Index(['url', 'address', 'name', 'online_order', 'book_table', 'rate', 'votes',\n       'phone', 'location', 'rest_type', 'dish_liked', 'cuisines',\n       'approx_cost(for two people)', 'reviews_list', 'menu_item',\n       'listed_in(type)', 'listed_in(city)'],\n      dtype='object')"
     },
     "execution_count": 4,
     "metadata": {},
     "output_type": "execute_result"
    }
   ]
  },
  {
   "cell_type": "code",
   "source": [
    "df.isnull().sum()"
   ],
   "metadata": {
    "execution": {
     "iopub.status.busy": "2022-07-21T09:09:31.703665Z",
     "iopub.execute_input": "2022-07-21T09:09:31.704002Z",
     "iopub.status.idle": "2022-07-21T09:09:31.760069Z",
     "shell.execute_reply.started": "2022-07-21T09:09:31.703928Z",
     "shell.execute_reply": "2022-07-21T09:09:31.758952Z"
    },
    "trusted": true,
    "ExecuteTime": {
     "end_time": "2023-09-15T09:54:24.110289600Z",
     "start_time": "2023-09-15T09:54:24.006879600Z"
    }
   },
   "execution_count": 5,
   "outputs": [
    {
     "data": {
      "text/plain": "url                                0\naddress                            0\nname                               0\nonline_order                       0\nbook_table                         0\nrate                            7775\nvotes                              0\nphone                           1208\nlocation                          21\nrest_type                        227\ndish_liked                     28078\ncuisines                          45\napprox_cost(for two people)      346\nreviews_list                       0\nmenu_item                          0\nlisted_in(type)                    0\nlisted_in(city)                    0\ndtype: int64"
     },
     "execution_count": 5,
     "metadata": {},
     "output_type": "execute_result"
    }
   ]
  },
  {
   "cell_type": "markdown",
   "source": [
    "**As we can observe, We don't need columns like 'url','phone' etc. as they cant be used to analyse the data**\n",
    "\n",
    "**Simply drop it**"
   ],
   "metadata": {}
  },
  {
   "cell_type": "code",
   "source": [
    "# dropping all unnecessary columns\n",
    "df=df.drop(['url','address','phone','dish_liked','reviews_list','menu_item'], axis=1)\n",
    "df.head()"
   ],
   "metadata": {
    "execution": {
     "iopub.status.busy": "2022-07-21T09:09:31.761561Z",
     "iopub.execute_input": "2022-07-21T09:09:31.761852Z",
     "iopub.status.idle": "2022-07-21T09:09:31.788438Z",
     "shell.execute_reply.started": "2022-07-21T09:09:31.761828Z",
     "shell.execute_reply": "2022-07-21T09:09:31.787353Z"
    },
    "trusted": true,
    "ExecuteTime": {
     "end_time": "2023-09-15T09:55:07.406812800Z",
     "start_time": "2023-09-15T09:55:07.314563800Z"
    }
   },
   "execution_count": 6,
   "outputs": [
    {
     "data": {
      "text/plain": "                    name online_order book_table   rate  votes      location  \\\n0                  Jalsa          Yes        Yes  4.1/5    775  Banashankari   \n1         Spice Elephant          Yes         No  4.1/5    787  Banashankari   \n2        San Churro Cafe          Yes         No  3.8/5    918  Banashankari   \n3  Addhuri Udupi Bhojana           No         No  3.7/5     88  Banashankari   \n4          Grand Village           No         No  3.8/5    166  Basavanagudi   \n\n             rest_type                        cuisines  \\\n0        Casual Dining  North Indian, Mughlai, Chinese   \n1        Casual Dining     Chinese, North Indian, Thai   \n2  Cafe, Casual Dining          Cafe, Mexican, Italian   \n3          Quick Bites      South Indian, North Indian   \n4        Casual Dining        North Indian, Rajasthani   \n\n  approx_cost(for two people) listed_in(type) listed_in(city)  \n0                         800          Buffet    Banashankari  \n1                         800          Buffet    Banashankari  \n2                         800          Buffet    Banashankari  \n3                         300          Buffet    Banashankari  \n4                         600          Buffet    Banashankari  ",
      "text/html": "<div>\n<style scoped>\n    .dataframe tbody tr th:only-of-type {\n        vertical-align: middle;\n    }\n\n    .dataframe tbody tr th {\n        vertical-align: top;\n    }\n\n    .dataframe thead th {\n        text-align: right;\n    }\n</style>\n<table border=\"1\" class=\"dataframe\">\n  <thead>\n    <tr style=\"text-align: right;\">\n      <th></th>\n      <th>name</th>\n      <th>online_order</th>\n      <th>book_table</th>\n      <th>rate</th>\n      <th>votes</th>\n      <th>location</th>\n      <th>rest_type</th>\n      <th>cuisines</th>\n      <th>approx_cost(for two people)</th>\n      <th>listed_in(type)</th>\n      <th>listed_in(city)</th>\n    </tr>\n  </thead>\n  <tbody>\n    <tr>\n      <th>0</th>\n      <td>Jalsa</td>\n      <td>Yes</td>\n      <td>Yes</td>\n      <td>4.1/5</td>\n      <td>775</td>\n      <td>Banashankari</td>\n      <td>Casual Dining</td>\n      <td>North Indian, Mughlai, Chinese</td>\n      <td>800</td>\n      <td>Buffet</td>\n      <td>Banashankari</td>\n    </tr>\n    <tr>\n      <th>1</th>\n      <td>Spice Elephant</td>\n      <td>Yes</td>\n      <td>No</td>\n      <td>4.1/5</td>\n      <td>787</td>\n      <td>Banashankari</td>\n      <td>Casual Dining</td>\n      <td>Chinese, North Indian, Thai</td>\n      <td>800</td>\n      <td>Buffet</td>\n      <td>Banashankari</td>\n    </tr>\n    <tr>\n      <th>2</th>\n      <td>San Churro Cafe</td>\n      <td>Yes</td>\n      <td>No</td>\n      <td>3.8/5</td>\n      <td>918</td>\n      <td>Banashankari</td>\n      <td>Cafe, Casual Dining</td>\n      <td>Cafe, Mexican, Italian</td>\n      <td>800</td>\n      <td>Buffet</td>\n      <td>Banashankari</td>\n    </tr>\n    <tr>\n      <th>3</th>\n      <td>Addhuri Udupi Bhojana</td>\n      <td>No</td>\n      <td>No</td>\n      <td>3.7/5</td>\n      <td>88</td>\n      <td>Banashankari</td>\n      <td>Quick Bites</td>\n      <td>South Indian, North Indian</td>\n      <td>300</td>\n      <td>Buffet</td>\n      <td>Banashankari</td>\n    </tr>\n    <tr>\n      <th>4</th>\n      <td>Grand Village</td>\n      <td>No</td>\n      <td>No</td>\n      <td>3.8/5</td>\n      <td>166</td>\n      <td>Basavanagudi</td>\n      <td>Casual Dining</td>\n      <td>North Indian, Rajasthani</td>\n      <td>600</td>\n      <td>Buffet</td>\n      <td>Banashankari</td>\n    </tr>\n  </tbody>\n</table>\n</div>"
     },
     "execution_count": 6,
     "metadata": {},
     "output_type": "execute_result"
    }
   ]
  },
  {
   "cell_type": "markdown",
   "source": [
    "# New Dataset"
   ],
   "metadata": {}
  },
  {
   "cell_type": "code",
   "source": [
    "df.info()"
   ],
   "metadata": {
    "execution": {
     "iopub.status.busy": "2022-07-21T09:09:31.790179Z",
     "iopub.execute_input": "2022-07-21T09:09:31.790754Z",
     "iopub.status.idle": "2022-07-21T09:09:31.838170Z",
     "shell.execute_reply.started": "2022-07-21T09:09:31.790709Z",
     "shell.execute_reply": "2022-07-21T09:09:31.837184Z"
    },
    "trusted": true,
    "ExecuteTime": {
     "end_time": "2023-09-15T09:55:14.271133600Z",
     "start_time": "2023-09-15T09:55:14.189828500Z"
    }
   },
   "execution_count": 7,
   "outputs": [
    {
     "name": "stdout",
     "output_type": "stream",
     "text": [
      "<class 'pandas.core.frame.DataFrame'>\n",
      "RangeIndex: 51717 entries, 0 to 51716\n",
      "Data columns (total 11 columns):\n",
      " #   Column                       Non-Null Count  Dtype \n",
      "---  ------                       --------------  ----- \n",
      " 0   name                         51717 non-null  object\n",
      " 1   online_order                 51717 non-null  object\n",
      " 2   book_table                   51717 non-null  object\n",
      " 3   rate                         43942 non-null  object\n",
      " 4   votes                        51717 non-null  int64 \n",
      " 5   location                     51696 non-null  object\n",
      " 6   rest_type                    51490 non-null  object\n",
      " 7   cuisines                     51672 non-null  object\n",
      " 8   approx_cost(for two people)  51371 non-null  object\n",
      " 9   listed_in(type)              51717 non-null  object\n",
      " 10  listed_in(city)              51717 non-null  object\n",
      "dtypes: int64(1), object(10)\n",
      "memory usage: 4.3+ MB\n"
     ]
    }
   ]
  },
  {
   "cell_type": "markdown",
   "source": [
    "## Checking for Duplicates"
   ],
   "metadata": {}
  },
  {
   "cell_type": "code",
   "source": [
    "# drop duplicates if any\n",
    "df.drop_duplicates(inplace = True)\n",
    "df.shape"
   ],
   "metadata": {
    "execution": {
     "iopub.status.busy": "2022-07-21T09:09:31.839417Z",
     "iopub.execute_input": "2022-07-21T09:09:31.839701Z",
     "iopub.status.idle": "2022-07-21T09:09:31.896672Z",
     "shell.execute_reply.started": "2022-07-21T09:09:31.839676Z",
     "shell.execute_reply": "2022-07-21T09:09:31.895778Z"
    },
    "trusted": true,
    "ExecuteTime": {
     "end_time": "2023-09-15T09:56:52.067800600Z",
     "start_time": "2023-09-15T09:56:51.973752200Z"
    }
   },
   "execution_count": 8,
   "outputs": [
    {
     "data": {
      "text/plain": "(51609, 11)"
     },
     "execution_count": 8,
     "metadata": {},
     "output_type": "execute_result"
    }
   ]
  },
  {
   "cell_type": "markdown",
   "source": [
    "# EDA Steps- Analyzing each Column"
   ],
   "metadata": {}
  },
  {
   "cell_type": "markdown",
   "source": [
    "#### Analysing Rating column"
   ],
   "metadata": {}
  },
  {
   "cell_type": "code",
   "source": [
    "df['rate'].unique()"
   ],
   "metadata": {
    "execution": {
     "iopub.status.busy": "2022-07-21T09:09:31.897571Z",
     "iopub.execute_input": "2022-07-21T09:09:31.897869Z",
     "iopub.status.idle": "2022-07-21T09:09:31.906730Z",
     "shell.execute_reply.started": "2022-07-21T09:09:31.897842Z",
     "shell.execute_reply": "2022-07-21T09:09:31.905903Z"
    },
    "trusted": true,
    "ExecuteTime": {
     "end_time": "2023-09-15T09:57:14.038056900Z",
     "start_time": "2023-09-15T09:57:13.960643200Z"
    }
   },
   "execution_count": 9,
   "outputs": [
    {
     "data": {
      "text/plain": "array(['4.1/5', '3.8/5', '3.7/5', '3.6/5', '4.6/5', '4.0/5', '4.2/5',\n       '3.9/5', '3.1/5', '3.0/5', '3.2/5', '3.3/5', '2.8/5', '4.4/5',\n       '4.3/5', 'NEW', '2.9/5', '3.5/5', nan, '2.6/5', '3.8 /5', '3.4/5',\n       '4.5/5', '2.5/5', '2.7/5', '4.7/5', '2.4/5', '2.2/5', '2.3/5',\n       '3.4 /5', '-', '3.6 /5', '4.8/5', '3.9 /5', '4.2 /5', '4.0 /5',\n       '4.1 /5', '3.7 /5', '3.1 /5', '2.9 /5', '3.3 /5', '2.8 /5',\n       '3.5 /5', '2.7 /5', '2.5 /5', '3.2 /5', '2.6 /5', '4.5 /5',\n       '4.3 /5', '4.4 /5', '4.9/5', '2.1/5', '2.0/5', '1.8/5', '4.6 /5',\n       '4.9 /5', '3.0 /5', '4.8 /5', '2.3 /5', '4.7 /5', '2.4 /5',\n       '2.1 /5', '2.2 /5', '2.0 /5', '1.8 /5'], dtype=object)"
     },
     "execution_count": 9,
     "metadata": {},
     "output_type": "execute_result"
    }
   ]
  },
  {
   "cell_type": "markdown",
   "source": [
    "#### we can se there are some faulty values like NEW and - in data and apart from that other values are in form like 3.3/5 but we need float values like 3.3"
   ],
   "metadata": {}
  },
  {
   "cell_type": "markdown",
   "source": [
    "# Function to remove 'new' and '-' and '/5' fro, rating"
   ],
   "metadata": {}
  },
  {
   "cell_type": "code",
   "source": [
    "# We define a function \n",
    "def handlerate(value):\n",
    "    # If value is equal to \"NEW\" or '-' than just remove the values\n",
    "    if(value=='NEW' or value=='-'):\n",
    "        return np.nan\n",
    "    # else split the value for example \n",
    "    else:\n",
    "        # \"3.3/5\" will split it into 3.3 amd /5 ...  value=[3.3][/5]\n",
    "        value=str(value).split('/')\n",
    "        # 3.3 is the first element of the the list so we'll excess it by using value[0]\n",
    "        value=value[0]\n",
    "        # return it by converting it from string to float\n",
    "        return float(value)\n",
    "\n",
    "# apply the function on df.rate    \n",
    "df.rate=df['rate'].apply(handlerate)\n",
    "df.rate.head()"
   ],
   "metadata": {
    "execution": {
     "iopub.status.busy": "2022-07-21T09:09:31.910120Z",
     "iopub.execute_input": "2022-07-21T09:09:31.910532Z",
     "iopub.status.idle": "2022-07-21T09:09:31.968143Z",
     "shell.execute_reply.started": "2022-07-21T09:09:31.910496Z",
     "shell.execute_reply": "2022-07-21T09:09:31.967044Z"
    },
    "trusted": true,
    "ExecuteTime": {
     "end_time": "2023-09-15T09:57:39.206816Z",
     "start_time": "2023-09-15T09:57:39.118914200Z"
    }
   },
   "execution_count": 10,
   "outputs": [
    {
     "data": {
      "text/plain": "0    4.1\n1    4.1\n2    3.8\n3    3.7\n4    3.8\nName: rate, dtype: float64"
     },
     "execution_count": 10,
     "metadata": {},
     "output_type": "execute_result"
    }
   ]
  },
  {
   "cell_type": "code",
   "source": [
    "df.rate.isnull().sum()"
   ],
   "metadata": {
    "execution": {
     "iopub.status.busy": "2022-07-21T09:09:31.969362Z",
     "iopub.execute_input": "2022-07-21T09:09:31.969663Z",
     "iopub.status.idle": "2022-07-21T09:09:31.976527Z",
     "shell.execute_reply.started": "2022-07-21T09:09:31.969636Z",
     "shell.execute_reply": "2022-07-21T09:09:31.975641Z"
    },
    "trusted": true,
    "ExecuteTime": {
     "end_time": "2023-09-15T09:57:51.368341300Z",
     "start_time": "2023-09-15T09:57:51.255381400Z"
    }
   },
   "execution_count": 11,
   "outputs": [
    {
     "data": {
      "text/plain": "10019"
     },
     "execution_count": 11,
     "metadata": {},
     "output_type": "execute_result"
    }
   ]
  },
  {
   "cell_type": "markdown",
   "source": [
    "## Dealing with NULL values\n",
    "we will fill null values with the average rating"
   ],
   "metadata": {}
  },
  {
   "cell_type": "code",
   "source": [
    "# df.filling is used to fill NaN values & we have filled them with the mean values of rating\n",
    "df.rate.fillna(df.rate.mean(), inplace=True)\n",
    "\n",
    "# check is any null values left\n",
    "df.rate.isnull().sum()"
   ],
   "metadata": {
    "execution": {
     "iopub.status.busy": "2022-07-21T09:09:31.977376Z",
     "iopub.execute_input": "2022-07-21T09:09:31.977921Z",
     "iopub.status.idle": "2022-07-21T09:09:31.990134Z",
     "shell.execute_reply.started": "2022-07-21T09:09:31.977886Z",
     "shell.execute_reply": "2022-07-21T09:09:31.989372Z"
    },
    "trusted": true,
    "ExecuteTime": {
     "end_time": "2023-09-15T09:58:33.869445800Z",
     "start_time": "2023-09-15T09:58:33.788374500Z"
    }
   },
   "execution_count": 12,
   "outputs": [
    {
     "data": {
      "text/plain": "0"
     },
     "execution_count": 12,
     "metadata": {},
     "output_type": "execute_result"
    }
   ]
  },
  {
   "cell_type": "markdown",
   "source": [
    "### NULL values of other columns can't be predicted as they are strings so we will drop them"
   ],
   "metadata": {}
  },
  {
   "cell_type": "code",
   "source": [
    "df.dropna(inplace=True)\n",
    "df.head()"
   ],
   "metadata": {
    "execution": {
     "iopub.status.busy": "2022-07-21T09:09:31.991034Z",
     "iopub.execute_input": "2022-07-21T09:09:31.991386Z",
     "iopub.status.idle": "2022-07-21T09:09:32.038105Z",
     "shell.execute_reply.started": "2022-07-21T09:09:31.991358Z",
     "shell.execute_reply": "2022-07-21T09:09:32.037068Z"
    },
    "trusted": true
   },
   "execution_count": null,
   "outputs": []
  },
  {
   "cell_type": "code",
   "source": [
    "## No null value left now\n",
    "df.isnull().sum()"
   ],
   "metadata": {
    "execution": {
     "iopub.status.busy": "2022-07-21T09:09:32.039398Z",
     "iopub.execute_input": "2022-07-21T09:09:32.039772Z",
     "iopub.status.idle": "2022-07-21T09:09:32.077070Z",
     "shell.execute_reply.started": "2022-07-21T09:09:32.039738Z",
     "shell.execute_reply": "2022-07-21T09:09:32.075811Z"
    },
    "trusted": true,
    "ExecuteTime": {
     "end_time": "2023-09-15T09:59:20.979204900Z",
     "start_time": "2023-09-15T09:59:20.883373300Z"
    }
   },
   "execution_count": 13,
   "outputs": [
    {
     "data": {
      "text/plain": "name                             0\nonline_order                     0\nbook_table                       0\nrate                             0\nvotes                            0\nlocation                        21\nrest_type                      227\ncuisines                        45\napprox_cost(for two people)    344\nlisted_in(type)                  0\nlisted_in(city)                  0\ndtype: int64"
     },
     "execution_count": 13,
     "metadata": {},
     "output_type": "execute_result"
    }
   ]
  },
  {
   "cell_type": "markdown",
   "source": [
    "## Cost columns Analysis"
   ],
   "metadata": {}
  },
  {
   "cell_type": "code",
   "source": [
    "# As name of the column is very long we will simply change it\n",
    "df.rename(columns = {'approx_cost(for two people)':'Cost2Plates','listed_in(type)':'Type'},inplace=True)\n",
    "df.head()\n",
    "\n",
    "# city and location both contain address so dropping one"
   ],
   "metadata": {
    "execution": {
     "iopub.status.busy": "2022-07-21T09:09:32.078499Z",
     "iopub.execute_input": "2022-07-21T09:09:32.079518Z",
     "iopub.status.idle": "2022-07-21T09:09:32.096440Z",
     "shell.execute_reply.started": "2022-07-21T09:09:32.079483Z",
     "shell.execute_reply": "2022-07-21T09:09:32.095462Z"
    },
    "trusted": true,
    "ExecuteTime": {
     "end_time": "2023-09-15T10:00:11.264691100Z",
     "start_time": "2023-09-15T10:00:11.214628900Z"
    }
   },
   "execution_count": 14,
   "outputs": [
    {
     "data": {
      "text/plain": "                    name online_order book_table  rate  votes      location  \\\n0                  Jalsa          Yes        Yes   4.1    775  Banashankari   \n1         Spice Elephant          Yes         No   4.1    787  Banashankari   \n2        San Churro Cafe          Yes         No   3.8    918  Banashankari   \n3  Addhuri Udupi Bhojana           No         No   3.7     88  Banashankari   \n4          Grand Village           No         No   3.8    166  Basavanagudi   \n\n             rest_type                        cuisines Cost2Plates    Type  \\\n0        Casual Dining  North Indian, Mughlai, Chinese         800  Buffet   \n1        Casual Dining     Chinese, North Indian, Thai         800  Buffet   \n2  Cafe, Casual Dining          Cafe, Mexican, Italian         800  Buffet   \n3          Quick Bites      South Indian, North Indian         300  Buffet   \n4        Casual Dining        North Indian, Rajasthani         600  Buffet   \n\n  listed_in(city)  \n0    Banashankari  \n1    Banashankari  \n2    Banashankari  \n3    Banashankari  \n4    Banashankari  ",
      "text/html": "<div>\n<style scoped>\n    .dataframe tbody tr th:only-of-type {\n        vertical-align: middle;\n    }\n\n    .dataframe tbody tr th {\n        vertical-align: top;\n    }\n\n    .dataframe thead th {\n        text-align: right;\n    }\n</style>\n<table border=\"1\" class=\"dataframe\">\n  <thead>\n    <tr style=\"text-align: right;\">\n      <th></th>\n      <th>name</th>\n      <th>online_order</th>\n      <th>book_table</th>\n      <th>rate</th>\n      <th>votes</th>\n      <th>location</th>\n      <th>rest_type</th>\n      <th>cuisines</th>\n      <th>Cost2Plates</th>\n      <th>Type</th>\n      <th>listed_in(city)</th>\n    </tr>\n  </thead>\n  <tbody>\n    <tr>\n      <th>0</th>\n      <td>Jalsa</td>\n      <td>Yes</td>\n      <td>Yes</td>\n      <td>4.1</td>\n      <td>775</td>\n      <td>Banashankari</td>\n      <td>Casual Dining</td>\n      <td>North Indian, Mughlai, Chinese</td>\n      <td>800</td>\n      <td>Buffet</td>\n      <td>Banashankari</td>\n    </tr>\n    <tr>\n      <th>1</th>\n      <td>Spice Elephant</td>\n      <td>Yes</td>\n      <td>No</td>\n      <td>4.1</td>\n      <td>787</td>\n      <td>Banashankari</td>\n      <td>Casual Dining</td>\n      <td>Chinese, North Indian, Thai</td>\n      <td>800</td>\n      <td>Buffet</td>\n      <td>Banashankari</td>\n    </tr>\n    <tr>\n      <th>2</th>\n      <td>San Churro Cafe</td>\n      <td>Yes</td>\n      <td>No</td>\n      <td>3.8</td>\n      <td>918</td>\n      <td>Banashankari</td>\n      <td>Cafe, Casual Dining</td>\n      <td>Cafe, Mexican, Italian</td>\n      <td>800</td>\n      <td>Buffet</td>\n      <td>Banashankari</td>\n    </tr>\n    <tr>\n      <th>3</th>\n      <td>Addhuri Udupi Bhojana</td>\n      <td>No</td>\n      <td>No</td>\n      <td>3.7</td>\n      <td>88</td>\n      <td>Banashankari</td>\n      <td>Quick Bites</td>\n      <td>South Indian, North Indian</td>\n      <td>300</td>\n      <td>Buffet</td>\n      <td>Banashankari</td>\n    </tr>\n    <tr>\n      <th>4</th>\n      <td>Grand Village</td>\n      <td>No</td>\n      <td>No</td>\n      <td>3.8</td>\n      <td>166</td>\n      <td>Basavanagudi</td>\n      <td>Casual Dining</td>\n      <td>North Indian, Rajasthani</td>\n      <td>600</td>\n      <td>Buffet</td>\n      <td>Banashankari</td>\n    </tr>\n  </tbody>\n</table>\n</div>"
     },
     "execution_count": 14,
     "metadata": {},
     "output_type": "execute_result"
    }
   ]
  },
  {
   "cell_type": "code",
   "source": [
    "## City and Location both contain address so Dropping one\n",
    "df=df.drop(['listed_in(city)'],axis=1)\n",
    "df.head()"
   ],
   "metadata": {
    "execution": {
     "iopub.status.busy": "2022-07-21T09:09:32.097760Z",
     "iopub.execute_input": "2022-07-21T09:09:32.098285Z",
     "iopub.status.idle": "2022-07-21T09:09:32.124106Z",
     "shell.execute_reply.started": "2022-07-21T09:09:32.098253Z",
     "shell.execute_reply": "2022-07-21T09:09:32.123351Z"
    },
    "trusted": true,
    "ExecuteTime": {
     "end_time": "2023-09-15T10:00:43.244952400Z",
     "start_time": "2023-09-15T10:00:43.140427Z"
    }
   },
   "execution_count": 15,
   "outputs": [
    {
     "data": {
      "text/plain": "                    name online_order book_table  rate  votes      location  \\\n0                  Jalsa          Yes        Yes   4.1    775  Banashankari   \n1         Spice Elephant          Yes         No   4.1    787  Banashankari   \n2        San Churro Cafe          Yes         No   3.8    918  Banashankari   \n3  Addhuri Udupi Bhojana           No         No   3.7     88  Banashankari   \n4          Grand Village           No         No   3.8    166  Basavanagudi   \n\n             rest_type                        cuisines Cost2Plates    Type  \n0        Casual Dining  North Indian, Mughlai, Chinese         800  Buffet  \n1        Casual Dining     Chinese, North Indian, Thai         800  Buffet  \n2  Cafe, Casual Dining          Cafe, Mexican, Italian         800  Buffet  \n3          Quick Bites      South Indian, North Indian         300  Buffet  \n4        Casual Dining        North Indian, Rajasthani         600  Buffet  ",
      "text/html": "<div>\n<style scoped>\n    .dataframe tbody tr th:only-of-type {\n        vertical-align: middle;\n    }\n\n    .dataframe tbody tr th {\n        vertical-align: top;\n    }\n\n    .dataframe thead th {\n        text-align: right;\n    }\n</style>\n<table border=\"1\" class=\"dataframe\">\n  <thead>\n    <tr style=\"text-align: right;\">\n      <th></th>\n      <th>name</th>\n      <th>online_order</th>\n      <th>book_table</th>\n      <th>rate</th>\n      <th>votes</th>\n      <th>location</th>\n      <th>rest_type</th>\n      <th>cuisines</th>\n      <th>Cost2Plates</th>\n      <th>Type</th>\n    </tr>\n  </thead>\n  <tbody>\n    <tr>\n      <th>0</th>\n      <td>Jalsa</td>\n      <td>Yes</td>\n      <td>Yes</td>\n      <td>4.1</td>\n      <td>775</td>\n      <td>Banashankari</td>\n      <td>Casual Dining</td>\n      <td>North Indian, Mughlai, Chinese</td>\n      <td>800</td>\n      <td>Buffet</td>\n    </tr>\n    <tr>\n      <th>1</th>\n      <td>Spice Elephant</td>\n      <td>Yes</td>\n      <td>No</td>\n      <td>4.1</td>\n      <td>787</td>\n      <td>Banashankari</td>\n      <td>Casual Dining</td>\n      <td>Chinese, North Indian, Thai</td>\n      <td>800</td>\n      <td>Buffet</td>\n    </tr>\n    <tr>\n      <th>2</th>\n      <td>San Churro Cafe</td>\n      <td>Yes</td>\n      <td>No</td>\n      <td>3.8</td>\n      <td>918</td>\n      <td>Banashankari</td>\n      <td>Cafe, Casual Dining</td>\n      <td>Cafe, Mexican, Italian</td>\n      <td>800</td>\n      <td>Buffet</td>\n    </tr>\n    <tr>\n      <th>3</th>\n      <td>Addhuri Udupi Bhojana</td>\n      <td>No</td>\n      <td>No</td>\n      <td>3.7</td>\n      <td>88</td>\n      <td>Banashankari</td>\n      <td>Quick Bites</td>\n      <td>South Indian, North Indian</td>\n      <td>300</td>\n      <td>Buffet</td>\n    </tr>\n    <tr>\n      <th>4</th>\n      <td>Grand Village</td>\n      <td>No</td>\n      <td>No</td>\n      <td>3.8</td>\n      <td>166</td>\n      <td>Basavanagudi</td>\n      <td>Casual Dining</td>\n      <td>North Indian, Rajasthani</td>\n      <td>600</td>\n      <td>Buffet</td>\n    </tr>\n  </tbody>\n</table>\n</div>"
     },
     "execution_count": 15,
     "metadata": {},
     "output_type": "execute_result"
    }
   ]
  },
  {
   "cell_type": "markdown",
   "source": [
    "## Analysing cost2plates column"
   ],
   "metadata": {}
  },
  {
   "cell_type": "code",
   "source": [
    "df.Cost2Plates.unique()"
   ],
   "metadata": {
    "execution": {
     "iopub.status.busy": "2022-07-21T09:09:32.125145Z",
     "iopub.execute_input": "2022-07-21T09:09:32.125747Z",
     "iopub.status.idle": "2022-07-21T09:09:32.135260Z",
     "shell.execute_reply.started": "2022-07-21T09:09:32.125707Z",
     "shell.execute_reply": "2022-07-21T09:09:32.134020Z"
    },
    "trusted": true,
    "ExecuteTime": {
     "end_time": "2023-09-15T10:28:39.913174Z",
     "start_time": "2023-09-15T10:28:39.845902500Z"
    }
   },
   "execution_count": 16,
   "outputs": [
    {
     "data": {
      "text/plain": "array(['800', '300', '600', '700', '550', '500', '450', '650', '400',\n       '900', '200', '750', '150', '850', '100', '1,200', '350', '250',\n       '950', '1,000', '1,500', '1,300', '199', '80', '1,100', '160',\n       '1,600', '230', '130', '50', '190', '1,700', nan, '1,400', '180',\n       '1,350', '2,200', '2,000', '1,800', '1,900', '330', '2,500',\n       '2,100', '3,000', '2,800', '3,400', '40', '1,250', '3,500',\n       '4,000', '2,400', '2,600', '120', '1,450', '469', '70', '3,200',\n       '60', '560', '240', '360', '6,000', '1,050', '2,300', '4,100',\n       '5,000', '3,700', '1,650', '2,700', '4,500', '140'], dtype=object)"
     },
     "execution_count": 16,
     "metadata": {},
     "output_type": "execute_result"
    }
   ]
  },
  {
   "cell_type": "markdown",
   "source": [
    "#### We can see values grater than 99 have \",\" in it\n",
    "For example: 9,945  but we need values in int forms example: 9945\n"
   ],
   "metadata": {}
  },
  {
   "cell_type": "markdown",
   "source": [
    "# Function to remove the ',' and converting it into float"
   ],
   "metadata": {}
  },
  {
   "cell_type": "code",
   "source": [
    "def handlecost(value):\n",
    "    value=str(value)\n",
    "    if ',' in value:\n",
    "        # we are simpling Replacing \",\" With no value \"\"\n",
    "        value= value.replace(',','')\n",
    "        return float(value)\n",
    "    else:\n",
    "        return float(value)\n",
    "    \n",
    "df.Cost2Plates=df.Cost2Plates.apply(handlecost)\n",
    "df.Cost2Plates.unique()"
   ],
   "metadata": {
    "execution": {
     "iopub.status.busy": "2022-07-21T09:09:32.137131Z",
     "iopub.execute_input": "2022-07-21T09:09:32.138359Z",
     "iopub.status.idle": "2022-07-21T09:09:32.181104Z",
     "shell.execute_reply.started": "2022-07-21T09:09:32.138322Z",
     "shell.execute_reply": "2022-07-21T09:09:32.180057Z"
    },
    "trusted": true
   },
   "execution_count": null,
   "outputs": []
  },
  {
   "cell_type": "code",
   "source": [
    "df.head()"
   ],
   "metadata": {
    "execution": {
     "iopub.status.busy": "2022-07-21T09:09:32.182359Z",
     "iopub.execute_input": "2022-07-21T09:09:32.182664Z",
     "iopub.status.idle": "2022-07-21T09:09:32.197294Z",
     "shell.execute_reply.started": "2022-07-21T09:09:32.182637Z",
     "shell.execute_reply": "2022-07-21T09:09:32.196500Z"
    },
    "trusted": true
   },
   "execution_count": null,
   "outputs": []
  },
  {
   "cell_type": "markdown",
   "source": [
    "# Analysing rest_type Column"
   ],
   "metadata": {}
  },
  {
   "cell_type": "code",
   "source": [
    "# This function return how many times a values is coming in dataframe\n",
    "# For example quick Bites types of resturents are coming 19010 times\n",
    "df.rest_type.value_counts()"
   ],
   "metadata": {
    "execution": {
     "iopub.status.busy": "2022-07-21T09:09:32.198400Z",
     "iopub.execute_input": "2022-07-21T09:09:32.199230Z",
     "iopub.status.idle": "2022-07-21T09:09:32.219180Z",
     "shell.execute_reply.started": "2022-07-21T09:09:32.199200Z",
     "shell.execute_reply": "2022-07-21T09:09:32.218128Z"
    },
    "trusted": true
   },
   "execution_count": null,
   "outputs": []
  },
  {
   "cell_type": "markdown",
   "source": [
    "# Creating new category\n",
    "##### The resturent types that have low occurance, we will club them together to a category called \"others\n",
    "\n",
    "##### For example Dessert parlor is coming only 2 times so we with define it as other type of resturent"
   ],
   "metadata": {}
  },
  {
   "cell_type": "code",
   "source": [
    "rest_types=df.rest_type.value_counts()\n",
    "# Storing all the resturent types that have accured less than 1000 times in the dataframes\n",
    "rest_type_lessthan_1000=rest_types[rest_types<1000]\n",
    "rest_type_lessthan_1000"
   ],
   "metadata": {
    "execution": {
     "iopub.status.busy": "2022-07-21T09:09:32.220594Z",
     "iopub.execute_input": "2022-07-21T09:09:32.221131Z",
     "iopub.status.idle": "2022-07-21T09:09:32.236656Z",
     "shell.execute_reply.started": "2022-07-21T09:09:32.221096Z",
     "shell.execute_reply": "2022-07-21T09:09:32.235729Z"
    },
    "trusted": true
   },
   "execution_count": null,
   "outputs": []
  },
  {
   "cell_type": "markdown",
   "source": [
    "# as lots of types have few resaturants we will add them in Other"
   ],
   "metadata": {}
  },
  {
   "cell_type": "code",
   "source": [
    "def handle_rest_type(value):\n",
    "    # if value is in the list then change it to other\n",
    "    if(value in rest_type_lessthan_1000):\n",
    "        return 'others'\n",
    "    else:\n",
    "        return value\n",
    "    \n",
    "df.rest_type=df.rest_type.apply(handle_rest_type)\n",
    "df.rest_type.value_counts()"
   ],
   "metadata": {
    "execution": {
     "iopub.status.busy": "2022-07-21T09:09:32.238226Z",
     "iopub.execute_input": "2022-07-21T09:09:32.238789Z",
     "iopub.status.idle": "2022-07-21T09:09:32.302645Z",
     "shell.execute_reply.started": "2022-07-21T09:09:32.238755Z",
     "shell.execute_reply": "2022-07-21T09:09:32.301639Z"
    },
    "trusted": true
   },
   "execution_count": null,
   "outputs": []
  },
  {
   "cell_type": "code",
   "source": [
    "df.head()"
   ],
   "metadata": {
    "execution": {
     "iopub.status.busy": "2022-07-21T09:09:32.303884Z",
     "iopub.execute_input": "2022-07-21T09:09:32.304203Z",
     "iopub.status.idle": "2022-07-21T09:09:32.320543Z",
     "shell.execute_reply.started": "2022-07-21T09:09:32.304174Z",
     "shell.execute_reply": "2022-07-21T09:09:32.319475Z"
    },
    "trusted": true
   },
   "execution_count": null,
   "outputs": []
  },
  {
   "cell_type": "markdown",
   "source": [
    "# Analyse the Location Column"
   ],
   "metadata": {}
  },
  {
   "cell_type": "code",
   "source": [
    "df.location.value_counts()"
   ],
   "metadata": {
    "execution": {
     "iopub.status.busy": "2022-07-21T09:09:32.322133Z",
     "iopub.execute_input": "2022-07-21T09:09:32.322493Z",
     "iopub.status.idle": "2022-07-21T09:09:32.337735Z",
     "shell.execute_reply.started": "2022-07-21T09:09:32.322462Z",
     "shell.execute_reply": "2022-07-21T09:09:32.336769Z"
    },
    "trusted": true
   },
   "execution_count": null,
   "outputs": []
  },
  {
   "cell_type": "markdown",
   "source": [
    "# Doing same thing what we did with Resturent types"
   ],
   "metadata": {}
  },
  {
   "cell_type": "code",
   "source": [
    "locations = df.location.value_counts()\n",
    "location_less_than_500= locations[locations<500]\n",
    "location_less_than_500\n",
    "\n",
    "# make function to handle the location less thn 500\n",
    "def handle_location(value):\n",
    "    if value in location_less_than_500 :\n",
    "        return 'others'\n",
    "    else:\n",
    "        return value\n",
    "    \n",
    "df.location=df.location.apply(handle_location)\n",
    "df.location.value_counts()"
   ],
   "metadata": {
    "execution": {
     "iopub.status.busy": "2022-07-21T09:09:32.339170Z",
     "iopub.execute_input": "2022-07-21T09:09:32.339828Z",
     "iopub.status.idle": "2022-07-21T09:09:32.403270Z",
     "shell.execute_reply.started": "2022-07-21T09:09:32.339791Z",
     "shell.execute_reply": "2022-07-21T09:09:32.402509Z"
    },
    "trusted": true
   },
   "execution_count": null,
   "outputs": []
  },
  {
   "cell_type": "code",
   "source": [
    "df.head()"
   ],
   "metadata": {
    "execution": {
     "iopub.status.busy": "2022-07-21T09:09:32.404312Z",
     "iopub.execute_input": "2022-07-21T09:09:32.405124Z",
     "iopub.status.idle": "2022-07-21T09:09:32.419899Z",
     "shell.execute_reply.started": "2022-07-21T09:09:32.405090Z",
     "shell.execute_reply": "2022-07-21T09:09:32.418679Z"
    },
    "trusted": true
   },
   "execution_count": null,
   "outputs": []
  },
  {
   "cell_type": "markdown",
   "source": [
    "# Analysing cusines coulmn"
   ],
   "metadata": {}
  },
  {
   "cell_type": "code",
   "source": [
    "cuisiness = df.cuisines.value_counts()\n",
    "cuisiness_less_than_100= cuisiness[cuisiness<100]\n",
    "#cuisiness_less_than_100\n",
    "\n",
    "# make function to handle the location less thn 500\n",
    "def handle_cuisiness(value):\n",
    "    if value in cuisiness_less_than_100:\n",
    "        return 'others'\n",
    "    else:\n",
    "        return value\n",
    "    \n",
    "df.cuisines=df.cuisines.apply(handle_cuisiness)\n",
    "df.cuisines.value_counts()"
   ],
   "metadata": {
    "execution": {
     "iopub.status.busy": "2022-07-21T09:09:32.421603Z",
     "iopub.execute_input": "2022-07-21T09:09:32.422079Z",
     "iopub.status.idle": "2022-07-21T09:09:32.491694Z",
     "shell.execute_reply.started": "2022-07-21T09:09:32.422035Z",
     "shell.execute_reply": "2022-07-21T09:09:32.490600Z"
    },
    "trusted": true
   },
   "execution_count": null,
   "outputs": []
  },
  {
   "cell_type": "markdown",
   "source": [
    "# Analysing types column"
   ],
   "metadata": {}
  },
  {
   "cell_type": "code",
   "source": [
    "df.Type.value_counts()\n"
   ],
   "metadata": {
    "execution": {
     "iopub.status.busy": "2022-07-21T09:09:32.496909Z",
     "iopub.execute_input": "2022-07-21T09:09:32.497468Z",
     "iopub.status.idle": "2022-07-21T09:09:32.507379Z",
     "shell.execute_reply.started": "2022-07-21T09:09:32.497431Z",
     "shell.execute_reply": "2022-07-21T09:09:32.506547Z"
    },
    "trusted": true
   },
   "execution_count": null,
   "outputs": []
  },
  {
   "cell_type": "markdown",
   "source": [
    "#### DF.Type is already very clean"
   ],
   "metadata": {}
  },
  {
   "cell_type": "markdown",
   "source": [
    "#  Data is cleaned now we can start Visualization ##"
   ],
   "metadata": {}
  },
  {
   "cell_type": "markdown",
   "source": [
    "![](https://i.gifer.com/ZEVP.gif)"
   ],
   "metadata": {}
  },
  {
   "cell_type": "markdown",
   "source": [
    "# Data Visualization"
   ],
   "metadata": {}
  },
  {
   "cell_type": "markdown",
   "source": [
    "### Visualizing the location"
   ],
   "metadata": {}
  },
  {
   "cell_type": "code",
   "source": [
    "# Count plot is used to count the total values for a row\n",
    "# for example it is showing there are 5000+ resturent in BTM\n",
    "plt.figure(figsize=(22,8))\n",
    "ax= sns.countplot(df['location'])\n",
    "plt.xticks(rotation=90) #rotate the lable so the dont overlap\n",
    "plt.show()"
   ],
   "metadata": {
    "execution": {
     "iopub.status.busy": "2022-07-21T09:09:32.508555Z",
     "iopub.execute_input": "2022-07-21T09:09:32.508989Z",
     "iopub.status.idle": "2022-07-21T09:09:33.011385Z",
     "shell.execute_reply.started": "2022-07-21T09:09:32.508961Z",
     "shell.execute_reply": "2022-07-21T09:09:33.010328Z"
    },
    "trusted": true
   },
   "execution_count": null,
   "outputs": []
  },
  {
   "cell_type": "markdown",
   "source": [
    "### Visualizing the Online order"
   ],
   "metadata": {}
  },
  {
   "cell_type": "code",
   "source": [
    "# Showing how many resturent have Online Order Facility\n",
    "plt.figure(figsize=(6,6))\n",
    "sns.countplot(df.online_order)"
   ],
   "metadata": {
    "execution": {
     "iopub.status.busy": "2022-07-21T09:09:33.012749Z",
     "iopub.execute_input": "2022-07-21T09:09:33.013951Z",
     "iopub.status.idle": "2022-07-21T09:09:33.209918Z",
     "shell.execute_reply.started": "2022-07-21T09:09:33.013905Z",
     "shell.execute_reply": "2022-07-21T09:09:33.208695Z"
    },
    "trusted": true
   },
   "execution_count": null,
   "outputs": []
  },
  {
   "cell_type": "markdown",
   "source": [
    "### Visualizing the Book Table"
   ],
   "metadata": {}
  },
  {
   "cell_type": "code",
   "source": [
    "# Showing how many resturent have Book Table Facility\n",
    "plt.figure(figsize=(6,6))\n",
    "sns.countplot(df.book_table)"
   ],
   "metadata": {
    "execution": {
     "iopub.status.busy": "2022-07-21T09:09:33.211287Z",
     "iopub.execute_input": "2022-07-21T09:09:33.211634Z",
     "iopub.status.idle": "2022-07-21T09:09:33.378419Z",
     "shell.execute_reply.started": "2022-07-21T09:09:33.211604Z",
     "shell.execute_reply": "2022-07-21T09:09:33.377331Z"
    },
    "trusted": true
   },
   "execution_count": null,
   "outputs": []
  },
  {
   "cell_type": "markdown",
   "source": [
    "## Visualization online order vs rate\n",
    "\n",
    "#### To compare to columns we ofter use Boxplot, Barplot,ScatterPLot, Violinplot\n",
    "\n",
    "#### Here is the link for all type of plot [Types of Plots](https://towardsdatascience.com/14-data-visualization-plots-of-seaborn-14a7bdd16cd7)"
   ],
   "metadata": {}
  },
  {
   "cell_type": "code",
   "source": [
    "# TO Violinplot is used to to find value as well as distribution\n",
    "plt.figure(figsize=(6,6))\n",
    "sns.violinplot(x='online_order', y='rate', data=df)"
   ],
   "metadata": {
    "execution": {
     "iopub.status.busy": "2022-07-21T09:13:23.387047Z",
     "iopub.execute_input": "2022-07-21T09:13:23.387415Z",
     "iopub.status.idle": "2022-07-21T09:13:23.774434Z",
     "shell.execute_reply.started": "2022-07-21T09:13:23.387387Z",
     "shell.execute_reply": "2022-07-21T09:13:23.771674Z"
    },
    "trusted": true
   },
   "execution_count": null,
   "outputs": []
  },
  {
   "cell_type": "markdown",
   "source": [
    "# Visualization Book table vs rate"
   ],
   "metadata": {}
  },
  {
   "cell_type": "markdown",
   "source": [
    "#### Boxplot is also used to find the outliers of the data, While traing a ML model"
   ],
   "metadata": {}
  },
  {
   "cell_type": "code",
   "source": [
    "plt.figure(figsize=(6,6))\n",
    "sns.boxplot(x='book_table', y='rate', data=df)"
   ],
   "metadata": {
    "execution": {
     "iopub.status.busy": "2022-07-21T09:13:28.005988Z",
     "iopub.execute_input": "2022-07-21T09:13:28.007204Z",
     "iopub.status.idle": "2022-07-21T09:13:28.166566Z",
     "shell.execute_reply.started": "2022-07-21T09:13:28.007151Z",
     "shell.execute_reply": "2022-07-21T09:13:28.165381Z"
    },
    "trusted": true
   },
   "execution_count": null,
   "outputs": []
  },
  {
   "cell_type": "markdown",
   "source": [
    "# Visualization online order vs locatione"
   ],
   "metadata": {}
  },
  {
   "cell_type": "markdown",
   "source": [
    "#### For this we have to learn how to group the DATA"
   ],
   "metadata": {}
  },
  {
   "cell_type": "markdown",
   "source": [
    "### I want to see how many resturent provide online order based on location\n",
    "#### step 1: First Thing I will do is to group the dataframe with location and online order===> df.grpupby['loaction','online_order'])\n",
    "#### Step 2: After grouping we will select the parameter on which we will apply function such as count(),avg() ===> df.grpupby['loaction','online_order'])['name']\n",
    "#### Step 3: At last we select the function we want to apply, In this case we need to find no. of resturents so we will use count() ===> df.grpupby['loaction','online_order'])['name'].count()"
   ],
   "metadata": {}
  },
  {
   "cell_type": "code",
   "source": [
    "# we want to find average rating of data based on location, than we will write ==>  df.groupby(['location'])['rating'].mean()\n",
    "# Grouped the data here\n",
    "\n",
    "df1=df.groupby(['location','online_order'])['name'].count()\n",
    "\n",
    "# To plot the data we nwwd to do these steps\n",
    "# Save the new data frame in csv formate\n",
    "df1.to_csv('location_online.csv')\n",
    "# read the data frame\n",
    "df1=pd.read_csv('location_online.csv')\n",
    "# create a pivote table with location as index and online order as column\n",
    "df1=pd.pivot_table(df1, values=None,index='location',columns='online_order',fill_value=0,aggfunc=np.sum)\n",
    "# Table will look like this\n",
    "df1"
   ],
   "metadata": {
    "execution": {
     "iopub.status.busy": "2022-07-21T09:13:30.626153Z",
     "iopub.execute_input": "2022-07-21T09:13:30.627207Z",
     "iopub.status.idle": "2022-07-21T09:13:30.673274Z",
     "shell.execute_reply.started": "2022-07-21T09:13:30.627169Z",
     "shell.execute_reply": "2022-07-21T09:13:30.672032Z"
    },
    "trusted": true
   },
   "execution_count": null,
   "outputs": []
  },
  {
   "cell_type": "markdown",
   "source": [
    "#### We will use bar plot to see the online order facility of different loacations\n"
   ],
   "metadata": {}
  },
  {
   "cell_type": "code",
   "source": [
    "df1.plot(kind='bar', figsize=(15,6))"
   ],
   "metadata": {
    "execution": {
     "iopub.status.busy": "2022-07-21T09:13:34.220805Z",
     "iopub.execute_input": "2022-07-21T09:13:34.221193Z",
     "iopub.status.idle": "2022-07-21T09:13:34.677170Z",
     "shell.execute_reply.started": "2022-07-21T09:13:34.221160Z",
     "shell.execute_reply": "2022-07-21T09:13:34.676135Z"
    },
    "trusted": true
   },
   "execution_count": null,
   "outputs": []
  },
  {
   "cell_type": "markdown",
   "source": [
    "# Visualization Book table vs location"
   ],
   "metadata": {}
  },
  {
   "cell_type": "markdown",
   "source": [
    "#### Same Process we did above"
   ],
   "metadata": {}
  },
  {
   "cell_type": "code",
   "source": [
    "df2=df.groupby(['book_table','location'])['name'].count()\n",
    "df2.to_csv('book_table.csv')\n",
    "df2=pd.read_csv('book_table.csv')\n",
    "df2=pd.pivot_table(df2, values=None,index='location',columns='book_table',fill_value=0,aggfunc=np.sum)\n",
    "df2"
   ],
   "metadata": {
    "execution": {
     "iopub.status.busy": "2022-07-21T09:13:37.845998Z",
     "iopub.execute_input": "2022-07-21T09:13:37.846391Z",
     "iopub.status.idle": "2022-07-21T09:13:37.883098Z",
     "shell.execute_reply.started": "2022-07-21T09:13:37.846359Z",
     "shell.execute_reply": "2022-07-21T09:13:37.882270Z"
    },
    "trusted": true
   },
   "execution_count": null,
   "outputs": []
  },
  {
   "cell_type": "code",
   "source": [
    "df2.plot(kind='bar', figsize=(15,6))"
   ],
   "metadata": {
    "execution": {
     "iopub.status.busy": "2022-07-21T09:13:41.795848Z",
     "iopub.execute_input": "2022-07-21T09:13:41.796241Z",
     "iopub.status.idle": "2022-07-21T09:13:42.293602Z",
     "shell.execute_reply.started": "2022-07-21T09:13:41.796206Z",
     "shell.execute_reply": "2022-07-21T09:13:42.292377Z"
    },
    "trusted": true
   },
   "execution_count": null,
   "outputs": []
  },
  {
   "cell_type": "markdown",
   "source": [
    "# Visualization types of resturent vs rate"
   ],
   "metadata": {}
  },
  {
   "cell_type": "markdown",
   "source": [
    "### Again Box plot is used to compare the two columns"
   ],
   "metadata": {}
  },
  {
   "cell_type": "code",
   "source": [
    "plt.figure(figsize=(14,8))\n",
    "sns.boxplot(x = 'Type', y='rate', data=df, palette='inferno')"
   ],
   "metadata": {
    "execution": {
     "iopub.status.busy": "2022-07-21T09:13:45.791012Z",
     "iopub.execute_input": "2022-07-21T09:13:45.791857Z",
     "iopub.status.idle": "2022-07-21T09:13:46.087740Z",
     "shell.execute_reply.started": "2022-07-21T09:13:45.791804Z",
     "shell.execute_reply": "2022-07-21T09:13:46.086676Z"
    },
    "trusted": true
   },
   "execution_count": null,
   "outputs": []
  },
  {
   "cell_type": "markdown",
   "source": [
    "# Visualization Types of rest vs location"
   ],
   "metadata": {}
  },
  {
   "cell_type": "code",
   "source": [
    "df3=df.groupby(['Type','location'])['name'].count()\n",
    "df3.to_csv('book_table.csv')\n",
    "df3=pd.read_csv('book_table.csv')\n",
    "df3=pd.pivot_table(df3, values=None,index='location',columns='Type',fill_value=0,aggfunc=np.sum)\n",
    "df3"
   ],
   "metadata": {
    "execution": {
     "iopub.status.busy": "2022-07-21T09:13:51.446188Z",
     "iopub.execute_input": "2022-07-21T09:13:51.447240Z",
     "iopub.status.idle": "2022-07-21T09:13:51.493056Z",
     "shell.execute_reply.started": "2022-07-21T09:13:51.447185Z",
     "shell.execute_reply": "2022-07-21T09:13:51.491873Z"
    },
    "trusted": true
   },
   "execution_count": null,
   "outputs": []
  },
  {
   "cell_type": "code",
   "source": [
    "df3.plot(kind='bar', figsize=(28,6))"
   ],
   "metadata": {
    "execution": {
     "iopub.status.busy": "2022-07-21T09:13:55.705949Z",
     "iopub.execute_input": "2022-07-21T09:13:55.706999Z",
     "iopub.status.idle": "2022-07-21T09:13:56.838720Z",
     "shell.execute_reply.started": "2022-07-21T09:13:55.706961Z",
     "shell.execute_reply": "2022-07-21T09:13:56.837586Z"
    },
    "trusted": true
   },
   "execution_count": null,
   "outputs": []
  },
  {
   "cell_type": "markdown",
   "source": [
    "# Visualization votes vs location"
   ],
   "metadata": {}
  },
  {
   "cell_type": "code",
   "source": [
    "df4=df[['votes','location']]\n",
    "df4.drop_duplicates()\n",
    "df5=df4.groupby(['location'])['votes'].sum()\n",
    "df5=df5.to_frame()\n",
    "\n",
    "# we have sorted the  Data\n",
    "df5=df5.sort_values('votes',ascending=False)\n",
    "df5.head()"
   ],
   "metadata": {
    "execution": {
     "iopub.status.busy": "2022-07-21T09:14:00.615751Z",
     "iopub.execute_input": "2022-07-21T09:14:00.616127Z",
     "iopub.status.idle": "2022-07-21T09:14:00.641039Z",
     "shell.execute_reply.started": "2022-07-21T09:14:00.616097Z",
     "shell.execute_reply": "2022-07-21T09:14:00.639896Z"
    },
    "trusted": true
   },
   "execution_count": null,
   "outputs": []
  },
  {
   "cell_type": "code",
   "source": [
    "plt.figure(figsize=(22,5))\n",
    "sns.barplot(df5.index,df5.votes)\n",
    "plt.xticks(rotation=90)\n",
    "plt.show()"
   ],
   "metadata": {
    "execution": {
     "iopub.status.busy": "2022-07-21T09:14:02.926020Z",
     "iopub.execute_input": "2022-07-21T09:14:02.926471Z",
     "iopub.status.idle": "2022-07-21T09:14:03.360479Z",
     "shell.execute_reply.started": "2022-07-21T09:14:02.926435Z",
     "shell.execute_reply": "2022-07-21T09:14:03.359271Z"
    },
    "trusted": true
   },
   "execution_count": null,
   "outputs": []
  },
  {
   "cell_type": "markdown",
   "source": [
    "# Visulizing top cuisiens"
   ],
   "metadata": {}
  },
  {
   "cell_type": "markdown",
   "source": [
    "### GroupBy feature is very importent"
   ],
   "metadata": {}
  },
  {
   "cell_type": "code",
   "source": [
    "df6=df[['votes','cuisines']]\n",
    "df6.drop_duplicates()\n",
    "df7=df6.groupby(['cuisines'])['votes'].sum()\n",
    "df7=df7.to_frame()\n",
    "df7=df7.sort_values('votes',ascending=False)\n",
    "df7.head()"
   ],
   "metadata": {
    "execution": {
     "iopub.status.busy": "2022-07-21T09:14:07.795883Z",
     "iopub.execute_input": "2022-07-21T09:14:07.796275Z",
     "iopub.status.idle": "2022-07-21T09:14:07.823695Z",
     "shell.execute_reply.started": "2022-07-21T09:14:07.796235Z",
     "shell.execute_reply": "2022-07-21T09:14:07.822493Z"
    },
    "trusted": true
   },
   "execution_count": null,
   "outputs": []
  },
  {
   "cell_type": "code",
   "source": [
    "df7=df7.iloc[1:, :]\n",
    "df7.head()"
   ],
   "metadata": {
    "execution": {
     "iopub.status.busy": "2022-07-21T09:14:22.840865Z",
     "iopub.execute_input": "2022-07-21T09:14:22.841238Z",
     "iopub.status.idle": "2022-07-21T09:14:22.851459Z",
     "shell.execute_reply.started": "2022-07-21T09:14:22.841206Z",
     "shell.execute_reply": "2022-07-21T09:14:22.850383Z"
    },
    "trusted": true
   },
   "execution_count": null,
   "outputs": []
  },
  {
   "cell_type": "code",
   "source": [
    "plt.figure(figsize=(25,5))\n",
    "sns.barplot(df7.index,df7.votes)\n",
    "plt.xticks(rotation=90)\n",
    "plt.show()"
   ],
   "metadata": {
    "execution": {
     "iopub.status.busy": "2022-07-21T09:14:25.235829Z",
     "iopub.execute_input": "2022-07-21T09:14:25.236494Z",
     "iopub.status.idle": "2022-07-21T09:14:26.386509Z",
     "shell.execute_reply.started": "2022-07-21T09:14:25.236460Z",
     "shell.execute_reply": "2022-07-21T09:14:26.385568Z"
    },
    "trusted": true
   },
   "execution_count": null,
   "outputs": []
  },
  {
   "cell_type": "markdown",
   "source": [
    "# Hope your have understand how to Analyse each Column and plot the needed graph\n",
    "### If youre having any doubt you can ask me in comments\n"
   ],
   "metadata": {}
  },
  {
   "cell_type": "markdown",
   "source": [
    "# That is all from my side... Thanks a Lot"
   ],
   "metadata": {}
  }
 ]
}
