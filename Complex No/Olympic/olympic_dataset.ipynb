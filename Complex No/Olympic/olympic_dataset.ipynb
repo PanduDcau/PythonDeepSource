{
 "cells": [
  {
   "cell_type": "code",
   "execution_count": 1,
   "metadata": {
    "collapsed": true
   },
   "outputs": [],
   "source": [
    "import numpy as np\n",
    "import pandas as pd\n",
    "import matplotlib.pyplot as plt"
   ]
  },
  {
   "cell_type": "code",
   "execution_count": 2,
   "metadata": {
    "collapsed": true
   },
   "outputs": [],
   "source": [
    "df = pd.read_excel('olympics.xlsx', skiprows=1)"
   ]
  },
  {
   "cell_type": "code",
   "execution_count": 3,
   "metadata": {},
   "outputs": [
    {
     "data": {
      "text/html": [
       "<div>\n",
       "<style>\n",
       "    .dataframe thead tr:only-child th {\n",
       "        text-align: right;\n",
       "    }\n",
       "\n",
       "    .dataframe thead th {\n",
       "        text-align: left;\n",
       "    }\n",
       "\n",
       "    .dataframe tbody tr th {\n",
       "        vertical-align: top;\n",
       "    }\n",
       "</style>\n",
       "<table border=\"1\" class=\"dataframe\">\n",
       "  <thead>\n",
       "    <tr style=\"text-align: right;\">\n",
       "      <th></th>\n",
       "      <th>Unnamed: 0</th>\n",
       "      <th># Summer</th>\n",
       "      <th>01 !</th>\n",
       "      <th>02 !</th>\n",
       "      <th>03 !</th>\n",
       "      <th>Total</th>\n",
       "      <th># Winter</th>\n",
       "      <th>01 !.1</th>\n",
       "      <th>02 !.1</th>\n",
       "      <th>03 !.1</th>\n",
       "      <th>Total.1</th>\n",
       "      <th># Games</th>\n",
       "      <th>01 !.2</th>\n",
       "      <th>02 !.2</th>\n",
       "      <th>03 !.2</th>\n",
       "      <th>Combined total</th>\n",
       "    </tr>\n",
       "  </thead>\n",
       "  <tbody>\n",
       "    <tr>\n",
       "      <th>0</th>\n",
       "      <td>Afghanistan (AFG)</td>\n",
       "      <td>13</td>\n",
       "      <td>0</td>\n",
       "      <td>0</td>\n",
       "      <td>2</td>\n",
       "      <td>2</td>\n",
       "      <td>0</td>\n",
       "      <td>0</td>\n",
       "      <td>0</td>\n",
       "      <td>0</td>\n",
       "      <td>0</td>\n",
       "      <td>13</td>\n",
       "      <td>0</td>\n",
       "      <td>0</td>\n",
       "      <td>2</td>\n",
       "      <td>2</td>\n",
       "    </tr>\n",
       "    <tr>\n",
       "      <th>1</th>\n",
       "      <td>Algeria (ALG)</td>\n",
       "      <td>12</td>\n",
       "      <td>5</td>\n",
       "      <td>2</td>\n",
       "      <td>8</td>\n",
       "      <td>15</td>\n",
       "      <td>3</td>\n",
       "      <td>0</td>\n",
       "      <td>0</td>\n",
       "      <td>0</td>\n",
       "      <td>0</td>\n",
       "      <td>15</td>\n",
       "      <td>5</td>\n",
       "      <td>2</td>\n",
       "      <td>8</td>\n",
       "      <td>15</td>\n",
       "    </tr>\n",
       "    <tr>\n",
       "      <th>2</th>\n",
       "      <td>Argentina (ARG)</td>\n",
       "      <td>23</td>\n",
       "      <td>18</td>\n",
       "      <td>24</td>\n",
       "      <td>28</td>\n",
       "      <td>70</td>\n",
       "      <td>18</td>\n",
       "      <td>0</td>\n",
       "      <td>0</td>\n",
       "      <td>0</td>\n",
       "      <td>0</td>\n",
       "      <td>41</td>\n",
       "      <td>18</td>\n",
       "      <td>24</td>\n",
       "      <td>28</td>\n",
       "      <td>70</td>\n",
       "    </tr>\n",
       "    <tr>\n",
       "      <th>3</th>\n",
       "      <td>Armenia (ARM)</td>\n",
       "      <td>5</td>\n",
       "      <td>1</td>\n",
       "      <td>2</td>\n",
       "      <td>9</td>\n",
       "      <td>12</td>\n",
       "      <td>6</td>\n",
       "      <td>0</td>\n",
       "      <td>0</td>\n",
       "      <td>0</td>\n",
       "      <td>0</td>\n",
       "      <td>11</td>\n",
       "      <td>1</td>\n",
       "      <td>2</td>\n",
       "      <td>9</td>\n",
       "      <td>12</td>\n",
       "    </tr>\n",
       "    <tr>\n",
       "      <th>4</th>\n",
       "      <td>Australasia (ANZ) [ANZ]</td>\n",
       "      <td>2</td>\n",
       "      <td>3</td>\n",
       "      <td>4</td>\n",
       "      <td>5</td>\n",
       "      <td>12</td>\n",
       "      <td>0</td>\n",
       "      <td>0</td>\n",
       "      <td>0</td>\n",
       "      <td>0</td>\n",
       "      <td>0</td>\n",
       "      <td>2</td>\n",
       "      <td>3</td>\n",
       "      <td>4</td>\n",
       "      <td>5</td>\n",
       "      <td>12</td>\n",
       "    </tr>\n",
       "  </tbody>\n",
       "</table>\n",
       "</div>"
      ],
      "text/plain": [
       "                Unnamed: 0  # Summer  01 !  02 !  03 !  Total  # Winter  \\\n",
       "0        Afghanistan (AFG)        13     0     0     2      2         0   \n",
       "1            Algeria (ALG)        12     5     2     8     15         3   \n",
       "2          Argentina (ARG)        23    18    24    28     70        18   \n",
       "3            Armenia (ARM)         5     1     2     9     12         6   \n",
       "4  Australasia (ANZ) [ANZ]         2     3     4     5     12         0   \n",
       "\n",
       "   01 !.1  02 !.1  03 !.1  Total.1  # Games  01 !.2  02 !.2  03 !.2  \\\n",
       "0       0       0       0        0       13       0       0       2   \n",
       "1       0       0       0        0       15       5       2       8   \n",
       "2       0       0       0        0       41      18      24      28   \n",
       "3       0       0       0        0       11       1       2       9   \n",
       "4       0       0       0        0        2       3       4       5   \n",
       "\n",
       "   Combined total  \n",
       "0               2  \n",
       "1              15  \n",
       "2              70  \n",
       "3              12  \n",
       "4              12  "
      ]
     },
     "execution_count": 3,
     "metadata": {},
     "output_type": "execute_result"
    }
   ],
   "source": [
    "df.head()"
   ]
  },
  {
   "cell_type": "code",
   "execution_count": 4,
   "metadata": {
    "collapsed": true
   },
   "outputs": [],
   "source": [
    "df.rename(columns={'Unnamed: 0': 'Country',\n",
    "                   '01 !':'Gold_Summer' ,\n",
    "                   '02 !':'Silver_Summer',\n",
    "                   '03 !':'Bronze_Summer',\n",
    "                   'Total':'Total_Summer', \n",
    "                   '01 !.1': 'Gold_Winter',\n",
    "                   '02 !.1': 'Silver_Winter' ,\n",
    "                   '03 !.1' : 'Bronze_Winter',\n",
    "                   'Total.1':'Total_Winter',\n",
    "                   '01 !.2' :'Gold_Total',\n",
    "                   '02 !.2': 'Silver_Total',\n",
    "                   '03 !.2':'Bronze_Total',\n",
    "                   'Combined total' :'Total'\n",
    "                  },inplace=True)"
   ]
  },
  {
   "cell_type": "code",
   "execution_count": 5,
   "metadata": {},
   "outputs": [
    {
     "data": {
      "text/html": [
       "<div>\n",
       "<style>\n",
       "    .dataframe thead tr:only-child th {\n",
       "        text-align: right;\n",
       "    }\n",
       "\n",
       "    .dataframe thead th {\n",
       "        text-align: left;\n",
       "    }\n",
       "\n",
       "    .dataframe tbody tr th {\n",
       "        vertical-align: top;\n",
       "    }\n",
       "</style>\n",
       "<table border=\"1\" class=\"dataframe\">\n",
       "  <thead>\n",
       "    <tr style=\"text-align: right;\">\n",
       "      <th></th>\n",
       "      <th>Country</th>\n",
       "      <th># Summer</th>\n",
       "      <th>Gold_Summer</th>\n",
       "      <th>Silver_Summer</th>\n",
       "      <th>Bronze_Summer</th>\n",
       "      <th>Total_Summer</th>\n",
       "      <th># Winter</th>\n",
       "      <th>Gold_Winter</th>\n",
       "      <th>Silver_Winter</th>\n",
       "      <th>Bronze_Winter</th>\n",
       "      <th>Total_Winter</th>\n",
       "      <th># Games</th>\n",
       "      <th>Gold_Total</th>\n",
       "      <th>Silver_Total</th>\n",
       "      <th>Bronze_Total</th>\n",
       "      <th>Total</th>\n",
       "    </tr>\n",
       "  </thead>\n",
       "  <tbody>\n",
       "    <tr>\n",
       "      <th>0</th>\n",
       "      <td>Afghanistan (AFG)</td>\n",
       "      <td>13</td>\n",
       "      <td>0</td>\n",
       "      <td>0</td>\n",
       "      <td>2</td>\n",
       "      <td>2</td>\n",
       "      <td>0</td>\n",
       "      <td>0</td>\n",
       "      <td>0</td>\n",
       "      <td>0</td>\n",
       "      <td>0</td>\n",
       "      <td>13</td>\n",
       "      <td>0</td>\n",
       "      <td>0</td>\n",
       "      <td>2</td>\n",
       "      <td>2</td>\n",
       "    </tr>\n",
       "    <tr>\n",
       "      <th>1</th>\n",
       "      <td>Algeria (ALG)</td>\n",
       "      <td>12</td>\n",
       "      <td>5</td>\n",
       "      <td>2</td>\n",
       "      <td>8</td>\n",
       "      <td>15</td>\n",
       "      <td>3</td>\n",
       "      <td>0</td>\n",
       "      <td>0</td>\n",
       "      <td>0</td>\n",
       "      <td>0</td>\n",
       "      <td>15</td>\n",
       "      <td>5</td>\n",
       "      <td>2</td>\n",
       "      <td>8</td>\n",
       "      <td>15</td>\n",
       "    </tr>\n",
       "    <tr>\n",
       "      <th>2</th>\n",
       "      <td>Argentina (ARG)</td>\n",
       "      <td>23</td>\n",
       "      <td>18</td>\n",
       "      <td>24</td>\n",
       "      <td>28</td>\n",
       "      <td>70</td>\n",
       "      <td>18</td>\n",
       "      <td>0</td>\n",
       "      <td>0</td>\n",
       "      <td>0</td>\n",
       "      <td>0</td>\n",
       "      <td>41</td>\n",
       "      <td>18</td>\n",
       "      <td>24</td>\n",
       "      <td>28</td>\n",
       "      <td>70</td>\n",
       "    </tr>\n",
       "    <tr>\n",
       "      <th>3</th>\n",
       "      <td>Armenia (ARM)</td>\n",
       "      <td>5</td>\n",
       "      <td>1</td>\n",
       "      <td>2</td>\n",
       "      <td>9</td>\n",
       "      <td>12</td>\n",
       "      <td>6</td>\n",
       "      <td>0</td>\n",
       "      <td>0</td>\n",
       "      <td>0</td>\n",
       "      <td>0</td>\n",
       "      <td>11</td>\n",
       "      <td>1</td>\n",
       "      <td>2</td>\n",
       "      <td>9</td>\n",
       "      <td>12</td>\n",
       "    </tr>\n",
       "    <tr>\n",
       "      <th>4</th>\n",
       "      <td>Australasia (ANZ) [ANZ]</td>\n",
       "      <td>2</td>\n",
       "      <td>3</td>\n",
       "      <td>4</td>\n",
       "      <td>5</td>\n",
       "      <td>12</td>\n",
       "      <td>0</td>\n",
       "      <td>0</td>\n",
       "      <td>0</td>\n",
       "      <td>0</td>\n",
       "      <td>0</td>\n",
       "      <td>2</td>\n",
       "      <td>3</td>\n",
       "      <td>4</td>\n",
       "      <td>5</td>\n",
       "      <td>12</td>\n",
       "    </tr>\n",
       "  </tbody>\n",
       "</table>\n",
       "</div>"
      ],
      "text/plain": [
       "                   Country  # Summer  Gold_Summer  Silver_Summer  \\\n",
       "0        Afghanistan (AFG)        13            0              0   \n",
       "1            Algeria (ALG)        12            5              2   \n",
       "2          Argentina (ARG)        23           18             24   \n",
       "3            Armenia (ARM)         5            1              2   \n",
       "4  Australasia (ANZ) [ANZ]         2            3              4   \n",
       "\n",
       "   Bronze_Summer  Total_Summer  # Winter  Gold_Winter  Silver_Winter  \\\n",
       "0              2             2         0            0              0   \n",
       "1              8            15         3            0              0   \n",
       "2             28            70        18            0              0   \n",
       "3              9            12         6            0              0   \n",
       "4              5            12         0            0              0   \n",
       "\n",
       "   Bronze_Winter  Total_Winter  # Games  Gold_Total  Silver_Total  \\\n",
       "0              0             0       13           0             0   \n",
       "1              0             0       15           5             2   \n",
       "2              0             0       41          18            24   \n",
       "3              0             0       11           1             2   \n",
       "4              0             0        2           3             4   \n",
       "\n",
       "   Bronze_Total  Total  \n",
       "0             2      2  \n",
       "1             8     15  \n",
       "2            28     70  \n",
       "3             9     12  \n",
       "4             5     12  "
      ]
     },
     "execution_count": 5,
     "metadata": {},
     "output_type": "execute_result"
    }
   ],
   "source": [
    "df.head()"
   ]
  },
  {
   "cell_type": "code",
   "execution_count": 6,
   "metadata": {},
   "outputs": [],
   "source": [
    "df['Country name'] = (df['Country'].str.split('(',1).str)[0].str.strip()"
   ]
  },
  {
   "cell_type": "code",
   "execution_count": 7,
   "metadata": {
    "collapsed": true
   },
   "outputs": [],
   "source": [
    "def remove_country_name(input_value):\n",
    "    return input_value.split('(')[0].strip()"
   ]
  },
  {
   "cell_type": "code",
   "execution_count": 8,
   "metadata": {},
   "outputs": [],
   "source": [
    "df['Country name'] = df.Country.apply(remove_country_name)"
   ]
  },
  {
   "cell_type": "code",
   "execution_count": 9,
   "metadata": {},
   "outputs": [],
   "source": [
    "def create_better_event(inp):\n",
    "    ts, tw = inp\n",
    "    if ts > tw:\n",
    "        return 'Summer'\n",
    "    if ts < tw:\n",
    "        return 'Winter'\n",
    "    else:\n",
    "        return 'Both'"
   ]
  },
  {
   "cell_type": "code",
   "execution_count": 10,
   "metadata": {},
   "outputs": [],
   "source": [
    "df['BetterEvent'] = df[['Total_Summer','Total_Winter']].apply(create_better_event, axis = 1)"
   ]
  },
  {
   "cell_type": "code",
   "execution_count": 11,
   "metadata": {},
   "outputs": [],
   "source": [
    "df_new = df.iloc[:len(df)-1,:]"
   ]
  },
  {
   "cell_type": "code",
   "execution_count": 12,
   "metadata": {},
   "outputs": [
    {
     "data": {
      "text/plain": [
       "[u'United States',\n",
       " u'Soviet Union',\n",
       " u'Great Britain',\n",
       " u'France',\n",
       " u'Germany',\n",
       " u'Italy',\n",
       " u'Sweden',\n",
       " u'Hungary',\n",
       " u'China',\n",
       " u'Australia']"
      ]
     },
     "execution_count": 12,
     "metadata": {},
     "output_type": "execute_result"
    }
   ],
   "source": [
    "topSummers = list(df_new.nlargest(10,'Total_Summer')['Country name'])\n",
    "topSummers"
   ]
  },
  {
   "cell_type": "code",
   "execution_count": 13,
   "metadata": {},
   "outputs": [
    {
     "data": {
      "text/plain": [
       "[u'Norway',\n",
       " u'United States',\n",
       " u'Austria',\n",
       " u'Germany',\n",
       " u'Soviet Union',\n",
       " u'Canada',\n",
       " u'Finland',\n",
       " u'Sweden',\n",
       " u'Switzerland',\n",
       " u'Russia']"
      ]
     },
     "execution_count": 13,
     "metadata": {},
     "output_type": "execute_result"
    }
   ],
   "source": [
    "topWinter = list(df_new.nlargest(10,'Total_Winter')['Country name'])\n",
    "topWinter"
   ]
  },
  {
   "cell_type": "code",
   "execution_count": 14,
   "metadata": {},
   "outputs": [
    {
     "data": {
      "text/plain": [
       "[u'United States',\n",
       " u'Soviet Union',\n",
       " u'Great Britain',\n",
       " u'Germany',\n",
       " u'France',\n",
       " u'Italy',\n",
       " u'Sweden',\n",
       " u'China',\n",
       " u'East Germany',\n",
       " u'Russia']"
      ]
     },
     "execution_count": 14,
     "metadata": {},
     "output_type": "execute_result"
    }
   ],
   "source": [
    "topTotal = list(df_new.nlargest(10,'Total')['Country name'])\n",
    "topTotal"
   ]
  },
  {
   "cell_type": "code",
   "execution_count": 15,
   "metadata": {},
   "outputs": [
    {
     "data": {
      "text/plain": [
       "[u'United States', u'Sweden', u'Germany', u'Soviet Union']"
      ]
     },
     "execution_count": 15,
     "metadata": {},
     "output_type": "execute_result"
    }
   ],
   "source": [
    "common = list(set(topSummers).intersection(set(topWinter),set(topTotal)))\n",
    "common"
   ]
  },
  {
   "cell_type": "code",
   "execution_count": 16,
   "metadata": {},
   "outputs": [],
   "source": [
    "dftopsummer =df.loc[df['Country name'].isin(topSummers)]   \n",
    "dfTop10Winter =df.loc[df['Country name'].isin(topWinter)]   \n",
    "dfCommon =df.loc[df['Country name'].isin(topTotal)]"
   ]
  },
  {
   "cell_type": "code",
   "execution_count": 17,
   "metadata": {},
   "outputs": [
    {
     "data": {
      "image/png": "[encoded data removed]",
      "text/plain": [
       "<matplotlib.figure.Figure at 0x7f40a588bbd0>"
      ]
     },
     "metadata": {},
     "output_type": "display_data"
    }
   ],
   "source": [
    "index = np.arange(dftopsummer.shape[0])\n",
    "plt.bar(index, dftopsummer['Total'],align='center', alpha=0.5)\n",
    "plt.ylabel('Total Medal')\n",
    "plt.xlabel('Country Name')\n",
    "plt.xticks(index,dftopsummer['Country name'], rotation=30)\n",
    "plt.title('Top 10 Summer') \n",
    "plt.show()"
   ]
  },
  {
   "cell_type": "code",
   "execution_count": 18,
   "metadata": {},
   "outputs": [
    {
     "data": {
      "image/png": "[encoded data removed]",
      "text/plain": [
       "<matplotlib.figure.Figure at 0x7f40a561aa10>"
      ]
     },
     "metadata": {},
     "output_type": "display_data"
    }
   ],
   "source": [
    "plt.bar(index, dfTop10Winter['Total'],align='center', alpha=0.5)\n",
    "plt.ylabel('Total Medal')\n",
    "plt.xlabel('Country Name')\n",
    "plt.title('Top 10 Winter')\n",
    "plt.xticks(index,dfTop10Winter['Country name'], rotation=30)\n",
    "plt.show()"
   ]
  },
  {
   "cell_type": "code",
   "execution_count": 19,
   "metadata": {},
   "outputs": [
    {
     "data": {
      "image/png": "[encoded data removed]",
      "text/plain": [
       "<matplotlib.figure.Figure at 0x7f40a2c4c510>"
      ]
     },
     "metadata": {},
     "output_type": "display_data"
    }
   ],
   "source": [
    "plt.bar(index, dfCommon['Total'],align='center', alpha=0.5)\n",
    "plt.ylabel('Total Medal')\n",
    "plt.xlabel('Country Name')\n",
    "plt.title('Top 10 ')\n",
    "plt.xticks(index,dfCommon['Country name'], rotation=30)\n",
    "plt.show()"
   ]
  },
  {
   "cell_type": "code",
   "execution_count": 20,
   "metadata": {},
   "outputs": [
    {
     "name": "stderr",
     "output_type": "stream",
     "text": [
      "/home/bhavesh/anaconda2/lib/python2.7/site-packages/ipykernel_launcher.py:1: SettingWithCopyWarning: \n",
      "A value is trying to be set on a copy of a slice from a DataFrame.\n",
      "Try using .loc[row_indexer,col_indexer] = value instead\n",
      "\n",
      "See the caveats in the documentation: http://pandas.pydata.org/pandas-docs/stable/indexing.html#indexing-view-versus-copy\n",
      "  \"\"\"Entry point for launching an IPython kernel.\n",
      "/home/bhavesh/anaconda2/lib/python2.7/site-packages/ipykernel_launcher.py:2: SettingWithCopyWarning: \n",
      "A value is trying to be set on a copy of a slice from a DataFrame.\n",
      "Try using .loc[row_indexer,col_indexer] = value instead\n",
      "\n",
      "See the caveats in the documentation: http://pandas.pydata.org/pandas-docs/stable/indexing.html#indexing-view-versus-copy\n",
      "  \n",
      "/home/bhavesh/anaconda2/lib/python2.7/site-packages/ipykernel_launcher.py:3: SettingWithCopyWarning: \n",
      "A value is trying to be set on a copy of a slice from a DataFrame.\n",
      "Try using .loc[row_indexer,col_indexer] = value instead\n",
      "\n",
      "See the caveats in the documentation: http://pandas.pydata.org/pandas-docs/stable/indexing.html#indexing-view-versus-copy\n",
      "  This is separate from the ipykernel package so we can avoid doing imports until\n"
     ]
    }
   ],
   "source": [
    "dfCommon['Ratio_Total'] = dfCommon.loc[:,'Gold_Total']/dfCommon.loc[:,'Total']\n",
    "dfTop10Winter['Ratio_Total'] = dfTop10Winter.loc[:,'Gold_Total']/dfTop10Winter.loc[:,'Total']\n",
    "dftopsummer['Ratio_Total'] = dftopsummer.loc[:,'Gold_Total']/dftopsummer.loc[:,'Total']"
   ]
  },
  {
   "cell_type": "code",
   "execution_count": 21,
   "metadata": {},
   "outputs": [],
   "source": [
    "total = list(dfCommon[dfCommon['Ratio_Total']==dfCommon['Ratio_Total'].max()]['Country name'])[0]\n",
    "total_winter = list(dfTop10Winter[dfTop10Winter['Ratio_Total']==dfTop10Winter['Ratio_Total'].max()]['Country name'])[0]\n",
    "total_summer = list(dftopsummer[dftopsummer['Ratio_Total']==dftopsummer['Ratio_Total'].max()]['Country name'])[0]"
   ]
  },
  {
   "cell_type": "code",
   "execution_count": 22,
   "metadata": {},
   "outputs": [
    {
     "name": "stdout",
     "output_type": "stream",
     "text": [
      "China\n",
      "China\n",
      "United States\n"
     ]
    }
   ],
   "source": [
    "print total\n",
    "print total_summer\n",
    "print total_winter"
   ]
  },
  {
   "cell_type": "code",
   "execution_count": 23,
   "metadata": {
    "collapsed": true
   },
   "outputs": [],
   "source": [
    "def unusual_performances(df, low, high):\n",
    "    low_value, high_value = df['Total'].quantile([low, high])\n",
    "    low_dataframe = df.iloc[np.where(df['Total'] <= low_value)]\n",
    "    low_countries= low_dataframe['Country name']\n",
    "    \n",
    "    high_dataframe = df.iloc[np.where(df['Total'] > high_value)]\n",
    "    high_countries = high_dataframe['Country name']    \n",
    "    return low_countries, high_countries"
   ]
  },
  {
   "cell_type": "code",
   "execution_count": 24,
   "metadata": {},
   "outputs": [],
   "source": [
    "low = 0.05\n",
    "high = 0.95\n",
    "low_count, high_count = unusual_performances(df_new, low, high)"
   ]
  },
  {
   "cell_type": "code",
   "execution_count": 25,
   "metadata": {},
   "outputs": [
    {
     "name": "stdout",
     "output_type": "stream",
     "text": [
      "[u'Bahrain', u'Barbados', u'Bermuda', u'Botswana', u'Burundi', u'Ivory Coast', u'Cyprus', u'Djibouti', u'Eritrea', u'Gabon', u'Grenada', u'Guatemala', u'Guyana', u'Iraq', u'Macedonia', u'Mauritius', u'Montenegro', u'Netherlands Antilles', u'Niger', u'Paraguay', u'Senegal', u'Sudan', u'Togo', u'Tonga', u'United Arab Emirates', u'Virgin Islands']\n"
     ]
    }
   ],
   "source": [
    "print list(low_count)"
   ]
  },
  {
   "cell_type": "code",
   "execution_count": 26,
   "metadata": {},
   "outputs": [
    {
     "name": "stdout",
     "output_type": "stream",
     "text": [
      "[u'China', u'France', u'Germany', u'Great Britain', u'Italy', u'Soviet Union', u'Sweden', u'United States']\n"
     ]
    }
   ],
   "source": [
    "print list(high_count)"
   ]
  }
 ],
 "metadata": {
  "kernelspec": {
   "display_name": "Python 2",
   "language": "python",
   "name": "python2"
  },
  "language_info": {
   "codemirror_mode": {
    "name": "ipython",
    "version": 2
   },
   "file_extension": ".py",
   "mimetype": "text/x-python",
   "name": "python",
   "nbconvert_exporter": "python",
   "pygments_lexer": "ipython2",
   "version": "2.7.13"
  }
 },
 "nbformat": 4,
 "nbformat_minor": 2
}
