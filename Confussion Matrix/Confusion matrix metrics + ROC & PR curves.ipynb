{
 "cells": [
  {
   "cell_type": "code",
   "execution_count": 1,
   "metadata": {},
   "outputs": [],
   "source": [
    "import numpy as np\n",
    "import pandas as pd\n",
    "import matplotlib.pyplot as plt"
   ]
  },
  {
   "cell_type": "code",
   "execution_count": 2,
   "metadata": {},
   "outputs": [],
   "source": [
    "from sklearn.model_selection import train_test_split\n",
    "from sklearn.compose import ColumnTransformer\n",
    "from sklearn.pipeline import Pipeline\n",
    "from sklearn.preprocessing import RobustScaler, OneHotEncoder\n",
    "from sklearn.linear_model import LogisticRegression"
   ]
  },
  {
   "cell_type": "code",
   "execution_count": 3,
   "metadata": {
    "scrolled": true
   },
   "outputs": [
    {
     "data": {
      "text/html": [
       "<div>\n",
       "<style scoped>\n",
       "    .dataframe tbody tr th:only-of-type {\n",
       "        vertical-align: middle;\n",
       "    }\n",
       "\n",
       "    .dataframe tbody tr th {\n",
       "        vertical-align: top;\n",
       "    }\n",
       "\n",
       "    .dataframe thead th {\n",
       "        text-align: right;\n",
       "    }\n",
       "</style>\n",
       "<table border=\"1\" class=\"dataframe\">\n",
       "  <thead>\n",
       "    <tr style=\"text-align: right;\">\n",
       "      <th></th>\n",
       "      <th>CustomerId</th>\n",
       "      <th>Surname</th>\n",
       "      <th>CreditScore</th>\n",
       "      <th>Geography</th>\n",
       "      <th>Gender</th>\n",
       "      <th>Age</th>\n",
       "      <th>Tenure</th>\n",
       "      <th>Balance</th>\n",
       "      <th>NumOfProducts</th>\n",
       "      <th>HasCrCard</th>\n",
       "      <th>IsActiveMember</th>\n",
       "      <th>EstimatedSalary</th>\n",
       "      <th>Exited</th>\n",
       "    </tr>\n",
       "    <tr>\n",
       "      <th>RowNumber</th>\n",
       "      <th></th>\n",
       "      <th></th>\n",
       "      <th></th>\n",
       "      <th></th>\n",
       "      <th></th>\n",
       "      <th></th>\n",
       "      <th></th>\n",
       "      <th></th>\n",
       "      <th></th>\n",
       "      <th></th>\n",
       "      <th></th>\n",
       "      <th></th>\n",
       "      <th></th>\n",
       "    </tr>\n",
       "  </thead>\n",
       "  <tbody>\n",
       "    <tr>\n",
       "      <th>1</th>\n",
       "      <td>15634602</td>\n",
       "      <td>Hargrave</td>\n",
       "      <td>619</td>\n",
       "      <td>France</td>\n",
       "      <td>Female</td>\n",
       "      <td>42</td>\n",
       "      <td>2</td>\n",
       "      <td>0.00</td>\n",
       "      <td>1</td>\n",
       "      <td>1</td>\n",
       "      <td>1</td>\n",
       "      <td>101348.88</td>\n",
       "      <td>1</td>\n",
       "    </tr>\n",
       "    <tr>\n",
       "      <th>2</th>\n",
       "      <td>15647311</td>\n",
       "      <td>Hill</td>\n",
       "      <td>608</td>\n",
       "      <td>Spain</td>\n",
       "      <td>Female</td>\n",
       "      <td>41</td>\n",
       "      <td>1</td>\n",
       "      <td>83807.86</td>\n",
       "      <td>1</td>\n",
       "      <td>0</td>\n",
       "      <td>1</td>\n",
       "      <td>112542.58</td>\n",
       "      <td>0</td>\n",
       "    </tr>\n",
       "    <tr>\n",
       "      <th>3</th>\n",
       "      <td>15619304</td>\n",
       "      <td>Onio</td>\n",
       "      <td>502</td>\n",
       "      <td>France</td>\n",
       "      <td>Female</td>\n",
       "      <td>42</td>\n",
       "      <td>8</td>\n",
       "      <td>159660.80</td>\n",
       "      <td>3</td>\n",
       "      <td>1</td>\n",
       "      <td>0</td>\n",
       "      <td>113931.57</td>\n",
       "      <td>1</td>\n",
       "    </tr>\n",
       "    <tr>\n",
       "      <th>4</th>\n",
       "      <td>15701354</td>\n",
       "      <td>Boni</td>\n",
       "      <td>699</td>\n",
       "      <td>France</td>\n",
       "      <td>Female</td>\n",
       "      <td>39</td>\n",
       "      <td>1</td>\n",
       "      <td>0.00</td>\n",
       "      <td>2</td>\n",
       "      <td>0</td>\n",
       "      <td>0</td>\n",
       "      <td>93826.63</td>\n",
       "      <td>0</td>\n",
       "    </tr>\n",
       "    <tr>\n",
       "      <th>5</th>\n",
       "      <td>15737888</td>\n",
       "      <td>Mitchell</td>\n",
       "      <td>850</td>\n",
       "      <td>Spain</td>\n",
       "      <td>Female</td>\n",
       "      <td>43</td>\n",
       "      <td>2</td>\n",
       "      <td>125510.82</td>\n",
       "      <td>1</td>\n",
       "      <td>1</td>\n",
       "      <td>1</td>\n",
       "      <td>79084.10</td>\n",
       "      <td>0</td>\n",
       "    </tr>\n",
       "  </tbody>\n",
       "</table>\n",
       "</div>"
      ],
      "text/plain": [
       "           CustomerId   Surname  CreditScore Geography  Gender  Age  Tenure  \\\n",
       "RowNumber                                                                     \n",
       "1            15634602  Hargrave          619    France  Female   42       2   \n",
       "2            15647311      Hill          608     Spain  Female   41       1   \n",
       "3            15619304      Onio          502    France  Female   42       8   \n",
       "4            15701354      Boni          699    France  Female   39       1   \n",
       "5            15737888  Mitchell          850     Spain  Female   43       2   \n",
       "\n",
       "             Balance  NumOfProducts  HasCrCard  IsActiveMember  \\\n",
       "RowNumber                                                        \n",
       "1               0.00              1          1               1   \n",
       "2           83807.86              1          0               1   \n",
       "3          159660.80              3          1               0   \n",
       "4               0.00              2          0               0   \n",
       "5          125510.82              1          1               1   \n",
       "\n",
       "           EstimatedSalary  Exited  \n",
       "RowNumber                           \n",
       "1                101348.88       1  \n",
       "2                112542.58       0  \n",
       "3                113931.57       1  \n",
       "4                 93826.63       0  \n",
       "5                 79084.10       0  "
      ]
     },
     "execution_count": 3,
     "metadata": {},
     "output_type": "execute_result"
    }
   ],
   "source": [
    "df = pd.read_csv('data/churn modelling.csv', index_col=0)\n",
    "df.head()"
   ]
  },
  {
   "cell_type": "code",
   "execution_count": 4,
   "metadata": {},
   "outputs": [],
   "source": [
    "df.drop(['CustomerId', 'Surname'], axis=1, inplace=True)"
   ]
  },
  {
   "cell_type": "code",
   "execution_count": 5,
   "metadata": {},
   "outputs": [
    {
     "data": {
      "text/plain": [
       "(10000, 11)"
      ]
     },
     "execution_count": 5,
     "metadata": {},
     "output_type": "execute_result"
    }
   ],
   "source": [
    "df.shape"
   ]
  },
  {
   "cell_type": "code",
   "execution_count": 6,
   "metadata": {},
   "outputs": [
    {
     "data": {
      "text/plain": [
       "CreditScore        0\n",
       "Geography          0\n",
       "Gender             0\n",
       "Age                0\n",
       "Tenure             0\n",
       "Balance            0\n",
       "NumOfProducts      0\n",
       "HasCrCard          0\n",
       "IsActiveMember     0\n",
       "EstimatedSalary    0\n",
       "Exited             0\n",
       "dtype: int64"
      ]
     },
     "execution_count": 6,
     "metadata": {},
     "output_type": "execute_result"
    }
   ],
   "source": [
    "df.isna().sum()"
   ]
  },
  {
   "cell_type": "code",
   "execution_count": 7,
   "metadata": {},
   "outputs": [],
   "source": [
    "X = df.drop('Exited', 1)\n",
    "y = df.Exited"
   ]
  },
  {
   "cell_type": "code",
   "execution_count": 8,
   "metadata": {},
   "outputs": [
    {
     "data": {
      "text/plain": [
       "0    7963\n",
       "1    2037\n",
       "Name: Exited, dtype: int64"
      ]
     },
     "execution_count": 8,
     "metadata": {},
     "output_type": "execute_result"
    }
   ],
   "source": [
    "y.value_counts()"
   ]
  },
  {
   "cell_type": "code",
   "execution_count": 9,
   "metadata": {},
   "outputs": [],
   "source": [
    "X_train, X_test, y_train, y_test = train_test_split(X, y, test_size=0.2, random_state=0, stratify=y)"
   ]
  },
  {
   "cell_type": "code",
   "execution_count": 10,
   "metadata": {},
   "outputs": [
    {
     "data": {
      "text/plain": [
       "Index(['CreditScore', 'Geography', 'Gender', 'Age', 'Tenure', 'Balance',\n",
       "       'NumOfProducts', 'HasCrCard', 'IsActiveMember', 'EstimatedSalary'],\n",
       "      dtype='object')"
      ]
     },
     "execution_count": 10,
     "metadata": {},
     "output_type": "execute_result"
    }
   ],
   "source": [
    "X.columns"
   ]
  },
  {
   "cell_type": "code",
   "execution_count": 11,
   "metadata": {},
   "outputs": [],
   "source": [
    "num_cols = ['CreditScore', 'Age', 'Tenure', 'Balance', 'NumOfProducts', 'EstimatedSalary']\n",
    "cat_cols = ['HasCrCard', 'IsActiveMember', 'Geography', 'Gender']"
   ]
  },
  {
   "cell_type": "code",
   "execution_count": 12,
   "metadata": {},
   "outputs": [],
   "source": [
    "ct = ColumnTransformer([\n",
    "    ('s1', RobustScaler(), num_cols),\n",
    "    ('s2', OneHotEncoder(sparse=False, handle_unknown='ignore'), cat_cols)\n",
    "])"
   ]
  },
  {
   "cell_type": "code",
   "execution_count": 13,
   "metadata": {},
   "outputs": [],
   "source": [
    "p = Pipeline([\n",
    "    ('ct', ct),\n",
    "    ('mod', LogisticRegression(random_state=0))\n",
    "])"
   ]
  },
  {
   "cell_type": "code",
   "execution_count": 14,
   "metadata": {},
   "outputs": [
    {
     "data": {
      "text/plain": [
       "Pipeline(steps=[('ct',\n",
       "                 ColumnTransformer(transformers=[('s1', RobustScaler(),\n",
       "                                                  ['CreditScore', 'Age',\n",
       "                                                   'Tenure', 'Balance',\n",
       "                                                   'NumOfProducts',\n",
       "                                                   'EstimatedSalary']),\n",
       "                                                 ('s2',\n",
       "                                                  OneHotEncoder(handle_unknown='ignore',\n",
       "                                                                sparse=False),\n",
       "                                                  ['HasCrCard',\n",
       "                                                   'IsActiveMember',\n",
       "                                                   'Geography', 'Gender'])])),\n",
       "                ('mod', LogisticRegression(random_state=0))])"
      ]
     },
     "execution_count": 14,
     "metadata": {},
     "output_type": "execute_result"
    }
   ],
   "source": [
    "p.fit(X_train, y_train)"
   ]
  },
  {
   "cell_type": "code",
   "execution_count": 15,
   "metadata": {},
   "outputs": [
    {
     "data": {
      "text/plain": [
       "array([1, 0, 0, 1, 0, 0, 0, 0, 0, 0, 0, 1, 0, 0, 0], dtype=int64)"
      ]
     },
     "execution_count": 15,
     "metadata": {},
     "output_type": "execute_result"
    }
   ],
   "source": [
    "# predictions are for the default threshold of 0.5\n",
    "preds = p.predict(X_test)\n",
    "preds[:15]"
   ]
  },
  {
   "cell_type": "code",
   "execution_count": 16,
   "metadata": {},
   "outputs": [
    {
     "data": {
      "text/plain": [
       "array([1, 0, 0, 1, 1, 1, 0, 0, 1, 0, 0, 1, 0, 0, 0], dtype=int64)"
      ]
     },
     "execution_count": 16,
     "metadata": {},
     "output_type": "execute_result"
    }
   ],
   "source": [
    "# real class labels of the first 15 people in the test set\n",
    "np.array(y_test)[:15]"
   ]
  },
  {
   "cell_type": "code",
   "execution_count": 17,
   "metadata": {},
   "outputs": [],
   "source": [
    "from sklearn.metrics import confusion_matrix, plot_confusion_matrix"
   ]
  },
  {
   "cell_type": "code",
   "execution_count": 18,
   "metadata": {},
   "outputs": [
    {
     "data": {
      "text/plain": [
       "array([[1530,   63],\n",
       "       [ 319,   88]], dtype=int64)"
      ]
     },
     "execution_count": 18,
     "metadata": {},
     "output_type": "execute_result"
    }
   ],
   "source": [
    "confusion_matrix(y_true=y_test, y_pred=preds)"
   ]
  },
  {
   "cell_type": "code",
   "execution_count": 19,
   "metadata": {},
   "outputs": [
    {
     "data": {
      "text/plain": [
       "array([0, 1], dtype=int64)"
      ]
     },
     "execution_count": 19,
     "metadata": {},
     "output_type": "execute_result"
    }
   ],
   "source": [
    "p.classes_"
   ]
  },
  {
   "attachments": {
    "image.png": {
     "image/png": "[encoded data removed]"
    }
   },
   "cell_type": "markdown",
   "metadata": {},
   "source": [
    "![image.png](attachment:image.png)"
   ]
  },
  {
   "cell_type": "code",
   "execution_count": null,
   "metadata": {},
   "outputs": [],
   "source": []
  },
  {
   "cell_type": "code",
   "execution_count": null,
   "metadata": {},
   "outputs": [],
   "source": []
  },
  {
   "attachments": {
    "image.png": {
     "image/png": "[encoded data removed]"
    }
   },
   "cell_type": "markdown",
   "metadata": {},
   "source": [
    "And if we want to switch the class label positions:\n",
    "\n",
    "![image.png](attachment:image.png)"
   ]
  },
  {
   "cell_type": "code",
   "execution_count": 20,
   "metadata": {},
   "outputs": [
    {
     "data": {
      "text/plain": [
       "array([[  88,  319],\n",
       "       [  63, 1530]], dtype=int64)"
      ]
     },
     "execution_count": 20,
     "metadata": {},
     "output_type": "execute_result"
    }
   ],
   "source": [
    "confusion_matrix(y_test, preds, labels=(1,0))"
   ]
  },
  {
   "cell_type": "code",
   "execution_count": 21,
   "metadata": {},
   "outputs": [
    {
     "data": {
      "text/plain": [
       "array([  88,  319,   63, 1530], dtype=int64)"
      ]
     },
     "execution_count": 21,
     "metadata": {},
     "output_type": "execute_result"
    }
   ],
   "source": [
    "confusion_matrix(y_test, preds, labels=(1,0)).ravel()"
   ]
  },
  {
   "cell_type": "code",
   "execution_count": 22,
   "metadata": {},
   "outputs": [],
   "source": [
    "tp, fn, fp, tn = confusion_matrix(y_test, preds, labels=(1,0)).ravel()"
   ]
  },
  {
   "cell_type": "code",
   "execution_count": 23,
   "metadata": {},
   "outputs": [
    {
     "data": {
      "text/plain": [
       "0.5827814569536424"
      ]
     },
     "execution_count": 23,
     "metadata": {},
     "output_type": "execute_result"
    }
   ],
   "source": [
    "precision = tp/(tp+fp)\n",
    "precision"
   ]
  },
  {
   "cell_type": "code",
   "execution_count": null,
   "metadata": {},
   "outputs": [],
   "source": []
  },
  {
   "cell_type": "code",
   "execution_count": 24,
   "metadata": {},
   "outputs": [],
   "source": [
    "from sklearn.metrics import accuracy_score, precision_score, recall_score, f1_score,\\\n",
    "fbeta_score, matthews_corrcoef"
   ]
  },
  {
   "cell_type": "code",
   "execution_count": 25,
   "metadata": {},
   "outputs": [
    {
     "data": {
      "text/plain": [
       "0.5827814569536424"
      ]
     },
     "execution_count": 25,
     "metadata": {},
     "output_type": "execute_result"
    }
   ],
   "source": [
    "precision_score(y_test, preds)"
   ]
  },
  {
   "cell_type": "code",
   "execution_count": 26,
   "metadata": {},
   "outputs": [
    {
     "data": {
      "text/plain": [
       "0.21621621621621623"
      ]
     },
     "execution_count": 26,
     "metadata": {},
     "output_type": "execute_result"
    }
   ],
   "source": [
    "recall_score(y_test, preds)"
   ]
  },
  {
   "cell_type": "code",
   "execution_count": 27,
   "metadata": {},
   "outputs": [
    {
     "data": {
      "text/plain": [
       "0.31541218637992835"
      ]
     },
     "execution_count": 27,
     "metadata": {},
     "output_type": "execute_result"
    }
   ],
   "source": [
    "# harmonic mean of precision and recall\n",
    "f1_score(y_test, preds)"
   ]
  },
  {
   "cell_type": "code",
   "execution_count": 28,
   "metadata": {},
   "outputs": [
    {
     "data": {
      "text/plain": [
       "0.4352126607319486"
      ]
     },
     "execution_count": 28,
     "metadata": {},
     "output_type": "execute_result"
    }
   ],
   "source": [
    "# Precision more weight than recall (beta < 1)\n",
    "fbeta_score(y_test, preds, beta=0.5)"
   ]
  },
  {
   "cell_type": "code",
   "execution_count": 29,
   "metadata": {},
   "outputs": [
    {
     "data": {
      "text/plain": [
       "0.2473299606520517"
      ]
     },
     "execution_count": 29,
     "metadata": {},
     "output_type": "execute_result"
    }
   ],
   "source": [
    "# recall more weight than precision (beta > 1)\n",
    "fbeta_score(y_test, preds, beta=2)"
   ]
  },
  {
   "cell_type": "code",
   "execution_count": 30,
   "metadata": {},
   "outputs": [
    {
     "data": {
      "text/plain": [
       "0.2692195114515157"
      ]
     },
     "execution_count": 30,
     "metadata": {},
     "output_type": "execute_result"
    }
   ],
   "source": [
    "# when both classes need to be predicted with good accuracies, MCC is better than F-measures\n",
    "matthews_corrcoef(y_test, preds)"
   ]
  },
  {
   "cell_type": "code",
   "execution_count": 31,
   "metadata": {},
   "outputs": [],
   "source": [
    "from sklearn.metrics import SCORERS"
   ]
  },
  {
   "cell_type": "code",
   "execution_count": 32,
   "metadata": {
    "scrolled": true
   },
   "outputs": [
    {
     "data": {
      "text/plain": [
       "['accuracy',\n",
       " 'adjusted_mutual_info_score',\n",
       " 'adjusted_rand_score',\n",
       " 'average_precision',\n",
       " 'balanced_accuracy',\n",
       " 'completeness_score',\n",
       " 'explained_variance',\n",
       " 'f1',\n",
       " 'f1_macro',\n",
       " 'f1_micro',\n",
       " 'f1_samples',\n",
       " 'f1_weighted',\n",
       " 'fowlkes_mallows_score',\n",
       " 'homogeneity_score',\n",
       " 'jaccard',\n",
       " 'jaccard_macro',\n",
       " 'jaccard_micro',\n",
       " 'jaccard_samples',\n",
       " 'jaccard_weighted',\n",
       " 'max_error',\n",
       " 'mutual_info_score',\n",
       " 'neg_brier_score',\n",
       " 'neg_log_loss',\n",
       " 'neg_mean_absolute_error',\n",
       " 'neg_mean_gamma_deviance',\n",
       " 'neg_mean_poisson_deviance',\n",
       " 'neg_mean_squared_error',\n",
       " 'neg_mean_squared_log_error',\n",
       " 'neg_median_absolute_error',\n",
       " 'neg_root_mean_squared_error',\n",
       " 'normalized_mutual_info_score',\n",
       " 'precision',\n",
       " 'precision_macro',\n",
       " 'precision_micro',\n",
       " 'precision_samples',\n",
       " 'precision_weighted',\n",
       " 'r2',\n",
       " 'recall',\n",
       " 'recall_macro',\n",
       " 'recall_micro',\n",
       " 'recall_samples',\n",
       " 'recall_weighted',\n",
       " 'roc_auc',\n",
       " 'roc_auc_ovo',\n",
       " 'roc_auc_ovo_weighted',\n",
       " 'roc_auc_ovr',\n",
       " 'roc_auc_ovr_weighted',\n",
       " 'v_measure_score']"
      ]
     },
     "execution_count": 32,
     "metadata": {},
     "output_type": "execute_result"
    }
   ],
   "source": [
    "sorted(SCORERS.keys())"
   ]
  },
  {
   "cell_type": "code",
   "execution_count": null,
   "metadata": {},
   "outputs": [],
   "source": []
  },
  {
   "cell_type": "markdown",
   "metadata": {},
   "source": [
    "## Plotting ROC & Precision-Recall Curves using sklearn functions"
   ]
  },
  {
   "cell_type": "code",
   "execution_count": 33,
   "metadata": {},
   "outputs": [],
   "source": [
    "from sklearn.metrics import plot_roc_curve, plot_precision_recall_curve, roc_curve"
   ]
  },
  {
   "cell_type": "code",
   "execution_count": 35,
   "metadata": {},
   "outputs": [
    {
     "data": {
      "text/plain": [
       "[<matplotlib.lines.Line2D at 0x1c1bee466d8>]"
      ]
     },
     "execution_count": 35,
     "metadata": {},
     "output_type": "execute_result"
    },
    {
     "data": {
      "image/png": "[encoded data removed]",
      "text/plain": [
       "<Figure size 432x288 with 1 Axes>"
      ]
     },
     "metadata": {
      "needs_background": "light"
     },
     "output_type": "display_data"
    }
   ],
   "source": [
    "plot_roc_curve(p, X_test, y_test)\n",
    "plt.plot([0,1], [0,1], c='k')"
   ]
  },
  {
   "cell_type": "code",
   "execution_count": 37,
   "metadata": {},
   "outputs": [
    {
     "data": {
      "text/plain": [
       "0    1593\n",
       "1     407\n",
       "Name: Exited, dtype: int64"
      ]
     },
     "execution_count": 37,
     "metadata": {},
     "output_type": "execute_result"
    }
   ],
   "source": [
    "y_test.value_counts()"
   ]
  },
  {
   "cell_type": "code",
   "execution_count": 38,
   "metadata": {},
   "outputs": [
    {
     "data": {
      "text/plain": [
       "0.2035"
      ]
     },
     "execution_count": 38,
     "metadata": {},
     "output_type": "execute_result"
    }
   ],
   "source": [
    "407/(1593+407)"
   ]
  },
  {
   "cell_type": "code",
   "execution_count": 40,
   "metadata": {},
   "outputs": [
    {
     "data": {
      "text/plain": [
       "<matplotlib.legend.Legend at 0x1c1bf449a90>"
      ]
     },
     "execution_count": 40,
     "metadata": {},
     "output_type": "execute_result"
    },
    {
     "data": {
      "image/png": "[encoded data removed]",
      "text/plain": [
       "<Figure size 432x288 with 1 Axes>"
      ]
     },
     "metadata": {
      "needs_background": "light"
     },
     "output_type": "display_data"
    }
   ],
   "source": [
    "plot_precision_recall_curve(p, X_test, y_test)\n",
    "plt.plot([0,1], [0.2035,0.2035], c='k')\n",
    "plt.legend(loc='best')"
   ]
  },
  {
   "cell_type": "code",
   "execution_count": 46,
   "metadata": {},
   "outputs": [
    {
     "data": {
      "text/plain": [
       "array([0.50220097, 0.09743678, 0.26815384, ..., 0.15489024, 0.47404679,\n",
       "       0.07991856])"
      ]
     },
     "execution_count": 46,
     "metadata": {},
     "output_type": "execute_result"
    }
   ],
   "source": [
    "probs = p.predict_proba(X_test)[:, 1]\n",
    "probs"
   ]
  },
  {
   "cell_type": "code",
   "execution_count": 44,
   "metadata": {},
   "outputs": [
    {
     "data": {
      "text/plain": [
       "array([0, 1], dtype=int64)"
      ]
     },
     "execution_count": 44,
     "metadata": {},
     "output_type": "execute_result"
    }
   ],
   "source": [
    "p.classes_"
   ]
  },
  {
   "cell_type": "code",
   "execution_count": 47,
   "metadata": {},
   "outputs": [],
   "source": [
    "from sklearn.preprocessing import Binarizer"
   ]
  },
  {
   "cell_type": "code",
   "execution_count": 48,
   "metadata": {},
   "outputs": [],
   "source": [
    "binarizer = Binarizer(threshold=0.9)"
   ]
  },
  {
   "cell_type": "code",
   "execution_count": 50,
   "metadata": {},
   "outputs": [
    {
     "data": {
      "text/plain": [
       "array([[0., 0., 0., ..., 0., 0., 0.]])"
      ]
     },
     "execution_count": 50,
     "metadata": {},
     "output_type": "execute_result"
    }
   ],
   "source": [
    "s = binarizer.fit_transform([probs])\n",
    "s"
   ]
  },
  {
   "cell_type": "code",
   "execution_count": 52,
   "metadata": {},
   "outputs": [
    {
     "data": {
      "text/plain": [
       "(array([0., 1.]), array([1999,    1], dtype=int64))"
      ]
     },
     "execution_count": 52,
     "metadata": {},
     "output_type": "execute_result"
    }
   ],
   "source": [
    "np.unique(s.ravel(), return_counts=True)"
   ]
  },
  {
   "cell_type": "code",
   "execution_count": null,
   "metadata": {},
   "outputs": [],
   "source": []
  },
  {
   "cell_type": "code",
   "execution_count": null,
   "metadata": {},
   "outputs": [],
   "source": []
  },
  {
   "cell_type": "code",
   "execution_count": 53,
   "metadata": {},
   "outputs": [],
   "source": [
    "binarizer = Binarizer(threshold=0.1)"
   ]
  },
  {
   "cell_type": "code",
   "execution_count": 54,
   "metadata": {},
   "outputs": [
    {
     "data": {
      "text/plain": [
       "array([[1., 0., 1., ..., 1., 1., 0.]])"
      ]
     },
     "execution_count": 54,
     "metadata": {},
     "output_type": "execute_result"
    }
   ],
   "source": [
    "s = binarizer.fit_transform([probs])\n",
    "s"
   ]
  },
  {
   "cell_type": "code",
   "execution_count": 55,
   "metadata": {},
   "outputs": [
    {
     "data": {
      "text/plain": [
       "(array([0., 1.]), array([ 610, 1390], dtype=int64))"
      ]
     },
     "execution_count": 55,
     "metadata": {},
     "output_type": "execute_result"
    }
   ],
   "source": [
    "np.unique(s.ravel(), return_counts=True)"
   ]
  },
  {
   "cell_type": "code",
   "execution_count": 57,
   "metadata": {},
   "outputs": [],
   "source": [
    "fpr, tpr, thr = roc_curve(y_test, probs)"
   ]
  },
  {
   "cell_type": "code",
   "execution_count": 58,
   "metadata": {},
   "outputs": [
    {
     "data": {
      "text/plain": [
       "<matplotlib.collections.PathCollection at 0x1c1bf78c8d0>"
      ]
     },
     "execution_count": 58,
     "metadata": {},
     "output_type": "execute_result"
    },
    {
     "data": {
      "image/png": "[encoded data removed]",
      "text/plain": [
       "<Figure size 432x288 with 1 Axes>"
      ]
     },
     "metadata": {
      "needs_background": "light"
     },
     "output_type": "display_data"
    }
   ],
   "source": [
    "plt.scatter(fpr, tpr)"
   ]
  },
  {
   "cell_type": "code",
   "execution_count": 61,
   "metadata": {},
   "outputs": [
    {
     "data": {
      "text/plain": [
       "[0.011282896566442472,\n",
       " 0.011584133700794214,\n",
       " 0.01181577420402178,\n",
       " 0.014277033272092308,\n",
       " 0.014383911431994424,\n",
       " 0.01634537296579665,\n",
       " 0.01679335224430788,\n",
       " 0.01730387852379221,\n",
       " 0.017585970945906634,\n",
       " 0.017838294511241345,\n",
       " 0.01792196374965058,\n",
       " 0.018452782701086214,\n",
       " 0.018777717379804937,\n",
       " 0.018932676128171427,\n",
       " 0.019581781500572614,\n",
       " 0.020923153271831755,\n",
       " 0.02134455470627446,\n",
       " 0.021492507643872987,\n",
       " 0.02156647558759987,\n",
       " 0.021644990660008887,\n",
       " 0.022307369612987144,\n",
       " 0.022549148444802183,\n",
       " 0.0225867092572443,\n",
       " 0.022985576093913038,\n",
       " 0.02367546250937054,\n",
       " 0.02393205277844976,\n",
       " 0.0244514482482036,\n",
       " 0.024588438836331487,\n",
       " 0.02491616284023721,\n",
       " 0.024935596206417214,\n",
       " 0.025295015829756025,\n",
       " 0.025331646855560636,\n",
       " 0.025482669392532718,\n",
       " 0.025542520026484,\n",
       " 0.0257815161353824,\n",
       " 0.025912309400116827,\n",
       " 0.026133497949310473,\n",
       " 0.026637195429486237,\n",
       " 0.026677167974307667,\n",
       " 0.027060467959347856,\n",
       " 0.027231669923709817,\n",
       " 0.027309601447184324,\n",
       " 0.027503717769293168,\n",
       " 0.02760380498803254,\n",
       " 0.027779093499741093,\n",
       " 0.027804059626438928,\n",
       " 0.027889228110579024,\n",
       " 0.028071128931922183,\n",
       " 0.028249598759630977,\n",
       " 0.028258262348133396,\n",
       " 0.028350792067963457,\n",
       " 0.028730146873161683,\n",
       " 0.028859694227482365,\n",
       " 0.02892552253608645,\n",
       " 0.029086728035793603,\n",
       " 0.02936488015594477,\n",
       " 0.029585509313263265,\n",
       " 0.029726617221305273,\n",
       " 0.029788928567508432,\n",
       " 0.03022311782206524,\n",
       " 0.030266902223722112,\n",
       " 0.030291350680229586,\n",
       " 0.03035706660976818,\n",
       " 0.03046156356594607,\n",
       " 0.030521052602312932,\n",
       " 0.030617646883737352,\n",
       " 0.030742680145254712,\n",
       " 0.030765679907994968,\n",
       " 0.031022236012397852,\n",
       " 0.0311835505613342,\n",
       " 0.03122087547509084,\n",
       " 0.03132999786407161,\n",
       " 0.031954943651772184,\n",
       " 0.03197668401097986,\n",
       " 0.032142493191536586,\n",
       " 0.03216128982804438,\n",
       " 0.03221666279779447,\n",
       " 0.03227335751059683,\n",
       " 0.032520984814393694,\n",
       " 0.03355949914268661,\n",
       " 0.033560356511616415,\n",
       " 0.03356605851162442,\n",
       " 0.0337879149585254,\n",
       " 0.03397246548989948,\n",
       " 0.034375627415995404,\n",
       " 0.03438779915308223,\n",
       " 0.03447826730839575,\n",
       " 0.03447849702861908,\n",
       " 0.03488228576455613,\n",
       " 0.03505126057565333,\n",
       " 0.035112259867443034,\n",
       " 0.03534434641501188,\n",
       " 0.03550916132284022,\n",
       " 0.035769572254729064,\n",
       " 0.03586304364540947,\n",
       " 0.03599894911142067,\n",
       " 0.03623674637710772,\n",
       " 0.03678034882593155,\n",
       " 0.03726165608569072,\n",
       " 0.03728433446699293,\n",
       " 0.03731813157734114,\n",
       " 0.03737141416872614,\n",
       " 0.037533138462683205,\n",
       " 0.03763170198169085,\n",
       " 0.03771273966539631,\n",
       " 0.03780780389856329,\n",
       " 0.03787853195184742,\n",
       " 0.038031588115695354,\n",
       " 0.038083603769243864,\n",
       " 0.03814619252480643,\n",
       " 0.038356624457835144,\n",
       " 0.0385294151620204,\n",
       " 0.038543443197148,\n",
       " 0.03857473687950035,\n",
       " 0.03895366713919504,\n",
       " 0.03918672202009234,\n",
       " 0.03931072025496621,\n",
       " 0.03936880048346502,\n",
       " 0.039438692792758905,\n",
       " 0.03947871914682897,\n",
       " 0.03960507938390709,\n",
       " 0.0396576932787375,\n",
       " 0.04002660725670803,\n",
       " 0.04029969656349504,\n",
       " 0.04036141958517085,\n",
       " 0.04038908621262376,\n",
       " 0.04062288756246038,\n",
       " 0.04064358767864674,\n",
       " 0.04085828650579759,\n",
       " 0.041028330863301016,\n",
       " 0.04104453935661725,\n",
       " 0.04107955866791772,\n",
       " 0.04111407669825454,\n",
       " 0.041159600686145686,\n",
       " 0.0411900906135527,\n",
       " 0.0413274579290972,\n",
       " 0.041337026208791,\n",
       " 0.04150204872287027,\n",
       " 0.04151202802679515,\n",
       " 0.04172242061775181,\n",
       " 0.041740617129370876,\n",
       " 0.04180281292748151,\n",
       " 0.041957698057612486,\n",
       " 0.04208396109873633,\n",
       " 0.04211881122623242,\n",
       " 0.0421963153993585,\n",
       " 0.042310941259264254,\n",
       " 0.04250169338156664,\n",
       " 0.042676672267616775,\n",
       " 0.04282269941809908,\n",
       " 0.04300824856879181,\n",
       " 0.04311302485682052,\n",
       " 0.043770655262368,\n",
       " 0.043838353150072645,\n",
       " 0.043948079058429707,\n",
       " 0.04410174155097827,\n",
       " 0.04414751663507091,\n",
       " 0.04416140659652885,\n",
       " 0.04429610249006691,\n",
       " 0.04437961579000725,\n",
       " 0.04446175356836672,\n",
       " 0.044544476638905525,\n",
       " 0.04473082140416426,\n",
       " 0.044855035162641214,\n",
       " 0.04496189133076061,\n",
       " 0.04499794166345269,\n",
       " 0.04509023436266935,\n",
       " 0.04510754424664178,\n",
       " 0.04525055791213861,\n",
       " 0.04535125879718754,\n",
       " 0.04565391627906736,\n",
       " 0.04577731936064274,\n",
       " 0.04588833312311653,\n",
       " 0.0460813726454503,\n",
       " 0.0461220724243552,\n",
       " 0.04613774164913661,\n",
       " 0.04614085014010736,\n",
       " 0.04619573176489596,\n",
       " 0.04622525595469787,\n",
       " 0.04682378135786209,\n",
       " 0.0469659354185938,\n",
       " 0.04705024031088727,\n",
       " 0.04721498353655526,\n",
       " 0.047441327490307786,\n",
       " 0.047480408960196965,\n",
       " 0.04763802101533175,\n",
       " 0.04765600419071657,\n",
       " 0.047898539688613136,\n",
       " 0.04802027225828659,\n",
       " 0.048156122934889245,\n",
       " 0.048303235222378206,\n",
       " 0.04843582769152303,\n",
       " 0.048558433192596194,\n",
       " 0.04864272200669929,\n",
       " 0.048662799137772654,\n",
       " 0.04873220332694444,\n",
       " 0.04885855648609122,\n",
       " 0.049061175502330245,\n",
       " 0.049105453130302394,\n",
       " 0.049258112857095825,\n",
       " 0.04930076909477502,\n",
       " 0.04935474644942152,\n",
       " 0.049363013155930974,\n",
       " 0.04937987861195431,\n",
       " 0.04939329367025286,\n",
       " 0.04964824037398486,\n",
       " 0.04969526211522191,\n",
       " 0.049902458585933396,\n",
       " 0.049994571740511244,\n",
       " 0.050330257799312245,\n",
       " 0.050355341091181886,\n",
       " 0.05035636343650159,\n",
       " 0.050357475540155586,\n",
       " 0.05087305147311037,\n",
       " 0.05105793489129603,\n",
       " 0.05112916863693269,\n",
       " 0.051211729546137424,\n",
       " 0.0512641750257511,\n",
       " 0.05133099516535279,\n",
       " 0.05146806623419364,\n",
       " 0.05164338797852964,\n",
       " 0.05171070763306464,\n",
       " 0.05182264661617925,\n",
       " 0.05194182397569919,\n",
       " 0.052060547293963415,\n",
       " 0.05209159199305286,\n",
       " 0.05248943221918795,\n",
       " 0.052537536689048654,\n",
       " 0.05267526824100442,\n",
       " 0.05274473741169476,\n",
       " 0.05278874632836475,\n",
       " 0.05301381716267573,\n",
       " 0.05302220988924712,\n",
       " 0.053047245067295745,\n",
       " 0.053112639304237416,\n",
       " 0.053190350285174555,\n",
       " 0.05329152233791787,\n",
       " 0.05332082463504357,\n",
       " 0.053377684247447314,\n",
       " 0.053412439515365895,\n",
       " 0.053499377556055175,\n",
       " 0.0538306587682858,\n",
       " 0.05410977029384468,\n",
       " 0.054225020248059606,\n",
       " 0.05424664176055768,\n",
       " 0.054346849867883934,\n",
       " 0.054348094127695055,\n",
       " 0.05435458200762212,\n",
       " 0.05442460725199169,\n",
       " 0.05445097095680336,\n",
       " 0.05459395803437077,\n",
       " 0.05473413498524549,\n",
       " 0.054909810246231726,\n",
       " 0.055127474219184645,\n",
       " 0.05541140481844176,\n",
       " 0.05562482541376516,\n",
       " 0.05580582746358626,\n",
       " 0.055933785641417016,\n",
       " 0.056016009668290366,\n",
       " 0.056031125568659176,\n",
       " 0.056107386582818226,\n",
       " 0.05611860837765721,\n",
       " 0.056309386505390045,\n",
       " 0.056491512401896045,\n",
       " 0.05701854752425405,\n",
       " 0.057141966586801346,\n",
       " 0.05717618537974392,\n",
       " 0.05720798168396153,\n",
       " 0.0575621461060049,\n",
       " 0.057636160326200434,\n",
       " 0.057691246009235315,\n",
       " 0.05777363662390655,\n",
       " 0.057965493026243126,\n",
       " 0.058164834307611255,\n",
       " 0.05846587495450456,\n",
       " 0.0584709773780645,\n",
       " 0.0586080452105335,\n",
       " 0.05874366273452761,\n",
       " 0.05887849648900259,\n",
       " 0.05888670696204264,\n",
       " 0.0588888423310921,\n",
       " 0.05894785381532694,\n",
       " 0.05896737866614485,\n",
       " 0.059005944098519454,\n",
       " 0.059088267143877084,\n",
       " 0.0591557792154059,\n",
       " 0.05928068011207635,\n",
       " 0.05937393181268278,\n",
       " 0.0593892783221259,\n",
       " 0.05939454232662486,\n",
       " 0.059438560240879505,\n",
       " 0.05945828208833896,\n",
       " 0.059511308180308496,\n",
       " 0.05953171919767068,\n",
       " 0.05956243180287101,\n",
       " 0.05963376829596275,\n",
       " 0.05973536676485622,\n",
       " 0.0597784607289272,\n",
       " 0.05983797685920673,\n",
       " 0.05986896644739899,\n",
       " 0.05991875639113194,\n",
       " 0.060024420399683254,\n",
       " 0.06013011773176493,\n",
       " 0.0602199968028426,\n",
       " 0.06029759754446714,\n",
       " 0.060398473833067824,\n",
       " 0.06047263836720343,\n",
       " 0.06066863452427845,\n",
       " 0.0606971304336252,\n",
       " 0.060747201913123425,\n",
       " 0.06093341850113483,\n",
       " 0.06127952779834856,\n",
       " 0.061305134104443305,\n",
       " 0.06143311300006691,\n",
       " 0.06159126577359324,\n",
       " 0.06184387764235578,\n",
       " 0.06209709192430084,\n",
       " 0.06214861989596325,\n",
       " 0.06222063043677486,\n",
       " 0.062240633660867684,\n",
       " 0.06242677912889493,\n",
       " 0.06245908861657584,\n",
       " 0.06261409504317908,\n",
       " 0.0626503304586457,\n",
       " 0.06284451434174519,\n",
       " 0.06331839966092727,\n",
       " 0.06342097539973478,\n",
       " 0.06359638054323394,\n",
       " 0.06370885898482964,\n",
       " 0.0640312666916756,\n",
       " 0.06403397743658766,\n",
       " 0.06411711392671288,\n",
       " 0.06439093650252467,\n",
       " 0.06464740011533715,\n",
       " 0.06498228483499191,\n",
       " 0.0650492300523021,\n",
       " 0.06505036262565252,\n",
       " 0.0652064281006827,\n",
       " 0.0653433813199638,\n",
       " 0.06559021028300044,\n",
       " 0.06568752639736757,\n",
       " 0.06582029344174932,\n",
       " 0.0658944779684544,\n",
       " 0.06589644809196363,\n",
       " 0.06598590889997107,\n",
       " 0.06604075274408448,\n",
       " 0.06616563568480789,\n",
       " 0.06621531380986906,\n",
       " 0.06622028530794707,\n",
       " 0.0663906782264287,\n",
       " 0.06651278107906869,\n",
       " 0.06654425374957684,\n",
       " 0.06659923585337076,\n",
       " 0.06673339468607872,\n",
       " 0.06726467045288811,\n",
       " 0.06728043008249963,\n",
       " 0.06729945719048332,\n",
       " 0.06730844402422517,\n",
       " 0.06773805900871804,\n",
       " 0.06812164682478357,\n",
       " 0.06822323406659878,\n",
       " 0.06825858677400543,\n",
       " 0.06837978344510881,\n",
       " 0.06848279534188803,\n",
       " 0.06849831314268955,\n",
       " 0.06851101529118081,\n",
       " 0.0686071498938359,\n",
       " 0.06862638260882614,\n",
       " 0.06890009401495259,\n",
       " 0.06890805284940803,\n",
       " 0.06901792111904519,\n",
       " 0.06916480284875573,\n",
       " 0.06922902844452922,\n",
       " 0.06923777593838785,\n",
       " 0.06926421858442947,\n",
       " 0.06929042000799862,\n",
       " 0.06943446502861786,\n",
       " 0.06952242202545157,\n",
       " 0.06962656696882587,\n",
       " 0.0697282780890705,\n",
       " 0.06973841696542261,\n",
       " 0.06975075851953502,\n",
       " 0.06977417215092722,\n",
       " 0.06981499734193156,\n",
       " 0.06987907438993464,\n",
       " 0.07005583445263337,\n",
       " 0.07020401607139301,\n",
       " 0.07044586764170742,\n",
       " 0.07045031628050263,\n",
       " 0.07063436728759066,\n",
       " 0.07074312004364856,\n",
       " 0.07075025936414854,\n",
       " 0.07079629880977857,\n",
       " 0.07082128647607902,\n",
       " 0.07088012418986604,\n",
       " 0.07110550991608104,\n",
       " 0.07120141466261654,\n",
       " 0.07120373031285672,\n",
       " 0.07134641586620538,\n",
       " 0.07141929149062155,\n",
       " 0.07143421897731905,\n",
       " 0.0715347983491066,\n",
       " 0.07155823733092041,\n",
       " 0.07170801566375437,\n",
       " 0.07174726839437869,\n",
       " 0.07184469544377012,\n",
       " 0.0721400168109337,\n",
       " 0.07218887468553793,\n",
       " 0.07219404057601131,\n",
       " 0.072215659342058,\n",
       " 0.07226615784655682,\n",
       " 0.07226897451555375,\n",
       " 0.0727142629880961,\n",
       " 0.07305044341899469,\n",
       " 0.07320166899787914,\n",
       " 0.07321087929729954,\n",
       " 0.07325067701011512,\n",
       " 0.07330862597582564,\n",
       " 0.07334260135545953,\n",
       " 0.07342772399391237,\n",
       " 0.07357009995614076,\n",
       " 0.07359014754139252,\n",
       " 0.07359566613880127,\n",
       " 0.07368427407147658,\n",
       " 0.07381313600609174,\n",
       " 0.07386412796689162,\n",
       " 0.07392442833159896,\n",
       " 0.0739432662177394,\n",
       " 0.07409671137916081,\n",
       " 0.0743500457209734,\n",
       " 0.07442243405266862,\n",
       " 0.07456746003614233,\n",
       " 0.07462675055042266,\n",
       " 0.07479464693783869,\n",
       " 0.07511650176522247,\n",
       " 0.07536379557329759,\n",
       " 0.07539050071020327,\n",
       " 0.07543838659508034,\n",
       " 0.07549179186746878,\n",
       " 0.07569505669974692,\n",
       " 0.0759304706346562,\n",
       " 0.0759438975575427,\n",
       " 0.07594473956790022,\n",
       " 0.07610824186360361,\n",
       " 0.07615055302315064,\n",
       " 0.07619343586502848,\n",
       " 0.0762523846795922,\n",
       " 0.07657867418999283,\n",
       " 0.07675098119310333,\n",
       " 0.07681565475783621,\n",
       " 0.07699849972264845,\n",
       " 0.07723430068085689,\n",
       " 0.0772457527903657,\n",
       " 0.07724765810973455,\n",
       " 0.07725315719804854,\n",
       " 0.07759986617009385,\n",
       " 0.07761825303607188,\n",
       " 0.07807841311512369,\n",
       " 0.07808781150021324,\n",
       " 0.07813801681002089,\n",
       " 0.07836507744214942,\n",
       " 0.07844033257295224,\n",
       " 0.07849376051781318,\n",
       " 0.0785549748824824,\n",
       " 0.07886030563663043,\n",
       " 0.07921127296503215,\n",
       " 0.07926712856178948,\n",
       " 0.07958935410543226,\n",
       " 0.07959396019526381,\n",
       " 0.0796311718514328,\n",
       " 0.07986818628896977,\n",
       " 0.07991856428705413,\n",
       " 0.0802546351318189,\n",
       " 0.080334338376283,\n",
       " 0.08042376401384206,\n",
       " 0.08054567643099658,\n",
       " 0.08078833952524114,\n",
       " 0.08086611094091471,\n",
       " 0.08096046810584037,\n",
       " 0.08097033831247548,\n",
       " 0.0810604723395162,\n",
       " 0.08108593545513097,\n",
       " 0.08132987070981114,\n",
       " 0.08135702913691072,\n",
       " 0.0816074634711035,\n",
       " 0.08184447706959065,\n",
       " 0.08194068711849563,\n",
       " 0.08198152299561237,\n",
       " 0.08199672593044677,\n",
       " 0.08211138562772606,\n",
       " 0.08221688261282228,\n",
       " 0.08238581213884848,\n",
       " 0.08253285889438754,\n",
       " 0.08286973110116153,\n",
       " 0.08293176609722898,\n",
       " 0.08294093691996622,\n",
       " 0.08312424221872994,\n",
       " 0.0831274759005614,\n",
       " 0.08343189594556702,\n",
       " 0.08372888719323246,\n",
       " 0.08390191395312688,\n",
       " 0.08394710321889134,\n",
       " 0.08398097373159188,\n",
       " 0.08402878422109404,\n",
       " 0.08420682912820371,\n",
       " 0.08421695166246583,\n",
       " 0.08427092083588943,\n",
       " 0.08446740599238048,\n",
       " 0.08460935646935291,\n",
       " 0.08468995263179646,\n",
       " 0.08485979106505899,\n",
       " 0.08499729747188962,\n",
       " 0.08508141739275933,\n",
       " 0.08528274418266692,\n",
       " 0.08537742296712311,\n",
       " 0.08538902283620974,\n",
       " 0.0854957981697409,\n",
       " 0.08572661629686698,\n",
       " 0.08584442601339047,\n",
       " 0.08601450628343867,\n",
       " 0.08603616198337241,\n",
       " 0.08655216440274953,\n",
       " 0.08659000386694472,\n",
       " 0.08660024810265442,\n",
       " 0.08688852988324844,\n",
       " 0.08699668706893332,\n",
       " 0.08702641757293823,\n",
       " 0.08703062297036,\n",
       " 0.087243401925747,\n",
       " 0.0875118860202635,\n",
       " 0.08755041492499291,\n",
       " 0.08758457597361234,\n",
       " 0.0877460532060285,\n",
       " 0.08790449885261833,\n",
       " 0.08793760346189554,\n",
       " 0.0879514141721916,\n",
       " 0.08839992382524753,\n",
       " 0.08840143197828415,\n",
       " 0.08859122740142857,\n",
       " 0.08878177037769798,\n",
       " 0.0888062202177077,\n",
       " 0.08880695468256466,\n",
       " 0.0888246459957416,\n",
       " 0.08922660960845338,\n",
       " 0.08931561484724215,\n",
       " 0.08937114368697792,\n",
       " 0.08958439419361908,\n",
       " 0.08970527026974896,\n",
       " 0.08974412216162998,\n",
       " 0.0897752429234365,\n",
       " 0.08995413191282318,\n",
       " 0.09075319581047084,\n",
       " 0.09075855019582896,\n",
       " 0.09095663449475405,\n",
       " 0.09118108992185285,\n",
       " 0.09121696841024945,\n",
       " 0.09122488187366623,\n",
       " 0.09152892235834556,\n",
       " 0.09173343620494853,\n",
       " 0.09179667338935492,\n",
       " 0.09189694051705681,\n",
       " 0.09193283594179978,\n",
       " 0.09197254326286808,\n",
       " 0.09201369892743048,\n",
       " 0.09203233229093452,\n",
       " 0.0920550049856038,\n",
       " 0.09211682082846522,\n",
       " 0.09225587217016822,\n",
       " 0.09227512410401252,\n",
       " 0.09228474026074825,\n",
       " 0.09245463524704373,\n",
       " 0.0925148579571494,\n",
       " 0.09268961041961521,\n",
       " 0.09278360367464776,\n",
       " 0.09298137119440356,\n",
       " 0.09306322156737287,\n",
       " 0.09327743289362919,\n",
       " 0.0933512654488919,\n",
       " 0.09348426106718784,\n",
       " 0.09373267540320399,\n",
       " 0.09380998159265125,\n",
       " 0.09426688296940168,\n",
       " 0.09452559321724154,\n",
       " 0.09482590857436564,\n",
       " 0.0949155091779681,\n",
       " 0.0950548101949912,\n",
       " 0.09564550295732477,\n",
       " 0.09588096445059811,\n",
       " 0.09606184293624524,\n",
       " 0.09626249838170135,\n",
       " 0.09629404467810275,\n",
       " 0.096335873331559,\n",
       " 0.09641328855100881,\n",
       " 0.09666148697327374,\n",
       " 0.09671922425915692,\n",
       " 0.09706546732039052,\n",
       " 0.09719891854149919,\n",
       " 0.0972503274645455,\n",
       " 0.09725427294744075,\n",
       " 0.09737987841955524,\n",
       " 0.09743677966435159,\n",
       " 0.09763497261214373,\n",
       " 0.09793941793443205,\n",
       " 0.09813370268981865,\n",
       " 0.09830565340286569,\n",
       " 0.09879344646192952,\n",
       " 0.09899833595061808,\n",
       " 0.0992348272635998,\n",
       " 0.09957044933853162,\n",
       " 0.09968233836374225,\n",
       " 0.10028578284959955,\n",
       " 0.10031646849962453,\n",
       " 0.10032401063334888,\n",
       " 0.10070143009081797,\n",
       " 0.10103068723893373,\n",
       " 0.10127615741328805,\n",
       " 0.10149481866471965,\n",
       " 0.10155785056856818,\n",
       " 0.1016499986560033,\n",
       " 0.10168624116341858,\n",
       " 0.10196939374012293,\n",
       " 0.10201577705408177,\n",
       " 0.10217531968109393,\n",
       " 0.10218866204305904,\n",
       " 0.1022325855091424,\n",
       " 0.10236324148699277,\n",
       " 0.10245191399262457,\n",
       " 0.10267099830287083,\n",
       " 0.10282044634283663,\n",
       " 0.10283215950527497,\n",
       " 0.10308946750519447,\n",
       " 0.10313833392031477,\n",
       " 0.10318879795420045,\n",
       " 0.10329920035852865,\n",
       " 0.1036213485350103,\n",
       " 0.10376129839276474,\n",
       " 0.1037737772063713,\n",
       " 0.10377864907450739,\n",
       " 0.1040210513481191,\n",
       " 0.10409741895807378,\n",
       " 0.10419841723006873,\n",
       " 0.10426765315626246,\n",
       " 0.10455288492401597,\n",
       " 0.10469529553374303,\n",
       " 0.10471154370797034,\n",
       " 0.10472863366721977,\n",
       " 0.10474455784369333,\n",
       " 0.1049388599465947,\n",
       " 0.10510382481509808,\n",
       " 0.10514304765833499,\n",
       " 0.10515180811175408,\n",
       " 0.10520136910912478,\n",
       " 0.10528484667369521,\n",
       " 0.10536714682085807,\n",
       " 0.10546483541145465,\n",
       " 0.10557097138483429,\n",
       " 0.10587307242122383,\n",
       " 0.10627095476294932,\n",
       " 0.10653653765465448,\n",
       " 0.10656692231194076,\n",
       " 0.10666301720968033,\n",
       " 0.10668132125233679,\n",
       " 0.10673727579208894,\n",
       " 0.10680936068727005,\n",
       " 0.10696427334686671,\n",
       " 0.10705429896336245,\n",
       " 0.10705509270069917,\n",
       " 0.10708528753655361,\n",
       " 0.10723871666041271,\n",
       " 0.10745346115977668,\n",
       " 0.10774011735629403,\n",
       " 0.10793991811465516,\n",
       " 0.10799895678880854,\n",
       " 0.10807193985072132,\n",
       " 0.10807350704237845,\n",
       " 0.10827612001626949,\n",
       " 0.10833651493275635,\n",
       " 0.1083701262851719,\n",
       " 0.10899470460186496,\n",
       " 0.10956233247921451,\n",
       " 0.10967498192173776,\n",
       " 0.10972461049060313,\n",
       " 0.10977702427021371,\n",
       " 0.10992138834085147,\n",
       " 0.11005615356691888,\n",
       " 0.11009637037866275,\n",
       " 0.1101938676424079,\n",
       " 0.11019469840134598,\n",
       " 0.11040271532358358,\n",
       " 0.11059789405135052,\n",
       " 0.1106043955201336,\n",
       " 0.11074144557715157,\n",
       " 0.11106122094342132,\n",
       " 0.11117040833861627,\n",
       " 0.11128645150568557,\n",
       " 0.11132859534760925,\n",
       " 0.111461715848794,\n",
       " 0.11192639782260283,\n",
       " 0.11221542472644824,\n",
       " 0.11221801367521916,\n",
       " 0.11223578146297898,\n",
       " 0.1122764333854108,\n",
       " 0.11229263327820217,\n",
       " 0.11232344942074554,\n",
       " 0.11245393995631998,\n",
       " 0.11272886825877183,\n",
       " 0.11290183440145539,\n",
       " 0.11312395841744947,\n",
       " 0.11333977789190092,\n",
       " 0.11338229883200474,\n",
       " 0.11351446687080798,\n",
       " 0.11364375655013909,\n",
       " 0.1136488816938941,\n",
       " 0.11375487972322319,\n",
       " 0.11379415839774222,\n",
       " 0.11406119275812553,\n",
       " 0.11437878799886628,\n",
       " 0.11450713199949732,\n",
       " 0.1145504578976132,\n",
       " 0.1146525157320182,\n",
       " 0.11496402764145888,\n",
       " 0.11521477796317645,\n",
       " 0.11527342632997703,\n",
       " 0.11534752907648765,\n",
       " 0.11560158800405054,\n",
       " 0.11576863508000705,\n",
       " 0.1158453502099738,\n",
       " 0.11650733428687685,\n",
       " 0.11658981278365553,\n",
       " 0.11668222332158905,\n",
       " 0.11709873676140121,\n",
       " 0.11715710204254777,\n",
       " 0.11716444746241468,\n",
       " 0.11717567226436656,\n",
       " 0.11739720410885421,\n",
       " 0.11744769952926695,\n",
       " 0.11746836169446967,\n",
       " 0.11749147721298411,\n",
       " 0.11781766866600794,\n",
       " 0.11792044333785785,\n",
       " 0.1180162602310911,\n",
       " 0.11825075357586334,\n",
       " 0.11825328251233676,\n",
       " 0.11827013233363473,\n",
       " 0.11850070202433115,\n",
       " 0.11867250743788584,\n",
       " 0.11877877319253267,\n",
       " 0.11923932423844436,\n",
       " 0.11933088978982619,\n",
       " 0.11934084549597752,\n",
       " 0.11937024896558611,\n",
       " 0.1194960749614185,\n",
       " 0.11960846774343266,\n",
       " 0.11971426334101672,\n",
       " 0.11978546160521124,\n",
       " 0.12024820573768175,\n",
       " 0.12027181616568,\n",
       " 0.12028816687127204,\n",
       " 0.12035455122546425,\n",
       " 0.12098850172514687,\n",
       " 0.12111681286581291,\n",
       " 0.12117564913957005,\n",
       " 0.12124819958931213,\n",
       " 0.1214633017306862,\n",
       " 0.12146617700495387,\n",
       " 0.1217351649406446,\n",
       " 0.12208957671099531,\n",
       " 0.12209441239388694,\n",
       " 0.12210271226260286,\n",
       " 0.12230064438097388,\n",
       " 0.12252695782297365,\n",
       " 0.12270997291374475,\n",
       " 0.12283491058980543,\n",
       " 0.12295115228072255,\n",
       " 0.12296424547078152,\n",
       " 0.1229757227944256,\n",
       " 0.12300083942384941,\n",
       " 0.12314329008219768,\n",
       " 0.1232667158072809,\n",
       " 0.1234059095826892,\n",
       " 0.12355508788193494,\n",
       " 0.1236450917441651,\n",
       " 0.12407569923641307,\n",
       " 0.1242009037069152,\n",
       " 0.12427234907985968,\n",
       " 0.12475875288665336,\n",
       " 0.12478532141453616,\n",
       " 0.1252354684377701,\n",
       " 0.1253900355914144,\n",
       " 0.1254871539145144,\n",
       " 0.1258009721366278,\n",
       " 0.12585474672926378,\n",
       " 0.12600170931414073,\n",
       " 0.12605347986955875,\n",
       " 0.12630189438067693,\n",
       " 0.12642595034190868,\n",
       " 0.12644345553819883,\n",
       " 0.12662985500782334,\n",
       " 0.12668162682667194,\n",
       " 0.12669867812532887,\n",
       " 0.12672979829433648,\n",
       " 0.12676405007505223,\n",
       " 0.12678828246380663,\n",
       " 0.12697619230910023,\n",
       " 0.12728180090985092,\n",
       " 0.12731468942870838,\n",
       " 0.12735960889745868,\n",
       " 0.12759699895619672,\n",
       " 0.1276016455379818,\n",
       " 0.12764520895664141,\n",
       " 0.12789011700833477,\n",
       " 0.12803782473085046,\n",
       " 0.12824017727139264,\n",
       " 0.12840348455756168,\n",
       " 0.12877854347872075,\n",
       " 0.12879098398597555,\n",
       " 0.12884353182921443,\n",
       " 0.1292498347332632,\n",
       " 0.12925893431992327,\n",
       " 0.1298842693517731,\n",
       " 0.1300376971158326,\n",
       " 0.13012993974275436,\n",
       " 0.13087798690475602,\n",
       " 0.1310531550149092,\n",
       " 0.13106886441407095,\n",
       " 0.1311689516443738,\n",
       " 0.13117977827348537,\n",
       " 0.1313797907263796,\n",
       " 0.13207445290545555,\n",
       " 0.1323554076098116,\n",
       " 0.13241778806387658,\n",
       " 0.13245374423696352,\n",
       " 0.1324782406378491,\n",
       " 0.1326836735987524,\n",
       " 0.13268853126432154,\n",
       " 0.13339943129854642,\n",
       " 0.13378392977351544,\n",
       " 0.13402350954497852,\n",
       " 0.13406312260213124,\n",
       " 0.1341390650886071,\n",
       " 0.13414066731914426,\n",
       " 0.13447151920941317,\n",
       " 0.13478360547233045,\n",
       " 0.13495525644341158,\n",
       " 0.13507591609824593,\n",
       " 0.13513925937043128,\n",
       " 0.13527345741183244,\n",
       " 0.13527712146348964,\n",
       " 0.13571156234096393,\n",
       " 0.1361292556227025,\n",
       " 0.1361576835085508,\n",
       " 0.13641932244795194,\n",
       " 0.13654947118254987,\n",
       " 0.1365661126089823,\n",
       " 0.13661403359894925,\n",
       " 0.13671825959153033,\n",
       " 0.1367958541394101,\n",
       " 0.13698645802415008,\n",
       " 0.13728496002109533,\n",
       " 0.13729748827556243,\n",
       " 0.13752595216300448,\n",
       " 0.1375835820192674,\n",
       " 0.13762887543025615,\n",
       " 0.13769551328729593,\n",
       " 0.13776850856242093,\n",
       " 0.13784565868494708,\n",
       " 0.13812959642282321,\n",
       " 0.1382350076441592,\n",
       " 0.13840243372426106,\n",
       " 0.13888631715256378,\n",
       " 0.13889007573118659,\n",
       " 0.13898570760485116,\n",
       " 0.139255496559108,\n",
       " 0.1393660458381049,\n",
       " 0.1394612521262751,\n",
       " 0.1395801052158154,\n",
       " 0.13965046773567044,\n",
       " 0.13986005388135248,\n",
       " 0.13991282633566826,\n",
       " 0.1401754685288807,\n",
       " 0.140250621801749,\n",
       " 0.14028717082974027,\n",
       " 0.1403534944725237,\n",
       " 0.14037913816754205,\n",
       " 0.1406629409808916,\n",
       " 0.14084946390997058,\n",
       " 0.1408807694444801,\n",
       " 0.1411307028137896,\n",
       " 0.14120597717659808,\n",
       " 0.1412614622824675,\n",
       " 0.14173491325502846,\n",
       " 0.14177180181183002,\n",
       " 0.14177303028041832,\n",
       " 0.14180322809940435,\n",
       " 0.141917368329109,\n",
       " 0.14195504858345506,\n",
       " 0.14220096407293506,\n",
       " 0.14306522379945003,\n",
       " 0.14326704310157326,\n",
       " 0.143441176562991,\n",
       " 0.14351342424097185,\n",
       " 0.14367611188179985,\n",
       " 0.14424401604287176,\n",
       " 0.1443246414631655,\n",
       " 0.1444665489647523,\n",
       " 0.1445543668088588,\n",
       " 0.14472861972691256,\n",
       " 0.14479504617652955,\n",
       " 0.1448396805366893,\n",
       " 0.14530025483207884,\n",
       " 0.14531696116327142,\n",
       " 0.1455850174643659,\n",
       " 0.14572664557646095,\n",
       " 0.14594713274600823,\n",
       " 0.14625498780726112,\n",
       " 0.14691477717938786,\n",
       " 0.14693926252738368,\n",
       " 0.14693976195278277,\n",
       " 0.1469630569602305,\n",
       " 0.14704446951037325,\n",
       " 0.14735918756807706,\n",
       " 0.14772112846695862,\n",
       " 0.14776843664736844,\n",
       " 0.14786344940453772,\n",
       " 0.14789385092061363,\n",
       " 0.14791647824043208,\n",
       " 0.14833564412625957,\n",
       " 0.14838978152458376,\n",
       " 0.14876756605645108,\n",
       " 0.1488054350947658,\n",
       " 0.14916210244246345,\n",
       " 0.14925439923082598,\n",
       " 0.14925811172515732,\n",
       " 0.14933239746287624,\n",
       " 0.1493826047376433,\n",
       " 0.14963539146546664,\n",
       " 0.14981626972730494,\n",
       " 0.14982594126513793,\n",
       " 0.15000592187568398,\n",
       " 0.15024452522690754,\n",
       " 0.15076504549455752,\n",
       " 0.15106026972438563,\n",
       " 0.15141976114618583,\n",
       " 0.15145074315389073,\n",
       " 0.15145634445275907,\n",
       " 0.15148224403582483,\n",
       " 0.15179446001568841,\n",
       " 0.15186749991972398,\n",
       " 0.15186869791529714,\n",
       " 0.1522866051922956,\n",
       " 0.1525530338889081,\n",
       " 0.15276956025601715,\n",
       " 0.15300163683941873,\n",
       " 0.15306170991974127,\n",
       " 0.15306490283567492,\n",
       " 0.1532622318420327,\n",
       " 0.15333365786540665,\n",
       " 0.1533972158420768,\n",
       " 0.15345652625196343,\n",
       " 0.15355566091290473,\n",
       " 0.1536278521509153,\n",
       " 0.15368427191894563,\n",
       " 0.15399643034386926,\n",
       " 0.15406462973908505,\n",
       " 0.15424151964144997,\n",
       " 0.15439326887914653,\n",
       " 0.15439450354682188,\n",
       " 0.154703504509358,\n",
       " 0.1547411963086522,\n",
       " 0.15481433962846947,\n",
       " 0.1548902432953495,\n",
       " 0.15489997003364486,\n",
       " 0.15492884764932974,\n",
       " 0.15510190266293156,\n",
       " 0.15510861688283148,\n",
       " 0.1557148718345978,\n",
       " 0.15574678625512622,\n",
       " 0.15614110225591263,\n",
       " 0.1562114244714232,\n",
       " 0.15666510218327917,\n",
       " 0.1568424584841561,\n",
       " 0.15757167287977444,\n",
       " 0.15783316243382053,\n",
       " 0.15787858061658772,\n",
       " 0.15856985000413595,\n",
       " 0.1587956266479999,\n",
       " 0.15882421570316513,\n",
       " 0.1591113492353137,\n",
       " 0.15938123080000427,\n",
       " 0.1593865576941446,\n",
       " 0.15955018923798683,\n",
       " 0.15963059700076693,\n",
       " 0.15986994565771043,\n",
       " 0.16000495962836686,\n",
       " 0.1606504106052988,\n",
       " 0.16107016503986343,\n",
       " 0.16121845873135188,\n",
       " 0.16128028621050505,\n",
       " 0.16128901501491855,\n",
       " 0.16136747132101972,\n",
       " ...]"
      ]
     },
     "execution_count": 61,
     "metadata": {},
     "output_type": "execute_result"
    }
   ],
   "source": [
    "sorted(probs)"
   ]
  },
  {
   "cell_type": "code",
   "execution_count": 62,
   "metadata": {},
   "outputs": [
    {
     "data": {
      "text/html": [
       "<div>\n",
       "<style scoped>\n",
       "    .dataframe tbody tr th:only-of-type {\n",
       "        vertical-align: middle;\n",
       "    }\n",
       "\n",
       "    .dataframe tbody tr th {\n",
       "        vertical-align: top;\n",
       "    }\n",
       "\n",
       "    .dataframe thead th {\n",
       "        text-align: right;\n",
       "    }\n",
       "</style>\n",
       "<table border=\"1\" class=\"dataframe\">\n",
       "  <thead>\n",
       "    <tr style=\"text-align: right;\">\n",
       "      <th></th>\n",
       "      <th>fpr</th>\n",
       "      <th>tpr</th>\n",
       "      <th>thr</th>\n",
       "    </tr>\n",
       "  </thead>\n",
       "  <tbody>\n",
       "    <tr>\n",
       "      <th>0</th>\n",
       "      <td>0.000000</td>\n",
       "      <td>0.000000</td>\n",
       "      <td>1.931711</td>\n",
       "    </tr>\n",
       "    <tr>\n",
       "      <th>1</th>\n",
       "      <td>0.000000</td>\n",
       "      <td>0.002457</td>\n",
       "      <td>0.931711</td>\n",
       "    </tr>\n",
       "    <tr>\n",
       "      <th>2</th>\n",
       "      <td>0.000000</td>\n",
       "      <td>0.014742</td>\n",
       "      <td>0.839885</td>\n",
       "    </tr>\n",
       "    <tr>\n",
       "      <th>3</th>\n",
       "      <td>0.001255</td>\n",
       "      <td>0.014742</td>\n",
       "      <td>0.827222</td>\n",
       "    </tr>\n",
       "    <tr>\n",
       "      <th>4</th>\n",
       "      <td>0.001255</td>\n",
       "      <td>0.017199</td>\n",
       "      <td>0.809916</td>\n",
       "    </tr>\n",
       "  </tbody>\n",
       "</table>\n",
       "</div>"
      ],
      "text/plain": [
       "        fpr       tpr       thr\n",
       "0  0.000000  0.000000  1.931711\n",
       "1  0.000000  0.002457  0.931711\n",
       "2  0.000000  0.014742  0.839885\n",
       "3  0.001255  0.014742  0.827222\n",
       "4  0.001255  0.017199  0.809916"
      ]
     },
     "execution_count": 62,
     "metadata": {},
     "output_type": "execute_result"
    }
   ],
   "source": [
    "pd.DataFrame({\n",
    "    'fpr':fpr,\n",
    "    'tpr':tpr,\n",
    "    'thr':thr\n",
    "}).head()"
   ]
  },
  {
   "cell_type": "code",
   "execution_count": null,
   "metadata": {},
   "outputs": [],
   "source": []
  },
  {
   "cell_type": "code",
   "execution_count": 73,
   "metadata": {},
   "outputs": [],
   "source": [
    "from sklearn.metrics import roc_auc_score, average_precision_score"
   ]
  },
  {
   "cell_type": "code",
   "execution_count": 74,
   "metadata": {},
   "outputs": [
    {
     "data": {
      "text/plain": [
       "0.7659739863129692"
      ]
     },
     "execution_count": 74,
     "metadata": {},
     "output_type": "execute_result"
    }
   ],
   "source": [
    "roc_auc_score(y_test, probs)"
   ]
  },
  {
   "cell_type": "code",
   "execution_count": 75,
   "metadata": {},
   "outputs": [
    {
     "data": {
      "text/plain": [
       "0.475147561400464"
      ]
     },
     "execution_count": 75,
     "metadata": {},
     "output_type": "execute_result"
    }
   ],
   "source": [
    "average_precision_score(y_test, probs)"
   ]
  },
  {
   "cell_type": "markdown",
   "metadata": {},
   "source": [
    "# Plotting ROC & Precision-Recall Curves from scratch"
   ]
  },
  {
   "cell_type": "code",
   "execution_count": 63,
   "metadata": {},
   "outputs": [],
   "source": [
    "def plot_roc_curve_from_scratch(y_true, thresholds):\n",
    "    xax, yax = [], []\n",
    "    for thr in thresholds:\n",
    "        preds = Binarizer(threshold=thr).fit_transform([probs]).ravel()\n",
    "        tn, fp, fn, tp = confusion_matrix(y_test, preds).ravel()\n",
    "        \n",
    "        fpr1 = fp/(fp+tn)\n",
    "        tpr1 = tp/(tp+fn)\n",
    "        \n",
    "        xax.append(fpr1)\n",
    "        yax.append(tpr1)\n",
    "    return xax, yax"
   ]
  },
  {
   "cell_type": "code",
   "execution_count": 67,
   "metadata": {},
   "outputs": [],
   "source": [
    "xax, yax = plot_roc_curve_from_scratch(y_test, np.linspace(0,1,30))"
   ]
  },
  {
   "cell_type": "code",
   "execution_count": 68,
   "metadata": {},
   "outputs": [
    {
     "data": {
      "text/plain": [
       "<matplotlib.collections.PathCollection at 0x1c1bfd67e48>"
      ]
     },
     "execution_count": 68,
     "metadata": {},
     "output_type": "execute_result"
    },
    {
     "data": {
      "image/png": "[encoded data removed]",
      "text/plain": [
       "<Figure size 432x288 with 1 Axes>"
      ]
     },
     "metadata": {
      "needs_background": "light"
     },
     "output_type": "display_data"
    }
   ],
   "source": [
    "plt.scatter(xax, yax)"
   ]
  },
  {
   "cell_type": "code",
   "execution_count": null,
   "metadata": {},
   "outputs": [],
   "source": []
  },
  {
   "cell_type": "code",
   "execution_count": 69,
   "metadata": {},
   "outputs": [],
   "source": [
    "def plot_pr_curve_curve_from_scratch(y_true, thresholds):\n",
    "    xax_pr, yax_pr = [], []\n",
    "    for thr in thresholds:\n",
    "        preds = Binarizer(threshold=thr).fit_transform([probs]).ravel()\n",
    "        tn, fp, fn, tp = confusion_matrix(y_test, preds).ravel()\n",
    "        \n",
    "        precision = tp/(fp+tp)\n",
    "        recall = tp/(tp+fn)\n",
    "        \n",
    "        xax_pr.append(recall)\n",
    "        yax_pr.append(precision)\n",
    "    return xax_pr, yax_pr"
   ]
  },
  {
   "cell_type": "code",
   "execution_count": 71,
   "metadata": {},
   "outputs": [],
   "source": [
    "xax_pr, yax_pr = plot_pr_curve_curve_from_scratch(y_test, [0.1,0.2,0.3,0.4,0.5,0.6])"
   ]
  },
  {
   "cell_type": "code",
   "execution_count": 72,
   "metadata": {},
   "outputs": [
    {
     "data": {
      "text/plain": [
       "<matplotlib.collections.PathCollection at 0x1c1bfec1780>"
      ]
     },
     "execution_count": 72,
     "metadata": {},
     "output_type": "execute_result"
    },
    {
     "data": {
      "image/png": "[encoded data removed]",
      "text/plain": [
       "<Figure size 432x288 with 1 Axes>"
      ]
     },
     "metadata": {
      "needs_background": "light"
     },
     "output_type": "display_data"
    }
   ],
   "source": [
    "plt.scatter(xax_pr, yax_pr)"
   ]
  }
 ],
 "metadata": {
  "kernelspec": {
   "display_name": "Python 3",
   "language": "python",
   "name": "python3"
  },
  "language_info": {
   "codemirror_mode": {
    "name": "ipython",
    "version": 3
   },
   "file_extension": ".py",
   "mimetype": "text/x-python",
   "name": "python",
   "nbconvert_exporter": "python",
   "pygments_lexer": "ipython3",
   "version": "3.7.3"
  }
 },
 "nbformat": 4,
 "nbformat_minor": 2
}
