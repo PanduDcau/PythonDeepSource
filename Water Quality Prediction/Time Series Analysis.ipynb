{
 "cells": [
  {
   "metadata": {
    "_uuid": "82b3b6c2dabd0ad00fcebe67ca5626753fb9365c"
   },
   "cell_type": "markdown",
   "source": [
    "<h2><center>Deep Learning for Time Series Forecasting</center></h2>\n",
    "\n",
    "<img src=\"https://raw.githubusercontent.com/dimitreOliveira/MachineLearning/master/Kaggle/Store%20Item%20Demand%20Forecasting%20Challenge/time-series%20graph.png\" width=\"800\">\n",
    "\n",
    "### The goal of this notebook is to develop and compare different approaches to time-series problems.\n",
    "\n",
    "#### Content:\n",
    "* [Time series visualization with ploty](#Basic-EDA).\n",
    "* [How to transform a time series dataset into a supervised learning problem](#Transform-the-data-into-a-time-series-problem).\n",
    "* [How to develop a Multilayer Perceptron model for a univariate time series forecasting problem](#MLP-for-Time-Series-Forecasting).\n",
    "* [How to develop a Convolutional Neural Network model for a univariate time series forecasting problem](#CNN-for-Time-Series-Forecasting).\n",
    "* [How to develop a Long Short-Term Memory network model for a univariate time series forecasting problem](#LSTM-for-Time-Series-Forecasting).\n",
    "* [How to develop a Hybrid CNN-LSTM model for a univariate time series forecasting problem](#CNN-LSTM-for-Time-Series-Forecasting).\n",
    "\n",
    "\n",
    "#### Dependencies"
   ]
  },
  {
   "metadata": {
    "_uuid": "8f2839f25d086af736a60e9eeb907d3b93b6e0e5",
    "_cell_guid": "b1076dfc-b9ad-4769-8c92-a6c4dae69d19",
    "trusted": true,
    "_kg_hide-output": true
   },
   "cell_type": "code",
   "source": [
    "import warnings\n",
    "import numpy as np\n",
    "import pandas as pd\n",
    "import matplotlib.pyplot as plt\n",
    "from keras import optimizers\n",
    "from keras.utils import plot_model\n",
    "from keras.models import Sequential, Model\n",
    "from keras.layers.convolutional import Conv1D, MaxPooling1D\n",
    "from keras.layers import Dense, LSTM, RepeatVector, TimeDistributed, Flatten\n",
    "from sklearn.metrics import mean_squared_error\n",
    "from sklearn.model_selection import train_test_split\n",
    "import plotly.plotly as py\n",
    "import plotly.graph_objs as go\n",
    "from plotly.offline import init_notebook_mode, iplot\n",
    "\n",
    "%matplotlib inline\n",
    "warnings.filterwarnings(\"ignore\")\n",
    "init_notebook_mode(connected=True)\n",
    "\n",
    "# Set seeds to make the experiment more reproducible.\n",
    "from tensorflow import set_random_seed\n",
    "from numpy.random import seed\n",
    "set_random_seed(1)\n",
    "seed(1)"
   ],
   "execution_count": null,
   "outputs": []
  },
  {
   "metadata": {
    "_uuid": "dcc9f061fb8acd9447b60551e33f8f8d83fd9dad"
   },
   "cell_type": "markdown",
   "source": [
    "### Loading data"
   ]
  },
  {
   "metadata": {
    "_cell_guid": "79c7e3d0-c299-4dcb-8224-4455121ee9b0",
    "_uuid": "d629ff2d2480ee46fbb7e2d37f6b5fab8052498a",
    "trusted": true
   },
   "cell_type": "code",
   "source": [
    "train = pd.read_csv('water_test.csv', parse_dates=['date'])\n",
    "test = pd.read_csv('water_train.csv', parse_dates=['date'])"
   ],
   "execution_count": null,
   "outputs": []
  },
  {
   "metadata": {
    "_uuid": "a60085dbb63091a2947a1f19bdbf2519b0370f1a"
   },
   "cell_type": "markdown",
   "source": [
    "### Train set"
   ]
  },
  {
   "metadata": {
    "trusted": true,
    "_uuid": "ae977a0cb52dbbb8701bdf9c4d4393737a98d103",
    "_kg_hide-input": true
   },
   "cell_type": "code",
   "source": [
    "train.describe()"
   ],
   "execution_count": null,
   "outputs": []
  },
  {
   "metadata": {
    "trusted": true,
    "_uuid": "9bb6d25dceea154555cabb6c45a83b94fb8dccf1",
    "_kg_hide-input": true
   },
   "cell_type": "code",
   "source": [
    "train.head()"
   ],
   "execution_count": null,
   "outputs": []
  },
  {
   "metadata": {
    "_uuid": "827c9c89b0e144fd4cf4bf2e048e50f98cbe3e26"
   },
   "cell_type": "markdown",
   "source": [
    "### Time period of the train dataset"
   ]
  },
  {
   "metadata": {
    "trusted": true,
    "_uuid": "98d7855038ae46908b4dbdb9328ca500a6b5d552",
    "_kg_hide-input": true
   },
   "cell_type": "code",
   "source": [
    "print('Min date from train set: %s' % train['date'].min().date())\n",
    "print('Max date from train set: %s' % train['date'].max().date())"
   ],
   "execution_count": null,
   "outputs": []
  },
  {
   "metadata": {
    "_uuid": "f67cb93f552c3c7bac8cb8431072501348c4fa53"
   },
   "cell_type": "markdown",
   "source": [
    "#### Let's find out what's the time gap between the last day from training set from the last day of the test set, this will be out lag (the amount of day that need to be forecast)"
   ]
  },
  {
   "metadata": {
    "trusted": true,
    "_uuid": "7dd5441edc740bc3254694abb748f49b7ec3bbee",
    "_kg_hide-input": true
   },
   "cell_type": "code",
   "source": [
    "lag_size = (test['date'].max().date() - train['date'].max().date()).days\n",
    "print('Max date from train set: %s' % train['date'].max().date())\n",
    "print('Max date from test set: %s' % test['date'].max().date())\n",
    "print('Forecast lag size', lag_size)"
   ],
   "execution_count": null,
   "outputs": []
  },
  {
   "metadata": {
    "_uuid": "455b661280d3dff5b73f43df3fcd82e96e251663"
   },
   "cell_type": "markdown",
   "source": [
    "### Basic EDA\n",
    "\n",
    "To explore the time series data first we need to aggregate the sales by day"
   ]
  },
  {
   "metadata": {
    "trusted": true,
    "_uuid": "a865dab2049d6157f5c8b1bc90cc37c37b559854",
    "_kg_hide-input": true
   },
   "cell_type": "code",
   "source": [
    "daily_sales = train.groupby('date', as_index=False)['sales'].sum()\n",
    "store_daily_sales = train.groupby(['store', 'date'], as_index=False)['sales'].sum()\n",
    "item_daily_sales = train.groupby(['item', 'date'], as_index=False)['sales'].sum()"
   ],
   "execution_count": null,
   "outputs": []
  },
  {
   "metadata": {
    "_uuid": "153d5030e3381de2679042b1cd77a8889d616e47"
   },
   "cell_type": "markdown",
   "source": [
    "### Overall daily sales"
   ]
  },
  {
   "metadata": {
    "_kg_hide-input": true,
    "trusted": true,
    "_uuid": "79a4ccddbc65b201d6f7b4f55b152ef9eed6762f"
   },
   "cell_type": "code",
   "source": [
    "daily_sales_sc = go.Scatter(x=daily_sales['date'], y=daily_sales['sales'])\n",
    "layout = go.Layout(title='Daily sales', xaxis=dict(title='Date'), yaxis=dict(title='Sales'))\n",
    "fig = go.Figure(data=[daily_sales_sc], layout=layout)\n",
    "iplot(fig)"
   ],
   "execution_count": null,
   "outputs": []
  },
  {
   "metadata": {
    "_uuid": "387e71579b0a4b5aca85a465c8e1b1a3a3289915"
   },
   "cell_type": "markdown",
   "source": [
    "### Daily sales by store"
   ]
  },
  {
   "metadata": {
    "_kg_hide-input": true,
    "trusted": true,
    "_uuid": "0e8715f5557eac3cf3bd92eedec484c76ded1f61"
   },
   "cell_type": "code",
   "source": [
    "store_daily_sales_sc = []\n",
    "for store in store_daily_sales['store'].unique():\n",
    "    current_store_daily_sales = store_daily_sales[(store_daily_sales['store'] == store)]\n",
    "    store_daily_sales_sc.append(go.Scatter(x=current_store_daily_sales['date'], y=current_store_daily_sales['sales'], name=('Store %s' % store)))\n",
    "\n",
    "layout = go.Layout(title='Store daily sales', xaxis=dict(title='Date'), yaxis=dict(title='Sales'))\n",
    "fig = go.Figure(data=store_daily_sales_sc, layout=layout)\n",
    "iplot(fig)"
   ],
   "execution_count": null,
   "outputs": []
  },
  {
   "metadata": {
    "_uuid": "15c99b3e7c8fdc1076ff4359697107c15d0da41a"
   },
   "cell_type": "markdown",
   "source": [
    "### Daily sales by item"
   ]
  },
  {
   "metadata": {
    "_kg_hide-input": true,
    "trusted": true,
    "_uuid": "9036b41d4368d8ead697adbcafb50be91ca80c5c"
   },
   "cell_type": "code",
   "source": [
    "item_daily_sales_sc = []\n",
    "for item in item_daily_sales['item'].unique():\n",
    "    current_item_daily_sales = item_daily_sales[(item_daily_sales['item'] == item)]\n",
    "    item_daily_sales_sc.append(go.Scatter(x=current_item_daily_sales['date'], y=current_item_daily_sales['sales'], name=('Item %s' % item)))\n",
    "\n",
    "layout = go.Layout(title='Item daily sales', xaxis=dict(title='Date'), yaxis=dict(title='Sales'))\n",
    "fig = go.Figure(data=item_daily_sales_sc, layout=layout)\n",
    "iplot(fig)"
   ],
   "execution_count": null,
   "outputs": []
  },
  {
   "metadata": {
    "_uuid": "dd74fe1b76da480ca147af0f68b1e07d479020fc"
   },
   "cell_type": "markdown",
   "source": [
    "#### Sub-sample train set to get only the last year of data and reduce training time"
   ]
  },
  {
   "metadata": {
    "trusted": true,
    "_uuid": "58a105bc712d2e1da58dfa33cb62f1203de9f0a0"
   },
   "cell_type": "code",
   "source": [
    "train = train[(train['date'] >= '2017-01-01')]"
   ],
   "execution_count": null,
   "outputs": []
  },
  {
   "metadata": {
    "_uuid": "f30936a69f127157190ecfedcacfd3e50bbb1616"
   },
   "cell_type": "markdown",
   "source": [
    "### Rearrange dataset so we can apply shift methods"
   ]
  },
  {
   "metadata": {
    "trusted": true,
    "_uuid": "2f9ffc8f0946c5caf4d99dc878f83f9e29ee73dd"
   },
   "cell_type": "code",
   "source": [
    "train_gp = train.sort_values('date').groupby(['item', 'store', 'date'], as_index=False)\n",
    "train_gp = train_gp.agg({'sales':['mean']})\n",
    "train_gp.columns = ['item', 'store', 'date', 'sales']\n",
    "train_gp.head()"
   ],
   "execution_count": null,
   "outputs": []
  },
  {
   "metadata": {
    "_uuid": "72c037d182b0cd9b8d228d0042ace64c88e6cbd9"
   },
   "cell_type": "markdown",
   "source": [
    "### Transform the data into a time series problem"
   ]
  },
  {
   "metadata": {
    "trusted": true,
    "_uuid": "c9400d07223d75b50930e37194c2a682ca436bf2"
   },
   "cell_type": "code",
   "source": [
    "def series_to_supervised(data, window=1, lag=1, dropnan=True):\n",
    "    cols, names = list(), list()\n",
    "    # Input sequence (t-n, ... t-1)\n",
    "    for i in range(window, 0, -1):\n",
    "        cols.append(data.shift(i))\n",
    "        names += [('%s(t-%d)' % (col, i)) for col in data.columns]\n",
    "    # Current timestep (t=0)\n",
    "    cols.append(data)\n",
    "    names += [('%s(t)' % (col)) for col in data.columns]\n",
    "    # Target timestep (t=lag)\n",
    "    cols.append(data.shift(-lag))\n",
    "    names += [('%s(t+%d)' % (col, lag)) for col in data.columns]\n",
    "    # Put it all together\n",
    "    agg = pd.concat(cols, axis=1)\n",
    "    agg.columns = names\n",
    "    # Drop rows with NaN values\n",
    "    if dropnan:\n",
    "        agg.dropna(inplace=True)\n",
    "    return agg"
   ],
   "execution_count": null,
   "outputs": []
  },
  {
   "metadata": {
    "_uuid": "76407684060139325ff834aa9215360c7f69b5a8"
   },
   "cell_type": "markdown",
   "source": [
    "#### We will use the current timestep and the last 29 to forecast 90 days ahead"
   ]
  },
  {
   "metadata": {
    "trusted": true,
    "_uuid": "5cb604bd4fb5aa6a2fd966af6f7ed772a11ebf6e"
   },
   "cell_type": "code",
   "source": [
    "window = 29\n",
    "lag = lag_size\n",
    "series = series_to_supervised(train_gp.drop('date', axis=1), window=window, lag=lag)\n",
    "series.head()"
   ],
   "execution_count": null,
   "outputs": []
  },
  {
   "metadata": {
    "_uuid": "f147b4d5ed1cde12436d07fb13fff6c074857f2f"
   },
   "cell_type": "markdown",
   "source": [
    "#### Drop rows with different item or store values than the shifted columns"
   ]
  },
  {
   "metadata": {
    "trusted": true,
    "_uuid": "bcc650cb3df2f11a58b4288171663d67cab5f4f7"
   },
   "cell_type": "code",
   "source": [
    "last_item = 'item(t-%d)' % window\n",
    "last_store = 'store(t-%d)' % window\n",
    "series = series[(series['store(t)'] == series[last_store])]\n",
    "series = series[(series['item(t)'] == series[last_item])]"
   ],
   "execution_count": null,
   "outputs": []
  },
  {
   "metadata": {
    "_uuid": "07c8a6ac6dbbe309b626d4e2f47a44fae987875c"
   },
   "cell_type": "markdown",
   "source": [
    "#### Remove unwanted columns"
   ]
  },
  {
   "metadata": {
    "trusted": true,
    "_uuid": "830f58c2a435ce18271629008fb1cd79c9323ead"
   },
   "cell_type": "code",
   "source": [
    "columns_to_drop = [('%s(t+%d)' % (col, lag)) for col in ['item', 'store']]\n",
    "for i in range(window, 0, -1):\n",
    "    columns_to_drop += [('%s(t-%d)' % (col, i)) for col in ['item', 'store']]\n",
    "series.drop(columns_to_drop, axis=1, inplace=True)\n",
    "series.drop(['item(t)', 'store(t)'], axis=1, inplace=True)"
   ],
   "execution_count": null,
   "outputs": []
  },
  {
   "metadata": {
    "_uuid": "cdb34762d10c594f403df21519abb22601bf4e01"
   },
   "cell_type": "markdown",
   "source": [
    "### Train/validation split"
   ]
  },
  {
   "metadata": {
    "trusted": true,
    "_uuid": "389bfd84bc41a330b2f5ec84dd0ca7517eb52e31"
   },
   "cell_type": "code",
   "source": [
    "# Label\n",
    "labels_col = 'sales(t+%d)' % lag_size\n",
    "labels = series[labels_col]\n",
    "series = series.drop(labels_col, axis=1)\n",
    "\n",
    "X_train, X_valid, Y_train, Y_valid = train_test_split(series, labels.values, test_size=0.4, random_state=0)\n",
    "print('Train set shape', X_train.shape)\n",
    "print('Validation set shape', X_valid.shape)\n",
    "X_train.head()"
   ],
   "execution_count": null,
   "outputs": []
  },
  {
   "metadata": {
    "_uuid": "1c6dbf5e8699ea64e929009e7c47625eab207535"
   },
   "cell_type": "markdown",
   "source": [
    "### MLP for Time Series Forecasting\n",
    "\n",
    "* First we will use a Multilayer Perceptron model or MLP model, here our model will have input features equal to the window size.\n",
    "* The thing with MLP models is that the model don't take the input as sequenced data, so for the model, it is just receiving inputs and don't treat them as sequenced data, that may be a problem since the model won't see the data with the sequence patter that it has.\n",
    "* Input shape **[samples, timesteps]**."
   ]
  },
  {
   "metadata": {
    "trusted": true,
    "_uuid": "47962d535b4dddea0588a416ed742b23fdc44db0"
   },
   "cell_type": "code",
   "source": [
    "epochs = 40\n",
    "batch = 256\n",
    "lr = 0.0003\n",
    "adam = optimizers.Adam(lr)"
   ],
   "execution_count": null,
   "outputs": []
  },
  {
   "metadata": {
    "trusted": true,
    "_uuid": "da03328a583580969bd2603c1348b939d533092d"
   },
   "cell_type": "code",
   "source": [
    "model_mlp = Sequential()\n",
    "model_mlp.add(Dense(100, activation='relu', input_dim=X_train.shape[1]))\n",
    "model_mlp.add(Dense(1))\n",
    "model_mlp.compile(loss='mse', optimizer=adam)\n",
    "model_mlp.summary()"
   ],
   "execution_count": null,
   "outputs": []
  },
  {
   "metadata": {
    "trusted": true,
    "_uuid": "c741ddf5b382617173ef09450a836f940ab4f340",
    "_kg_hide-output": true
   },
   "cell_type": "code",
   "source": [
    "mlp_history = model_mlp.fit(X_train.values, Y_train, validation_data=(X_valid.values, Y_valid), epochs=epochs, verbose=2)"
   ],
   "execution_count": null,
   "outputs": []
  },
  {
   "metadata": {
    "_uuid": "7ef4d50fedcf9516742b45f3e3a7dab2cb0d301b"
   },
   "cell_type": "markdown",
   "source": [
    "### CNN for Time Series Forecasting\n",
    "\n",
    "* For the CNN model we will use one convolutional hidden layer followed by a max pooling layer. The filter maps are then flattened before being interpreted by a Dense layer and outputting a prediction.\n",
    "* The convolutional layer should be able to identify patterns between the timesteps.\n",
    "* Input shape **[samples, timesteps, features]**.\n",
    "\n",
    "#### Data preprocess\n",
    "* Reshape from [samples, timesteps] into [samples, timesteps, features].\n",
    "* This same reshaped data will be used on the CNN and the LSTM model."
   ]
  },
  {
   "metadata": {
    "trusted": true,
    "_uuid": "00b13a9d49412dd9a50c7a213a042c47e05a53c0"
   },
   "cell_type": "code",
   "source": [
    "X_train_series = X_train.values.reshape((X_train.shape[0], X_train.shape[1], 1))\n",
    "X_valid_series = X_valid.values.reshape((X_valid.shape[0], X_valid.shape[1], 1))\n",
    "print('Train set shape', X_train_series.shape)\n",
    "print('Validation set shape', X_valid_series.shape)"
   ],
   "execution_count": null,
   "outputs": []
  },
  {
   "metadata": {
    "trusted": true,
    "_uuid": "846fccfaa8d3761bbfc57b05ab447e9da07367ee"
   },
   "cell_type": "code",
   "source": [
    "model_cnn = Sequential()\n",
    "model_cnn.add(Conv1D(filters=64, kernel_size=2, activation='relu', input_shape=(X_train_series.shape[1], X_train_series.shape[2])))\n",
    "model_cnn.add(MaxPooling1D(pool_size=2))\n",
    "model_cnn.add(Flatten())\n",
    "model_cnn.add(Dense(50, activation='relu'))\n",
    "model_cnn.add(Dense(1))\n",
    "model_cnn.compile(loss='mse', optimizer=adam)\n",
    "model_cnn.summary()"
   ],
   "execution_count": null,
   "outputs": []
  },
  {
   "metadata": {
    "trusted": true,
    "_uuid": "02870e84ad2997b21994732794251b5d5865211a",
    "_kg_hide-output": true
   },
   "cell_type": "code",
   "source": [
    "cnn_history = model_cnn.fit(X_train_series, Y_train, validation_data=(X_valid_series, Y_valid), epochs=epochs, verbose=2)"
   ],
   "execution_count": null,
   "outputs": []
  },
  {
   "metadata": {
    "_uuid": "5eac02f27336cb62fa2de354ef647caa3fb4934e"
   },
   "cell_type": "markdown",
   "source": [
    "### LSTM for Time Series Forecasting\n",
    "\n",
    "* Now the LSTM model actually sees the input data as a sequence, so it's able to learn patterns from sequenced data (assuming it exists) better than the other ones, especially patterns from long sequences.\n",
    "* Input shape **[samples, timesteps, features]**."
   ]
  },
  {
   "metadata": {
    "trusted": true,
    "_uuid": "522965ca3e2490b8243032c6418ce50d5b724872"
   },
   "cell_type": "code",
   "source": [
    "model_lstm = Sequential()\n",
    "model_lstm.add(LSTM(50, activation='relu', input_shape=(X_train_series.shape[1], X_train_series.shape[2])))\n",
    "model_lstm.add(Dense(1))\n",
    "model_lstm.compile(loss='mse', optimizer=adam)\n",
    "model_lstm.summary()"
   ],
   "execution_count": null,
   "outputs": []
  },
  {
   "metadata": {
    "trusted": true,
    "_uuid": "48ac362d2a96028dc2bba1477b3d357c4d79668d",
    "_kg_hide-output": true
   },
   "cell_type": "code",
   "source": [
    "lstm_history = model_lstm.fit(X_train_series, Y_train, validation_data=(X_valid_series, Y_valid), epochs=epochs, verbose=2)"
   ],
   "execution_count": null,
   "outputs": []
  },
  {
   "metadata": {
    "_uuid": "1ba1b9fede4966b07059698f25e7f18e58cab232"
   },
   "cell_type": "markdown",
   "source": [
    "### CNN-LSTM for Time Series Forecasting\n",
    "* Input shape **[samples, subsequences, timesteps, features]**.\n",
    "\n",
    "#### Model explanation from the [article](https://machinelearningmastery.com/how-to-get-started-with-deep-learning-for-time-series-forecasting-7-day-mini-course/)\n",
    "> \"The benefit of this model is that the model can support very long input sequences that can be read as blocks or subsequences by the CNN model, then pieced together by the LSTM model.\"\n",
    ">\n",
    "> \"When using a hybrid CNN-LSTM model, we will further divide each sample into further subsequences. The CNN model will interpret each sub-sequence and the LSTM will piece together the interpretations from the subsequences. As such, we will split each sample into 2 subsequences of 2 times per subsequence.\"\n",
    ">\n",
    "> \"The CNN will be defined to expect 2 timesteps per subsequence with one feature. The entire CNN model is then wrapped in TimeDistributed wrapper layers so that it can be applied to each subsequence in the sample. The results are then interpreted by the LSTM layer before the model outputs a prediction.\"\n",
    "\n",
    "#### Data preprocess\n",
    "* Reshape from [samples, timesteps, features] into [samples, subsequences, timesteps, features]."
   ]
  },
  {
   "metadata": {
    "trusted": true,
    "_uuid": "b971641bae57f404bf16dcb7fd4e6fcff47f2be7"
   },
   "cell_type": "code",
   "source": [
    "subsequences = 2\n",
    "timesteps = X_train_series.shape[1]//subsequences\n",
    "X_train_series_sub = X_train_series.reshape((X_train_series.shape[0], subsequences, timesteps, 1))\n",
    "X_valid_series_sub = X_valid_series.reshape((X_valid_series.shape[0], subsequences, timesteps, 1))\n",
    "print('Train set shape', X_train_series_sub.shape)\n",
    "print('Validation set shape', X_valid_series_sub.shape)"
   ],
   "execution_count": null,
   "outputs": []
  },
  {
   "metadata": {
    "trusted": true,
    "_uuid": "57b15ea60310bc7503e76d553e2c6a0d68020c90"
   },
   "cell_type": "code",
   "source": [
    "model_cnn_lstm = Sequential()\n",
    "model_cnn_lstm.add(TimeDistributed(Conv1D(filters=64, kernel_size=1, activation='relu'), input_shape=(None, X_train_series_sub.shape[2], X_train_series_sub.shape[3])))\n",
    "model_cnn_lstm.add(TimeDistributed(MaxPooling1D(pool_size=2)))\n",
    "model_cnn_lstm.add(TimeDistributed(Flatten()))\n",
    "model_cnn_lstm.add(LSTM(50, activation='relu'))\n",
    "model_cnn_lstm.add(Dense(1))\n",
    "model_cnn_lstm.compile(loss='mse', optimizer=adam)"
   ],
   "execution_count": null,
   "outputs": []
  },
  {
   "metadata": {
    "trusted": true,
    "_uuid": "10c53d1c61050407ce9406093a0fb68d67895b27",
    "_kg_hide-output": true
   },
   "cell_type": "code",
   "source": [
    "cnn_lstm_history = model_cnn_lstm.fit(X_train_series_sub, Y_train, validation_data=(X_valid_series_sub, Y_valid), epochs=epochs, verbose=2)"
   ],
   "execution_count": null,
   "outputs": []
  },
  {
   "metadata": {
    "trusted": true,
    "_uuid": "624df546d7a4f95d8f9bd51d065e472568b25eb2"
   },
   "cell_type": "markdown",
   "source": [
    "### Comparing models"
   ]
  },
  {
   "metadata": {
    "trusted": true,
    "_uuid": "47d797354baed8299917542f3a541e61e140e822",
    "_kg_hide-input": true
   },
   "cell_type": "code",
   "source": [
    "fig, axes = plt.subplots(2, 2, sharex=True, sharey=True,figsize=(22,12))\n",
    "ax1, ax2 = axes[0]\n",
    "ax3, ax4 = axes[1]\n",
    "\n",
    "ax1.plot(mlp_history.history['loss'], label='Train loss')\n",
    "ax1.plot(mlp_history.history['val_loss'], label='Validation loss')\n",
    "ax1.legend(loc='best')\n",
    "ax1.set_title('MLP')\n",
    "ax1.set_xlabel('Epochs')\n",
    "ax1.set_ylabel('MSE')\n",
    "\n",
    "ax2.plot(cnn_history.history['loss'], label='Train loss')\n",
    "ax2.plot(cnn_history.history['val_loss'], label='Validation loss')\n",
    "ax2.legend(loc='best')\n",
    "ax2.set_title('CNN')\n",
    "ax2.set_xlabel('Epochs')\n",
    "ax2.set_ylabel('MSE')\n",
    "\n",
    "ax3.plot(lstm_history.history['loss'], label='Train loss')\n",
    "ax3.plot(lstm_history.history['val_loss'], label='Validation loss')\n",
    "ax3.legend(loc='best')\n",
    "ax3.set_title('LSTM')\n",
    "ax3.set_xlabel('Epochs')\n",
    "ax3.set_ylabel('MSE')\n",
    "\n",
    "ax4.plot(cnn_lstm_history.history['loss'], label='Train loss')\n",
    "ax4.plot(cnn_lstm_history.history['val_loss'], label='Validation loss')\n",
    "ax4.legend(loc='best')\n",
    "ax4.set_title('CNN-LSTM')\n",
    "ax4.set_xlabel('Epochs')\n",
    "ax4.set_ylabel('MSE')\n",
    "\n",
    "plt.show()"
   ],
   "execution_count": null,
   "outputs": []
  },
  {
   "metadata": {
    "_uuid": "13c7dc56802c04c698310f2fd424d2a001a3e995"
   },
   "cell_type": "markdown",
   "source": [
    "#### MLP on train and validation"
   ]
  },
  {
   "metadata": {
    "trusted": true,
    "_uuid": "17866c9d0ae37cae8e0da41b1d93d7d4049ad043",
    "_kg_hide-input": true
   },
   "cell_type": "code",
   "source": [
    "mlp_train_pred = model_mlp.predict(X_train.values)\n",
    "mlp_valid_pred = model_mlp.predict(X_valid.values)\n",
    "print('Train rmse:', np.sqrt(mean_squared_error(Y_train, mlp_train_pred)))\n",
    "print('Validation rmse:', np.sqrt(mean_squared_error(Y_valid, mlp_valid_pred)))"
   ],
   "execution_count": null,
   "outputs": []
  },
  {
   "metadata": {
    "_uuid": "425f734d0e4c46059138987de98936899ec3bdae"
   },
   "cell_type": "markdown",
   "source": [
    "#### CNN on train and validation"
   ]
  },
  {
   "metadata": {
    "trusted": true,
    "_uuid": "eaa3ca7385ee7c8d884f5e1e6abd54c0aea91293",
    "_kg_hide-input": true
   },
   "cell_type": "code",
   "source": [
    "cnn_train_pred = model_cnn.predict(X_train_series)\n",
    "cnn_valid_pred = model_cnn.predict(X_valid_series)\n",
    "print('Train rmse:', np.sqrt(mean_squared_error(Y_train, cnn_train_pred)))\n",
    "print('Validation rmse:', np.sqrt(mean_squared_error(Y_valid, cnn_valid_pred)))"
   ],
   "execution_count": null,
   "outputs": []
  },
  {
   "metadata": {
    "_uuid": "2355313b77222db98a69564449942e3f8378336a"
   },
   "cell_type": "markdown",
   "source": [
    "#### LSTM on train and validation"
   ]
  },
  {
   "metadata": {
    "trusted": true,
    "_uuid": "939f86306a1325c949d8c97262147bcce4f88462",
    "_kg_hide-input": true
   },
   "cell_type": "code",
   "source": [
    "lstm_train_pred = model_lstm.predict(X_train_series)\n",
    "lstm_valid_pred = model_cnn.predict(X_valid_series)\n",
    "print('Train rmse:', np.sqrt(mean_squared_error(Y_train, lstm_train_pred)))\n",
    "print('Validation rmse:', np.sqrt(mean_squared_error(Y_valid, lstm_valid_pred)))"
   ],
   "execution_count": null,
   "outputs": []
  },
  {
   "metadata": {
    "_uuid": "c48c38e1cf05cd7503126c5af9c460b743872b9d"
   },
   "cell_type": "markdown",
   "source": [
    "#### CNN-LSTM on train and validation"
   ]
  },
  {
   "metadata": {
    "trusted": true,
    "_uuid": "95e86d4884cb1c2769b194769f98fbc7da8987c3",
    "_kg_hide-input": true
   },
   "cell_type": "code",
   "source": [
    "cnn_lstm_train_pred = model_cnn_lstm.predict(X_train_series_sub)\n",
    "cnn_lstm_valid_pred = model_cnn_lstm.predict(X_valid_series_sub)\n",
    "print('Train rmse:', np.sqrt(mean_squared_error(Y_train, cnn_lstm_train_pred)))\n",
    "print('Validation rmse:', np.sqrt(mean_squared_error(Y_valid, cnn_lstm_valid_pred)))"
   ],
   "execution_count": null,
   "outputs": []
  },
  {
   "metadata": {
    "_uuid": "adba93182e270328e63c5c0cb55d0d1ccb344660"
   },
   "cell_type": "markdown",
   "source": [
    "### Conclusion\n",
    "\n",
    "Here you could see some approaches to a time series problem, how to develop and the differences between them, this is not meant to have a great performance, so if you want better results, you are more than welcomed to try a few different hyper-parameters, especially the window size and the networks topology, if you do, please let me know the results.\n",
    "\n",
    "I hope you learned a few things here, leave a feedback and if you liked what you saw make sure to check the [article](https://machinelearningmastery.com/how-to-get-started-with-deep-learning-for-time-series-forecasting-7-day-mini-course/) that I used as source.\n",
    "\n",
    "If you want to check out how you can use LSTM as autoencoders and create new features that represent a time series take a look at my other kernel [Time-series forecasting with deep learning & LSTM autoencoders](https://www.kaggle.com/dimitreoliveira/time-series-forecasting-with-lstm-autoencoders/data)."
   ]
  }
 ],
 "metadata": {
  "kernelspec": {
   "display_name": "Python 3",
   "language": "python",
   "name": "python3"
  },
  "language_info": {
   "name": "python",
   "version": "3.6.6",
   "mimetype": "text/x-python",
   "codemirror_mode": {
    "name": "ipython",
    "version": 3
   },
   "pygments_lexer": "ipython3",
   "nbconvert_exporter": "python",
   "file_extension": ".py"
  }
 },
 "nbformat": 4,
 "nbformat_minor": 1
}
