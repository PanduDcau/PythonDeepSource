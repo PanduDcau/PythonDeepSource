{
 "metadata": {
  "kernelspec": {
   "language": "python",
   "display_name": "Python 3",
   "name": "python3"
  },
  "language_info": {
   "pygments_lexer": "ipython3",
   "nbconvert_exporter": "python",
   "version": "3.6.4",
   "file_extension": ".py",
   "codemirror_mode": {
    "name": "ipython",
    "version": 3
   },
   "name": "python",
   "mimetype": "text/x-python"
  }
 },
 "nbformat_minor": 4,
 "nbformat": 4,
 "cells": [
  {
   "cell_type": "code",
   "source": [
    "!pip install livelossplot"
   ],
   "metadata": {
    "execution": {
     "iopub.status.busy": "2023-04-25T16:27:44.649016Z",
     "iopub.execute_input": "2023-04-25T16:27:44.649789Z",
     "iopub.status.idle": "2023-04-25T16:27:55.839578Z",
     "shell.execute_reply.started": "2023-04-25T16:27:44.649749Z",
     "shell.execute_reply": "2023-04-25T16:27:55.838255Z"
    },
    "trusted": true,
    "ExecuteTime": {
     "end_time": "2023-10-04T07:07:40.971814400Z",
     "start_time": "2023-10-04T07:07:26.458502900Z"
    }
   },
   "execution_count": 1,
   "outputs": [
    {
     "name": "stdout",
     "output_type": "stream",
     "text": [
      "Collecting livelossplot\n",
      "  Downloading livelossplot-0.5.5-py3-none-any.whl (22 kB)\n",
      "Collecting bokeh\n",
      "  Downloading bokeh-3.2.2-py3-none-any.whl (7.8 MB)\n",
      "     ---------------------------------------- 7.8/7.8 MB 2.0 MB/s eta 0:00:00\n",
      "Requirement already satisfied: matplotlib in c:\\users\\asus\\appdata\\local\\programs\\python\\python39\\lib\\site-packages (from livelossplot) (3.7.2)\n",
      "Requirement already satisfied: contourpy>=1 in c:\\users\\asus\\appdata\\local\\programs\\python\\python39\\lib\\site-packages (from bokeh->livelossplot) (1.1.0)\n",
      "Requirement already satisfied: pandas>=1.2 in d:\\flutter project\\mental project\\mental\\lib\\site-packages (from bokeh->livelossplot) (1.3.4)\n",
      "Collecting xyzservices>=2021.09.1\n",
      "  Downloading xyzservices-2023.7.0-py3-none-any.whl (56 kB)\n",
      "     ---------------------------------------- 56.7/56.7 kB 2.9 MB/s eta 0:00:00\n",
      "Requirement already satisfied: numpy>=1.16 in d:\\flutter project\\mental project\\mental\\lib\\site-packages (from bokeh->livelossplot) (1.26.0)\n",
      "Requirement already satisfied: pillow>=7.1.0 in c:\\users\\asus\\appdata\\local\\programs\\python\\python39\\lib\\site-packages (from bokeh->livelossplot) (10.0.0)\n",
      "Requirement already satisfied: PyYAML>=3.10 in d:\\flutter project\\mental project\\mental\\lib\\site-packages (from bokeh->livelossplot) (5.4.1)\n",
      "Requirement already satisfied: tornado>=5.1 in d:\\flutter project\\mental project\\mental\\lib\\site-packages (from bokeh->livelossplot) (6.3.3)\n",
      "Requirement already satisfied: Jinja2>=2.9 in d:\\flutter project\\mental project\\mental\\lib\\site-packages (from bokeh->livelossplot) (3.1.2)\n",
      "Requirement already satisfied: packaging>=16.8 in c:\\users\\asus\\appdata\\local\\programs\\python\\python39\\lib\\site-packages (from bokeh->livelossplot) (23.1)\n",
      "Requirement already satisfied: cycler>=0.10 in c:\\users\\asus\\appdata\\local\\programs\\python\\python39\\lib\\site-packages (from matplotlib->livelossplot) (0.11.0)\n",
      "Requirement already satisfied: importlib-resources>=3.2.0 in c:\\users\\asus\\appdata\\local\\programs\\python\\python39\\lib\\site-packages (from matplotlib->livelossplot) (6.0.1)\n",
      "Requirement already satisfied: kiwisolver>=1.0.1 in c:\\users\\asus\\appdata\\local\\programs\\python\\python39\\lib\\site-packages (from matplotlib->livelossplot) (1.4.5)\n",
      "Requirement already satisfied: pyparsing<3.1,>=2.3.1 in c:\\users\\asus\\appdata\\local\\programs\\python\\python39\\lib\\site-packages (from matplotlib->livelossplot) (3.0.9)\n",
      "Requirement already satisfied: fonttools>=4.22.0 in c:\\users\\asus\\appdata\\local\\programs\\python\\python39\\lib\\site-packages (from matplotlib->livelossplot) (4.42.1)\n",
      "Requirement already satisfied: python-dateutil>=2.7 in c:\\users\\asus\\appdata\\local\\programs\\python\\python39\\lib\\site-packages (from matplotlib->livelossplot) (2.8.2)\n",
      "Requirement already satisfied: zipp>=3.1.0 in c:\\users\\asus\\appdata\\local\\programs\\python\\python39\\lib\\site-packages (from importlib-resources>=3.2.0->matplotlib->livelossplot) (3.16.2)\n",
      "Requirement already satisfied: MarkupSafe>=2.0 in d:\\flutter project\\mental project\\mental\\lib\\site-packages (from Jinja2>=2.9->bokeh->livelossplot) (2.1.3)\n",
      "Requirement already satisfied: pytz>=2017.3 in d:\\flutter project\\mental project\\mental\\lib\\site-packages (from pandas>=1.2->bokeh->livelossplot) (2023.3.post1)\n",
      "Requirement already satisfied: six>=1.5 in c:\\users\\asus\\appdata\\local\\programs\\python\\python39\\lib\\site-packages (from python-dateutil>=2.7->matplotlib->livelossplot) (1.16.0)\n",
      "Installing collected packages: xyzservices, bokeh, livelossplot\n",
      "Successfully installed bokeh-3.2.2 livelossplot-0.5.5 xyzservices-2023.7.0\n"
     ]
    },
    {
     "name": "stderr",
     "output_type": "stream",
     "text": [
      "\n",
      "[notice] A new release of pip available: 22.3.1 -> 23.2.1\n",
      "[notice] To update, run: python.exe -m pip install --upgrade pip\n"
     ]
    }
   ]
  },
  {
   "cell_type": "code",
   "execution_count": 1,
   "outputs": [],
   "source": [
    "import pandas as pd"
   ],
   "metadata": {
    "collapsed": false,
    "ExecuteTime": {
     "end_time": "2023-10-06T08:18:47.368838100Z",
     "start_time": "2023-10-06T08:18:47.353648900Z"
    }
   }
  },
  {
   "cell_type": "code",
   "source": [
    "import numpy as np\n",
    "import seaborn as sns\n",
    "import matplotlib.pyplot as plt\n",
    "import os\n",
    "\n",
    "%matplotlib inline\n",
    "\n",
    "from tensorflow.keras.preprocessing.image import ImageDataGenerator\n",
    "from tensorflow.keras.layers import Dense, Input, Dropout,Flatten, Conv2D\n",
    "from tensorflow.keras.layers import BatchNormalization, Activation, MaxPooling2D\n",
    "from tensorflow.keras.models import Model, Sequential\n",
    "from tensorflow.keras.optimizers import Adam\n",
    "from tensorflow.keras.callbacks import ModelCheckpoint, ReduceLROnPlateau\n",
    "\n",
    "from IPython.display import SVG, Image\n",
    "from livelossplot.tf_keras import PlotLossesCallback\n",
    "import tensorflow as tf\n",
    "print(\"Tensorflow version:\", tf.__version__)\n"
   ],
   "metadata": {
    "id": "pxvzQtUb2c3J",
    "outputId": "f8871d2e-2816-4877-a95e-54f57167d0e0",
    "execution": {
     "iopub.status.busy": "2023-04-25T16:28:20.083437Z",
     "iopub.execute_input": "2023-04-25T16:28:20.084195Z",
     "iopub.status.idle": "2023-04-25T16:28:20.107626Z",
     "shell.execute_reply.started": "2023-04-25T16:28:20.084155Z",
     "shell.execute_reply": "2023-04-25T16:28:20.106628Z"
    },
    "trusted": true,
    "ExecuteTime": {
     "end_time": "2023-10-06T08:18:50.271641400Z",
     "start_time": "2023-10-06T08:18:47.374856900Z"
    }
   },
   "execution_count": 2,
   "outputs": [
    {
     "name": "stdout",
     "output_type": "stream",
     "text": [
      "Tensorflow version: 2.14.0\n"
     ]
    }
   ]
  },
  {
   "cell_type": "code",
   "source": [
    "train_path='emotrain'\n",
    "test_path='emotest'"
   ],
   "metadata": {
    "execution": {
     "iopub.status.busy": "2023-04-25T16:14:10.933882Z",
     "iopub.execute_input": "2023-04-25T16:14:10.934852Z",
     "iopub.status.idle": "2023-04-25T16:14:10.940363Z",
     "shell.execute_reply.started": "2023-04-25T16:14:10.934799Z",
     "shell.execute_reply": "2023-04-25T16:14:10.939168Z"
    },
    "trusted": true,
    "ExecuteTime": {
     "end_time": "2023-10-06T08:18:50.309007500Z",
     "start_time": "2023-10-06T08:18:50.273892Z"
    }
   },
   "execution_count": 3,
   "outputs": []
  },
  {
   "cell_type": "code",
   "source": [
    "img_size = 48\n",
    "batch_size = 64\n",
    "\n",
    "datagen_train = ImageDataGenerator(horizontal_flip=True)\n",
    "\n",
    "train_generator = datagen_train.flow_from_directory(train_path,\n",
    "                                                    target_size=(img_size,img_size),\n",
    "                                                    color_mode=\"grayscale\",\n",
    "                                                    batch_size=batch_size,\n",
    "                                                    class_mode='categorical',\n",
    "                                                    shuffle=True)\n",
    "\n",
    "datagen_validation = ImageDataGenerator(horizontal_flip=True)\n",
    "validation_generator = datagen_validation.flow_from_directory(test_path,\n",
    "                                                    target_size=(img_size,img_size),\n",
    "                                                    color_mode=\"grayscale\",\n",
    "                                                    batch_size=batch_size,\n",
    "                                                    class_mode='categorical',\n",
    "                                                    shuffle=False)"
   ],
   "metadata": {
    "id": "PdbUTDNo2c3M",
    "outputId": "c680ccb3-399c-47a8-867c-d491d0e32140",
    "execution": {
     "iopub.status.busy": "2023-04-25T16:19:53.153738Z",
     "iopub.execute_input": "2023-04-25T16:19:53.154456Z",
     "iopub.status.idle": "2023-04-25T16:20:14.857732Z",
     "shell.execute_reply.started": "2023-04-25T16:19:53.154418Z",
     "shell.execute_reply": "2023-04-25T16:20:14.856626Z"
    },
    "trusted": true,
    "ExecuteTime": {
     "end_time": "2023-10-06T08:18:51.177752Z",
     "start_time": "2023-10-06T08:18:50.288747900Z"
    }
   },
   "execution_count": 4,
   "outputs": [
    {
     "name": "stdout",
     "output_type": "stream",
     "text": [
      "Found 28709 images belonging to 7 classes.\n",
      "Found 7178 images belonging to 7 classes.\n"
     ]
    }
   ]
  },
  {
   "cell_type": "code",
   "source": [
    "# Initialising the CNN\n",
    "model = Sequential()\n",
    "\n",
    "# 1 - Convolution\n",
    "model.add(Conv2D(64,(3,3), padding='same',activation='relu', input_shape=(48, 48,1)))\n",
    "model.add(BatchNormalization())\n",
    "model.add(MaxPooling2D(pool_size=(2, 2)))\n",
    "model.add(Dropout(0.25))\n",
    "\n",
    "# 2nd Convolution layer\n",
    "model.add(Conv2D(128,(5,5),activation='relu', padding='same'))\n",
    "model.add(BatchNormalization())\n",
    "model.add(MaxPooling2D(pool_size=(2, 2)))\n",
    "model.add(Dropout(0.25))\n",
    "\n",
    "# 3rd Convolution layer\n",
    "model.add(Conv2D(512,(3,3),activation='relu', padding='same'))\n",
    "model.add(BatchNormalization())\n",
    "model.add(MaxPooling2D(pool_size=(2, 2)))\n",
    "model.add(Dropout(0.25))\n",
    "\n",
    "# 4th Convolution layer\n",
    "model.add(Conv2D(512,(3,3),activation='relu', padding='same'))\n",
    "model.add(BatchNormalization())\n",
    "model.add(MaxPooling2D(pool_size=(2, 2)))\n",
    "model.add(Dropout(0.25))\n",
    "\n",
    "# Flattening\n",
    "model.add(Flatten())\n",
    "\n",
    "# Fully connected layer 1st layer\n",
    "model.add(Dense(256,activation='relu'))\n",
    "model.add(BatchNormalization())\n",
    "model.add(Dropout(0.25))\n",
    "\n",
    "# Fully connected layer 2nd layer\n",
    "model.add(Dense(512,activation='relu'))\n",
    "model.add(BatchNormalization())\n",
    "model.add(Dropout(0.25))\n",
    "\n",
    "model.add(Dense(7, activation='softmax'))\n",
    "\n",
    "opt = Adam(lr=0.0005)\n",
    "model.compile(optimizer=opt, loss='categorical_crossentropy', metrics=['accuracy'])\n",
    "model.summary()"
   ],
   "metadata": {
    "id": "e5SCvF0A2c3M",
    "outputId": "88fe73df-0fab-43f8-ff7e-3fcc55325107",
    "execution": {
     "iopub.status.busy": "2023-04-25T16:20:29.613430Z",
     "iopub.execute_input": "2023-04-25T16:20:29.614211Z",
     "iopub.status.idle": "2023-04-25T16:20:32.340021Z",
     "shell.execute_reply.started": "2023-04-25T16:20:29.614138Z",
     "shell.execute_reply": "2023-04-25T16:20:32.339157Z"
    },
    "trusted": true,
    "ExecuteTime": {
     "end_time": "2023-10-06T08:18:51.495148700Z",
     "start_time": "2023-10-06T08:18:51.178753800Z"
    }
   },
   "execution_count": 5,
   "outputs": [
    {
     "name": "stderr",
     "output_type": "stream",
     "text": [
      "WARNING:absl:`lr` is deprecated in Keras optimizer, please use `learning_rate` or use the legacy optimizer, e.g.,tf.keras.optimizers.legacy.Adam.\n"
     ]
    },
    {
     "name": "stdout",
     "output_type": "stream",
     "text": [
      "Model: \"sequential\"\n",
      "_________________________________________________________________\n",
      " Layer (type)                Output Shape              Param #   \n",
      "=================================================================\n",
      " conv2d (Conv2D)             (None, 48, 48, 64)        640       \n",
      "                                                                 \n",
      " batch_normalization (Batch  (None, 48, 48, 64)        256       \n",
      " Normalization)                                                  \n",
      "                                                                 \n",
      " max_pooling2d (MaxPooling2  (None, 24, 24, 64)        0         \n",
      " D)                                                              \n",
      "                                                                 \n",
      " dropout (Dropout)           (None, 24, 24, 64)        0         \n",
      "                                                                 \n",
      " conv2d_1 (Conv2D)           (None, 24, 24, 128)       204928    \n",
      "                                                                 \n",
      " batch_normalization_1 (Bat  (None, 24, 24, 128)       512       \n",
      " chNormalization)                                                \n",
      "                                                                 \n",
      " max_pooling2d_1 (MaxPoolin  (None, 12, 12, 128)       0         \n",
      " g2D)                                                            \n",
      "                                                                 \n",
      " dropout_1 (Dropout)         (None, 12, 12, 128)       0         \n",
      "                                                                 \n",
      " conv2d_2 (Conv2D)           (None, 12, 12, 512)       590336    \n",
      "                                                                 \n",
      " batch_normalization_2 (Bat  (None, 12, 12, 512)       2048      \n",
      " chNormalization)                                                \n",
      "                                                                 \n",
      " max_pooling2d_2 (MaxPoolin  (None, 6, 6, 512)         0         \n",
      " g2D)                                                            \n",
      "                                                                 \n",
      " dropout_2 (Dropout)         (None, 6, 6, 512)         0         \n",
      "                                                                 \n",
      " conv2d_3 (Conv2D)           (None, 6, 6, 512)         2359808   \n",
      "                                                                 \n",
      " batch_normalization_3 (Bat  (None, 6, 6, 512)         2048      \n",
      " chNormalization)                                                \n",
      "                                                                 \n",
      " max_pooling2d_3 (MaxPoolin  (None, 3, 3, 512)         0         \n",
      " g2D)                                                            \n",
      "                                                                 \n",
      " dropout_3 (Dropout)         (None, 3, 3, 512)         0         \n",
      "                                                                 \n",
      " flatten (Flatten)           (None, 4608)              0         \n",
      "                                                                 \n",
      " dense (Dense)               (None, 256)               1179904   \n",
      "                                                                 \n",
      " batch_normalization_4 (Bat  (None, 256)               1024      \n",
      " chNormalization)                                                \n",
      "                                                                 \n",
      " dropout_4 (Dropout)         (None, 256)               0         \n",
      "                                                                 \n",
      " dense_1 (Dense)             (None, 512)               131584    \n",
      "                                                                 \n",
      " batch_normalization_5 (Bat  (None, 512)               2048      \n",
      " chNormalization)                                                \n",
      "                                                                 \n",
      " dropout_5 (Dropout)         (None, 512)               0         \n",
      "                                                                 \n",
      " dense_2 (Dense)             (None, 7)                 3591      \n",
      "                                                                 \n",
      "=================================================================\n",
      "Total params: 4478727 (17.08 MB)\n",
      "Trainable params: 4474759 (17.07 MB)\n",
      "Non-trainable params: 3968 (15.50 KB)\n",
      "_________________________________________________________________\n"
     ]
    }
   ]
  },
  {
   "cell_type": "code",
   "source": [
    "%%time\n",
    "\n",
    "epochs = 15\n",
    "steps_per_epoch = train_generator.n//train_generator.batch_size\n",
    "validation_steps = validation_generator.n//validation_generator.batch_size\n",
    "reduce_lr = ReduceLROnPlateau(monitor='val_loss', factor=0.1,\n",
    "                              patience=2, min_lr=0.00001, mode='auto')\n",
    "checkpoint = ModelCheckpoint(\"model_weights.h5\", monitor='val_accuracy',\n",
    "                             save_weights_only=True, mode='max', verbose=1)\n",
    "callbacks = [PlotLossesCallback(), checkpoint, reduce_lr]\n",
    "\n",
    "history = model.fit(\n",
    "    x=train_generator,\n",
    "    steps_per_epoch=steps_per_epoch,\n",
    "    epochs=epochs,\n",
    "    validation_data = validation_generator,\n",
    "    validation_steps = validation_steps,\n",
    "    callbacks=callbacks\n",
    ")\n",
    "\n"
   ],
   "metadata": {
    "id": "Meu97Kak2c3N",
    "outputId": "ac1cbb58-adcc-4a4d-80c0-db650fcc6de2",
    "execution": {
     "iopub.status.busy": "2023-04-25T16:28:25.487638Z",
     "iopub.execute_input": "2023-04-25T16:28:25.488551Z",
     "iopub.status.idle": "2023-04-25T16:39:44.415760Z",
     "shell.execute_reply.started": "2023-04-25T16:28:25.488512Z",
     "shell.execute_reply": "2023-04-25T16:39:44.414695Z"
    },
    "trusted": true
   },
   "execution_count": 6,
   "outputs": [
    {
     "data": {
      "text/plain": "<Figure size 1200x800 with 2 Axes>",
      "image/png": "[encoded data removed]"
     },
     "metadata": {},
     "output_type": "display_data"
    },
    {
     "name": "stdout",
     "output_type": "stream",
     "text": [
      "accuracy\n",
      "\ttraining         \t (min:    0.285, max:    0.698, cur:    0.697)\n",
      "\tvalidation       \t (min:    0.394, max:    0.648, cur:    0.648)\n",
      "Loss\n",
      "\ttraining         \t (min:    0.810, max:    1.941, cur:    0.810)\n",
      "\tvalidation       \t (min:    0.972, max:    1.571, cur:    0.972)\n",
      "\n",
      "Epoch 15: saving model to model_weights.h5\n",
      "448/448 [==============================] - 215s 480ms/step - loss: 0.8096 - accuracy: 0.6972 - val_loss: 0.9716 - val_accuracy: 0.6480 - lr: 1.0000e-05\n",
      "CPU times: total: 10h 4min 14s\n",
      "Wall time: 55min 56s\n"
     ]
    }
   ]
  },
  {
   "cell_type": "code",
   "source": [
    "model.save('emotionModel.h5')"
   ],
   "metadata": {
    "id": "FbhBNyG1ytOX",
    "execution": {
     "iopub.status.busy": "2023-04-25T16:46:09.109548Z",
     "iopub.execute_input": "2023-04-25T16:46:09.110508Z",
     "iopub.status.idle": "2023-04-25T16:46:09.271071Z",
     "shell.execute_reply.started": "2023-04-25T16:46:09.110470Z",
     "shell.execute_reply": "2023-04-25T16:46:09.269981Z"
    },
    "trusted": true,
    "ExecuteTime": {
     "end_time": "2023-10-06T09:42:50.652818800Z",
     "start_time": "2023-10-06T09:42:50.554824500Z"
    }
   },
   "execution_count": 7,
   "outputs": [
    {
     "name": "stderr",
     "output_type": "stream",
     "text": [
      "D:\\Flutter Project\\Mental Project\\Mental\\lib\\site-packages\\keras\\src\\engine\\training.py:3079: UserWarning: You are saving your model as an HDF5 file via `model.save()`. This file format is considered legacy. We recommend using instead the native Keras format, e.g. `model.save('my_model.keras')`.\n",
      "  saving_api.save_model(\n"
     ]
    }
   ]
  },
  {
   "cell_type": "code",
   "source": [
    "import numpy as np\n",
    "import tensorflow as tf\n",
    "\n",
    "\n",
    "class FacialExpressionModel(object):\n",
    "\n",
    "    EMOTIONS_LIST = [\"Angry\", \"Disgust\",\n",
    "                    \"Fear\", \"Happy\",\n",
    "                    \"Neutral\", \"Sad\",\n",
    "                    \"Surprise\"]\n",
    "\n",
    "    def __init__(self, model):\n",
    "        self.model=model\n",
    "\n",
    "    def predict_emotion(self, img):\n",
    "        self.preds = self.model.predict(img)\n",
    "        return FacialExpressionModel.EMOTIONS_LIST[np.argmax(self.preds)]"
   ],
   "metadata": {
    "id": "Y96lm4dm2c3N",
    "execution": {
     "iopub.status.busy": "2023-04-25T16:42:23.009742Z",
     "iopub.execute_input": "2023-04-25T16:42:23.010906Z",
     "iopub.status.idle": "2023-04-25T16:42:23.018060Z",
     "shell.execute_reply.started": "2023-04-25T16:42:23.010857Z",
     "shell.execute_reply": "2023-04-25T16:42:23.016867Z"
    },
    "trusted": true,
    "ExecuteTime": {
     "end_time": "2023-10-06T09:43:08.685395700Z",
     "start_time": "2023-10-06T09:43:08.677393600Z"
    }
   },
   "execution_count": 8,
   "outputs": []
  },
  {
   "cell_type": "code",
   "source": [
    "import cv2\n",
    "facec = cv2.CascadeClassifier(cv2.data.haarcascades + 'haarcascade_frontalface_default.xml')\n",
    "emotion_model = FacialExpressionModel('model_weights.h5')\n",
    "font = cv2.FONT_HERSHEY_SIMPLEX\n",
    "class VideoCamera(object):\n",
    "    def __init__(self,path):\n",
    "        self.video = cv2.VideoCapture(path)\n",
    "    def __del__(self):\n",
    "        self.video.release()\n",
    "    # returns camera frames along with bounding boxes and predictions\n",
    "    def get_frame(self):\n",
    "        _, fr = self.video.read()\n",
    "        gray_fr = cv2.cvtColor(fr, cv2.COLOR_BGR2GRAY)\n",
    "        faces = facec.detectMultiScale(gray_fr, 1.3, 5)\n",
    "        for (x, y, w, h) in faces:\n",
    "            fc = gray_fr[y:y+h, x:x+w]\n",
    "            roi = cv2.resize(fc, (48, 48))\n",
    "            pred = model.predict_emotion(roi[np.newaxis, :, :, np.newaxis])\n",
    "            cv2.putText(fr, pred, (x, y), font, 1, (255, 255, 0), 2)\n",
    "            cv2.rectangle(fr,(x,y),(x+w,y+h),(255,0,0),2)\n",
    "        return fr"
   ],
   "metadata": {
    "id": "CD1v25Zm2c3N",
    "execution": {
     "iopub.status.busy": "2023-04-25T16:42:27.816170Z",
     "iopub.execute_input": "2023-04-25T16:42:27.817284Z",
     "iopub.status.idle": "2023-04-25T16:42:27.879052Z",
     "shell.execute_reply.started": "2023-04-25T16:42:27.817228Z",
     "shell.execute_reply": "2023-04-25T16:42:27.878015Z"
    },
    "trusted": true,
    "ExecuteTime": {
     "end_time": "2023-10-06T09:43:37.391887900Z",
     "start_time": "2023-10-06T09:43:37.230565200Z"
    }
   },
   "execution_count": 9,
   "outputs": []
  },
  {
   "cell_type": "code",
   "source": [
    "def gen(camera):\n",
    "    while True:\n",
    "        frame = camera.get_frame()\n",
    "        cv2.imshow('Facial Expression Recognization',frame)\n",
    "        if cv2.waitKey(1) & 0xFF == ord('q'):\n",
    "            break\n",
    "    cv2.destroyAllWindows()\n"
   ],
   "metadata": {
    "id": "n6T-DgIn2c3O",
    "execution": {
     "iopub.status.busy": "2023-04-25T16:42:31.024215Z",
     "iopub.execute_input": "2023-04-25T16:42:31.025023Z",
     "iopub.status.idle": "2023-04-25T16:42:31.031203Z",
     "shell.execute_reply.started": "2023-04-25T16:42:31.024980Z",
     "shell.execute_reply": "2023-04-25T16:42:31.030063Z"
    },
    "trusted": true,
    "ExecuteTime": {
     "end_time": "2023-10-06T09:43:40.562148300Z",
     "start_time": "2023-10-06T09:43:40.549025800Z"
    }
   },
   "execution_count": 10,
   "outputs": []
  },
  {
   "cell_type": "code",
   "execution_count": null,
   "outputs": [],
   "source": [],
   "metadata": {
    "collapsed": false
   }
  }
 ]
}
