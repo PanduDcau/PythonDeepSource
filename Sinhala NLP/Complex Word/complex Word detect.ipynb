{
 "cells": [
  {
   "cell_type": "code",
   "execution_count": 1,
   "outputs": [],
   "source": [
    "import csv"
   ],
   "metadata": {
    "collapsed": false,
    "ExecuteTime": {
     "end_time": "2023-10-10T17:12:00.208602100Z",
     "start_time": "2023-10-10T17:12:00.193737600Z"
    }
   },
   "id": "3dcba3d8a46ef9ac"
  },
  {
   "cell_type": "code",
   "execution_count": 2,
   "id": "initial_id",
   "metadata": {
    "collapsed": true,
    "ExecuteTime": {
     "end_time": "2023-10-10T17:12:35.954225200Z",
     "start_time": "2023-10-10T17:12:35.889817Z"
    }
   },
   "outputs": [
    {
     "name": "stdout",
     "output_type": "stream",
     "text": [
      "Word: පෞද්ගලික, Description: පෞද්ගලික ස්වභාවික හෝ සුළු ව්‍යවහාර්ය කුළුහුරයකි. සිහින ද්‍රව්‍යයේදී පෞද්ගලික හෝ සුළු ජීවියේ දී සිහින්ව විය හැකිය. පෞද්ගලික ක්‍රියාකාරීත්වයක් අනුක්‍රමිකයේදී සුළු ව්‍යවහාර්ය කුළුහුරුවකි.\n",
      "Word: සංස්කෘතික, Description:  මෙම වචනය අරඹයි \"ස්යාඋන්න\" සඳහා අර්ථයේ සූදානම හානියක් හෝ ක්‍රියාදාමයක් සහිත කුළුහුරයකි. සංස්කෘතික කරුණුවන් නිසා මෙය සහිතව නිශ්චිත හෝ සුළු ව්‍යවහාර්ය කුළුහුරුවක් හෝ සාධාංශීය ක්‍රියාකාරීත්වයක් සහිත ක්‍රියාකාරීත්වයක් නොවේ. සාමාන්‍යයෙන්\n"
     ]
    }
   ],
   "source": [
    "# Open the CSV file and create a dictionary from the first column (key) to the second column (value)\n",
    "word_dict = {}\n",
    "with open('./complexWord.csv', mode='r', encoding='utf-8') as file:\n",
    "    csv_reader = csv.reader(file)\n",
    "    for row in csv_reader:\n",
    "        sinhala_word = row[0]\n",
    "        english_translation = row[1]\n",
    "        word_dict[sinhala_word] = english_translation\n",
    "\n",
    "# Function to translate a sentence\n",
    "def translate_sentence(sentence):\n",
    "    translations = []  # Object array to store translations\n",
    "    \n",
    "    # Tokenize the sentence into words\n",
    "    words = sentence.split()\n",
    "    \n",
    "    # Translate and add words found in the dictionary to the object array\n",
    "    for word in words:\n",
    "        if word in word_dict:\n",
    "            translations.append({\n",
    "                'word': word,\n",
    "                'description': word_dict[word]\n",
    "            })\n",
    "    \n",
    "    return translations\n",
    "\n",
    "# Example usage\n",
    "sentence = \"ඔබ පෞද්ගලික සුබ සංස්කෘතික\"\n",
    "translations = translate_sentence(sentence)\n",
    "\n",
    "# Print all translations at the end\n",
    "for translation in translations:\n",
    "    print(f\"Word: {translation['word']}, Description: {translation['description']}\")\n",
    "\n",
    "\n"
   ]
  },
  {
   "cell_type": "code",
   "execution_count": 4,
   "outputs": [
    {
     "name": "stdout",
     "output_type": "stream",
     "text": [
      "Word: කල්මුළු, Description: කල්මුළු ස්වභාවිකව හෝ සුළු ව්‍යවහාර්ය කුළුහුරයකි. \"කල්මුළු\" ලෝක ස්වාධීනයේදී අවිස්සාවේදී සහිතවේ.\n",
      "Word: සංස්කෘතික, Description:  මෙම වචනය අරඹයි \"ස්යාඋන්න\" සඳහා අර්ථයේ සූදානම හානියක් හෝ ක්‍රියාදාමයක් සහිත කුළුහුරයකි. සංස්කෘතික කරුණුවන් නිසා මෙය සහිතව නිශ්චිත හෝ සුළු ව්‍යවහාර්ය කුළුහුරුවක් හෝ සාධාංශීය ක්‍රියාකාරීත්වයක් සහිත ක්‍රියාකාරීත්වයක් නොවේ. සාමාන්‍යයෙන්\n"
     ]
    }
   ],
   "source": [
    "# Example usage\n",
    "sentence = \"කල්මුළු උරුමයක් සංස්කෘතික\"\n",
    "translations = translate_sentence(sentence)\n",
    "\n",
    "# Print all translations at the end\n",
    "for translation in translations:\n",
    "    print(f\"Word: {translation['word']}, Description: {translation['description']}\")"
   ],
   "metadata": {
    "collapsed": false,
    "ExecuteTime": {
     "end_time": "2023-10-10T17:36:15.489618500Z",
     "start_time": "2023-10-10T17:36:15.430340900Z"
    }
   }
  },
  {
   "cell_type": "code",
   "execution_count": null,
   "outputs": [],
   "source": [],
   "metadata": {
    "collapsed": false
   }
  }
 ],
 "metadata": {
  "kernelspec": {
   "display_name": "Python 3",
   "language": "python",
   "name": "python3"
  },
  "language_info": {
   "codemirror_mode": {
    "name": "ipython",
    "version": 2
   },
   "file_extension": ".py",
   "mimetype": "text/x-python",
   "name": "python",
   "nbconvert_exporter": "python",
   "pygments_lexer": "ipython2",
   "version": "2.7.6"
  }
 },
 "nbformat": 4,
 "nbformat_minor": 5
}
