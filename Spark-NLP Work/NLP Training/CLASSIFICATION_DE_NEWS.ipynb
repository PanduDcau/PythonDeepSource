{
  "nbformat": 4,
  "nbformat_minor": 0,
  "metadata": {
    "colab": {
      "name": "CLASSIFICATION_DE_NEWS.ipynb",
      "provenance": []
    },
    "kernelspec": {
      "name": "python3",
      "display_name": "Python 3"
    },
    "language_info": {
      "name": "python"
    }
  },
  "cells": [
    {
      "cell_type": "markdown",
      "metadata": {
        "id": "vas1PNJwZp2U"
      },
      "source": [
        "\n",
        "\n",
        "![JohnSnowLabs](https://nlp.johnsnowlabs.com/assets/images/logo.png)\n",
        "\n",
        "[![Open In Colab](https://colab.research.google.com/assets/colab-badge.svg)](https://githubtocolab.com/JohnSnowLabs/spark-nlp-workshop/blob/master/tutorials/streamlit_notebooks/CLASSIFICATION_DE_NEWS.ipynb)\n",
        "\n",
        "\n"
      ]
    },
    {
      "cell_type": "markdown",
      "metadata": {
        "id": "E2lonApkZwJP"
      },
      "source": [
        "# **Classify German News**"
      ]
    },
    {
      "cell_type": "markdown",
      "metadata": {
        "id": "kMURhBz4ZwM6"
      },
      "source": [
        "## 1. Colab Setup"
      ]
    },
    {
      "cell_type": "code",
      "metadata": {
        "colab": {
          "base_uri": "https://localhost:8080/"
        },
        "id": "qyYMEtv59sox",
        "outputId": "5fcff150-89ef-4119-ffd2-7d981ef31e31"
      },
      "source": [
        "!wget http://setup.johnsnowlabs.com/colab.sh -O - | bash"
      ],
      "execution_count": 1,
      "outputs": [
        {
          "output_type": "stream",
          "name": "stdout",
          "text": [
            "--2021-11-26 19:16:43--  http://setup.johnsnowlabs.com/colab.sh\n",
            "Resolving setup.johnsnowlabs.com (setup.johnsnowlabs.com)... 51.158.130.125\n",
            "Connecting to setup.johnsnowlabs.com (setup.johnsnowlabs.com)|51.158.130.125|:80... connected.\n",
            "HTTP request sent, awaiting response... 302 Found\n",
            "Location: https://setup.johnsnowlabs.com/colab.sh [following]\n",
            "--2021-11-26 19:16:44--  https://setup.johnsnowlabs.com/colab.sh\n",
            "Connecting to setup.johnsnowlabs.com (setup.johnsnowlabs.com)|51.158.130.125|:443... connected.\n",
            "HTTP request sent, awaiting response... 302 Moved Temporarily\n",
            "Location: https://raw.githubusercontent.com/JohnSnowLabs/spark-nlp/master/scripts/colab_setup.sh [following]\n",
            "--2021-11-26 19:16:44--  https://raw.githubusercontent.com/JohnSnowLabs/spark-nlp/master/scripts/colab_setup.sh\n",
            "Resolving raw.githubusercontent.com (raw.githubusercontent.com)... 185.199.111.133, 185.199.108.133, 185.199.110.133, ...\n",
            "Connecting to raw.githubusercontent.com (raw.githubusercontent.com)|185.199.111.133|:443... connected.\n",
            "HTTP request sent, awaiting response... 200 OK\n",
            "Length: 1275 (1.2K) [text/plain]\n",
            "Saving to: ‘STDOUT’\n",
            "\n",
            "-                   100%[===================>]   1.25K  --.-KB/s    in 0s      \n",
            "\n",
            "2021-11-26 19:16:44 (48.6 MB/s) - written to stdout [1275/1275]\n",
            "\n",
            "setup Colab for PySpark 3.0.3 and Spark NLP 3.3.4\n",
            "Installing PySpark 3.0.3 and Spark NLP 3.3.4\n",
            "\u001b[K     |████████████████████████████████| 209.1 MB 51 kB/s \n",
            "\u001b[K     |████████████████████████████████| 133 kB 63.6 MB/s \n",
            "\u001b[K     |████████████████████████████████| 198 kB 66.9 MB/s \n",
            "\u001b[?25h  Building wheel for pyspark (setup.py) ... \u001b[?25l\u001b[?25hdone\n"
          ]
        }
      ]
    },
    {
      "cell_type": "code",
      "metadata": {
        "id": "b_zcj8Y89zxI"
      },
      "source": [
        "import pandas as pd\n",
        "import numpy as np\n",
        "import json\n",
        "from pyspark.ml import Pipeline\n",
        "from pyspark.sql import SparkSession\n",
        "import pyspark.sql.functions as F\n",
        "from sparknlp.annotator import *\n",
        "from sparknlp.base import *\n",
        "import sparknlp\n",
        "from sparknlp.pretrained import PretrainedPipeline"
      ],
      "execution_count": 2,
      "outputs": []
    },
    {
      "cell_type": "markdown",
      "metadata": {
        "id": "PKf4YBDBZ9x7"
      },
      "source": [
        "## 2. Start Spark Session"
      ]
    },
    {
      "cell_type": "code",
      "metadata": {
        "id": "MGBQWrkf-Tlv"
      },
      "source": [
        "spark = sparknlp.start()"
      ],
      "execution_count": 3,
      "outputs": []
    },
    {
      "cell_type": "markdown",
      "metadata": {
        "id": "bXA24WIYaACJ"
      },
      "source": [
        "## 3. Select the DL model and re-run all the cells below"
      ]
    },
    {
      "cell_type": "code",
      "metadata": {
        "id": "ZgfRvkhLBGwh"
      },
      "source": [
        "model_name = \"classifierdl_bert_news\""
      ],
      "execution_count": 4,
      "outputs": []
    },
    {
      "cell_type": "markdown",
      "metadata": {
        "id": "m_-O5I9BaF08"
      },
      "source": [
        "## 4. Some sample examples"
      ]
    },
    {
      "cell_type": "code",
      "metadata": {
        "id": "S0-Axxuz-V95"
      },
      "source": [
        "text_list = [\n",
        "\"\"\"Dramatische Partie wird erst im Shootout entschieden bedeutet den ersten meistertitel seit 22 jahren. Wien a hc wien hat am sonntag beim final-vier-turnier der asterreichischen hockey-bundesliga triumphiert. Hc besiegte titelverteidiger sv arminen in einem dramatischen Endspiel 2:0 nach Shootout. Nach der verlangerung war es in wien 1:1 gestanden. \"\"\",\n",
        "\"\"\"Vertrag bis saisonende a meistertitel soll her. Warschau a stanislaw tschertschessow ist neuer trainer von legia warschau. Der ehemalige tormann und trainer des fc tirol unterzeichnete beim polnischen cupsieger einen vertrag bis saisonende und tritt die nachfolge des entlassenen norwegischen ex-internationalen henning berg an.\"\"\",\n",
        "\"\"\"Auch in den supermarkten machte sich die bankenkrise bemerkbar. Vor allem grundnahrungsmittel wie reis, mehl und bohnen wurden wieder in groayen mengen gekauft. Regale mit keksen und griechischem stangerlgeback waren weitgehend leer. Kunden schleppten groaye fanf-liter-kanister mit olivenal zur kasse. Dort wird weiter eher mit bargeld als mit kreditkarte bezahlt.\"\"\",\n",
        "\"\"\"Rund 64.000 euro flossen von andra rupprechters ressort in die zeitschrift, an der der vp-bauernbund beteiligt ist. Wien a inserate der ministerien haben schon oft die gemater erregt. Sogar die justiz nahm sich der angelegenheit an, die staatsanwaltschaft stellte die ermittlungen wegen verdachts der untreue aber 2013 ein.\"\"\",\n",
        "\"\"\"Vorstandsvorsitzender des fc bayern lasst interessenten abblitzen und will weitere starspieler nach manchen lotsen. Manchen a bayern manchens vorstandsvorsitzender karl-heinz rummenigge hat allen interessenten an fuayball-nationalspieler thomas maller erneut eine klare absage erteilt. Thomas ist unverkauflich, sagte er in einem interview des magazins sport bild (mittwoch).\"\"\",\n",
        "\"\"\"Mit timothy peake geht erstmals auch ein britischer astronaut an bord der iss. Baikonur/london a am frahen dienstagabend erreichte eine sojus mit drei raumfahrern an bord die international space station (iss). Um 18:33 mez dockte das raumschiff rund 400 kilometer aber indien an, wie die nasa per kurznachrichtendienst twitter mitteilte. \"\"\",\n",
        "\"\"\"Die beiden neuen modelle aberraschen mit niedrigen preisen, die vorab ins netz gelangt sind. Am dienstagabend wird google seine zwei neuen nexus-modelle offiziell vorstellen. Allerdings darfte es nur mehr wenige details geben, die interessierte beobachter aberraschen. \"\"\",\n",
        "\"\"\"Ist es ein wal, der seeelefant oder das flusspferd? Der wettbewerb um das fetteste tier der erde hat einen verblaffenden sieger. London/wien a wahrend wir menschen an winterspeck wenig freude haben, entscheidet er im tierreich aber tod oder aberleben. Aber welches tier bringt davon nun am meisten auf die waage? Dieser frage, die gar nicht so leicht zu beantworten ist, ging die bbc karzlich auf die spur.\"\"\",\n",
        "\"\"\"Youtuber nimmt apple-smartphones mit ak-74 unter beschuss. Aber langere zeit erfreuten sich sogenannte droptests auf youtube hoher beliebtheit. Auch heute noch lassen videomacher neue smartphones und ahnliche produkte, teilweise spektakular per zeitlupenkamera inszeniert, auf den boden fallen und versuchen, aus dem ergebnis auf die verarbeitungs- und materialqualitat des jeweiligen gerats zu schlieayen. \"\"\"\n",
        "]"
      ],
      "execution_count": 5,
      "outputs": []
    },
    {
      "cell_type": "markdown",
      "metadata": {
        "id": "ULKvemZpaNal"
      },
      "source": [
        "## 5. Define Spark NLP pipeline"
      ]
    },
    {
      "cell_type": "code",
      "metadata": {
        "colab": {
          "base_uri": "https://localhost:8080/"
        },
        "id": "-Y7GcAse-2Ie",
        "outputId": "709d4751-876b-485f-f25b-5104ce5eb186"
      },
      "source": [
        "document = DocumentAssembler()\\\n",
        "    .setInputCol(\"text\")\\\n",
        "    .setOutputCol(\"document\")\n",
        "\n",
        "embeddings = BertSentenceEmbeddings\\\n",
        "  .pretrained('sent_bert_multi_cased', 'xx') \\\n",
        "  .setInputCols([\"document\"])\\\n",
        "  .setOutputCol(\"sentence_embeddings\")\n",
        "\n",
        "document_classifier = ClassifierDLModel.pretrained(model_name, \"de\") \\\n",
        "  .setInputCols([\"document\", \"sentence_embeddings\"]) \\\n",
        "  .setOutputCol(\"class\")  \n",
        "     \n",
        "nlpPipeline = Pipeline(stages=[\n",
        " document, \n",
        " embeddings,\n",
        " document_classifier\n",
        " ])"
      ],
      "execution_count": 6,
      "outputs": [
        {
          "output_type": "stream",
          "name": "stdout",
          "text": [
            "sent_bert_multi_cased download started this may take some time.\n",
            "Approximate size to download 638.6 MB\n",
            "[OK!]\n",
            "classifierdl_bert_news download started this may take some time.\n",
            "Approximate size to download 21.6 MB\n",
            "[OK!]\n"
          ]
        }
      ]
    },
    {
      "cell_type": "markdown",
      "metadata": {
        "id": "hZtgPiQPafLR"
      },
      "source": [
        "## 6. Run the pipeline"
      ]
    },
    {
      "cell_type": "code",
      "metadata": {
        "id": "DZIJCK75_AeC"
      },
      "source": [
        "empty_df = spark.createDataFrame([['']]).toDF(\"text\")\n",
        "\n",
        "pipelineModel = nlpPipeline.fit(empty_df)\n",
        "df = spark.createDataFrame(pd.DataFrame({\"text\":text_list}))\n",
        "result = pipelineModel.transform(df)"
      ],
      "execution_count": 7,
      "outputs": []
    },
    {
      "cell_type": "markdown",
      "metadata": {
        "id": "GM8GfPB5aSCu"
      },
      "source": [
        "## 7. Visualize results"
      ]
    },
    {
      "cell_type": "code",
      "metadata": {
        "colab": {
          "base_uri": "https://localhost:8080/"
        },
        "id": "qeDbR4Gd_uo0",
        "outputId": "5f8a7e72-048d-4c6f-fd2b-274d64101486"
      },
      "source": [
        "\n",
        "result.select(F.explode(F.arrays_zip('document.result', 'class.result')).alias(\"cols\")) \\\n",
        ".select(F.expr(\"cols['0']\").alias(\"document\"),\n",
        "        F.expr(\"cols['1']\").alias(\"class\")).show(truncate=False)"
      ],
      "execution_count": 8,
      "outputs": [
        {
          "output_type": "stream",
          "name": "stdout",
          "text": [
            "+-----------------------------------------------------------------------------------------------------------------------------------------------------------------------------------------------------------------------------------------------------------------------------------------------------------------------------------------------------------------------------------------------------------------------+------------+\n",
            "|document                                                                                                                                                                                                                                                                                                                                                                                                               |class       |\n",
            "+-----------------------------------------------------------------------------------------------------------------------------------------------------------------------------------------------------------------------------------------------------------------------------------------------------------------------------------------------------------------------------------------------------------------------+------------+\n",
            "|Dramatische Partie wird erst im Shootout entschieden bedeutet den ersten meistertitel seit 22 jahren. Wien a hc wien hat am sonntag beim final-vier-turnier der asterreichischen hockey-bundesliga triumphiert. Hc besiegte titelverteidiger sv arminen in einem dramatischen Endspiel 2:0 nach Shootout. Nach der verlangerung war es in wien 1:1 gestanden.                                                          |Sport       |\n",
            "|Vertrag bis saisonende a meistertitel soll her. Warschau a stanislaw tschertschessow ist neuer trainer von legia warschau. Der ehemalige tormann und trainer des fc tirol unterzeichnete beim polnischen cupsieger einen vertrag bis saisonende und tritt die nachfolge des entlassenen norwegischen ex-internationalen henning berg an.                                                                               |Sport       |\n",
            "|Auch in den supermarkten machte sich die bankenkrise bemerkbar. Vor allem grundnahrungsmittel wie reis, mehl und bohnen wurden wieder in groayen mengen gekauft. Regale mit keksen und griechischem stangerlgeback waren weitgehend leer. Kunden schleppten groaye fanf-liter-kanister mit olivenal zur kasse. Dort wird weiter eher mit bargeld als mit kreditkarte bezahlt.                                          |Wirtschaft  |\n",
            "|Rund 64.000 euro flossen von andra rupprechters ressort in die zeitschrift, an der der vp-bauernbund beteiligt ist. Wien a inserate der ministerien haben schon oft die gemater erregt. Sogar die justiz nahm sich der angelegenheit an, die staatsanwaltschaft stellte die ermittlungen wegen verdachts der untreue aber 2013 ein.                                                                                    |Wirtschaft  |\n",
            "|Vorstandsvorsitzender des fc bayern lasst interessenten abblitzen und will weitere starspieler nach manchen lotsen. Manchen a bayern manchens vorstandsvorsitzender karl-heinz rummenigge hat allen interessenten an fuayball-nationalspieler thomas maller erneut eine klare absage erteilt. Thomas ist unverkauflich, sagte er in einem interview des magazins sport bild (mittwoch).                                |Sport       |\n",
            "|Mit timothy peake geht erstmals auch ein britischer astronaut an bord der iss. Baikonur/london a am frahen dienstagabend erreichte eine sojus mit drei raumfahrern an bord die international space station (iss). Um 18:33 mez dockte das raumschiff rund 400 kilometer aber indien an, wie die nasa per kurznachrichtendienst twitter mitteilte.                                                                      |Wissenschaft|\n",
            "|Die beiden neuen modelle aberraschen mit niedrigen preisen, die vorab ins netz gelangt sind. Am dienstagabend wird google seine zwei neuen nexus-modelle offiziell vorstellen. Allerdings darfte es nur mehr wenige details geben, die interessierte beobachter aberraschen.                                                                                                                                           |Web         |\n",
            "|Ist es ein wal, der seeelefant oder das flusspferd? Der wettbewerb um das fetteste tier der erde hat einen verblaffenden sieger. London/wien a wahrend wir menschen an winterspeck wenig freude haben, entscheidet er im tierreich aber tod oder aberleben. Aber welches tier bringt davon nun am meisten auf die waage? Dieser frage, die gar nicht so leicht zu beantworten ist, ging die bbc karzlich auf die spur. |Wissenschaft|\n",
            "|Youtuber nimmt apple-smartphones mit ak-74 unter beschuss. Aber langere zeit erfreuten sich sogenannte droptests auf youtube hoher beliebtheit. Auch heute noch lassen videomacher neue smartphones und ahnliche produkte, teilweise spektakular per zeitlupenkamera inszeniert, auf den boden fallen und versuchen, aus dem ergebnis auf die verarbeitungs- und materialqualitat des jeweiligen gerats zu schlieayen. |Web         |\n",
            "+-----------------------------------------------------------------------------------------------------------------------------------------------------------------------------------------------------------------------------------------------------------------------------------------------------------------------------------------------------------------------------------------------------------------------+------------+\n",
            "\n"
          ]
        }
      ]
    }
  ]
}