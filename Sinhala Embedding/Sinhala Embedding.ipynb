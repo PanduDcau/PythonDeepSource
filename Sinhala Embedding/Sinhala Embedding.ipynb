{
 "cells": [
  {
   "cell_type": "markdown",
   "source": [
    "### Sinhala Tokenizer"
   ],
   "metadata": {
    "collapsed": false
   }
  },
  {
   "cell_type": "code",
   "execution_count": null,
   "outputs": [],
   "source": [
    "# use !pip install sinling"
   ],
   "metadata": {
    "collapsed": false
   }
  },
  {
   "cell_type": "code",
   "execution_count": 1,
   "outputs": [
    {
     "data": {
      "text/plain": "['ඔබට', 'කොහොමද', '?', 'ඔයාව', 'හොඳින්', 'දෙන්නෙ', 'නෑ']"
     },
     "execution_count": 1,
     "metadata": {},
     "output_type": "execute_result"
    }
   ],
   "source": [
    "from sinling import SinhalaTokenizer\n",
    "tokenizer = SinhalaTokenizer()\n",
    "\n",
    "sentence = 'ඔබට කොහොමද ? ඔයාව හොඳින් දෙන්නෙ නෑ'  # your sentence\n",
    "\n",
    "tokenizer.tokenize(sentence)"
   ],
   "metadata": {
    "collapsed": false,
    "ExecuteTime": {
     "end_time": "2023-09-11T09:42:47.553105800Z",
     "start_time": "2023-09-11T09:42:45.503100600Z"
    }
   }
  },
  {
   "cell_type": "markdown",
   "source": [
    "## Sinhala Stemmer"
   ],
   "metadata": {
    "collapsed": false
   }
  },
  {
   "cell_type": "code",
   "execution_count": 2,
   "outputs": [
    {
     "data": {
      "text/plain": "('ඔබට කොහොමද ඔයාව හොඳින් දෙන්නෙ නෑ. ඇයි ඔයා ඔය විදිහට වැඩ කරන්න, ඉඩ වැඩිය හොඳට වැඩ කරන්න තිබ්බ නේද?',\n '')"
     },
     "execution_count": 2,
     "metadata": {},
     "output_type": "execute_result"
    }
   ],
   "source": [
    "from sinling import SinhalaStemmer\n",
    "\n",
    "stemmer = SinhalaStemmer()\n",
    "word = 'ඔබට කොහොමද ඔයාව හොඳින් දෙන්නෙ නෑ. ඇයි ඔයා ඔය විදිහට වැඩ කරන්න, ඉඩ වැඩිය හොඳට වැඩ කරන්න තිබ්බ නේද?'  # your sentence\n",
    "\n",
    "stemmer.stem(word)"
   ],
   "metadata": {
    "collapsed": false,
    "ExecuteTime": {
     "end_time": "2023-09-11T09:44:55.589608Z",
     "start_time": "2023-09-11T09:44:55.423191800Z"
    }
   }
  },
  {
   "cell_type": "markdown",
   "source": [
    "## Part-of-Speech Tagger"
   ],
   "metadata": {
    "collapsed": false
   }
  },
  {
   "cell_type": "code",
   "execution_count": 3,
   "outputs": [],
   "source": [
    "from sinling import SinhalaTokenizer, POSTagger\n",
    "\n",
    "tokenizer = SinhalaTokenizer()\n",
    "\n",
    "document = 'ඔබට කොහොමද ඔයාව හොඳින් දෙන්නෙ නෑ. ඇයි ඔයා ඔය විදිහට වැඩ කරන්න, ඉඩ වැඩිය හොඳට වැඩ කරන්න තිබ්බ නේද? සමහර දෙකට හොඳට කරන්න පුළුවන් සමහර දේවල් හට කරන්නට කරන්න.  හැබැයි එක හරිද? තීරණය ඔබ සතුයි.'  # may contain multiple sentences\n",
    "\n",
    "tokenized_sentences = [tokenizer.tokenize(f'{ss}.') for ss in tokenizer.split_sentences(document)]\n",
    "tagger = POSTagger()\n",
    "pos_tags = tagger.predict(tokenized_sentences)"
   ],
   "metadata": {
    "collapsed": false,
    "ExecuteTime": {
     "end_time": "2023-09-11T09:46:55.808902600Z",
     "start_time": "2023-09-11T09:46:55.733450Z"
    }
   }
  },
  {
   "cell_type": "code",
   "execution_count": 4,
   "outputs": [
    {
     "data": {
      "text/plain": "[[('ඔබට', 'PRP'),\n  ('කොහොමද', 'NNC'),\n  ('ඔයාව', 'NNC'),\n  ('හොඳින්', 'JJ'),\n  ('දෙන්නෙ', 'NNC'),\n  ('නෑ', 'NIP'),\n  ('.', 'FS')],\n [('ඇයි', 'QUE'),\n  ('ඔයා', 'NNC'),\n  ('ඔය', 'DET'),\n  ('විදිහට', 'NNC'),\n  ('වැඩ', 'NNJ'),\n  ('කරන්න', 'VNN'),\n  (',', 'PUNC'),\n  ('ඉඩ', 'NNJ'),\n  ('වැඩිය', 'NNC'),\n  ('හොඳට', 'JJ'),\n  ('වැඩ', 'NNJ'),\n  ('කරන්න', 'VNN'),\n  ('තිබ්බ', 'NNC'),\n  ('නේද', 'VFM'),\n  ('.', 'FS')],\n [('සමහර', 'NDT'),\n  ('දෙකට', 'NUM'),\n  ('හොඳට', 'NNC'),\n  ('කරන්න', 'VNN'),\n  ('පුළුවන්', 'NNC'),\n  ('සමහර', 'DET'),\n  ('දේවල්', 'NNC'),\n  ('හට', 'RRPCV'),\n  ('කරන්නට', 'VNN'),\n  ('කරන්න', 'VFM'),\n  ('.', 'FS')],\n [('හැබැයි', 'NNC'), ('එක', 'NUM'), ('හරිද', 'NNC'), ('.', 'FS')],\n [('තීරණය', 'NNC'), ('ඔබ', 'PRP'), ('සතුයි', 'VFM'), ('.', 'FS')]]"
     },
     "execution_count": 4,
     "metadata": {},
     "output_type": "execute_result"
    }
   ],
   "source": [
    "pos_tags"
   ],
   "metadata": {
    "collapsed": false,
    "ExecuteTime": {
     "end_time": "2023-09-11T09:47:16.087910200Z",
     "start_time": "2023-09-11T09:47:16.074587700Z"
    }
   }
  },
  {
   "cell_type": "markdown",
   "source": [
    "## Word Joiner (Morphological Joiner)"
   ],
   "metadata": {
    "collapsed": false
   }
  },
  {
   "cell_type": "code",
   "execution_count": 5,
   "outputs": [],
   "source": [
    "from sinling import preprocess, word_joiner\n",
    "\n",
    "w1 = preprocess('මුනි')\n",
    "w2 = preprocess('උතුමා')\n",
    "results = word_joiner.join(w1, w2)\n",
    "# Returns a list of possible results after applying join rules ['මුනිතුමා', ...]"
   ],
   "metadata": {
    "collapsed": false,
    "ExecuteTime": {
     "end_time": "2023-09-11T09:48:20.789064200Z",
     "start_time": "2023-09-11T09:48:20.773924500Z"
    }
   }
  },
  {
   "cell_type": "code",
   "execution_count": 6,
   "outputs": [
    {
     "data": {
      "text/plain": "['මුනුතුමා',\n 'මුනිතුමා',\n 'මුනිනතුමා',\n 'මුනිවුතුමා',\n 'මුනියුතුමා',\n 'මුනිරුතුමා',\n 'මුන්නුතුමා',\n 'මුනිොතුමා',\n 'මුනිෝතුමා',\n 'මුන්\\u200dයුතුමා']"
     },
     "execution_count": 6,
     "metadata": {},
     "output_type": "execute_result"
    }
   ],
   "source": [
    "results"
   ],
   "metadata": {
    "collapsed": false,
    "ExecuteTime": {
     "end_time": "2023-09-11T09:48:25.761899600Z",
     "start_time": "2023-09-11T09:48:25.749240500Z"
    }
   }
  },
  {
   "cell_type": "code",
   "execution_count": 7,
   "outputs": [
    {
     "data": {
      "text/plain": "['මුනුතුමා', 'මුනිතුමා']"
     },
     "execution_count": 7,
     "metadata": {},
     "output_type": "execute_result"
    }
   ],
   "source": [
    "results[0:2]"
   ],
   "metadata": {
    "collapsed": false,
    "ExecuteTime": {
     "end_time": "2023-09-11T09:48:57.928211900Z",
     "start_time": "2023-09-11T09:48:57.921219500Z"
    }
   }
  },
  {
   "cell_type": "markdown",
   "source": [
    "### Word Splitter (Morphological Splitter) / corpus based - experimental"
   ],
   "metadata": {
    "collapsed": false
   }
  },
  {
   "cell_type": "code",
   "execution_count": 10,
   "outputs": [],
   "source": [
    "from sinling import word_splitter\n",
    "\n",
    "word = 'ඔබට කොහොමද ඔයාව හොඳින් දෙන්නෙ නෑ.'\n",
    "results = word_splitter.split(word)\n",
    "# Returns a dict containing debug information, base word and affix"
   ],
   "metadata": {
    "collapsed": false,
    "ExecuteTime": {
     "end_time": "2023-09-11T09:53:32.407567300Z",
     "start_time": "2023-09-11T09:53:24.443994900Z"
    }
   }
  },
  {
   "cell_type": "code",
   "execution_count": 11,
   "outputs": [
    {
     "data": {
      "text/plain": "{'debug': [['ඔ', 'බට කොහොමද ඔයාව හොඳින් දෙන්නෙ නෑ.', 1.989010989010989],\n  ['ඔබ', 'ට කොහොමද ඔයාව හොඳින් දෙන්නෙ නෑ.', 1.9999581896101182],\n  ['ඔබට', ' කොහොමද ඔයාව හොඳින් දෙන්නෙ නෑ.', 1.9998797787929792],\n  ['ඔබට ', 'කොහොමද ඔයාව හොඳින් දෙන්නෙ නෑ.', 1.0],\n  ['ඔබට ක', 'ොහොමද ඔයාව හොඳින් දෙන්නෙ නෑ.', 1.0],\n  ['ඔබට කො', 'හොමද ඔයාව හොඳින් දෙන්නෙ නෑ.', 1.0],\n  ['ඔබට කොහ', 'ොමද ඔයාව හොඳින් දෙන්නෙ නෑ.', 1.0],\n  ['ඔබට කොහො', 'මද ඔයාව හොඳින් දෙන්නෙ නෑ.', 1.0],\n  ['ඔබට කොහොම', 'ද ඔයාව හොඳින් දෙන්නෙ නෑ.', 1.0],\n  ['ඔබට කොහොමද', ' ඔයාව හොඳින් දෙන්නෙ නෑ.', 1.0],\n  ['ඔබට කොහොමද ', 'ඔයාව හොඳින් දෙන්නෙ නෑ.', 1.0],\n  ['ඔබට කොහොමද ඔ', 'යාව හොඳින් දෙන්නෙ නෑ.', 1.0],\n  ['ඔබට කොහොමද ඔය', 'ාව හොඳින් දෙන්නෙ නෑ.', 1.0],\n  ['ඔබට කොහොමද ඔයා', 'ව හොඳින් දෙන්නෙ නෑ.', 1.0],\n  ['ඔබට කොහොමද ඔයාව', ' හොඳින් දෙන්නෙ නෑ.', 1.0],\n  ['ඔබට කොහොමද ඔයාව ', 'හොඳින් දෙන්නෙ නෑ.', 1.0],\n  ['ඔබට කොහොමද ඔයාව හ', 'ොඳින් දෙන්නෙ නෑ.', 1.0],\n  ['ඔබට කොහොමද ඔයාව හො', 'ඳින් දෙන්නෙ නෑ.', 1.0],\n  ['ඔබට කොහොමද ඔයාව හොඳ', 'ින් දෙන්නෙ නෑ.', 1.0],\n  ['ඔබට කොහොමද ඔයාව හොඳි', 'න් දෙන්නෙ නෑ.', 1.0],\n  ['ඔබට කොහොමද ඔයාව හොඳින', '් දෙන්නෙ නෑ.', 1.0],\n  ['ඔබට කොහොමද ඔයාව හොඳින්', ' දෙන්නෙ නෑ.', 1.0],\n  ['ඔබට කොහොමද ඔයාව හොඳින් ', 'දෙන්නෙ නෑ.', 1.0],\n  ['ඔබට කොහොමද ඔයාව හොඳින් ද', 'ෙන්නෙ නෑ.', 1.0],\n  ['ඔබට කොහොමද ඔයාව හොඳින් දෙ', 'න්නෙ නෑ.', 1.0],\n  ['ඔබට කොහොමද ඔයාව හොඳින් දෙන', '්නෙ නෑ.', 1.0],\n  ['ඔබට කොහොමද ඔයාව හොඳින් දෙන්', 'නෙ නෑ.', 1.0],\n  ['ඔබට කොහොමද ඔයාව හොඳින් දෙන්න', 'ෙ නෑ.', 1.0],\n  ['ඔබට කොහොමද ඔයාව හොඳින් දෙන්නෙ', ' නෑ.', 1.0],\n  ['ඔබට කොහොමද ඔයාව හොඳින් දෙන්නෙ ', 'නෑ.', 1.0],\n  ['ඔබට කොහොමද ඔයාව හොඳින් දෙන්නෙ න', 'ෑ.', 1.0],\n  ['ඔබට කොහොමද ඔයාව හොඳින් දෙන්නෙ නෑ', '.', 1.3333333333333333]],\n 'base': 'ඔබ',\n 'affix': 'ට කොහොමද ඔයාව හොඳින් දෙන්නෙ නෑ.'}"
     },
     "execution_count": 11,
     "metadata": {},
     "output_type": "execute_result"
    }
   ],
   "source": [
    "results"
   ],
   "metadata": {
    "collapsed": false,
    "ExecuteTime": {
     "end_time": "2023-09-11T09:53:44.240889300Z",
     "start_time": "2023-09-11T09:53:44.228567400Z"
    }
   }
  },
  {
   "cell_type": "code",
   "execution_count": null,
   "outputs": [],
   "source": [],
   "metadata": {
    "collapsed": false
   }
  }
 ],
 "metadata": {
  "kernelspec": {
   "display_name": "Python 3",
   "language": "python",
   "name": "python3"
  },
  "language_info": {
   "codemirror_mode": {
    "name": "ipython",
    "version": 2
   },
   "file_extension": ".py",
   "mimetype": "text/x-python",
   "name": "python",
   "nbconvert_exporter": "python",
   "pygments_lexer": "ipython2",
   "version": "2.7.6"
  }
 },
 "nbformat": 4,
 "nbformat_minor": 0
}
