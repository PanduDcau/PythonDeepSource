{
 "cells": [
  {
   "cell_type": "markdown",
   "id": "6b96ef13",
   "metadata": {},
   "source": [
    "## Spark Initializing"
   ]
  },
  {
   "cell_type": "code",
   "execution_count": 2,
   "id": "b785aeb5",
   "metadata": {},
   "outputs": [],
   "source": [
    "import findspark\n",
    "findspark.init()\n",
    "import pyspark\n",
    "import pandas as pd\n",
    "import seaborn as sns # To get graphs\n",
    "import matplotlib.pyplot as plt # To get graphs"
   ]
  },
  {
   "cell_type": "code",
   "execution_count": 3,
   "id": "fc63b933",
   "metadata": {},
   "outputs": [],
   "source": [
    "#### First we have create a spark session\n",
    "from pyspark.sql import SparkSession\n",
    "spark = SparkSession.builder.master(\"local[1]\") \\\n",
    "                    .appName('Forcast') \\\n",
    "                    .getOrCreate()"
   ]
  },
  {
   "cell_type": "code",
   "execution_count": 4,
   "id": "b5fc59bf",
   "metadata": {},
   "outputs": [
    {
     "data": {
      "text/html": [
       "\n",
       "            <div>\n",
       "                <p><b>SparkSession - in-memory</b></p>\n",
       "                \n",
       "        <div>\n",
       "            <p><b>SparkContext</b></p>\n",
       "\n",
       "            <p><a href=\"http://PanduDCAU-Multiverse.mshome.net:4040\">Spark UI</a></p>\n",
       "\n",
       "            <dl>\n",
       "              <dt>Version</dt>\n",
       "                <dd><code>v3.1.2</code></dd>\n",
       "              <dt>Master</dt>\n",
       "                <dd><code>local[1]</code></dd>\n",
       "              <dt>AppName</dt>\n",
       "                <dd><code>Forcast</code></dd>\n",
       "            </dl>\n",
       "        </div>\n",
       "        \n",
       "            </div>\n",
       "        "
      ],
      "text/plain": [
       "<pyspark.sql.session.SparkSession at 0x1c68438f670>"
      ]
     },
     "execution_count": 4,
     "metadata": {},
     "output_type": "execute_result"
    }
   ],
   "source": [
    "spark"
   ]
  },
  {
   "cell_type": "markdown",
   "id": "8b500dfb",
   "metadata": {},
   "source": [
    "### Importing DataSet"
   ]
  },
  {
   "cell_type": "code",
   "execution_count": 5,
   "id": "36c3ac18",
   "metadata": {},
   "outputs": [],
   "source": [
    "#df = spark.read.option(\"header\" , True).csv(\"D:\\\\Vizuamatix exam\\\\final_dispatch.csv\")\n",
    "df = spark.read.option(\"header\" , True).csv(\"/Users/Asus/Documents/InternCsv/combine_final.csv\")"
   ]
  },
  {
   "cell_type": "code",
   "execution_count": 6,
   "id": "0e126447",
   "metadata": {},
   "outputs": [
    {
     "name": "stdout",
     "output_type": "stream",
     "text": [
      "+-------------+--------+----+---------------+-------------------+----------+\n",
      "|        Plant|    Date|Time|Actual_Dispatch|Forecasted_Dispatch|Difference|\n",
      "+-------------+--------+----+---------------+-------------------+----------+\n",
      "| ALTAQQA-Pol.|7/1/2020|0:00|              0|                  0|         0|\n",
      "|         Bowa|7/1/2020|0:00|              0|                  0|         0|\n",
      "|     KPS(GT7)|7/1/2020|0:00|              0|                  0|         0|\n",
      "|         Polp|7/1/2020|0:00|             40|                 78|       -38|\n",
      "|          WPS|7/1/2020|0:00|              0|                  0|         0|\n",
      "|         Rand|7/1/2020|0:00|              0|                  0|         0|\n",
      "|VPOWER Horona|7/1/2020|0:00|              0|                  0|         0|\n",
      "|       LVPS 2|7/1/2020|0:00|            540|                270|       270|\n",
      "|          Uku|7/1/2020|0:00|             72|                 40|        32|\n",
      "|   ACE Matara|7/1/2020|0:00|              0|                  0|         0|\n",
      "| VPOWER Hamb.|7/1/2020|0:00|              0|                  0|         0|\n",
      "|         Koth|7/1/2020|0:00|             96|                 33|        63|\n",
      "|         KCCP|7/1/2020|0:00|              0|                  0|         0|\n",
      "|       Sapu A|7/1/2020|0:00|             66|                 54|        12|\n",
      "|          Sam|7/1/2020|0:00|              0|                  0|         0|\n",
      "|     ACE EMBP|7/1/2020|0:00|              0|                 51|       -51|\n",
      "|Uthuru Janani|7/1/2020|0:00|              0|                 20|       -20|\n",
      "|          WCP|7/1/2020|0:00|            280|                135|       145|\n",
      "|       Kukule|7/1/2020|0:00|            105|                  0|       105|\n",
      "|       LVPS 3|7/1/2020|0:00|            540|                229|       311|\n",
      "+-------------+--------+----+---------------+-------------------+----------+\n",
      "only showing top 20 rows\n",
      "\n"
     ]
    }
   ],
   "source": [
    "df.show()"
   ]
  },
  {
   "cell_type": "code",
   "execution_count": 8,
   "id": "b20c3f37",
   "metadata": {},
   "outputs": [],
   "source": [
    "from pyspark.sql.functions import percent_rank\n",
    "from pyspark.sql import Window\n",
    "df_dev = df.withColumn(\"rank\", percent_rank().over(Window.partitionBy().orderBy(\"Date\",\"Time\",\"Plant\")))"
   ]
  },
  {
   "cell_type": "code",
   "execution_count": 9,
   "id": "e98d0e0b",
   "metadata": {},
   "outputs": [
    {
     "name": "stdout",
     "output_type": "stream",
     "text": [
      "+-------------+--------+----+---------------+-------------------+----------+\n",
      "|        Plant|    Date|Time|Actual_Dispatch|Forecasted_Dispatch|Difference|\n",
      "+-------------+--------+----+---------------+-------------------+----------+\n",
      "|     ACE EMBP|7/1/2020|0:00|              0|                 51|       -51|\n",
      "|   ACE Matara|7/1/2020|0:00|              0|                  0|         0|\n",
      "|ALTAQQA-Mahi.|7/1/2020|0:00|              0|                  0|         0|\n",
      "| ALTAQQA-Pol.|7/1/2020|0:00|              0|                  0|         0|\n",
      "|   Asia Power|7/1/2020|0:00|              0|                 33|       -33|\n",
      "|        Barge|7/1/2020|0:00|             90|                 45|        45|\n",
      "|         Bowa|7/1/2020|0:00|              0|                  0|         0|\n",
      "|CEB Sup Power|7/1/2020|0:00|              0|                  0|         0|\n",
      "|       Canyon|7/1/2020|0:00|             20|                  0|        20|\n",
      "|         KCCP|7/1/2020|0:00|              0|                  0|         0|\n",
      "|      KPS(GT)|7/1/2020|0:00|              0|                  0|         0|\n",
      "|     KPS(GT7)|7/1/2020|0:00|              0|                  0|         0|\n",
      "|         Koth|7/1/2020|0:00|             96|                 33|        63|\n",
      "|       Kukule|7/1/2020|0:00|            105|                  0|       105|\n",
      "|       LVPS 1|7/1/2020|0:00|            548|                270|       278|\n",
      "|       LVPS 2|7/1/2020|0:00|            540|                270|       270|\n",
      "|       LVPS 3|7/1/2020|0:00|            540|                229|       311|\n",
      "|         Nlax|7/1/2020|0:00|             91|                 61|        30|\n",
      "|         Olax|7/1/2020|0:00|             10|                 10|         0|\n",
      "|         Polp|7/1/2020|0:00|             40|                 78|       -38|\n",
      "+-------------+--------+----+---------------+-------------------+----------+\n",
      "only showing top 20 rows\n",
      "\n"
     ]
    }
   ],
   "source": [
    "train_df = df_dev.where(\"rank <= .8\").drop(\"rank\")\n",
    "train_df.show()"
   ]
  },
  {
   "cell_type": "code",
   "execution_count": 10,
   "id": "b708a7ed",
   "metadata": {},
   "outputs": [],
   "source": [
    "train_df = train_df.withColumn(\"Difference\",train_df.Difference.cast('double'))"
   ]
  },
  {
   "cell_type": "code",
   "execution_count": 11,
   "id": "c0de2e6b",
   "metadata": {},
   "outputs": [],
   "source": [
    "train_df = train_df.withColumn(\"Actual_Dispatch\",train_df.Actual_Dispatch.cast('double'))"
   ]
  },
  {
   "cell_type": "code",
   "execution_count": 12,
   "id": "cc57b96c",
   "metadata": {},
   "outputs": [],
   "source": [
    "train_df = train_df.withColumn(\"Forecasted_Dispatch\",train_df.Forecasted_Dispatch.cast('double'))"
   ]
  },
  {
   "cell_type": "code",
   "execution_count": 13,
   "id": "93497215",
   "metadata": {},
   "outputs": [
    {
     "data": {
      "text/plain": [
       "[('Plant', 'string'),\n",
       " ('Date', 'string'),\n",
       " ('Time', 'string'),\n",
       " ('Actual_Dispatch', 'double'),\n",
       " ('Forecasted_Dispatch', 'double'),\n",
       " ('Difference', 'double')]"
      ]
     },
     "execution_count": 13,
     "metadata": {},
     "output_type": "execute_result"
    }
   ],
   "source": [
    "train_df.dtypes\n"
   ]
  },
  {
   "cell_type": "markdown",
   "id": "5da8103f",
   "metadata": {},
   "source": [
    "## 1) Actual Dispatches Daily"
   ]
  },
  {
   "cell_type": "code",
   "execution_count": 16,
   "id": "f9461600",
   "metadata": {},
   "outputs": [],
   "source": [
    "from pyspark.sql.functions import col\n",
    "sumtot = train_df.groupBy(\"Date\").sum(\"Actual_Dispatch\",\"Forecasted_Dispatch\",\"Difference\").sort(col(\"Date\").asc())"
   ]
  },
  {
   "cell_type": "code",
   "execution_count": 17,
   "id": "49b86844",
   "metadata": {},
   "outputs": [
    {
     "name": "stdout",
     "output_type": "stream",
     "text": [
      "+---------+--------------------+------------------------+---------------+\n",
      "|     Date|sum(Actual_Dispatch)|sum(Forecasted_Dispatch)|sum(Difference)|\n",
      "+---------+--------------------+------------------------+---------------+\n",
      "| 7/1/2020|            164394.0|                 86666.0|        77728.0|\n",
      "|7/10/2020|            168756.0|                 84202.0|        84554.0|\n",
      "|7/11/2020|            150952.0|                 80095.0|        70857.0|\n",
      "|7/12/2020|            133281.0|                 69588.0|        63693.0|\n",
      "|7/13/2020|            163359.0|                 82308.0|        81051.0|\n",
      "|7/14/2020|            173932.0|                 87793.0|        86139.0|\n",
      "|7/15/2020|            171561.0|                 87663.0|        83898.0|\n",
      "|7/16/2020|            165218.0|                 85969.0|        79249.0|\n",
      "|7/17/2020|            165218.0|                 82911.0|        82307.0|\n",
      "|7/18/2020|            159815.0|                 82847.0|        76968.0|\n",
      "+---------+--------------------+------------------------+---------------+\n",
      "only showing top 10 rows\n",
      "\n"
     ]
    }
   ],
   "source": [
    "sumtot.show(10)"
   ]
  },
  {
   "cell_type": "code",
   "execution_count": 19,
   "id": "1d9082b5",
   "metadata": {
    "scrolled": true
   },
   "outputs": [
    {
     "data": {
      "text/html": [
       "<div>\n",
       "<style scoped>\n",
       "    .dataframe tbody tr th:only-of-type {\n",
       "        vertical-align: middle;\n",
       "    }\n",
       "\n",
       "    .dataframe tbody tr th {\n",
       "        vertical-align: top;\n",
       "    }\n",
       "\n",
       "    .dataframe thead th {\n",
       "        text-align: right;\n",
       "    }\n",
       "</style>\n",
       "<table border=\"1\" class=\"dataframe\">\n",
       "  <thead>\n",
       "    <tr style=\"text-align: right;\">\n",
       "      <th></th>\n",
       "      <th>Date</th>\n",
       "      <th>sum(Actual_Dispatch)</th>\n",
       "      <th>sum(Forecasted_Dispatch)</th>\n",
       "      <th>sum(Difference)</th>\n",
       "    </tr>\n",
       "  </thead>\n",
       "  <tbody>\n",
       "    <tr>\n",
       "      <th>0</th>\n",
       "      <td>7/1/2020</td>\n",
       "      <td>164394.0</td>\n",
       "      <td>86666.0</td>\n",
       "      <td>77728.0</td>\n",
       "    </tr>\n",
       "    <tr>\n",
       "      <th>1</th>\n",
       "      <td>7/10/2020</td>\n",
       "      <td>168756.0</td>\n",
       "      <td>84202.0</td>\n",
       "      <td>84554.0</td>\n",
       "    </tr>\n",
       "    <tr>\n",
       "      <th>2</th>\n",
       "      <td>7/11/2020</td>\n",
       "      <td>150952.0</td>\n",
       "      <td>80095.0</td>\n",
       "      <td>70857.0</td>\n",
       "    </tr>\n",
       "    <tr>\n",
       "      <th>3</th>\n",
       "      <td>7/12/2020</td>\n",
       "      <td>133281.0</td>\n",
       "      <td>69588.0</td>\n",
       "      <td>63693.0</td>\n",
       "    </tr>\n",
       "    <tr>\n",
       "      <th>4</th>\n",
       "      <td>7/13/2020</td>\n",
       "      <td>163359.0</td>\n",
       "      <td>82308.0</td>\n",
       "      <td>81051.0</td>\n",
       "    </tr>\n",
       "  </tbody>\n",
       "</table>\n",
       "</div>"
      ],
      "text/plain": [
       "        Date  sum(Actual_Dispatch)  sum(Forecasted_Dispatch)  sum(Difference)\n",
       "0   7/1/2020              164394.0                   86666.0          77728.0\n",
       "1  7/10/2020              168756.0                   84202.0          84554.0\n",
       "2  7/11/2020              150952.0                   80095.0          70857.0\n",
       "3  7/12/2020              133281.0                   69588.0          63693.0\n",
       "4  7/13/2020              163359.0                   82308.0          81051.0"
      ]
     },
     "execution_count": 19,
     "metadata": {},
     "output_type": "execute_result"
    }
   ],
   "source": [
    "df1 = sumtot.toPandas()\n",
    "df1.head()"
   ]
  },
  {
   "cell_type": "markdown",
   "id": "66d8e783",
   "metadata": {},
   "source": [
    "### Finding Correlations in between df1 dataFrame"
   ]
  },
  {
   "cell_type": "code",
   "execution_count": 20,
   "id": "260116f6",
   "metadata": {
    "scrolled": true
   },
   "outputs": [
    {
     "data": {
      "image/png": "[encoded data removed]",
      "text/plain": [
       "<Figure size 720x360 with 2 Axes>"
      ]
     },
     "metadata": {
      "needs_background": "light"
     },
     "output_type": "display_data"
    }
   ],
   "source": [
    "# Correlation Heatmap\n",
    "plt.figure(figsize = (10, 5))\n",
    "c = df1.corr()\n",
    "sns.heatmap(c, cmap = \"BrBG\", annot = True)\n",
    "plt.title(\"Correlation Matrix\")\n",
    "plt.show()"
   ]
  },
  {
   "cell_type": "code",
   "execution_count": 22,
   "id": "bbf15e63",
   "metadata": {},
   "outputs": [],
   "source": [
    "df1[\"Date\"] = pd.to_datetime(df1[\"Date\"]) # Convert Date into datetime format"
   ]
  },
  {
   "cell_type": "code",
   "execution_count": 23,
   "id": "080efd59",
   "metadata": {},
   "outputs": [
    {
     "data": {
      "text/plain": [
       "Date                        datetime64[ns]\n",
       "sum(Actual_Dispatch)               float64\n",
       "sum(Forecasted_Dispatch)           float64\n",
       "sum(Difference)                    float64\n",
       "dtype: object"
      ]
     },
     "execution_count": 23,
     "metadata": {},
     "output_type": "execute_result"
    }
   ],
   "source": [
    "df1.dtypes"
   ]
  },
  {
   "cell_type": "code",
   "execution_count": 25,
   "id": "f133a001",
   "metadata": {},
   "outputs": [
    {
     "data": {
      "text/plain": [
       "array([[164394.,  86666.],\n",
       "       [168756.,  84202.],\n",
       "       [150952.,  80095.],\n",
       "       [133281.,  69588.],\n",
       "       [163359.,  82308.],\n",
       "       [173932.,  87793.],\n",
       "       [171561.,  87663.],\n",
       "       [165218.,  85969.],\n",
       "       [165218.,  82911.],\n",
       "       [159815.,  82847.],\n",
       "       [140516.,  67697.],\n",
       "       [161345.,  83312.],\n",
       "       [150243.,  82204.],\n",
       "       [159014.,  81733.],\n",
       "       [168316.,  85996.],\n",
       "       [161692.,  85618.],\n",
       "       [155644.,  80132.],\n",
       "       [152612.,  74585.],\n",
       "       [139838.,  67123.],\n",
       "       [171161.,  83587.],\n",
       "       [173788.,  87930.],\n",
       "       [100832.,  52798.]])"
      ]
     },
     "execution_count": 25,
     "metadata": {},
     "output_type": "execute_result"
    }
   ],
   "source": [
    "import numpy as np\n",
    "# Dependent variables\n",
    "X = np.asarray(df1[['sum(Actual_Dispatch)', 'sum(Forecasted_Dispatch)']])\n",
    "X"
   ]
  },
  {
   "cell_type": "code",
   "execution_count": 26,
   "id": "e79a0662",
   "metadata": {},
   "outputs": [
    {
     "data": {
      "text/plain": [
       "array([77728., 84554., 70857., 63693., 81051.])"
      ]
     },
     "execution_count": 26,
     "metadata": {},
     "output_type": "execute_result"
    }
   ],
   "source": [
    "# Independent variable\n",
    "y = np.asarray(df1[\"sum(Difference)\"])\n",
    "y[0:5]"
   ]
  },
  {
   "cell_type": "code",
   "execution_count": 27,
   "id": "cf78c955",
   "metadata": {
    "scrolled": true
   },
   "outputs": [
    {
     "data": {
      "text/plain": [
       "array([[ 0.45781841,  0.76799122],\n",
       "       [ 0.72379384,  0.47867423],\n",
       "       [-0.36181516, -0.00355989],\n",
       "       [-1.4393144 , -1.23726671],\n",
       "       [ 0.3947087 ,  0.25628528]])"
      ]
     },
     "execution_count": 27,
     "metadata": {},
     "output_type": "execute_result"
    }
   ],
   "source": [
    "# Normalize Data\n",
    "from sklearn.preprocessing import StandardScaler\n",
    "X = StandardScaler().fit(X).transform(X)\n",
    "X[0:5]"
   ]
  },
  {
   "cell_type": "markdown",
   "id": "b3c5c2cd",
   "metadata": {},
   "source": [
    "### Feature Selection & Hyperparameter Tuning"
   ]
  },
  {
   "cell_type": "code",
   "execution_count": 29,
   "id": "66490e27",
   "metadata": {},
   "outputs": [],
   "source": [
    "cols = ['sum(Actual_Dispatch)', 'sum(Forecasted_Dispatch)']\n",
    "from sklearn.preprocessing import StandardScaler\n",
    "stdsc = StandardScaler()\n",
    "X_std = stdsc.fit_transform(df1[cols].values)"
   ]
  },
  {
   "cell_type": "code",
   "execution_count": 32,
   "id": "02bdbe64",
   "metadata": {
    "scrolled": true
   },
   "outputs": [
    {
     "data": {
      "text/plain": [
       "array([77728., 84554., 70857., 63693., 81051., 86139., 83898., 79249.,\n",
       "       82307., 76968., 72819., 78033., 68039., 77281., 82320., 76074.,\n",
       "       75512., 78027., 72715., 87574., 85858., 48034.])"
      ]
     },
     "execution_count": 32,
     "metadata": {},
     "output_type": "execute_result"
    }
   ],
   "source": [
    "#X_std\n",
    "y"
   ]
  },
  {
   "cell_type": "code",
   "execution_count": 34,
   "id": "93a49a18",
   "metadata": {},
   "outputs": [],
   "source": [
    "class GradientDescent(object):\n",
    "    \"\"\"Gradient descent optimizer.\n",
    "    Parameters\n",
    "    ------------\n",
    "    eta : float\n",
    "        Learning rate (between 0.0 and 1.0)\n",
    "    n_iter : int\n",
    "        Passes over the training dataset.\n",
    "        \n",
    "    Attributes\n",
    "    -----------\n",
    "    w_ : 1d-array\n",
    "        Weights after fitting.\n",
    "    errors_ : list\n",
    "        Error in every epoch.\n",
    "        \n",
    "    Methods\n",
    "    -----------\n",
    "    fit(X,y): fit the linear regression model using the training data.\n",
    "    predict(X): Predict outcome for samples in X.\n",
    "    Rsquare(X,y): Returns the R^2 value.\n",
    "    \"\"\"\n",
    "\n",
    "    def __init__(self, eta=0.01, n_iter=10):\n",
    "        self.eta = eta\n",
    "        self.n_iter = n_iter\n",
    "        \n",
    "    def fit(self, X, y):\n",
    "        \"\"\"Fit the data.\n",
    "        \n",
    "        Parameters\n",
    "        ----------\n",
    "        X : {array-like}, shape = [n_points]\n",
    "        Independent variable or predictor.\n",
    "        y : array-like, shape = [n_points]\n",
    "        Outcome of prediction.\n",
    "        Returns\n",
    "        -------\n",
    "        self : object\n",
    "        \"\"\"\n",
    "        self.w_ = np.zeros(2)\n",
    "        self.errors_ = []\n",
    "        \n",
    "        for i in range(self.n_iter):\n",
    "            errors = 0\n",
    "            for j in range(X.shape[0]):\n",
    "                self.w_[1:] += self.eta*X[j]*(y[j] - self.w_[0] - self.w_[1]*X[j])\n",
    "                self.w_[0] += self.eta*(y[j] - self.w_[0] - self.w_[1]*X[j])\n",
    "                errors += 0.5*(y[j] - self.w_[0] - self.w_[1]*X[j])**2\n",
    "            self.errors_.append(errors)\n",
    "        return self\n",
    "    \n",
    "\n",
    "    def predict(self, X):\n",
    "        \"\"\"Return predicted y values\"\"\"\n",
    "        return self.w_[0] + self.w_[1]*X \n",
    "    \n",
    "    def Rsquare(self, X,y):\n",
    "        \"\"\"Return the Rsquare value\"\"\"\n",
    "        y_hat = self.predict(X)\n",
    "        return  1-((y_hat - y)**2).sum()/((y-np.mean(y))**2).sum()"
   ]
  },
  {
   "cell_type": "markdown",
   "id": "98f4f4fa",
   "metadata": {},
   "source": [
    "### a) Calculate $R^2$ Values"
   ]
  },
  {
   "cell_type": "code",
   "execution_count": 37,
   "id": "fa6d3688",
   "metadata": {},
   "outputs": [],
   "source": [
    "X=X_std[:,0] #Actual Dispatch of Plants in Each Day\n",
    "y1=X_std[:,1] #Forcast Dispatch of Plants in Each Day"
   ]
  },
  {
   "cell_type": "code",
   "execution_count": 38,
   "id": "afda21ac",
   "metadata": {
    "scrolled": true
   },
   "outputs": [
    {
     "data": {
      "text/plain": [
       "[0.9093459952969363,\n",
       " 0.9160167342208777,\n",
       " 0.9049635047981008,\n",
       " 0.32617380983231603,\n",
       " 0.039433384008465966,\n",
       " 0.004021741678895241]"
      ]
     },
     "execution_count": 38,
     "metadata": {},
     "output_type": "execute_result"
    }
   ],
   "source": [
    "[GradientDescent(eta=k, n_iter=100).fit(X,y1).Rsquare(X,y1) for k in [0.1,0.01,0.001,0.0001,0.00001,0.000001]]"
   ]
  },
  {
   "cell_type": "markdown",
   "id": "056dfeac",
   "metadata": {},
   "source": [
    "### b) Fit , Predict, and Hyperparameter Tuning"
   ]
  },
  {
   "cell_type": "code",
   "execution_count": 40,
   "id": "24795471",
   "metadata": {},
   "outputs": [
    {
     "data": {
      "image/png": "[encoded data removed]",
      "text/plain": [
       "<Figure size 864x720 with 6 Axes>"
      ]
     },
     "metadata": {
      "needs_background": "light"
     },
     "output_type": "display_data"
    }
   ],
   "source": [
    "np.set_printoptions(precision=1)\n",
    "# plot with various axes scales\n",
    "plt.figure(figsize=(12,10))\n",
    "\n",
    "# fig 1\n",
    "plt.subplot(231)\n",
    "plt.scatter(X,y1,c='steelblue', edgecolor='white', s=70,label='data')\n",
    "plt.plot(X, GradientDescent(eta=0.1, n_iter=100).fit(X,y1).predict(X),color='black', lw=2,label='fit')\n",
    "plt.title('$\\eta = 10^{-1}, R^2 = 0.9093$ ',size=14)\n",
    "plt.grid(False)\n",
    "plt.xlabel('Actual Dispacth in July (std)',size=14)\n",
    "plt.ylabel('Forcast Dispatch in July (std)',size=14)\n",
    "plt.legend()\n",
    "\n",
    "# fig 2\n",
    "plt.subplot(232)\n",
    "plt.scatter(X,y1,c='steelblue', edgecolor='white', s=70)\n",
    "plt.plot(X, GradientDescent(eta=0.01, n_iter=100).fit(X,y1).predict(X),color='black', lw=2)\n",
    "plt.title('$\\eta = 10^{-2},R^2 =  0.9160$',size=14)\n",
    "plt.grid(False)\n",
    "plt.xlabel('Actual Dispacth in July (std)',size=14)\n",
    "plt.ylabel('Forcast Dispatch in July (std)',size=14)\n",
    "\n",
    "\n",
    "# fig 3\n",
    "plt.subplot(233)\n",
    "plt.scatter(X,y1,c='steelblue', edgecolor='white', s=70)\n",
    "plt.plot(X,GradientDescent(eta=0.001, n_iter=100).fit(X,y1).predict(X),color='black', lw=2)\n",
    "plt.title('$\\eta =10^{-3},R^2 = 0.9049$',size=14)\n",
    "plt.grid(False)\n",
    "plt.xlabel('Actual Dispacth in July (std)',size=14)\n",
    "plt.ylabel('Forcast Dispatch in July (std)',size=14)\n",
    "\n",
    "\n",
    "# fig 4\n",
    "plt.subplot(234)\n",
    "plt.scatter(X,y1,c='steelblue', edgecolor='white', s=70)\n",
    "plt.plot(X, GradientDescent(eta=0.0001, n_iter=100).fit(X,y1).predict(X),color='black', lw=2)\n",
    "plt.title('$\\eta = 10^{-4}, R^2 = 0.3261$ ',size=14)\n",
    "plt.grid(False)\n",
    "plt.xlabel('Actual Dispacth in July (std)',size=14)\n",
    "plt.ylabel('Forcast Dispatch in July (std)',size=14)\n",
    "\n",
    "\n",
    "# fig 5\n",
    "plt.subplot(235)\n",
    "plt.scatter(X,y1,c='steelblue', edgecolor='white', s=70)\n",
    "plt.plot(X, GradientDescent(eta=0.00001, n_iter=100).fit(X,y1).predict(X),color='black', lw=2)\n",
    "plt.title('$\\eta = 10^{-5},R^2 = 0.0394$',size=14)\n",
    "plt.grid(False)\n",
    "plt.xlabel('Actual Dispacth in July (std)',size=14)\n",
    "plt.ylabel('Forcast Dispatch in July (std)',size=14)\n",
    "\n",
    "\n",
    "# fig 6\n",
    "plt.subplot(236)\n",
    "plt.scatter(X,y1,c='steelblue', edgecolor='white', s=70)\n",
    "plt.plot(X,GradientDescent(eta=0.000001, n_iter=100).fit(X,y1).predict(X),color='black', lw=2)\n",
    "plt.title('$\\eta =10^{-6},R^2 = 0.0041$',size=14)\n",
    "plt.grid(False)\n",
    "plt.xlabel('Actual Dispacth in July (std)',size=14)\n",
    "plt.ylabel('Forcast Dispatch in July (std)',size=14)\n",
    "\n",
    "# Format the minor tick labels of the y-axis into empty strings with\n",
    "# `NullFormatter`, to avoid cumbering the axis with too many labels.\n",
    "#plt.gca().yaxis.set_minor_formatter(NullFormatter())\n",
    "# Adjust the subplot layout, because the logit one may take more space\n",
    "# than usual, due to y-tick labels like \"1 - 10^{-3}\"\n",
    "plt.subplots_adjust(top=0.92, bottom=0.08, left=0.10, right=0.95, hspace=0.4,\n",
    "                    wspace=0.35)\n",
    "\n",
    "plt.show()"
   ]
  },
  {
   "cell_type": "code",
   "execution_count": null,
   "id": "0c2bd4e3",
   "metadata": {},
   "outputs": [],
   "source": []
  }
 ],
 "metadata": {
  "kernelspec": {
   "display_name": "Python 3 (ipykernel)",
   "language": "python",
   "name": "python3"
  },
  "language_info": {
   "codemirror_mode": {
    "name": "ipython",
    "version": 3
   },
   "file_extension": ".py",
   "mimetype": "text/x-python",
   "name": "python",
   "nbconvert_exporter": "python",
   "pygments_lexer": "ipython3",
   "version": "3.8.8"
  }
 },
 "nbformat": 4,
 "nbformat_minor": 5
}
