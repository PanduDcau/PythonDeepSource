{
 "cells": [
  {
   "cell_type": "code",
   "execution_count": 1,
   "id": "d5625900",
   "metadata": {},
   "outputs": [],
   "source": [
    "def gender_features(word):\n",
    "    return{'last_letter': word[-1]}"
   ]
  },
  {
   "cell_type": "code",
   "execution_count": 2,
   "id": "2f53047e",
   "metadata": {},
   "outputs": [
    {
     "data": {
      "text/plain": [
       "{'last_letter': 'k'}"
      ]
     },
     "execution_count": 2,
     "metadata": {},
     "output_type": "execute_result"
    }
   ],
   "source": [
    "gender_features('Shrek')"
   ]
  },
  {
   "cell_type": "code",
   "execution_count": 3,
   "id": "a7e3cc00",
   "metadata": {},
   "outputs": [],
   "source": [
    "from nltk.corpus import names"
   ]
  },
  {
   "cell_type": "code",
   "execution_count": 4,
   "id": "17fdcf9c",
   "metadata": {},
   "outputs": [
    {
     "data": {
      "text/plain": [
       "['Aamir',\n",
       " 'Aaron',\n",
       " 'Abbey',\n",
       " 'Abbie',\n",
       " 'Abbot',\n",
       " 'Abbott',\n",
       " 'Abby',\n",
       " 'Abdel',\n",
       " 'Abdul',\n",
       " 'Abdulkarim',\n",
       " 'Abdullah',\n",
       " 'Abe',\n",
       " 'Abel',\n",
       " 'Abelard',\n",
       " 'Abner',\n",
       " 'Abraham',\n",
       " 'Abram',\n",
       " 'Ace',\n",
       " 'Adair',\n",
       " 'Adam']"
      ]
     },
     "execution_count": 4,
     "metadata": {},
     "output_type": "execute_result"
    }
   ],
   "source": [
    "names.words('male.txt')[:20]"
   ]
  },
  {
   "cell_type": "code",
   "execution_count": 5,
   "id": "60a6299f",
   "metadata": {},
   "outputs": [],
   "source": [
    "namesgender = ([(name, 'male') for name in names.words('male.txt')] +\n",
    "[(name, 'female') for name in names.words('female.txt')])"
   ]
  },
  {
   "cell_type": "code",
   "execution_count": 6,
   "id": "34bee2ec",
   "metadata": {},
   "outputs": [
    {
     "data": {
      "text/plain": [
       "7944"
      ]
     },
     "execution_count": 6,
     "metadata": {},
     "output_type": "execute_result"
    }
   ],
   "source": [
    "len(namesgender)"
   ]
  },
  {
   "cell_type": "code",
   "execution_count": 7,
   "id": "9d014f9d",
   "metadata": {},
   "outputs": [
    {
     "data": {
      "text/plain": [
       "[('Aamir', 'male'),\n",
       " ('Aaron', 'male'),\n",
       " ('Abbey', 'male'),\n",
       " ('Abbie', 'male'),\n",
       " ('Abbot', 'male'),\n",
       " ('Abbott', 'male'),\n",
       " ('Abby', 'male'),\n",
       " ('Abdel', 'male'),\n",
       " ('Abdul', 'male'),\n",
       " ('Abdulkarim', 'male'),\n",
       " ('Abdullah', 'male'),\n",
       " ('Abe', 'male'),\n",
       " ('Abel', 'male'),\n",
       " ('Abelard', 'male'),\n",
       " ('Abner', 'male'),\n",
       " ('Abraham', 'male'),\n",
       " ('Abram', 'male'),\n",
       " ('Ace', 'male'),\n",
       " ('Adair', 'male'),\n",
       " ('Adam', 'male')]"
      ]
     },
     "execution_count": 7,
     "metadata": {},
     "output_type": "execute_result"
    }
   ],
   "source": [
    "namesgender[:20]"
   ]
  },
  {
   "cell_type": "code",
   "execution_count": 8,
   "id": "3cb31c00",
   "metadata": {},
   "outputs": [
    {
     "data": {
      "text/plain": [
       "[('Zena', 'female'),\n",
       " ('Zenia', 'female'),\n",
       " ('Zia', 'female'),\n",
       " ('Zilvia', 'female'),\n",
       " ('Zita', 'female'),\n",
       " ('Zitella', 'female'),\n",
       " ('Zoe', 'female'),\n",
       " ('Zola', 'female'),\n",
       " ('Zonda', 'female'),\n",
       " ('Zondra', 'female'),\n",
       " ('Zonnya', 'female'),\n",
       " ('Zora', 'female'),\n",
       " ('Zorah', 'female'),\n",
       " ('Zorana', 'female'),\n",
       " ('Zorina', 'female'),\n",
       " ('Zorine', 'female'),\n",
       " ('Zsa Zsa', 'female'),\n",
       " ('Zsazsa', 'female'),\n",
       " ('Zulema', 'female'),\n",
       " ('Zuzana', 'female')]"
      ]
     },
     "execution_count": 8,
     "metadata": {},
     "output_type": "execute_result"
    }
   ],
   "source": [
    "namesgender[7924:]"
   ]
  },
  {
   "cell_type": "code",
   "execution_count": 9,
   "id": "3838c932",
   "metadata": {},
   "outputs": [
    {
     "data": {
      "text/plain": [
       "[('Vernor', 'male'),\n",
       " ('Shimon', 'male'),\n",
       " ('Butch', 'male'),\n",
       " ('Madalyn', 'female'),\n",
       " ('Gweneth', 'female'),\n",
       " ('Alberto', 'male'),\n",
       " ('Kass', 'female'),\n",
       " ('Antonella', 'female'),\n",
       " ('Diann', 'female'),\n",
       " ('Queada', 'female'),\n",
       " ('Carie', 'female'),\n",
       " ('Lynnette', 'female'),\n",
       " ('Chris', 'female'),\n",
       " ('Hadley', 'male'),\n",
       " ('Bell', 'female'),\n",
       " ('Ara', 'female'),\n",
       " ('Seka', 'female'),\n",
       " ('Kenyon', 'male'),\n",
       " ('Annalise', 'female'),\n",
       " ('Brena', 'female')]"
      ]
     },
     "execution_count": 9,
     "metadata": {},
     "output_type": "execute_result"
    }
   ],
   "source": [
    "import random\n",
    "random.shuffle(namesgender)\n",
    "namesgender[:20]"
   ]
  },
  {
   "cell_type": "code",
   "execution_count": 10,
   "id": "56cb2b4c",
   "metadata": {},
   "outputs": [
    {
     "data": {
      "text/plain": [
       "[({'last_letter': 'r'}, 'male'),\n",
       " ({'last_letter': 'n'}, 'male'),\n",
       " ({'last_letter': 'h'}, 'male'),\n",
       " ({'last_letter': 'n'}, 'female'),\n",
       " ({'last_letter': 'h'}, 'female'),\n",
       " ({'last_letter': 'o'}, 'male'),\n",
       " ({'last_letter': 's'}, 'female'),\n",
       " ({'last_letter': 'a'}, 'female'),\n",
       " ({'last_letter': 'n'}, 'female'),\n",
       " ({'last_letter': 'a'}, 'female'),\n",
       " ({'last_letter': 'e'}, 'female'),\n",
       " ({'last_letter': 'e'}, 'female'),\n",
       " ({'last_letter': 's'}, 'female'),\n",
       " ({'last_letter': 'y'}, 'male'),\n",
       " ({'last_letter': 'l'}, 'female'),\n",
       " ({'last_letter': 'a'}, 'female'),\n",
       " ({'last_letter': 'a'}, 'female'),\n",
       " ({'last_letter': 'n'}, 'male'),\n",
       " ({'last_letter': 'e'}, 'female'),\n",
       " ({'last_letter': 'a'}, 'female')]"
      ]
     },
     "execution_count": 10,
     "metadata": {},
     "output_type": "execute_result"
    }
   ],
   "source": [
    "featuresets = [(gender_features(n), g) for (n,g) in namesgender]\n",
    "featuresets[:20]"
   ]
  },
  {
   "cell_type": "code",
   "execution_count": 11,
   "id": "ac248498",
   "metadata": {},
   "outputs": [],
   "source": [
    "train_set, test_set = featuresets[500:], featuresets[:500]"
   ]
  },
  {
   "cell_type": "code",
   "execution_count": 12,
   "id": "dbaccbb5",
   "metadata": {},
   "outputs": [],
   "source": [
    "import nltk\n",
    "\n",
    "classifier = nltk.NaiveBayesClassifier.train(train_set)"
   ]
  },
  {
   "cell_type": "code",
   "execution_count": 13,
   "id": "a7e6b7ca",
   "metadata": {},
   "outputs": [
    {
     "name": "stdout",
     "output_type": "stream",
     "text": [
      "0.722\n"
     ]
    }
   ],
   "source": [
    "print(nltk.classify.accuracy(classifier, test_set))"
   ]
  },
  {
   "cell_type": "code",
   "execution_count": 14,
   "id": "998e9725",
   "metadata": {},
   "outputs": [
    {
     "data": {
      "text/plain": [
       "'female'"
      ]
     },
     "execution_count": 14,
     "metadata": {},
     "output_type": "execute_result"
    }
   ],
   "source": [
    "classifier.classify(gender_features('Neo'))\n",
    "classifier.classify(gender_features('Trinity'))"
   ]
  },
  {
   "cell_type": "code",
   "execution_count": 15,
   "id": "f36c3000",
   "metadata": {},
   "outputs": [
    {
     "name": "stdout",
     "output_type": "stream",
     "text": [
      "Most Informative Features\n",
      "             last_letter = 'a'            female : male   =     37.2 : 1.0\n",
      "             last_letter = 'k'              male : female =     31.0 : 1.0\n",
      "             last_letter = 'f'              male : female =     17.2 : 1.0\n",
      "             last_letter = 'p'              male : female =     12.5 : 1.0\n",
      "             last_letter = 'd'              male : female =     11.1 : 1.0\n",
      "             last_letter = 'v'              male : female =     11.1 : 1.0\n",
      "             last_letter = 'o'              male : female =      8.8 : 1.0\n",
      "             last_letter = 'm'              male : female =      8.2 : 1.0\n",
      "             last_letter = 'r'              male : female =      6.5 : 1.0\n",
      "             last_letter = 'w'              male : female =      5.8 : 1.0\n",
      "             last_letter = 'g'              male : female =      5.4 : 1.0\n",
      "             last_letter = 's'              male : female =      4.4 : 1.0\n",
      "             last_letter = 'b'              male : female =      4.3 : 1.0\n",
      "             last_letter = 't'              male : female =      4.0 : 1.0\n",
      "             last_letter = 'j'              male : female =      3.9 : 1.0\n",
      "             last_letter = 'z'              male : female =      3.9 : 1.0\n",
      "             last_letter = 'i'            female : male   =      3.6 : 1.0\n",
      "             last_letter = 'u'              male : female =      3.2 : 1.0\n",
      "             last_letter = 'n'              male : female =      2.1 : 1.0\n",
      "             last_letter = 'x'              male : female =      2.1 : 1.0\n"
     ]
    }
   ],
   "source": [
    "classifier.show_most_informative_features(20)"
   ]
  },
  {
   "cell_type": "code",
   "execution_count": 16,
   "id": "319f10bb",
   "metadata": {},
   "outputs": [],
   "source": [
    "def gender_features2(name):\n",
    "    features = {}\n",
    "    features[\"firstletter\"] = name[0].lower()\n",
    "    features[\"lastletter\"] = name[-1].lower()\n",
    "    for letter in 'abcdefghijklmnopqrstuvwxyz':\n",
    "        features[\"count(%s)\" % letter] = name.lower().count(letter)\n",
    "        features[\"has(%s)\" % letter] = (letter in name.lower())\n",
    "    return features"
   ]
  },
  {
   "cell_type": "code",
   "execution_count": 17,
   "id": "0019f4b0",
   "metadata": {},
   "outputs": [
    {
     "data": {
      "text/plain": [
       "54"
      ]
     },
     "execution_count": 17,
     "metadata": {},
     "output_type": "execute_result"
    }
   ],
   "source": [
    "features = gender_features2('Shrek')\n",
    "len(features)"
   ]
  },
  {
   "cell_type": "code",
   "execution_count": 18,
   "id": "020ec110",
   "metadata": {},
   "outputs": [
    {
     "data": {
      "text/plain": [
       "{'firstletter': 's',\n",
       " 'lastletter': 'k',\n",
       " 'count(a)': 0,\n",
       " 'has(a)': False,\n",
       " 'count(b)': 0,\n",
       " 'has(b)': False,\n",
       " 'count(c)': 0,\n",
       " 'has(c)': False,\n",
       " 'count(d)': 0,\n",
       " 'has(d)': False,\n",
       " 'count(e)': 1,\n",
       " 'has(e)': True,\n",
       " 'count(f)': 0,\n",
       " 'has(f)': False,\n",
       " 'count(g)': 0,\n",
       " 'has(g)': False,\n",
       " 'count(h)': 1,\n",
       " 'has(h)': True,\n",
       " 'count(i)': 0,\n",
       " 'has(i)': False,\n",
       " 'count(j)': 0,\n",
       " 'has(j)': False,\n",
       " 'count(k)': 1,\n",
       " 'has(k)': True,\n",
       " 'count(l)': 0,\n",
       " 'has(l)': False,\n",
       " 'count(m)': 0,\n",
       " 'has(m)': False,\n",
       " 'count(n)': 0,\n",
       " 'has(n)': False,\n",
       " 'count(o)': 0,\n",
       " 'has(o)': False,\n",
       " 'count(p)': 0,\n",
       " 'has(p)': False,\n",
       " 'count(q)': 0,\n",
       " 'has(q)': False,\n",
       " 'count(r)': 1,\n",
       " 'has(r)': True,\n",
       " 'count(s)': 1,\n",
       " 'has(s)': True,\n",
       " 'count(t)': 0,\n",
       " 'has(t)': False,\n",
       " 'count(u)': 0,\n",
       " 'has(u)': False,\n",
       " 'count(v)': 0,\n",
       " 'has(v)': False,\n",
       " 'count(w)': 0,\n",
       " 'has(w)': False,\n",
       " 'count(x)': 0,\n",
       " 'has(x)': False,\n",
       " 'count(y)': 0,\n",
       " 'has(y)': False,\n",
       " 'count(z)': 0,\n",
       " 'has(z)': False}"
      ]
     },
     "execution_count": 18,
     "metadata": {},
     "output_type": "execute_result"
    }
   ],
   "source": [
    "features"
   ]
  },
  {
   "cell_type": "code",
   "execution_count": 19,
   "id": "21b55b6c",
   "metadata": {},
   "outputs": [],
   "source": [
    "featuresets2 = [(gender_features2(n), g) for (n,g) in namesgender]"
   ]
  },
  {
   "cell_type": "code",
   "execution_count": 20,
   "id": "e895b9e5",
   "metadata": {},
   "outputs": [
    {
     "name": "stdout",
     "output_type": "stream",
     "text": [
      "Vernor {'firstletter': 'v', 'lastletter': 'r', 'count(a)': 0, 'has(a)': False, 'count(b)': 0, 'has(b)': False, 'count(c)': 0, 'has(c)': False, 'count(d)': 0, 'has(d)': False, 'count(e)': 1, 'has(e)': True, 'count(f)': 0, 'has(f)': False, 'count(g)': 0, 'has(g)': False, 'count(h)': 0, 'has(h)': False, 'count(i)': 0, 'has(i)': False, 'count(j)': 0, 'has(j)': False, 'count(k)': 0, 'has(k)': False, 'count(l)': 0, 'has(l)': False, 'count(m)': 0, 'has(m)': False, 'count(n)': 1, 'has(n)': True, 'count(o)': 1, 'has(o)': True, 'count(p)': 0, 'has(p)': False, 'count(q)': 0, 'has(q)': False, 'count(r)': 2, 'has(r)': True, 'count(s)': 0, 'has(s)': False, 'count(t)': 0, 'has(t)': False, 'count(u)': 0, 'has(u)': False, 'count(v)': 1, 'has(v)': True, 'count(w)': 0, 'has(w)': False, 'count(x)': 0, 'has(x)': False, 'count(y)': 0, 'has(y)': False, 'count(z)': 0, 'has(z)': False}\n",
      "Shimon {'firstletter': 's', 'lastletter': 'n', 'count(a)': 0, 'has(a)': False, 'count(b)': 0, 'has(b)': False, 'count(c)': 0, 'has(c)': False, 'count(d)': 0, 'has(d)': False, 'count(e)': 0, 'has(e)': False, 'count(f)': 0, 'has(f)': False, 'count(g)': 0, 'has(g)': False, 'count(h)': 1, 'has(h)': True, 'count(i)': 1, 'has(i)': True, 'count(j)': 0, 'has(j)': False, 'count(k)': 0, 'has(k)': False, 'count(l)': 0, 'has(l)': False, 'count(m)': 1, 'has(m)': True, 'count(n)': 1, 'has(n)': True, 'count(o)': 1, 'has(o)': True, 'count(p)': 0, 'has(p)': False, 'count(q)': 0, 'has(q)': False, 'count(r)': 0, 'has(r)': False, 'count(s)': 1, 'has(s)': True, 'count(t)': 0, 'has(t)': False, 'count(u)': 0, 'has(u)': False, 'count(v)': 0, 'has(v)': False, 'count(w)': 0, 'has(w)': False, 'count(x)': 0, 'has(x)': False, 'count(y)': 0, 'has(y)': False, 'count(z)': 0, 'has(z)': False}\n",
      "Butch {'firstletter': 'b', 'lastletter': 'h', 'count(a)': 0, 'has(a)': False, 'count(b)': 1, 'has(b)': True, 'count(c)': 1, 'has(c)': True, 'count(d)': 0, 'has(d)': False, 'count(e)': 0, 'has(e)': False, 'count(f)': 0, 'has(f)': False, 'count(g)': 0, 'has(g)': False, 'count(h)': 1, 'has(h)': True, 'count(i)': 0, 'has(i)': False, 'count(j)': 0, 'has(j)': False, 'count(k)': 0, 'has(k)': False, 'count(l)': 0, 'has(l)': False, 'count(m)': 0, 'has(m)': False, 'count(n)': 0, 'has(n)': False, 'count(o)': 0, 'has(o)': False, 'count(p)': 0, 'has(p)': False, 'count(q)': 0, 'has(q)': False, 'count(r)': 0, 'has(r)': False, 'count(s)': 0, 'has(s)': False, 'count(t)': 1, 'has(t)': True, 'count(u)': 1, 'has(u)': True, 'count(v)': 0, 'has(v)': False, 'count(w)': 0, 'has(w)': False, 'count(x)': 0, 'has(x)': False, 'count(y)': 0, 'has(y)': False, 'count(z)': 0, 'has(z)': False}\n",
      "Madalyn {'firstletter': 'm', 'lastletter': 'n', 'count(a)': 2, 'has(a)': True, 'count(b)': 0, 'has(b)': False, 'count(c)': 0, 'has(c)': False, 'count(d)': 1, 'has(d)': True, 'count(e)': 0, 'has(e)': False, 'count(f)': 0, 'has(f)': False, 'count(g)': 0, 'has(g)': False, 'count(h)': 0, 'has(h)': False, 'count(i)': 0, 'has(i)': False, 'count(j)': 0, 'has(j)': False, 'count(k)': 0, 'has(k)': False, 'count(l)': 1, 'has(l)': True, 'count(m)': 1, 'has(m)': True, 'count(n)': 1, 'has(n)': True, 'count(o)': 0, 'has(o)': False, 'count(p)': 0, 'has(p)': False, 'count(q)': 0, 'has(q)': False, 'count(r)': 0, 'has(r)': False, 'count(s)': 0, 'has(s)': False, 'count(t)': 0, 'has(t)': False, 'count(u)': 0, 'has(u)': False, 'count(v)': 0, 'has(v)': False, 'count(w)': 0, 'has(w)': False, 'count(x)': 0, 'has(x)': False, 'count(y)': 1, 'has(y)': True, 'count(z)': 0, 'has(z)': False}\n",
      "Gweneth {'firstletter': 'g', 'lastletter': 'h', 'count(a)': 0, 'has(a)': False, 'count(b)': 0, 'has(b)': False, 'count(c)': 0, 'has(c)': False, 'count(d)': 0, 'has(d)': False, 'count(e)': 2, 'has(e)': True, 'count(f)': 0, 'has(f)': False, 'count(g)': 1, 'has(g)': True, 'count(h)': 1, 'has(h)': True, 'count(i)': 0, 'has(i)': False, 'count(j)': 0, 'has(j)': False, 'count(k)': 0, 'has(k)': False, 'count(l)': 0, 'has(l)': False, 'count(m)': 0, 'has(m)': False, 'count(n)': 1, 'has(n)': True, 'count(o)': 0, 'has(o)': False, 'count(p)': 0, 'has(p)': False, 'count(q)': 0, 'has(q)': False, 'count(r)': 0, 'has(r)': False, 'count(s)': 0, 'has(s)': False, 'count(t)': 1, 'has(t)': True, 'count(u)': 0, 'has(u)': False, 'count(v)': 0, 'has(v)': False, 'count(w)': 1, 'has(w)': True, 'count(x)': 0, 'has(x)': False, 'count(y)': 0, 'has(y)': False, 'count(z)': 0, 'has(z)': False}\n"
     ]
    }
   ],
   "source": [
    "for (n,g) in namesgender[:5]:\n",
    "    print (n, gender_features2(n))"
   ]
  },
  {
   "cell_type": "code",
   "execution_count": 21,
   "id": "52f6fe13",
   "metadata": {},
   "outputs": [
    {
     "name": "stdout",
     "output_type": "stream",
     "text": [
      "0.778\n"
     ]
    }
   ],
   "source": [
    "train_set, test_set = featuresets2[500:], featuresets2[:500]\n",
    "classifier = nltk.NaiveBayesClassifier.train(train_set)\n",
    "\n",
    "print(nltk.classify.accuracy(classifier, test_set))"
   ]
  },
  {
   "cell_type": "code",
   "execution_count": 22,
   "id": "bd7a4829",
   "metadata": {},
   "outputs": [],
   "source": [
    "train_names = namesgender[1500:]\n",
    "devtest_names = namesgender[500:1500]\n",
    "test_names = namesgender[:500]"
   ]
  },
  {
   "cell_type": "code",
   "execution_count": 23,
   "id": "aadf7fda",
   "metadata": {},
   "outputs": [
    {
     "name": "stdout",
     "output_type": "stream",
     "text": [
      "0.756\n"
     ]
    }
   ],
   "source": [
    "train_set = [(gender_features(n), g) for (n,g) in train_names]\n",
    "devtest_set = [(gender_features(n), g) for (n,g) in devtest_names]\n",
    "test_set = [(gender_features(n), g) for (n,g) in test_names]\n",
    "classifier = nltk.NaiveBayesClassifier.train(train_set)\n",
    "\n",
    "er1_acc = nltk.classify.accuracy(classifier, devtest_set)\n",
    "print (er1_acc)"
   ]
  },
  {
   "cell_type": "code",
   "execution_count": 24,
   "id": "b55322a3",
   "metadata": {},
   "outputs": [],
   "source": [
    "def geterrors(devtest):\n",
    "    errors = []\n",
    "    for (name, tag) in devtest:\n",
    "        guess = classifier.classify(gender_features(name))\n",
    "        if guess != tag:\n",
    "            errors.append( (tag, guess, name) )\n",
    "    return errors"
   ]
  },
  {
   "cell_type": "code",
   "execution_count": 25,
   "id": "01586532",
   "metadata": {},
   "outputs": [
    {
     "name": "stdout",
     "output_type": "stream",
     "text": [
      "244\n"
     ]
    }
   ],
   "source": [
    "errors = geterrors(devtest_names)\n",
    "er1_len = len(errors)\n",
    "\n",
    "print(er1_len)"
   ]
  },
  {
   "cell_type": "code",
   "execution_count": 26,
   "id": "dcd47746",
   "metadata": {},
   "outputs": [
    {
     "name": "stdout",
     "output_type": "stream",
     "text": [
      "correct=female   guess=male     name=Aeriell                       \n",
      "correct=female   guess=male     name=Aidan                         \n",
      "correct=female   guess=male     name=Aileen                        \n",
      "correct=female   guess=male     name=Alex                          \n",
      "correct=female   guess=male     name=Alis                          \n",
      "correct=female   guess=male     name=Alison                        \n",
      "correct=female   guess=male     name=Alyson                        \n",
      "correct=female   guess=male     name=Annabal                       \n",
      "correct=female   guess=male     name=Beryl                         \n",
      "correct=female   guess=male     name=Brenn                         \n",
      "correct=female   guess=male     name=Bridget                       \n",
      "correct=female   guess=male     name=Caitlin                       \n",
      "correct=female   guess=male     name=Carilyn                       \n",
      "correct=female   guess=male     name=Carol                         \n",
      "correct=female   guess=male     name=Caroleen                      \n",
      "correct=female   guess=male     name=Caryl                         \n",
      "correct=female   guess=male     name=Cass                          \n",
      "correct=female   guess=male     name=Celestyn                      \n",
      "correct=female   guess=male     name=Chad                          \n",
      "correct=female   guess=male     name=Charleen                      \n",
      "correct=female   guess=male     name=Cherlyn                       \n",
      "correct=female   guess=male     name=Chriss                        \n",
      "correct=female   guess=male     name=Christabel                    \n",
      "correct=female   guess=male     name=Christan                      \n",
      "correct=female   guess=male     name=Christen                      \n",
      "correct=female   guess=male     name=Christin                      \n",
      "correct=female   guess=male     name=Clio                          \n",
      "correct=female   guess=male     name=Cristin                       \n",
      "correct=female   guess=male     name=Dagmar                        \n",
      "correct=female   guess=male     name=Debor                         \n",
      "correct=female   guess=male     name=Devin                         \n",
      "correct=female   guess=male     name=Dion                          \n",
      "correct=female   guess=male     name=Dorris                        \n",
      "correct=female   guess=male     name=Dot                           \n",
      "correct=female   guess=male     name=Drew                          \n",
      "correct=female   guess=male     name=Elisabet                      \n",
      "correct=female   guess=male     name=Em                            \n",
      "correct=female   guess=male     name=Emlyn                         \n",
      "correct=female   guess=male     name=Erin                          \n",
      "correct=female   guess=male     name=Estel                         \n",
      "correct=female   guess=male     name=Ethelin                       \n",
      "correct=female   guess=male     name=Evaleen                       \n",
      "correct=female   guess=male     name=Farand                        \n",
      "correct=female   guess=male     name=Frances                       \n",
      "correct=female   guess=male     name=Glyn                          \n",
      "correct=female   guess=male     name=Gwen                          \n",
      "correct=female   guess=male     name=Hannis                        \n",
      "correct=female   guess=male     name=Imojean                       \n",
      "correct=female   guess=male     name=Ingeberg                      \n",
      "correct=female   guess=male     name=Jacklin                       \n",
      "correct=female   guess=male     name=Jacquelin                     \n",
      "correct=female   guess=male     name=Jaquelyn                      \n",
      "correct=female   guess=male     name=Jean                          \n",
      "correct=female   guess=male     name=Jess                          \n",
      "correct=female   guess=male     name=Jocelyn                       \n",
      "correct=female   guess=male     name=Jordan                        \n",
      "correct=female   guess=male     name=Joselyn                       \n",
      "correct=female   guess=male     name=Joyan                         \n",
      "correct=female   guess=male     name=Joyann                        \n",
      "correct=female   guess=male     name=Kaitlin                       \n",
      "correct=female   guess=male     name=Karleen                       \n",
      "correct=female   guess=male     name=Kaster                        \n",
      "correct=female   guess=male     name=Kaylyn                        \n",
      "correct=female   guess=male     name=Kipp                          \n",
      "correct=female   guess=male     name=Koral                         \n",
      "correct=female   guess=male     name=Kylen                         \n",
      "correct=female   guess=male     name=Kyrstin                       \n",
      "correct=female   guess=male     name=Linet                         \n",
      "correct=female   guess=male     name=Lois                          \n",
      "correct=female   guess=male     name=Lorilyn                       \n",
      "correct=female   guess=male     name=Lou                           \n",
      "correct=female   guess=male     name=Lyn                           \n",
      "correct=female   guess=male     name=Lyndel                        \n",
      "correct=female   guess=male     name=Mab                           \n",
      "correct=female   guess=male     name=Mabel                         \n",
      "correct=female   guess=male     name=Marabel                       \n",
      "correct=female   guess=male     name=Margaret                      \n",
      "correct=female   guess=male     name=Margeaux                      \n",
      "correct=female   guess=male     name=Margit                        \n",
      "correct=female   guess=male     name=Margret                       \n",
      "correct=female   guess=male     name=Marian                        \n",
      "correct=female   guess=male     name=Marris                        \n",
      "correct=female   guess=male     name=Maryellen                     \n",
      "correct=female   guess=male     name=Meaghan                       \n",
      "correct=female   guess=male     name=Megen                         \n",
      "correct=female   guess=male     name=Mercedes                      \n",
      "correct=female   guess=male     name=Michell                       \n",
      "correct=female   guess=male     name=Moll                          \n",
      "correct=female   guess=male     name=Mureil                        \n",
      "correct=female   guess=male     name=Nicol                         \n",
      "correct=female   guess=male     name=Orel                          \n",
      "correct=female   guess=male     name=Pam                           \n",
      "correct=female   guess=male     name=Pearl                         \n",
      "correct=female   guess=male     name=Pet                           \n",
      "correct=female   guess=male     name=Philis                        \n",
      "correct=female   guess=male     name=Phyllis                       \n",
      "correct=female   guess=male     name=Rahal                         \n",
      "correct=female   guess=male     name=Renel                         \n",
      "correct=female   guess=male     name=Rianon                        \n",
      "correct=female   guess=male     name=Robinett                      \n",
      "correct=female   guess=male     name=Ros                           \n",
      "correct=female   guess=male     name=Rosamond                      \n",
      "correct=female   guess=male     name=Roselin                       \n",
      "correct=female   guess=male     name=Sallyann                      \n",
      "correct=female   guess=male     name=Sean                          \n",
      "correct=female   guess=male     name=Shell                         \n",
      "correct=female   guess=male     name=Shirleen                      \n",
      "correct=female   guess=male     name=Taryn                         \n",
      "correct=female   guess=male     name=Theo                          \n",
      "correct=female   guess=male     name=Venus                         \n",
      "correct=female   guess=male     name=Wileen                        \n",
      "correct=female   guess=male     name=Willow                        \n",
      "correct=female   guess=male     name=Willyt                        \n",
      "correct=male     guess=female   name=Ace                           \n",
      "correct=male     guess=female   name=Amery                         \n",
      "correct=male     guess=female   name=Anatole                       \n",
      "correct=male     guess=female   name=Andie                         \n",
      "correct=male     guess=female   name=Antony                        \n",
      "correct=male     guess=female   name=Arie                          \n",
      "correct=male     guess=female   name=Arnie                         \n",
      "correct=male     guess=female   name=Aube                          \n",
      "correct=male     guess=female   name=Baily                         \n",
      "correct=male     guess=female   name=Bernie                        \n",
      "correct=male     guess=female   name=Bradly                        \n",
      "correct=male     guess=female   name=Brice                         \n",
      "correct=male     guess=female   name=Burke                         \n",
      "correct=male     guess=female   name=Cammy                         \n",
      "correct=male     guess=female   name=Carlyle                       \n",
      "correct=male     guess=female   name=Chaddie                       \n",
      "correct=male     guess=female   name=Che                           \n",
      "correct=male     guess=female   name=Chrisy                        \n",
      "correct=male     guess=female   name=Clare                         \n",
      "correct=male     guess=female   name=Clarence                      \n",
      "correct=male     guess=female   name=Clive                         \n",
      "correct=male     guess=female   name=Courtney                      \n",
      "correct=male     guess=female   name=Dannie                        \n",
      "correct=male     guess=female   name=Darby                         \n",
      "correct=male     guess=female   name=Dietrich                      \n",
      "correct=male     guess=female   name=Dmitri                        \n",
      "correct=male     guess=female   name=Duane                         \n",
      "correct=male     guess=female   name=Dwayne                        \n",
      "correct=male     guess=female   name=Eddie                         \n",
      "correct=male     guess=female   name=Eddy                          \n",
      "correct=male     guess=female   name=Edie                          \n",
      "correct=male     guess=female   name=Elijah                        \n",
      "correct=male     guess=female   name=Elmore                        \n",
      "correct=male     guess=female   name=Elroy                         \n",
      "correct=male     guess=female   name=Erich                         \n",
      "correct=male     guess=female   name=Etienne                       \n",
      "correct=male     guess=female   name=Ezra                          \n",
      "correct=male     guess=female   name=Fletch                        \n",
      "correct=male     guess=female   name=Fonzie                        \n",
      "correct=male     guess=female   name=French                        \n",
      "correct=male     guess=female   name=Garey                         \n",
      "correct=male     guess=female   name=Gerry                         \n",
      "correct=male     guess=female   name=Giffie                        \n",
      "correct=male     guess=female   name=Grace                         \n",
      "correct=male     guess=female   name=Gregory                       \n",
      "correct=male     guess=female   name=Herby                         \n",
      "correct=male     guess=female   name=Hercule                       \n",
      "correct=male     guess=female   name=Hersh                         \n",
      "correct=male     guess=female   name=Hewe                          \n",
      "correct=male     guess=female   name=Hillary                       \n",
      "correct=male     guess=female   name=Hodge                         \n",
      "correct=male     guess=female   name=Isa                           \n",
      "correct=male     guess=female   name=Jephthah                      \n",
      "correct=male     guess=female   name=Jeremiah                      \n",
      "correct=male     guess=female   name=Jerri                         \n",
      "correct=male     guess=female   name=Jimmie                        \n",
      "correct=male     guess=female   name=Jimmy                         \n",
      "correct=male     guess=female   name=Jodi                          \n",
      "correct=male     guess=female   name=Jodie                         \n",
      "correct=male     guess=female   name=Jody                          \n",
      "correct=male     guess=female   name=Jordy                         \n",
      "correct=male     guess=female   name=Judy                          \n",
      "correct=male     guess=female   name=Lanny                         \n",
      "correct=male     guess=female   name=Lennie                        \n",
      "correct=male     guess=female   name=Lindy                         \n",
      "correct=male     guess=female   name=Lorrie                        \n",
      "correct=male     guess=female   name=Mahesh                        \n",
      "correct=male     guess=female   name=Marlowe                       \n",
      "correct=male     guess=female   name=Marty                         \n",
      "correct=male     guess=female   name=Maurie                        \n",
      "correct=male     guess=female   name=Meredith                      \n",
      "correct=male     guess=female   name=Michele                       \n",
      "correct=male     guess=female   name=Mitch                         \n",
      "correct=male     guess=female   name=Montgomery                    \n",
      "correct=male     guess=female   name=Moore                         \n",
      "correct=male     guess=female   name=Morly                         \n",
      "correct=male     guess=female   name=Morry                         \n",
      "correct=male     guess=female   name=Nevile                        \n",
      "correct=male     guess=female   name=Noach                         \n",
      "correct=male     guess=female   name=Normie                        \n",
      "correct=male     guess=female   name=Ole                           \n",
      "correct=male     guess=female   name=Orbadiah                      \n",
      "correct=male     guess=female   name=Ozzie                         \n",
      "correct=male     guess=female   name=Page                          \n",
      "correct=male     guess=female   name=Pascale                       \n",
      "correct=male     guess=female   name=Pembroke                      \n",
      "correct=male     guess=female   name=Pierre                        \n",
      "correct=male     guess=female   name=Price                         \n",
      "correct=male     guess=female   name=Rafe                          \n",
      "correct=male     guess=female   name=Ravi                          \n",
      "correct=male     guess=female   name=Reese                         \n",
      "correct=male     guess=female   name=Ricki                         \n",
      "correct=male     guess=female   name=Rikki                         \n",
      "correct=male     guess=female   name=Ripley                        \n",
      "correct=male     guess=female   name=Roddy                         \n",
      "correct=male     guess=female   name=Roice                         \n",
      "correct=male     guess=female   name=Ronnie                        \n",
      "correct=male     guess=female   name=Roy                           \n",
      "correct=male     guess=female   name=Royce                         \n",
      "correct=male     guess=female   name=Rustie                        \n",
      "correct=male     guess=female   name=Shay                          \n",
      "correct=male     guess=female   name=Sloane                        \n",
      "correct=male     guess=female   name=Spense                        \n",
      "correct=male     guess=female   name=Stacy                         \n",
      "correct=male     guess=female   name=Stanley                       \n",
      "correct=male     guess=female   name=Sunny                         \n",
      "correct=male     guess=female   name=Sydney                        \n",
      "correct=male     guess=female   name=Tarrance                      \n",
      "correct=male     guess=female   name=Tedie                         \n",
      "correct=male     guess=female   name=Temple                        \n",
      "correct=male     guess=female   name=Terri                         \n",
      "correct=male     guess=female   name=Torry                         \n",
      "correct=male     guess=female   name=Towny                         \n",
      "correct=male     guess=female   name=Tre                           \n",
      "correct=male     guess=female   name=Tymothy                       \n",
      "correct=male     guess=female   name=Uli                           \n",
      "correct=male     guess=female   name=Vance                         \n",
      "correct=male     guess=female   name=Vassily                       \n",
      "correct=male     guess=female   name=Wake                          \n",
      "correct=male     guess=female   name=Wash                          \n",
      "correct=male     guess=female   name=Waverley                      \n",
      "correct=male     guess=female   name=Wayne                         \n",
      "correct=male     guess=female   name=Welbie                        \n",
      "correct=male     guess=female   name=Wojciech                      \n",
      "correct=male     guess=female   name=Wye                           \n",
      "correct=male     guess=female   name=Yardley                       \n",
      "correct=male     guess=female   name=Zacherie                      \n",
      "correct=male     guess=female   name=Zachery                       \n",
      "correct=male     guess=female   name=Zary                          \n",
      "correct=male     guess=female   name=Zebedee                       \n",
      "correct=male     guess=female   name=Zedekiah                      \n"
     ]
    }
   ],
   "source": [
    "def printerrors(errors):\n",
    "    for (tag, guess, name) in sorted(errors):\n",
    "        print('correct=%-8s guess=%-8s name=%-30s' % (tag, guess, name))\n",
    "\n",
    "printerrors(errors)"
   ]
  },
  {
   "cell_type": "markdown",
   "id": "d6cd8e2b",
   "metadata": {},
   "source": [
    "## Exercise"
   ]
  },
  {
   "cell_type": "code",
   "execution_count": 27,
   "id": "a576dd77",
   "metadata": {},
   "outputs": [],
   "source": [
    "def gender_features3(word):\n",
    "    return {'suffix1': word[-1], 'suffix2': word[-2]}"
   ]
  },
  {
   "cell_type": "code",
   "execution_count": 28,
   "id": "0d124bb5",
   "metadata": {},
   "outputs": [],
   "source": [
    "featuresets3 = [(gender_features3(n), g) for (n,g) in namesgender]"
   ]
  },
  {
   "cell_type": "code",
   "execution_count": 29,
   "id": "4dc618af",
   "metadata": {},
   "outputs": [
    {
     "name": "stdout",
     "output_type": "stream",
     "text": [
      "Vernor {'suffix1': 'r', 'suffix2': 'o'}\n",
      "Shimon {'suffix1': 'n', 'suffix2': 'o'}\n",
      "Butch {'suffix1': 'h', 'suffix2': 'c'}\n",
      "Madalyn {'suffix1': 'n', 'suffix2': 'y'}\n",
      "Gweneth {'suffix1': 'h', 'suffix2': 't'}\n"
     ]
    }
   ],
   "source": [
    "for (n,g) in namesgender[:5]:\n",
    "    print (n, gender_features3(n))"
   ]
  },
  {
   "cell_type": "code",
   "execution_count": 30,
   "id": "44829652",
   "metadata": {},
   "outputs": [
    {
     "name": "stdout",
     "output_type": "stream",
     "text": [
      "0.74\n"
     ]
    }
   ],
   "source": [
    "train_set, test_set = featuresets3[500:], featuresets3[:500]\n",
    "classifier = nltk.NaiveBayesClassifier.train(train_set)\n",
    "\n",
    "er2_acc = nltk.classify.accuracy(classifier, test_set)\n",
    "print (er2_acc)"
   ]
  },
  {
   "cell_type": "code",
   "execution_count": 31,
   "id": "82a18fcb",
   "metadata": {},
   "outputs": [
    {
     "name": "stdout",
     "output_type": "stream",
     "text": [
      "377\n"
     ]
    }
   ],
   "source": [
    "errors = geterrors(devtest_names)\n",
    "er2_len = len(errors)\n",
    "print(er2_len)"
   ]
  },
  {
   "cell_type": "code",
   "execution_count": 32,
   "id": "e6488cb8",
   "metadata": {},
   "outputs": [
    {
     "name": "stdout",
     "output_type": "stream",
     "text": [
      "correct=male     guess=female   name=Abram                         \n",
      "correct=male     guess=female   name=Ace                           \n",
      "correct=male     guess=female   name=Adam                          \n",
      "correct=male     guess=female   name=Adolfo                        \n",
      "correct=male     guess=female   name=Adrick                        \n",
      "correct=male     guess=female   name=Ahmad                         \n",
      "correct=male     guess=female   name=Alejandro                     \n",
      "correct=male     guess=female   name=Aleks                         \n",
      "correct=male     guess=female   name=Aleksandrs                    \n",
      "correct=male     guess=female   name=Alexander                     \n",
      "correct=male     guess=female   name=Alford                        \n",
      "correct=male     guess=female   name=Alfredo                       \n",
      "correct=male     guess=female   name=Allin                         \n",
      "correct=male     guess=female   name=Amery                         \n",
      "correct=male     guess=female   name=Amos                          \n",
      "correct=male     guess=female   name=Anatole                       \n",
      "correct=male     guess=female   name=Andie                         \n",
      "correct=male     guess=female   name=Andrew                        \n",
      "correct=male     guess=female   name=Angelico                      \n",
      "correct=male     guess=female   name=Angus                         \n",
      "correct=male     guess=female   name=Anton                         \n",
      "correct=male     guess=female   name=Antony                        \n",
      "correct=male     guess=female   name=Anurag                        \n",
      "correct=male     guess=female   name=Aram                          \n",
      "correct=male     guess=female   name=Arie                          \n",
      "correct=male     guess=female   name=Arnie                         \n",
      "correct=male     guess=female   name=Arnoldo                       \n",
      "correct=male     guess=female   name=Arron                         \n",
      "correct=male     guess=female   name=Arthur                        \n",
      "correct=male     guess=female   name=Aub                           \n",
      "correct=male     guess=female   name=Aube                          \n",
      "correct=male     guess=female   name=Baily                         \n",
      "correct=male     guess=female   name=Baldwin                       \n",
      "correct=male     guess=female   name=Bancroft                      \n",
      "correct=male     guess=female   name=Barron                        \n",
      "correct=male     guess=female   name=Bartel                        \n",
      "correct=male     guess=female   name=Bernard                       \n",
      "correct=male     guess=female   name=Bernardo                      \n",
      "correct=male     guess=female   name=Bernie                        \n",
      "correct=male     guess=female   name=Bertrand                      \n",
      "correct=male     guess=female   name=Bill                          \n",
      "correct=male     guess=female   name=Bishop                        \n",
      "correct=male     guess=female   name=Bradford                      \n",
      "correct=male     guess=female   name=Bradly                        \n",
      "correct=male     guess=female   name=Brewer                        \n",
      "correct=male     guess=female   name=Brice                         \n",
      "correct=male     guess=female   name=Britt                         \n",
      "correct=male     guess=female   name=Brock                         \n",
      "correct=male     guess=female   name=Brook                         \n",
      "correct=male     guess=female   name=Brooks                        \n",
      "correct=male     guess=female   name=Bryan                         \n",
      "correct=male     guess=female   name=Bryn                          \n",
      "correct=male     guess=female   name=Bud                           \n",
      "correct=male     guess=female   name=Burke                         \n",
      "correct=male     guess=female   name=Cam                           \n",
      "correct=male     guess=female   name=Cameron                       \n",
      "correct=male     guess=female   name=Cammy                         \n",
      "correct=male     guess=female   name=Carlin                        \n",
      "correct=male     guess=female   name=Carlos                        \n",
      "correct=male     guess=female   name=Carlyle                       \n",
      "correct=male     guess=female   name=Carsten                       \n",
      "correct=male     guess=female   name=Carter                        \n",
      "correct=male     guess=female   name=Cat                           \n",
      "correct=male     guess=female   name=Chaddie                       \n",
      "correct=male     guess=female   name=Chandler                      \n",
      "correct=male     guess=female   name=Chariot                       \n",
      "correct=male     guess=female   name=Charles                       \n",
      "correct=male     guess=female   name=Che                           \n",
      "correct=male     guess=female   name=Chev                          \n",
      "correct=male     guess=female   name=Chrisy                        \n",
      "correct=male     guess=female   name=Clare                         \n",
      "correct=male     guess=female   name=Clarence                      \n",
      "correct=male     guess=female   name=Claudius                      \n",
      "correct=male     guess=female   name=Clifton                       \n",
      "correct=male     guess=female   name=Clive                         \n",
      "correct=male     guess=female   name=Constantin                    \n",
      "correct=male     guess=female   name=Constantinos                  \n",
      "correct=male     guess=female   name=Corbin                        \n",
      "correct=male     guess=female   name=Courtney                      \n",
      "correct=male     guess=female   name=Craig                         \n",
      "correct=male     guess=female   name=Cris                          \n",
      "correct=male     guess=female   name=Curtis                        \n",
      "correct=male     guess=female   name=Dallas                        \n",
      "correct=male     guess=female   name=Damon                         \n",
      "correct=male     guess=female   name=Dannie                        \n",
      "correct=male     guess=female   name=Darby                         \n",
      "correct=male     guess=female   name=Darien                        \n",
      "correct=male     guess=female   name=Davis                         \n",
      "correct=male     guess=female   name=Davoud                        \n",
      "correct=male     guess=female   name=Dewitt                        \n",
      "correct=male     guess=female   name=Dietrich                      \n",
      "correct=male     guess=female   name=Dion                          \n",
      "correct=male     guess=female   name=Dirk                          \n",
      "correct=male     guess=female   name=Dmitri                        \n",
      "correct=male     guess=female   name=Dominick                      \n",
      "correct=male     guess=female   name=Don                           \n",
      "correct=male     guess=female   name=Dorian                        \n",
      "correct=male     guess=female   name=Doug                          \n",
      "correct=male     guess=female   name=Drew                          \n",
      "correct=male     guess=female   name=Duane                         \n",
      "correct=male     guess=female   name=Dwayne                        \n",
      "correct=male     guess=female   name=Earl                          \n",
      "correct=male     guess=female   name=Easton                        \n",
      "correct=male     guess=female   name=Ebeneser                      \n",
      "correct=male     guess=female   name=Eddie                         \n",
      "correct=male     guess=female   name=Eddy                          \n",
      "correct=male     guess=female   name=Edie                          \n",
      "correct=male     guess=female   name=Edmond                        \n",
      "correct=male     guess=female   name=Edouard                       \n",
      "correct=male     guess=female   name=Ehud                          \n",
      "correct=male     guess=female   name=Elijah                        \n",
      "correct=male     guess=female   name=Elmore                        \n",
      "correct=male     guess=female   name=Elroy                         \n",
      "correct=male     guess=female   name=Elvin                         \n",
      "correct=male     guess=female   name=Erich                         \n",
      "correct=male     guess=female   name=Esau                          \n",
      "correct=male     guess=female   name=Esteban                       \n",
      "correct=male     guess=female   name=Etienne                       \n",
      "correct=male     guess=female   name=Ewart                         \n",
      "correct=male     guess=female   name=Ezra                          \n",
      "correct=male     guess=female   name=Felix                         \n",
      "correct=male     guess=female   name=Filip                         \n",
      "correct=male     guess=female   name=Finn                          \n",
      "correct=male     guess=female   name=Flem                          \n",
      "correct=male     guess=female   name=Flemming                      \n",
      "correct=male     guess=female   name=Fletch                        \n",
      "correct=male     guess=female   name=Flin                          \n",
      "correct=male     guess=female   name=Floyd                         \n",
      "correct=male     guess=female   name=Fonzie                        \n",
      "correct=male     guess=female   name=Forrester                     \n",
      "correct=male     guess=female   name=French                        \n",
      "correct=male     guess=female   name=Gail                          \n",
      "correct=male     guess=female   name=Gallagher                     \n",
      "correct=male     guess=female   name=Gamaliel                      \n",
      "correct=male     guess=female   name=Gardener                      \n",
      "correct=male     guess=female   name=Gardner                       \n",
      "correct=male     guess=female   name=Garey                         \n",
      "correct=male     guess=female   name=Garwin                        \n",
      "correct=male     guess=female   name=Gaston                        \n",
      "correct=male     guess=female   name=Gerry                         \n",
      "correct=male     guess=female   name=Giffie                        \n",
      "correct=male     guess=female   name=Gil                           \n",
      "correct=male     guess=female   name=Ginger                        \n",
      "correct=male     guess=female   name=Giordano                      \n",
      "correct=male     guess=female   name=Grace                         \n",
      "correct=male     guess=female   name=Grant                         \n",
      "correct=male     guess=female   name=Greg                          \n",
      "correct=male     guess=female   name=Gregory                       \n",
      "correct=male     guess=female   name=Gustaf                        \n",
      "correct=male     guess=female   name=Gustavo                       \n",
      "correct=male     guess=female   name=Hal                           \n",
      "correct=male     guess=female   name=Halvard                       \n",
      "correct=male     guess=female   name=Haywood                       \n",
      "correct=male     guess=female   name=Hendrik                       \n",
      "correct=male     guess=female   name=Herby                         \n",
      "correct=male     guess=female   name=Hercule                       \n",
      "correct=male     guess=female   name=Hercules                      \n",
      "correct=male     guess=female   name=Hersh                         \n",
      "correct=male     guess=female   name=Hewe                          \n",
      "correct=male     guess=female   name=Hillard                       \n",
      "correct=male     guess=female   name=Hillary                       \n",
      "correct=male     guess=female   name=Hiram                         \n",
      "correct=male     guess=female   name=Hodge                         \n",
      "correct=male     guess=female   name=Hogan                         \n",
      "correct=male     guess=female   name=Horacio                       \n",
      "correct=male     guess=female   name=Horatio                       \n",
      "correct=male     guess=female   name=Iain                          \n",
      "correct=male     guess=female   name=Isa                           \n",
      "correct=male     guess=female   name=Isaac                         \n",
      "correct=male     guess=female   name=Isaak                         \n",
      "correct=male     guess=female   name=Jared                         \n",
      "correct=male     guess=female   name=Jephthah                      \n",
      "correct=male     guess=female   name=Jeremiah                      \n",
      "correct=male     guess=female   name=Jeremias                      \n",
      "correct=male     guess=female   name=Jerri                         \n",
      "correct=male     guess=female   name=Jess                          \n",
      "correct=male     guess=female   name=Jimmie                        \n",
      "correct=male     guess=female   name=Jimmy                         \n",
      "correct=male     guess=female   name=Joab                          \n",
      "correct=male     guess=female   name=Joachim                       \n",
      "correct=male     guess=female   name=Joao                          \n",
      "correct=male     guess=female   name=Jodi                          \n",
      "correct=male     guess=female   name=Jodie                         \n",
      "correct=male     guess=female   name=Jody                          \n",
      "correct=male     guess=female   name=Johan                         \n",
      "correct=male     guess=female   name=John-David                    \n",
      "correct=male     guess=female   name=Jordy                         \n",
      "correct=male     guess=female   name=Josephus                      \n",
      "correct=male     guess=female   name=Jotham                        \n",
      "correct=male     guess=female   name=Juan                          \n",
      "correct=male     guess=female   name=Judy                          \n",
      "correct=male     guess=female   name=Juergen                       \n",
      "correct=male     guess=female   name=Kaleb                         \n",
      "correct=male     guess=female   name=Kenn                          \n",
      "correct=male     guess=female   name=Kent                          \n",
      "correct=male     guess=female   name=Kim                           \n",
      "correct=male     guess=female   name=Kimball                       \n",
      "correct=male     guess=female   name=Kostas                        \n",
      "correct=male     guess=female   name=Lancelot                      \n",
      "correct=male     guess=female   name=Lanny                         \n",
      "correct=male     guess=female   name=Lars                          \n",
      "correct=male     guess=female   name=Laurens                       \n",
      "correct=male     guess=female   name=Layton                        \n",
      "correct=male     guess=female   name=Lemuel                        \n",
      "correct=male     guess=female   name=Lennie                        \n",
      "correct=male     guess=female   name=Levin                         \n",
      "correct=male     guess=female   name=Lindy                         \n",
      "correct=male     guess=female   name=Lorrie                        \n",
      "correct=male     guess=female   name=Lovell                        \n",
      "correct=male     guess=female   name=Lucius                        \n",
      "correct=male     guess=female   name=Mahesh                        \n",
      "correct=male     guess=female   name=Marcello                      \n",
      "correct=male     guess=female   name=Marco                         \n",
      "correct=male     guess=female   name=Marilu                        \n",
      "correct=male     guess=female   name=Marko                         \n",
      "correct=male     guess=female   name=Marlin                        \n",
      "correct=male     guess=female   name=Marlowe                       \n",
      "correct=male     guess=female   name=Marty                         \n",
      "correct=male     guess=female   name=Mathew                        \n",
      "correct=male     guess=female   name=Maurie                        \n",
      "correct=male     guess=female   name=Meredith                      \n",
      "correct=male     guess=female   name=Merv                          \n",
      "correct=male     guess=female   name=Michal                        \n",
      "correct=male     guess=female   name=Michele                       \n",
      "correct=male     guess=female   name=Mikael                        \n",
      "correct=male     guess=female   name=Mitch                         \n",
      "correct=male     guess=female   name=Mitchel                       \n",
      "correct=male     guess=female   name=Mitchell                      \n",
      "correct=male     guess=female   name=Montgomery                    \n",
      "correct=male     guess=female   name=Moore                         \n",
      "correct=male     guess=female   name=Morly                         \n",
      "correct=male     guess=female   name=Morris                        \n",
      "correct=male     guess=female   name=Morry                         \n",
      "correct=male     guess=female   name=Morton                        \n",
      "correct=male     guess=female   name=Nathanial                     \n",
      "correct=male     guess=female   name=Nero                          \n",
      "correct=male     guess=female   name=Nevile                        \n",
      "correct=male     guess=female   name=Nicolas                       \n",
      "correct=male     guess=female   name=Niels                         \n",
      "correct=male     guess=female   name=Nikos                         \n",
      "correct=male     guess=female   name=Niven                         \n",
      "correct=male     guess=female   name=Noach                         \n",
      "correct=male     guess=female   name=Noel                          \n",
      "correct=male     guess=female   name=Normie                        \n",
      "correct=male     guess=female   name=Ole                           \n",
      "correct=male     guess=female   name=Oliver                        \n",
      "correct=male     guess=female   name=Olivier                       \n",
      "correct=male     guess=female   name=Oran                          \n",
      "correct=male     guess=female   name=Orazio                        \n",
      "correct=male     guess=female   name=Orbadiah                      \n",
      "correct=male     guess=female   name=Orlando                       \n",
      "correct=male     guess=female   name=Orrin                         \n",
      "correct=male     guess=female   name=Osborn                        \n",
      "correct=male     guess=female   name=Osgood                        \n",
      "correct=male     guess=female   name=Osmond                        \n",
      "correct=male     guess=female   name=Otes                          \n",
      "correct=male     guess=female   name=Ozzie                         \n",
      "correct=male     guess=female   name=Page                          \n",
      "correct=male     guess=female   name=Paolo                         \n",
      "correct=male     guess=female   name=Park                          \n",
      "correct=male     guess=female   name=Parnell                       \n",
      "correct=male     guess=female   name=Pascale                       \n",
      "correct=male     guess=female   name=Patricio                      \n",
      "correct=male     guess=female   name=Pembroke                      \n",
      "correct=male     guess=female   name=Pepito                        \n",
      "correct=male     guess=female   name=Phillipp                      \n",
      "correct=male     guess=female   name=Pierre                        \n",
      "correct=male     guess=female   name=Pieter                        \n",
      "correct=male     guess=female   name=Price                         \n",
      "correct=male     guess=female   name=Quinlan                       \n",
      "correct=male     guess=female   name=Rab                           \n",
      "correct=male     guess=female   name=Rafe                          \n",
      "correct=male     guess=female   name=Randall                       \n",
      "correct=male     guess=female   name=Raoul                         \n",
      "correct=male     guess=female   name=Ravi                          \n",
      "correct=male     guess=female   name=Reese                         \n",
      "correct=male     guess=female   name=Regen                         \n",
      "correct=male     guess=female   name=Reginauld                     \n",
      "correct=male     guess=female   name=Ricard                        \n",
      "correct=male     guess=female   name=Richard                       \n",
      "correct=male     guess=female   name=Ricki                         \n",
      "correct=male     guess=female   name=Rikki                         \n",
      "correct=male     guess=female   name=Ripley                        \n",
      "correct=male     guess=female   name=Roddy                         \n",
      "correct=male     guess=female   name=Roderic                       \n",
      "correct=male     guess=female   name=Rodger                        \n",
      "correct=male     guess=female   name=Rodrigo                       \n",
      "correct=male     guess=female   name=Roger                         \n",
      "correct=male     guess=female   name=Roice                         \n",
      "correct=male     guess=female   name=Ronnie                        \n",
      "correct=male     guess=female   name=Ross                          \n",
      "correct=male     guess=female   name=Roy                           \n",
      "correct=male     guess=female   name=Royce                         \n",
      "correct=male     guess=female   name=Rupert                        \n",
      "correct=male     guess=female   name=Rustie                        \n",
      "correct=male     guess=female   name=Ryan                          \n",
      "correct=male     guess=female   name=Salim                         \n",
      "correct=male     guess=female   name=Salomo                        \n",
      "correct=male     guess=female   name=Sam                           \n",
      "correct=male     guess=female   name=Sanson                        \n",
      "correct=male     guess=female   name=Sargent                       \n",
      "correct=male     guess=female   name=Saunders                      \n",
      "correct=male     guess=female   name=Sergent                       \n",
      "correct=male     guess=female   name=Shawn                         \n",
      "correct=male     guess=female   name=Shay                          \n",
      "correct=male     guess=female   name=Sherlock                      \n",
      "correct=male     guess=female   name=Sherwood                      \n",
      "correct=male     guess=female   name=Shlomo                        \n",
      "correct=male     guess=female   name=Sholom                        \n",
      "correct=male     guess=female   name=Siegfried                     \n",
      "correct=male     guess=female   name=Sig                           \n",
      "correct=male     guess=female   name=Silas                         \n",
      "correct=male     guess=female   name=Silvano                       \n",
      "correct=male     guess=female   name=Simon                         \n",
      "correct=male     guess=female   name=Sloane                        \n",
      "correct=male     guess=female   name=Spense                        \n",
      "correct=male     guess=female   name=Stacy                         \n",
      "correct=male     guess=female   name=Stanislaw                     \n",
      "correct=male     guess=female   name=Stanley                       \n",
      "correct=male     guess=female   name=Stig                          \n",
      "correct=male     guess=female   name=Sting                         \n",
      "correct=male     guess=female   name=Sullivan                      \n",
      "correct=male     guess=female   name=Sunny                         \n",
      "correct=male     guess=female   name=Sydney                        \n",
      "correct=male     guess=female   name=Tann                          \n",
      "correct=male     guess=female   name=Tanner                        \n",
      "correct=male     guess=female   name=Tarrance                      \n",
      "correct=male     guess=female   name=Ted                           \n",
      "correct=male     guess=female   name=Tedie                         \n",
      "correct=male     guess=female   name=Temple                        \n",
      "correct=male     guess=female   name=Templeton                     \n",
      "correct=male     guess=female   name=Terri                         \n",
      "correct=male     guess=female   name=Thebault                      \n",
      "correct=male     guess=female   name=Tibold                        \n",
      "correct=male     guess=female   name=Tim                           \n",
      "correct=male     guess=female   name=Torry                         \n",
      "correct=male     guess=female   name=Towny                         \n",
      "correct=male     guess=female   name=Traver                        \n",
      "correct=male     guess=female   name=Tre                           \n",
      "correct=male     guess=female   name=Trever                        \n",
      "correct=male     guess=female   name=Tull                          \n",
      "correct=male     guess=female   name=Tymothy                       \n",
      "correct=male     guess=female   name=Uli                           \n",
      "correct=male     guess=female   name=Ulysses                       \n",
      "correct=male     guess=female   name=Umberto                       \n",
      "correct=male     guess=female   name=Upton                         \n",
      "correct=male     guess=female   name=Van                           \n",
      "correct=male     guess=female   name=Vance                         \n",
      "correct=male     guess=female   name=Vassily                       \n",
      "correct=male     guess=female   name=Vernen                        \n",
      "correct=male     guess=female   name=Victor                        \n",
      "correct=male     guess=female   name=Vincents                      \n",
      "correct=male     guess=female   name=Vinod                         \n",
      "correct=male     guess=female   name=Vladimir                      \n",
      "correct=male     guess=female   name=Wake                          \n",
      "correct=male     guess=female   name=Wald                          \n",
      "correct=male     guess=female   name=Warner                        \n",
      "correct=male     guess=female   name=Wash                          \n",
      "correct=male     guess=female   name=Waverley                      \n",
      "correct=male     guess=female   name=Wayne                         \n",
      "correct=male     guess=female   name=Welbie                        \n",
      "correct=male     guess=female   name=Whittaker                     \n",
      "correct=male     guess=female   name=Wilden                        \n",
      "correct=male     guess=female   name=Wojciech                      \n",
      "correct=male     guess=female   name=Wood                          \n",
      "correct=male     guess=female   name=Wye                           \n",
      "correct=male     guess=female   name=Wynton                        \n",
      "correct=male     guess=female   name=Xavier                        \n",
      "correct=male     guess=female   name=Ximenes                       \n",
      "correct=male     guess=female   name=Yardley                       \n",
      "correct=male     guess=female   name=Zacherie                      \n",
      "correct=male     guess=female   name=Zachery                       \n",
      "correct=male     guess=female   name=Zak                           \n",
      "correct=male     guess=female   name=Zary                          \n",
      "correct=male     guess=female   name=Zebedee                       \n",
      "correct=male     guess=female   name=Zedekiah                      \n",
      "correct=male     guess=female   name=Zeus                          \n"
     ]
    }
   ],
   "source": [
    "printerrors(errors)"
   ]
  },
  {
   "cell_type": "code",
   "execution_count": 34,
   "id": "b5797fa7",
   "metadata": {},
   "outputs": [
    {
     "name": "stdout",
     "output_type": "stream",
     "text": [
      "Previous accuracy: 0.756, New accuracy: 0.74\n",
      "Previous error count: 244, New error count: 377\n"
     ]
    }
   ],
   "source": [
    "print(\"Previous accuracy: \"+str(er1_acc)+\", New accuracy: \"+str(er2_acc))\n",
    "print(\"Previous error count: \"+str(er1_len)+\", New error count: \"+str(er2_len))"
   ]
  },
  {
   "cell_type": "code",
   "execution_count": null,
   "id": "bbb0227d",
   "metadata": {},
   "outputs": [],
   "source": []
  }
 ],
 "metadata": {
  "kernelspec": {
   "display_name": "Python 3",
   "language": "python",
   "name": "python3"
  },
  "language_info": {
   "codemirror_mode": {
    "name": "ipython",
    "version": 3
   },
   "file_extension": ".py",
   "mimetype": "text/x-python",
   "name": "python",
   "nbconvert_exporter": "python",
   "pygments_lexer": "ipython3",
   "version": "3.8.8"
  }
 },
 "nbformat": 4,
 "nbformat_minor": 5
}
