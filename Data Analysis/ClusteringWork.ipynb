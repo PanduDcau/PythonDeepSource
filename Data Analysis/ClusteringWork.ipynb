{
 "cells": [
  {
   "cell_type": "markdown",
   "source": [
    "### 1. Grouping Books by Size Using K-Means Clustering"
   ],
   "metadata": {
    "collapsed": false
   }
  },
  {
   "cell_type": "markdown",
   "source": [
    "Assume you have the data stored in an Excel file named Books.xlsx with columns Width and Length. Here's how you can plot the data using a scatter plot and then group the books into 5 clusters using the K-Means clustering algorithm:"
   ],
   "metadata": {
    "collapsed": false
   }
  },
  {
   "cell_type": "code",
   "execution_count": null,
   "outputs": [],
   "source": [],
   "metadata": {
    "collapsed": false
   }
  }
 ],
 "metadata": {
  "kernelspec": {
   "display_name": "Python 3",
   "language": "python",
   "name": "python3"
  },
  "language_info": {
   "codemirror_mode": {
    "name": "ipython",
    "version": 2
   },
   "file_extension": ".py",
   "mimetype": "text/x-python",
   "name": "python",
   "nbconvert_exporter": "python",
   "pygments_lexer": "ipython2",
   "version": "2.7.6"
  }
 },
 "nbformat": 4,
 "nbformat_minor": 0
}
