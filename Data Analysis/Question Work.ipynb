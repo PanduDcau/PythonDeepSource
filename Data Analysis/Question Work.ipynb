{
 "cells": [
  {
   "cell_type": "markdown",
   "source": [
    "Write a python program that read data from the given ‘data.csv’ file to a numpy array and do given tasks\n",
    "1.1.\tCovert the values into integer\n",
    "1.2.\tDisplay the array\n",
    "1.3.\tDisplay all the values in first row\n",
    "1.4.\tDisplay all the values in last row\n",
    "1.5.\tDisplay values in rows from 5th to 9th and columns 1st and 2nd\n",
    "1.6.\tCreate three arrays a, b, c by separating three columns\n",
    "1.7.\tAdd 5 to all the values in the array a\n",
    "1.8.\tAdd each value in array a to each value in array b and display the answers\n",
    "1.9.\tCalculate and display Total, mean, standard deviation, maximum value, and minimum value for the values in array c\n",
    "1.10.\tReshape the arrays a and b as 4 x 4 arrays\n",
    "1.11.\tCalculate and display a product b\n",
    "1.12.\tDisplay only the values that is less than 40 from array c\n",
    "1.13.\tCalculate and display total of each row in array a\n"
   ],
   "metadata": {
    "collapsed": false
   }
  },
  {
   "cell_type": "markdown",
   "source": [
    "### Python Program to Read Data and Perform Operations"
   ],
   "metadata": {
    "collapsed": false
   }
  },
  {
   "cell_type": "code",
   "execution_count": 2,
   "outputs": [
    {
     "name": "stdout",
     "output_type": "stream",
     "text": [
      "Array:\n",
      " [[42  2 33]\n",
      " [27 18 16]\n",
      " [ 5 19 28]\n",
      " [33 49 36]\n",
      " [24  5 39]\n",
      " [31  2 11]\n",
      " [16 28 48]\n",
      " [38 29 50]\n",
      " [41  5 39]\n",
      " [19 36 20]\n",
      " [31 28 45]\n",
      " [25 11 14]\n",
      " [45 32 50]\n",
      " [33 34 15]\n",
      " [33 28 43]]\n",
      "\n",
      "First row: [42  2 33]\n",
      "\n",
      "Last row: [33 28 43]\n",
      "\n",
      "Rows 5th to 9th, Columns 1st and 2nd:\n",
      " [[24  5]\n",
      " [31  2]\n",
      " [16 28]\n",
      " [38 29]\n",
      " [41  5]]\n",
      "\n",
      "Array 'a' after adding 5:\n",
      " [47 32 10 38 29 36 21 43 46 24 36 30 50 38 38]\n",
      "\n",
      "Array 'a + b':\n",
      " [44 45 24 82 29 33 44 67 46 55 59 36 77 67 61]\n",
      "\n",
      "Array 'c' statistics:\n",
      "Total: 487\n",
      "Mean: 32.46666666666667\n",
      "Standard Deviation: 13.60326758131622\n",
      "Maximum Value: 50\n",
      "Minimum Value: 11\n"
     ]
    }
   ],
   "source": [
    "import numpy as np\n",
    "\n",
    "# Reading the data from 'dataset.csv' into a numpy array\n",
    "data = np.genfromtxt('Tutorial(dataset).csv', delimiter=',', skip_header=1).astype(int)\n",
    "\n",
    "# Display the array\n",
    "print(\"Array:\\n\", data)\n",
    "\n",
    "# Display all the values in the first row\n",
    "print(\"\\nFirst row:\", data[0])\n",
    "\n",
    "# Display all the values in the last row\n",
    "print(\"\\nLast row:\", data[-1])\n",
    "\n",
    "# Display values in rows from 5th to 9th and columns 1st and 2nd\n",
    "print(\"\\nRows 5th to 9th, Columns 1st and 2nd:\\n\", data[4:9, 0:2])\n",
    "\n",
    "# Create three arrays a, b, c by separating three columns\n",
    "a = data[:, 0]\n",
    "b = data[:, 1]\n",
    "c = data[:, 2]\n",
    "\n",
    "# Add 5 to all the values in array a\n",
    "a_plus_5 = a + 5\n",
    "print(\"\\nArray 'a' after adding 5:\\n\", a_plus_5)\n",
    "\n",
    "# Add each value in array a to each value in array b and display the answers\n",
    "a_plus_b = a + b\n",
    "print(\"\\nArray 'a + b':\\n\", a_plus_b)\n",
    "\n",
    "# Calculate and display total, mean, standard deviation, maximum value, and minimum value for the values in array c\n",
    "total_c = np.sum(c)\n",
    "mean_c = np.mean(c)\n",
    "std_dev_c = np.std(c)\n",
    "max_c = np.max(c)\n",
    "min_c = np.min(c)\n",
    "\n",
    "print(\"\\nArray 'c' statistics:\")\n",
    "print(\"Total:\", total_c)\n",
    "print(\"Mean:\", mean_c)\n",
    "print(\"Standard Deviation:\", std_dev_c)\n",
    "print(\"Maximum Value:\", max_c)\n",
    "print(\"Minimum Value:\", min_c)"
   ],
   "metadata": {
    "collapsed": false,
    "ExecuteTime": {
     "end_time": "2024-08-12T10:48:22.926020900Z",
     "start_time": "2024-08-12T10:48:22.909136800Z"
    }
   }
  },
  {
   "cell_type": "markdown",
   "source": [
    "# Reshape the arrays a and b as 4x4 arrays\n",
    "a_reshaped = a[:16].reshape(4, 4)\n",
    "b_reshaped = b[:16].reshape(4, 4)\n",
    "\n",
    "print(\"\\nReshaped Array 'a':\\n\", a_reshaped)\n",
    "print(\"\\nReshaped Array 'b':\\n\", b_reshaped)\n",
    "\n",
    "# Calculate and display the product of arrays a and b\n",
    "product_ab = np.dot(a_reshaped, b_reshaped)\n",
    "print(\"\\nProduct of reshaped arrays 'a' and 'b':\\n\", product_ab)\n",
    "\n",
    "# Display only the values that are less than 40 from array c\n",
    "c_less_than_40 = c[c < 40]\n",
    "print(\"\\nValues less than 40 in array 'c':\", c_less_than_40)\n",
    "\n",
    "# Calculate and display the total of each row in array a\n",
    "row_totals_a = np.sum(a_reshaped, axis=1)\n",
    "print(\"\\nTotal of each row in reshaped array 'a':\", row_totals_a)"
   ],
   "metadata": {
    "collapsed": false
   }
  },
  {
   "cell_type": "markdown",
   "source": [
    "### Additional"
   ],
   "metadata": {
    "collapsed": false
   }
  },
  {
   "cell_type": "code",
   "execution_count": 5,
   "outputs": [
    {
     "name": "stdout",
     "output_type": "stream",
     "text": [
      "\n",
      "Array 'a' and 'b' cannot be reshaped into square arrays because they do not contain a perfect square number of elements.\n",
      "\n",
      "Values less than 40 in array 'c': [33 16 28 36 39 11 39 20 14 15]\n",
      "\n",
      "Total of each row in array 'a': [42 27  5 33 24 31 16 38 41 19 31 25 45 33 33]\n"
     ]
    }
   ],
   "source": [
    "# Determine the size needed for reshaping\n",
    "reshape_size = int(np.sqrt(len(a)))\n",
    "\n",
    "# Reshape the arrays a and b based on the reshape_size\n",
    "if reshape_size**2 == len(a):  # Check if perfect square\n",
    "    a_reshaped = a.reshape(reshape_size, reshape_size)\n",
    "    b_reshaped = b.reshape(reshape_size, reshape_size)\n",
    "    print(\"\\nReshaped Array 'a':\\n\", a_reshaped)\n",
    "    print(\"\\nReshaped Array 'b':\\n\", b_reshaped)\n",
    "\n",
    "    # Calculate and display the product of arrays a and b\n",
    "    product_ab = np.dot(a_reshaped, b_reshaped)\n",
    "    print(\"\\nProduct of reshaped arrays 'a' and 'b':\\n\", product_ab)\n",
    "else:\n",
    "    print(f\"\\nArray 'a' and 'b' cannot be reshaped into square arrays because they do not contain a perfect square number of elements.\")\n",
    "\n",
    "# Display only the values that are less than 40 from array c\n",
    "c_less_than_40 = c[c < 40]\n",
    "print(\"\\nValues less than 40 in array 'c':\", c_less_than_40)\n",
    "\n",
    "# Calculate and display the total of each row in array a\n",
    "row_totals_a = np.sum(a.reshape(-1, 1), axis=1)\n",
    "print(\"\\nTotal of each row in array 'a':\", row_totals_a)"
   ],
   "metadata": {
    "collapsed": false,
    "ExecuteTime": {
     "end_time": "2024-08-12T10:49:55.624071800Z",
     "start_time": "2024-08-12T10:49:55.581034100Z"
    }
   }
  },
  {
   "cell_type": "markdown",
   "source": [
    "## Question 2"
   ],
   "metadata": {
    "collapsed": false
   }
  },
  {
   "cell_type": "markdown",
   "source": [
    "1.\tWrite a program that creates following numpy arrays and display\n",
    "1.1.\tArray with the values: 8,17,23,27\n",
    "1.2.\tArray with 10 zeros\n",
    "1.3.\tArray with the numbers from 1 to 10\n",
    "1.4.\tArray with the multiples of 3 up to 30\n",
    "1.5.\tArray that has 10 values from 1 to 30 and the difference between values is same\n",
    "1.6.\tArray with 10 random integer values from 0 to 100\n",
    "1.7.\tTwo dimensional array with numbers from 1 to 9\n"
   ],
   "metadata": {
    "collapsed": false
   }
  },
  {
   "cell_type": "code",
   "execution_count": 6,
   "outputs": [
    {
     "name": "stdout",
     "output_type": "stream",
     "text": [
      "Array with values 8, 1, 7, 2, 3, 2, 7:\n",
      " [8 1 7 2 3 2 7]\n",
      "\n",
      "Array with 10 zeros:\n",
      " [0. 0. 0. 0. 0. 0. 0. 0. 0. 0.]\n",
      "\n",
      "Array with numbers from 1 to 10:\n",
      " [ 1  2  3  4  5  6  7  8  9 10]\n",
      "\n",
      "Array with multiples of 3 up to 30:\n",
      " [ 3  6  9 12 15 18 21 24 27 30]\n",
      "\n",
      "Array with 10 values from 1 to 30 (equal difference):\n",
      " [ 1.          4.22222222  7.44444444 10.66666667 13.88888889 17.11111111\n",
      " 20.33333333 23.55555556 26.77777778 30.        ]\n",
      "\n",
      "Array with 10 random integer values from 0 to 100:\n",
      " [45 71 57 15 18 45 20 95 16 67]\n",
      "\n",
      "Two-dimensional array with numbers from 1 to 9:\n",
      " [[1 2 3]\n",
      " [4 5 6]\n",
      " [7 8 9]]\n"
     ]
    }
   ],
   "source": [
    "# Array with the values: 8, 1, 7, 2, 3, 2, 7\n",
    "array1 = np.array([8, 1, 7, 2, 3, 2, 7])\n",
    "print(\"Array with values 8, 1, 7, 2, 3, 2, 7:\\n\", array1)\n",
    "\n",
    "# Array with 10 zeros\n",
    "array2 = np.zeros(10)\n",
    "print(\"\\nArray with 10 zeros:\\n\", array2)\n",
    "\n",
    "# Array with the numbers from 1 to 10\n",
    "array3 = np.arange(1, 11)\n",
    "print(\"\\nArray with numbers from 1 to 10:\\n\", array3)\n",
    "\n",
    "# Array with the multiples of 3 up to 30\n",
    "array4 = np.arange(3, 31, 3)\n",
    "print(\"\\nArray with multiples of 3 up to 30:\\n\", array4)\n",
    "\n",
    "# Array that has 10 values from 1 to 30 and the difference between values is the same\n",
    "array5 = np.linspace(1, 30, 10)\n",
    "print(\"\\nArray with 10 values from 1 to 30 (equal difference):\\n\", array5)\n",
    "\n",
    "# Array with 10 random integer values from 0 to 100\n",
    "array6 = np.random.randint(0, 101, 10)\n",
    "print(\"\\nArray with 10 random integer values from 0 to 100:\\n\", array6)\n",
    "\n",
    "# Two-dimensional array with numbers from 1 to 9\n",
    "array7 = np.arange(1, 10).reshape(3, 3)\n",
    "print(\"\\nTwo-dimensional array with numbers from 1 to 9:\\n\", array7)\n"
   ],
   "metadata": {
    "collapsed": false,
    "ExecuteTime": {
     "end_time": "2024-08-12T10:52:11.494982300Z",
     "start_time": "2024-08-12T10:52:11.476807600Z"
    }
   }
  },
  {
   "cell_type": "code",
   "execution_count": null,
   "outputs": [],
   "source": [],
   "metadata": {
    "collapsed": false
   }
  }
 ],
 "metadata": {
  "kernelspec": {
   "display_name": "Python 3",
   "language": "python",
   "name": "python3"
  },
  "language_info": {
   "codemirror_mode": {
    "name": "ipython",
    "version": 2
   },
   "file_extension": ".py",
   "mimetype": "text/x-python",
   "name": "python",
   "nbconvert_exporter": "python",
   "pygments_lexer": "ipython2",
   "version": "2.7.6"
  }
 },
 "nbformat": 4,
 "nbformat_minor": 0
}
