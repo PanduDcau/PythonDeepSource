{
 "cells": [
  {
   "cell_type": "code",
   "execution_count": 1,
   "metadata": {},
   "outputs": [],
   "source": [
    "import os\n",
    "import numpy as np\n",
    "import pandas as pd"
   ]
  },
  {
   "cell_type": "code",
   "execution_count": 2,
   "metadata": {},
   "outputs": [
    {
     "data": {
      "text/plain": [
       "['.anaconda',\n",
       " '.android',\n",
       " '.astropy',\n",
       " '.bash_history',\n",
       " '.conda',\n",
       " '.condarc',\n",
       " '.config',\n",
       " '.continuum',\n",
       " '.dbshell',\n",
       " '.docker',\n",
       " '.eclipse',\n",
       " '.gitconfig',\n",
       " '.ipynb_checkpoints',\n",
       " '.ipython',\n",
       " '.jupyter',\n",
       " '.keras',\n",
       " '.maplesoft',\n",
       " '.markdownNavigator',\n",
       " '.matplotlib',\n",
       " '.minikube',\n",
       " '.mongorc.js',\n",
       " '.nbi',\n",
       " '.node_repl_history',\n",
       " '.octave_hist',\n",
       " '.p2',\n",
       " '.PyCharmCE2019.2',\n",
       " '.quokka',\n",
       " '.redhat',\n",
       " '.scala_history',\n",
       " '.scala_history_jline3',\n",
       " '.sonarlint',\n",
       " '.tooling',\n",
       " '.viminfo',\n",
       " '.viminfo.tmp',\n",
       " '.VirtualBox',\n",
       " '.vscode',\n",
       " '.wallaby',\n",
       " '02_poisson_distribution.ipynb',\n",
       " '3D Objects',\n",
       " 'anaconda3',\n",
       " 'AppData',\n",
       " 'Apple',\n",
       " 'Application Data',\n",
       " 'automobile.csv',\n",
       " 'Bootstrap Studio Backups',\n",
       " 'Breast Cancer Dataset Classification - Logistic, Random Forest, KNN, and SVM.ipynb',\n",
       " 'confusion matrix metrics + ROC & PR curves.ipynb',\n",
       " 'Contacts',\n",
       " 'Cookies',\n",
       " 'Creative Cloud Files',\n",
       " 'Data Wrangling using Python.ipynb',\n",
       " 'Density Based Clustering using Python.ipynb',\n",
       " 'Desktop',\n",
       " 'Documents',\n",
       " 'Downloads',\n",
       " 'Dynamic Data Analysis.ipynb',\n",
       " 'eclipse',\n",
       " 'eclipse-workspace',\n",
       " 'eclipse-workspace1',\n",
       " 'EDA.ipynb',\n",
       " 'Favorites',\n",
       " 'Generating Maps with Python .ipynb',\n",
       " 'Google Stock RNN.ipynb',\n",
       " 'Gym Algo1.ipynb',\n",
       " 'IntelGraphicsProfiles',\n",
       " 'Iris Dataset - Exploratory Data Analysis.ipynb',\n",
       " 'Iris Random Forest.ipynb',\n",
       " 'Iris.csv',\n",
       " 'Joining_multiple.ipynb',\n",
       " 'Joins.ipynb',\n",
       " 'K - Nearest Neighbours (KNN) Algorithm.ipynb',\n",
       " 'LDA.ipynb',\n",
       " 'Links',\n",
       " 'Local Settings',\n",
       " 'Maze Notebook.ipynb',\n",
       " 'Membership Health Analyzation (Linear Regression).ipynb',\n",
       " 'Microsoft',\n",
       " 'Multivarient.ipynb',\n",
       " 'Music',\n",
       " 'My Documents',\n",
       " 'NetHood',\n",
       " 'NTUSER.DAT',\n",
       " 'ntuser.dat.LOG1',\n",
       " 'ntuser.dat.LOG2',\n",
       " 'NTUSER.DAT{53b39e87-18c4-11ea-a811-000d3aa4692b}.TxR.0.regtrans-ms',\n",
       " 'NTUSER.DAT{53b39e87-18c4-11ea-a811-000d3aa4692b}.TxR.1.regtrans-ms',\n",
       " 'NTUSER.DAT{53b39e87-18c4-11ea-a811-000d3aa4692b}.TxR.2.regtrans-ms',\n",
       " 'NTUSER.DAT{53b39e87-18c4-11ea-a811-000d3aa4692b}.TxR.blf',\n",
       " 'NTUSER.DAT{53b39e88-18c4-11ea-a811-000d3aa4692b}.TM.blf',\n",
       " 'NTUSER.DAT{53b39e88-18c4-11ea-a811-000d3aa4692b}.TMContainer00000000000000000001.regtrans-ms',\n",
       " 'NTUSER.DAT{53b39e88-18c4-11ea-a811-000d3aa4692b}.TMContainer00000000000000000002.regtrans-ms',\n",
       " 'ntuser.ini',\n",
       " 'Number Plate.ipynb',\n",
       " 'OneDrive',\n",
       " 'pandas_or_condition.ipynb',\n",
       " 'pic2_re.png',\n",
       " 'pic3in2.png',\n",
       " 'pic3_re.png',\n",
       " 'Pictures',\n",
       " 'Pie Charts, Box Plots, Scatter Plots, and Bubble Plots.ipynb',\n",
       " 'PrintHood',\n",
       " 'Protein Tertiary Structure.ipynb',\n",
       " 'Q Learning Agent.ipynb',\n",
       " 'Q_learning with Taxi Simulation.ipynb',\n",
       " 'Random Forest Algorithm.ipynb',\n",
       " 'Recent',\n",
       " 'Reinforcement Engineering.ipynb',\n",
       " 'Reinforcement Learning - Agent Traversing Rooms.ipynb',\n",
       " 'Reinforcement Learning - Maze Robot.ipynb',\n",
       " 'Saved Games',\n",
       " 'Searches',\n",
       " 'SendTo',\n",
       " 'Simplified Random Forest.ipynb',\n",
       " 'source',\n",
       " 'Start Menu',\n",
       " 'Steganography.ipynb',\n",
       " 'Support Vector Machine (SVM) using python.ipynb',\n",
       " 'Telecommunication K-Nearest Neighbors using python.ipynb',\n",
       " 'Templates',\n",
       " 'TensorFlow 1.ipynb',\n",
       " 'test1.png',\n",
       " 'test2.png',\n",
       " 'Text Recognition .ipynb',\n",
       " 'Tokenizer.ipynb',\n",
       " 'T_Test_Sales.ipynb',\n",
       " 'Videos',\n",
       " 'VirtualBox VMs',\n",
       " 'VizuaMatrics Work Exersice.ipynb',\n",
       " 'Waffle Charts, Regression Plots and Word Clouds using Python.ipynb']"
      ]
     },
     "execution_count": 2,
     "metadata": {},
     "output_type": "execute_result"
    }
   ],
   "source": [
    "os.listdir()"
   ]
  },
  {
   "cell_type": "code",
   "execution_count": 3,
   "metadata": {},
   "outputs": [
    {
     "name": "stdout",
     "output_type": "stream",
     "text": [
      "(205, 26)\n",
      "(150, 6)\n"
     ]
    }
   ],
   "source": [
    "li = []\n",
    "for files in os.listdir():\n",
    "    if files.split(\".\")[-1] == 'csv':\n",
    "        df = pd.read_csv(files, index_col=None, header=0)\n",
    "        print(df.shape)\n",
    "        li.append(df)\n",
    "        \n",
    "frame = pd.concat(li, axis=0, ignore_index=True)"
   ]
  },
  {
   "cell_type": "code",
   "execution_count": 4,
   "metadata": {},
   "outputs": [
    {
     "data": {
      "text/plain": [
       "(355, 32)"
      ]
     },
     "execution_count": 4,
     "metadata": {},
     "output_type": "execute_result"
    }
   ],
   "source": [
    "frame.shape"
   ]
  },
  {
   "cell_type": "code",
   "execution_count": 5,
   "metadata": {},
   "outputs": [],
   "source": [
    "frame.to_csv('Measure_Dictionary_All_Environments.csv', index=False)"
   ]
  },
  {
   "cell_type": "code",
   "execution_count": null,
   "metadata": {},
   "outputs": [],
   "source": []
  }
 ],
 "metadata": {
  "kernelspec": {
   "display_name": "Python 3",
   "language": "python",
   "name": "python3"
  },
  "language_info": {
   "codemirror_mode": {
    "name": "ipython",
    "version": 3
   },
   "file_extension": ".py",
   "mimetype": "text/x-python",
   "name": "python",
   "nbconvert_exporter": "python",
   "pygments_lexer": "ipython3",
   "version": "3.8.8"
  }
 },
 "nbformat": 4,
 "nbformat_minor": 2
}
