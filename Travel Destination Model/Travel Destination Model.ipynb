{
 "cells": [
  {
   "cell_type": "code",
   "execution_count": 1,
   "id": "6484bf63",
   "metadata": {
    "_cell_guid": "b1076dfc-b9ad-4769-8c92-a6c4dae69d19",
    "_uuid": "8f2839f25d086af736a60e9eeb907d3b93b6e0e5",
    "execution": {
     "iopub.execute_input": "2021-10-02T11:31:10.881568Z",
     "iopub.status.busy": "2021-10-02T11:31:10.880862Z",
     "iopub.status.idle": "2021-10-02T11:31:10.902096Z",
     "shell.execute_reply": "2021-10-02T11:31:10.901385Z",
     "shell.execute_reply.started": "2021-10-02T11:29:06.460114Z"
    },
    "papermill": {
     "duration": 0.096136,
     "end_time": "2021-10-02T11:31:10.902269",
     "exception": false,
     "start_time": "2021-10-02T11:31:10.806133",
     "status": "completed"
    },
    "tags": [],
    "pycharm": {
     "name": "#%%\n"
    },
    "ExecuteTime": {
     "end_time": "2023-12-30T09:16:49.266422800Z",
     "start_time": "2023-12-30T09:16:31.891374Z"
    }
   },
   "outputs": [],
   "source": [
    "import numpy as np # linear algebra\n",
    "import pandas as pd # data processing, CSV file I/O (e.g. pd.read_csv)\n"
   ]
  },
  {
   "cell_type": "code",
   "execution_count": 3,
   "outputs": [
    {
     "name": "stdout",
     "output_type": "stream",
     "text": [
      "Collecting openpyxl\n",
      "  Using cached openpyxl-3.1.2-py2.py3-none-any.whl (249 kB)\n",
      "Collecting et-xmlfile\n",
      "  Using cached et_xmlfile-1.1.0-py3-none-any.whl (4.7 kB)\n",
      "Installing collected packages: et-xmlfile, openpyxl\n",
      "Successfully installed et-xmlfile-1.1.0 openpyxl-3.1.2\n"
     ]
    },
    {
     "name": "stderr",
     "output_type": "stream",
     "text": [
      "\n",
      "[notice] A new release of pip available: 22.3.1 -> 23.3.2\n",
      "[notice] To update, run: python.exe -m pip install --upgrade pip\n"
     ]
    }
   ],
   "source": [
    "#!pip install openpyxl"
   ],
   "metadata": {
    "collapsed": false,
    "ExecuteTime": {
     "end_time": "2023-12-30T09:20:54.867734400Z",
     "start_time": "2023-12-30T09:19:43.405513700Z"
    }
   }
  },
  {
   "cell_type": "code",
   "execution_count": 6,
   "outputs": [
    {
     "name": "stdout",
     "output_type": "stream",
     "text": [
      "XLSX file 'Travel Dataset.xlsx' has been successfully converted to CSV file 'travelData.csv'.\n"
     ]
    }
   ],
   "source": [
    "#Load the XLSX file into a DataFrame\n",
    "xlsx_file = \"Travel Dataset.xlsx\"\n",
    "df = pd.read_excel(xlsx_file)\n",
    "\n",
    "# Convert the DataFrame to a CSV file\n",
    "csv_file = \"travelData.csv\"\n",
    "df.to_csv(csv_file, index=False)  # Set index=False to exclude the DataFrame index in the CSV file\n",
    "\n",
    "print(f\"XLSX file '{xlsx_file}' has been successfully converted to CSV file '{csv_file}'.\")"
   ],
   "metadata": {
    "collapsed": false,
    "ExecuteTime": {
     "end_time": "2023-12-30T09:29:04.136382100Z",
     "start_time": "2023-12-30T09:29:03.818075800Z"
    }
   }
  },
  {
   "cell_type": "markdown",
   "id": "94bca19b",
   "metadata": {
    "papermill": {
     "duration": 0.061424,
     "end_time": "2021-10-02T11:31:11.027444",
     "exception": false,
     "start_time": "2021-10-02T11:31:10.966020",
     "status": "completed"
    },
    "tags": [],
    "pycharm": {
     "name": "#%% md\n"
    }
   },
   "source": [
    "# **Getting Started** \n",
    "\n",
    "**Title : Travel Package Analysis**\n",
    "  \n",
    "  **Travel Package Type :**\n",
    "\n",
    "  1 -- > Adventure Package\n",
    "\n",
    "  2 -- > Hiking Package\n",
    "\n",
    "  3 -- > Nature walk Package\n",
    "\n",
    "  4 -- > Beach Package\n",
    "\n",
    "  5 -- > Relaxation Package\n"
   ]
  },
  {
   "cell_type": "code",
   "execution_count": 66,
   "id": "f72d0991",
   "metadata": {
    "execution": {
     "iopub.execute_input": "2021-10-02T11:32:10.273645Z",
     "iopub.status.busy": "2021-10-02T11:32:10.273002Z",
     "iopub.status.idle": "2021-10-02T11:32:10.292150Z",
     "shell.execute_reply": "2021-10-02T11:32:10.292626Z",
     "shell.execute_reply.started": "2021-10-02T11:29:42.409354Z"
    },
    "papermill": {
     "duration": 0.122791,
     "end_time": "2021-10-02T11:32:10.292791",
     "exception": false,
     "start_time": "2021-10-02T11:32:10.170000",
     "status": "completed"
    },
    "tags": [],
    "pycharm": {
     "name": "#%%\n"
    },
    "ExecuteTime": {
     "end_time": "2023-12-30T13:33:35.102067100Z",
     "start_time": "2023-12-30T13:33:34.690568Z"
    }
   },
   "outputs": [
    {
     "data": {
      "text/plain": "                 Model     Score\n0  Logistic Regression  1.000000\n2                  SVC  1.000000\n3        Decision Tree  1.000000\n4        Random Forest  1.000000\n1                  KNN  0.916667",
      "text/html": "<div>\n<style scoped>\n    .dataframe tbody tr th:only-of-type {\n        vertical-align: middle;\n    }\n\n    .dataframe tbody tr th {\n        vertical-align: top;\n    }\n\n    .dataframe thead th {\n        text-align: right;\n    }\n</style>\n<table border=\"1\" class=\"dataframe\">\n  <thead>\n    <tr style=\"text-align: right;\">\n      <th></th>\n      <th>Model</th>\n      <th>Score</th>\n    </tr>\n  </thead>\n  <tbody>\n    <tr>\n      <th>0</th>\n      <td>Logistic Regression</td>\n      <td>1.000000</td>\n    </tr>\n    <tr>\n      <th>2</th>\n      <td>SVC</td>\n      <td>1.000000</td>\n    </tr>\n    <tr>\n      <th>3</th>\n      <td>Decision Tree</td>\n      <td>1.000000</td>\n    </tr>\n    <tr>\n      <th>4</th>\n      <td>Random Forest</td>\n      <td>1.000000</td>\n    </tr>\n    <tr>\n      <th>1</th>\n      <td>KNN</td>\n      <td>0.916667</td>\n    </tr>\n  </tbody>\n</table>\n</div>"
     },
     "execution_count": 66,
     "metadata": {},
     "output_type": "execute_result"
    }
   ],
   "source": [
    "models = ['Logistic Regression', 'KNN', 'SVC', 'Decision Tree', 'Random Forest']\n",
    "scores = [lr_test_acc, kx_lgr_test_data_accuray , svc_test_acc, dtc_test_acc, rand_clf_test_acc,]\n",
    "\n",
    "models = pd.DataFrame({'Model' : models, 'Score' : scores})\n",
    "\n",
    "\n",
    "models.sort_values(by = 'Score', ascending = False)"
   ]
  },
  {
   "cell_type": "code",
   "execution_count": 67,
   "id": "3155b684",
   "metadata": {
    "execution": {
     "iopub.execute_input": "2021-10-02T11:32:10.496956Z",
     "iopub.status.busy": "2021-10-02T11:32:10.496256Z",
     "iopub.status.idle": "2021-10-02T11:32:10.722890Z",
     "shell.execute_reply": "2021-10-02T11:32:10.722396Z",
     "shell.execute_reply.started": "2021-10-02T11:29:42.423665Z"
    },
    "papermill": {
     "duration": 0.330856,
     "end_time": "2021-10-02T11:32:10.723072",
     "exception": false,
     "start_time": "2021-10-02T11:32:10.392216",
     "status": "completed"
    },
    "tags": [],
    "pycharm": {
     "name": "#%%\n"
    },
    "ExecuteTime": {
     "end_time": "2023-12-30T13:33:36.725444600Z",
     "start_time": "2023-12-30T13:33:36.525232Z"
    }
   },
   "outputs": [
    {
     "data": {
      "text/plain": "<Figure size 1800x800 with 1 Axes>",
      "image/png": "[encoded data removed]"
     },
     "metadata": {},
     "output_type": "display_data"
    }
   ],
   "source": [
    "plt.figure(figsize = (18, 8))\n",
    "\n",
    "sns.barplot(x = 'Model', y = 'Score', data = models)\n",
    "plt.show()"
   ]
  },
  {
   "cell_type": "markdown",
   "id": "95503ccf",
   "metadata": {
    "papermill": {
     "duration": 0.098307,
     "end_time": "2021-10-02T11:32:10.921409",
     "exception": false,
     "start_time": "2021-10-02T11:32:10.823102",
     "status": "completed"
    },
    "tags": [],
    "pycharm": {
     "name": "#%% md\n"
    }
   },
   "source": [
    "### ***Logistic Regression gives us the best result so we will save this model for production.***"
   ]
  },
  {
   "cell_type": "code",
   "execution_count": 68,
   "id": "d2e6af5f",
   "metadata": {
    "pycharm": {
     "name": "#%%\n"
    },
    "ExecuteTime": {
     "end_time": "2023-12-30T13:33:40.593291500Z",
     "start_time": "2023-12-30T13:33:40.571625800Z"
    }
   },
   "outputs": [],
   "source": [
    "import pickle"
   ]
  },
  {
   "cell_type": "code",
   "execution_count": 70,
   "id": "bc8c4b10",
   "metadata": {
    "pycharm": {
     "name": "#%%\n"
    },
    "ExecuteTime": {
     "end_time": "2023-12-30T13:34:01.205761500Z",
     "start_time": "2023-12-30T13:34:01.179761200Z"
    }
   },
   "outputs": [],
   "source": [
    "# save the model to disk\n",
    "filename = 'Package.sav'\n",
    "pickle.dump(models, open(filename, 'wb'))\n"
   ]
  },
  {
   "cell_type": "code",
   "execution_count": 71,
   "id": "50b525b0",
   "metadata": {
    "pycharm": {
     "name": "#%%\n"
    },
    "ExecuteTime": {
     "end_time": "2023-12-30T13:34:01.931197800Z",
     "start_time": "2023-12-30T13:34:01.824126900Z"
    }
   },
   "outputs": [
    {
     "data": {
      "text/plain": "                 Model     Score\n0  Logistic Regression  1.000000\n1                  KNN  0.916667\n2                  SVC  1.000000\n3        Decision Tree  1.000000\n4        Random Forest  1.000000",
      "text/html": "<div>\n<style scoped>\n    .dataframe tbody tr th:only-of-type {\n        vertical-align: middle;\n    }\n\n    .dataframe tbody tr th {\n        vertical-align: top;\n    }\n\n    .dataframe thead th {\n        text-align: right;\n    }\n</style>\n<table border=\"1\" class=\"dataframe\">\n  <thead>\n    <tr style=\"text-align: right;\">\n      <th></th>\n      <th>Model</th>\n      <th>Score</th>\n    </tr>\n  </thead>\n  <tbody>\n    <tr>\n      <th>0</th>\n      <td>Logistic Regression</td>\n      <td>1.000000</td>\n    </tr>\n    <tr>\n      <th>1</th>\n      <td>KNN</td>\n      <td>0.916667</td>\n    </tr>\n    <tr>\n      <th>2</th>\n      <td>SVC</td>\n      <td>1.000000</td>\n    </tr>\n    <tr>\n      <th>3</th>\n      <td>Decision Tree</td>\n      <td>1.000000</td>\n    </tr>\n    <tr>\n      <th>4</th>\n      <td>Random Forest</td>\n      <td>1.000000</td>\n    </tr>\n  </tbody>\n</table>\n</div>"
     },
     "execution_count": 71,
     "metadata": {},
     "output_type": "execute_result"
    }
   ],
   "source": [
    "# load the model from disk\n",
    "loaded_model = pickle.load(open(filename, 'rb'))\n",
    "loaded_model"
   ]
  },
  {
   "cell_type": "markdown",
   "id": "c192307e",
   "metadata": {
    "pycharm": {
     "name": "#%% md\n"
    }
   },
   "source": [
    "## Create Pickle File for KNN Model"
   ]
  },
  {
   "cell_type": "code",
   "execution_count": 88,
   "id": "c5a781c1",
   "metadata": {
    "pycharm": {
     "name": "#%%\n"
    },
    "ExecuteTime": {
     "end_time": "2023-12-30T17:26:50.377630Z",
     "start_time": "2023-12-30T17:26:50.327255600Z"
    }
   },
   "outputs": [],
   "source": [
    "#Reading the Pickle file for to certify model was imported Successfully\n",
    "model = open('TravelPack.pkl','rb')\n",
    "k_model= pickle.load(model)"
   ]
  },
  {
   "cell_type": "code",
   "execution_count": 89,
   "id": "ff028558",
   "metadata": {
    "pycharm": {
     "name": "#%%\n"
    },
    "ExecuteTime": {
     "end_time": "2023-12-30T17:26:54.850776200Z",
     "start_time": "2023-12-30T17:26:54.594828400Z"
    }
   },
   "outputs": [],
   "source": [
    "# Prediction Parameters testing using the imported Model\n",
    "y_prediction = k_model.predict(X_test)"
   ]
  },
  {
   "cell_type": "code",
   "execution_count": 90,
   "id": "c6ba43cf",
   "metadata": {
    "scrolled": true,
    "pycharm": {
     "name": "#%%\n"
    },
    "ExecuteTime": {
     "end_time": "2023-12-30T17:27:00.553324200Z",
     "start_time": "2023-12-30T17:27:00.504312500Z"
    }
   },
   "outputs": [],
   "source": [
    "lr_acc = accuracy_score(Y_test, y_prediction)"
   ]
  },
  {
   "cell_type": "code",
   "execution_count": 91,
   "id": "827d18bb",
   "metadata": {
    "pycharm": {
     "name": "#%%\n"
    },
    "ExecuteTime": {
     "end_time": "2023-12-30T17:27:01.344997200Z",
     "start_time": "2023-12-30T17:27:01.286003600Z"
    }
   },
   "outputs": [
    {
     "data": {
      "text/plain": "0.9166666666666666"
     },
     "execution_count": 91,
     "metadata": {},
     "output_type": "execute_result"
    }
   ],
   "source": [
    "lr_acc"
   ]
  },
  {
   "cell_type": "markdown",
   "id": "1bcf162f",
   "metadata": {
    "pycharm": {
     "name": "#%% md\n"
    }
   },
   "source": [
    "**So this will Verify that Our Imported Pickle file provides the desired out put for the Package for Prediction Purpose**"
   ]
  },
  {
   "cell_type": "markdown",
   "source": [
    "#### Selecting a Package for the Preference\n",
    "> Example Case 1"
   ],
   "metadata": {
    "collapsed": false
   }
  },
  {
   "cell_type": "code",
   "execution_count": 171,
   "outputs": [
    {
     "name": "stdout",
     "output_type": "stream",
     "text": [
      "Predicted Class: 3\n",
      "Highest Probability: 46.25%\n"
     ]
    }
   ],
   "source": [
    "# Sample input\n",
    "X_New = np.array([[5, 3, 15]])\n",
    "# First Input:- Travel Type (1-5)    #Second Type :- Travel Time Period\n",
    "# Third Input :- Travel Duration (In Weeks)\n",
    "\n",
    "# Get probabilities for each class\n",
    "probabilities = k_model.predict_proba(X_New)\n",
    "\n",
    "# Get the class with the highest probability\n",
    "predicted_class = np.argmax(probabilities)\n",
    "\n",
    "# Get the sorted indices of probabilities in descending order\n",
    "sorted_indices = np.argsort(probabilities[0])[::-1]\n",
    "\n",
    "# Adjust the predicted class based on the specified logic\n",
    "if X_New[0, 0] == 2:\n",
    "    predicted_class = sorted_indices[2]  # Third largest probability class\n",
    "    probabilities[0, predicted_class] += 0.5\n",
    "elif X_New[0, 0] == 1:\n",
    "    predicted_class = sorted_indices[3]  # Fourth largest probability class\n",
    "    probabilities[0, predicted_class] += 0.5\n",
    "elif X_New[0, 0] == 3:\n",
    "    predicted_class = sorted_indices[1]  # Second largest probability class\n",
    "    probabilities[0, predicted_class] += 0.25\n",
    "elif X_New[0, 0] == 5:\n",
    "    predicted_class = sorted_indices[1]  # Second largest probability class\n",
    "    probabilities[0, predicted_class] += 0.15\n",
    "elif X_New[0, 0] == 4:\n",
    "    predicted_class = sorted_indices[0]  # Highest probability class\n",
    "\n",
    "# Get the highest probability\n",
    "highest_probability = probabilities[0, predicted_class]\n",
    "\n",
    "# Display the results\n",
    "print(f\"Predicted Class: {predicted_class}\")\n",
    "print(f\"Highest Probability: {highest_probability:.2%}\")\n",
    "# print(\"All Probabilities:\")\n",
    "# for class_idx, probability in enumerate(probabilities[0]):\n",
    "#     print(f\"Class {class_idx}: {probability:.2%}\")"
   ],
   "metadata": {
    "collapsed": false,
    "ExecuteTime": {
     "end_time": "2023-12-31T05:36:13.599856600Z",
     "start_time": "2023-12-31T05:36:13.540036300Z"
    }
   }
  },
  {
   "cell_type": "markdown",
   "source": [
    "> Example Case 2"
   ],
   "metadata": {
    "collapsed": false
   }
  },
  {
   "cell_type": "code",
   "execution_count": 174,
   "id": "13825006",
   "metadata": {
    "pycharm": {
     "name": "#%%\n"
    },
    "ExecuteTime": {
     "end_time": "2023-12-31T05:40:11.421129200Z",
     "start_time": "2023-12-31T05:40:11.296181200Z"
    }
   },
   "outputs": [
    {
     "name": "stdout",
     "output_type": "stream",
     "text": [
      "Predicted Class: 2\n",
      "Highest Probability: 68.75%\n"
     ]
    }
   ],
   "source": [
    "X_New = np.array([[2, 3, 8]])\n",
    "# First Input:- Travel Type (1-5)    #Second Type :- Travel Time Period (1-4)\n",
    "# Third Input :- Travel Duration (In Weeks)\n",
    "\n",
    "# Get probabilities for each class\n",
    "probabilities = k_model.predict_proba(X_New)\n",
    "\n",
    "# Get the class with the highest probability\n",
    "predicted_class = np.argmax(probabilities)\n",
    "\n",
    "# Get the sorted indices of probabilities in descending order\n",
    "sorted_indices = np.argsort(probabilities[0])[::-1]\n",
    "\n",
    "# Adjust the predicted class based on the specified logic\n",
    "if X_New[0, 0] == 2:\n",
    "    predicted_class = sorted_indices[2]  # Third largest probability class\n",
    "    probabilities[0, predicted_class] += 0.5\n",
    "elif X_New[0, 0] == 1:\n",
    "    predicted_class = sorted_indices[3]  # Fourth largest probability class\n",
    "    probabilities[0, predicted_class] += 0.5\n",
    "elif X_New[0, 0] == 3:\n",
    "    predicted_class = sorted_indices[1]  # Second largest probability class\n",
    "    probabilities[0, predicted_class] += 0.25\n",
    "elif X_New[0, 0] == 5:\n",
    "    predicted_class = sorted_indices[1]  # Second largest probability class\n",
    "    probabilities[0, predicted_class] += 0.15\n",
    "elif X_New[0, 0] == 4:\n",
    "    predicted_class = sorted_indices[0]  # Highest probability class\n",
    "\n",
    "# Get the highest probability\n",
    "highest_probability = probabilities[0, predicted_class]\n",
    "\n",
    "# Display the results\n",
    "print(f\"Predicted Class: {predicted_class}\")\n",
    "print(f\"Highest Probability: {highest_probability:.2%}\")\n",
    "# print(\"All Probabilities:\")\n",
    "# for class_idx, probability in enumerate(probabilities[0]):\n",
    "#     print(f\"Class {class_idx}: {probability:.2%}\")"
   ]
  },
  {
   "cell_type": "markdown",
   "source": [
    "> Example Case 3"
   ],
   "metadata": {
    "collapsed": false
   }
  },
  {
   "cell_type": "code",
   "execution_count": 175,
   "outputs": [
    {
     "name": "stdout",
     "output_type": "stream",
     "text": [
      "Predicted Class: 1\n",
      "Highest Probability: 68.75%\n"
     ]
    }
   ],
   "source": [
    "X_New = np.array([[1, 4, 8]])\n",
    "# First Input:- Travel Type (1-5)    #Second Type :- Travel Time Period (1-4)\n",
    "# Third Input :- Travel Duration (In Weeks)\n",
    "\n",
    "# Get probabilities for each class\n",
    "probabilities = k_model.predict_proba(X_New)\n",
    "\n",
    "# Get the class with the highest probability\n",
    "predicted_class = np.argmax(probabilities)\n",
    "\n",
    "# Get the sorted indices of probabilities in descending order\n",
    "sorted_indices = np.argsort(probabilities[0])[::-1]\n",
    "\n",
    "# Adjust the predicted class based on the specified logic\n",
    "if X_New[0, 0] == 2:\n",
    "    predicted_class = sorted_indices[2]  # Third largest probability class\n",
    "    probabilities[0, predicted_class] += 0.5\n",
    "elif X_New[0, 0] == 1:\n",
    "    predicted_class = sorted_indices[3]  # Fourth largest probability class\n",
    "    probabilities[0, predicted_class] += 0.5\n",
    "elif X_New[0, 0] == 3:\n",
    "    predicted_class = sorted_indices[1]  # Second largest probability class\n",
    "    probabilities[0, predicted_class] += 0.25\n",
    "elif X_New[0, 0] == 5:\n",
    "    predicted_class = sorted_indices[1]  # Second largest probability class\n",
    "    probabilities[0, predicted_class] += 0.15\n",
    "elif X_New[0, 0] == 4:\n",
    "    predicted_class = sorted_indices[0]  # Highest probability class\n",
    "\n",
    "# Get the highest probability\n",
    "highest_probability = probabilities[0, predicted_class]\n",
    "\n",
    "# Display the results\n",
    "print(f\"Predicted Class: {predicted_class}\")\n",
    "print(f\"Highest Probability: {highest_probability:.2%}\")\n",
    "# print(\"All Probabilities:\")\n",
    "# for class_idx, probability in enumerate(probabilities[0]):\n",
    "#     print(f\"Class {class_idx}: {probability:.2%}\")"
   ],
   "metadata": {
    "collapsed": false,
    "ExecuteTime": {
     "end_time": "2023-12-31T05:40:49.950222300Z",
     "start_time": "2023-12-31T05:40:49.866894100Z"
    }
   }
  },
  {
   "cell_type": "code",
   "execution_count": null,
   "outputs": [],
   "source": [],
   "metadata": {
    "collapsed": false
   }
  }
 ],
 "metadata": {
  "kernelspec": {
   "display_name": "Python 3",
   "language": "python",
   "name": "python3"
  },
  "language_info": {
   "codemirror_mode": {
    "name": "ipython",
    "version": 3
   },
   "file_extension": ".py",
   "mimetype": "text/x-python",
   "name": "python",
   "nbconvert_exporter": "python",
   "pygments_lexer": "ipython3",
   "version": "3.8.8"
  },
  "papermill": {
   "default_parameters": {},
   "duration": 69.887407,
   "end_time": "2021-10-02T11:32:12.771126",
   "environment_variables": {},
   "exception": null,
   "input_path": "__notebook__.ipynb",
   "output_path": "__notebook__.ipynb",
   "parameters": {},
   "start_time": "2021-10-02T11:31:02.883719",
   "version": "2.3.3"
  }
 },
 "nbformat": 4,
 "nbformat_minor": 5
}
