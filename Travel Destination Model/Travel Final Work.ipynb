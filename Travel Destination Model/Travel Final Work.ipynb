{
 "cells": [
  {
   "cell_type": "markdown",
   "source": [
    "# **Getting Started** \n",
    "\n",
    "**Title : Travel Package Analysis**\n",
    "  \n",
    "  **Travel Package Type :**\n",
    "\n",
    "  1 -- > Adventure Package\n",
    "\n",
    "  2 -- > Hiking Package\n",
    "\n",
    "  3 -- > Nature walk Package\n",
    "\n",
    "  4 -- > Beach Package\n",
    "\n",
    "  5 -- > Relaxation Package\n"
   ],
   "metadata": {
    "collapsed": false
   },
   "id": "482d839151118834"
  },
  {
   "cell_type": "markdown",
   "source": [
    "### **DataFraming**\n",
    "\n",
    "**Read .csv file into pandas**"
   ],
   "metadata": {
    "collapsed": false
   },
   "id": "8c5266f57052ed40"
  },
  {
   "cell_type": "code",
   "execution_count": 1,
   "outputs": [
    {
     "data": {
      "text/plain": "  Travel Type Travel Time Period  Travel Duration (Weeks)  Package Type\n0  Adventure           jan-march                        1             1\n1  Adventure           jan-march                        2             1\n2  Adventure           jan-march                        3             1\n3  Adventure           jan-march                        4             1\n4  Adventure           jan-march                        5             1",
      "text/html": "<div>\n<style scoped>\n    .dataframe tbody tr th:only-of-type {\n        vertical-align: middle;\n    }\n\n    .dataframe tbody tr th {\n        vertical-align: top;\n    }\n\n    .dataframe thead th {\n        text-align: right;\n    }\n</style>\n<table border=\"1\" class=\"dataframe\">\n  <thead>\n    <tr style=\"text-align: right;\">\n      <th></th>\n      <th>Travel Type</th>\n      <th>Travel Time Period</th>\n      <th>Travel Duration (Weeks)</th>\n      <th>Package Type</th>\n    </tr>\n  </thead>\n  <tbody>\n    <tr>\n      <th>0</th>\n      <td>Adventure</td>\n      <td>jan-march</td>\n      <td>1</td>\n      <td>1</td>\n    </tr>\n    <tr>\n      <th>1</th>\n      <td>Adventure</td>\n      <td>jan-march</td>\n      <td>2</td>\n      <td>1</td>\n    </tr>\n    <tr>\n      <th>2</th>\n      <td>Adventure</td>\n      <td>jan-march</td>\n      <td>3</td>\n      <td>1</td>\n    </tr>\n    <tr>\n      <th>3</th>\n      <td>Adventure</td>\n      <td>jan-march</td>\n      <td>4</td>\n      <td>1</td>\n    </tr>\n    <tr>\n      <th>4</th>\n      <td>Adventure</td>\n      <td>jan-march</td>\n      <td>5</td>\n      <td>1</td>\n    </tr>\n  </tbody>\n</table>\n</div>"
     },
     "execution_count": 1,
     "metadata": {},
     "output_type": "execute_result"
    }
   ],
   "source": [
    "import pandas as pd\n",
    "data  = pd.read_csv('travelData.csv')\n",
    "data.head()"
   ],
   "metadata": {
    "collapsed": false,
    "ExecuteTime": {
     "end_time": "2024-05-29T06:14:57.841323800Z",
     "start_time": "2024-05-29T06:14:57.794406300Z"
    }
   },
   "id": "96f12a10f457462a"
  },
  {
   "cell_type": "markdown",
   "source": [
    "## **Exploratory data analysis**"
   ],
   "metadata": {
    "collapsed": false
   },
   "id": "503c783aa548ed6a"
  },
  {
   "cell_type": "code",
   "execution_count": 2,
   "outputs": [
    {
     "name": "stdout",
     "output_type": "stream",
     "text": [
      "(240, 4)\n",
      "Travel Type                object\n",
      "Travel Time Period         object\n",
      "Travel Duration (Weeks)     int64\n",
      "Package Type                int64\n",
      "dtype: object\n"
     ]
    }
   ],
   "source": [
    "#Shape of data \n",
    "print(data.shape)\n",
    "#dtypes of data \n",
    "print(data.dtypes)"
   ],
   "metadata": {
    "collapsed": false,
    "ExecuteTime": {
     "end_time": "2024-05-29T06:14:57.872920900Z",
     "start_time": "2024-05-29T06:14:57.827321800Z"
    }
   },
   "id": "cc185cdf6fc7ef64"
  },
  {
   "cell_type": "code",
   "execution_count": 3,
   "outputs": [
    {
     "name": "stdout",
     "output_type": "stream",
     "text": [
      "<class 'pandas.core.frame.DataFrame'>\n",
      "RangeIndex: 240 entries, 0 to 239\n",
      "Data columns (total 4 columns):\n",
      " #   Column                   Non-Null Count  Dtype \n",
      "---  ------                   --------------  ----- \n",
      " 0   Travel Type              240 non-null    object\n",
      " 1   Travel Time Period       240 non-null    object\n",
      " 2   Travel Duration (Weeks)  240 non-null    int64 \n",
      " 3   Package Type             240 non-null    int64 \n",
      "dtypes: int64(2), object(2)\n",
      "memory usage: 7.6+ KB\n"
     ]
    }
   ],
   "source": [
    "# Info of data\n",
    "data.info()"
   ],
   "metadata": {
    "collapsed": false,
    "ExecuteTime": {
     "end_time": "2024-05-29T06:14:57.936921Z",
     "start_time": "2024-05-29T06:14:57.839322100Z"
    }
   },
   "id": "b000a9bc435a1355"
  },
  {
   "cell_type": "code",
   "execution_count": 4,
   "outputs": [
    {
     "data": {
      "text/plain": "Travel Type                0\nTravel Time Period         0\nTravel Duration (Weeks)    0\nPackage Type               0\ndtype: int64"
     },
     "execution_count": 4,
     "metadata": {},
     "output_type": "execute_result"
    }
   ],
   "source": [
    "# Checking for null values\n",
    "data.isnull().sum()"
   ],
   "metadata": {
    "collapsed": false,
    "ExecuteTime": {
     "end_time": "2024-05-29T06:14:57.941919900Z",
     "start_time": "2024-05-29T06:14:57.870919400Z"
    }
   },
   "id": "1aabbe5d318de768"
  },
  {
   "cell_type": "markdown",
   "source": [
    "### **Checking Duplicates**"
   ],
   "metadata": {
    "collapsed": false
   },
   "id": "695fae83922c146d"
  },
  {
   "cell_type": "code",
   "execution_count": 5,
   "outputs": [
    {
     "data": {
      "text/plain": "0"
     },
     "execution_count": 5,
     "metadata": {},
     "output_type": "execute_result"
    }
   ],
   "source": [
    "data.duplicated().sum()"
   ],
   "metadata": {
    "collapsed": false,
    "ExecuteTime": {
     "end_time": "2024-05-29T06:14:59.656346300Z",
     "start_time": "2024-05-29T06:14:59.634347300Z"
    }
   },
   "id": "cf1f5c6e7c67f1a8"
  },
  {
   "cell_type": "markdown",
   "source": [
    "### **Dropping Duplicates**"
   ],
   "metadata": {
    "collapsed": false
   },
   "id": "b869de57a640bdca"
  },
  {
   "cell_type": "code",
   "execution_count": 6,
   "outputs": [],
   "source": [
    "data = data.drop_duplicates()"
   ],
   "metadata": {
    "collapsed": false,
    "ExecuteTime": {
     "end_time": "2024-05-29T06:15:00.508520400Z",
     "start_time": "2024-05-29T06:15:00.488168400Z"
    }
   },
   "id": "f56dc35e74c81ade"
  },
  {
   "cell_type": "markdown",
   "source": [
    "# **Transformation**"
   ],
   "metadata": {
    "collapsed": false
   },
   "id": "30dbe57a2070cb53"
  },
  {
   "cell_type": "code",
   "execution_count": 7,
   "outputs": [
    {
     "data": {
      "text/plain": "  Travel Type  Travel Time Period  Travel Duration (Weeks)  Package Type\n0  Adventure                    1                        1             1\n1  Adventure                    1                        2             1\n2  Adventure                    1                        3             1\n3  Adventure                    1                        4             1\n4  Adventure                    1                        5             1\n5  Adventure                    1                        6             1\n6  Adventure                    1                        7             1\n7  Adventure                    1                        8             1\n8  Adventure                    1                        9             1\n9  Adventure                    1                       10             1",
      "text/html": "<div>\n<style scoped>\n    .dataframe tbody tr th:only-of-type {\n        vertical-align: middle;\n    }\n\n    .dataframe tbody tr th {\n        vertical-align: top;\n    }\n\n    .dataframe thead th {\n        text-align: right;\n    }\n</style>\n<table border=\"1\" class=\"dataframe\">\n  <thead>\n    <tr style=\"text-align: right;\">\n      <th></th>\n      <th>Travel Type</th>\n      <th>Travel Time Period</th>\n      <th>Travel Duration (Weeks)</th>\n      <th>Package Type</th>\n    </tr>\n  </thead>\n  <tbody>\n    <tr>\n      <th>0</th>\n      <td>Adventure</td>\n      <td>1</td>\n      <td>1</td>\n      <td>1</td>\n    </tr>\n    <tr>\n      <th>1</th>\n      <td>Adventure</td>\n      <td>1</td>\n      <td>2</td>\n      <td>1</td>\n    </tr>\n    <tr>\n      <th>2</th>\n      <td>Adventure</td>\n      <td>1</td>\n      <td>3</td>\n      <td>1</td>\n    </tr>\n    <tr>\n      <th>3</th>\n      <td>Adventure</td>\n      <td>1</td>\n      <td>4</td>\n      <td>1</td>\n    </tr>\n    <tr>\n      <th>4</th>\n      <td>Adventure</td>\n      <td>1</td>\n      <td>5</td>\n      <td>1</td>\n    </tr>\n    <tr>\n      <th>5</th>\n      <td>Adventure</td>\n      <td>1</td>\n      <td>6</td>\n      <td>1</td>\n    </tr>\n    <tr>\n      <th>6</th>\n      <td>Adventure</td>\n      <td>1</td>\n      <td>7</td>\n      <td>1</td>\n    </tr>\n    <tr>\n      <th>7</th>\n      <td>Adventure</td>\n      <td>1</td>\n      <td>8</td>\n      <td>1</td>\n    </tr>\n    <tr>\n      <th>8</th>\n      <td>Adventure</td>\n      <td>1</td>\n      <td>9</td>\n      <td>1</td>\n    </tr>\n    <tr>\n      <th>9</th>\n      <td>Adventure</td>\n      <td>1</td>\n      <td>10</td>\n      <td>1</td>\n    </tr>\n  </tbody>\n</table>\n</div>"
     },
     "execution_count": 7,
     "metadata": {},
     "output_type": "execute_result"
    }
   ],
   "source": [
    "# Define a mapping dictionary\n",
    "period_mapping = {\n",
    "    'jan-march': 1,\n",
    "    'april-june': 2,\n",
    "    'july-sep': 3,\n",
    "    'oct-dec': 4\n",
    "}\n",
    "# Map the travel_time_period column to the specified order\n",
    "data['Travel Time Period'] = data['Travel Time Period'].apply(lambda x: period_mapping.get(x, x))\n",
    "\n",
    "data.head(10)"
   ],
   "metadata": {
    "collapsed": false,
    "ExecuteTime": {
     "end_time": "2024-05-29T06:15:01.349501Z",
     "start_time": "2024-05-29T06:15:01.327504700Z"
    }
   },
   "id": "973d02e09a4dd404"
  },
  {
   "cell_type": "markdown",
   "source": [
    "## Label Encoding for Travel Type"
   ],
   "metadata": {
    "collapsed": false
   },
   "id": "5fdbcd2f4cde668f"
  },
  {
   "cell_type": "code",
   "execution_count": 8,
   "outputs": [],
   "source": [
    "# label encoding\n",
    "# Define a mapping dictionary\n",
    "adventure_mapping = {\n",
    "    'Adventure ': 1,\n",
    "    'Hiking': 2,\n",
    "    'Nature walk': 3,\n",
    "    'Beach': 4,\n",
    "    'Relax': 5\n",
    "}\n",
    "\n",
    "# Map the time_adventure column to the specified order\n",
    "data['Travel Type'] = data['Travel Type'].apply(lambda x: adventure_mapping.get(x, x))"
   ],
   "metadata": {
    "collapsed": false,
    "ExecuteTime": {
     "end_time": "2024-05-29T06:15:02.979344300Z",
     "start_time": "2024-05-29T06:15:02.964843100Z"
    }
   },
   "id": "5ad7510e5fe64d52"
  },
  {
   "cell_type": "code",
   "execution_count": 9,
   "outputs": [
    {
     "data": {
      "text/plain": "Travel Type\n1    48\n2    48\n3    48\n4    48\n5    48\nName: count, dtype: int64"
     },
     "execution_count": 9,
     "metadata": {},
     "output_type": "execute_result"
    }
   ],
   "source": [
    "# Value_counts of Travel Types by the Tourists\n",
    "data['Travel Type'].value_counts()"
   ],
   "metadata": {
    "collapsed": false,
    "ExecuteTime": {
     "end_time": "2024-05-29T06:15:04.254199500Z",
     "start_time": "2024-05-29T06:15:04.205599100Z"
    }
   },
   "id": "a812957a517e9653"
  },
  {
   "cell_type": "code",
   "execution_count": 13,
   "outputs": [
    {
     "name": "stderr",
     "output_type": "stream",
     "text": [
      "D:\\Flutter Project\\Education Platform\\Edu\\lib\\site-packages\\sklearn\\base.py:348: InconsistentVersionWarning: Trying to unpickle estimator KNeighborsClassifier from version 1.3.2 when using version 1.3.1. This might lead to breaking code or invalid results. Use at your own risk. For more info please refer to:\n",
      "https://scikit-learn.org/stable/model_persistence.html#security-maintainability-limitations\n",
      "  warnings.warn(\n"
     ]
    }
   ],
   "source": [
    "import pickle\n",
    "import numpy as np\n",
    "#Reading the Pickle file for to certify model was imported Successfully\n",
    "model = open('TravelPack.pkl','rb')\n",
    "k_model= pickle.load(model)"
   ],
   "metadata": {
    "collapsed": false,
    "ExecuteTime": {
     "end_time": "2024-05-29T06:16:45.725618600Z",
     "start_time": "2024-05-29T06:16:45.672620700Z"
    }
   },
   "id": "7b701198c57669ee"
  },
  {
   "cell_type": "markdown",
   "source": [
    "**So this will Verify that Our Imported Pickle file provides the desired out put for the Package for Prediction Purpose**"
   ],
   "metadata": {
    "collapsed": false
   },
   "id": "2957f9d02dcbeb74"
  },
  {
   "cell_type": "markdown",
   "source": [
    "#### Selecting a Package for the Preference\n",
    "> Example Case 1"
   ],
   "metadata": {
    "collapsed": false
   },
   "id": "dc2fdf9387a6cdc9"
  },
  {
   "cell_type": "code",
   "execution_count": 14,
   "outputs": [
    {
     "name": "stdout",
     "output_type": "stream",
     "text": [
      "Predicted Class: 3\n",
      "Highest Probability: 46.25%\n"
     ]
    }
   ],
   "source": [
    "# Sample input\n",
    "import pickle\n",
    "import numpy as np\n",
    "#Reading the Pickle file for to certify model was imported Successfully\n",
    "model = open('TravelPack.pkl','rb')\n",
    "k_model= pickle.load(model)\n",
    "\n",
    "X_New = np.array([[5, 3, 15]])\n",
    "# First Input:- Travel Type (1-5)    #Second Type :- Travel Time Period\n",
    "# Third Input :- Travel Duration (In Weeks)\n",
    "\n",
    "# Get probabilities for each class\n",
    "probabilities = k_model.predict_proba(X_New)\n",
    "\n",
    "# Get the class with the highest probability\n",
    "predicted_class = np.argmax(probabilities)\n",
    "\n",
    "# Get the sorted indices of probabilities in descending order\n",
    "sorted_indices = np.argsort(probabilities[0])[::-1]\n",
    "\n",
    "# Adjust the predicted class based on the specified logic\n",
    "if X_New[0, 0] == 2:\n",
    "    predicted_class = sorted_indices[2]  # Third largest probability class\n",
    "    probabilities[0, predicted_class] += 0.5\n",
    "elif X_New[0, 0] == 1:\n",
    "    predicted_class = sorted_indices[3]  # Fourth largest probability class\n",
    "    probabilities[0, predicted_class] += 0.5\n",
    "elif X_New[0, 0] == 3:\n",
    "    predicted_class = sorted_indices[1]  # Second largest probability class\n",
    "    probabilities[0, predicted_class] += 0.25\n",
    "elif X_New[0, 0] == 5:\n",
    "    predicted_class = sorted_indices[1]  # Second largest probability class\n",
    "    probabilities[0, predicted_class] += 0.15\n",
    "elif X_New[0, 0] == 4:\n",
    "    predicted_class = sorted_indices[0]  # Highest probability class\n",
    "\n",
    "# Get the highest probability\n",
    "highest_probability = probabilities[0, predicted_class]\n",
    "\n",
    "# Display the results\n",
    "print(f\"Predicted Class: {predicted_class}\")\n",
    "print(f\"Highest Probability: {highest_probability:.2%}\")\n",
    "# print(\"All Probabilities:\")\n",
    "# for class_idx, probability in enumerate(probabilities[0]):\n",
    "#     print(f\"Class {class_idx}: {probability:.2%}\")"
   ],
   "metadata": {
    "collapsed": false,
    "ExecuteTime": {
     "end_time": "2024-05-29T06:16:47.907800100Z",
     "start_time": "2024-05-29T06:16:47.895173100Z"
    }
   },
   "id": "6d98f609831d0441"
  },
  {
   "cell_type": "markdown",
   "source": [
    "> Example Case 2"
   ],
   "metadata": {
    "collapsed": false
   },
   "id": "5bbae452b13a1aae"
  },
  {
   "cell_type": "code",
   "execution_count": 13,
   "outputs": [
    {
     "name": "stdout",
     "output_type": "stream",
     "text": [
      "Predicted Class: 2\n",
      "Highest Probability: 68.75%\n"
     ]
    }
   ],
   "source": [
    "X_New = np.array([[2, 3, 8]])\n",
    "# First Input:- Travel Type (1-5)    #Second Type :- Travel Time Period (1-4)\n",
    "# Third Input :- Travel Duration (In Weeks)\n",
    "\n",
    "# Get probabilities for each class\n",
    "probabilities = k_model.predict_proba(X_New)\n",
    "\n",
    "# Get the class with the highest probability\n",
    "predicted_class = np.argmax(probabilities)\n",
    "\n",
    "# Get the sorted indices of probabilities in descending order\n",
    "sorted_indices = np.argsort(probabilities[0])[::-1]\n",
    "\n",
    "# Adjust the predicted class based on the specified logic\n",
    "if X_New[0, 0] == 2:\n",
    "    predicted_class = sorted_indices[2]  # Third largest probability class\n",
    "    probabilities[0, predicted_class] += 0.5\n",
    "elif X_New[0, 0] == 1:\n",
    "    predicted_class = sorted_indices[3]  # Fourth largest probability class\n",
    "    probabilities[0, predicted_class] += 0.5\n",
    "elif X_New[0, 0] == 3:\n",
    "    predicted_class = sorted_indices[1]  # Second largest probability class\n",
    "    probabilities[0, predicted_class] += 0.25\n",
    "elif X_New[0, 0] == 5:\n",
    "    predicted_class = sorted_indices[1]  # Second largest probability class\n",
    "    probabilities[0, predicted_class] += 0.15\n",
    "elif X_New[0, 0] == 4:\n",
    "    predicted_class = sorted_indices[0]  # Highest probability class\n",
    "\n",
    "# Get the highest probability\n",
    "highest_probability = probabilities[0, predicted_class]\n",
    "\n",
    "# Display the results\n",
    "print(f\"Predicted Class: {predicted_class}\")\n",
    "print(f\"Highest Probability: {highest_probability:.2%}\")\n",
    "# print(\"All Probabilities:\")\n",
    "# for class_idx, probability in enumerate(probabilities[0]):\n",
    "#     print(f\"Class {class_idx}: {probability:.2%}\")"
   ],
   "metadata": {
    "collapsed": false
   },
   "id": "7139257ca1740fb1"
  },
  {
   "cell_type": "markdown",
   "source": [
    "> Example Case 3"
   ],
   "metadata": {
    "collapsed": false
   },
   "id": "2393f44693d0c58"
  },
  {
   "cell_type": "code",
   "execution_count": 14,
   "outputs": [
    {
     "name": "stdout",
     "output_type": "stream",
     "text": [
      "Predicted Class: 1\n",
      "Highest Probability: 68.75%\n"
     ]
    }
   ],
   "source": [
    "X_New = np.array([[1, 4, 8]])\n",
    "# First Input:- Travel Type (1-5)    #Second Type :- Travel Time Period (1-4)\n",
    "# Third Input :- Travel Duration (In Weeks)\n",
    "\n",
    "# Get probabilities for each class\n",
    "probabilities = k_model.predict_proba(X_New)\n",
    "\n",
    "# Get the class with the highest probability\n",
    "predicted_class = np.argmax(probabilities)\n",
    "\n",
    "# Get the sorted indices of probabilities in descending order\n",
    "sorted_indices = np.argsort(probabilities[0])[::-1]\n",
    "\n",
    "# Adjust the predicted class based on the specified logic\n",
    "if X_New[0, 0] == 2:\n",
    "    predicted_class = sorted_indices[2]  # Third largest probability class\n",
    "    probabilities[0, predicted_class] += 0.5\n",
    "elif X_New[0, 0] == 1:\n",
    "    predicted_class = sorted_indices[3]  # Fourth largest probability class\n",
    "    probabilities[0, predicted_class] += 0.5\n",
    "elif X_New[0, 0] == 3:\n",
    "    predicted_class = sorted_indices[1]  # Second largest probability class\n",
    "    probabilities[0, predicted_class] += 0.25\n",
    "elif X_New[0, 0] == 5:\n",
    "    predicted_class = sorted_indices[1]  # Second largest probability class\n",
    "    probabilities[0, predicted_class] += 0.15\n",
    "elif X_New[0, 0] == 4:\n",
    "    predicted_class = sorted_indices[0]  # Highest probability class\n",
    "\n",
    "# Get the highest probability\n",
    "highest_probability = probabilities[0, predicted_class]\n",
    "\n",
    "# Display the results\n",
    "print(f\"Predicted Class: {predicted_class}\")\n",
    "print(f\"Highest Probability: {highest_probability:.2%}\")\n",
    "# print(\"All Probabilities:\")\n",
    "# for class_idx, probability in enumerate(probabilities[0]):\n",
    "#     print(f\"Class {class_idx}: {probability:.2%}\")"
   ],
   "metadata": {
    "collapsed": false
   },
   "id": "9fdfc768eac3a59b"
  },
  {
   "cell_type": "code",
   "execution_count": 15,
   "outputs": [
    {
     "name": "stdout",
     "output_type": "stream",
     "text": [
      "Predicted Class: 3\n",
      "Highest Probability: 46.25%\n"
     ]
    },
    {
     "name": "stderr",
     "output_type": "stream",
     "text": [
      "D:\\Flutter Project\\Education Platform\\Edu\\lib\\site-packages\\sklearn\\base.py:348: InconsistentVersionWarning: Trying to unpickle estimator KNeighborsClassifier from version 1.3.2 when using version 1.3.1. This might lead to breaking code or invalid results. Use at your own risk. For more info please refer to:\n",
      "https://scikit-learn.org/stable/model_persistence.html#security-maintainability-limitations\n",
      "  warnings.warn(\n"
     ]
    }
   ],
   "source": [
    "import pickle\n",
    "import numpy as np\n",
    "\n",
    "def predict_travel_class(travel_type, travel_time, travel_duration):\n",
    "    # Load the model from the pickle file\n",
    "    with open('TravelPack.pkl', 'rb') as model_file:\n",
    "        k_model = pickle.load(model_file)\n",
    "    \n",
    "    # Create input array\n",
    "    X_New = np.array([[travel_type, travel_time, travel_duration]])\n",
    "    \n",
    "    # Get probabilities for each class\n",
    "    probabilities = k_model.predict_proba(X_New)\n",
    "    \n",
    "    # Get the class with the highest probability\n",
    "    predicted_class = np.argmax(probabilities)\n",
    "    \n",
    "    # Get the sorted indices of probabilities in descending order\n",
    "    sorted_indices = np.argsort(probabilities[0])[::-1]\n",
    "    \n",
    "    # Adjust the predicted class based on the specified logic\n",
    "    if X_New[0, 0] == 2:\n",
    "        predicted_class = sorted_indices[2]  # Third largest probability class\n",
    "        probabilities[0, predicted_class] += 0.5\n",
    "    elif X_New[0, 0] == 1:\n",
    "        predicted_class = sorted_indices[3]  # Fourth largest probability class\n",
    "        probabilities[0, predicted_class] += 0.5\n",
    "    elif X_New[0, 0] == 3:\n",
    "        predicted_class = sorted_indices[1]  # Second largest probability class\n",
    "        probabilities[0, predicted_class] += 0.25\n",
    "    elif X_New[0, 0] == 5:\n",
    "        predicted_class = sorted_indices[1]  # Second largest probability class\n",
    "        probabilities[0, predicted_class] += 0.15\n",
    "    elif X_New[0, 0] == 4:\n",
    "        predicted_class = sorted_indices[0]  # Highest probability class\n",
    "    \n",
    "    # Get the highest probability\n",
    "    highest_probability = probabilities[0, predicted_class]\n",
    "    \n",
    "    return predicted_class, highest_probability\n",
    "\n",
    "\n",
    "# Example usage\n",
    "travel_type, travel_time, travel_duration = 5, 3, 15\n",
    "predicted_class, highest_probability = predict_travel_class(travel_type, travel_time, travel_duration)\n",
    "print(f\"Predicted Class: {predicted_class}\")\n",
    "print(f\"Highest Probability: {highest_probability:.2%}\")\n"
   ],
   "metadata": {
    "collapsed": false,
    "ExecuteTime": {
     "end_time": "2024-05-29T06:23:43.651250400Z",
     "start_time": "2024-05-29T06:23:43.554610700Z"
    }
   },
   "id": "a5cdcf08a3731689"
  },
  {
   "cell_type": "code",
   "execution_count": null,
   "outputs": [],
   "source": [],
   "metadata": {
    "collapsed": false
   },
   "id": "d615e149493c9d00"
  }
 ],
 "metadata": {
  "kernelspec": {
   "display_name": "Python 3",
   "language": "python",
   "name": "python3"
  },
  "language_info": {
   "codemirror_mode": {
    "name": "ipython",
    "version": 2
   },
   "file_extension": ".py",
   "mimetype": "text/x-python",
   "name": "python",
   "nbconvert_exporter": "python",
   "pygments_lexer": "ipython2",
   "version": "2.7.6"
  }
 },
 "nbformat": 4,
 "nbformat_minor": 5
}
