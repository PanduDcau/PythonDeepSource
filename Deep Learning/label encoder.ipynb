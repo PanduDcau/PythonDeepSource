{
 "cells": [
  {
   "cell_type": "code",
   "execution_count": 1,
   "metadata": {},
   "outputs": [],
   "source": [
    "import pandas as pd\n",
    "import numpy as np"
   ]
  },
  {
   "cell_type": "code",
   "execution_count": 2,
   "metadata": {},
   "outputs": [
    {
     "data": {
      "text/html": [
       "<div>\n",
       "<style scoped>\n",
       "    .dataframe tbody tr th:only-of-type {\n",
       "        vertical-align: middle;\n",
       "    }\n",
       "\n",
       "    .dataframe tbody tr th {\n",
       "        vertical-align: top;\n",
       "    }\n",
       "\n",
       "    .dataframe thead th {\n",
       "        text-align: right;\n",
       "    }\n",
       "</style>\n",
       "<table border=\"1\" class=\"dataframe\">\n",
       "  <thead>\n",
       "    <tr style=\"text-align: right;\">\n",
       "      <th></th>\n",
       "      <th>age</th>\n",
       "      <th>workclass</th>\n",
       "      <th>fnlwgt</th>\n",
       "      <th>education</th>\n",
       "      <th>education-num</th>\n",
       "      <th>marital-status</th>\n",
       "      <th>occupation</th>\n",
       "      <th>relationship</th>\n",
       "      <th>race</th>\n",
       "      <th>sex</th>\n",
       "      <th>capital-gain</th>\n",
       "      <th>capital-loss</th>\n",
       "      <th>hours-per-week</th>\n",
       "      <th>native-country</th>\n",
       "      <th>income</th>\n",
       "    </tr>\n",
       "  </thead>\n",
       "  <tbody>\n",
       "    <tr>\n",
       "      <th>0</th>\n",
       "      <td>39</td>\n",
       "      <td>State-gov</td>\n",
       "      <td>77516</td>\n",
       "      <td>Bachelors</td>\n",
       "      <td>13</td>\n",
       "      <td>Never-married</td>\n",
       "      <td>Adm-clerical</td>\n",
       "      <td>Not-in-family</td>\n",
       "      <td>White</td>\n",
       "      <td>Male</td>\n",
       "      <td>2174</td>\n",
       "      <td>0</td>\n",
       "      <td>40</td>\n",
       "      <td>United-States</td>\n",
       "      <td>&lt;=50K</td>\n",
       "    </tr>\n",
       "    <tr>\n",
       "      <th>1</th>\n",
       "      <td>50</td>\n",
       "      <td>Self-emp-not-inc</td>\n",
       "      <td>83311</td>\n",
       "      <td>Bachelors</td>\n",
       "      <td>13</td>\n",
       "      <td>Married-civ-spouse</td>\n",
       "      <td>Exec-managerial</td>\n",
       "      <td>Husband</td>\n",
       "      <td>White</td>\n",
       "      <td>Male</td>\n",
       "      <td>0</td>\n",
       "      <td>0</td>\n",
       "      <td>13</td>\n",
       "      <td>United-States</td>\n",
       "      <td>&lt;=50K</td>\n",
       "    </tr>\n",
       "    <tr>\n",
       "      <th>2</th>\n",
       "      <td>38</td>\n",
       "      <td>Private</td>\n",
       "      <td>215646</td>\n",
       "      <td>HS-grad</td>\n",
       "      <td>9</td>\n",
       "      <td>Divorced</td>\n",
       "      <td>Handlers-cleaners</td>\n",
       "      <td>Not-in-family</td>\n",
       "      <td>White</td>\n",
       "      <td>Male</td>\n",
       "      <td>0</td>\n",
       "      <td>0</td>\n",
       "      <td>40</td>\n",
       "      <td>United-States</td>\n",
       "      <td>&lt;=50K</td>\n",
       "    </tr>\n",
       "    <tr>\n",
       "      <th>3</th>\n",
       "      <td>53</td>\n",
       "      <td>Private</td>\n",
       "      <td>234721</td>\n",
       "      <td>11th</td>\n",
       "      <td>7</td>\n",
       "      <td>Married-civ-spouse</td>\n",
       "      <td>Handlers-cleaners</td>\n",
       "      <td>Husband</td>\n",
       "      <td>Black</td>\n",
       "      <td>Male</td>\n",
       "      <td>0</td>\n",
       "      <td>0</td>\n",
       "      <td>40</td>\n",
       "      <td>United-States</td>\n",
       "      <td>&lt;=50K</td>\n",
       "    </tr>\n",
       "    <tr>\n",
       "      <th>4</th>\n",
       "      <td>28</td>\n",
       "      <td>Private</td>\n",
       "      <td>338409</td>\n",
       "      <td>Bachelors</td>\n",
       "      <td>13</td>\n",
       "      <td>Married-civ-spouse</td>\n",
       "      <td>Prof-specialty</td>\n",
       "      <td>Wife</td>\n",
       "      <td>Black</td>\n",
       "      <td>Female</td>\n",
       "      <td>0</td>\n",
       "      <td>0</td>\n",
       "      <td>40</td>\n",
       "      <td>Cuba</td>\n",
       "      <td>&lt;=50K</td>\n",
       "    </tr>\n",
       "  </tbody>\n",
       "</table>\n",
       "</div>"
      ],
      "text/plain": [
       "   age          workclass   fnlwgt   education   education-num  \\\n",
       "0   39          State-gov    77516   Bachelors              13   \n",
       "1   50   Self-emp-not-inc    83311   Bachelors              13   \n",
       "2   38            Private   215646     HS-grad               9   \n",
       "3   53            Private   234721        11th               7   \n",
       "4   28            Private   338409   Bachelors              13   \n",
       "\n",
       "        marital-status          occupation    relationship    race      sex  \\\n",
       "0        Never-married        Adm-clerical   Not-in-family   White     Male   \n",
       "1   Married-civ-spouse     Exec-managerial         Husband   White     Male   \n",
       "2             Divorced   Handlers-cleaners   Not-in-family   White     Male   \n",
       "3   Married-civ-spouse   Handlers-cleaners         Husband   Black     Male   \n",
       "4   Married-civ-spouse      Prof-specialty            Wife   Black   Female   \n",
       "\n",
       "    capital-gain   capital-loss   hours-per-week  native-country  income  \n",
       "0           2174              0               40   United-States   <=50K  \n",
       "1              0              0               13   United-States   <=50K  \n",
       "2              0              0               40   United-States   <=50K  \n",
       "3              0              0               40   United-States   <=50K  \n",
       "4              0              0               40            Cuba   <=50K  "
      ]
     },
     "execution_count": 2,
     "metadata": {},
     "output_type": "execute_result"
    }
   ],
   "source": [
    "df = pd.read_csv('data/income_evaluation.csv')\n",
    "df.head()"
   ]
  },
  {
   "cell_type": "code",
   "execution_count": 28,
   "metadata": {},
   "outputs": [
    {
     "data": {
      "text/plain": [
       "Index(['age', ' workclass', ' fnlwgt', ' education', ' education-num',\n",
       "       ' marital-status', ' occupation', ' relationship', ' race', ' sex',\n",
       "       ' capital-gain', ' capital-loss', ' hours-per-week', ' native-country',\n",
       "       ' income'],\n",
       "      dtype='object')"
      ]
     },
     "execution_count": 28,
     "metadata": {},
     "output_type": "execute_result"
    }
   ],
   "source": [
    "df.columns"
   ]
  },
  {
   "cell_type": "code",
   "execution_count": 25,
   "metadata": {},
   "outputs": [
    {
     "data": {
      "text/plain": [
       " <=50K    24720\n",
       " >50K      7841\n",
       "Name:  income, dtype: int64"
      ]
     },
     "execution_count": 25,
     "metadata": {},
     "output_type": "execute_result"
    }
   ],
   "source": [
    "df[' income'].value_counts()"
   ]
  },
  {
   "cell_type": "code",
   "execution_count": 26,
   "metadata": {},
   "outputs": [],
   "source": [
    "from sklearn.model_selection import train_test_split"
   ]
  },
  {
   "cell_type": "code",
   "execution_count": 29,
   "metadata": {},
   "outputs": [],
   "source": [
    "X_train, X_test, y_train, y_test = train_test_split(df.drop(' income', axis=1), df[' income'],\n",
    "                                                   test_size=0.2, random_state=0)"
   ]
  },
  {
   "cell_type": "code",
   "execution_count": 30,
   "metadata": {},
   "outputs": [],
   "source": [
    "from sklearn.preprocessing import LabelEncoder"
   ]
  },
  {
   "cell_type": "code",
   "execution_count": 31,
   "metadata": {},
   "outputs": [],
   "source": [
    "le = LabelEncoder()"
   ]
  },
  {
   "cell_type": "code",
   "execution_count": 32,
   "metadata": {},
   "outputs": [
    {
     "data": {
      "text/plain": [
       "LabelEncoder()"
      ]
     },
     "execution_count": 32,
     "metadata": {},
     "output_type": "execute_result"
    }
   ],
   "source": [
    "le.fit(y_train)"
   ]
  },
  {
   "cell_type": "code",
   "execution_count": 33,
   "metadata": {},
   "outputs": [
    {
     "data": {
      "text/plain": [
       "array([' <=50K', ' >50K'], dtype=object)"
      ]
     },
     "execution_count": 33,
     "metadata": {},
     "output_type": "execute_result"
    }
   ],
   "source": [
    "le.classes_"
   ]
  },
  {
   "cell_type": "code",
   "execution_count": 37,
   "metadata": {
    "scrolled": true
   },
   "outputs": [
    {
     "data": {
      "text/plain": [
       "15282     <=50K\n",
       "24870     <=50K\n",
       "18822     <=50K\n",
       "26404     <=50K\n",
       "7842      <=50K\n",
       "4890      <=50K\n",
       "3243      <=50K\n",
       "17470     <=50K\n",
       "14211     <=50K\n",
       "22453     <=50K\n",
       "631       <=50K\n",
       "29051     <=50K\n",
       "21478     <=50K\n",
       "26565     <=50K\n",
       "25140     <=50K\n",
       "15497      >50K\n",
       "14689     <=50K\n",
       "18726     <=50K\n",
       "28105     <=50K\n",
       "6965      <=50K\n",
       "4343       >50K\n",
       "24308     <=50K\n",
       "11380     <=50K\n",
       "26087     <=50K\n",
       "5679      <=50K\n",
       "13019     <=50K\n",
       "24049      >50K\n",
       "32119      >50K\n",
       "25586      >50K\n",
       "26959     <=50K\n",
       "          ...  \n",
       "6216       >50K\n",
       "27469     <=50K\n",
       "16921     <=50K\n",
       "26277      >50K\n",
       "2897      <=50K\n",
       "24152     <=50K\n",
       "18606     <=50K\n",
       "10327      >50K\n",
       "18983     <=50K\n",
       "32230      >50K\n",
       "17089     <=50K\n",
       "14650      >50K\n",
       "19852     <=50K\n",
       "6744      <=50K\n",
       "15832      >50K\n",
       "15430     <=50K\n",
       "14935     <=50K\n",
       "14116     <=50K\n",
       "22258     <=50K\n",
       "20757     <=50K\n",
       "24275     <=50K\n",
       "9225      <=50K\n",
       "32103     <=50K\n",
       "30403     <=50K\n",
       "21243     <=50K\n",
       "13123      >50K\n",
       "19648     <=50K\n",
       "9845      <=50K\n",
       "10799      >50K\n",
       "2732      <=50K\n",
       "Name:  income, Length: 26048, dtype: object"
      ]
     },
     "execution_count": 37,
     "metadata": {},
     "output_type": "execute_result"
    }
   ],
   "source": [
    "y_train"
   ]
  },
  {
   "cell_type": "code",
   "execution_count": 35,
   "metadata": {
    "scrolled": true
   },
   "outputs": [
    {
     "data": {
      "text/plain": [
       "0        0\n",
       "1        0\n",
       "2        0\n",
       "3        0\n",
       "4        0\n",
       "5        0\n",
       "6        0\n",
       "7        0\n",
       "8        0\n",
       "9        0\n",
       "10       0\n",
       "11       0\n",
       "12       0\n",
       "13       0\n",
       "14       0\n",
       "15       1\n",
       "16       0\n",
       "17       0\n",
       "18       0\n",
       "19       0\n",
       "20       1\n",
       "21       0\n",
       "22       0\n",
       "23       0\n",
       "24       0\n",
       "25       0\n",
       "26       1\n",
       "27       1\n",
       "28       1\n",
       "29       0\n",
       "        ..\n",
       "26018    1\n",
       "26019    0\n",
       "26020    0\n",
       "26021    1\n",
       "26022    0\n",
       "26023    0\n",
       "26024    0\n",
       "26025    1\n",
       "26026    0\n",
       "26027    1\n",
       "26028    0\n",
       "26029    1\n",
       "26030    0\n",
       "26031    0\n",
       "26032    1\n",
       "26033    0\n",
       "26034    0\n",
       "26035    0\n",
       "26036    0\n",
       "26037    0\n",
       "26038    0\n",
       "26039    0\n",
       "26040    0\n",
       "26041    0\n",
       "26042    0\n",
       "26043    1\n",
       "26044    0\n",
       "26045    0\n",
       "26046    1\n",
       "26047    0\n",
       "Length: 26048, dtype: int32"
      ]
     },
     "execution_count": 35,
     "metadata": {},
     "output_type": "execute_result"
    }
   ],
   "source": [
    "pd.Series(le.transform(y_train))"
   ]
  },
  {
   "cell_type": "code",
   "execution_count": 38,
   "metadata": {},
   "outputs": [
    {
     "data": {
      "text/plain": [
       "array([0, 0, 0, ..., 1, 0, 1])"
      ]
     },
     "execution_count": 38,
     "metadata": {},
     "output_type": "execute_result"
    }
   ],
   "source": [
    "le.transform(y_test)"
   ]
  },
  {
   "cell_type": "code",
   "execution_count": 41,
   "metadata": {
    "scrolled": true
   },
   "outputs": [
    {
     "data": {
      "text/plain": [
       "15282     United-States\n",
       "24870     United-States\n",
       "18822     United-States\n",
       "26404     United-States\n",
       "7842      United-States\n",
       "4890      United-States\n",
       "3243             Mexico\n",
       "17470     United-States\n",
       "14211     United-States\n",
       "22453     United-States\n",
       "631       United-States\n",
       "29051     United-States\n",
       "21478     United-States\n",
       "26565     United-States\n",
       "25140     United-States\n",
       "15497     United-States\n",
       "14689     United-States\n",
       "18726            Mexico\n",
       "28105     United-States\n",
       "6965      United-States\n",
       "4343      United-States\n",
       "24308     United-States\n",
       "11380     United-States\n",
       "26087           Ireland\n",
       "5679      United-States\n",
       "13019     United-States\n",
       "24049     United-States\n",
       "32119     United-States\n",
       "25586     United-States\n",
       "26959     United-States\n",
       "              ...      \n",
       "6216      United-States\n",
       "27469     United-States\n",
       "16921     United-States\n",
       "26277           England\n",
       "2897      United-States\n",
       "24152     United-States\n",
       "18606         Nicaragua\n",
       "10327     United-States\n",
       "18983     United-States\n",
       "32230     United-States\n",
       "17089     United-States\n",
       "14650     United-States\n",
       "19852     United-States\n",
       "6744      United-States\n",
       "15832     United-States\n",
       "15430     United-States\n",
       "14935     United-States\n",
       "14116     United-States\n",
       "22258     United-States\n",
       "20757     United-States\n",
       "24275     United-States\n",
       "9225            England\n",
       "32103     United-States\n",
       "30403     United-States\n",
       "21243     United-States\n",
       "13123     United-States\n",
       "19648     United-States\n",
       "9845      United-States\n",
       "10799     United-States\n",
       "2732      United-States\n",
       "Name:  native-country, Length: 26048, dtype: object"
      ]
     },
     "execution_count": 41,
     "metadata": {},
     "output_type": "execute_result"
    }
   ],
   "source": [
    "X_train[' native-country']"
   ]
  },
  {
   "cell_type": "code",
   "execution_count": 40,
   "metadata": {},
   "outputs": [
    {
     "data": {
      "text/plain": [
       "array([39, 39, 39, ..., 39, 39, 39])"
      ]
     },
     "execution_count": 40,
     "metadata": {},
     "output_type": "execute_result"
    }
   ],
   "source": [
    "le1 = LabelEncoder()\n",
    "le1.fit_transform(X_train[' native-country'])"
   ]
  },
  {
   "cell_type": "code",
   "execution_count": 42,
   "metadata": {},
   "outputs": [
    {
     "data": {
      "text/plain": [
       "0        39\n",
       "1        39\n",
       "2        39\n",
       "3        39\n",
       "4        39\n",
       "5        39\n",
       "6        26\n",
       "7        39\n",
       "8        39\n",
       "9        39\n",
       "10       39\n",
       "11       39\n",
       "12       39\n",
       "13       39\n",
       "14       39\n",
       "15       39\n",
       "16       39\n",
       "17       26\n",
       "18       39\n",
       "19       39\n",
       "20       39\n",
       "21       39\n",
       "22       39\n",
       "23       21\n",
       "24       39\n",
       "25       39\n",
       "26       39\n",
       "27       39\n",
       "28       39\n",
       "29       39\n",
       "         ..\n",
       "26018    39\n",
       "26019    39\n",
       "26020    39\n",
       "26021     9\n",
       "26022    39\n",
       "26023    39\n",
       "26024    27\n",
       "26025    39\n",
       "26026    39\n",
       "26027    39\n",
       "26028    39\n",
       "26029    39\n",
       "26030    39\n",
       "26031    39\n",
       "26032    39\n",
       "26033    39\n",
       "26034    39\n",
       "26035    39\n",
       "26036    39\n",
       "26037    39\n",
       "26038    39\n",
       "26039     9\n",
       "26040    39\n",
       "26041    39\n",
       "26042    39\n",
       "26043    39\n",
       "26044    39\n",
       "26045    39\n",
       "26046    39\n",
       "26047    39\n",
       "Length: 26048, dtype: int32"
      ]
     },
     "execution_count": 42,
     "metadata": {},
     "output_type": "execute_result"
    }
   ],
   "source": [
    "pd.Series(le1.fit_transform(X_train[' native-country']))"
   ]
  }
 ],
 "metadata": {
  "kernelspec": {
   "display_name": "Python 3",
   "language": "python",
   "name": "python3"
  },
  "language_info": {
   "codemirror_mode": {
    "name": "ipython",
    "version": 3
   },
   "file_extension": ".py",
   "mimetype": "text/x-python",
   "name": "python",
   "nbconvert_exporter": "python",
   "pygments_lexer": "ipython3",
   "version": "3.7.3"
  }
 },
 "nbformat": 4,
 "nbformat_minor": 2
}
