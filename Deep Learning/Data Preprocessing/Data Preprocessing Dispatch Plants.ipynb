{
 "cells": [
  {
   "cell_type": "markdown",
   "id": "47b79471",
   "metadata": {},
   "source": [
    "## 1) Spark Initializing"
   ]
  },
  {
   "cell_type": "code",
   "execution_count": 1,
   "id": "e2711bec",
   "metadata": {},
   "outputs": [],
   "source": [
    "import findspark\n",
    "findspark.init()\n",
    "import pyspark\n",
    "import pandas as pd\n",
    "import seaborn as sns # To get graphs\n",
    "import matplotlib.pyplot as plt # To get graphs"
   ]
  },
  {
   "cell_type": "code",
   "execution_count": 2,
   "id": "827dbabf",
   "metadata": {},
   "outputs": [],
   "source": [
    "#### First we have create a spark session\n",
    "from pyspark.sql import SparkSession\n",
    "spark = SparkSession.builder.master(\"local[1]\") \\\n",
    "                    .appName('Preprocessing') \\\n",
    "                    .getOrCreate()"
   ]
  },
  {
   "cell_type": "markdown",
   "id": "a2e2c41c",
   "metadata": {},
   "source": [
    "## 2) Importing Data"
   ]
  },
  {
   "cell_type": "code",
   "execution_count": 12,
   "id": "c552186d",
   "metadata": {},
   "outputs": [],
   "source": [
    "df = pd.read_csv(\"/Users/Asus/Documents/InternCsv/Summation_Dispatch.csv\",index_col=False)"
   ]
  },
  {
   "cell_type": "code",
   "execution_count": 13,
   "id": "02f2b28d",
   "metadata": {},
   "outputs": [
    {
     "data": {
      "text/html": [
       "<div>\n",
       "<style scoped>\n",
       "    .dataframe tbody tr th:only-of-type {\n",
       "        vertical-align: middle;\n",
       "    }\n",
       "\n",
       "    .dataframe tbody tr th {\n",
       "        vertical-align: top;\n",
       "    }\n",
       "\n",
       "    .dataframe thead th {\n",
       "        text-align: right;\n",
       "    }\n",
       "</style>\n",
       "<table border=\"1\" class=\"dataframe\">\n",
       "  <thead>\n",
       "    <tr style=\"text-align: right;\">\n",
       "      <th></th>\n",
       "      <th>Unnamed: 0</th>\n",
       "      <th>Plant</th>\n",
       "      <th>Actual_Dispatch</th>\n",
       "      <th>Forecasted_Dispatch</th>\n",
       "      <th>DispatchDiff</th>\n",
       "    </tr>\n",
       "  </thead>\n",
       "  <tbody>\n",
       "    <tr>\n",
       "      <th>0</th>\n",
       "      <td>0</td>\n",
       "      <td>ACE EMBP</td>\n",
       "      <td>134409.0</td>\n",
       "      <td>61367.0</td>\n",
       "      <td>73042.0</td>\n",
       "    </tr>\n",
       "    <tr>\n",
       "      <th>1</th>\n",
       "      <td>1</td>\n",
       "      <td>ACE Matara</td>\n",
       "      <td>27330.0</td>\n",
       "      <td>14225.0</td>\n",
       "      <td>13105.0</td>\n",
       "    </tr>\n",
       "    <tr>\n",
       "      <th>2</th>\n",
       "      <td>2</td>\n",
       "      <td>ALTAQQA-Mahi.</td>\n",
       "      <td>1451.0</td>\n",
       "      <td>650.0</td>\n",
       "      <td>801.0</td>\n",
       "    </tr>\n",
       "    <tr>\n",
       "      <th>3</th>\n",
       "      <td>3</td>\n",
       "      <td>ALTAQQA-Pol.</td>\n",
       "      <td>1656.0</td>\n",
       "      <td>528.0</td>\n",
       "      <td>1128.0</td>\n",
       "    </tr>\n",
       "    <tr>\n",
       "      <th>4</th>\n",
       "      <td>4</td>\n",
       "      <td>Asia Power</td>\n",
       "      <td>34513.0</td>\n",
       "      <td>23497.0</td>\n",
       "      <td>11016.0</td>\n",
       "    </tr>\n",
       "  </tbody>\n",
       "</table>\n",
       "</div>"
      ],
      "text/plain": [
       "   Unnamed: 0          Plant  Actual_Dispatch  Forecasted_Dispatch  \\\n",
       "0           0       ACE EMBP         134409.0              61367.0   \n",
       "1           1     ACE Matara          27330.0              14225.0   \n",
       "2           2  ALTAQQA-Mahi.           1451.0                650.0   \n",
       "3           3   ALTAQQA-Pol.           1656.0                528.0   \n",
       "4           4     Asia Power          34513.0              23497.0   \n",
       "\n",
       "   DispatchDiff  \n",
       "0       73042.0  \n",
       "1       13105.0  \n",
       "2         801.0  \n",
       "3        1128.0  \n",
       "4       11016.0  "
      ]
     },
     "execution_count": 13,
     "metadata": {},
     "output_type": "execute_result"
    }
   ],
   "source": [
    "df.head(5)"
   ]
  },
  {
   "cell_type": "code",
   "execution_count": 15,
   "id": "b05c8a7a",
   "metadata": {},
   "outputs": [],
   "source": [
    "df=df.drop('Unnamed: 0',axis=1)"
   ]
  },
  {
   "cell_type": "code",
   "execution_count": 16,
   "id": "de970e65",
   "metadata": {},
   "outputs": [
    {
     "data": {
      "text/html": [
       "<div>\n",
       "<style scoped>\n",
       "    .dataframe tbody tr th:only-of-type {\n",
       "        vertical-align: middle;\n",
       "    }\n",
       "\n",
       "    .dataframe tbody tr th {\n",
       "        vertical-align: top;\n",
       "    }\n",
       "\n",
       "    .dataframe thead th {\n",
       "        text-align: right;\n",
       "    }\n",
       "</style>\n",
       "<table border=\"1\" class=\"dataframe\">\n",
       "  <thead>\n",
       "    <tr style=\"text-align: right;\">\n",
       "      <th></th>\n",
       "      <th>Plant</th>\n",
       "      <th>Actual_Dispatch</th>\n",
       "      <th>Forecasted_Dispatch</th>\n",
       "      <th>DispatchDiff</th>\n",
       "    </tr>\n",
       "  </thead>\n",
       "  <tbody>\n",
       "    <tr>\n",
       "      <th>0</th>\n",
       "      <td>ACE EMBP</td>\n",
       "      <td>134409.0</td>\n",
       "      <td>61367.0</td>\n",
       "      <td>73042.0</td>\n",
       "    </tr>\n",
       "    <tr>\n",
       "      <th>1</th>\n",
       "      <td>ACE Matara</td>\n",
       "      <td>27330.0</td>\n",
       "      <td>14225.0</td>\n",
       "      <td>13105.0</td>\n",
       "    </tr>\n",
       "    <tr>\n",
       "      <th>2</th>\n",
       "      <td>ALTAQQA-Mahi.</td>\n",
       "      <td>1451.0</td>\n",
       "      <td>650.0</td>\n",
       "      <td>801.0</td>\n",
       "    </tr>\n",
       "    <tr>\n",
       "      <th>3</th>\n",
       "      <td>ALTAQQA-Pol.</td>\n",
       "      <td>1656.0</td>\n",
       "      <td>528.0</td>\n",
       "      <td>1128.0</td>\n",
       "    </tr>\n",
       "    <tr>\n",
       "      <th>4</th>\n",
       "      <td>Asia Power</td>\n",
       "      <td>34513.0</td>\n",
       "      <td>23497.0</td>\n",
       "      <td>11016.0</td>\n",
       "    </tr>\n",
       "  </tbody>\n",
       "</table>\n",
       "</div>"
      ],
      "text/plain": [
       "           Plant  Actual_Dispatch  Forecasted_Dispatch  DispatchDiff\n",
       "0       ACE EMBP         134409.0              61367.0       73042.0\n",
       "1     ACE Matara          27330.0              14225.0       13105.0\n",
       "2  ALTAQQA-Mahi.           1451.0                650.0         801.0\n",
       "3   ALTAQQA-Pol.           1656.0                528.0        1128.0\n",
       "4     Asia Power          34513.0              23497.0       11016.0"
      ]
     },
     "execution_count": 16,
     "metadata": {},
     "output_type": "execute_result"
    }
   ],
   "source": [
    "df.head(5)"
   ]
  },
  {
   "cell_type": "code",
   "execution_count": 17,
   "id": "e547fa4c",
   "metadata": {},
   "outputs": [],
   "source": [
    "# 'os' module provides functions for interacting with the operating system \n",
    "import os\n",
    "\n",
    "# 'Numpy' is used for mathematical operations on large, multi-dimensional arrays and matrices\n",
    "import numpy as np\n",
    "\n",
    "# 'Pandas' is used for data manipulation and analysis\n",
    "import pandas as pd\n",
    "\n",
    "# 'Matplotlib' is a data visualization library for 2D and 3D plots, built on numpy\n",
    "from matplotlib import pyplot as plt\n",
    "%matplotlib inline\n",
    "\n",
    "# 'Seaborn' is based on matplotlib; used for plotting statistical graphics\n",
    "import seaborn as sns\n",
    "\n",
    "# to suppress warnings\n",
    "import warnings\n",
    "warnings.filterwarnings(\"ignore\") "
   ]
  },
  {
   "cell_type": "code",
   "execution_count": 18,
   "id": "c3f09510",
   "metadata": {},
   "outputs": [
    {
     "data": {
      "text/plain": [
       "(36, 4)"
      ]
     },
     "execution_count": 18,
     "metadata": {},
     "output_type": "execute_result"
    }
   ],
   "source": [
    "df.shape"
   ]
  },
  {
   "cell_type": "markdown",
   "id": "5759a482",
   "metadata": {},
   "source": [
    "## 3) Checking the datatypes of the columns"
   ]
  },
  {
   "cell_type": "code",
   "execution_count": 19,
   "id": "da396a20",
   "metadata": {},
   "outputs": [
    {
     "data": {
      "text/plain": [
       "Plant                   object\n",
       "Actual_Dispatch        float64\n",
       "Forecasted_Dispatch    float64\n",
       "DispatchDiff           float64\n",
       "dtype: object"
      ]
     },
     "execution_count": 19,
     "metadata": {},
     "output_type": "execute_result"
    }
   ],
   "source": [
    "df.dtypes"
   ]
  },
  {
   "cell_type": "markdown",
   "id": "375b7c01",
   "metadata": {},
   "source": [
    "## 4) Summary Statistics of the data"
   ]
  },
  {
   "cell_type": "code",
   "execution_count": 20,
   "id": "7a5ca330",
   "metadata": {},
   "outputs": [
    {
     "data": {
      "text/html": [
       "<div>\n",
       "<style scoped>\n",
       "    .dataframe tbody tr th:only-of-type {\n",
       "        vertical-align: middle;\n",
       "    }\n",
       "\n",
       "    .dataframe tbody tr th {\n",
       "        vertical-align: top;\n",
       "    }\n",
       "\n",
       "    .dataframe thead th {\n",
       "        text-align: right;\n",
       "    }\n",
       "</style>\n",
       "<table border=\"1\" class=\"dataframe\">\n",
       "  <thead>\n",
       "    <tr style=\"text-align: right;\">\n",
       "      <th></th>\n",
       "      <th>Actual_Dispatch</th>\n",
       "      <th>Forecasted_Dispatch</th>\n",
       "      <th>DispatchDiff</th>\n",
       "    </tr>\n",
       "  </thead>\n",
       "  <tbody>\n",
       "    <tr>\n",
       "      <th>count</th>\n",
       "      <td>36.000000</td>\n",
       "      <td>36.000000</td>\n",
       "      <td>36.000000</td>\n",
       "    </tr>\n",
       "    <tr>\n",
       "      <th>mean</th>\n",
       "      <td>95874.638889</td>\n",
       "      <td>48965.472222</td>\n",
       "      <td>46909.166667</td>\n",
       "    </tr>\n",
       "    <tr>\n",
       "      <th>std</th>\n",
       "      <td>161125.799270</td>\n",
       "      <td>80548.080869</td>\n",
       "      <td>80670.562802</td>\n",
       "    </tr>\n",
       "    <tr>\n",
       "      <th>min</th>\n",
       "      <td>0.000000</td>\n",
       "      <td>0.000000</td>\n",
       "      <td>-4599.000000</td>\n",
       "    </tr>\n",
       "    <tr>\n",
       "      <th>25%</th>\n",
       "      <td>10791.750000</td>\n",
       "      <td>4581.000000</td>\n",
       "      <td>6333.000000</td>\n",
       "    </tr>\n",
       "    <tr>\n",
       "      <th>50%</th>\n",
       "      <td>36565.500000</td>\n",
       "      <td>20917.000000</td>\n",
       "      <td>16650.500000</td>\n",
       "    </tr>\n",
       "    <tr>\n",
       "      <th>75%</th>\n",
       "      <td>84124.750000</td>\n",
       "      <td>47332.000000</td>\n",
       "      <td>42021.750000</td>\n",
       "    </tr>\n",
       "    <tr>\n",
       "      <th>max</th>\n",
       "      <td>562074.000000</td>\n",
       "      <td>279720.000000</td>\n",
       "      <td>282584.000000</td>\n",
       "    </tr>\n",
       "  </tbody>\n",
       "</table>\n",
       "</div>"
      ],
      "text/plain": [
       "       Actual_Dispatch  Forecasted_Dispatch   DispatchDiff\n",
       "count        36.000000            36.000000      36.000000\n",
       "mean      95874.638889         48965.472222   46909.166667\n",
       "std      161125.799270         80548.080869   80670.562802\n",
       "min           0.000000             0.000000   -4599.000000\n",
       "25%       10791.750000          4581.000000    6333.000000\n",
       "50%       36565.500000         20917.000000   16650.500000\n",
       "75%       84124.750000         47332.000000   42021.750000\n",
       "max      562074.000000        279720.000000  282584.000000"
      ]
     },
     "execution_count": 20,
     "metadata": {},
     "output_type": "execute_result"
    }
   ],
   "source": [
    "# Summary Statistics for Numerical data:\n",
    "df.describe()"
   ]
  },
  {
   "cell_type": "code",
   "execution_count": 21,
   "id": "77d61425",
   "metadata": {},
   "outputs": [
    {
     "data": {
      "text/html": [
       "<div>\n",
       "<style scoped>\n",
       "    .dataframe tbody tr th:only-of-type {\n",
       "        vertical-align: middle;\n",
       "    }\n",
       "\n",
       "    .dataframe tbody tr th {\n",
       "        vertical-align: top;\n",
       "    }\n",
       "\n",
       "    .dataframe thead th {\n",
       "        text-align: right;\n",
       "    }\n",
       "</style>\n",
       "<table border=\"1\" class=\"dataframe\">\n",
       "  <thead>\n",
       "    <tr style=\"text-align: right;\">\n",
       "      <th></th>\n",
       "      <th>Plant</th>\n",
       "    </tr>\n",
       "  </thead>\n",
       "  <tbody>\n",
       "    <tr>\n",
       "      <th>count</th>\n",
       "      <td>36</td>\n",
       "    </tr>\n",
       "    <tr>\n",
       "      <th>unique</th>\n",
       "      <td>36</td>\n",
       "    </tr>\n",
       "    <tr>\n",
       "      <th>top</th>\n",
       "      <td>ACE EMBP</td>\n",
       "    </tr>\n",
       "    <tr>\n",
       "      <th>freq</th>\n",
       "      <td>1</td>\n",
       "    </tr>\n",
       "  </tbody>\n",
       "</table>\n",
       "</div>"
      ],
      "text/plain": [
       "           Plant\n",
       "count         36\n",
       "unique        36\n",
       "top     ACE EMBP\n",
       "freq           1"
      ]
     },
     "execution_count": 21,
     "metadata": {},
     "output_type": "execute_result"
    }
   ],
   "source": [
    "# Summary Statistics for Categorical data:\n",
    "df.describe(exclude=[np.number])"
   ]
  },
  {
   "cell_type": "markdown",
   "id": "2fca9f94",
   "metadata": {},
   "source": [
    "### 5) Finding Missing Values"
   ]
  },
  {
   "cell_type": "code",
   "execution_count": 22,
   "id": "2f84ee68",
   "metadata": {},
   "outputs": [
    {
     "data": {
      "text/plain": [
       "Plant                  0\n",
       "Actual_Dispatch        0\n",
       "Forecasted_Dispatch    0\n",
       "DispatchDiff           0\n",
       "dtype: int64"
      ]
     },
     "execution_count": 22,
     "metadata": {},
     "output_type": "execute_result"
    }
   ],
   "source": [
    "# use isnull().sum() to check for missing values \n",
    "df.isnull().sum() "
   ]
  },
  {
   "cell_type": "markdown",
   "id": "5e7fec02",
   "metadata": {},
   "source": [
    "There are no missing values in the data.\n",
    "\n",
    "**Sk-learn library** has an in-built function called Iterative Imputer to impute the missing values. Its sklearn domcumentation: https://scikit-learn.org/stable/modules/generated/sklearn.impute.IterativeImputer.html"
   ]
  },
  {
   "cell_type": "markdown",
   "id": "01437a7e",
   "metadata": {},
   "source": [
    "### 6) Outlier Treatment"
   ]
  },
  {
   "cell_type": "code",
   "execution_count": 24,
   "id": "2f72cd08",
   "metadata": {},
   "outputs": [
    {
     "data": {
      "image/png": "[encoded data removed]",
      "text/plain": [
       "<Figure size 432x288 with 1 Axes>"
      ]
     },
     "metadata": {
      "needs_background": "light"
     },
     "output_type": "display_data"
    }
   ],
   "source": [
    "# For Actual Dispatches\n",
    "df['Actual_Dispatch'].plot(kind='box')\n",
    "plt.show()"
   ]
  },
  {
   "cell_type": "code",
   "execution_count": 25,
   "id": "1d3462b3",
   "metadata": {},
   "outputs": [
    {
     "data": {
      "image/png": "[encoded data removed]",
      "text/plain": [
       "<Figure size 432x288 with 1 Axes>"
      ]
     },
     "metadata": {
      "needs_background": "light"
     },
     "output_type": "display_data"
    }
   ],
   "source": [
    "# For Forcast Dispatches\n",
    "df['Forecasted_Dispatch'].plot(kind='box')\n",
    "plt.show()"
   ]
  },
  {
   "cell_type": "markdown",
   "id": "fd961ebf",
   "metadata": {},
   "source": [
    "We can see that there are no outliers in the **Actual_Amount** column and some outliers are present in the **Forcast Dispatch** column. To treat for outliers can either cap the values or transform the data. Shall demonstrate both the approaches here."
   ]
  },
  {
   "cell_type": "markdown",
   "id": "014c7e48",
   "metadata": {},
   "source": [
    "### 7) Transformation"
   ]
  },
  {
   "cell_type": "markdown",
   "id": "6f34597f",
   "metadata": {},
   "source": [
    "#### 7a) SQRT transformation"
   ]
  },
  {
   "cell_type": "code",
   "execution_count": 26,
   "id": "ef89155f",
   "metadata": {},
   "outputs": [],
   "source": [
    "df['SQRT_ActualDis'] = df['Actual_Dispatch']**0.5"
   ]
  },
  {
   "cell_type": "code",
   "execution_count": 27,
   "id": "f0305fd7",
   "metadata": {},
   "outputs": [],
   "source": [
    "df['sqrt_Actual'] = np.sqrt(df['Actual_Dispatch'])"
   ]
  },
  {
   "cell_type": "code",
   "execution_count": 28,
   "id": "5a5a21c3",
   "metadata": {},
   "outputs": [
    {
     "data": {
      "text/html": [
       "<div>\n",
       "<style scoped>\n",
       "    .dataframe tbody tr th:only-of-type {\n",
       "        vertical-align: middle;\n",
       "    }\n",
       "\n",
       "    .dataframe tbody tr th {\n",
       "        vertical-align: top;\n",
       "    }\n",
       "\n",
       "    .dataframe thead th {\n",
       "        text-align: right;\n",
       "    }\n",
       "</style>\n",
       "<table border=\"1\" class=\"dataframe\">\n",
       "  <thead>\n",
       "    <tr style=\"text-align: right;\">\n",
       "      <th></th>\n",
       "      <th>Plant</th>\n",
       "      <th>Actual_Dispatch</th>\n",
       "      <th>Forecasted_Dispatch</th>\n",
       "      <th>DispatchDiff</th>\n",
       "      <th>SQRT_ActualDis</th>\n",
       "      <th>sqrt_Actual</th>\n",
       "    </tr>\n",
       "  </thead>\n",
       "  <tbody>\n",
       "    <tr>\n",
       "      <th>0</th>\n",
       "      <td>ACE EMBP</td>\n",
       "      <td>134409.0</td>\n",
       "      <td>61367.0</td>\n",
       "      <td>73042.0</td>\n",
       "      <td>366.618330</td>\n",
       "      <td>366.618330</td>\n",
       "    </tr>\n",
       "    <tr>\n",
       "      <th>1</th>\n",
       "      <td>ACE Matara</td>\n",
       "      <td>27330.0</td>\n",
       "      <td>14225.0</td>\n",
       "      <td>13105.0</td>\n",
       "      <td>165.317876</td>\n",
       "      <td>165.317876</td>\n",
       "    </tr>\n",
       "    <tr>\n",
       "      <th>2</th>\n",
       "      <td>ALTAQQA-Mahi.</td>\n",
       "      <td>1451.0</td>\n",
       "      <td>650.0</td>\n",
       "      <td>801.0</td>\n",
       "      <td>38.091994</td>\n",
       "      <td>38.091994</td>\n",
       "    </tr>\n",
       "    <tr>\n",
       "      <th>3</th>\n",
       "      <td>ALTAQQA-Pol.</td>\n",
       "      <td>1656.0</td>\n",
       "      <td>528.0</td>\n",
       "      <td>1128.0</td>\n",
       "      <td>40.693980</td>\n",
       "      <td>40.693980</td>\n",
       "    </tr>\n",
       "  </tbody>\n",
       "</table>\n",
       "</div>"
      ],
      "text/plain": [
       "           Plant  Actual_Dispatch  Forecasted_Dispatch  DispatchDiff  \\\n",
       "0       ACE EMBP         134409.0              61367.0       73042.0   \n",
       "1     ACE Matara          27330.0              14225.0       13105.0   \n",
       "2  ALTAQQA-Mahi.           1451.0                650.0         801.0   \n",
       "3   ALTAQQA-Pol.           1656.0                528.0        1128.0   \n",
       "\n",
       "   SQRT_ActualDis  sqrt_Actual  \n",
       "0      366.618330   366.618330  \n",
       "1      165.317876   165.317876  \n",
       "2       38.091994    38.091994  \n",
       "3       40.693980    40.693980  "
      ]
     },
     "execution_count": 28,
     "metadata": {},
     "output_type": "execute_result"
    }
   ],
   "source": [
    "df.head(4)"
   ]
  },
  {
   "cell_type": "code",
   "execution_count": 29,
   "id": "abe59eee",
   "metadata": {},
   "outputs": [
    {
     "name": "stdout",
     "output_type": "stream",
     "text": [
      "The skewness of the original data is 2.3708219192644147\n",
      "The skewness of the SQRT transformed data is 1.4444405842311796\n",
      "\n",
      "The kurtosis of the original data is 4.398656106982564\n",
      "The kurtosis of the SQRT transformed data is 1.7242490571054248\n"
     ]
    }
   ],
   "source": [
    "#checking the skewness, kurtosis between the original and transformed data:\n",
    "print(\"The skewness of the original data is {}\".format(df.Actual_Dispatch.skew()))\n",
    "print('The skewness of the SQRT transformed data is {}'.format(df.SQRT_ActualDis.skew()))\n",
    "\n",
    "print('')\n",
    "\n",
    "print(\"The kurtosis of the original data is {}\".format(df.Actual_Dispatch.kurt()))\n",
    "print(\"The kurtosis of the SQRT transformed data is {}\".format(df.SQRT_ActualDis.kurt()))"
   ]
  },
  {
   "cell_type": "code",
   "execution_count": 30,
   "id": "4e723552",
   "metadata": {},
   "outputs": [
    {
     "data": {
      "image/png": "[encoded data removed]",
      "text/plain": [
       "<Figure size 1080x360 with 2 Axes>"
      ]
     },
     "metadata": {
      "needs_background": "light"
     },
     "output_type": "display_data"
    }
   ],
   "source": [
    "# plotting the distribution\n",
    "\n",
    "fig, axes = plt.subplots(1,2, figsize=(15,5))\n",
    "sns.distplot(df['Actual_Dispatch'], ax=axes[0])\n",
    "sns.distplot(df['sqrt_Actual'], ax=axes[1])\n",
    "\n",
    "plt.show()\n"
   ]
  },
  {
   "cell_type": "markdown",
   "id": "e13de840",
   "metadata": {},
   "source": [
    "### Result:\n",
    "\n",
    "The **Actual_Dispatch** column was right skewed earlier. The skewness and kurtosis as reduced significantly. The transformed SQRT rate, on the right graph resembles normal distribution now."
   ]
  },
  {
   "cell_type": "markdown",
   "id": "942f1a3b",
   "metadata": {},
   "source": [
    "### 7b. Log Transformation"
   ]
  },
  {
   "cell_type": "code",
   "execution_count": 44,
   "id": "85f55905",
   "metadata": {},
   "outputs": [],
   "source": [
    "df['Log_Rate'] = np.log2(df['Actual_Dispatch']+1)"
   ]
  },
  {
   "cell_type": "code",
   "execution_count": 46,
   "id": "808644f8",
   "metadata": {
    "scrolled": false
   },
   "outputs": [
    {
     "data": {
      "text/html": [
       "<div>\n",
       "<style scoped>\n",
       "    .dataframe tbody tr th:only-of-type {\n",
       "        vertical-align: middle;\n",
       "    }\n",
       "\n",
       "    .dataframe tbody tr th {\n",
       "        vertical-align: top;\n",
       "    }\n",
       "\n",
       "    .dataframe thead th {\n",
       "        text-align: right;\n",
       "    }\n",
       "</style>\n",
       "<table border=\"1\" class=\"dataframe\">\n",
       "  <thead>\n",
       "    <tr style=\"text-align: right;\">\n",
       "      <th></th>\n",
       "      <th>Plant</th>\n",
       "      <th>Actual_Dispatch</th>\n",
       "      <th>Forecasted_Dispatch</th>\n",
       "      <th>DispatchDiff</th>\n",
       "      <th>SQRT_ActualDis</th>\n",
       "      <th>sqrt_Actual</th>\n",
       "      <th>Log_Rate</th>\n",
       "    </tr>\n",
       "  </thead>\n",
       "  <tbody>\n",
       "    <tr>\n",
       "      <th>0</th>\n",
       "      <td>ACE EMBP</td>\n",
       "      <td>134409.0</td>\n",
       "      <td>61367.0</td>\n",
       "      <td>73042.0</td>\n",
       "      <td>366.618330</td>\n",
       "      <td>366.618330</td>\n",
       "      <td>17.036281</td>\n",
       "    </tr>\n",
       "    <tr>\n",
       "      <th>1</th>\n",
       "      <td>ACE Matara</td>\n",
       "      <td>27330.0</td>\n",
       "      <td>14225.0</td>\n",
       "      <td>13105.0</td>\n",
       "      <td>165.317876</td>\n",
       "      <td>165.317876</td>\n",
       "      <td>14.738251</td>\n",
       "    </tr>\n",
       "    <tr>\n",
       "      <th>2</th>\n",
       "      <td>ALTAQQA-Mahi.</td>\n",
       "      <td>1451.0</td>\n",
       "      <td>650.0</td>\n",
       "      <td>801.0</td>\n",
       "      <td>38.091994</td>\n",
       "      <td>38.091994</td>\n",
       "      <td>10.503826</td>\n",
       "    </tr>\n",
       "    <tr>\n",
       "      <th>3</th>\n",
       "      <td>ALTAQQA-Pol.</td>\n",
       "      <td>1656.0</td>\n",
       "      <td>528.0</td>\n",
       "      <td>1128.0</td>\n",
       "      <td>40.693980</td>\n",
       "      <td>40.693980</td>\n",
       "      <td>10.694358</td>\n",
       "    </tr>\n",
       "    <tr>\n",
       "      <th>4</th>\n",
       "      <td>Asia Power</td>\n",
       "      <td>34513.0</td>\n",
       "      <td>23497.0</td>\n",
       "      <td>11016.0</td>\n",
       "      <td>185.776748</td>\n",
       "      <td>185.776748</td>\n",
       "      <td>15.074894</td>\n",
       "    </tr>\n",
       "  </tbody>\n",
       "</table>\n",
       "</div>"
      ],
      "text/plain": [
       "           Plant  Actual_Dispatch  Forecasted_Dispatch  DispatchDiff  \\\n",
       "0       ACE EMBP         134409.0              61367.0       73042.0   \n",
       "1     ACE Matara          27330.0              14225.0       13105.0   \n",
       "2  ALTAQQA-Mahi.           1451.0                650.0         801.0   \n",
       "3   ALTAQQA-Pol.           1656.0                528.0        1128.0   \n",
       "4     Asia Power          34513.0              23497.0       11016.0   \n",
       "\n",
       "   SQRT_ActualDis  sqrt_Actual   Log_Rate  \n",
       "0      366.618330   366.618330  17.036281  \n",
       "1      165.317876   165.317876  14.738251  \n",
       "2       38.091994    38.091994  10.503826  \n",
       "3       40.693980    40.693980  10.694358  \n",
       "4      185.776748   185.776748  15.074894  "
      ]
     },
     "execution_count": 46,
     "metadata": {},
     "output_type": "execute_result"
    }
   ],
   "source": [
    "#df=df.drop('Log Rate',axis=1)\n",
    "df.head(5)"
   ]
  },
  {
   "cell_type": "code",
   "execution_count": 47,
   "id": "1fba8858",
   "metadata": {},
   "outputs": [
    {
     "data": {
      "text/plain": [
       "-2.003402765338191"
      ]
     },
     "execution_count": 47,
     "metadata": {},
     "output_type": "execute_result"
    }
   ],
   "source": [
    "df.Log_Rate.skew()"
   ]
  },
  {
   "cell_type": "code",
   "execution_count": 48,
   "id": "86d69bb2",
   "metadata": {},
   "outputs": [
    {
     "name": "stdout",
     "output_type": "stream",
     "text": [
      "The skewness of the original data is 2.3708219192644147\n",
      "The skewness of the SQRT transformed data is 1.4444405842311796\n",
      "The skewnss of the LOG transformed data is -2.003402765338191\n",
      "\n",
      "The kurtosis of the original data is 4.398656106982564\n",
      "The kurtosis of the SQRT transformed data is 1.7242490571054248\n",
      "The skewnss of the LOG transformed data is -2.003402765338191\n"
     ]
    }
   ],
   "source": [
    "print(\"The skewness of the original data is {}\".format(df.Actual_Dispatch.skew()))\n",
    "print('The skewness of the SQRT transformed data is {}'.format(df.SQRT_ActualDis.skew()))\n",
    "#print(\"The skewnss of the LOG transformed data is {}\".format(df['Log Rate'].skew()))\n",
    "print(\"The skewnss of the LOG transformed data is {}\".format(df.Log_Rate.skew()))\n",
    "\n",
    "print('')\n",
    "\n",
    "\n",
    "print(\"The kurtosis of the original data is {}\".format(df.Actual_Dispatch.kurt()))\n",
    "print(\"The kurtosis of the SQRT transformed data is {}\".format(df.SQRT_ActualDis.kurt()))\n",
    "print(\"The skewnss of the LOG transformed data is {}\".format(df.Log_Rate.skew()))"
   ]
  },
  {
   "cell_type": "code",
   "execution_count": 49,
   "id": "f8ab95d1",
   "metadata": {},
   "outputs": [
    {
     "data": {
      "image/png": "[encoded data removed]",
      "text/plain": [
       "<Figure size 1080x360 with 3 Axes>"
      ]
     },
     "metadata": {
      "needs_background": "light"
     },
     "output_type": "display_data"
    }
   ],
   "source": [
    "# plot the graph:\n",
    "\n",
    "fig, axes = plt.subplots(1,3,figsize=(15,5))\n",
    "\n",
    "sns.distplot(df['Actual_Dispatch'], ax=axes[0])\n",
    "sns.distplot(df['SQRT_ActualDis'], ax=axes[1])\n",
    "sns.distplot(df['Log_Rate'], ax=axes[2])\n",
    "\n",
    "plt.show()"
   ]
  },
  {
   "cell_type": "markdown",
   "id": "004b4ee3",
   "metadata": {},
   "source": [
    "### Inference:\n",
    "**Log Transformation made the rate left skewed and more peaked.**\n",
    "\n",
    "However, Log transformation is more closer to 0 and hence is more normal. Though it heavily maniupulates the data.\n",
    "\n",
    "In our case, square root transformation is more suitable."
   ]
  },
  {
   "cell_type": "code",
   "execution_count": 50,
   "id": "1acc0be5",
   "metadata": {},
   "outputs": [],
   "source": [
    "## Using Lambda function :\n",
    "\n",
    "#df['LOG_Rate'] = df['Actual_Dispatch'].apply(lambda x:np.log(x))"
   ]
  },
  {
   "cell_type": "markdown",
   "id": "2681448e",
   "metadata": {},
   "source": [
    "### 8)  Outliers Treatment using Capping Approach"
   ]
  },
  {
   "cell_type": "markdown",
   "id": "11bda55b",
   "metadata": {},
   "source": [
    "#### 1) Z-Score approach to treat Outliers:\n",
    "All the values above 3 standard deviation and below -3 standard deviation are outliers and can be removed"
   ]
  },
  {
   "cell_type": "code",
   "execution_count": 51,
   "id": "9ee71756",
   "metadata": {},
   "outputs": [],
   "source": [
    "df1 = pd.read_csv(\"/Users/Asus/Documents/InternCsv/Summation_Dispatch.csv\",index_col=False)"
   ]
  },
  {
   "cell_type": "code",
   "execution_count": 52,
   "id": "07921a37",
   "metadata": {},
   "outputs": [
    {
     "data": {
      "text/plain": [
       "Unnamed: 0               int64\n",
       "Plant                   object\n",
       "Actual_Dispatch        float64\n",
       "Forecasted_Dispatch    float64\n",
       "DispatchDiff           float64\n",
       "dtype: object"
      ]
     },
     "execution_count": 52,
     "metadata": {},
     "output_type": "execute_result"
    }
   ],
   "source": [
    "df1.dtypes"
   ]
  },
  {
   "cell_type": "code",
   "execution_count": 53,
   "id": "cc80df72",
   "metadata": {},
   "outputs": [],
   "source": [
    "df1=df1.drop('Unnamed: 0',axis=1)"
   ]
  },
  {
   "cell_type": "markdown",
   "id": "98f75fea",
   "metadata": {},
   "source": [
    "***Using SciPy Library to calculate the Z-Score:***"
   ]
  },
  {
   "cell_type": "code",
   "execution_count": 55,
   "id": "88e17b12",
   "metadata": {},
   "outputs": [],
   "source": [
    "# 'SciPy' is used to perform scientific computations\n",
    "import scipy.stats as stats"
   ]
  },
  {
   "cell_type": "code",
   "execution_count": 56,
   "id": "1a8afee0",
   "metadata": {},
   "outputs": [],
   "source": [
    "# Creating new variable with Z-score of each record:\n",
    "df1['ZR'] = stats.zscore(df1['Actual_Dispatch'])"
   ]
  },
  {
   "cell_type": "code",
   "execution_count": 57,
   "id": "4fceac65",
   "metadata": {},
   "outputs": [
    {
     "data": {
      "text/html": [
       "<div>\n",
       "<style scoped>\n",
       "    .dataframe tbody tr th:only-of-type {\n",
       "        vertical-align: middle;\n",
       "    }\n",
       "\n",
       "    .dataframe tbody tr th {\n",
       "        vertical-align: top;\n",
       "    }\n",
       "\n",
       "    .dataframe thead th {\n",
       "        text-align: right;\n",
       "    }\n",
       "</style>\n",
       "<table border=\"1\" class=\"dataframe\">\n",
       "  <thead>\n",
       "    <tr style=\"text-align: right;\">\n",
       "      <th></th>\n",
       "      <th>Plant</th>\n",
       "      <th>Actual_Dispatch</th>\n",
       "      <th>Forecasted_Dispatch</th>\n",
       "      <th>DispatchDiff</th>\n",
       "      <th>ZR</th>\n",
       "    </tr>\n",
       "  </thead>\n",
       "  <tbody>\n",
       "    <tr>\n",
       "      <th>0</th>\n",
       "      <td>ACE EMBP</td>\n",
       "      <td>134409.0</td>\n",
       "      <td>61367.0</td>\n",
       "      <td>73042.0</td>\n",
       "      <td>0.242549</td>\n",
       "    </tr>\n",
       "    <tr>\n",
       "      <th>1</th>\n",
       "      <td>ACE Matara</td>\n",
       "      <td>27330.0</td>\n",
       "      <td>14225.0</td>\n",
       "      <td>13105.0</td>\n",
       "      <td>-0.431445</td>\n",
       "    </tr>\n",
       "    <tr>\n",
       "      <th>2</th>\n",
       "      <td>ALTAQQA-Mahi.</td>\n",
       "      <td>1451.0</td>\n",
       "      <td>650.0</td>\n",
       "      <td>801.0</td>\n",
       "      <td>-0.594337</td>\n",
       "    </tr>\n",
       "    <tr>\n",
       "      <th>3</th>\n",
       "      <td>ALTAQQA-Pol.</td>\n",
       "      <td>1656.0</td>\n",
       "      <td>528.0</td>\n",
       "      <td>1128.0</td>\n",
       "      <td>-0.593047</td>\n",
       "    </tr>\n",
       "    <tr>\n",
       "      <th>4</th>\n",
       "      <td>Asia Power</td>\n",
       "      <td>34513.0</td>\n",
       "      <td>23497.0</td>\n",
       "      <td>11016.0</td>\n",
       "      <td>-0.386233</td>\n",
       "    </tr>\n",
       "    <tr>\n",
       "      <th>5</th>\n",
       "      <td>Barge</td>\n",
       "      <td>107826.0</td>\n",
       "      <td>56437.0</td>\n",
       "      <td>51389.0</td>\n",
       "      <td>0.075226</td>\n",
       "    </tr>\n",
       "    <tr>\n",
       "      <th>6</th>\n",
       "      <td>Bowa</td>\n",
       "      <td>18718.0</td>\n",
       "      <td>9166.0</td>\n",
       "      <td>9552.0</td>\n",
       "      <td>-0.485652</td>\n",
       "    </tr>\n",
       "    <tr>\n",
       "      <th>7</th>\n",
       "      <td>CEB Sup Power</td>\n",
       "      <td>7920.0</td>\n",
       "      <td>1316.0</td>\n",
       "      <td>6604.0</td>\n",
       "      <td>-0.553619</td>\n",
       "    </tr>\n",
       "    <tr>\n",
       "      <th>8</th>\n",
       "      <td>Canyon</td>\n",
       "      <td>26068.0</td>\n",
       "      <td>13899.0</td>\n",
       "      <td>12169.0</td>\n",
       "      <td>-0.439389</td>\n",
       "    </tr>\n",
       "    <tr>\n",
       "      <th>9</th>\n",
       "      <td>KCCP</td>\n",
       "      <td>0.0</td>\n",
       "      <td>0.0</td>\n",
       "      <td>0.0</td>\n",
       "      <td>-0.603470</td>\n",
       "    </tr>\n",
       "  </tbody>\n",
       "</table>\n",
       "</div>"
      ],
      "text/plain": [
       "           Plant  Actual_Dispatch  Forecasted_Dispatch  DispatchDiff        ZR\n",
       "0       ACE EMBP         134409.0              61367.0       73042.0  0.242549\n",
       "1     ACE Matara          27330.0              14225.0       13105.0 -0.431445\n",
       "2  ALTAQQA-Mahi.           1451.0                650.0         801.0 -0.594337\n",
       "3   ALTAQQA-Pol.           1656.0                528.0        1128.0 -0.593047\n",
       "4     Asia Power          34513.0              23497.0       11016.0 -0.386233\n",
       "5          Barge         107826.0              56437.0       51389.0  0.075226\n",
       "6           Bowa          18718.0               9166.0        9552.0 -0.485652\n",
       "7  CEB Sup Power           7920.0               1316.0        6604.0 -0.553619\n",
       "8         Canyon          26068.0              13899.0       12169.0 -0.439389\n",
       "9           KCCP              0.0                  0.0           0.0 -0.603470"
      ]
     },
     "execution_count": 57,
     "metadata": {},
     "output_type": "execute_result"
    }
   ],
   "source": [
    "df1.head(10)"
   ]
  },
  {
   "cell_type": "code",
   "execution_count": 59,
   "id": "d13195e0",
   "metadata": {},
   "outputs": [
    {
     "data": {
      "text/html": [
       "<div>\n",
       "<style scoped>\n",
       "    .dataframe tbody tr th:only-of-type {\n",
       "        vertical-align: middle;\n",
       "    }\n",
       "\n",
       "    .dataframe tbody tr th {\n",
       "        vertical-align: top;\n",
       "    }\n",
       "\n",
       "    .dataframe thead th {\n",
       "        text-align: right;\n",
       "    }\n",
       "</style>\n",
       "<table border=\"1\" class=\"dataframe\">\n",
       "  <thead>\n",
       "    <tr style=\"text-align: right;\">\n",
       "      <th></th>\n",
       "      <th>Plant</th>\n",
       "      <th>Actual_Dispatch</th>\n",
       "      <th>Forecasted_Dispatch</th>\n",
       "      <th>DispatchDiff</th>\n",
       "      <th>ZR</th>\n",
       "    </tr>\n",
       "  </thead>\n",
       "  <tbody>\n",
       "    <tr>\n",
       "      <th>14</th>\n",
       "      <td>LVPS 1</td>\n",
       "      <td>562074.0</td>\n",
       "      <td>279490.0</td>\n",
       "      <td>282584.0</td>\n",
       "      <td>2.934430</td>\n",
       "    </tr>\n",
       "    <tr>\n",
       "      <th>15</th>\n",
       "      <td>LVPS 2</td>\n",
       "      <td>556148.0</td>\n",
       "      <td>279720.0</td>\n",
       "      <td>276428.0</td>\n",
       "      <td>2.897130</td>\n",
       "    </tr>\n",
       "    <tr>\n",
       "      <th>16</th>\n",
       "      <td>LVPS 3</td>\n",
       "      <td>549420.0</td>\n",
       "      <td>277356.0</td>\n",
       "      <td>272064.0</td>\n",
       "      <td>2.854781</td>\n",
       "    </tr>\n",
       "  </tbody>\n",
       "</table>\n",
       "</div>"
      ],
      "text/plain": [
       "     Plant  Actual_Dispatch  Forecasted_Dispatch  DispatchDiff        ZR\n",
       "14  LVPS 1         562074.0             279490.0      282584.0  2.934430\n",
       "15  LVPS 2         556148.0             279720.0      276428.0  2.897130\n",
       "16  LVPS 3         549420.0             277356.0      272064.0  2.854781"
      ]
     },
     "execution_count": 59,
     "metadata": {},
     "output_type": "execute_result"
    }
   ],
   "source": [
    "# Combined Lower limit and Upper limit:\n",
    "\n",
    "df1[(df1['ZR']<-2.85) | (df1['ZR']>2.85)]"
   ]
  },
  {
   "cell_type": "code",
   "execution_count": 60,
   "id": "a3ee04fc",
   "metadata": {},
   "outputs": [
    {
     "data": {
      "text/plain": [
       "3"
      ]
     },
     "execution_count": 60,
     "metadata": {},
     "output_type": "execute_result"
    }
   ],
   "source": [
    "# count of outliers:\n",
    "\n",
    "df1[(df1['ZR']<-2.85) | (df1['ZR']>2.85)].shape[0]"
   ]
  },
  {
   "cell_type": "code",
   "execution_count": 61,
   "id": "a1dd4a69",
   "metadata": {},
   "outputs": [
    {
     "data": {
      "text/html": [
       "<div>\n",
       "<style scoped>\n",
       "    .dataframe tbody tr th:only-of-type {\n",
       "        vertical-align: middle;\n",
       "    }\n",
       "\n",
       "    .dataframe tbody tr th {\n",
       "        vertical-align: top;\n",
       "    }\n",
       "\n",
       "    .dataframe thead th {\n",
       "        text-align: right;\n",
       "    }\n",
       "</style>\n",
       "<table border=\"1\" class=\"dataframe\">\n",
       "  <thead>\n",
       "    <tr style=\"text-align: right;\">\n",
       "      <th></th>\n",
       "      <th>Plant</th>\n",
       "      <th>Actual_Dispatch</th>\n",
       "      <th>Forecasted_Dispatch</th>\n",
       "      <th>DispatchDiff</th>\n",
       "      <th>ZR</th>\n",
       "    </tr>\n",
       "  </thead>\n",
       "  <tbody>\n",
       "    <tr>\n",
       "      <th>14</th>\n",
       "      <td>LVPS 1</td>\n",
       "      <td>562074.0</td>\n",
       "      <td>279490.0</td>\n",
       "      <td>282584.0</td>\n",
       "      <td>2.934430</td>\n",
       "    </tr>\n",
       "    <tr>\n",
       "      <th>15</th>\n",
       "      <td>LVPS 2</td>\n",
       "      <td>556148.0</td>\n",
       "      <td>279720.0</td>\n",
       "      <td>276428.0</td>\n",
       "      <td>2.897130</td>\n",
       "    </tr>\n",
       "    <tr>\n",
       "      <th>16</th>\n",
       "      <td>LVPS 3</td>\n",
       "      <td>549420.0</td>\n",
       "      <td>277356.0</td>\n",
       "      <td>272064.0</td>\n",
       "      <td>2.854781</td>\n",
       "    </tr>\n",
       "  </tbody>\n",
       "</table>\n",
       "</div>"
      ],
      "text/plain": [
       "     Plant  Actual_Dispatch  Forecasted_Dispatch  DispatchDiff        ZR\n",
       "14  LVPS 1         562074.0             279490.0      282584.0  2.934430\n",
       "15  LVPS 2         556148.0             279720.0      276428.0  2.897130\n",
       "16  LVPS 3         549420.0             277356.0      272064.0  2.854781"
      ]
     },
     "execution_count": 61,
     "metadata": {},
     "output_type": "execute_result"
    }
   ],
   "source": [
    "### Cleaned Data: without outliers so z>-3 and z< +3\n",
    "\n",
    "df2= df1[(df1['ZR']<-2.85) | (df1['ZR']>2.85)]\n",
    "df2.head()"
   ]
  },
  {
   "cell_type": "code",
   "execution_count": 62,
   "id": "d1893bb3",
   "metadata": {},
   "outputs": [
    {
     "data": {
      "text/plain": [
       "(36, 5)"
      ]
     },
     "execution_count": 62,
     "metadata": {},
     "output_type": "execute_result"
    }
   ],
   "source": [
    "df1.shape"
   ]
  },
  {
   "cell_type": "code",
   "execution_count": 63,
   "id": "5b976457",
   "metadata": {},
   "outputs": [
    {
     "data": {
      "text/plain": [
       "(3, 5)"
      ]
     },
     "execution_count": 63,
     "metadata": {},
     "output_type": "execute_result"
    }
   ],
   "source": [
    "df2.shape"
   ]
  },
  {
   "cell_type": "markdown",
   "id": "1c4ccfe2",
   "metadata": {},
   "source": [
    "### Interpretation:\n",
    "A crude way to know whether the outliers have been removed or not is to check the dimensions of the data. From the above output, we can see that the dimensions are reduced that implies outliers are removed."
   ]
  },
  {
   "cell_type": "code",
   "execution_count": 64,
   "id": "fc98d0e3",
   "metadata": {},
   "outputs": [],
   "source": [
    "df3 = df2.copy()"
   ]
  },
  {
   "cell_type": "code",
   "execution_count": 65,
   "id": "3a453be5",
   "metadata": {},
   "outputs": [
    {
     "data": {
      "text/html": [
       "<div>\n",
       "<style scoped>\n",
       "    .dataframe tbody tr th:only-of-type {\n",
       "        vertical-align: middle;\n",
       "    }\n",
       "\n",
       "    .dataframe tbody tr th {\n",
       "        vertical-align: top;\n",
       "    }\n",
       "\n",
       "    .dataframe thead th {\n",
       "        text-align: right;\n",
       "    }\n",
       "</style>\n",
       "<table border=\"1\" class=\"dataframe\">\n",
       "  <thead>\n",
       "    <tr style=\"text-align: right;\">\n",
       "      <th></th>\n",
       "      <th>Plant</th>\n",
       "      <th>Actual_Dispatch</th>\n",
       "      <th>Forecasted_Dispatch</th>\n",
       "      <th>DispatchDiff</th>\n",
       "    </tr>\n",
       "  </thead>\n",
       "  <tbody>\n",
       "    <tr>\n",
       "      <th>14</th>\n",
       "      <td>LVPS 1</td>\n",
       "      <td>562074.0</td>\n",
       "      <td>279490.0</td>\n",
       "      <td>282584.0</td>\n",
       "    </tr>\n",
       "    <tr>\n",
       "      <th>15</th>\n",
       "      <td>LVPS 2</td>\n",
       "      <td>556148.0</td>\n",
       "      <td>279720.0</td>\n",
       "      <td>276428.0</td>\n",
       "    </tr>\n",
       "    <tr>\n",
       "      <th>16</th>\n",
       "      <td>LVPS 3</td>\n",
       "      <td>549420.0</td>\n",
       "      <td>277356.0</td>\n",
       "      <td>272064.0</td>\n",
       "    </tr>\n",
       "  </tbody>\n",
       "</table>\n",
       "</div>"
      ],
      "text/plain": [
       "     Plant  Actual_Dispatch  Forecasted_Dispatch  DispatchDiff\n",
       "14  LVPS 1         562074.0             279490.0      282584.0\n",
       "15  LVPS 2         556148.0             279720.0      276428.0\n",
       "16  LVPS 3         549420.0             277356.0      272064.0"
      ]
     },
     "execution_count": 65,
     "metadata": {},
     "output_type": "execute_result"
    }
   ],
   "source": [
    "df3.drop(columns = ['ZR'], inplace=True)\n",
    "df3.head()"
   ]
  },
  {
   "cell_type": "markdown",
   "id": "49111d81",
   "metadata": {},
   "source": [
    "### 2) IQR Method to treat Outliers:\n",
    "All the values below **Q1 - 1.5IQR** and values above **Q3 + 1.5IQR** are outliers and can be removed."
   ]
  },
  {
   "cell_type": "code",
   "execution_count": 67,
   "id": "1787d109",
   "metadata": {},
   "outputs": [
    {
     "data": {
      "text/plain": [
       "543293.5"
      ]
     },
     "metadata": {},
     "output_type": "display_data"
    },
    {
     "data": {
      "text/plain": [
       "568601.5"
      ]
     },
     "metadata": {},
     "output_type": "display_data"
    }
   ],
   "source": [
    "# finding the Quantiles:\n",
    "\n",
    "Q1 = df3.Actual_Dispatch.quantile(0.25)\n",
    "Q2 = df3.Actual_Dispatch.quantile(0.50)\n",
    "Q3 = df3.Actual_Dispatch.quantile(0.75)\n",
    "\n",
    "# IQR : Inter-Quartile Range\n",
    "\n",
    "IQR = Q3 - Q1\n",
    "\n",
    "# Lower Limit:\n",
    "LC = Q1 - (1.5*IQR)\n",
    "\n",
    "# Upper Limit:\n",
    "UC = Q3 + (1.5*IQR)\n",
    "\n",
    "display(LC)\n",
    "display(UC)"
   ]
  },
  {
   "cell_type": "code",
   "execution_count": 68,
   "id": "70430d06",
   "metadata": {},
   "outputs": [
    {
     "data": {
      "image/png": "[encoded data removed]",
      "text/plain": [
       "<Figure size 432x288 with 1 Axes>"
      ]
     },
     "metadata": {
      "needs_background": "light"
     },
     "output_type": "display_data"
    }
   ],
   "source": [
    "## Plot\n",
    "\n",
    "sns.distplot(df3.Actual_Dispatch)\n",
    "plt.axvline(UC, color='r')\n",
    "plt.axvline(LC, color ='r')\n",
    "plt.axvline(Q1, color='g')\n",
    "plt.axvline(Q3, color='g')\n",
    "plt.show()"
   ]
  },
  {
   "cell_type": "code",
   "execution_count": 70,
   "id": "36404a67",
   "metadata": {},
   "outputs": [
    {
     "data": {
      "text/html": [
       "<div>\n",
       "<style scoped>\n",
       "    .dataframe tbody tr th:only-of-type {\n",
       "        vertical-align: middle;\n",
       "    }\n",
       "\n",
       "    .dataframe tbody tr th {\n",
       "        vertical-align: top;\n",
       "    }\n",
       "\n",
       "    .dataframe thead th {\n",
       "        text-align: right;\n",
       "    }\n",
       "</style>\n",
       "<table border=\"1\" class=\"dataframe\">\n",
       "  <thead>\n",
       "    <tr style=\"text-align: right;\">\n",
       "      <th></th>\n",
       "      <th>Plant</th>\n",
       "      <th>Actual_Dispatch</th>\n",
       "      <th>Forecasted_Dispatch</th>\n",
       "      <th>DispatchDiff</th>\n",
       "    </tr>\n",
       "  </thead>\n",
       "  <tbody>\n",
       "  </tbody>\n",
       "</table>\n",
       "</div>"
      ],
      "text/plain": [
       "Empty DataFrame\n",
       "Columns: [Plant, Actual_Dispatch, Forecasted_Dispatch, DispatchDiff]\n",
       "Index: []"
      ]
     },
     "execution_count": 70,
     "metadata": {},
     "output_type": "execute_result"
    }
   ],
   "source": [
    "# Find count of Outliers wrt IQR\n",
    "\n",
    "df3[(df3.Actual_Dispatch<LC) | (df3.Actual_Dispatch>UC)]"
   ]
  },
  {
   "cell_type": "code",
   "execution_count": 71,
   "id": "e19078d6",
   "metadata": {},
   "outputs": [
    {
     "data": {
      "text/html": [
       "<div>\n",
       "<style scoped>\n",
       "    .dataframe tbody tr th:only-of-type {\n",
       "        vertical-align: middle;\n",
       "    }\n",
       "\n",
       "    .dataframe tbody tr th {\n",
       "        vertical-align: top;\n",
       "    }\n",
       "\n",
       "    .dataframe thead th {\n",
       "        text-align: right;\n",
       "    }\n",
       "</style>\n",
       "<table border=\"1\" class=\"dataframe\">\n",
       "  <thead>\n",
       "    <tr style=\"text-align: right;\">\n",
       "      <th></th>\n",
       "      <th>Plant</th>\n",
       "      <th>Actual_Dispatch</th>\n",
       "      <th>Forecasted_Dispatch</th>\n",
       "      <th>DispatchDiff</th>\n",
       "    </tr>\n",
       "  </thead>\n",
       "  <tbody>\n",
       "    <tr>\n",
       "      <th>14</th>\n",
       "      <td>LVPS 1</td>\n",
       "      <td>562074.0</td>\n",
       "      <td>279490.0</td>\n",
       "      <td>282584.0</td>\n",
       "    </tr>\n",
       "    <tr>\n",
       "      <th>15</th>\n",
       "      <td>LVPS 2</td>\n",
       "      <td>556148.0</td>\n",
       "      <td>279720.0</td>\n",
       "      <td>276428.0</td>\n",
       "    </tr>\n",
       "    <tr>\n",
       "      <th>16</th>\n",
       "      <td>LVPS 3</td>\n",
       "      <td>549420.0</td>\n",
       "      <td>277356.0</td>\n",
       "      <td>272064.0</td>\n",
       "    </tr>\n",
       "  </tbody>\n",
       "</table>\n",
       "</div>"
      ],
      "text/plain": [
       "     Plant  Actual_Dispatch  Forecasted_Dispatch  DispatchDiff\n",
       "14  LVPS 1         562074.0             279490.0      282584.0\n",
       "15  LVPS 2         556148.0             279720.0      276428.0\n",
       "16  LVPS 3         549420.0             277356.0      272064.0"
      ]
     },
     "execution_count": 71,
     "metadata": {},
     "output_type": "execute_result"
    }
   ],
   "source": [
    "## Store the clean data wrt IQR:\n",
    "\n",
    "df4 = df3[(df3.Actual_Dispatch>LC) & (df3.Actual_Dispatch<UC)]\n",
    "df4.head()"
   ]
  },
  {
   "cell_type": "markdown",
   "id": "4a341eb4",
   "metadata": {},
   "source": [
    "## 9. Scaling the Numerical Features\n",
    "\n",
    "**1) Standardization (Z-Score)**\n",
    "\n",
    "Can by done manually as well as have in-built functions in sklearn."
   ]
  },
  {
   "cell_type": "markdown",
   "id": "a257d704",
   "metadata": {},
   "source": [
    "### Standardization (Z-Score)\n",
    "Scales the data using the formula (x-mean)/standard deviation\n",
    "\n",
    "**Manually**"
   ]
  },
  {
   "cell_type": "code",
   "execution_count": 72,
   "id": "1b7e8b3f",
   "metadata": {},
   "outputs": [
    {
     "data": {
      "text/plain": [
       "555880.6666666666"
      ]
     },
     "execution_count": 72,
     "metadata": {},
     "output_type": "execute_result"
    }
   ],
   "source": [
    "# for Rate :\n",
    "avg_rate = df3['Actual_Dispatch'].mean()\n",
    "avg_rate"
   ]
  },
  {
   "cell_type": "code",
   "execution_count": 73,
   "id": "59de93ec",
   "metadata": {},
   "outputs": [
    {
     "data": {
      "text/plain": [
       "6331.234424133522"
      ]
     },
     "execution_count": 73,
     "metadata": {},
     "output_type": "execute_result"
    }
   ],
   "source": [
    "std_rate = df3['Actual_Dispatch'].std()\n",
    "std_rate"
   ]
  },
  {
   "cell_type": "code",
   "execution_count": 74,
   "id": "18b33c42",
   "metadata": {},
   "outputs": [],
   "source": [
    "# Step 1 : transform using Z-score\n",
    "df3['Z_Score_Rate'] = (df3['Actual_Dispatch'] - avg_rate)/std_rate"
   ]
  },
  {
   "cell_type": "code",
   "execution_count": 75,
   "id": "14078c0d",
   "metadata": {
    "scrolled": false
   },
   "outputs": [
    {
     "data": {
      "text/html": [
       "<div>\n",
       "<style scoped>\n",
       "    .dataframe tbody tr th:only-of-type {\n",
       "        vertical-align: middle;\n",
       "    }\n",
       "\n",
       "    .dataframe tbody tr th {\n",
       "        vertical-align: top;\n",
       "    }\n",
       "\n",
       "    .dataframe thead th {\n",
       "        text-align: right;\n",
       "    }\n",
       "</style>\n",
       "<table border=\"1\" class=\"dataframe\">\n",
       "  <thead>\n",
       "    <tr style=\"text-align: right;\">\n",
       "      <th></th>\n",
       "      <th>Plant</th>\n",
       "      <th>Actual_Dispatch</th>\n",
       "      <th>Forecasted_Dispatch</th>\n",
       "      <th>DispatchDiff</th>\n",
       "      <th>Z_Score_Rate</th>\n",
       "    </tr>\n",
       "  </thead>\n",
       "  <tbody>\n",
       "    <tr>\n",
       "      <th>14</th>\n",
       "      <td>LVPS 1</td>\n",
       "      <td>562074.0</td>\n",
       "      <td>279490.0</td>\n",
       "      <td>282584.0</td>\n",
       "      <td>0.978219</td>\n",
       "    </tr>\n",
       "    <tr>\n",
       "      <th>15</th>\n",
       "      <td>LVPS 2</td>\n",
       "      <td>556148.0</td>\n",
       "      <td>279720.0</td>\n",
       "      <td>276428.0</td>\n",
       "      <td>0.042225</td>\n",
       "    </tr>\n",
       "    <tr>\n",
       "      <th>16</th>\n",
       "      <td>LVPS 3</td>\n",
       "      <td>549420.0</td>\n",
       "      <td>277356.0</td>\n",
       "      <td>272064.0</td>\n",
       "      <td>-1.020443</td>\n",
       "    </tr>\n",
       "  </tbody>\n",
       "</table>\n",
       "</div>"
      ],
      "text/plain": [
       "     Plant  Actual_Dispatch  Forecasted_Dispatch  DispatchDiff  Z_Score_Rate\n",
       "14  LVPS 1         562074.0             279490.0      282584.0      0.978219\n",
       "15  LVPS 2         556148.0             279720.0      276428.0      0.042225\n",
       "16  LVPS 3         549420.0             277356.0      272064.0     -1.020443"
      ]
     },
     "execution_count": 75,
     "metadata": {},
     "output_type": "execute_result"
    }
   ],
   "source": [
    "df3.head()"
   ]
  },
  {
   "cell_type": "code",
   "execution_count": 81,
   "id": "850270c6",
   "metadata": {},
   "outputs": [],
   "source": [
    "import scipy"
   ]
  },
  {
   "cell_type": "code",
   "execution_count": 82,
   "id": "5ed33efd",
   "metadata": {},
   "outputs": [
    {
     "data": {
      "text/plain": [
       "-1.5000000000000022"
      ]
     },
     "execution_count": 82,
     "metadata": {},
     "output_type": "execute_result"
    }
   ],
   "source": [
    "scipy.stats.kurtosis(df3['Actual_Dispatch'],bias=False)"
   ]
  },
  {
   "cell_type": "code",
   "execution_count": 83,
   "id": "59a88de4",
   "metadata": {},
   "outputs": [
    {
     "name": "stdout",
     "output_type": "stream",
     "text": [
      "The skewness for the original data is -0.18967156777589084.\n",
      "The kurtosis for the original data is -1.5000000000000022.\n",
      "\n",
      "The skewness for the Zscore Scaled column is -0.1896715677759458.\n",
      "The kurtosis for the Zscore Scaled columns is -1.5.\n"
     ]
    }
   ],
   "source": [
    "# checking if the skewness and kurtosis post scaling or not:\n",
    "\n",
    "# For Rate:\n",
    "\n",
    "print(\"The skewness for the original data is {}.\".format(df3.Actual_Dispatch.skew()))\n",
    "print(\"The kurtosis for the original data is {}.\".format(scipy.stats.kurtosis(df3['Actual_Dispatch'],bias=False)))\n",
    "#print(\"The kurtosis for the original data is {}.\".format(df3.rate.kurt()))\n",
    "print('')\n",
    "\n",
    "print(\"The skewness for the Zscore Scaled column is {}.\".format(df3.Z_Score_Rate.skew()))\n",
    "print(\"The kurtosis for the Zscore Scaled columns is {}.\".format(scipy.stats.kurtosis(df3['Z_Score_Rate'],bias=False)))"
   ]
  },
  {
   "cell_type": "code",
   "execution_count": 86,
   "id": "3273bce6",
   "metadata": {},
   "outputs": [
    {
     "data": {
      "image/png": "[encoded data removed]",
      "text/plain": [
       "<Figure size 1080x360 with 2 Axes>"
      ]
     },
     "metadata": {
      "needs_background": "light"
     },
     "output_type": "display_data"
    }
   ],
   "source": [
    "# Distribution of the columns\n",
    "\n",
    "fig, axes = plt.subplots(1,2, figsize=(15,5))\n",
    "\n",
    "sns.distplot(df3['Actual_Dispatch'], ax=axes[0])\n",
    "sns.distplot(df3['Z_Score_Rate'], ax=axes[1])\n",
    "\n",
    "\n",
    "plt.show()"
   ]
  },
  {
   "cell_type": "markdown",
   "id": "3d7fb3cf",
   "metadata": {},
   "source": [
    "The only difference between the two curves is of the Range on the x-axis. The impact of scaling on data is: Skewness, Kurtosis and Distribution all remain same."
   ]
  },
  {
   "cell_type": "markdown",
   "id": "fbc212fe",
   "metadata": {},
   "source": [
    "### The need for Scaling is :\n",
    "\n",
    "1) Comparison between variables is easier\n",
    "2) Computation power is more efficient and less time consuming."
   ]
  },
  {
   "cell_type": "code",
   "execution_count": null,
   "id": "b1641f30",
   "metadata": {},
   "outputs": [],
   "source": []
  }
 ],
 "metadata": {
  "kernelspec": {
   "display_name": "Python 3 (ipykernel)",
   "language": "python",
   "name": "python3"
  },
  "language_info": {
   "codemirror_mode": {
    "name": "ipython",
    "version": 3
   },
   "file_extension": ".py",
   "mimetype": "text/x-python",
   "name": "python",
   "nbconvert_exporter": "python",
   "pygments_lexer": "ipython3",
   "version": "3.9.7"
  }
 },
 "nbformat": 4,
 "nbformat_minor": 5
}
