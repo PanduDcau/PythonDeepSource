{
 "cells": [
  {
   "cell_type": "markdown",
   "metadata": {},
   "source": [
    "# Data Preprocessing - why is it important?\n",
    "\n",
    "The main focus of this project is to show few __techniques__ that have been used in __data science projects__.\n",
    "<br><br>\n",
    "The techniques that we are going to use are:\n",
    "<br>\n",
    "<p>1-Case alignment</p>\n",
    "<p>2-Tokenization</p>\n",
    "<p>3-Stopwords removal</p>\n",
    "<p>4-Stemming</p>\n",
    "<p>5-Lemmatization</p>"
   ]
  },
  {
   "cell_type": "markdown",
   "metadata": {},
   "source": [
    "## Collecting the data\n",
    "\n",
    "We are going to use this pdf archive* as the source of all the preprocessing implementation: alex.smola.org/drafts/thebook.pdf. _(By the way, very great content!)_\n",
    "<br>\n",
    "<sub>*Not the entire pdf, just two pages, because the main objective of this notebook is to show the techniques.</sub>\n",
    "<br><br><br>\n",
    "For this, we will use the pdftotext library that provide support for the text extraction for pdf files.\n",
    "\n",
    "In case you want to test this project by your own, you will need to download [the pdf file](https://alex.smola.org/drafts/thebook.pdf) that I've used and update the <code>path</code> variable with the directory where the file is in your computer."
   ]
  },
  {
   "cell_type": "code",
   "execution_count": 2,
   "metadata": {
    "scrolled": true
   },
   "outputs": [],
   "source": [
    "import pdftotext\n",
    "import io"
   ]
  },
  {
   "cell_type": "code",
   "execution_count": 3,
   "metadata": {},
   "outputs": [
    {
     "name": "stdout",
     "output_type": "stream",
     "text": [
      "                                           A Study In Scarlet\r\n",
      "\r\n",
      "                                             CHAPTER I.\r\n",
      "\r\n",
      "\r\n",
      "\r\n",
      "\r\n",
      "I\r\n",
      "                                       Mr. Sherlock Holmes\r\n",
      "\r\n",
      "          n the year 1878 I took my degree of              irresistibly drained. There I stayed for some time at\r\n",
      "           Doctor of Medicine of the University of         a private hotel in the Strand, leading a comfortless,\r\n",
      "           London, and proceeded to Netley to go           meaningless existence, and spending such money\r\n",
      "           through the course prescribed for sur-          as I had, considerably more freely than I ought. So\r\n",
      "geons in the army. Having completed my studies             alarming did the state of my finances become, that\r\n",
      "there, I was duly attached to the Fifth Northumber-        I soon realized that I must either leave the metropo-\r\n",
      "land Fusiliers as Assistant Surgeon. The regiment          lis and rusticate somewhere in the country, or that\r\n",
      "was stationed in India at the time, and before I           I must make a complete alteration in my style of\r\n",
      "could join it, the second Afghan war had broken            living. Choosing the latter alternative, I began by\r\n",
      "out. On landing at Bombay, I learned that my corps         making up my mind to leave the hotel, and to take\r\n",
      "had advanced through the passes, and was already           up my quarters in some less pretentious and less\r\n",
      "deep in the enemy’s country. I followed, however,          expensive domicile.\r\n",
      "with many other officers who were in the same                  On the very day that I had come to this con-\r\n",
      "situation as myself, and succeeded in reaching Can-        clusion, I was standing at the Criterion Bar, when\r\n",
      "dahar in safety, where I found my regiment, and at         some one tapped me on the shoulder, and turning\r\n",
      "once entered upon my new duties.                           round I recognized young Stamford, who had been\r\n",
      "    The campaign brought honours and promotion             a dresser under me at Bart’s. The sight of a friendly\r\n",
      "to many, but for me it had nothing but misfortune          face in the great wilderness of London is a pleasant\r\n",
      "and disaster. I was removed from my brigade and            thing indeed to a lonely man. In old days Stamford\r\n",
      "attached to the Berkshires, with whom I served at          had never been a particular crony of mine, but now\r\n",
      "the fatal battle of Maiwand. There I was struck on         I hailed him with enthusiasm, and he, in his turn,\r\n",
      "the shoulder by a Jezail bullet, which shattered the       appeared to be delighted to see me. In the exuber-\r\n",
      "bone and grazed the subclavian artery. I should            ance of my joy, I asked him to lunch with me at the\r\n",
      "have fallen into the hands of the murderous Ghazis         Holborn, and we started off together in a hansom.\r\n",
      "had it not been for the devotion and courage shown             “Whatever have you been doing with yourself,\r\n",
      "by Murray, my orderly, who threw me across a               Watson?” he asked in undisguised wonder, as we\r\n",
      "pack-horse, and succeeded in bringing me safely to         rattled through the crowded London streets. “You\r\n",
      "the British lines.                                         are as thin as a lath and as brown as a nut.”\r\n",
      "   Worn with pain, and weak from the prolonged                 I gave him a short sketch of my adventures,\r\n",
      "hardships which I had undergone, I was removed,            and had hardly concluded it by the time that we\r\n",
      "with a great train of wounded sufferers, to the base       reached our destination.\r\n",
      "hospital at Peshawar. Here I rallied, and had al-              “Poor devil!” he said, commiseratingly, after he\r\n",
      "ready improved so far as to be able to walk about          had listened to my misfortunes. “What are you up\r\n",
      "the wards, and even to bask a little upon the veran-       to now?”\r\n",
      "dah, when I was struck down by enteric fever, that             “Looking for lodgings,” I answered. “Trying to\r\n",
      "curse of our Indian possessions. For months my life        solve the problem as to whether it is possible to get\r\n",
      "was despaired of, and when at last I came to myself        comfortable rooms at a reasonable price.”\r\n",
      "and became convalescent, I was so weak and emaci-              “That’s a strange thing,” remarked my compan-\r\n",
      "ated that a medical board determined that not a day        ion; “you are the second man to-day that has used\r\n",
      "should be lost in sending me back to England. I was        that expression to me.”\r\n",
      "dispatched, accordingly, in the troopship Orontes,             “And who was the first?” I asked.\r\n",
      "and landed a month later on Portsmouth jetty, with             “A fellow who is working at the chemical labora-\r\n",
      "my health irretrievably ruined, but with permission        tory up at the hospital. He was bemoaning himself\r\n",
      "from a paternal government to spend the next nine          this morning because he could not get someone\r\n",
      "months in attempting to improve it.                        to go halves with him in some nice rooms which\r\n",
      "    I had neither kith nor kin in England, and was         he had found, and which were too much for his\r\n",
      "therefore as free as air—or as free as an income           purse.”\r\n",
      "of eleven shillings and sixpence a day will permit             “By Jove!” I cried, “if he really wants someone\r\n",
      "a man to be. Under such circumstances, I natu-             to share the rooms and the expense, I am the very\r\n",
      "rally gravitated to London, that great cesspool into       man for him. I should prefer having a partner to\r\n",
      "which all the loungers and idlers of the Empire are        being alone.”\r\n",
      "\r\n",
      "                                                       7\r\n",
      "\f",
      "\n"
     ]
    }
   ],
   "source": [
    "\n",
    "pages = ''\n",
    "dict = {}\n",
    "path = \"/Users/Asus/Documents/Atmel Studio/Sherlock_Canon.pdf\"\n",
    "\n",
    "fileObject = open(path, 'rb')\n",
    "pdf = pdftotext.PDF(fileObject)\n",
    "\n",
    "#we just wanted the page 11\n",
    "for index, page in enumerate(pdf, 1):    \n",
    "    if (index == 11):\n",
    "        pages += str(page) \n",
    "        dict[index] = page\n",
    "        break\n",
    "\n",
    "result = pages\n",
    "print(result)"
   ]
  },
  {
   "cell_type": "markdown",
   "metadata": {},
   "source": [
    "## 1 - Case alignment\n",
    "\n",
    "Avoid duplicated words - <code>Computer</code> and <code>computer</code> have the same meaning."
   ]
  },
  {
   "cell_type": "code",
   "execution_count": 4,
   "metadata": {},
   "outputs": [],
   "source": [
    "result = result.lower()"
   ]
  },
  {
   "cell_type": "markdown",
   "metadata": {},
   "source": [
    "## Removing \"Introduction\" word and the summary titles  - isn't necessary\n",
    "For this, we need to find starting index for the word \"over\", because that is the on that the text will start with."
   ]
  },
  {
   "cell_type": "code",
   "execution_count": 5,
   "metadata": {},
   "outputs": [
    {
     "name": "stdout",
     "output_type": "stream",
     "text": [
      "4820\n"
     ]
    }
   ],
   "source": [
    "print(result.find('over'))"
   ]
  },
  {
   "cell_type": "code",
   "execution_count": 6,
   "metadata": {},
   "outputs": [
    {
     "name": "stdout",
     "output_type": "stream",
     "text": [
      "                         chapter i.\r\n",
      "\r\n",
      "\r\n",
      "\r\n",
      "\r\n",
      "i\r\n",
      "                                       mr. sherlock holmes\r\n",
      "\r\n",
      "          n the year 1878 i took my degree of              irresistibly drained. there i stayed for some time at\r\n",
      "           doctor of medicine of the university of         a private hotel in the strand, leading a comfortless,\r\n",
      "           london, and proceeded to netley to go           meaningless existence, and spending such money\r\n",
      "           through the course prescribed for sur-          as i had, considerably more freely than i ought. so\r\n",
      "geons in the army. having completed my studies             alarming did the state of my finances become, that\r\n",
      "there, i was duly attached to the fifth northumber-        i soon realized that i must either leave the metropo-\r\n",
      "land fusiliers as assistant surgeon. the regiment          lis and rusticate somewhere in the country, or that\r\n",
      "was stationed in india at the time, and before i           i must make a complete alteration in my style of\r\n",
      "could join it, the second afghan war had broken            living. choosing the latter alternative, i began by\r\n",
      "out. on landing at bombay, i learned that my corps         making up my mind to leave the hotel, and to take\r\n",
      "had advanced through the passes, and was already           up my quarters in some less pretentious and less\r\n",
      "deep in the enemy’s country. i followed, however,          expensive domicile.\r\n",
      "with many other officers who were in the same                  on the very day that i had come to this con-\r\n",
      "situation as myself, and succeeded in reaching can-        clusion, i was standing at the criterion bar, when\r\n",
      "dahar in safety, where i found my regiment, and at         some one tapped me on the shoulder, and turning\r\n",
      "once entered upon my new duties.                           round i recognized young stamford, who had been\r\n",
      "    the campaign brought honours and promotion             a dresser under me at bart’s. the sight of a friendly\r\n",
      "to many, but for me it had nothing but misfortune          face in the great wilderness of london is a pleasant\r\n",
      "and disaster. i was removed from my brigade and            thing indeed to a lonely man. in old days stamford\r\n",
      "attached to the berkshires, with whom i served at          had never been a particular crony of mine, but now\r\n",
      "the fatal battle of maiwand. there i was struck on         i hailed him with enthusiasm, and he, in his turn,\r\n",
      "the shoulder by a jezail bullet, which shattered the       appeared to be delighted to see me. in the exuber-\r\n",
      "bone and grazed the subclavian artery. i should            ance of my joy, i asked him to lunch with me at the\r\n",
      "have fallen into the hands of the murderous ghazis         holborn, and we started off together in a hansom.\r\n",
      "had it not been for the devotion and courage shown             “whatever have you been doing with yourself,\r\n",
      "by murray, my orderly, who threw me across a               watson?” he asked in undisguised wonder, as we\r\n",
      "pack-horse, and succeeded in bringing me safely to         rattled through the crowded london streets. “you\r\n",
      "the british lines.                                         are as thin as a lath and as brown as a nut.”\r\n",
      "   worn with pain, and weak from the prolonged                 i gave him a short sketch of my adventures,\r\n",
      "hardships which i had undergone, i was removed,            and had hardly concluded it by the time that we\r\n",
      "with a great train of wounded sufferers, to the base       reached our destination.\r\n",
      "hospital at peshawar. here i rallied, and had al-              “poor devil!” he said, commiseratingly, after he\r\n",
      "ready improved so far as to be able to walk about          had listened to my misfortunes. “what are you up\r\n",
      "the wards, and even to bask a little upon the veran-       to now?”\r\n",
      "dah, when i was struck down by enteric fever, that             “looking for lodgings,” i answered. “trying to\r\n",
      "curse of our indian possessions. for months my life        solve the problem as to whether it is possible to get\r\n",
      "was despaired of, and when at last i came to myself        comfortable rooms at a reasonable price.”\r\n",
      "and became convalescent, i was so weak and emaci-              “that’s a strange thing,” remarked my compan-\r\n",
      "ated that a medical board determined that not a day        ion; “you are the second man to-day that has used\r\n",
      "should be lost in sending me back to england. i was        that expression to me.”\r\n",
      "dispatched, accordingly, in the troopship orontes,             “and who was the first?” i asked.\r\n",
      "and landed a month later on portsmouth jetty, with             “a fellow who is working at the chemical labora-\r\n",
      "my health irretrievably ruined, but with permission        tory up at the hospital. he was bemoaning himself\r\n",
      "from a paternal government to spend the next nine          this morning because he could not get someone\r\n",
      "months in attempting to improve it.                        to go halves with him in some nice rooms which\r\n",
      "    i had neither kith nor kin in england, and was         he had found, and which were too much for his\r\n",
      "therefore as free as air—or as free as an income           purse.”\r\n",
      "of eleven shillings and sixpence a day will permit             “by jove!” i cried, “if he really wants someone\r\n",
      "a man to be. under such circumstances, i natu-             to share the rooms and the expense, i am the very\r\n",
      "rally gravitated to london, that great cesspool into       man for him. i should prefer having a partner to\r\n",
      "which all the loungers and idlers of the empire are        being alone.”\r\n",
      "\r\n",
      "                                                       7\r\n",
      "\f",
      "\n"
     ]
    }
   ],
   "source": [
    "print(result[85:])\n",
    "result = result[85:]"
   ]
  },
  {
   "cell_type": "code",
   "execution_count": 12,
   "metadata": {},
   "outputs": [],
   "source": [
    "result = result.replace('mr. sherlock holmes', 'Sherlock Holmes')"
   ]
  },
  {
   "cell_type": "code",
   "execution_count": 13,
   "metadata": {},
   "outputs": [],
   "source": [
    "result = result.replace('reasonable', 'fair')"
   ]
  },
  {
   "cell_type": "code",
   "execution_count": 14,
   "metadata": {
    "scrolled": true
   },
   "outputs": [
    {
     "name": "stdout",
     "output_type": "stream",
     "text": [
      "                         chapter i.\r\n",
      "\r\n",
      "\r\n",
      "\r\n",
      "\r\n",
      "i\r\n",
      "                                       Sherlock Holmes\r\n",
      "\r\n",
      "          n the year 1878 i took my degree of              irresistibly drained. there i stayed for some time at\r\n",
      "           doctor of medicine of the university of         a private hotel in the strand, leading a comfortless,\r\n",
      "           london, and proceeded to netley to go           meaningless existence, and spending such money\r\n",
      "           through the course prescribed for sur-          as i had, considerably more freely than i ought. so\r\n",
      "geons in the army. having completed my studies             alarming did the state of my finances become, that\r\n",
      "there, i was duly attached to the fifth northumber-        i soon realized that i must either leave the metropo-\r\n",
      "land fusiliers as assistant surgeon. the regiment          lis and rusticate somewhere in the country, or that\r\n",
      "was stationed in india at the time, and before i           i must make a complete alteration in my style of\r\n",
      "could join it, the second afghan war had broken            living. choosing the latter alternative, i began by\r\n",
      "out. on landing at bombay, i learned that my corps         making up my mind to leave the hotel, and to take\r\n",
      "had advanced through the passes, and was already           up my quarters in some less pretentious and less\r\n",
      "deep in the enemy’s country. i followed, however,          expensive domicile.\r\n",
      "with many other officers who were in the same                  on the very day that i had come to this con-\r\n",
      "situation as myself, and succeeded in reaching can-        clusion, i was standing at the criterion bar, when\r\n",
      "dahar in safety, where i found my regiment, and at         some one tapped me on the shoulder, and turning\r\n",
      "once entered upon my new duties.                           round i recognized young stamford, who had been\r\n",
      "    the campaign brought honours and promotion             a dresser under me at bart’s. the sight of a friendly\r\n",
      "to many, but for me it had nothing but misfortune          face in the great wilderness of london is a pleasant\r\n",
      "and disaster. i was removed from my brigade and            thing indeed to a lonely man. in old days stamford\r\n",
      "attached to the berkshires, with whom i served at          had never been a particular crony of mine, but now\r\n",
      "the fatal battle of maiwand. there i was struck on         i hailed him with enthusiasm, and he, in his turn,\r\n",
      "the shoulder by a jezail bullet, which shattered the       appeared to be delighted to see me. in the exuber-\r\n",
      "bone and grazed the subclavian artery. i should            ance of my joy, i asked him to lunch with me at the\r\n",
      "have fallen into the hands of the murderous ghazis         holborn, and we started off together in a hansom.\r\n",
      "had it not been for the devotion and courage shown             “whatever have you been doing with yourself,\r\n",
      "by murray, my orderly, who threw me across a               watson?” he asked in undisguised wonder, as we\r\n",
      "pack-horse, and succeeded in bringing me safely to         rattled through the  streets. “you\r\n",
      "the british lines.                                         are as thin as a lath and as brown as a nut.”\r\n",
      "   worn with pain, and weak from the prolonged                 i gave him a short sketch of my adventures,\r\n",
      "hardships which i had undergone, i was removed,            and had hardly concluded it by the time that we\r\n",
      "with a great train of wounded sufferers, to the base       reached our destination.\r\n",
      "hospital at peshawar. here i rallied, and had al-              “poor devil!” he said, commiseratingly, after he\r\n",
      "ready improved so far as to be able to walk about          had listened to my misfortunes. “what are you up\r\n",
      "the wards, and even to bask a little upon the veran-       to now?”\r\n",
      "dah, when i was struck down by enteric fever, that             “looking for lodgings,” i answered. “trying to\r\n",
      "curse of our indian possessions. for months my life        solve the problem as to whether it is possible to get\r\n",
      "was despaired of, and when at last i came to myself        comfortable rooms at a fair price.”\r\n",
      "and became convalescent, i was so weak and emaci-              “that’s a strange thing,” remarked my compan-\r\n",
      "ated that a medical board determined that not a day        ion; “you are the second man to-day that has used\r\n",
      "should be lost in sending me back to england. i was        that expression to me.”\r\n",
      "dispatched, accordingly, in the troopship orontes,             “and who was the first?” i asked.\r\n",
      "and landed a month later on portsmouth jetty, with             “a fellow who is working at the chemical labora-\r\n",
      "my health irretrievably ruined, but with permission        tory up at the hospital. he was bemoaning himself\r\n",
      "from a paternal government to spend the next nine          this morning because he could not get someone\r\n",
      "months in attempting to improve it.                        to go halves with him in some nice rooms which\r\n",
      "    i had neither kith nor kin in england, and was         he had found, and which were too much for his\r\n",
      "therefore as free as air—or as free as an income           purse.”\r\n",
      "of eleven shillings and sixpence a day will permit             “by jove!” i cried, “if he really wants someone\r\n",
      "a man to be. under such circumstances, i natu-             to share the rooms and the expense, i am the very\r\n",
      "rally gravitated to london, that great cesspool into       man for him. i should prefer having a partner to\r\n",
      "which all the loungers and idlers of the empire are        being alone.”\r\n",
      "\r\n",
      "                                                       7\r\n",
      "\f",
      "\n"
     ]
    }
   ],
   "source": [
    "print(result)"
   ]
  },
  {
   "cell_type": "markdown",
   "metadata": {},
   "source": [
    "### Also, we don't want the final phrase of the text. And the page."
   ]
  },
  {
   "cell_type": "code",
   "execution_count": 15,
   "metadata": {},
   "outputs": [
    {
     "name": "stdout",
     "output_type": "stream",
     "text": [
      "1854\n"
     ]
    }
   ],
   "source": [
    "print(result.find('campaign'))"
   ]
  },
  {
   "cell_type": "code",
   "execution_count": 16,
   "metadata": {},
   "outputs": [
    {
     "name": "stdout",
     "output_type": "stream",
     "text": [
      "                         chapter i.\r\n",
      "\r\n",
      "\r\n",
      "\r\n",
      "\r\n",
      "i\r\n",
      "                                       Sherlock Holmes\r\n",
      "\r\n",
      "          n the year 1878 i took my degree of              irresistibly drained. there i stayed for some time at\r\n",
      "           doctor of medicine of the university of         a private hotel in the strand, leading a comfortless,\r\n",
      "           london, and proceeded to netley to go           meaningless existence, and spending such money\r\n",
      "           through the course prescribed for sur-          as i had, considerably more freely than i ought. so\r\n",
      "geons in the army. having completed my studies             alarming did the state of my finances become, that\r\n",
      "there, i was duly attached to the fifth northumber-        i soon realized that i must either leave the metropo-\r\n",
      "land fusiliers as assistant surgeon. the regiment          lis and rusticate somewhere in the country, or that\r\n",
      "was stationed in india at the time, and before i           i must make a complete alteration in my style of\r\n",
      "could join it, the second afghan war had broken            living. choosing the latter alternative, i began by\r\n",
      "out. on landing at bombay, i learned that my corps         making up my mind to leave the hotel, and to take\r\n",
      "had advanced through the passes, and was already           up my quarters in some less pretentious and less\r\n",
      "deep in the enemy’s country. i followed, however,          expensive domicile.\r\n",
      "with many other officers who were in the same                  on the very day that i had come to this con-\r\n",
      "situation as myself, and succeeded in reaching can-        clusion, i was standing at the criterion bar, when\r\n",
      "dahar in safety, where i found my regiment, and at         some one tapped me on the shoulder, and turning\r\n",
      "once entered upon my new duties.                           round i recognized young stamford, who had been\r\n",
      "    the \n"
     ]
    }
   ],
   "source": [
    "print(result[:1854])\n",
    "result = result[:1854]"
   ]
  },
  {
   "cell_type": "markdown",
   "metadata": {},
   "source": [
    "## 2 - Tokenization (by sentence)"
   ]
  },
  {
   "cell_type": "code",
   "execution_count": 18,
   "metadata": {},
   "outputs": [],
   "source": [
    "from nltk.tokenize import sent_tokenize\n",
    "from nltk.corpus import stopwords"
   ]
  },
  {
   "cell_type": "code",
   "execution_count": null,
   "metadata": {},
   "outputs": [],
   "source": [
    "tokens_by_sentence = ''\n",
    "\n",
    "tokens_by_sentence = sent_tokenize(result)\n",
    "tokens_by_sentence = [w.replace('\\n', ' ').replace('- ', '') for w in tokens_by_sentence]"
   ]
  },
  {
   "cell_type": "code",
   "execution_count": 171,
   "metadata": {},
   "outputs": [
    {
     "name": "stdout",
     "output_type": "stream",
     "text": [
      "['over the past two decades machine learning has become one of the mainstays of information technology and with that, a rather central, albeit usually hidden, part of our life.', 'with the ever increasing amounts of data becoming available there is good reason to believe that smart data analysis will become even more pervasive as a necessary ingredient for technological progress.', 'the purpose of this chapter is to provide the reader with an overview over the vast range of applications which have at their heart a machine learning problem and to bring some degree of order to the zoo of problems.', 'after that, we will discuss some basic tools from statistics and probability theory, since they form the language in which many machine learning problems must be phrased to become amenable to solving.', 'finally, we will outline a set of fairly basic yet effective algorithms to solve an important problem, namely that of classification.', 'more sophisticated tools, a discussion of more general problems and a detailed analysis will follow in later parts of the book.', 'machine learning can appear in many guises.', 'we now discuss a number of applications, the types of data they deal with, and finally, we formalize the problems in a somewhat more stylized fashion.', 'the latter is key if we want to avoid reinventing the wheel for every new application.', 'instead, much of the art of machine learning is to reduce a range of fairly disparate problems to a set of fairly narrow prototypes.', 'much of the science of machine learning is then to solve those problems and provide good guarantees for the solutions.', 'most readers will be familiar with the concept of web page ranking.', 'that is, the process of submitting a query to a search engine, which then finds webpages relevant to the query and which returns them in their order of relevance.', 'see e.g.', 'figure 1.1 for an example of the query results for “machine learning”.', 'that is, the search engine returns a sorted list of webpages given a query.']\n"
     ]
    }
   ],
   "source": [
    "print(tokens_by_sentence)"
   ]
  },
  {
   "cell_type": "markdown",
   "metadata": {},
   "source": [
    "## 2 - Tokenization (by word)"
   ]
  },
  {
   "cell_type": "code",
   "execution_count": 172,
   "metadata": {},
   "outputs": [],
   "source": [
    "from nltk.tokenize import word_tokenize\n",
    "\n",
    "tokens_by_word = ''\n",
    "\n",
    "tokens_by_word = word_tokenize(result)\n",
    "tokens_by_word = [w.replace('\\n', ' ').replace('- ', '') for w in tokens_by_word]"
   ]
  },
  {
   "cell_type": "code",
   "execution_count": 173,
   "metadata": {},
   "outputs": [
    {
     "name": "stdout",
     "output_type": "stream",
     "text": [
      "['over', 'the', 'past', 'two', 'decades', 'machine', 'learning', 'has', 'become', 'one', 'of', 'the', 'main-', 'stays', 'of', 'information', 'technology', 'and', 'with', 'that', ',', 'a', 'rather', 'central', ',', 'albeit', 'usually', 'hidden', ',', 'part', 'of', 'our', 'life', '.', 'with', 'the', 'ever', 'increasing', 'amounts', 'of', 'data', 'becoming', 'available', 'there', 'is', 'good', 'reason', 'to', 'believe', 'that', 'smart', 'data', 'analysis', 'will', 'become', 'even', 'more', 'pervasive', 'as', 'a', 'necessary', 'ingredient', 'for', 'technological', 'progress', '.', 'the', 'purpose', 'of', 'this', 'chapter', 'is', 'to', 'provide', 'the', 'reader', 'with', 'an', 'overview', 'over', 'the', 'vast', 'range', 'of', 'applications', 'which', 'have', 'at', 'their', 'heart', 'a', 'machine', 'learning', 'problem', 'and', 'to', 'bring', 'some', 'degree', 'of', 'order', 'to', 'the', 'zoo', 'of', 'problems', '.', 'after', 'that', ',', 'we', 'will', 'discuss', 'some', 'basic', 'tools', 'from', 'statistics', 'and', 'probability', 'theory', ',', 'since', 'they', 'form', 'the', 'language', 'in', 'which', 'many', 'machine', 'learning', 'problems', 'must', 'be', 'phrased', 'to', 'become', 'amenable', 'to', 'solving', '.', 'finally', ',', 'we', 'will', 'outline', 'a', 'set', 'of', 'fairly', 'basic', 'yet', 'effective', 'algorithms', 'to', 'solve', 'an', 'important', 'problem', ',', 'namely', 'that', 'of', 'classification', '.', 'more', 'sophisticated', 'tools', ',', 'a', 'discussion', 'of', 'more', 'general', 'problems', 'and', 'a', 'detailed', 'analysis', 'will', 'follow', 'in', 'later', 'parts', 'of', 'the', 'book', '.', 'machine', 'learning', 'can', 'appear', 'in', 'many', 'guises', '.', 'we', 'now', 'discuss', 'a', 'number', 'of', 'applications', ',', 'the', 'types', 'of', 'data', 'they', 'deal', 'with', ',', 'and', 'finally', ',', 'we', 'formalize', 'the', 'problems', 'in', 'a', 'somewhat', 'more', 'stylized', 'fashion', '.', 'the', 'latter', 'is', 'key', 'if', 'we', 'want', 'to', 'avoid', 'reinventing', 'the', 'wheel', 'for', 'every', 'new', 'application', '.', 'instead', ',', 'much', 'of', 'the', 'art', 'of', 'machine', 'learning', 'is', 'to', 'reduce', 'a', 'range', 'of', 'fairly', 'disparate', 'problems', 'to', 'a', 'set', 'of', 'fairly', 'narrow', 'prototypes', '.', 'much', 'of', 'the', 'science', 'of', 'machine', 'learning', 'is', 'then', 'to', 'solve', 'those', 'problems', 'and', 'provide', 'good', 'guarantees', 'for', 'the', 'solutions', '.', 'most', 'readers', 'will', 'be', 'familiar', 'with', 'the', 'concept', 'of', 'web', 'page', 'ranking', '.', 'that', 'is', ',', 'the', 'process', 'of', 'submitting', 'a', 'query', 'to', 'a', 'search', 'engine', ',', 'which', 'then', 'finds', 'webpages', 'relevant', 'to', 'the', 'query', 'and', 'which', 'returns', 'them', 'in', 'their', 'order', 'of', 'relevance', '.', 'see', 'e.g', '.', 'figure', '1.1', 'for', 'an', 'example', 'of', 'the', 'query', 'results', 'for', '“', 'ma-', 'chine', 'learning', '”', '.', 'that', 'is', ',', 'the', 'search', 'engine', 'returns', 'a', 'sorted', 'list', 'of', 'webpages', 'given', 'a', 'query', '.']\n"
     ]
    }
   ],
   "source": [
    "print(tokens_by_word)"
   ]
  },
  {
   "cell_type": "markdown",
   "metadata": {},
   "source": [
    "## 3 - Stopwords removal"
   ]
  },
  {
   "cell_type": "code",
   "execution_count": 174,
   "metadata": {},
   "outputs": [
    {
     "name": "stdout",
     "output_type": "stream",
     "text": [
      "['i', 'me', 'my', 'myself', 'we', 'our', 'ours', 'ourselves', 'you', \"you're\", \"you've\", \"you'll\", \"you'd\", 'your', 'yours', 'yourself', 'yourselves', 'he', 'him', 'his', 'himself', 'she', \"she's\", 'her', 'hers', 'herself', 'it', \"it's\", 'its', 'itself', 'they', 'them', 'their', 'theirs', 'themselves', 'what', 'which', 'who', 'whom', 'this', 'that', \"that'll\", 'these', 'those', 'am', 'is', 'are', 'was', 'were', 'be', 'been', 'being', 'have', 'has', 'had', 'having', 'do', 'does', 'did', 'doing', 'a', 'an', 'the', 'and', 'but', 'if', 'or', 'because', 'as', 'until', 'while', 'of', 'at', 'by', 'for', 'with', 'about', 'against', 'between', 'into', 'through', 'during', 'before', 'after', 'above', 'below', 'to', 'from', 'up', 'down', 'in', 'out', 'on', 'off', 'over', 'under', 'again', 'further', 'then', 'once', 'here', 'there', 'when', 'where', 'why', 'how', 'all', 'any', 'both', 'each', 'few', 'more', 'most', 'other', 'some', 'such', 'no', 'nor', 'not', 'only', 'own', 'same', 'so', 'than', 'too', 'very', 's', 't', 'can', 'will', 'just', 'don', \"don't\", 'should', \"should've\", 'now', 'd', 'll', 'm', 'o', 're', 've', 'y', 'ain', 'aren', \"aren't\", 'couldn', \"couldn't\", 'didn', \"didn't\", 'doesn', \"doesn't\", 'hadn', \"hadn't\", 'hasn', \"hasn't\", 'haven', \"haven't\", 'isn', \"isn't\", 'ma', 'mightn', \"mightn't\", 'mustn', \"mustn't\", 'needn', \"needn't\", 'shan', \"shan't\", 'shouldn', \"shouldn't\", 'wasn', \"wasn't\", 'weren', \"weren't\", 'won', \"won't\", 'wouldn', \"wouldn't\"]\n"
     ]
    }
   ],
   "source": [
    "print(stopwords.words('english'))"
   ]
  },
  {
   "cell_type": "code",
   "execution_count": 175,
   "metadata": {},
   "outputs": [
    {
     "name": "stdout",
     "output_type": "stream",
     "text": [
      "['de', 'a', 'o', 'que', 'e', 'do', 'da', 'em', 'um', 'para']\n"
     ]
    }
   ],
   "source": [
    "print(stopwords.words('portuguese')[:10])"
   ]
  },
  {
   "cell_type": "code",
   "execution_count": 176,
   "metadata": {},
   "outputs": [],
   "source": [
    "def remove_stopwords(text):\n",
    "    stopWords = stopwords.words('english')\n",
    "    not_stopword = [word for word in text if not word in stopWords]\n",
    "    return not_stopword\n",
    "\n",
    "result = remove_stopwords(tokens_by_word)"
   ]
  },
  {
   "cell_type": "code",
   "execution_count": 177,
   "metadata": {},
   "outputs": [
    {
     "name": "stdout",
     "output_type": "stream",
     "text": [
      "['past', 'two', 'decades', 'machine', 'learning', 'become', 'one', 'main-', 'stays', 'information', 'technology', ',', 'rather', 'central', ',', 'albeit', 'usually', 'hidden', ',', 'part', 'life', '.', 'ever', 'increasing', 'amounts', 'data', 'becoming', 'available', 'good', 'reason', 'believe', 'smart', 'data', 'analysis', 'become', 'even', 'pervasive', 'necessary', 'ingredient', 'technological', 'progress', '.', 'purpose', 'chapter', 'provide', 'reader', 'overview', 'vast', 'range', 'applications', 'heart', 'machine', 'learning', 'problem', 'bring', 'degree', 'order', 'zoo', 'problems', '.', ',', 'discuss', 'basic', 'tools', 'statistics', 'probability', 'theory', ',', 'since', 'form', 'language', 'many', 'machine', 'learning', 'problems', 'must', 'phrased', 'become', 'amenable', 'solving', '.', 'finally', ',', 'outline', 'set', 'fairly', 'basic', 'yet', 'effective', 'algorithms', 'solve', 'important', 'problem', ',', 'namely', 'classification', '.', 'sophisticated', 'tools', ',', 'discussion', 'general', 'problems', 'detailed', 'analysis', 'follow', 'later', 'parts', 'book', '.', 'machine', 'learning', 'appear', 'many', 'guises', '.', 'discuss', 'number', 'applications', ',', 'types', 'data', 'deal', ',', 'finally', ',', 'formalize', 'problems', 'somewhat', 'stylized', 'fashion', '.', 'latter', 'key', 'want', 'avoid', 'reinventing', 'wheel', 'every', 'new', 'application', '.', 'instead', ',', 'much', 'art', 'machine', 'learning', 'reduce', 'range', 'fairly', 'disparate', 'problems', 'set', 'fairly', 'narrow', 'prototypes', '.', 'much', 'science', 'machine', 'learning', 'solve', 'problems', 'provide', 'good', 'guarantees', 'solutions', '.', 'readers', 'familiar', 'concept', 'web', 'page', 'ranking', '.', ',', 'process', 'submitting', 'query', 'search', 'engine', ',', 'finds', 'webpages', 'relevant', 'query', 'returns', 'order', 'relevance', '.', 'see', 'e.g', '.', 'figure', '1.1', 'example', 'query', 'results', '“', 'ma-', 'chine', 'learning', '”', '.', ',', 'search', 'engine', 'returns', 'sorted', 'list', 'webpages', 'given', 'query', '.']\n"
     ]
    }
   ],
   "source": [
    "print(result)"
   ]
  },
  {
   "cell_type": "markdown",
   "metadata": {},
   "source": [
    "## 4 - Stemming\n",
    "\n",
    "For Non-English projects (such as portuguese), a good library is __RSLP Stemmer__.\n",
    "<br>\n",
    "For our purpose, we will use the __SnowballStemmer__ that provides a great support for the english language.\n",
    "<br><br>\n",
    "We need to remember that we have a lot of libraries that have similar functionalities. The right thing to do is to test each one to make sure we choose the one with the best result.\n",
    "<br>\n",
    "Examples of other stemmers:\n",
    "* PorterStemmer (English)\n",
    "* LancasterStemmer (English)\n",
    "* ISRIStemmer (Arabic)\n",
    "* RSLPSTemmer (Portuguese)"
   ]
  },
  {
   "cell_type": "code",
   "execution_count": 194,
   "metadata": {},
   "outputs": [
    {
     "name": "stdout",
     "output_type": "stream",
     "text": [
      "['over', 'the', 'past', 'two', 'decad', 'machin', 'learn', 'has', 'becom', 'one', 'of', 'the', 'main-', 'stay', 'of', 'inform', 'technolog', 'and', 'with', 'that', ',', 'a', 'rather', 'central', ',', 'albeit', 'usual', 'hidden', ',', 'part', 'of', 'our', 'life', '.', 'with', 'the', 'ever', 'increas', 'amount', 'of', 'data', 'becom', 'avail', 'there', 'is', 'good', 'reason', 'to', 'believ', 'that']\n"
     ]
    }
   ],
   "source": [
    "from nltk.stem.snowball import SnowballStemmer\n",
    "\n",
    "englishStemmer = SnowballStemmer('english')\n",
    "\n",
    "words = [word for word in result if word.isalpha()]\n",
    "\n",
    "stemmed = [englishStemmer.stem(word) for word in tokens_by_word]\n",
    "print(stemmed[:50])"
   ]
  },
  {
   "cell_type": "markdown",
   "metadata": {},
   "source": [
    "## 5 - Lemmatization"
   ]
  },
  {
   "cell_type": "code",
   "execution_count": 197,
   "metadata": {},
   "outputs": [
    {
     "name": "stdout",
     "output_type": "stream",
     "text": [
      "['over', 'the', 'past', 'two', 'decades', 'machine', 'learn', 'have', 'become', 'one', 'of', 'the', 'main-', 'stay', 'of', 'information', 'technology', 'and', 'with', 'that', ',', 'a', 'rather', 'central', ',', 'albeit', 'usually', 'hide', ',', 'part', 'of', 'our', 'life', '.', 'with', 'the', 'ever', 'increase', 'amount', 'of', 'data', 'become', 'available', 'there', 'be', 'good', 'reason', 'to', 'believe', 'that']\n"
     ]
    }
   ],
   "source": [
    "from nltk.stem import WordNetLemmatizer\n",
    "\n",
    "wordnet_lemmatizer = WordNetLemmatizer()\n",
    "\n",
    "lemmatized = [wordnet_lemmatizer.lemmatize(word, pos=\"v\") for word in tokens_by_word]\n",
    "print(lemmatized[:50])"
   ]
  }
 ],
 "metadata": {
  "kernelspec": {
   "display_name": "Python 3 (ipykernel)",
   "language": "python",
   "name": "python3"
  },
  "language_info": {
   "codemirror_mode": {
    "name": "ipython",
    "version": 3
   },
   "file_extension": ".py",
   "mimetype": "text/x-python",
   "name": "python",
   "nbconvert_exporter": "python",
   "pygments_lexer": "ipython3",
   "version": "3.9.7"
  }
 },
 "nbformat": 4,
 "nbformat_minor": 2
}
