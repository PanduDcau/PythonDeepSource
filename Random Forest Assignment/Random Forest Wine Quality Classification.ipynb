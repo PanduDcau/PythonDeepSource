{
 "cells": [
  {
   "cell_type": "markdown",
   "id": "f524c8ac",
   "metadata": {},
   "source": [
    "# Importing Packages"
   ]
  },
  {
   "cell_type": "code",
   "execution_count": 9,
   "id": "408fc506",
   "metadata": {},
   "outputs": [],
   "source": [
    "import pandas as pd\n",
    "import numpy as np\n",
    "import scipy.optimize as opt\n",
    "from sklearn import preprocessing\n",
    "from sklearn.model_selection import train_test_split\n",
    "%matplotlib inline \n",
    "import matplotlib.pyplot as plt\n",
    "from sklearn import tree\n",
    "import graphviz \n",
    "from sklearn.ensemble import RandomForestClassifier\n",
    "from sklearn.model_selection import train_test_split"
   ]
  },
  {
   "cell_type": "markdown",
   "id": "786679ea",
   "metadata": {},
   "source": [
    "# Loading Wine Dataset from UCI ML Repositary"
   ]
  },
  {
   "cell_type": "code",
   "execution_count": 3,
   "id": "50e53c18",
   "metadata": {},
   "outputs": [],
   "source": [
    "wine = pd.read_csv('/Users/Asus/Documents/Atmel Studio/wine.csv')"
   ]
  },
  {
   "cell_type": "code",
   "execution_count": 4,
   "id": "c0566c3e",
   "metadata": {
    "scrolled": true
   },
   "outputs": [
    {
     "data": {
      "text/html": [
       "<div>\n",
       "<style scoped>\n",
       "    .dataframe tbody tr th:only-of-type {\n",
       "        vertical-align: middle;\n",
       "    }\n",
       "\n",
       "    .dataframe tbody tr th {\n",
       "        vertical-align: top;\n",
       "    }\n",
       "\n",
       "    .dataframe thead th {\n",
       "        text-align: right;\n",
       "    }\n",
       "</style>\n",
       "<table border=\"1\" class=\"dataframe\">\n",
       "  <thead>\n",
       "    <tr style=\"text-align: right;\">\n",
       "      <th></th>\n",
       "      <th>Wine</th>\n",
       "      <th>Alcohol</th>\n",
       "      <th>Malic.acid</th>\n",
       "      <th>Ash</th>\n",
       "      <th>Acl</th>\n",
       "      <th>Mg</th>\n",
       "      <th>Phenols</th>\n",
       "      <th>Flavanoids</th>\n",
       "      <th>Nonflavanoid.phenols</th>\n",
       "      <th>Proanth</th>\n",
       "      <th>Color.int</th>\n",
       "      <th>Hue</th>\n",
       "      <th>OD</th>\n",
       "      <th>Proline</th>\n",
       "    </tr>\n",
       "  </thead>\n",
       "  <tbody>\n",
       "    <tr>\n",
       "      <th>0</th>\n",
       "      <td>1</td>\n",
       "      <td>14.23</td>\n",
       "      <td>1.71</td>\n",
       "      <td>2.43</td>\n",
       "      <td>15.6</td>\n",
       "      <td>127</td>\n",
       "      <td>2.80</td>\n",
       "      <td>3.06</td>\n",
       "      <td>0.28</td>\n",
       "      <td>2.29</td>\n",
       "      <td>5.64</td>\n",
       "      <td>1.04</td>\n",
       "      <td>3.92</td>\n",
       "      <td>1065</td>\n",
       "    </tr>\n",
       "    <tr>\n",
       "      <th>1</th>\n",
       "      <td>1</td>\n",
       "      <td>13.20</td>\n",
       "      <td>1.78</td>\n",
       "      <td>2.14</td>\n",
       "      <td>11.2</td>\n",
       "      <td>100</td>\n",
       "      <td>2.65</td>\n",
       "      <td>2.76</td>\n",
       "      <td>0.26</td>\n",
       "      <td>1.28</td>\n",
       "      <td>4.38</td>\n",
       "      <td>1.05</td>\n",
       "      <td>3.40</td>\n",
       "      <td>1050</td>\n",
       "    </tr>\n",
       "    <tr>\n",
       "      <th>2</th>\n",
       "      <td>1</td>\n",
       "      <td>13.16</td>\n",
       "      <td>2.36</td>\n",
       "      <td>2.67</td>\n",
       "      <td>18.6</td>\n",
       "      <td>101</td>\n",
       "      <td>2.80</td>\n",
       "      <td>3.24</td>\n",
       "      <td>0.30</td>\n",
       "      <td>2.81</td>\n",
       "      <td>5.68</td>\n",
       "      <td>1.03</td>\n",
       "      <td>3.17</td>\n",
       "      <td>1185</td>\n",
       "    </tr>\n",
       "    <tr>\n",
       "      <th>3</th>\n",
       "      <td>1</td>\n",
       "      <td>14.37</td>\n",
       "      <td>1.95</td>\n",
       "      <td>2.50</td>\n",
       "      <td>16.8</td>\n",
       "      <td>113</td>\n",
       "      <td>3.85</td>\n",
       "      <td>3.49</td>\n",
       "      <td>0.24</td>\n",
       "      <td>2.18</td>\n",
       "      <td>7.80</td>\n",
       "      <td>0.86</td>\n",
       "      <td>3.45</td>\n",
       "      <td>1480</td>\n",
       "    </tr>\n",
       "    <tr>\n",
       "      <th>4</th>\n",
       "      <td>1</td>\n",
       "      <td>13.24</td>\n",
       "      <td>2.59</td>\n",
       "      <td>2.87</td>\n",
       "      <td>21.0</td>\n",
       "      <td>118</td>\n",
       "      <td>2.80</td>\n",
       "      <td>2.69</td>\n",
       "      <td>0.39</td>\n",
       "      <td>1.82</td>\n",
       "      <td>4.32</td>\n",
       "      <td>1.04</td>\n",
       "      <td>2.93</td>\n",
       "      <td>735</td>\n",
       "    </tr>\n",
       "  </tbody>\n",
       "</table>\n",
       "</div>"
      ],
      "text/plain": [
       "   Wine  Alcohol  Malic.acid   Ash   Acl   Mg  Phenols  Flavanoids  \\\n",
       "0     1    14.23        1.71  2.43  15.6  127     2.80        3.06   \n",
       "1     1    13.20        1.78  2.14  11.2  100     2.65        2.76   \n",
       "2     1    13.16        2.36  2.67  18.6  101     2.80        3.24   \n",
       "3     1    14.37        1.95  2.50  16.8  113     3.85        3.49   \n",
       "4     1    13.24        2.59  2.87  21.0  118     2.80        2.69   \n",
       "\n",
       "   Nonflavanoid.phenols  Proanth  Color.int   Hue    OD  Proline  \n",
       "0                  0.28     2.29       5.64  1.04  3.92     1065  \n",
       "1                  0.26     1.28       4.38  1.05  3.40     1050  \n",
       "2                  0.30     2.81       5.68  1.03  3.17     1185  \n",
       "3                  0.24     2.18       7.80  0.86  3.45     1480  \n",
       "4                  0.39     1.82       4.32  1.04  2.93      735  "
      ]
     },
     "execution_count": 4,
     "metadata": {},
     "output_type": "execute_result"
    }
   ],
   "source": [
    "wine.head()"
   ]
  },
  {
   "cell_type": "code",
   "execution_count": 20,
   "id": "29310faa",
   "metadata": {},
   "outputs": [
    {
     "data": {
      "text/plain": [
       "Index(['Wine', 'Alcohol', 'Malic.acid', 'Ash', 'Acl', 'Mg', 'Phenols',\n",
       "       'Flavanoids', 'Nonflavanoid.phenols', 'Proanth', 'Color.int', 'Hue',\n",
       "       'OD', 'Proline'],\n",
       "      dtype='object')"
      ]
     },
     "execution_count": 20,
     "metadata": {},
     "output_type": "execute_result"
    }
   ],
   "source": [
    "wine.columns"
   ]
  },
  {
   "cell_type": "code",
   "execution_count": 22,
   "id": "be360e33",
   "metadata": {},
   "outputs": [
    {
     "data": {
      "text/plain": [
       "Wine                    0\n",
       "Alcohol                 0\n",
       "Malic.acid              0\n",
       "Ash                     0\n",
       "Acl                     0\n",
       "Mg                      0\n",
       "Phenols                 0\n",
       "Flavanoids              0\n",
       "Nonflavanoid.phenols    0\n",
       "Proanth                 0\n",
       "Color.int               0\n",
       "Hue                     0\n",
       "OD                      0\n",
       "Proline                 0\n",
       "dtype: int64"
      ]
     },
     "execution_count": 22,
     "metadata": {},
     "output_type": "execute_result"
    }
   ],
   "source": [
    "wine.isna().sum()"
   ]
  },
  {
   "cell_type": "markdown",
   "id": "0dccd6e0",
   "metadata": {},
   "source": [
    "# Loading Features & Target"
   ]
  },
  {
   "cell_type": "code",
   "execution_count": 4,
   "id": "b82c4745",
   "metadata": {},
   "outputs": [],
   "source": [
    "X = wine.iloc[:, 1:14].values  \n",
    "y = wine.iloc[:, 0].values  "
   ]
  },
  {
   "cell_type": "markdown",
   "id": "53fdd320",
   "metadata": {},
   "source": [
    "# Split Train and Test Sets"
   ]
  },
  {
   "cell_type": "code",
   "execution_count": 16,
   "id": "0b6a0f36",
   "metadata": {},
   "outputs": [],
   "source": [
    "from sklearn.model_selection import train_test_split  \n",
    "X_train, X_test, y_train, y_test = train_test_split(X, y, test_size=0.25)"
   ]
  },
  {
   "cell_type": "markdown",
   "id": "524bc91f",
   "metadata": {},
   "source": [
    "# Fitting the Model"
   ]
  },
  {
   "cell_type": "code",
   "execution_count": 17,
   "id": "e75ec094",
   "metadata": {},
   "outputs": [],
   "source": [
    "from sklearn.ensemble import RandomForestClassifier\n",
    "randf=RandomForestClassifier(n_estimators=900)\n",
    "randf.fit(X_train,y_train)\n",
    "y_pred=randf.predict(X_test)"
   ]
  },
  {
   "cell_type": "markdown",
   "id": "c63e7dfc",
   "metadata": {},
   "source": [
    "# Predicting Metrics"
   ]
  },
  {
   "cell_type": "code",
   "execution_count": 18,
   "id": "0f107eaf",
   "metadata": {},
   "outputs": [
    {
     "name": "stdout",
     "output_type": "stream",
     "text": [
      "0.044444444444444446\n",
      "[[17  0  0]\n",
      " [ 1 19  1]\n",
      " [ 0  0  7]]\n",
      "              precision    recall  f1-score   support\n",
      "\n",
      "           1       0.94      1.00      0.97        17\n",
      "           2       1.00      0.90      0.95        21\n",
      "           3       0.88      1.00      0.93         7\n",
      "\n",
      "    accuracy                           0.96        45\n",
      "   macro avg       0.94      0.97      0.95        45\n",
      "weighted avg       0.96      0.96      0.96        45\n",
      "\n",
      "Accuracy: 0.9555555555555556\n"
     ]
    }
   ],
   "source": [
    "from sklearn import metrics\n",
    "from sklearn.metrics import classification_report, confusion_matrix \n",
    "print(np.mean(y_pred != y_test))\n",
    "print(confusion_matrix(y_test, y_pred))  \n",
    "print(classification_report(y_test, y_pred)) \n",
    "print(\"Accuracy:\", metrics.accuracy_score(y_test, y_pred))"
   ]
  },
  {
   "cell_type": "code",
   "execution_count": 21,
   "id": "22de3404",
   "metadata": {},
   "outputs": [],
   "source": [
    "from sklearn.metrics import confusion_matrix, plot_confusion_matrix"
   ]
  },
  {
   "cell_type": "markdown",
   "id": "e06de8b6",
   "metadata": {},
   "source": [
    "# Feature Importance Categorization"
   ]
  },
  {
   "cell_type": "code",
   "execution_count": 23,
   "id": "0c622e7e",
   "metadata": {},
   "outputs": [
    {
     "data": {
      "text/plain": [
       "array([0.10868794, 0.0305158 , 0.01718754, 0.02597425, 0.02396491,\n",
       "       0.05353761, 0.13958212, 0.01154663, 0.02189092, 0.15501903,\n",
       "       0.08734378, 0.13238358, 0.19236588])"
      ]
     },
     "execution_count": 23,
     "metadata": {},
     "output_type": "execute_result"
    }
   ],
   "source": [
    "randf.feature_importances_"
   ]
  },
  {
   "cell_type": "markdown",
   "id": "90ef6e60",
   "metadata": {},
   "source": [
    " Sorting the Features of Wines in each columns that to prioritizing the importance. So the Larger value the importance is high.\n",
    "According to that hypothesis we are going to reasamble the List"
   ]
  },
  {
   "cell_type": "code",
   "execution_count": 26,
   "id": "5c4a4672",
   "metadata": {},
   "outputs": [],
   "source": [
    "features = wine.columns.values.tolist()[1:14]\n",
    "feature_pro = pd.Series(randf.feature_importances_,index=features).sort_values(ascending=False)"
   ]
  },
  {
   "cell_type": "code",
   "execution_count": 27,
   "id": "ead90050",
   "metadata": {},
   "outputs": [
    {
     "data": {
      "text/plain": [
       "Proline                 0.192366\n",
       "Color.int               0.155019\n",
       "Flavanoids              0.139582\n",
       "OD                      0.132384\n",
       "Alcohol                 0.108688\n",
       "Hue                     0.087344\n",
       "Phenols                 0.053538\n",
       "Malic.acid              0.030516\n",
       "Acl                     0.025974\n",
       "Mg                      0.023965\n",
       "Proanth                 0.021891\n",
       "Ash                     0.017188\n",
       "Nonflavanoid.phenols    0.011547\n",
       "dtype: float64"
      ]
     },
     "execution_count": 27,
     "metadata": {},
     "output_type": "execute_result"
    }
   ],
   "source": [
    "feature_pro"
   ]
  },
  {
   "cell_type": "markdown",
   "id": "7bb08574",
   "metadata": {},
   "source": [
    "# Vizualing the Importances of the Features "
   ]
  },
  {
   "cell_type": "code",
   "execution_count": 30,
   "id": "aaa462a0",
   "metadata": {},
   "outputs": [
    {
     "name": "stderr",
     "output_type": "stream",
     "text": [
      "No handles with labels found to put in legend.\n"
     ]
    },
    {
     "data": {
      "image/png": "[encoded data removed]",
      "text/plain": [
       "<Figure size 432x288 with 1 Axes>"
      ]
     },
     "metadata": {
      "needs_background": "light"
     },
     "output_type": "display_data"
    }
   ],
   "source": [
    "import seaborn as sns\n",
    "%matplotlib inline\n",
    "# Creating a bar plot\n",
    "sns.barplot(x=feature_pro, y=feature_pro.index)\n",
    "# Add labels to your graph\n",
    "plt.xlabel('Feature Importance Score')\n",
    "plt.ylabel('Features')\n",
    "plt.title(\"Visualizing Important Features\")\n",
    "plt.legend()\n",
    "plt.show()"
   ]
  },
  {
   "cell_type": "code",
   "execution_count": 5,
   "id": "730b88e9",
   "metadata": {
    "scrolled": true
   },
   "outputs": [
    {
     "data": {
      "text/plain": [
       "count     178.000000\n",
       "mean      746.893258\n",
       "std       314.907474\n",
       "min       278.000000\n",
       "25%       500.500000\n",
       "50%       673.500000\n",
       "75%       985.000000\n",
       "max      1680.000000\n",
       "Name: Proline, dtype: float64"
      ]
     },
     "execution_count": 5,
     "metadata": {},
     "output_type": "execute_result"
    }
   ],
   "source": [
    "wine['Proline'].describe()"
   ]
  },
  {
   "cell_type": "code",
   "execution_count": 6,
   "id": "dbafd4a2",
   "metadata": {},
   "outputs": [
    {
     "data": {
      "image/png": "[encoded data removed]",
      "text/plain": [
       "<Figure size 432x288 with 1 Axes>"
      ]
     },
     "metadata": {
      "needs_background": "light"
     },
     "output_type": "display_data"
    }
   ],
   "source": [
    "values, base = np.histogram(wine['Proline'], bins=20)\n",
    "Accumalate = np.cumsum(values/wine.shape[0])\n",
    "plt.plot(base[:-1], Accumalate, c='blue')\n",
    "plt.xlabel('Proline Feature')\n",
    "plt.ylabel('Frequency')\n",
    "plt.show()"
   ]
  },
  {
   "cell_type": "markdown",
   "id": "61b1ab87",
   "metadata": {},
   "source": [
    "Since the median \"Proline Feature\" is 673.5 and mean quaity is ∼750 , we classify Wine as 'Feature Brands' if Proline is less then or equal to 675 , otherwise we classify the  wine as 'Premiere Brands'. \n",
    "We repleace the column Proline with the value 0 for 'Featured' wine and the value 1 for 'Premiere' wine."
   ]
  },
  {
   "cell_type": "code",
   "execution_count": 8,
   "id": "eda1bad0",
   "metadata": {},
   "outputs": [],
   "source": [
    "indeksDaarlig = wine.loc[wine['Proline'] <= 675].index\n",
    "indeksGod = wine.loc[wine['Proline'] > 675].index\n",
    "wine.iloc[indeksDaarlig, wine.columns.get_loc('Proline')] = 0\n",
    "wine.iloc[indeksGod, wine.columns.get_loc('Proline')] = 1"
   ]
  },
  {
   "cell_type": "code",
   "execution_count": 10,
   "id": "049ff033",
   "metadata": {},
   "outputs": [
    {
     "data": {
      "text/plain": [
       "0    91\n",
       "1    87\n",
       "Name: Proline, dtype: int64"
      ]
     },
     "execution_count": 10,
     "metadata": {},
     "output_type": "execute_result"
    }
   ],
   "source": [
    "wine['Proline'].value_counts()"
   ]
  },
  {
   "cell_type": "markdown",
   "id": "a9fc5e90",
   "metadata": {},
   "source": [
    "# Decision Tree"
   ]
  },
  {
   "cell_type": "code",
   "execution_count": 11,
   "id": "04e2a36e",
   "metadata": {},
   "outputs": [],
   "source": [
    "x = wine.drop('Proline',axis=1)\n",
    "y = wine['Proline']"
   ]
  },
  {
   "cell_type": "code",
   "execution_count": 16,
   "id": "568c420a",
   "metadata": {},
   "outputs": [],
   "source": [
    "#Choosing 40% as training data.\n",
    "xTrain, xTest, yTrain, yTest = train_test_split(x, y, test_size = 0.40, random_state = 42)"
   ]
  },
  {
   "cell_type": "code",
   "execution_count": 19,
   "id": "8e5d9a76",
   "metadata": {},
   "outputs": [
    {
     "data": {
      "text/plain": [
       "DecisionTreeClassifier(max_depth=3)"
      ]
     },
     "execution_count": 19,
     "metadata": {},
     "output_type": "execute_result"
    }
   ],
   "source": [
    "# Making a decision tree with two levels.\n",
    "clfTre = tree.DecisionTreeClassifier(max_depth=3)\n",
    "clfTre.fit(xTrain, yTrain)"
   ]
  },
  {
   "cell_type": "code",
   "execution_count": 20,
   "id": "b80f4e41",
   "metadata": {},
   "outputs": [
    {
     "data": {
      "image/svg+xml": [
       "<?xml version=\"1.0\" encoding=\"UTF-8\" standalone=\"no\"?>\r\n",
       "<!DOCTYPE svg PUBLIC \"-//W3C//DTD SVG 1.1//EN\"\r\n",
       " \"http://www.w3.org/Graphics/SVG/1.1/DTD/svg11.dtd\">\r\n",
       "<!-- Generated by graphviz version 2.38.0 (20140413.2041)\r\n",
       " -->\r\n",
       "<!-- Title: Tree Pages: 1 -->\r\n",
       "<svg width=\"478pt\" height=\"373pt\"\r\n",
       " viewBox=\"0.00 0.00 478.00 373.00\" xmlns=\"http://www.w3.org/2000/svg\" xmlns:xlink=\"http://www.w3.org/1999/xlink\">\r\n",
       "<g id=\"graph0\" class=\"graph\" transform=\"scale(1 1) rotate(0) translate(4 369)\">\r\n",
       "<title>Tree</title>\r\n",
       "<polygon fill=\"white\" stroke=\"none\" points=\"-4,4 -4,-369 474,-369 474,4 -4,4\"/>\r\n",
       "<!-- 0 -->\r\n",
       "<g id=\"node1\" class=\"node\"><title>0</title>\r\n",
       "<path fill=\"#fbe9dd\" stroke=\"black\" d=\"M210,-365C210,-365 121,-365 121,-365 115,-365 109,-359 109,-353 109,-353 109,-309 109,-309 109,-303 115,-297 121,-297 121,-297 210,-297 210,-297 216,-297 222,-303 222,-309 222,-309 222,-353 222,-353 222,-359 216,-365 210,-365\"/>\r\n",
       "<text text-anchor=\"middle\" x=\"165.5\" y=\"-349.8\" font-family=\"Helvetica,sans-Serif\" font-size=\"14.00\">Wine &lt;= 1.5</text>\r\n",
       "<text text-anchor=\"middle\" x=\"165.5\" y=\"-334.8\" font-family=\"Helvetica,sans-Serif\" font-size=\"14.00\">gini = 0.496</text>\r\n",
       "<text text-anchor=\"middle\" x=\"165.5\" y=\"-319.8\" font-family=\"Helvetica,sans-Serif\" font-size=\"14.00\">samples = 106</text>\r\n",
       "<text text-anchor=\"middle\" x=\"165.5\" y=\"-304.8\" font-family=\"Helvetica,sans-Serif\" font-size=\"14.00\">value = [58, 48]</text>\r\n",
       "</g>\r\n",
       "<!-- 1 -->\r\n",
       "<g id=\"node2\" class=\"node\"><title>1</title>\r\n",
       "<path fill=\"#399de5\" stroke=\"black\" d=\"M134,-253.5C134,-253.5 53,-253.5 53,-253.5 47,-253.5 41,-247.5 41,-241.5 41,-241.5 41,-212.5 41,-212.5 41,-206.5 47,-200.5 53,-200.5 53,-200.5 134,-200.5 134,-200.5 140,-200.5 146,-206.5 146,-212.5 146,-212.5 146,-241.5 146,-241.5 146,-247.5 140,-253.5 134,-253.5\"/>\r\n",
       "<text text-anchor=\"middle\" x=\"93.5\" y=\"-238.3\" font-family=\"Helvetica,sans-Serif\" font-size=\"14.00\">gini = 0.0</text>\r\n",
       "<text text-anchor=\"middle\" x=\"93.5\" y=\"-223.3\" font-family=\"Helvetica,sans-Serif\" font-size=\"14.00\">samples = 33</text>\r\n",
       "<text text-anchor=\"middle\" x=\"93.5\" y=\"-208.3\" font-family=\"Helvetica,sans-Serif\" font-size=\"14.00\">value = [0, 33]</text>\r\n",
       "</g>\r\n",
       "<!-- 0&#45;&gt;1 -->\r\n",
       "<g id=\"edge1\" class=\"edge\"><title>0&#45;&gt;1</title>\r\n",
       "<path fill=\"none\" stroke=\"black\" d=\"M142.124,-296.884C134.205,-285.666 125.354,-273.126 117.395,-261.852\"/>\r\n",
       "<polygon fill=\"black\" stroke=\"black\" points=\"120.14,-259.671 111.514,-253.52 114.422,-263.708 120.14,-259.671\"/>\r\n",
       "<text text-anchor=\"middle\" x=\"107.266\" y=\"-274.456\" font-family=\"Helvetica,sans-Serif\" font-size=\"14.00\">True</text>\r\n",
       "</g>\r\n",
       "<!-- 2 -->\r\n",
       "<g id=\"node3\" class=\"node\"><title>2</title>\r\n",
       "<path fill=\"#eca26c\" stroke=\"black\" d=\"M298.5,-261C298.5,-261 176.5,-261 176.5,-261 170.5,-261 164.5,-255 164.5,-249 164.5,-249 164.5,-205 164.5,-205 164.5,-199 170.5,-193 176.5,-193 176.5,-193 298.5,-193 298.5,-193 304.5,-193 310.5,-199 310.5,-205 310.5,-205 310.5,-249 310.5,-249 310.5,-255 304.5,-261 298.5,-261\"/>\r\n",
       "<text text-anchor=\"middle\" x=\"237.5\" y=\"-245.8\" font-family=\"Helvetica,sans-Serif\" font-size=\"14.00\">Flavanoids &lt;= 1.055</text>\r\n",
       "<text text-anchor=\"middle\" x=\"237.5\" y=\"-230.8\" font-family=\"Helvetica,sans-Serif\" font-size=\"14.00\">gini = 0.327</text>\r\n",
       "<text text-anchor=\"middle\" x=\"237.5\" y=\"-215.8\" font-family=\"Helvetica,sans-Serif\" font-size=\"14.00\">samples = 73</text>\r\n",
       "<text text-anchor=\"middle\" x=\"237.5\" y=\"-200.8\" font-family=\"Helvetica,sans-Serif\" font-size=\"14.00\">value = [58, 15]</text>\r\n",
       "</g>\r\n",
       "<!-- 0&#45;&gt;2 -->\r\n",
       "<g id=\"edge2\" class=\"edge\"><title>0&#45;&gt;2</title>\r\n",
       "<path fill=\"none\" stroke=\"black\" d=\"M188.876,-296.884C195.038,-288.154 201.765,-278.625 208.196,-269.514\"/>\r\n",
       "<polygon fill=\"black\" stroke=\"black\" points=\"211.087,-271.487 213.995,-261.299 205.368,-267.451 211.087,-271.487\"/>\r\n",
       "<text text-anchor=\"middle\" x=\"218.242\" y=\"-282.236\" font-family=\"Helvetica,sans-Serif\" font-size=\"14.00\">False</text>\r\n",
       "</g>\r\n",
       "<!-- 3 -->\r\n",
       "<g id=\"node4\" class=\"node\"><title>3</title>\r\n",
       "<path fill=\"#f9e4d5\" stroke=\"black\" d=\"M218,-157C218,-157 113,-157 113,-157 107,-157 101,-151 101,-145 101,-145 101,-101 101,-101 101,-95 107,-89 113,-89 113,-89 218,-89 218,-89 224,-89 230,-95 230,-101 230,-101 230,-145 230,-145 230,-151 224,-157 218,-157\"/>\r\n",
       "<text text-anchor=\"middle\" x=\"165.5\" y=\"-141.8\" font-family=\"Helvetica,sans-Serif\" font-size=\"14.00\">Phenols &lt;= 1.915</text>\r\n",
       "<text text-anchor=\"middle\" x=\"165.5\" y=\"-126.8\" font-family=\"Helvetica,sans-Serif\" font-size=\"14.00\">gini = 0.493</text>\r\n",
       "<text text-anchor=\"middle\" x=\"165.5\" y=\"-111.8\" font-family=\"Helvetica,sans-Serif\" font-size=\"14.00\">samples = 25</text>\r\n",
       "<text text-anchor=\"middle\" x=\"165.5\" y=\"-96.8\" font-family=\"Helvetica,sans-Serif\" font-size=\"14.00\">value = [14, 11]</text>\r\n",
       "</g>\r\n",
       "<!-- 2&#45;&gt;3 -->\r\n",
       "<g id=\"edge3\" class=\"edge\"><title>2&#45;&gt;3</title>\r\n",
       "<path fill=\"none\" stroke=\"black\" d=\"M214.124,-192.884C207.962,-184.154 201.235,-174.625 194.804,-165.514\"/>\r\n",
       "<polygon fill=\"black\" stroke=\"black\" points=\"197.632,-163.451 189.005,-157.299 191.913,-167.487 197.632,-163.451\"/>\r\n",
       "</g>\r\n",
       "<!-- 6 -->\r\n",
       "<g id=\"node7\" class=\"node\"><title>6</title>\r\n",
       "<path fill=\"#e78c4b\" stroke=\"black\" d=\"M357,-157C357,-157 260,-157 260,-157 254,-157 248,-151 248,-145 248,-145 248,-101 248,-101 248,-95 254,-89 260,-89 260,-89 357,-89 357,-89 363,-89 369,-95 369,-101 369,-101 369,-145 369,-145 369,-151 363,-157 357,-157\"/>\r\n",
       "<text text-anchor=\"middle\" x=\"308.5\" y=\"-141.8\" font-family=\"Helvetica,sans-Serif\" font-size=\"14.00\">Phenols &lt;= 3.24</text>\r\n",
       "<text text-anchor=\"middle\" x=\"308.5\" y=\"-126.8\" font-family=\"Helvetica,sans-Serif\" font-size=\"14.00\">gini = 0.153</text>\r\n",
       "<text text-anchor=\"middle\" x=\"308.5\" y=\"-111.8\" font-family=\"Helvetica,sans-Serif\" font-size=\"14.00\">samples = 48</text>\r\n",
       "<text text-anchor=\"middle\" x=\"308.5\" y=\"-96.8\" font-family=\"Helvetica,sans-Serif\" font-size=\"14.00\">value = [44, 4]</text>\r\n",
       "</g>\r\n",
       "<!-- 2&#45;&gt;6 -->\r\n",
       "<g id=\"edge6\" class=\"edge\"><title>2&#45;&gt;6</title>\r\n",
       "<path fill=\"none\" stroke=\"black\" d=\"M260.552,-192.884C266.628,-184.154 273.261,-174.625 279.603,-165.514\"/>\r\n",
       "<polygon fill=\"black\" stroke=\"black\" points=\"282.481,-167.506 285.321,-157.299 276.735,-163.507 282.481,-167.506\"/>\r\n",
       "</g>\r\n",
       "<!-- 4 -->\r\n",
       "<g id=\"node5\" class=\"node\"><title>4</title>\r\n",
       "<path fill=\"#c9e4f8\" stroke=\"black\" d=\"M93,-53C93,-53 12,-53 12,-53 6,-53 0,-47 0,-41 0,-41 0,-12 0,-12 0,-6 6,-0 12,-0 12,-0 93,-0 93,-0 99,-0 105,-6 105,-12 105,-12 105,-41 105,-41 105,-47 99,-53 93,-53\"/>\r\n",
       "<text text-anchor=\"middle\" x=\"52.5\" y=\"-37.8\" font-family=\"Helvetica,sans-Serif\" font-size=\"14.00\">gini = 0.488</text>\r\n",
       "<text text-anchor=\"middle\" x=\"52.5\" y=\"-22.8\" font-family=\"Helvetica,sans-Serif\" font-size=\"14.00\">samples = 19</text>\r\n",
       "<text text-anchor=\"middle\" x=\"52.5\" y=\"-7.8\" font-family=\"Helvetica,sans-Serif\" font-size=\"14.00\">value = [8, 11]</text>\r\n",
       "</g>\r\n",
       "<!-- 3&#45;&gt;4 -->\r\n",
       "<g id=\"edge4\" class=\"edge\"><title>3&#45;&gt;4</title>\r\n",
       "<path fill=\"none\" stroke=\"black\" d=\"M125.978,-88.9485C114.711,-79.526 102.451,-69.2731 91.2316,-59.8906\"/>\r\n",
       "<polygon fill=\"black\" stroke=\"black\" points=\"93.1915,-56.967 83.2751,-53.2367 88.7009,-62.3368 93.1915,-56.967\"/>\r\n",
       "</g>\r\n",
       "<!-- 5 -->\r\n",
       "<g id=\"node6\" class=\"node\"><title>5</title>\r\n",
       "<path fill=\"#e58139\" stroke=\"black\" d=\"M208,-53C208,-53 135,-53 135,-53 129,-53 123,-47 123,-41 123,-41 123,-12 123,-12 123,-6 129,-0 135,-0 135,-0 208,-0 208,-0 214,-0 220,-6 220,-12 220,-12 220,-41 220,-41 220,-47 214,-53 208,-53\"/>\r\n",
       "<text text-anchor=\"middle\" x=\"171.5\" y=\"-37.8\" font-family=\"Helvetica,sans-Serif\" font-size=\"14.00\">gini = 0.0</text>\r\n",
       "<text text-anchor=\"middle\" x=\"171.5\" y=\"-22.8\" font-family=\"Helvetica,sans-Serif\" font-size=\"14.00\">samples = 6</text>\r\n",
       "<text text-anchor=\"middle\" x=\"171.5\" y=\"-7.8\" font-family=\"Helvetica,sans-Serif\" font-size=\"14.00\">value = [6, 0]</text>\r\n",
       "</g>\r\n",
       "<!-- 3&#45;&gt;5 -->\r\n",
       "<g id=\"edge5\" class=\"edge\"><title>3&#45;&gt;5</title>\r\n",
       "<path fill=\"none\" stroke=\"black\" d=\"M167.599,-88.9485C168.121,-80.7153 168.684,-71.848 169.215,-63.4814\"/>\r\n",
       "<polygon fill=\"black\" stroke=\"black\" points=\"172.725,-63.4384 169.866,-53.2367 165.739,-62.9948 172.725,-63.4384\"/>\r\n",
       "</g>\r\n",
       "<!-- 7 -->\r\n",
       "<g id=\"node8\" class=\"node\"><title>7</title>\r\n",
       "<path fill=\"#e68742\" stroke=\"black\" d=\"M343,-53C343,-53 262,-53 262,-53 256,-53 250,-47 250,-41 250,-41 250,-12 250,-12 250,-6 256,-0 262,-0 262,-0 343,-0 343,-0 349,-0 355,-6 355,-12 355,-12 355,-41 355,-41 355,-47 349,-53 343,-53\"/>\r\n",
       "<text text-anchor=\"middle\" x=\"302.5\" y=\"-37.8\" font-family=\"Helvetica,sans-Serif\" font-size=\"14.00\">gini = 0.085</text>\r\n",
       "<text text-anchor=\"middle\" x=\"302.5\" y=\"-22.8\" font-family=\"Helvetica,sans-Serif\" font-size=\"14.00\">samples = 45</text>\r\n",
       "<text text-anchor=\"middle\" x=\"302.5\" y=\"-7.8\" font-family=\"Helvetica,sans-Serif\" font-size=\"14.00\">value = [43, 2]</text>\r\n",
       "</g>\r\n",
       "<!-- 6&#45;&gt;7 -->\r\n",
       "<g id=\"edge7\" class=\"edge\"><title>6&#45;&gt;7</title>\r\n",
       "<path fill=\"none\" stroke=\"black\" d=\"M306.401,-88.9485C305.879,-80.7153 305.316,-71.848 304.785,-63.4814\"/>\r\n",
       "<polygon fill=\"black\" stroke=\"black\" points=\"308.261,-62.9948 304.134,-53.2367 301.275,-63.4384 308.261,-62.9948\"/>\r\n",
       "</g>\r\n",
       "<!-- 8 -->\r\n",
       "<g id=\"node9\" class=\"node\"><title>8</title>\r\n",
       "<path fill=\"#9ccef2\" stroke=\"black\" d=\"M458,-53C458,-53 385,-53 385,-53 379,-53 373,-47 373,-41 373,-41 373,-12 373,-12 373,-6 379,-0 385,-0 385,-0 458,-0 458,-0 464,-0 470,-6 470,-12 470,-12 470,-41 470,-41 470,-47 464,-53 458,-53\"/>\r\n",
       "<text text-anchor=\"middle\" x=\"421.5\" y=\"-37.8\" font-family=\"Helvetica,sans-Serif\" font-size=\"14.00\">gini = 0.444</text>\r\n",
       "<text text-anchor=\"middle\" x=\"421.5\" y=\"-22.8\" font-family=\"Helvetica,sans-Serif\" font-size=\"14.00\">samples = 3</text>\r\n",
       "<text text-anchor=\"middle\" x=\"421.5\" y=\"-7.8\" font-family=\"Helvetica,sans-Serif\" font-size=\"14.00\">value = [1, 2]</text>\r\n",
       "</g>\r\n",
       "<!-- 6&#45;&gt;8 -->\r\n",
       "<g id=\"edge8\" class=\"edge\"><title>6&#45;&gt;8</title>\r\n",
       "<path fill=\"none\" stroke=\"black\" d=\"M348.022,-88.9485C359.289,-79.526 371.549,-69.2731 382.768,-59.8906\"/>\r\n",
       "<polygon fill=\"black\" stroke=\"black\" points=\"385.299,-62.3368 390.725,-53.2367 380.808,-56.967 385.299,-62.3368\"/>\r\n",
       "</g>\r\n",
       "</g>\r\n",
       "</svg>\r\n"
      ],
      "text/plain": [
       "<graphviz.files.Source at 0x233f9c70ca0>"
      ]
     },
     "execution_count": 20,
     "metadata": {},
     "output_type": "execute_result"
    }
   ],
   "source": [
    "#Visualizing the decision tree\n",
    "dot_data = tree.export_graphviz(clfTre, out_file=None, max_depth=3, feature_names=list(x.columns.values), filled=True, rounded=True)\n",
    "valgTre = graphviz.Source(dot_data) \n",
    "valgTre"
   ]
  },
  {
   "cell_type": "markdown",
   "id": "afcee8cb",
   "metadata": {},
   "source": [
    "We observe that our model uses the all levels of Features in Wine to first to make a decision. \n",
    "Also, note that based on Proline level if the the Flavanoids levels & Phenols Level are high, \n",
    "then the wine is most likely 'Premiere Brand'. On the other hand, is the Proline level \n",
    "is lower than 1.5 then the wine  is most likely 'Feature Brand'.\n",
    "\n",
    "We examine the prediction accuracy of the decision tree."
   ]
  },
  {
   "cell_type": "code",
   "execution_count": 21,
   "id": "00778315",
   "metadata": {},
   "outputs": [
    {
     "name": "stdout",
     "output_type": "stream",
     "text": [
      "The Decision Tree predicts the test data in 75.0 % of the cases.\n"
     ]
    }
   ],
   "source": [
    "utfall = (clfTre.predict(xTest) == yTest).value_counts()\n",
    "print(\"The Decision Tree predicts the test data in\", (utfall[1]/(utfall[0]+utfall[1]))*100 , \"% of the cases.\")"
   ]
  },
  {
   "cell_type": "markdown",
   "id": "d098c88f",
   "metadata": {},
   "source": [
    "# Random Forest"
   ]
  },
  {
   "cell_type": "markdown",
   "id": "9bb295ee",
   "metadata": {},
   "source": [
    "We use a Random Forest to make a random selection of decision trees with increased depth"
   ]
  },
  {
   "cell_type": "code",
   "execution_count": 22,
   "id": "b57aaade",
   "metadata": {},
   "outputs": [
    {
     "data": {
      "text/plain": [
       "RandomForestClassifier(max_depth=10, random_state=0)"
      ]
     },
     "execution_count": 22,
     "metadata": {},
     "output_type": "execute_result"
    }
   ],
   "source": [
    "rf = RandomForestClassifier(n_estimators=100, max_depth=10, random_state=0)\n",
    "rf.fit(xTrain, yTrain)"
   ]
  },
  {
   "cell_type": "code",
   "execution_count": 23,
   "id": "46650606",
   "metadata": {},
   "outputs": [
    {
     "name": "stdout",
     "output_type": "stream",
     "text": [
      "The Decision tree Predicts the test data in 79.16666666666666 % of the cases.\n"
     ]
    }
   ],
   "source": [
    "utfall = (rf.predict(xTest) == yTest).value_counts()\n",
    "print(\"The Decision tree Predicts the test data in\", (utfall[1]/(utfall[0]+utfall[1]))*100 , \"% of the cases.\")"
   ]
  },
  {
   "cell_type": "markdown",
   "id": "b73aab9b",
   "metadata": {},
   "source": [
    "Inorder to Improving the Decision Trees Prediction , We are using Random Forest for Random Selection in order to improve the Accuracy of Our Decision Tree. \n",
    "By Comparing the Two Accuracies obtain from the Descion Trees with or Without Randomforest .\n",
    "\n",
    "With Random Froest     :- 79.16 %\n",
    "WIthout Random Forest  :- 75.00 %   \n"
   ]
  },
  {
   "cell_type": "markdown",
   "id": "2014caf5",
   "metadata": {},
   "source": [
    "## So the Conclusion is with Random Forest, The Accuracy of the Decision Trees is being uplifted."
   ]
  },
  {
   "cell_type": "code",
   "execution_count": null,
   "id": "e1382c68",
   "metadata": {},
   "outputs": [],
   "source": []
  }
 ],
 "metadata": {
  "kernelspec": {
   "display_name": "Python 3",
   "language": "python",
   "name": "python3"
  },
  "language_info": {
   "codemirror_mode": {
    "name": "ipython",
    "version": 3
   },
   "file_extension": ".py",
   "mimetype": "text/x-python",
   "name": "python",
   "nbconvert_exporter": "python",
   "pygments_lexer": "ipython3",
   "version": "3.8.8"
  }
 },
 "nbformat": 4,
 "nbformat_minor": 5
}
