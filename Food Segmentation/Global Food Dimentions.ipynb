{
 "cells": [
  {
   "cell_type": "markdown",
   "id": "8bce7cc3",
   "metadata": {
    "papermill": {
     "duration": 0.027341,
     "end_time": "2021-10-21T16:04:44.955289",
     "exception": false,
     "start_time": "2021-10-21T16:04:44.927948",
     "status": "completed"
    },
    "tags": []
   },
   "source": [
    "# <span style=\"color:indigo\">Exploring Greenhouse Gas (GHG) Emissions from Food Systems</span>\n",
    "\n",
    "*Amanda Knudsen — Summer 2021*\n",
    "\n",
    "### Goal \n",
    "In the notebook below, we explore **GHGs across the lifecycle of food production and consumption** through data. \n",
    "\n",
    "We'll take a look at sources of emissions across stages of global food systems and the production of common food products in order to identify areas with the most significant impact. Using this information, we then zoom in on multiple opportunities for sustainable alternatives, explored in the interactive dashboard version of this project on Tableau public: \n",
    "**[Low Hanging Fruit: Sustainable Food Opportunities to Combat Climate Change](https://public.tableau.com/app/profile/amanda.knudsen/viz/FoodProduction07/LowHangingFruit)**\n",
    "\n",
    "\n",
    "\n",
    "### Context\n",
    "\n",
    "**Contemporary consumers want to know** how the foods they eat contribute to their environmental footprint. Across the global food system, **businesses know there is value and urgency** in creating more sustainable systems with reduced GHGs. Taxes and caps on emissions, increasing temperatures, diminishing availability of land and quality of soil are increasingly a reality for **stakeholders across the food value chain**.\n",
    "\n",
    "- *GHG emissions from human activities are the main driver of climate change and food systems are a significant contributor with one third (~34%) of total global GHG emissions from human activities coming from food systems each year, based on multiple U.N.-backed studies released in 2021. via <a href = https://news.un.org/en/story/2021/03/1086822>United Nations</a>, <a href = http://www.fao.org/news/story/en/item/1402118/icode/>FAO </a>*\n",
    "- *The impacts of climate change such as increasing temperatures and changing precipitation patterns are already affecting the security of food systems and negative impacts are expected to increase based on future projected climate change, resulting in further declines of crop yields and increasingly higher food prices.  via <a href = https://www.ipcc.ch/srccl/chapter/chapter-5/> IPCC </a>*\n",
    "- *As of May 2021, <a href = https://www.pewresearch.org/science/2021/05/26/climate-energy-and-environmental-policy/ps_2021-05-26_climate-and-generations_02-010/>70% of U.S. adults</a> now favor taxing corporations based on their emissions, among other proposals aimed at reducing the effects of climate change that majorities of Americans support. via <a href = https://www.pewresearch.org/science/wp-content/uploads/sites/16/2021/05/PS_2021.05.26_climate-and-generations_REPORT.pdf>Pew Research Center</a>* \n",
    "\n",
    "\n",
    "\n",
    "***Libraries***\n",
    "<ul>\n",
    "  <li> pandas as pd # to process data in a tabular format</li>\n",
    "  <li> numpy as np # for linear algebra </li>\n",
    "  <li> matplotlib as mpl and matplotlib.pyplot # basic plotting library</li>\n",
    "  <li> matplotlib inline # so that graphs are easily included in the notebook</li>\n",
    "  <li> seaborn # aesthetically pleasing plots</li>\n",
    "</ul>\n",
    "\n",
    "***Data sources***\n",
    "<ul>\n",
    "  <li> <a href = https://edgar.jrc.ec.europa.eu/edgar_food#data_download>EDGAR-FOOD</a> global food system GHG emissions from 1990-2015</li>\n",
    "\n",
    "  <li> <a href = https://ourworldindata.org/environmental-impacts-of-food> Our World in Data</a> environmental impacts of foods and original source <a href = https://science.sciencemag.org/content/360/6392/987>article</a> and supplementary <a href = https://science.sciencemag.org/highwire/filestream/710905/field_highwire_adjunct_files/3/aaq0216_DataS2.xls>dataset</a> published in Science</li>\n",
    "\n",
    "  <li> <a href = http://www.fao.org/gleam/results/en/> GLEAM</a> emissions data from Global Livestock Environmental Assessment Model (GLEAM) from the U.N. FAO</li>\n",
    "  </ul>"
   ]
  },
  {
   "cell_type": "code",
   "execution_count": 1,
   "id": "2434ad9f",
   "metadata": {
    "execution": {
     "iopub.execute_input": "2021-10-21T16:04:45.012398Z",
     "iopub.status.busy": "2021-10-21T16:04:45.011757Z",
     "iopub.status.idle": "2021-10-21T16:04:48.207455Z",
     "shell.execute_reply": "2021-10-21T16:04:48.206690Z",
     "shell.execute_reply.started": "2021-10-21T15:18:36.692097Z"
    },
    "papermill": {
     "duration": 3.227989,
     "end_time": "2021-10-21T16:04:48.207644",
     "exception": false,
     "start_time": "2021-10-21T16:04:44.979655",
     "status": "completed"
    },
    "tags": []
   },
   "outputs": [
    {
     "data": {
      "text/html": [
       "        <script type=\"text/javascript\">\n",
       "        window.PlotlyConfig = {MathJaxConfig: 'local'};\n",
       "        if (window.MathJax) {MathJax.Hub.Config({SVG: {font: \"STIX-Web\"}});}\n",
       "        if (typeof require !== 'undefined') {\n",
       "        require.undef(\"plotly\");\n",
       "        requirejs.config({\n",
       "            paths: {\n",
       "                'plotly': ['https://cdn.plot.ly/plotly-2.4.2.min']\n",
       "            }\n",
       "        });\n",
       "        require(['plotly'], function(Plotly) {\n",
       "            window._Plotly = Plotly;\n",
       "        });\n",
       "        }\n",
       "        </script>\n",
       "        "
      ]
     },
     "metadata": {},
     "output_type": "display_data"
    }
   ],
   "source": [
    "import pandas as pd\n",
    "import numpy as np\n",
    "import matplotlib as mpl \n",
    "import matplotlib.pyplot as plt \n",
    "%matplotlib inline\n",
    "import seaborn as sns\n",
    "import plotly.offline as py\n",
    "py.init_notebook_mode(connected=True)\n",
    "import plotly.graph_objects as go\n",
    "import plotly.express as px\n",
    "import plotly.tools as tls\n",
    "import plotly.io as pio\n",
    "pio.templates.default = \"seaborn\"\n",
    "plt.style.use(\"seaborn\")"
   ]
  },
  {
   "cell_type": "code",
   "execution_count": 2,
   "id": "e1287643",
   "metadata": {
    "execution": {
     "iopub.execute_input": "2021-10-21T16:04:48.261295Z",
     "iopub.status.busy": "2021-10-21T16:04:48.260560Z",
     "iopub.status.idle": "2021-10-21T16:04:48.638882Z",
     "shell.execute_reply": "2021-10-21T16:04:48.638233Z",
     "shell.execute_reply.started": "2021-10-21T15:18:39.558076Z"
    },
    "papermill": {
     "duration": 0.406688,
     "end_time": "2021-10-21T16:04:48.639040",
     "exception": false,
     "start_time": "2021-10-21T16:04:48.232352",
     "status": "completed"
    },
    "tags": []
   },
   "outputs": [],
   "source": [
    "df_edgar = pd.read_csv('../input/edgarfoodemissions/EDGARfood.csv')\n",
    "df_foods = pd.read_csv('../input/foodproductemissions/Food_Product_Emissions.csv')\n",
    "df_gleam = pd.read_csv('../input/gleamlivestockemissions/GLEAM_LivestockEmissions.csv')\n",
    "# df_edgar = food system emissions from EDGAR-FOOD\n",
    "# df_foods = food products global average emissions from Science and Our World in Data\n",
    "# df_gleam = livestock emissions from UN-FAO"
   ]
  },
  {
   "cell_type": "markdown",
   "id": "5aaef9fe",
   "metadata": {
    "papermill": {
     "duration": 0.022739,
     "end_time": "2021-10-21T16:04:48.685082",
     "exception": false,
     "start_time": "2021-10-21T16:04:48.662343",
     "status": "completed"
    },
    "tags": []
   },
   "source": [
    "## Exploring GHG emissions in the global food system\n",
    "First, we'll explore data in **EDGAR-FOOD** for the big picture of GHGs in global food systems. "
   ]
  },
  {
   "cell_type": "code",
   "execution_count": 3,
   "id": "d7fa6295",
   "metadata": {
    "collapsed": true,
    "execution": {
     "iopub.execute_input": "2021-10-21T16:04:48.741595Z",
     "iopub.status.busy": "2021-10-21T16:04:48.740918Z",
     "iopub.status.idle": "2021-10-21T16:04:48.832648Z",
     "shell.execute_reply": "2021-10-21T16:04:48.832024Z",
     "shell.execute_reply.started": "2021-10-21T15:18:39.862752Z"
    },
    "jupyter": {
     "outputs_hidden": true,
     "source_hidden": true
    },
    "papermill": {
     "duration": 0.1246,
     "end_time": "2021-10-21T16:04:48.832801",
     "exception": false,
     "start_time": "2021-10-21T16:04:48.708201",
     "status": "completed"
    },
    "tags": []
   },
   "outputs": [
    {
     "name": "stdout",
     "output_type": "stream",
     "text": [
      "<class 'pandas.core.frame.DataFrame'>\n",
      "RangeIndex: 128700 entries, 0 to 128699\n",
      "Data columns (total 7 columns):\n",
      " #   Column             Non-Null Count   Dtype  \n",
      "---  ------             --------------   -----  \n",
      " 0   Food System Stage  128700 non-null  object \n",
      " 1   FS Stage Order     128700 non-null  object \n",
      " 2   GHG                128700 non-null  object \n",
      " 3   Country            128700 non-null  object \n",
      " 4   Year               128700 non-null  int64  \n",
      " 5   GHG Emissions      128700 non-null  float64\n",
      " 6   Unit               128700 non-null  object \n",
      "dtypes: float64(1), int64(1), object(5)\n",
      "memory usage: 6.9+ MB\n"
     ]
    }
   ],
   "source": [
    "df_edgar.info()"
   ]
  },
  {
   "cell_type": "markdown",
   "id": "3b68749b",
   "metadata": {
    "papermill": {
     "duration": 0.022954,
     "end_time": "2021-10-21T16:04:48.879200",
     "exception": false,
     "start_time": "2021-10-21T16:04:48.856246",
     "status": "completed"
    },
    "tags": []
   },
   "source": [
    "### EDGAR-FOOD overview\n",
    "\n",
    "* GHG is short for 'Greenhouse Gas' and EDGAR-FOOD identifies 4 of the most common GHGs emitted from global food systems: **Carbon dioxide** (CO2), **Methane** (CH4), **Nitrous oxide** (N2O), and **F-gases** (Fluorinated gases)\n",
    "* GHG emissions are measured for each year from **1990 to 2015** globally and for each country. The unit of measurement is **metric tons CO2e** (carbon dioxide equivalents) using GWP-100, AR5 values for all 4 GHGs measured\n",
    "* GHG emissions from the food system are identified from each **food system stage**. There are **8 stages of the global food system**, Land, Farm, Processing, Transport, Packaging, Retail, Consumer, Waste\n",
    "* There are 128700 rows and 7 columns in the EDGAR-FOOD dataset\n",
    "* Data source <a href = https://edgar.jrc.ec.europa.eu/edgar_food#data_download>link</a>"
   ]
  },
  {
   "cell_type": "code",
   "execution_count": 4,
   "id": "621692c1",
   "metadata": {
    "collapsed": true,
    "execution": {
     "iopub.execute_input": "2021-10-21T16:04:48.929714Z",
     "iopub.status.busy": "2021-10-21T16:04:48.928982Z",
     "iopub.status.idle": "2021-10-21T16:04:48.952740Z",
     "shell.execute_reply": "2021-10-21T16:04:48.953493Z",
     "shell.execute_reply.started": "2021-10-21T15:18:39.924310Z"
    },
    "jupyter": {
     "outputs_hidden": true,
     "source_hidden": true
    },
    "papermill": {
     "duration": 0.051056,
     "end_time": "2021-10-21T16:04:48.953714",
     "exception": false,
     "start_time": "2021-10-21T16:04:48.902658",
     "status": "completed"
    },
    "tags": []
   },
   "outputs": [
    {
     "data": {
      "text/html": [
       "<div>\n",
       "<style scoped>\n",
       "    .dataframe tbody tr th:only-of-type {\n",
       "        vertical-align: middle;\n",
       "    }\n",
       "\n",
       "    .dataframe tbody tr th {\n",
       "        vertical-align: top;\n",
       "    }\n",
       "\n",
       "    .dataframe thead th {\n",
       "        text-align: right;\n",
       "    }\n",
       "</style>\n",
       "<table border=\"1\" class=\"dataframe\">\n",
       "  <thead>\n",
       "    <tr style=\"text-align: right;\">\n",
       "      <th></th>\n",
       "      <th>Food System Stage</th>\n",
       "      <th>FS Stage Order</th>\n",
       "      <th>GHG</th>\n",
       "      <th>Country</th>\n",
       "      <th>Year</th>\n",
       "      <th>GHG Emissions</th>\n",
       "      <th>Unit</th>\n",
       "    </tr>\n",
       "  </thead>\n",
       "  <tbody>\n",
       "    <tr>\n",
       "      <th>0</th>\n",
       "      <td>Land</td>\n",
       "      <td>Stage 1</td>\n",
       "      <td>Methane (CH4)</td>\n",
       "      <td>Afghanistan</td>\n",
       "      <td>1990</td>\n",
       "      <td>0.600</td>\n",
       "      <td>metric tons CO2e (GWP-100, AR5)</td>\n",
       "    </tr>\n",
       "    <tr>\n",
       "      <th>1</th>\n",
       "      <td>Land</td>\n",
       "      <td>Stage 1</td>\n",
       "      <td>Methane (CH4)</td>\n",
       "      <td>Afghanistan</td>\n",
       "      <td>1991</td>\n",
       "      <td>0.600</td>\n",
       "      <td>metric tons CO2e (GWP-100, AR5)</td>\n",
       "    </tr>\n",
       "    <tr>\n",
       "      <th>2</th>\n",
       "      <td>Land</td>\n",
       "      <td>Stage 1</td>\n",
       "      <td>Methane (CH4)</td>\n",
       "      <td>Afghanistan</td>\n",
       "      <td>1992</td>\n",
       "      <td>0.600</td>\n",
       "      <td>metric tons CO2e (GWP-100, AR5)</td>\n",
       "    </tr>\n",
       "    <tr>\n",
       "      <th>3</th>\n",
       "      <td>Land</td>\n",
       "      <td>Stage 1</td>\n",
       "      <td>Methane (CH4)</td>\n",
       "      <td>Afghanistan</td>\n",
       "      <td>1993</td>\n",
       "      <td>0.600</td>\n",
       "      <td>metric tons CO2e (GWP-100, AR5)</td>\n",
       "    </tr>\n",
       "    <tr>\n",
       "      <th>4</th>\n",
       "      <td>Land</td>\n",
       "      <td>Stage 1</td>\n",
       "      <td>Methane (CH4)</td>\n",
       "      <td>Afghanistan</td>\n",
       "      <td>1994</td>\n",
       "      <td>0.600</td>\n",
       "      <td>metric tons CO2e (GWP-100, AR5)</td>\n",
       "    </tr>\n",
       "    <tr>\n",
       "      <th>...</th>\n",
       "      <td>...</td>\n",
       "      <td>...</td>\n",
       "      <td>...</td>\n",
       "      <td>...</td>\n",
       "      <td>...</td>\n",
       "      <td>...</td>\n",
       "      <td>...</td>\n",
       "    </tr>\n",
       "    <tr>\n",
       "      <th>128695</th>\n",
       "      <td>Waste</td>\n",
       "      <td>Stage 8</td>\n",
       "      <td>Nitrous oxide (N2O)</td>\n",
       "      <td>Zimbabwe</td>\n",
       "      <td>2011</td>\n",
       "      <td>113575.820</td>\n",
       "      <td>metric tons CO2e (GWP-100, AR5)</td>\n",
       "    </tr>\n",
       "    <tr>\n",
       "      <th>128696</th>\n",
       "      <td>Waste</td>\n",
       "      <td>Stage 8</td>\n",
       "      <td>Nitrous oxide (N2O)</td>\n",
       "      <td>Zimbabwe</td>\n",
       "      <td>2012</td>\n",
       "      <td>114166.770</td>\n",
       "      <td>metric tons CO2e (GWP-100, AR5)</td>\n",
       "    </tr>\n",
       "    <tr>\n",
       "      <th>128697</th>\n",
       "      <td>Waste</td>\n",
       "      <td>Stage 8</td>\n",
       "      <td>Nitrous oxide (N2O)</td>\n",
       "      <td>Zimbabwe</td>\n",
       "      <td>2013</td>\n",
       "      <td>115549.805</td>\n",
       "      <td>metric tons CO2e (GWP-100, AR5)</td>\n",
       "    </tr>\n",
       "    <tr>\n",
       "      <th>128698</th>\n",
       "      <td>Waste</td>\n",
       "      <td>Stage 8</td>\n",
       "      <td>Nitrous oxide (N2O)</td>\n",
       "      <td>Zimbabwe</td>\n",
       "      <td>2014</td>\n",
       "      <td>114348.295</td>\n",
       "      <td>metric tons CO2e (GWP-100, AR5)</td>\n",
       "    </tr>\n",
       "    <tr>\n",
       "      <th>128699</th>\n",
       "      <td>Waste</td>\n",
       "      <td>Stage 8</td>\n",
       "      <td>Nitrous oxide (N2O)</td>\n",
       "      <td>Zimbabwe</td>\n",
       "      <td>2015</td>\n",
       "      <td>115716.490</td>\n",
       "      <td>metric tons CO2e (GWP-100, AR5)</td>\n",
       "    </tr>\n",
       "  </tbody>\n",
       "</table>\n",
       "<p>128700 rows × 7 columns</p>\n",
       "</div>"
      ],
      "text/plain": [
       "       Food System Stage FS Stage Order                  GHG      Country  \\\n",
       "0                   Land        Stage 1        Methane (CH4)  Afghanistan   \n",
       "1                   Land        Stage 1        Methane (CH4)  Afghanistan   \n",
       "2                   Land        Stage 1        Methane (CH4)  Afghanistan   \n",
       "3                   Land        Stage 1        Methane (CH4)  Afghanistan   \n",
       "4                   Land        Stage 1        Methane (CH4)  Afghanistan   \n",
       "...                  ...            ...                  ...          ...   \n",
       "128695             Waste        Stage 8  Nitrous oxide (N2O)     Zimbabwe   \n",
       "128696             Waste        Stage 8  Nitrous oxide (N2O)     Zimbabwe   \n",
       "128697             Waste        Stage 8  Nitrous oxide (N2O)     Zimbabwe   \n",
       "128698             Waste        Stage 8  Nitrous oxide (N2O)     Zimbabwe   \n",
       "128699             Waste        Stage 8  Nitrous oxide (N2O)     Zimbabwe   \n",
       "\n",
       "        Year  GHG Emissions                             Unit  \n",
       "0       1990          0.600  metric tons CO2e (GWP-100, AR5)  \n",
       "1       1991          0.600  metric tons CO2e (GWP-100, AR5)  \n",
       "2       1992          0.600  metric tons CO2e (GWP-100, AR5)  \n",
       "3       1993          0.600  metric tons CO2e (GWP-100, AR5)  \n",
       "4       1994          0.600  metric tons CO2e (GWP-100, AR5)  \n",
       "...      ...            ...                              ...  \n",
       "128695  2011     113575.820  metric tons CO2e (GWP-100, AR5)  \n",
       "128696  2012     114166.770  metric tons CO2e (GWP-100, AR5)  \n",
       "128697  2013     115549.805  metric tons CO2e (GWP-100, AR5)  \n",
       "128698  2014     114348.295  metric tons CO2e (GWP-100, AR5)  \n",
       "128699  2015     115716.490  metric tons CO2e (GWP-100, AR5)  \n",
       "\n",
       "[128700 rows x 7 columns]"
      ]
     },
     "execution_count": 4,
     "metadata": {},
     "output_type": "execute_result"
    }
   ],
   "source": [
    "df_edgar"
   ]
  },
  {
   "cell_type": "markdown",
   "id": "79324e64",
   "metadata": {
    "papermill": {
     "duration": 0.023573,
     "end_time": "2021-10-21T16:04:49.002085",
     "exception": false,
     "start_time": "2021-10-21T16:04:48.978512",
     "status": "completed"
    },
    "tags": []
   },
   "source": [
    "**At this stage of exploratory data analysis, we know:**\n",
    "\n",
    "- CO2e is the standard unit of measure for GHG emissions\n",
    "- Emissions are accounted for through 8 stages in the food system\n",
    "- Emissions (CO2e) are accounted for through 4 GHGs in the food system \n",
    "\n",
    "We can divide the total emissions by food system stage or by GHG, but in order to accurately assess and prioritize emissions reductions we need to first understand the big picture: \n",
    "* Which GHG contributes the highest emissions across the food system in total?\n",
    "* Which food system stage contributes the highest emissions in total?\n",
    "* Are GHG emissions found equally in each food system stage? Are some GHGs emitted more in some stages than others?\n",
    "\n",
    "**Next we'll identify food system emissions by stage and by type of GHG with ...\n",
    " the illustrious *Sankey diagram***"
   ]
  },
  {
   "cell_type": "code",
   "execution_count": 5,
   "id": "671061e3",
   "metadata": {
    "collapsed": true,
    "execution": {
     "iopub.execute_input": "2021-10-21T16:04:49.056846Z",
     "iopub.status.busy": "2021-10-21T16:04:49.056078Z",
     "iopub.status.idle": "2021-10-21T16:04:49.124861Z",
     "shell.execute_reply": "2021-10-21T16:04:49.124112Z",
     "shell.execute_reply.started": "2021-10-21T15:18:39.958106Z"
    },
    "jupyter": {
     "outputs_hidden": true,
     "source_hidden": true
    },
    "papermill": {
     "duration": 0.099246,
     "end_time": "2021-10-21T16:04:49.125014",
     "exception": false,
     "start_time": "2021-10-21T16:04:49.025768",
     "status": "completed"
    },
    "tags": []
   },
   "outputs": [
    {
     "data": {
      "text/html": [
       "<div>\n",
       "<style scoped>\n",
       "    .dataframe tbody tr th:only-of-type {\n",
       "        vertical-align: middle;\n",
       "    }\n",
       "\n",
       "    .dataframe tbody tr th {\n",
       "        vertical-align: top;\n",
       "    }\n",
       "\n",
       "    .dataframe thead th {\n",
       "        text-align: right;\n",
       "    }\n",
       "</style>\n",
       "<table border=\"1\" class=\"dataframe\">\n",
       "  <thead>\n",
       "    <tr style=\"text-align: right;\">\n",
       "      <th></th>\n",
       "      <th>GHG</th>\n",
       "      <th>FS Stage Order</th>\n",
       "      <th>Food System Stage</th>\n",
       "      <th>GHG Emissions</th>\n",
       "    </tr>\n",
       "  </thead>\n",
       "  <tbody>\n",
       "    <tr>\n",
       "      <th>0</th>\n",
       "      <td>Carbon dioxide (CO2)</td>\n",
       "      <td>Stage 1</td>\n",
       "      <td>Land</td>\n",
       "      <td>1.638427e+11</td>\n",
       "    </tr>\n",
       "    <tr>\n",
       "      <th>1</th>\n",
       "      <td>Carbon dioxide (CO2)</td>\n",
       "      <td>Stage 2</td>\n",
       "      <td>Farm</td>\n",
       "      <td>2.251379e+10</td>\n",
       "    </tr>\n",
       "    <tr>\n",
       "      <th>2</th>\n",
       "      <td>Carbon dioxide (CO2)</td>\n",
       "      <td>Stage 3</td>\n",
       "      <td>Processing</td>\n",
       "      <td>1.015064e+10</td>\n",
       "    </tr>\n",
       "    <tr>\n",
       "      <th>3</th>\n",
       "      <td>Carbon dioxide (CO2)</td>\n",
       "      <td>Stage 4</td>\n",
       "      <td>Transport</td>\n",
       "      <td>1.577650e+10</td>\n",
       "    </tr>\n",
       "    <tr>\n",
       "      <th>4</th>\n",
       "      <td>Carbon dioxide (CO2)</td>\n",
       "      <td>Stage 5</td>\n",
       "      <td>Packaging</td>\n",
       "      <td>1.802894e+10</td>\n",
       "    </tr>\n",
       "    <tr>\n",
       "      <th>5</th>\n",
       "      <td>Carbon dioxide (CO2)</td>\n",
       "      <td>Stage 6</td>\n",
       "      <td>Retail</td>\n",
       "      <td>6.372152e+09</td>\n",
       "    </tr>\n",
       "    <tr>\n",
       "      <th>6</th>\n",
       "      <td>Carbon dioxide (CO2)</td>\n",
       "      <td>Stage 7</td>\n",
       "      <td>Consumer</td>\n",
       "      <td>7.211363e+09</td>\n",
       "    </tr>\n",
       "    <tr>\n",
       "      <th>7</th>\n",
       "      <td>Carbon dioxide (CO2)</td>\n",
       "      <td>Stage 8</td>\n",
       "      <td>Waste</td>\n",
       "      <td>7.188883e+07</td>\n",
       "    </tr>\n",
       "    <tr>\n",
       "      <th>8</th>\n",
       "      <td>F-gases (Fluorinated)</td>\n",
       "      <td>Stage 6</td>\n",
       "      <td>Retail</td>\n",
       "      <td>6.010303e+09</td>\n",
       "    </tr>\n",
       "    <tr>\n",
       "      <th>9</th>\n",
       "      <td>Methane (CH4)</td>\n",
       "      <td>Stage 1</td>\n",
       "      <td>Land</td>\n",
       "      <td>6.087960e+08</td>\n",
       "    </tr>\n",
       "    <tr>\n",
       "      <th>10</th>\n",
       "      <td>Methane (CH4)</td>\n",
       "      <td>Stage 2</td>\n",
       "      <td>Farm</td>\n",
       "      <td>1.064548e+11</td>\n",
       "    </tr>\n",
       "    <tr>\n",
       "      <th>11</th>\n",
       "      <td>Methane (CH4)</td>\n",
       "      <td>Stage 3</td>\n",
       "      <td>Processing</td>\n",
       "      <td>2.908529e+09</td>\n",
       "    </tr>\n",
       "    <tr>\n",
       "      <th>12</th>\n",
       "      <td>Methane (CH4)</td>\n",
       "      <td>Stage 4</td>\n",
       "      <td>Transport</td>\n",
       "      <td>1.738191e+09</td>\n",
       "    </tr>\n",
       "    <tr>\n",
       "      <th>13</th>\n",
       "      <td>Methane (CH4)</td>\n",
       "      <td>Stage 5</td>\n",
       "      <td>Packaging</td>\n",
       "      <td>1.392743e+09</td>\n",
       "    </tr>\n",
       "    <tr>\n",
       "      <th>14</th>\n",
       "      <td>Methane (CH4)</td>\n",
       "      <td>Stage 6</td>\n",
       "      <td>Retail</td>\n",
       "      <td>3.698025e+08</td>\n",
       "    </tr>\n",
       "    <tr>\n",
       "      <th>15</th>\n",
       "      <td>Methane (CH4)</td>\n",
       "      <td>Stage 7</td>\n",
       "      <td>Consumer</td>\n",
       "      <td>2.066795e+09</td>\n",
       "    </tr>\n",
       "    <tr>\n",
       "      <th>16</th>\n",
       "      <td>Methane (CH4)</td>\n",
       "      <td>Stage 8</td>\n",
       "      <td>Waste</td>\n",
       "      <td>3.238047e+10</td>\n",
       "    </tr>\n",
       "    <tr>\n",
       "      <th>17</th>\n",
       "      <td>Nitrous oxide (N2O)</td>\n",
       "      <td>Stage 1</td>\n",
       "      <td>Land</td>\n",
       "      <td>8.742122e+06</td>\n",
       "    </tr>\n",
       "    <tr>\n",
       "      <th>18</th>\n",
       "      <td>Nitrous oxide (N2O)</td>\n",
       "      <td>Stage 2</td>\n",
       "      <td>Farm</td>\n",
       "      <td>3.809598e+10</td>\n",
       "    </tr>\n",
       "    <tr>\n",
       "      <th>19</th>\n",
       "      <td>Nitrous oxide (N2O)</td>\n",
       "      <td>Stage 3</td>\n",
       "      <td>Processing</td>\n",
       "      <td>5.166065e+08</td>\n",
       "    </tr>\n",
       "    <tr>\n",
       "      <th>20</th>\n",
       "      <td>Nitrous oxide (N2O)</td>\n",
       "      <td>Stage 4</td>\n",
       "      <td>Transport</td>\n",
       "      <td>2.467820e+08</td>\n",
       "    </tr>\n",
       "    <tr>\n",
       "      <th>21</th>\n",
       "      <td>Nitrous oxide (N2O)</td>\n",
       "      <td>Stage 5</td>\n",
       "      <td>Packaging</td>\n",
       "      <td>8.130522e+07</td>\n",
       "    </tr>\n",
       "    <tr>\n",
       "      <th>22</th>\n",
       "      <td>Nitrous oxide (N2O)</td>\n",
       "      <td>Stage 6</td>\n",
       "      <td>Retail</td>\n",
       "      <td>2.428989e+07</td>\n",
       "    </tr>\n",
       "    <tr>\n",
       "      <th>23</th>\n",
       "      <td>Nitrous oxide (N2O)</td>\n",
       "      <td>Stage 7</td>\n",
       "      <td>Consumer</td>\n",
       "      <td>1.097962e+09</td>\n",
       "    </tr>\n",
       "    <tr>\n",
       "      <th>24</th>\n",
       "      <td>Nitrous oxide (N2O)</td>\n",
       "      <td>Stage 8</td>\n",
       "      <td>Waste</td>\n",
       "      <td>1.833595e+09</td>\n",
       "    </tr>\n",
       "  </tbody>\n",
       "</table>\n",
       "</div>"
      ],
      "text/plain": [
       "                      GHG FS Stage Order Food System Stage  GHG Emissions\n",
       "0    Carbon dioxide (CO2)        Stage 1              Land   1.638427e+11\n",
       "1    Carbon dioxide (CO2)        Stage 2              Farm   2.251379e+10\n",
       "2    Carbon dioxide (CO2)        Stage 3        Processing   1.015064e+10\n",
       "3    Carbon dioxide (CO2)        Stage 4         Transport   1.577650e+10\n",
       "4    Carbon dioxide (CO2)        Stage 5         Packaging   1.802894e+10\n",
       "5    Carbon dioxide (CO2)        Stage 6            Retail   6.372152e+09\n",
       "6    Carbon dioxide (CO2)        Stage 7          Consumer   7.211363e+09\n",
       "7    Carbon dioxide (CO2)        Stage 8             Waste   7.188883e+07\n",
       "8   F-gases (Fluorinated)        Stage 6            Retail   6.010303e+09\n",
       "9           Methane (CH4)        Stage 1              Land   6.087960e+08\n",
       "10          Methane (CH4)        Stage 2              Farm   1.064548e+11\n",
       "11          Methane (CH4)        Stage 3        Processing   2.908529e+09\n",
       "12          Methane (CH4)        Stage 4         Transport   1.738191e+09\n",
       "13          Methane (CH4)        Stage 5         Packaging   1.392743e+09\n",
       "14          Methane (CH4)        Stage 6            Retail   3.698025e+08\n",
       "15          Methane (CH4)        Stage 7          Consumer   2.066795e+09\n",
       "16          Methane (CH4)        Stage 8             Waste   3.238047e+10\n",
       "17    Nitrous oxide (N2O)        Stage 1              Land   8.742122e+06\n",
       "18    Nitrous oxide (N2O)        Stage 2              Farm   3.809598e+10\n",
       "19    Nitrous oxide (N2O)        Stage 3        Processing   5.166065e+08\n",
       "20    Nitrous oxide (N2O)        Stage 4         Transport   2.467820e+08\n",
       "21    Nitrous oxide (N2O)        Stage 5         Packaging   8.130522e+07\n",
       "22    Nitrous oxide (N2O)        Stage 6            Retail   2.428989e+07\n",
       "23    Nitrous oxide (N2O)        Stage 7          Consumer   1.097962e+09\n",
       "24    Nitrous oxide (N2O)        Stage 8             Waste   1.833595e+09"
      ]
     },
     "execution_count": 5,
     "metadata": {},
     "output_type": "execute_result"
    }
   ],
   "source": [
    "#grouping Food System Stage, GHG and sum of GHG emissions \n",
    "#We'll use this info to create our sankey diagrams below\n",
    "edgar_sankey = df_edgar.groupby(by=\n",
    "                                   [\"GHG\", \n",
    "                                    \"FS Stage Order\",\n",
    "                                    \"Food System Stage\"]).sum()[[\"GHG Emissions\"]]\n",
    "edgar_sankey = edgar_sankey.reset_index()\n",
    "#edgar_sankey2 = df_edgar.groupby(by= [\"FS Stage Order\", \"Food System Stage\",\"GHG\"]).sum()[[\"GHG Emissions\"]]\n",
    "##same process as above for the second sankey grouping\n",
    "edgar_sankey"
   ]
  },
  {
   "cell_type": "code",
   "execution_count": 6,
   "id": "7cf0935c",
   "metadata": {
    "execution": {
     "iopub.execute_input": "2021-10-21T16:04:49.187209Z",
     "iopub.status.busy": "2021-10-21T16:04:49.186527Z",
     "iopub.status.idle": "2021-10-21T16:04:49.260596Z",
     "shell.execute_reply": "2021-10-21T16:04:49.261089Z",
     "shell.execute_reply.started": "2021-10-21T15:18:40.035289Z"
    },
    "jupyter": {
     "source_hidden": true
    },
    "papermill": {
     "duration": 0.111377,
     "end_time": "2021-10-21T16:04:49.261254",
     "exception": false,
     "start_time": "2021-10-21T16:04:49.149877",
     "status": "completed"
    },
    "tags": []
   },
   "outputs": [
    {
     "data": {
      "application/vnd.plotly.v1+json": {
       "config": {
        "plotlyServerURL": "https://plot.ly"
       },
       "data": [
        {
         "arrangement": "snap",
         "link": {
          "source": [
           0,
           0,
           0,
           0,
           0,
           0,
           0,
           0,
           1,
           1,
           1,
           1,
           1,
           1,
           1,
           1,
           2,
           2,
           2,
           2,
           2,
           2,
           2,
           2,
           3
          ],
          "target": [
           4,
           5,
           6,
           7,
           8,
           9,
           10,
           11,
           4,
           5,
           6,
           7,
           8,
           9,
           10,
           11,
           4,
           5,
           6,
           7,
           8,
           9,
           10,
           11,
           9
          ],
          "value": [
           163842700000,
           22513790000,
           10150640000,
           15776500000,
           18028940000,
           6372152000,
           7211363000,
           71888830,
           608796000,
           106454800000,
           2908529000,
           1738191000,
           1392743000,
           369802500,
           2066795000,
           32380470000,
           8742122,
           38095980000,
           516606500,
           246782000,
           81305220,
           24289890,
           1097962000,
           1833595000,
           6010303000
          ]
         },
         "node": {
          "color": [
           "#3d6493",
           "#95ceeb",
           "#308bbc",
           "#86aad1",
           "#58805b",
           "#98c7a0",
           "#f36e3a",
           "#fba644",
           "#ad5849",
           "#d2c795",
           "#736a62",
           "#b0a08c"
          ],
          "label": [
           "Carbon dioxide (CO2)",
           "Methane (CH4)",
           "Nitrous oxide (N2O)",
           "F-gases",
           "Land",
           "Farm",
           "Processing",
           "Transport",
           "Packaging",
           "Retail",
           "Consumer",
           "Waste"
          ],
          "line": {
           "color": "grey",
           "width": 0.5
          },
          "pad": 20,
          "thickness": 20
         },
         "type": "sankey"
        }
       ],
       "layout": {
        "font": {
         "size": 14
        },
        "height": 580,
        "template": {
         "data": {
          "bar": [
           {
            "error_x": {
             "color": "rgb(36,36,36)"
            },
            "error_y": {
             "color": "rgb(36,36,36)"
            },
            "marker": {
             "line": {
              "color": "rgb(234,234,242)",
              "width": 0.5
             },
             "pattern": {
              "fillmode": "overlay",
              "size": 10,
              "solidity": 0.2
             }
            },
            "type": "bar"
           }
          ],
          "barpolar": [
           {
            "marker": {
             "line": {
              "color": "rgb(234,234,242)",
              "width": 0.5
             },
             "pattern": {
              "fillmode": "overlay",
              "size": 10,
              "solidity": 0.2
             }
            },
            "type": "barpolar"
           }
          ],
          "carpet": [
           {
            "aaxis": {
             "endlinecolor": "rgb(36,36,36)",
             "gridcolor": "white",
             "linecolor": "white",
             "minorgridcolor": "white",
             "startlinecolor": "rgb(36,36,36)"
            },
            "baxis": {
             "endlinecolor": "rgb(36,36,36)",
             "gridcolor": "white",
             "linecolor": "white",
             "minorgridcolor": "white",
             "startlinecolor": "rgb(36,36,36)"
            },
            "type": "carpet"
           }
          ],
          "choropleth": [
           {
            "colorbar": {
             "outlinewidth": 0,
             "tickcolor": "rgb(36,36,36)",
             "ticklen": 8,
             "ticks": "outside",
             "tickwidth": 2
            },
            "type": "choropleth"
           }
          ],
          "contour": [
           {
            "colorbar": {
             "outlinewidth": 0,
             "tickcolor": "rgb(36,36,36)",
             "ticklen": 8,
             "ticks": "outside",
             "tickwidth": 2
            },
            "colorscale": [
             [
              0.0,
              "rgb(2,4,25)"
             ],
             [
              0.06274509803921569,
              "rgb(24,15,41)"
             ],
             [
              0.12549019607843137,
              "rgb(47,23,57)"
             ],
             [
              0.18823529411764706,
              "rgb(71,28,72)"
             ],
             [
              0.25098039215686274,
              "rgb(97,30,82)"
             ],
             [
              0.3137254901960784,
              "rgb(123,30,89)"
             ],
             [
              0.3764705882352941,
              "rgb(150,27,91)"
             ],
             [
              0.4392156862745098,
              "rgb(177,22,88)"
             ],
             [
              0.5019607843137255,
              "rgb(203,26,79)"
             ],
             [
              0.5647058823529412,
              "rgb(223,47,67)"
             ],
             [
              0.6274509803921569,
              "rgb(236,76,61)"
             ],
             [
              0.6901960784313725,
              "rgb(242,107,73)"
             ],
             [
              0.7529411764705882,
              "rgb(244,135,95)"
             ],
             [
              0.8156862745098039,
              "rgb(245,162,122)"
             ],
             [
              0.8784313725490196,
              "rgb(246,188,153)"
             ],
             [
              0.9411764705882353,
              "rgb(247,212,187)"
             ],
             [
              1.0,
              "rgb(250,234,220)"
             ]
            ],
            "type": "contour"
           }
          ],
          "contourcarpet": [
           {
            "colorbar": {
             "outlinewidth": 0,
             "tickcolor": "rgb(36,36,36)",
             "ticklen": 8,
             "ticks": "outside",
             "tickwidth": 2
            },
            "type": "contourcarpet"
           }
          ],
          "heatmap": [
           {
            "colorbar": {
             "outlinewidth": 0,
             "tickcolor": "rgb(36,36,36)",
             "ticklen": 8,
             "ticks": "outside",
             "tickwidth": 2
            },
            "colorscale": [
             [
              0.0,
              "rgb(2,4,25)"
             ],
             [
              0.06274509803921569,
              "rgb(24,15,41)"
             ],
             [
              0.12549019607843137,
              "rgb(47,23,57)"
             ],
             [
              0.18823529411764706,
              "rgb(71,28,72)"
             ],
             [
              0.25098039215686274,
              "rgb(97,30,82)"
             ],
             [
              0.3137254901960784,
              "rgb(123,30,89)"
             ],
             [
              0.3764705882352941,
              "rgb(150,27,91)"
             ],
             [
              0.4392156862745098,
              "rgb(177,22,88)"
             ],
             [
              0.5019607843137255,
              "rgb(203,26,79)"
             ],
             [
              0.5647058823529412,
              "rgb(223,47,67)"
             ],
             [
              0.6274509803921569,
              "rgb(236,76,61)"
             ],
             [
              0.6901960784313725,
              "rgb(242,107,73)"
             ],
             [
              0.7529411764705882,
              "rgb(244,135,95)"
             ],
             [
              0.8156862745098039,
              "rgb(245,162,122)"
             ],
             [
              0.8784313725490196,
              "rgb(246,188,153)"
             ],
             [
              0.9411764705882353,
              "rgb(247,212,187)"
             ],
             [
              1.0,
              "rgb(250,234,220)"
             ]
            ],
            "type": "heatmap"
           }
          ],
          "heatmapgl": [
           {
            "colorbar": {
             "outlinewidth": 0,
             "tickcolor": "rgb(36,36,36)",
             "ticklen": 8,
             "ticks": "outside",
             "tickwidth": 2
            },
            "colorscale": [
             [
              0.0,
              "rgb(2,4,25)"
             ],
             [
              0.06274509803921569,
              "rgb(24,15,41)"
             ],
             [
              0.12549019607843137,
              "rgb(47,23,57)"
             ],
             [
              0.18823529411764706,
              "rgb(71,28,72)"
             ],
             [
              0.25098039215686274,
              "rgb(97,30,82)"
             ],
             [
              0.3137254901960784,
              "rgb(123,30,89)"
             ],
             [
              0.3764705882352941,
              "rgb(150,27,91)"
             ],
             [
              0.4392156862745098,
              "rgb(177,22,88)"
             ],
             [
              0.5019607843137255,
              "rgb(203,26,79)"
             ],
             [
              0.5647058823529412,
              "rgb(223,47,67)"
             ],
             [
              0.6274509803921569,
              "rgb(236,76,61)"
             ],
             [
              0.6901960784313725,
              "rgb(242,107,73)"
             ],
             [
              0.7529411764705882,
              "rgb(244,135,95)"
             ],
             [
              0.8156862745098039,
              "rgb(245,162,122)"
             ],
             [
              0.8784313725490196,
              "rgb(246,188,153)"
             ],
             [
              0.9411764705882353,
              "rgb(247,212,187)"
             ],
             [
              1.0,
              "rgb(250,234,220)"
             ]
            ],
            "type": "heatmapgl"
           }
          ],
          "histogram": [
           {
            "marker": {
             "pattern": {
              "fillmode": "overlay",
              "size": 10,
              "solidity": 0.2
             }
            },
            "type": "histogram"
           }
          ],
          "histogram2d": [
           {
            "colorbar": {
             "outlinewidth": 0,
             "tickcolor": "rgb(36,36,36)",
             "ticklen": 8,
             "ticks": "outside",
             "tickwidth": 2
            },
            "colorscale": [
             [
              0.0,
              "rgb(2,4,25)"
             ],
             [
              0.06274509803921569,
              "rgb(24,15,41)"
             ],
             [
              0.12549019607843137,
              "rgb(47,23,57)"
             ],
             [
              0.18823529411764706,
              "rgb(71,28,72)"
             ],
             [
              0.25098039215686274,
              "rgb(97,30,82)"
             ],
             [
              0.3137254901960784,
              "rgb(123,30,89)"
             ],
             [
              0.3764705882352941,
              "rgb(150,27,91)"
             ],
             [
              0.4392156862745098,
              "rgb(177,22,88)"
             ],
             [
              0.5019607843137255,
              "rgb(203,26,79)"
             ],
             [
              0.5647058823529412,
              "rgb(223,47,67)"
             ],
             [
              0.6274509803921569,
              "rgb(236,76,61)"
             ],
             [
              0.6901960784313725,
              "rgb(242,107,73)"
             ],
             [
              0.7529411764705882,
              "rgb(244,135,95)"
             ],
             [
              0.8156862745098039,
              "rgb(245,162,122)"
             ],
             [
              0.8784313725490196,
              "rgb(246,188,153)"
             ],
             [
              0.9411764705882353,
              "rgb(247,212,187)"
             ],
             [
              1.0,
              "rgb(250,234,220)"
             ]
            ],
            "type": "histogram2d"
           }
          ],
          "histogram2dcontour": [
           {
            "colorbar": {
             "outlinewidth": 0,
             "tickcolor": "rgb(36,36,36)",
             "ticklen": 8,
             "ticks": "outside",
             "tickwidth": 2
            },
            "colorscale": [
             [
              0.0,
              "rgb(2,4,25)"
             ],
             [
              0.06274509803921569,
              "rgb(24,15,41)"
             ],
             [
              0.12549019607843137,
              "rgb(47,23,57)"
             ],
             [
              0.18823529411764706,
              "rgb(71,28,72)"
             ],
             [
              0.25098039215686274,
              "rgb(97,30,82)"
             ],
             [
              0.3137254901960784,
              "rgb(123,30,89)"
             ],
             [
              0.3764705882352941,
              "rgb(150,27,91)"
             ],
             [
              0.4392156862745098,
              "rgb(177,22,88)"
             ],
             [
              0.5019607843137255,
              "rgb(203,26,79)"
             ],
             [
              0.5647058823529412,
              "rgb(223,47,67)"
             ],
             [
              0.6274509803921569,
              "rgb(236,76,61)"
             ],
             [
              0.6901960784313725,
              "rgb(242,107,73)"
             ],
             [
              0.7529411764705882,
              "rgb(244,135,95)"
             ],
             [
              0.8156862745098039,
              "rgb(245,162,122)"
             ],
             [
              0.8784313725490196,
              "rgb(246,188,153)"
             ],
             [
              0.9411764705882353,
              "rgb(247,212,187)"
             ],
             [
              1.0,
              "rgb(250,234,220)"
             ]
            ],
            "type": "histogram2dcontour"
           }
          ],
          "mesh3d": [
           {
            "colorbar": {
             "outlinewidth": 0,
             "tickcolor": "rgb(36,36,36)",
             "ticklen": 8,
             "ticks": "outside",
             "tickwidth": 2
            },
            "type": "mesh3d"
           }
          ],
          "parcoords": [
           {
            "line": {
             "colorbar": {
              "outlinewidth": 0,
              "tickcolor": "rgb(36,36,36)",
              "ticklen": 8,
              "ticks": "outside",
              "tickwidth": 2
             }
            },
            "type": "parcoords"
           }
          ],
          "pie": [
           {
            "automargin": true,
            "type": "pie"
           }
          ],
          "scatter": [
           {
            "marker": {
             "colorbar": {
              "outlinewidth": 0,
              "tickcolor": "rgb(36,36,36)",
              "ticklen": 8,
              "ticks": "outside",
              "tickwidth": 2
             }
            },
            "type": "scatter"
           }
          ],
          "scatter3d": [
           {
            "line": {
             "colorbar": {
              "outlinewidth": 0,
              "tickcolor": "rgb(36,36,36)",
              "ticklen": 8,
              "ticks": "outside",
              "tickwidth": 2
             }
            },
            "marker": {
             "colorbar": {
              "outlinewidth": 0,
              "tickcolor": "rgb(36,36,36)",
              "ticklen": 8,
              "ticks": "outside",
              "tickwidth": 2
             }
            },
            "type": "scatter3d"
           }
          ],
          "scattercarpet": [
           {
            "marker": {
             "colorbar": {
              "outlinewidth": 0,
              "tickcolor": "rgb(36,36,36)",
              "ticklen": 8,
              "ticks": "outside",
              "tickwidth": 2
             }
            },
            "type": "scattercarpet"
           }
          ],
          "scattergeo": [
           {
            "marker": {
             "colorbar": {
              "outlinewidth": 0,
              "tickcolor": "rgb(36,36,36)",
              "ticklen": 8,
              "ticks": "outside",
              "tickwidth": 2
             }
            },
            "type": "scattergeo"
           }
          ],
          "scattergl": [
           {
            "marker": {
             "colorbar": {
              "outlinewidth": 0,
              "tickcolor": "rgb(36,36,36)",
              "ticklen": 8,
              "ticks": "outside",
              "tickwidth": 2
             }
            },
            "type": "scattergl"
           }
          ],
          "scattermapbox": [
           {
            "marker": {
             "colorbar": {
              "outlinewidth": 0,
              "tickcolor": "rgb(36,36,36)",
              "ticklen": 8,
              "ticks": "outside",
              "tickwidth": 2
             }
            },
            "type": "scattermapbox"
           }
          ],
          "scatterpolar": [
           {
            "marker": {
             "colorbar": {
              "outlinewidth": 0,
              "tickcolor": "rgb(36,36,36)",
              "ticklen": 8,
              "ticks": "outside",
              "tickwidth": 2
             }
            },
            "type": "scatterpolar"
           }
          ],
          "scatterpolargl": [
           {
            "marker": {
             "colorbar": {
              "outlinewidth": 0,
              "tickcolor": "rgb(36,36,36)",
              "ticklen": 8,
              "ticks": "outside",
              "tickwidth": 2
             }
            },
            "type": "scatterpolargl"
           }
          ],
          "scatterternary": [
           {
            "marker": {
             "colorbar": {
              "outlinewidth": 0,
              "tickcolor": "rgb(36,36,36)",
              "ticklen": 8,
              "ticks": "outside",
              "tickwidth": 2
             }
            },
            "type": "scatterternary"
           }
          ],
          "surface": [
           {
            "colorbar": {
             "outlinewidth": 0,
             "tickcolor": "rgb(36,36,36)",
             "ticklen": 8,
             "ticks": "outside",
             "tickwidth": 2
            },
            "colorscale": [
             [
              0.0,
              "rgb(2,4,25)"
             ],
             [
              0.06274509803921569,
              "rgb(24,15,41)"
             ],
             [
              0.12549019607843137,
              "rgb(47,23,57)"
             ],
             [
              0.18823529411764706,
              "rgb(71,28,72)"
             ],
             [
              0.25098039215686274,
              "rgb(97,30,82)"
             ],
             [
              0.3137254901960784,
              "rgb(123,30,89)"
             ],
             [
              0.3764705882352941,
              "rgb(150,27,91)"
             ],
             [
              0.4392156862745098,
              "rgb(177,22,88)"
             ],
             [
              0.5019607843137255,
              "rgb(203,26,79)"
             ],
             [
              0.5647058823529412,
              "rgb(223,47,67)"
             ],
             [
              0.6274509803921569,
              "rgb(236,76,61)"
             ],
             [
              0.6901960784313725,
              "rgb(242,107,73)"
             ],
             [
              0.7529411764705882,
              "rgb(244,135,95)"
             ],
             [
              0.8156862745098039,
              "rgb(245,162,122)"
             ],
             [
              0.8784313725490196,
              "rgb(246,188,153)"
             ],
             [
              0.9411764705882353,
              "rgb(247,212,187)"
             ],
             [
              1.0,
              "rgb(250,234,220)"
             ]
            ],
            "type": "surface"
           }
          ],
          "table": [
           {
            "cells": {
             "fill": {
              "color": "rgb(231,231,240)"
             },
             "line": {
              "color": "white"
             }
            },
            "header": {
             "fill": {
              "color": "rgb(183,183,191)"
             },
             "line": {
              "color": "white"
             }
            },
            "type": "table"
           }
          ]
         },
         "layout": {
          "annotationdefaults": {
           "arrowcolor": "rgb(67,103,167)"
          },
          "autotypenumbers": "strict",
          "coloraxis": {
           "colorbar": {
            "outlinewidth": 0,
            "tickcolor": "rgb(36,36,36)",
            "ticklen": 8,
            "ticks": "outside",
            "tickwidth": 2
           }
          },
          "colorscale": {
           "sequential": [
            [
             0.0,
             "rgb(2,4,25)"
            ],
            [
             0.06274509803921569,
             "rgb(24,15,41)"
            ],
            [
             0.12549019607843137,
             "rgb(47,23,57)"
            ],
            [
             0.18823529411764706,
             "rgb(71,28,72)"
            ],
            [
             0.25098039215686274,
             "rgb(97,30,82)"
            ],
            [
             0.3137254901960784,
             "rgb(123,30,89)"
            ],
            [
             0.3764705882352941,
             "rgb(150,27,91)"
            ],
            [
             0.4392156862745098,
             "rgb(177,22,88)"
            ],
            [
             0.5019607843137255,
             "rgb(203,26,79)"
            ],
            [
             0.5647058823529412,
             "rgb(223,47,67)"
            ],
            [
             0.6274509803921569,
             "rgb(236,76,61)"
            ],
            [
             0.6901960784313725,
             "rgb(242,107,73)"
            ],
            [
             0.7529411764705882,
             "rgb(244,135,95)"
            ],
            [
             0.8156862745098039,
             "rgb(245,162,122)"
            ],
            [
             0.8784313725490196,
             "rgb(246,188,153)"
            ],
            [
             0.9411764705882353,
             "rgb(247,212,187)"
            ],
            [
             1.0,
             "rgb(250,234,220)"
            ]
           ],
           "sequentialminus": [
            [
             0.0,
             "rgb(2,4,25)"
            ],
            [
             0.06274509803921569,
             "rgb(24,15,41)"
            ],
            [
             0.12549019607843137,
             "rgb(47,23,57)"
            ],
            [
             0.18823529411764706,
             "rgb(71,28,72)"
            ],
            [
             0.25098039215686274,
             "rgb(97,30,82)"
            ],
            [
             0.3137254901960784,
             "rgb(123,30,89)"
            ],
            [
             0.3764705882352941,
             "rgb(150,27,91)"
            ],
            [
             0.4392156862745098,
             "rgb(177,22,88)"
            ],
            [
             0.5019607843137255,
             "rgb(203,26,79)"
            ],
            [
             0.5647058823529412,
             "rgb(223,47,67)"
            ],
            [
             0.6274509803921569,
             "rgb(236,76,61)"
            ],
            [
             0.6901960784313725,
             "rgb(242,107,73)"
            ],
            [
             0.7529411764705882,
             "rgb(244,135,95)"
            ],
            [
             0.8156862745098039,
             "rgb(245,162,122)"
            ],
            [
             0.8784313725490196,
             "rgb(246,188,153)"
            ],
            [
             0.9411764705882353,
             "rgb(247,212,187)"
            ],
            [
             1.0,
             "rgb(250,234,220)"
            ]
           ]
          },
          "colorway": [
           "rgb(76,114,176)",
           "rgb(221,132,82)",
           "rgb(85,168,104)",
           "rgb(196,78,82)",
           "rgb(129,114,179)",
           "rgb(147,120,96)",
           "rgb(218,139,195)",
           "rgb(140,140,140)",
           "rgb(204,185,116)",
           "rgb(100,181,205)"
          ],
          "font": {
           "color": "rgb(36,36,36)"
          },
          "geo": {
           "bgcolor": "white",
           "lakecolor": "white",
           "landcolor": "rgb(234,234,242)",
           "showlakes": true,
           "showland": true,
           "subunitcolor": "white"
          },
          "hoverlabel": {
           "align": "left"
          },
          "hovermode": "closest",
          "paper_bgcolor": "white",
          "plot_bgcolor": "rgb(234,234,242)",
          "polar": {
           "angularaxis": {
            "gridcolor": "white",
            "linecolor": "white",
            "showgrid": true,
            "ticks": ""
           },
           "bgcolor": "rgb(234,234,242)",
           "radialaxis": {
            "gridcolor": "white",
            "linecolor": "white",
            "showgrid": true,
            "ticks": ""
           }
          },
          "scene": {
           "xaxis": {
            "backgroundcolor": "rgb(234,234,242)",
            "gridcolor": "white",
            "gridwidth": 2,
            "linecolor": "white",
            "showbackground": true,
            "showgrid": true,
            "ticks": "",
            "zerolinecolor": "white"
           },
           "yaxis": {
            "backgroundcolor": "rgb(234,234,242)",
            "gridcolor": "white",
            "gridwidth": 2,
            "linecolor": "white",
            "showbackground": true,
            "showgrid": true,
            "ticks": "",
            "zerolinecolor": "white"
           },
           "zaxis": {
            "backgroundcolor": "rgb(234,234,242)",
            "gridcolor": "white",
            "gridwidth": 2,
            "linecolor": "white",
            "showbackground": true,
            "showgrid": true,
            "ticks": "",
            "zerolinecolor": "white"
           }
          },
          "shapedefaults": {
           "fillcolor": "rgb(67,103,167)",
           "line": {
            "width": 0
           },
           "opacity": 0.5
          },
          "ternary": {
           "aaxis": {
            "gridcolor": "white",
            "linecolor": "white",
            "showgrid": true,
            "ticks": ""
           },
           "baxis": {
            "gridcolor": "white",
            "linecolor": "white",
            "showgrid": true,
            "ticks": ""
           },
           "bgcolor": "rgb(234,234,242)",
           "caxis": {
            "gridcolor": "white",
            "linecolor": "white",
            "showgrid": true,
            "ticks": ""
           }
          },
          "xaxis": {
           "automargin": true,
           "gridcolor": "white",
           "linecolor": "white",
           "showgrid": true,
           "ticks": "",
           "title": {
            "standoff": 15
           },
           "zerolinecolor": "white"
          },
          "yaxis": {
           "automargin": true,
           "gridcolor": "white",
           "linecolor": "white",
           "showgrid": true,
           "ticks": "",
           "title": {
            "standoff": 15
           },
           "zerolinecolor": "white"
          }
         }
        },
        "title": {
         "text": "GHGs to Stages: Food System Emissions, 1990-2015"
        }
       }
      },
      "text/html": [
       "<div>                            <div id=\"78cbed0e-2765-45e8-93a9-03a0d3a388ae\" class=\"plotly-graph-div\" style=\"height:580px; width:100%;\"></div>            <script type=\"text/javascript\">                require([\"plotly\"], function(Plotly) {                    window.PLOTLYENV=window.PLOTLYENV || {};                                    if (document.getElementById(\"78cbed0e-2765-45e8-93a9-03a0d3a388ae\")) {                    Plotly.newPlot(                        \"78cbed0e-2765-45e8-93a9-03a0d3a388ae\",                        [{\"arrangement\":\"snap\",\"link\":{\"source\":[0,0,0,0,0,0,0,0,1,1,1,1,1,1,1,1,2,2,2,2,2,2,2,2,3],\"target\":[4,5,6,7,8,9,10,11,4,5,6,7,8,9,10,11,4,5,6,7,8,9,10,11,9],\"value\":[163842700000,22513790000,10150640000,15776500000,18028940000,6372152000,7211363000,71888830,608796000,106454800000,2908529000,1738191000,1392743000,369802500,2066795000,32380470000,8742122,38095980000,516606500,246782000,81305220,24289890,1097962000,1833595000,6010303000]},\"node\":{\"color\":[\"#3d6493\",\"#95ceeb\",\"#308bbc\",\"#86aad1\",\"#58805b\",\"#98c7a0\",\"#f36e3a\",\"#fba644\",\"#ad5849\",\"#d2c795\",\"#736a62\",\"#b0a08c\"],\"label\":[\"Carbon dioxide (CO2)\",\"Methane (CH4)\",\"Nitrous oxide (N2O)\",\"F-gases\",\"Land\",\"Farm\",\"Processing\",\"Transport\",\"Packaging\",\"Retail\",\"Consumer\",\"Waste\"],\"line\":{\"color\":\"grey\",\"width\":0.5},\"pad\":20,\"thickness\":20},\"type\":\"sankey\"}],                        {\"font\":{\"size\":14},\"height\":580,\"template\":{\"data\":{\"bar\":[{\"error_x\":{\"color\":\"rgb(36,36,36)\"},\"error_y\":{\"color\":\"rgb(36,36,36)\"},\"marker\":{\"line\":{\"color\":\"rgb(234,234,242)\",\"width\":0.5},\"pattern\":{\"fillmode\":\"overlay\",\"size\":10,\"solidity\":0.2}},\"type\":\"bar\"}],\"barpolar\":[{\"marker\":{\"line\":{\"color\":\"rgb(234,234,242)\",\"width\":0.5},\"pattern\":{\"fillmode\":\"overlay\",\"size\":10,\"solidity\":0.2}},\"type\":\"barpolar\"}],\"carpet\":[{\"aaxis\":{\"endlinecolor\":\"rgb(36,36,36)\",\"gridcolor\":\"white\",\"linecolor\":\"white\",\"minorgridcolor\":\"white\",\"startlinecolor\":\"rgb(36,36,36)\"},\"baxis\":{\"endlinecolor\":\"rgb(36,36,36)\",\"gridcolor\":\"white\",\"linecolor\":\"white\",\"minorgridcolor\":\"white\",\"startlinecolor\":\"rgb(36,36,36)\"},\"type\":\"carpet\"}],\"choropleth\":[{\"colorbar\":{\"outlinewidth\":0,\"tickcolor\":\"rgb(36,36,36)\",\"ticklen\":8,\"ticks\":\"outside\",\"tickwidth\":2},\"type\":\"choropleth\"}],\"contour\":[{\"colorbar\":{\"outlinewidth\":0,\"tickcolor\":\"rgb(36,36,36)\",\"ticklen\":8,\"ticks\":\"outside\",\"tickwidth\":2},\"colorscale\":[[0.0,\"rgb(2,4,25)\"],[0.06274509803921569,\"rgb(24,15,41)\"],[0.12549019607843137,\"rgb(47,23,57)\"],[0.18823529411764706,\"rgb(71,28,72)\"],[0.25098039215686274,\"rgb(97,30,82)\"],[0.3137254901960784,\"rgb(123,30,89)\"],[0.3764705882352941,\"rgb(150,27,91)\"],[0.4392156862745098,\"rgb(177,22,88)\"],[0.5019607843137255,\"rgb(203,26,79)\"],[0.5647058823529412,\"rgb(223,47,67)\"],[0.6274509803921569,\"rgb(236,76,61)\"],[0.6901960784313725,\"rgb(242,107,73)\"],[0.7529411764705882,\"rgb(244,135,95)\"],[0.8156862745098039,\"rgb(245,162,122)\"],[0.8784313725490196,\"rgb(246,188,153)\"],[0.9411764705882353,\"rgb(247,212,187)\"],[1.0,\"rgb(250,234,220)\"]],\"type\":\"contour\"}],\"contourcarpet\":[{\"colorbar\":{\"outlinewidth\":0,\"tickcolor\":\"rgb(36,36,36)\",\"ticklen\":8,\"ticks\":\"outside\",\"tickwidth\":2},\"type\":\"contourcarpet\"}],\"heatmap\":[{\"colorbar\":{\"outlinewidth\":0,\"tickcolor\":\"rgb(36,36,36)\",\"ticklen\":8,\"ticks\":\"outside\",\"tickwidth\":2},\"colorscale\":[[0.0,\"rgb(2,4,25)\"],[0.06274509803921569,\"rgb(24,15,41)\"],[0.12549019607843137,\"rgb(47,23,57)\"],[0.18823529411764706,\"rgb(71,28,72)\"],[0.25098039215686274,\"rgb(97,30,82)\"],[0.3137254901960784,\"rgb(123,30,89)\"],[0.3764705882352941,\"rgb(150,27,91)\"],[0.4392156862745098,\"rgb(177,22,88)\"],[0.5019607843137255,\"rgb(203,26,79)\"],[0.5647058823529412,\"rgb(223,47,67)\"],[0.6274509803921569,\"rgb(236,76,61)\"],[0.6901960784313725,\"rgb(242,107,73)\"],[0.7529411764705882,\"rgb(244,135,95)\"],[0.8156862745098039,\"rgb(245,162,122)\"],[0.8784313725490196,\"rgb(246,188,153)\"],[0.9411764705882353,\"rgb(247,212,187)\"],[1.0,\"rgb(250,234,220)\"]],\"type\":\"heatmap\"}],\"heatmapgl\":[{\"colorbar\":{\"outlinewidth\":0,\"tickcolor\":\"rgb(36,36,36)\",\"ticklen\":8,\"ticks\":\"outside\",\"tickwidth\":2},\"colorscale\":[[0.0,\"rgb(2,4,25)\"],[0.06274509803921569,\"rgb(24,15,41)\"],[0.12549019607843137,\"rgb(47,23,57)\"],[0.18823529411764706,\"rgb(71,28,72)\"],[0.25098039215686274,\"rgb(97,30,82)\"],[0.3137254901960784,\"rgb(123,30,89)\"],[0.3764705882352941,\"rgb(150,27,91)\"],[0.4392156862745098,\"rgb(177,22,88)\"],[0.5019607843137255,\"rgb(203,26,79)\"],[0.5647058823529412,\"rgb(223,47,67)\"],[0.6274509803921569,\"rgb(236,76,61)\"],[0.6901960784313725,\"rgb(242,107,73)\"],[0.7529411764705882,\"rgb(244,135,95)\"],[0.8156862745098039,\"rgb(245,162,122)\"],[0.8784313725490196,\"rgb(246,188,153)\"],[0.9411764705882353,\"rgb(247,212,187)\"],[1.0,\"rgb(250,234,220)\"]],\"type\":\"heatmapgl\"}],\"histogram\":[{\"marker\":{\"pattern\":{\"fillmode\":\"overlay\",\"size\":10,\"solidity\":0.2}},\"type\":\"histogram\"}],\"histogram2d\":[{\"colorbar\":{\"outlinewidth\":0,\"tickcolor\":\"rgb(36,36,36)\",\"ticklen\":8,\"ticks\":\"outside\",\"tickwidth\":2},\"colorscale\":[[0.0,\"rgb(2,4,25)\"],[0.06274509803921569,\"rgb(24,15,41)\"],[0.12549019607843137,\"rgb(47,23,57)\"],[0.18823529411764706,\"rgb(71,28,72)\"],[0.25098039215686274,\"rgb(97,30,82)\"],[0.3137254901960784,\"rgb(123,30,89)\"],[0.3764705882352941,\"rgb(150,27,91)\"],[0.4392156862745098,\"rgb(177,22,88)\"],[0.5019607843137255,\"rgb(203,26,79)\"],[0.5647058823529412,\"rgb(223,47,67)\"],[0.6274509803921569,\"rgb(236,76,61)\"],[0.6901960784313725,\"rgb(242,107,73)\"],[0.7529411764705882,\"rgb(244,135,95)\"],[0.8156862745098039,\"rgb(245,162,122)\"],[0.8784313725490196,\"rgb(246,188,153)\"],[0.9411764705882353,\"rgb(247,212,187)\"],[1.0,\"rgb(250,234,220)\"]],\"type\":\"histogram2d\"}],\"histogram2dcontour\":[{\"colorbar\":{\"outlinewidth\":0,\"tickcolor\":\"rgb(36,36,36)\",\"ticklen\":8,\"ticks\":\"outside\",\"tickwidth\":2},\"colorscale\":[[0.0,\"rgb(2,4,25)\"],[0.06274509803921569,\"rgb(24,15,41)\"],[0.12549019607843137,\"rgb(47,23,57)\"],[0.18823529411764706,\"rgb(71,28,72)\"],[0.25098039215686274,\"rgb(97,30,82)\"],[0.3137254901960784,\"rgb(123,30,89)\"],[0.3764705882352941,\"rgb(150,27,91)\"],[0.4392156862745098,\"rgb(177,22,88)\"],[0.5019607843137255,\"rgb(203,26,79)\"],[0.5647058823529412,\"rgb(223,47,67)\"],[0.6274509803921569,\"rgb(236,76,61)\"],[0.6901960784313725,\"rgb(242,107,73)\"],[0.7529411764705882,\"rgb(244,135,95)\"],[0.8156862745098039,\"rgb(245,162,122)\"],[0.8784313725490196,\"rgb(246,188,153)\"],[0.9411764705882353,\"rgb(247,212,187)\"],[1.0,\"rgb(250,234,220)\"]],\"type\":\"histogram2dcontour\"}],\"mesh3d\":[{\"colorbar\":{\"outlinewidth\":0,\"tickcolor\":\"rgb(36,36,36)\",\"ticklen\":8,\"ticks\":\"outside\",\"tickwidth\":2},\"type\":\"mesh3d\"}],\"parcoords\":[{\"line\":{\"colorbar\":{\"outlinewidth\":0,\"tickcolor\":\"rgb(36,36,36)\",\"ticklen\":8,\"ticks\":\"outside\",\"tickwidth\":2}},\"type\":\"parcoords\"}],\"pie\":[{\"automargin\":true,\"type\":\"pie\"}],\"scatter\":[{\"marker\":{\"colorbar\":{\"outlinewidth\":0,\"tickcolor\":\"rgb(36,36,36)\",\"ticklen\":8,\"ticks\":\"outside\",\"tickwidth\":2}},\"type\":\"scatter\"}],\"scatter3d\":[{\"line\":{\"colorbar\":{\"outlinewidth\":0,\"tickcolor\":\"rgb(36,36,36)\",\"ticklen\":8,\"ticks\":\"outside\",\"tickwidth\":2}},\"marker\":{\"colorbar\":{\"outlinewidth\":0,\"tickcolor\":\"rgb(36,36,36)\",\"ticklen\":8,\"ticks\":\"outside\",\"tickwidth\":2}},\"type\":\"scatter3d\"}],\"scattercarpet\":[{\"marker\":{\"colorbar\":{\"outlinewidth\":0,\"tickcolor\":\"rgb(36,36,36)\",\"ticklen\":8,\"ticks\":\"outside\",\"tickwidth\":2}},\"type\":\"scattercarpet\"}],\"scattergeo\":[{\"marker\":{\"colorbar\":{\"outlinewidth\":0,\"tickcolor\":\"rgb(36,36,36)\",\"ticklen\":8,\"ticks\":\"outside\",\"tickwidth\":2}},\"type\":\"scattergeo\"}],\"scattergl\":[{\"marker\":{\"colorbar\":{\"outlinewidth\":0,\"tickcolor\":\"rgb(36,36,36)\",\"ticklen\":8,\"ticks\":\"outside\",\"tickwidth\":2}},\"type\":\"scattergl\"}],\"scattermapbox\":[{\"marker\":{\"colorbar\":{\"outlinewidth\":0,\"tickcolor\":\"rgb(36,36,36)\",\"ticklen\":8,\"ticks\":\"outside\",\"tickwidth\":2}},\"type\":\"scattermapbox\"}],\"scatterpolar\":[{\"marker\":{\"colorbar\":{\"outlinewidth\":0,\"tickcolor\":\"rgb(36,36,36)\",\"ticklen\":8,\"ticks\":\"outside\",\"tickwidth\":2}},\"type\":\"scatterpolar\"}],\"scatterpolargl\":[{\"marker\":{\"colorbar\":{\"outlinewidth\":0,\"tickcolor\":\"rgb(36,36,36)\",\"ticklen\":8,\"ticks\":\"outside\",\"tickwidth\":2}},\"type\":\"scatterpolargl\"}],\"scatterternary\":[{\"marker\":{\"colorbar\":{\"outlinewidth\":0,\"tickcolor\":\"rgb(36,36,36)\",\"ticklen\":8,\"ticks\":\"outside\",\"tickwidth\":2}},\"type\":\"scatterternary\"}],\"surface\":[{\"colorbar\":{\"outlinewidth\":0,\"tickcolor\":\"rgb(36,36,36)\",\"ticklen\":8,\"ticks\":\"outside\",\"tickwidth\":2},\"colorscale\":[[0.0,\"rgb(2,4,25)\"],[0.06274509803921569,\"rgb(24,15,41)\"],[0.12549019607843137,\"rgb(47,23,57)\"],[0.18823529411764706,\"rgb(71,28,72)\"],[0.25098039215686274,\"rgb(97,30,82)\"],[0.3137254901960784,\"rgb(123,30,89)\"],[0.3764705882352941,\"rgb(150,27,91)\"],[0.4392156862745098,\"rgb(177,22,88)\"],[0.5019607843137255,\"rgb(203,26,79)\"],[0.5647058823529412,\"rgb(223,47,67)\"],[0.6274509803921569,\"rgb(236,76,61)\"],[0.6901960784313725,\"rgb(242,107,73)\"],[0.7529411764705882,\"rgb(244,135,95)\"],[0.8156862745098039,\"rgb(245,162,122)\"],[0.8784313725490196,\"rgb(246,188,153)\"],[0.9411764705882353,\"rgb(247,212,187)\"],[1.0,\"rgb(250,234,220)\"]],\"type\":\"surface\"}],\"table\":[{\"cells\":{\"fill\":{\"color\":\"rgb(231,231,240)\"},\"line\":{\"color\":\"white\"}},\"header\":{\"fill\":{\"color\":\"rgb(183,183,191)\"},\"line\":{\"color\":\"white\"}},\"type\":\"table\"}]},\"layout\":{\"annotationdefaults\":{\"arrowcolor\":\"rgb(67,103,167)\"},\"autotypenumbers\":\"strict\",\"coloraxis\":{\"colorbar\":{\"outlinewidth\":0,\"tickcolor\":\"rgb(36,36,36)\",\"ticklen\":8,\"ticks\":\"outside\",\"tickwidth\":2}},\"colorscale\":{\"sequential\":[[0.0,\"rgb(2,4,25)\"],[0.06274509803921569,\"rgb(24,15,41)\"],[0.12549019607843137,\"rgb(47,23,57)\"],[0.18823529411764706,\"rgb(71,28,72)\"],[0.25098039215686274,\"rgb(97,30,82)\"],[0.3137254901960784,\"rgb(123,30,89)\"],[0.3764705882352941,\"rgb(150,27,91)\"],[0.4392156862745098,\"rgb(177,22,88)\"],[0.5019607843137255,\"rgb(203,26,79)\"],[0.5647058823529412,\"rgb(223,47,67)\"],[0.6274509803921569,\"rgb(236,76,61)\"],[0.6901960784313725,\"rgb(242,107,73)\"],[0.7529411764705882,\"rgb(244,135,95)\"],[0.8156862745098039,\"rgb(245,162,122)\"],[0.8784313725490196,\"rgb(246,188,153)\"],[0.9411764705882353,\"rgb(247,212,187)\"],[1.0,\"rgb(250,234,220)\"]],\"sequentialminus\":[[0.0,\"rgb(2,4,25)\"],[0.06274509803921569,\"rgb(24,15,41)\"],[0.12549019607843137,\"rgb(47,23,57)\"],[0.18823529411764706,\"rgb(71,28,72)\"],[0.25098039215686274,\"rgb(97,30,82)\"],[0.3137254901960784,\"rgb(123,30,89)\"],[0.3764705882352941,\"rgb(150,27,91)\"],[0.4392156862745098,\"rgb(177,22,88)\"],[0.5019607843137255,\"rgb(203,26,79)\"],[0.5647058823529412,\"rgb(223,47,67)\"],[0.6274509803921569,\"rgb(236,76,61)\"],[0.6901960784313725,\"rgb(242,107,73)\"],[0.7529411764705882,\"rgb(244,135,95)\"],[0.8156862745098039,\"rgb(245,162,122)\"],[0.8784313725490196,\"rgb(246,188,153)\"],[0.9411764705882353,\"rgb(247,212,187)\"],[1.0,\"rgb(250,234,220)\"]]},\"colorway\":[\"rgb(76,114,176)\",\"rgb(221,132,82)\",\"rgb(85,168,104)\",\"rgb(196,78,82)\",\"rgb(129,114,179)\",\"rgb(147,120,96)\",\"rgb(218,139,195)\",\"rgb(140,140,140)\",\"rgb(204,185,116)\",\"rgb(100,181,205)\"],\"font\":{\"color\":\"rgb(36,36,36)\"},\"geo\":{\"bgcolor\":\"white\",\"lakecolor\":\"white\",\"landcolor\":\"rgb(234,234,242)\",\"showlakes\":true,\"showland\":true,\"subunitcolor\":\"white\"},\"hoverlabel\":{\"align\":\"left\"},\"hovermode\":\"closest\",\"paper_bgcolor\":\"white\",\"plot_bgcolor\":\"rgb(234,234,242)\",\"polar\":{\"angularaxis\":{\"gridcolor\":\"white\",\"linecolor\":\"white\",\"showgrid\":true,\"ticks\":\"\"},\"bgcolor\":\"rgb(234,234,242)\",\"radialaxis\":{\"gridcolor\":\"white\",\"linecolor\":\"white\",\"showgrid\":true,\"ticks\":\"\"}},\"scene\":{\"xaxis\":{\"backgroundcolor\":\"rgb(234,234,242)\",\"gridcolor\":\"white\",\"gridwidth\":2,\"linecolor\":\"white\",\"showbackground\":true,\"showgrid\":true,\"ticks\":\"\",\"zerolinecolor\":\"white\"},\"yaxis\":{\"backgroundcolor\":\"rgb(234,234,242)\",\"gridcolor\":\"white\",\"gridwidth\":2,\"linecolor\":\"white\",\"showbackground\":true,\"showgrid\":true,\"ticks\":\"\",\"zerolinecolor\":\"white\"},\"zaxis\":{\"backgroundcolor\":\"rgb(234,234,242)\",\"gridcolor\":\"white\",\"gridwidth\":2,\"linecolor\":\"white\",\"showbackground\":true,\"showgrid\":true,\"ticks\":\"\",\"zerolinecolor\":\"white\"}},\"shapedefaults\":{\"fillcolor\":\"rgb(67,103,167)\",\"line\":{\"width\":0},\"opacity\":0.5},\"ternary\":{\"aaxis\":{\"gridcolor\":\"white\",\"linecolor\":\"white\",\"showgrid\":true,\"ticks\":\"\"},\"baxis\":{\"gridcolor\":\"white\",\"linecolor\":\"white\",\"showgrid\":true,\"ticks\":\"\"},\"bgcolor\":\"rgb(234,234,242)\",\"caxis\":{\"gridcolor\":\"white\",\"linecolor\":\"white\",\"showgrid\":true,\"ticks\":\"\"}},\"xaxis\":{\"automargin\":true,\"gridcolor\":\"white\",\"linecolor\":\"white\",\"showgrid\":true,\"ticks\":\"\",\"title\":{\"standoff\":15},\"zerolinecolor\":\"white\"},\"yaxis\":{\"automargin\":true,\"gridcolor\":\"white\",\"linecolor\":\"white\",\"showgrid\":true,\"ticks\":\"\",\"title\":{\"standoff\":15},\"zerolinecolor\":\"white\"}}},\"title\":{\"text\":\"GHGs to Stages: Food System Emissions, 1990-2015\"}},                        {\"responsive\": true}                    ).then(function(){\n",
       "                            \n",
       "var gd = document.getElementById('78cbed0e-2765-45e8-93a9-03a0d3a388ae');\n",
       "var x = new MutationObserver(function (mutations, observer) {{\n",
       "        var display = window.getComputedStyle(gd).display;\n",
       "        if (!display || display === 'none') {{\n",
       "            console.log([gd, 'removed!']);\n",
       "            Plotly.purge(gd);\n",
       "            observer.disconnect();\n",
       "        }}\n",
       "}});\n",
       "\n",
       "// Listen for the removal of the full notebook cells\n",
       "var notebookContainer = gd.closest('#notebook-container');\n",
       "if (notebookContainer) {{\n",
       "    x.observe(notebookContainer, {childList: true});\n",
       "}}\n",
       "\n",
       "// Listen for the clearing of the current output cell\n",
       "var outputEl = gd.closest('.output');\n",
       "if (outputEl) {{\n",
       "    x.observe(outputEl, {childList: true});\n",
       "}}\n",
       "\n",
       "                        })                };                });            </script>        </div>"
      ]
     },
     "metadata": {},
     "output_type": "display_data"
    }
   ],
   "source": [
    "fig = go.Figure(data=[go.Sankey(\n",
    "    arrangement = \"snap\",\n",
    "    node = dict(\n",
    "      pad = 20,\n",
    "      thickness = 20,\n",
    "      line = dict(color = \"grey\", width = 0.5),\n",
    "      label = [\n",
    "          \"Carbon dioxide (CO2)\", \"Methane (CH4)\", \"Nitrous oxide (N2O)\",\n",
    "          \"F-gases\", \"Land\", \"Farm\", \"Processing\",\n",
    "          \"Transport\", \"Packaging\", \"Retail\", \"Consumer\", \"Waste\"],\n",
    "      color = [\"#3d6493\", \"#95ceeb\", \"#308bbc\", \"#86aad1\", \"#58805b\", \n",
    "               \"#98c7a0\", \"#f36e3a\", \"#fba644\", \"#ad5849\", \"#d2c795\", \"#736a62\", \"#b0a08c\"]),\n",
    "    #to match the colors I've been working with in Tableau \n",
    "    link = dict(\n",
    "      source = [0,0,0,0,0,0,0,0,1,1,1,1,1,1,1,1,2,2,2,2,2,2,2,2,3], # corresponds to 4 GHGs (the 'sources')\n",
    "      target = [4,5,6,7,8,9,10,11,4,5,6,7,8,9,10,11,4,5,6,7,8,9,10,11,9], # corresponds to 8 food system stages (the 'targets') \n",
    "      value  = [163842700000,22513790000,10150640000,15776500000,18028940000,6372152000,7211363000,71888830,608796000,106454800000,2908529000,1738191000,1392743000,369802500,2066795000,32380470000,8742122,38095980000,516606500,246782000,81305220,24289890,1097962000,1833595000,6010303000] #the amount per Source to Target\n",
    "  ))])\n",
    "fig.update_layout(\n",
    "    height=580,\n",
    "    title_text=\"GHGs to Stages: Food System Emissions, 1990-2015\", \n",
    "    font_size=14)\n",
    "fig.show()"
   ]
  },
  {
   "cell_type": "markdown",
   "id": "890811cc",
   "metadata": {
    "papermill": {
     "duration": 0.031418,
     "end_time": "2021-10-21T16:04:49.324994",
     "exception": false,
     "start_time": "2021-10-21T16:04:49.293576",
     "status": "completed"
    },
    "tags": []
   },
   "source": [
    "* Carbon dioxide (CO2), Methane (CH4), and Nitrous oxide (N2O) emissions are found from **all eight stages** of global food systems\n",
    "* Despite their ubiquity, the vast majority of CO2, CH4, and N20 emissions occur in **Land** and **Farm** \n",
    "* **F-gases** are identified in one stage only: **Retail**\n",
    "* **Land** and **Farm** account for most food system emissions by stage\n",
    "* **Carbon dioxide** (CO2) and **Methane** (CH4) account for the vast majority of food system emissions by GHG\n"
   ]
  },
  {
   "cell_type": "code",
   "execution_count": 7,
   "id": "027f895b",
   "metadata": {
    "execution": {
     "iopub.execute_input": "2021-10-21T16:04:49.398494Z",
     "iopub.status.busy": "2021-10-21T16:04:49.397725Z",
     "iopub.status.idle": "2021-10-21T16:04:49.415720Z",
     "shell.execute_reply": "2021-10-21T16:04:49.416242Z",
     "shell.execute_reply.started": "2021-10-21T15:18:40.117624Z"
    },
    "jupyter": {
     "source_hidden": true
    },
    "papermill": {
     "duration": 0.059438,
     "end_time": "2021-10-21T16:04:49.416444",
     "exception": false,
     "start_time": "2021-10-21T16:04:49.357006",
     "status": "completed"
    },
    "tags": []
   },
   "outputs": [
    {
     "data": {
      "application/vnd.plotly.v1+json": {
       "config": {
        "plotlyServerURL": "https://plot.ly"
       },
       "data": [
        {
         "arrangement": "snap",
         "link": {
          "source": [
           0,
           0,
           0,
           1,
           1,
           1,
           2,
           2,
           2,
           3,
           3,
           3,
           4,
           4,
           4,
           5,
           5,
           5,
           5,
           6,
           6,
           6,
           7,
           7,
           7,
           7
          ],
          "target": [
           8,
           9,
           10,
           8,
           9,
           10,
           8,
           9,
           10,
           8,
           9,
           10,
           8,
           9,
           10,
           8,
           11,
           9,
           10,
           8,
           9,
           10,
           8,
           9,
           10
          ],
          "value": [
           163842659000.0,
           608796006.0,
           8742122.0,
           22513789800.0,
           106454795000.0,
           38095981200.0,
           10150638400.0,
           2908529060.0,
           516606457.0,
           15776503500.0,
           1738190550.0,
           246781984.0,
           18028941700.0,
           1392743120.0,
           81305224.8,
           6372152360.0,
           6010302630.0,
           369802473.0,
           24289894.5,
           7211363380.0,
           2066794580.0,
           1097962300.0,
           71888825.7,
           32380465400.0,
           1833595370.0
          ]
         },
         "node": {
          "color": [
           "#58805b",
           "#98c7a0",
           "#f36e3a",
           "#fba644",
           "#ad5849",
           "#d2c795",
           "#736a62",
           "#b0a08c",
           "#3d6493",
           "#95ceeb",
           "#308bbc",
           "#86aad1"
          ],
          "label": [
           "Land",
           "Farm",
           "Processing",
           "Transport",
           "Packaging",
           "Retail",
           "Consumer",
           "Waste",
           "Carbon dioxide",
           "Methane",
           "Nitrous oxide",
           "F-gases"
          ],
          "line": {
           "color": "black",
           "width": 0.5
          },
          "pad": 20,
          "thickness": 20
         },
         "type": "sankey"
        }
       ],
       "layout": {
        "font": {
         "size": 14
        },
        "height": 580,
        "template": {
         "data": {
          "bar": [
           {
            "error_x": {
             "color": "rgb(36,36,36)"
            },
            "error_y": {
             "color": "rgb(36,36,36)"
            },
            "marker": {
             "line": {
              "color": "rgb(234,234,242)",
              "width": 0.5
             },
             "pattern": {
              "fillmode": "overlay",
              "size": 10,
              "solidity": 0.2
             }
            },
            "type": "bar"
           }
          ],
          "barpolar": [
           {
            "marker": {
             "line": {
              "color": "rgb(234,234,242)",
              "width": 0.5
             },
             "pattern": {
              "fillmode": "overlay",
              "size": 10,
              "solidity": 0.2
             }
            },
            "type": "barpolar"
           }
          ],
          "carpet": [
           {
            "aaxis": {
             "endlinecolor": "rgb(36,36,36)",
             "gridcolor": "white",
             "linecolor": "white",
             "minorgridcolor": "white",
             "startlinecolor": "rgb(36,36,36)"
            },
            "baxis": {
             "endlinecolor": "rgb(36,36,36)",
             "gridcolor": "white",
             "linecolor": "white",
             "minorgridcolor": "white",
             "startlinecolor": "rgb(36,36,36)"
            },
            "type": "carpet"
           }
          ],
          "choropleth": [
           {
            "colorbar": {
             "outlinewidth": 0,
             "tickcolor": "rgb(36,36,36)",
             "ticklen": 8,
             "ticks": "outside",
             "tickwidth": 2
            },
            "type": "choropleth"
           }
          ],
          "contour": [
           {
            "colorbar": {
             "outlinewidth": 0,
             "tickcolor": "rgb(36,36,36)",
             "ticklen": 8,
             "ticks": "outside",
             "tickwidth": 2
            },
            "colorscale": [
             [
              0.0,
              "rgb(2,4,25)"
             ],
             [
              0.06274509803921569,
              "rgb(24,15,41)"
             ],
             [
              0.12549019607843137,
              "rgb(47,23,57)"
             ],
             [
              0.18823529411764706,
              "rgb(71,28,72)"
             ],
             [
              0.25098039215686274,
              "rgb(97,30,82)"
             ],
             [
              0.3137254901960784,
              "rgb(123,30,89)"
             ],
             [
              0.3764705882352941,
              "rgb(150,27,91)"
             ],
             [
              0.4392156862745098,
              "rgb(177,22,88)"
             ],
             [
              0.5019607843137255,
              "rgb(203,26,79)"
             ],
             [
              0.5647058823529412,
              "rgb(223,47,67)"
             ],
             [
              0.6274509803921569,
              "rgb(236,76,61)"
             ],
             [
              0.6901960784313725,
              "rgb(242,107,73)"
             ],
             [
              0.7529411764705882,
              "rgb(244,135,95)"
             ],
             [
              0.8156862745098039,
              "rgb(245,162,122)"
             ],
             [
              0.8784313725490196,
              "rgb(246,188,153)"
             ],
             [
              0.9411764705882353,
              "rgb(247,212,187)"
             ],
             [
              1.0,
              "rgb(250,234,220)"
             ]
            ],
            "type": "contour"
           }
          ],
          "contourcarpet": [
           {
            "colorbar": {
             "outlinewidth": 0,
             "tickcolor": "rgb(36,36,36)",
             "ticklen": 8,
             "ticks": "outside",
             "tickwidth": 2
            },
            "type": "contourcarpet"
           }
          ],
          "heatmap": [
           {
            "colorbar": {
             "outlinewidth": 0,
             "tickcolor": "rgb(36,36,36)",
             "ticklen": 8,
             "ticks": "outside",
             "tickwidth": 2
            },
            "colorscale": [
             [
              0.0,
              "rgb(2,4,25)"
             ],
             [
              0.06274509803921569,
              "rgb(24,15,41)"
             ],
             [
              0.12549019607843137,
              "rgb(47,23,57)"
             ],
             [
              0.18823529411764706,
              "rgb(71,28,72)"
             ],
             [
              0.25098039215686274,
              "rgb(97,30,82)"
             ],
             [
              0.3137254901960784,
              "rgb(123,30,89)"
             ],
             [
              0.3764705882352941,
              "rgb(150,27,91)"
             ],
             [
              0.4392156862745098,
              "rgb(177,22,88)"
             ],
             [
              0.5019607843137255,
              "rgb(203,26,79)"
             ],
             [
              0.5647058823529412,
              "rgb(223,47,67)"
             ],
             [
              0.6274509803921569,
              "rgb(236,76,61)"
             ],
             [
              0.6901960784313725,
              "rgb(242,107,73)"
             ],
             [
              0.7529411764705882,
              "rgb(244,135,95)"
             ],
             [
              0.8156862745098039,
              "rgb(245,162,122)"
             ],
             [
              0.8784313725490196,
              "rgb(246,188,153)"
             ],
             [
              0.9411764705882353,
              "rgb(247,212,187)"
             ],
             [
              1.0,
              "rgb(250,234,220)"
             ]
            ],
            "type": "heatmap"
           }
          ],
          "heatmapgl": [
           {
            "colorbar": {
             "outlinewidth": 0,
             "tickcolor": "rgb(36,36,36)",
             "ticklen": 8,
             "ticks": "outside",
             "tickwidth": 2
            },
            "colorscale": [
             [
              0.0,
              "rgb(2,4,25)"
             ],
             [
              0.06274509803921569,
              "rgb(24,15,41)"
             ],
             [
              0.12549019607843137,
              "rgb(47,23,57)"
             ],
             [
              0.18823529411764706,
              "rgb(71,28,72)"
             ],
             [
              0.25098039215686274,
              "rgb(97,30,82)"
             ],
             [
              0.3137254901960784,
              "rgb(123,30,89)"
             ],
             [
              0.3764705882352941,
              "rgb(150,27,91)"
             ],
             [
              0.4392156862745098,
              "rgb(177,22,88)"
             ],
             [
              0.5019607843137255,
              "rgb(203,26,79)"
             ],
             [
              0.5647058823529412,
              "rgb(223,47,67)"
             ],
             [
              0.6274509803921569,
              "rgb(236,76,61)"
             ],
             [
              0.6901960784313725,
              "rgb(242,107,73)"
             ],
             [
              0.7529411764705882,
              "rgb(244,135,95)"
             ],
             [
              0.8156862745098039,
              "rgb(245,162,122)"
             ],
             [
              0.8784313725490196,
              "rgb(246,188,153)"
             ],
             [
              0.9411764705882353,
              "rgb(247,212,187)"
             ],
             [
              1.0,
              "rgb(250,234,220)"
             ]
            ],
            "type": "heatmapgl"
           }
          ],
          "histogram": [
           {
            "marker": {
             "pattern": {
              "fillmode": "overlay",
              "size": 10,
              "solidity": 0.2
             }
            },
            "type": "histogram"
           }
          ],
          "histogram2d": [
           {
            "colorbar": {
             "outlinewidth": 0,
             "tickcolor": "rgb(36,36,36)",
             "ticklen": 8,
             "ticks": "outside",
             "tickwidth": 2
            },
            "colorscale": [
             [
              0.0,
              "rgb(2,4,25)"
             ],
             [
              0.06274509803921569,
              "rgb(24,15,41)"
             ],
             [
              0.12549019607843137,
              "rgb(47,23,57)"
             ],
             [
              0.18823529411764706,
              "rgb(71,28,72)"
             ],
             [
              0.25098039215686274,
              "rgb(97,30,82)"
             ],
             [
              0.3137254901960784,
              "rgb(123,30,89)"
             ],
             [
              0.3764705882352941,
              "rgb(150,27,91)"
             ],
             [
              0.4392156862745098,
              "rgb(177,22,88)"
             ],
             [
              0.5019607843137255,
              "rgb(203,26,79)"
             ],
             [
              0.5647058823529412,
              "rgb(223,47,67)"
             ],
             [
              0.6274509803921569,
              "rgb(236,76,61)"
             ],
             [
              0.6901960784313725,
              "rgb(242,107,73)"
             ],
             [
              0.7529411764705882,
              "rgb(244,135,95)"
             ],
             [
              0.8156862745098039,
              "rgb(245,162,122)"
             ],
             [
              0.8784313725490196,
              "rgb(246,188,153)"
             ],
             [
              0.9411764705882353,
              "rgb(247,212,187)"
             ],
             [
              1.0,
              "rgb(250,234,220)"
             ]
            ],
            "type": "histogram2d"
           }
          ],
          "histogram2dcontour": [
           {
            "colorbar": {
             "outlinewidth": 0,
             "tickcolor": "rgb(36,36,36)",
             "ticklen": 8,
             "ticks": "outside",
             "tickwidth": 2
            },
            "colorscale": [
             [
              0.0,
              "rgb(2,4,25)"
             ],
             [
              0.06274509803921569,
              "rgb(24,15,41)"
             ],
             [
              0.12549019607843137,
              "rgb(47,23,57)"
             ],
             [
              0.18823529411764706,
              "rgb(71,28,72)"
             ],
             [
              0.25098039215686274,
              "rgb(97,30,82)"
             ],
             [
              0.3137254901960784,
              "rgb(123,30,89)"
             ],
             [
              0.3764705882352941,
              "rgb(150,27,91)"
             ],
             [
              0.4392156862745098,
              "rgb(177,22,88)"
             ],
             [
              0.5019607843137255,
              "rgb(203,26,79)"
             ],
             [
              0.5647058823529412,
              "rgb(223,47,67)"
             ],
             [
              0.6274509803921569,
              "rgb(236,76,61)"
             ],
             [
              0.6901960784313725,
              "rgb(242,107,73)"
             ],
             [
              0.7529411764705882,
              "rgb(244,135,95)"
             ],
             [
              0.8156862745098039,
              "rgb(245,162,122)"
             ],
             [
              0.8784313725490196,
              "rgb(246,188,153)"
             ],
             [
              0.9411764705882353,
              "rgb(247,212,187)"
             ],
             [
              1.0,
              "rgb(250,234,220)"
             ]
            ],
            "type": "histogram2dcontour"
           }
          ],
          "mesh3d": [
           {
            "colorbar": {
             "outlinewidth": 0,
             "tickcolor": "rgb(36,36,36)",
             "ticklen": 8,
             "ticks": "outside",
             "tickwidth": 2
            },
            "type": "mesh3d"
           }
          ],
          "parcoords": [
           {
            "line": {
             "colorbar": {
              "outlinewidth": 0,
              "tickcolor": "rgb(36,36,36)",
              "ticklen": 8,
              "ticks": "outside",
              "tickwidth": 2
             }
            },
            "type": "parcoords"
           }
          ],
          "pie": [
           {
            "automargin": true,
            "type": "pie"
           }
          ],
          "scatter": [
           {
            "marker": {
             "colorbar": {
              "outlinewidth": 0,
              "tickcolor": "rgb(36,36,36)",
              "ticklen": 8,
              "ticks": "outside",
              "tickwidth": 2
             }
            },
            "type": "scatter"
           }
          ],
          "scatter3d": [
           {
            "line": {
             "colorbar": {
              "outlinewidth": 0,
              "tickcolor": "rgb(36,36,36)",
              "ticklen": 8,
              "ticks": "outside",
              "tickwidth": 2
             }
            },
            "marker": {
             "colorbar": {
              "outlinewidth": 0,
              "tickcolor": "rgb(36,36,36)",
              "ticklen": 8,
              "ticks": "outside",
              "tickwidth": 2
             }
            },
            "type": "scatter3d"
           }
          ],
          "scattercarpet": [
           {
            "marker": {
             "colorbar": {
              "outlinewidth": 0,
              "tickcolor": "rgb(36,36,36)",
              "ticklen": 8,
              "ticks": "outside",
              "tickwidth": 2
             }
            },
            "type": "scattercarpet"
           }
          ],
          "scattergeo": [
           {
            "marker": {
             "colorbar": {
              "outlinewidth": 0,
              "tickcolor": "rgb(36,36,36)",
              "ticklen": 8,
              "ticks": "outside",
              "tickwidth": 2
             }
            },
            "type": "scattergeo"
           }
          ],
          "scattergl": [
           {
            "marker": {
             "colorbar": {
              "outlinewidth": 0,
              "tickcolor": "rgb(36,36,36)",
              "ticklen": 8,
              "ticks": "outside",
              "tickwidth": 2
             }
            },
            "type": "scattergl"
           }
          ],
          "scattermapbox": [
           {
            "marker": {
             "colorbar": {
              "outlinewidth": 0,
              "tickcolor": "rgb(36,36,36)",
              "ticklen": 8,
              "ticks": "outside",
              "tickwidth": 2
             }
            },
            "type": "scattermapbox"
           }
          ],
          "scatterpolar": [
           {
            "marker": {
             "colorbar": {
              "outlinewidth": 0,
              "tickcolor": "rgb(36,36,36)",
              "ticklen": 8,
              "ticks": "outside",
              "tickwidth": 2
             }
            },
            "type": "scatterpolar"
           }
          ],
          "scatterpolargl": [
           {
            "marker": {
             "colorbar": {
              "outlinewidth": 0,
              "tickcolor": "rgb(36,36,36)",
              "ticklen": 8,
              "ticks": "outside",
              "tickwidth": 2
             }
            },
            "type": "scatterpolargl"
           }
          ],
          "scatterternary": [
           {
            "marker": {
             "colorbar": {
              "outlinewidth": 0,
              "tickcolor": "rgb(36,36,36)",
              "ticklen": 8,
              "ticks": "outside",
              "tickwidth": 2
             }
            },
            "type": "scatterternary"
           }
          ],
          "surface": [
           {
            "colorbar": {
             "outlinewidth": 0,
             "tickcolor": "rgb(36,36,36)",
             "ticklen": 8,
             "ticks": "outside",
             "tickwidth": 2
            },
            "colorscale": [
             [
              0.0,
              "rgb(2,4,25)"
             ],
             [
              0.06274509803921569,
              "rgb(24,15,41)"
             ],
             [
              0.12549019607843137,
              "rgb(47,23,57)"
             ],
             [
              0.18823529411764706,
              "rgb(71,28,72)"
             ],
             [
              0.25098039215686274,
              "rgb(97,30,82)"
             ],
             [
              0.3137254901960784,
              "rgb(123,30,89)"
             ],
             [
              0.3764705882352941,
              "rgb(150,27,91)"
             ],
             [
              0.4392156862745098,
              "rgb(177,22,88)"
             ],
             [
              0.5019607843137255,
              "rgb(203,26,79)"
             ],
             [
              0.5647058823529412,
              "rgb(223,47,67)"
             ],
             [
              0.6274509803921569,
              "rgb(236,76,61)"
             ],
             [
              0.6901960784313725,
              "rgb(242,107,73)"
             ],
             [
              0.7529411764705882,
              "rgb(244,135,95)"
             ],
             [
              0.8156862745098039,
              "rgb(245,162,122)"
             ],
             [
              0.8784313725490196,
              "rgb(246,188,153)"
             ],
             [
              0.9411764705882353,
              "rgb(247,212,187)"
             ],
             [
              1.0,
              "rgb(250,234,220)"
             ]
            ],
            "type": "surface"
           }
          ],
          "table": [
           {
            "cells": {
             "fill": {
              "color": "rgb(231,231,240)"
             },
             "line": {
              "color": "white"
             }
            },
            "header": {
             "fill": {
              "color": "rgb(183,183,191)"
             },
             "line": {
              "color": "white"
             }
            },
            "type": "table"
           }
          ]
         },
         "layout": {
          "annotationdefaults": {
           "arrowcolor": "rgb(67,103,167)"
          },
          "autotypenumbers": "strict",
          "coloraxis": {
           "colorbar": {
            "outlinewidth": 0,
            "tickcolor": "rgb(36,36,36)",
            "ticklen": 8,
            "ticks": "outside",
            "tickwidth": 2
           }
          },
          "colorscale": {
           "sequential": [
            [
             0.0,
             "rgb(2,4,25)"
            ],
            [
             0.06274509803921569,
             "rgb(24,15,41)"
            ],
            [
             0.12549019607843137,
             "rgb(47,23,57)"
            ],
            [
             0.18823529411764706,
             "rgb(71,28,72)"
            ],
            [
             0.25098039215686274,
             "rgb(97,30,82)"
            ],
            [
             0.3137254901960784,
             "rgb(123,30,89)"
            ],
            [
             0.3764705882352941,
             "rgb(150,27,91)"
            ],
            [
             0.4392156862745098,
             "rgb(177,22,88)"
            ],
            [
             0.5019607843137255,
             "rgb(203,26,79)"
            ],
            [
             0.5647058823529412,
             "rgb(223,47,67)"
            ],
            [
             0.6274509803921569,
             "rgb(236,76,61)"
            ],
            [
             0.6901960784313725,
             "rgb(242,107,73)"
            ],
            [
             0.7529411764705882,
             "rgb(244,135,95)"
            ],
            [
             0.8156862745098039,
             "rgb(245,162,122)"
            ],
            [
             0.8784313725490196,
             "rgb(246,188,153)"
            ],
            [
             0.9411764705882353,
             "rgb(247,212,187)"
            ],
            [
             1.0,
             "rgb(250,234,220)"
            ]
           ],
           "sequentialminus": [
            [
             0.0,
             "rgb(2,4,25)"
            ],
            [
             0.06274509803921569,
             "rgb(24,15,41)"
            ],
            [
             0.12549019607843137,
             "rgb(47,23,57)"
            ],
            [
             0.18823529411764706,
             "rgb(71,28,72)"
            ],
            [
             0.25098039215686274,
             "rgb(97,30,82)"
            ],
            [
             0.3137254901960784,
             "rgb(123,30,89)"
            ],
            [
             0.3764705882352941,
             "rgb(150,27,91)"
            ],
            [
             0.4392156862745098,
             "rgb(177,22,88)"
            ],
            [
             0.5019607843137255,
             "rgb(203,26,79)"
            ],
            [
             0.5647058823529412,
             "rgb(223,47,67)"
            ],
            [
             0.6274509803921569,
             "rgb(236,76,61)"
            ],
            [
             0.6901960784313725,
             "rgb(242,107,73)"
            ],
            [
             0.7529411764705882,
             "rgb(244,135,95)"
            ],
            [
             0.8156862745098039,
             "rgb(245,162,122)"
            ],
            [
             0.8784313725490196,
             "rgb(246,188,153)"
            ],
            [
             0.9411764705882353,
             "rgb(247,212,187)"
            ],
            [
             1.0,
             "rgb(250,234,220)"
            ]
           ]
          },
          "colorway": [
           "rgb(76,114,176)",
           "rgb(221,132,82)",
           "rgb(85,168,104)",
           "rgb(196,78,82)",
           "rgb(129,114,179)",
           "rgb(147,120,96)",
           "rgb(218,139,195)",
           "rgb(140,140,140)",
           "rgb(204,185,116)",
           "rgb(100,181,205)"
          ],
          "font": {
           "color": "rgb(36,36,36)"
          },
          "geo": {
           "bgcolor": "white",
           "lakecolor": "white",
           "landcolor": "rgb(234,234,242)",
           "showlakes": true,
           "showland": true,
           "subunitcolor": "white"
          },
          "hoverlabel": {
           "align": "left"
          },
          "hovermode": "closest",
          "paper_bgcolor": "white",
          "plot_bgcolor": "rgb(234,234,242)",
          "polar": {
           "angularaxis": {
            "gridcolor": "white",
            "linecolor": "white",
            "showgrid": true,
            "ticks": ""
           },
           "bgcolor": "rgb(234,234,242)",
           "radialaxis": {
            "gridcolor": "white",
            "linecolor": "white",
            "showgrid": true,
            "ticks": ""
           }
          },
          "scene": {
           "xaxis": {
            "backgroundcolor": "rgb(234,234,242)",
            "gridcolor": "white",
            "gridwidth": 2,
            "linecolor": "white",
            "showbackground": true,
            "showgrid": true,
            "ticks": "",
            "zerolinecolor": "white"
           },
           "yaxis": {
            "backgroundcolor": "rgb(234,234,242)",
            "gridcolor": "white",
            "gridwidth": 2,
            "linecolor": "white",
            "showbackground": true,
            "showgrid": true,
            "ticks": "",
            "zerolinecolor": "white"
           },
           "zaxis": {
            "backgroundcolor": "rgb(234,234,242)",
            "gridcolor": "white",
            "gridwidth": 2,
            "linecolor": "white",
            "showbackground": true,
            "showgrid": true,
            "ticks": "",
            "zerolinecolor": "white"
           }
          },
          "shapedefaults": {
           "fillcolor": "rgb(67,103,167)",
           "line": {
            "width": 0
           },
           "opacity": 0.5
          },
          "ternary": {
           "aaxis": {
            "gridcolor": "white",
            "linecolor": "white",
            "showgrid": true,
            "ticks": ""
           },
           "baxis": {
            "gridcolor": "white",
            "linecolor": "white",
            "showgrid": true,
            "ticks": ""
           },
           "bgcolor": "rgb(234,234,242)",
           "caxis": {
            "gridcolor": "white",
            "linecolor": "white",
            "showgrid": true,
            "ticks": ""
           }
          },
          "xaxis": {
           "automargin": true,
           "gridcolor": "white",
           "linecolor": "white",
           "showgrid": true,
           "ticks": "",
           "title": {
            "standoff": 15
           },
           "zerolinecolor": "white"
          },
          "yaxis": {
           "automargin": true,
           "gridcolor": "white",
           "linecolor": "white",
           "showgrid": true,
           "ticks": "",
           "title": {
            "standoff": 15
           },
           "zerolinecolor": "white"
          }
         }
        },
        "title": {
         "text": "Stages to GHGs: Food System Emissions, 1990-2015"
        }
       }
      },
      "text/html": [
       "<div>                            <div id=\"ae19d595-5636-47d9-abbf-ba954ae4a9dd\" class=\"plotly-graph-div\" style=\"height:580px; width:100%;\"></div>            <script type=\"text/javascript\">                require([\"plotly\"], function(Plotly) {                    window.PLOTLYENV=window.PLOTLYENV || {};                                    if (document.getElementById(\"ae19d595-5636-47d9-abbf-ba954ae4a9dd\")) {                    Plotly.newPlot(                        \"ae19d595-5636-47d9-abbf-ba954ae4a9dd\",                        [{\"arrangement\":\"snap\",\"link\":{\"source\":[0,0,0,1,1,1,2,2,2,3,3,3,4,4,4,5,5,5,5,6,6,6,7,7,7,7],\"target\":[8,9,10,8,9,10,8,9,10,8,9,10,8,9,10,8,11,9,10,8,9,10,8,9,10],\"value\":[163842659000.0,608796006.0,8742122.0,22513789800.0,106454795000.0,38095981200.0,10150638400.0,2908529060.0,516606457.0,15776503500.0,1738190550.0,246781984.0,18028941700.0,1392743120.0,81305224.8,6372152360.0,6010302630.0,369802473.0,24289894.5,7211363380.0,2066794580.0,1097962300.0,71888825.7,32380465400.0,1833595370.0]},\"node\":{\"color\":[\"#58805b\",\"#98c7a0\",\"#f36e3a\",\"#fba644\",\"#ad5849\",\"#d2c795\",\"#736a62\",\"#b0a08c\",\"#3d6493\",\"#95ceeb\",\"#308bbc\",\"#86aad1\"],\"label\":[\"Land\",\"Farm\",\"Processing\",\"Transport\",\"Packaging\",\"Retail\",\"Consumer\",\"Waste\",\"Carbon dioxide\",\"Methane\",\"Nitrous oxide\",\"F-gases\"],\"line\":{\"color\":\"black\",\"width\":0.5},\"pad\":20,\"thickness\":20},\"type\":\"sankey\"}],                        {\"font\":{\"size\":14},\"height\":580,\"template\":{\"data\":{\"bar\":[{\"error_x\":{\"color\":\"rgb(36,36,36)\"},\"error_y\":{\"color\":\"rgb(36,36,36)\"},\"marker\":{\"line\":{\"color\":\"rgb(234,234,242)\",\"width\":0.5},\"pattern\":{\"fillmode\":\"overlay\",\"size\":10,\"solidity\":0.2}},\"type\":\"bar\"}],\"barpolar\":[{\"marker\":{\"line\":{\"color\":\"rgb(234,234,242)\",\"width\":0.5},\"pattern\":{\"fillmode\":\"overlay\",\"size\":10,\"solidity\":0.2}},\"type\":\"barpolar\"}],\"carpet\":[{\"aaxis\":{\"endlinecolor\":\"rgb(36,36,36)\",\"gridcolor\":\"white\",\"linecolor\":\"white\",\"minorgridcolor\":\"white\",\"startlinecolor\":\"rgb(36,36,36)\"},\"baxis\":{\"endlinecolor\":\"rgb(36,36,36)\",\"gridcolor\":\"white\",\"linecolor\":\"white\",\"minorgridcolor\":\"white\",\"startlinecolor\":\"rgb(36,36,36)\"},\"type\":\"carpet\"}],\"choropleth\":[{\"colorbar\":{\"outlinewidth\":0,\"tickcolor\":\"rgb(36,36,36)\",\"ticklen\":8,\"ticks\":\"outside\",\"tickwidth\":2},\"type\":\"choropleth\"}],\"contour\":[{\"colorbar\":{\"outlinewidth\":0,\"tickcolor\":\"rgb(36,36,36)\",\"ticklen\":8,\"ticks\":\"outside\",\"tickwidth\":2},\"colorscale\":[[0.0,\"rgb(2,4,25)\"],[0.06274509803921569,\"rgb(24,15,41)\"],[0.12549019607843137,\"rgb(47,23,57)\"],[0.18823529411764706,\"rgb(71,28,72)\"],[0.25098039215686274,\"rgb(97,30,82)\"],[0.3137254901960784,\"rgb(123,30,89)\"],[0.3764705882352941,\"rgb(150,27,91)\"],[0.4392156862745098,\"rgb(177,22,88)\"],[0.5019607843137255,\"rgb(203,26,79)\"],[0.5647058823529412,\"rgb(223,47,67)\"],[0.6274509803921569,\"rgb(236,76,61)\"],[0.6901960784313725,\"rgb(242,107,73)\"],[0.7529411764705882,\"rgb(244,135,95)\"],[0.8156862745098039,\"rgb(245,162,122)\"],[0.8784313725490196,\"rgb(246,188,153)\"],[0.9411764705882353,\"rgb(247,212,187)\"],[1.0,\"rgb(250,234,220)\"]],\"type\":\"contour\"}],\"contourcarpet\":[{\"colorbar\":{\"outlinewidth\":0,\"tickcolor\":\"rgb(36,36,36)\",\"ticklen\":8,\"ticks\":\"outside\",\"tickwidth\":2},\"type\":\"contourcarpet\"}],\"heatmap\":[{\"colorbar\":{\"outlinewidth\":0,\"tickcolor\":\"rgb(36,36,36)\",\"ticklen\":8,\"ticks\":\"outside\",\"tickwidth\":2},\"colorscale\":[[0.0,\"rgb(2,4,25)\"],[0.06274509803921569,\"rgb(24,15,41)\"],[0.12549019607843137,\"rgb(47,23,57)\"],[0.18823529411764706,\"rgb(71,28,72)\"],[0.25098039215686274,\"rgb(97,30,82)\"],[0.3137254901960784,\"rgb(123,30,89)\"],[0.3764705882352941,\"rgb(150,27,91)\"],[0.4392156862745098,\"rgb(177,22,88)\"],[0.5019607843137255,\"rgb(203,26,79)\"],[0.5647058823529412,\"rgb(223,47,67)\"],[0.6274509803921569,\"rgb(236,76,61)\"],[0.6901960784313725,\"rgb(242,107,73)\"],[0.7529411764705882,\"rgb(244,135,95)\"],[0.8156862745098039,\"rgb(245,162,122)\"],[0.8784313725490196,\"rgb(246,188,153)\"],[0.9411764705882353,\"rgb(247,212,187)\"],[1.0,\"rgb(250,234,220)\"]],\"type\":\"heatmap\"}],\"heatmapgl\":[{\"colorbar\":{\"outlinewidth\":0,\"tickcolor\":\"rgb(36,36,36)\",\"ticklen\":8,\"ticks\":\"outside\",\"tickwidth\":2},\"colorscale\":[[0.0,\"rgb(2,4,25)\"],[0.06274509803921569,\"rgb(24,15,41)\"],[0.12549019607843137,\"rgb(47,23,57)\"],[0.18823529411764706,\"rgb(71,28,72)\"],[0.25098039215686274,\"rgb(97,30,82)\"],[0.3137254901960784,\"rgb(123,30,89)\"],[0.3764705882352941,\"rgb(150,27,91)\"],[0.4392156862745098,\"rgb(177,22,88)\"],[0.5019607843137255,\"rgb(203,26,79)\"],[0.5647058823529412,\"rgb(223,47,67)\"],[0.6274509803921569,\"rgb(236,76,61)\"],[0.6901960784313725,\"rgb(242,107,73)\"],[0.7529411764705882,\"rgb(244,135,95)\"],[0.8156862745098039,\"rgb(245,162,122)\"],[0.8784313725490196,\"rgb(246,188,153)\"],[0.9411764705882353,\"rgb(247,212,187)\"],[1.0,\"rgb(250,234,220)\"]],\"type\":\"heatmapgl\"}],\"histogram\":[{\"marker\":{\"pattern\":{\"fillmode\":\"overlay\",\"size\":10,\"solidity\":0.2}},\"type\":\"histogram\"}],\"histogram2d\":[{\"colorbar\":{\"outlinewidth\":0,\"tickcolor\":\"rgb(36,36,36)\",\"ticklen\":8,\"ticks\":\"outside\",\"tickwidth\":2},\"colorscale\":[[0.0,\"rgb(2,4,25)\"],[0.06274509803921569,\"rgb(24,15,41)\"],[0.12549019607843137,\"rgb(47,23,57)\"],[0.18823529411764706,\"rgb(71,28,72)\"],[0.25098039215686274,\"rgb(97,30,82)\"],[0.3137254901960784,\"rgb(123,30,89)\"],[0.3764705882352941,\"rgb(150,27,91)\"],[0.4392156862745098,\"rgb(177,22,88)\"],[0.5019607843137255,\"rgb(203,26,79)\"],[0.5647058823529412,\"rgb(223,47,67)\"],[0.6274509803921569,\"rgb(236,76,61)\"],[0.6901960784313725,\"rgb(242,107,73)\"],[0.7529411764705882,\"rgb(244,135,95)\"],[0.8156862745098039,\"rgb(245,162,122)\"],[0.8784313725490196,\"rgb(246,188,153)\"],[0.9411764705882353,\"rgb(247,212,187)\"],[1.0,\"rgb(250,234,220)\"]],\"type\":\"histogram2d\"}],\"histogram2dcontour\":[{\"colorbar\":{\"outlinewidth\":0,\"tickcolor\":\"rgb(36,36,36)\",\"ticklen\":8,\"ticks\":\"outside\",\"tickwidth\":2},\"colorscale\":[[0.0,\"rgb(2,4,25)\"],[0.06274509803921569,\"rgb(24,15,41)\"],[0.12549019607843137,\"rgb(47,23,57)\"],[0.18823529411764706,\"rgb(71,28,72)\"],[0.25098039215686274,\"rgb(97,30,82)\"],[0.3137254901960784,\"rgb(123,30,89)\"],[0.3764705882352941,\"rgb(150,27,91)\"],[0.4392156862745098,\"rgb(177,22,88)\"],[0.5019607843137255,\"rgb(203,26,79)\"],[0.5647058823529412,\"rgb(223,47,67)\"],[0.6274509803921569,\"rgb(236,76,61)\"],[0.6901960784313725,\"rgb(242,107,73)\"],[0.7529411764705882,\"rgb(244,135,95)\"],[0.8156862745098039,\"rgb(245,162,122)\"],[0.8784313725490196,\"rgb(246,188,153)\"],[0.9411764705882353,\"rgb(247,212,187)\"],[1.0,\"rgb(250,234,220)\"]],\"type\":\"histogram2dcontour\"}],\"mesh3d\":[{\"colorbar\":{\"outlinewidth\":0,\"tickcolor\":\"rgb(36,36,36)\",\"ticklen\":8,\"ticks\":\"outside\",\"tickwidth\":2},\"type\":\"mesh3d\"}],\"parcoords\":[{\"line\":{\"colorbar\":{\"outlinewidth\":0,\"tickcolor\":\"rgb(36,36,36)\",\"ticklen\":8,\"ticks\":\"outside\",\"tickwidth\":2}},\"type\":\"parcoords\"}],\"pie\":[{\"automargin\":true,\"type\":\"pie\"}],\"scatter\":[{\"marker\":{\"colorbar\":{\"outlinewidth\":0,\"tickcolor\":\"rgb(36,36,36)\",\"ticklen\":8,\"ticks\":\"outside\",\"tickwidth\":2}},\"type\":\"scatter\"}],\"scatter3d\":[{\"line\":{\"colorbar\":{\"outlinewidth\":0,\"tickcolor\":\"rgb(36,36,36)\",\"ticklen\":8,\"ticks\":\"outside\",\"tickwidth\":2}},\"marker\":{\"colorbar\":{\"outlinewidth\":0,\"tickcolor\":\"rgb(36,36,36)\",\"ticklen\":8,\"ticks\":\"outside\",\"tickwidth\":2}},\"type\":\"scatter3d\"}],\"scattercarpet\":[{\"marker\":{\"colorbar\":{\"outlinewidth\":0,\"tickcolor\":\"rgb(36,36,36)\",\"ticklen\":8,\"ticks\":\"outside\",\"tickwidth\":2}},\"type\":\"scattercarpet\"}],\"scattergeo\":[{\"marker\":{\"colorbar\":{\"outlinewidth\":0,\"tickcolor\":\"rgb(36,36,36)\",\"ticklen\":8,\"ticks\":\"outside\",\"tickwidth\":2}},\"type\":\"scattergeo\"}],\"scattergl\":[{\"marker\":{\"colorbar\":{\"outlinewidth\":0,\"tickcolor\":\"rgb(36,36,36)\",\"ticklen\":8,\"ticks\":\"outside\",\"tickwidth\":2}},\"type\":\"scattergl\"}],\"scattermapbox\":[{\"marker\":{\"colorbar\":{\"outlinewidth\":0,\"tickcolor\":\"rgb(36,36,36)\",\"ticklen\":8,\"ticks\":\"outside\",\"tickwidth\":2}},\"type\":\"scattermapbox\"}],\"scatterpolar\":[{\"marker\":{\"colorbar\":{\"outlinewidth\":0,\"tickcolor\":\"rgb(36,36,36)\",\"ticklen\":8,\"ticks\":\"outside\",\"tickwidth\":2}},\"type\":\"scatterpolar\"}],\"scatterpolargl\":[{\"marker\":{\"colorbar\":{\"outlinewidth\":0,\"tickcolor\":\"rgb(36,36,36)\",\"ticklen\":8,\"ticks\":\"outside\",\"tickwidth\":2}},\"type\":\"scatterpolargl\"}],\"scatterternary\":[{\"marker\":{\"colorbar\":{\"outlinewidth\":0,\"tickcolor\":\"rgb(36,36,36)\",\"ticklen\":8,\"ticks\":\"outside\",\"tickwidth\":2}},\"type\":\"scatterternary\"}],\"surface\":[{\"colorbar\":{\"outlinewidth\":0,\"tickcolor\":\"rgb(36,36,36)\",\"ticklen\":8,\"ticks\":\"outside\",\"tickwidth\":2},\"colorscale\":[[0.0,\"rgb(2,4,25)\"],[0.06274509803921569,\"rgb(24,15,41)\"],[0.12549019607843137,\"rgb(47,23,57)\"],[0.18823529411764706,\"rgb(71,28,72)\"],[0.25098039215686274,\"rgb(97,30,82)\"],[0.3137254901960784,\"rgb(123,30,89)\"],[0.3764705882352941,\"rgb(150,27,91)\"],[0.4392156862745098,\"rgb(177,22,88)\"],[0.5019607843137255,\"rgb(203,26,79)\"],[0.5647058823529412,\"rgb(223,47,67)\"],[0.6274509803921569,\"rgb(236,76,61)\"],[0.6901960784313725,\"rgb(242,107,73)\"],[0.7529411764705882,\"rgb(244,135,95)\"],[0.8156862745098039,\"rgb(245,162,122)\"],[0.8784313725490196,\"rgb(246,188,153)\"],[0.9411764705882353,\"rgb(247,212,187)\"],[1.0,\"rgb(250,234,220)\"]],\"type\":\"surface\"}],\"table\":[{\"cells\":{\"fill\":{\"color\":\"rgb(231,231,240)\"},\"line\":{\"color\":\"white\"}},\"header\":{\"fill\":{\"color\":\"rgb(183,183,191)\"},\"line\":{\"color\":\"white\"}},\"type\":\"table\"}]},\"layout\":{\"annotationdefaults\":{\"arrowcolor\":\"rgb(67,103,167)\"},\"autotypenumbers\":\"strict\",\"coloraxis\":{\"colorbar\":{\"outlinewidth\":0,\"tickcolor\":\"rgb(36,36,36)\",\"ticklen\":8,\"ticks\":\"outside\",\"tickwidth\":2}},\"colorscale\":{\"sequential\":[[0.0,\"rgb(2,4,25)\"],[0.06274509803921569,\"rgb(24,15,41)\"],[0.12549019607843137,\"rgb(47,23,57)\"],[0.18823529411764706,\"rgb(71,28,72)\"],[0.25098039215686274,\"rgb(97,30,82)\"],[0.3137254901960784,\"rgb(123,30,89)\"],[0.3764705882352941,\"rgb(150,27,91)\"],[0.4392156862745098,\"rgb(177,22,88)\"],[0.5019607843137255,\"rgb(203,26,79)\"],[0.5647058823529412,\"rgb(223,47,67)\"],[0.6274509803921569,\"rgb(236,76,61)\"],[0.6901960784313725,\"rgb(242,107,73)\"],[0.7529411764705882,\"rgb(244,135,95)\"],[0.8156862745098039,\"rgb(245,162,122)\"],[0.8784313725490196,\"rgb(246,188,153)\"],[0.9411764705882353,\"rgb(247,212,187)\"],[1.0,\"rgb(250,234,220)\"]],\"sequentialminus\":[[0.0,\"rgb(2,4,25)\"],[0.06274509803921569,\"rgb(24,15,41)\"],[0.12549019607843137,\"rgb(47,23,57)\"],[0.18823529411764706,\"rgb(71,28,72)\"],[0.25098039215686274,\"rgb(97,30,82)\"],[0.3137254901960784,\"rgb(123,30,89)\"],[0.3764705882352941,\"rgb(150,27,91)\"],[0.4392156862745098,\"rgb(177,22,88)\"],[0.5019607843137255,\"rgb(203,26,79)\"],[0.5647058823529412,\"rgb(223,47,67)\"],[0.6274509803921569,\"rgb(236,76,61)\"],[0.6901960784313725,\"rgb(242,107,73)\"],[0.7529411764705882,\"rgb(244,135,95)\"],[0.8156862745098039,\"rgb(245,162,122)\"],[0.8784313725490196,\"rgb(246,188,153)\"],[0.9411764705882353,\"rgb(247,212,187)\"],[1.0,\"rgb(250,234,220)\"]]},\"colorway\":[\"rgb(76,114,176)\",\"rgb(221,132,82)\",\"rgb(85,168,104)\",\"rgb(196,78,82)\",\"rgb(129,114,179)\",\"rgb(147,120,96)\",\"rgb(218,139,195)\",\"rgb(140,140,140)\",\"rgb(204,185,116)\",\"rgb(100,181,205)\"],\"font\":{\"color\":\"rgb(36,36,36)\"},\"geo\":{\"bgcolor\":\"white\",\"lakecolor\":\"white\",\"landcolor\":\"rgb(234,234,242)\",\"showlakes\":true,\"showland\":true,\"subunitcolor\":\"white\"},\"hoverlabel\":{\"align\":\"left\"},\"hovermode\":\"closest\",\"paper_bgcolor\":\"white\",\"plot_bgcolor\":\"rgb(234,234,242)\",\"polar\":{\"angularaxis\":{\"gridcolor\":\"white\",\"linecolor\":\"white\",\"showgrid\":true,\"ticks\":\"\"},\"bgcolor\":\"rgb(234,234,242)\",\"radialaxis\":{\"gridcolor\":\"white\",\"linecolor\":\"white\",\"showgrid\":true,\"ticks\":\"\"}},\"scene\":{\"xaxis\":{\"backgroundcolor\":\"rgb(234,234,242)\",\"gridcolor\":\"white\",\"gridwidth\":2,\"linecolor\":\"white\",\"showbackground\":true,\"showgrid\":true,\"ticks\":\"\",\"zerolinecolor\":\"white\"},\"yaxis\":{\"backgroundcolor\":\"rgb(234,234,242)\",\"gridcolor\":\"white\",\"gridwidth\":2,\"linecolor\":\"white\",\"showbackground\":true,\"showgrid\":true,\"ticks\":\"\",\"zerolinecolor\":\"white\"},\"zaxis\":{\"backgroundcolor\":\"rgb(234,234,242)\",\"gridcolor\":\"white\",\"gridwidth\":2,\"linecolor\":\"white\",\"showbackground\":true,\"showgrid\":true,\"ticks\":\"\",\"zerolinecolor\":\"white\"}},\"shapedefaults\":{\"fillcolor\":\"rgb(67,103,167)\",\"line\":{\"width\":0},\"opacity\":0.5},\"ternary\":{\"aaxis\":{\"gridcolor\":\"white\",\"linecolor\":\"white\",\"showgrid\":true,\"ticks\":\"\"},\"baxis\":{\"gridcolor\":\"white\",\"linecolor\":\"white\",\"showgrid\":true,\"ticks\":\"\"},\"bgcolor\":\"rgb(234,234,242)\",\"caxis\":{\"gridcolor\":\"white\",\"linecolor\":\"white\",\"showgrid\":true,\"ticks\":\"\"}},\"xaxis\":{\"automargin\":true,\"gridcolor\":\"white\",\"linecolor\":\"white\",\"showgrid\":true,\"ticks\":\"\",\"title\":{\"standoff\":15},\"zerolinecolor\":\"white\"},\"yaxis\":{\"automargin\":true,\"gridcolor\":\"white\",\"linecolor\":\"white\",\"showgrid\":true,\"ticks\":\"\",\"title\":{\"standoff\":15},\"zerolinecolor\":\"white\"}}},\"title\":{\"text\":\"Stages to GHGs: Food System Emissions, 1990-2015\"}},                        {\"responsive\": true}                    ).then(function(){\n",
       "                            \n",
       "var gd = document.getElementById('ae19d595-5636-47d9-abbf-ba954ae4a9dd');\n",
       "var x = new MutationObserver(function (mutations, observer) {{\n",
       "        var display = window.getComputedStyle(gd).display;\n",
       "        if (!display || display === 'none') {{\n",
       "            console.log([gd, 'removed!']);\n",
       "            Plotly.purge(gd);\n",
       "            observer.disconnect();\n",
       "        }}\n",
       "}});\n",
       "\n",
       "// Listen for the removal of the full notebook cells\n",
       "var notebookContainer = gd.closest('#notebook-container');\n",
       "if (notebookContainer) {{\n",
       "    x.observe(notebookContainer, {childList: true});\n",
       "}}\n",
       "\n",
       "// Listen for the clearing of the current output cell\n",
       "var outputEl = gd.closest('.output');\n",
       "if (outputEl) {{\n",
       "    x.observe(outputEl, {childList: true});\n",
       "}}\n",
       "\n",
       "                        })                };                });            </script>        </div>"
      ]
     },
     "metadata": {},
     "output_type": "display_data"
    }
   ],
   "source": [
    "fig = go.Figure(data=[go.Sankey(\n",
    "    arrangement = \"snap\",\n",
    "    node = dict(\n",
    "      pad = 20,\n",
    "      thickness = 20,\n",
    "      line = dict(color = \"black\", width = 0.5),\n",
    "      label = [\n",
    "          \"Land\", \"Farm\", \"Processing\", \"Transport\", \"Packaging\", \"Retail\", \"Consumer\", \"Waste\", \"Carbon dioxide\", \"Methane\", \"Nitrous oxide\",\n",
    "          \"F-gases\"],\n",
    "      color = [\"#58805b\", \"#98c7a0\", \"#f36e3a\", \"#fba644\", \"#ad5849\", \"#d2c795\", \"#736a62\", \"#b0a08c\",\"#3d6493\", \"#95ceeb\", \"#308bbc\", \"#86aad1\"]),\n",
    "    link = dict(\n",
    "      source = [0,0,0,1,1,1,2,2,2,3,3,3,4,4,4,5,5,5,5,6,6,6,7,7,7,7], # corresponds to 8 food system stages (the 'source') \n",
    "      target = [8, 9, 10, 8, 9, 10,8, 9, 10,8, 9, 10,8, 9, 10,8, 11, 9, 10, 8, 9, 10, 8, 9, 10], #ghg types (the targets)\n",
    "      value  = [1.63842659e+11, 6.08796006e+08, 8.74212200e+06, 2.25137898e+10, 1.06454795e+11,\n",
    "                3.80959812e+10, 1.01506384e+10, 2.90852906e+09, 5.16606457e+08, 1.57765035e+10,\n",
    "                1.73819055e+09, 2.46781984e+08, 1.80289417e+10, 1.39274312e+09, 8.13052248e+07,\n",
    "                6.37215236e+09, 6.01030263e+09, 3.69802473e+08, 2.42898945e+07, 7.21136338e+09,\n",
    "                2.06679458e+09, 1.09796230e+09, 7.18888257e+07, 3.23804654e+10, 1.83359537e+09] #the amount per Source to Target\n",
    "  ))])\n",
    "fig.update_layout(\n",
    "    height=580,\n",
    "    title_text=\"Stages to GHGs: Food System Emissions, 1990-2015\", \n",
    "    font_size=14)\n",
    "fig.show()"
   ]
  },
  {
   "cell_type": "markdown",
   "id": "a23c5f04",
   "metadata": {
    "papermill": {
     "duration": 0.101065,
     "end_time": "2021-10-21T16:04:49.557410",
     "exception": false,
     "start_time": "2021-10-21T16:04:49.456345",
     "status": "completed"
    },
    "tags": []
   },
   "source": [
    "### Yearly trends in global food system emissions\n",
    "Now that we've seen food system emissions from 1990 to 2015 in total, let's take a look at trends over time.\n",
    "Let's take a look at food system emissions in total and then we'll look per stage and GHG."
   ]
  },
  {
   "cell_type": "code",
   "execution_count": 8,
   "id": "37f6cca9",
   "metadata": {
    "execution": {
     "iopub.execute_input": "2021-10-21T16:04:49.640843Z",
     "iopub.status.busy": "2021-10-21T16:04:49.640167Z",
     "iopub.status.idle": "2021-10-21T16:04:49.964071Z",
     "shell.execute_reply": "2021-10-21T16:04:49.964611Z",
     "shell.execute_reply.started": "2021-10-21T15:18:40.142370Z"
    },
    "jupyter": {
     "source_hidden": true
    },
    "papermill": {
     "duration": 0.367618,
     "end_time": "2021-10-21T16:04:49.964789",
     "exception": false,
     "start_time": "2021-10-21T16:04:49.597171",
     "status": "completed"
    },
    "tags": []
   },
   "outputs": [
    {
     "data": {
      "image/png": "[encoded data removed]",
      "text/plain": [
       "<Figure size 576x396 with 1 Axes>"
      ]
     },
     "metadata": {},
     "output_type": "display_data"
    }
   ],
   "source": [
    "df_edgar_total = df_edgar.groupby(\n",
    "    by=[\"Year\"]).sum()[[\"GHG Emissions\"]]\n",
    "df_edgar_total = df_edgar_total.reset_index()\n",
    "df_edgar_total = df_edgar_total.set_index(\n",
    "    [\"Year\"])\n",
    "\n",
    "ax = df_edgar_total.plot(\n",
    "    title=\"Global food system emissions (1990-2015)\",\n",
    "    ylabel=\"GHG Emissions (metric tons CO2e)\",\n",
    "    linewidth=3, marker='*')"
   ]
  },
  {
   "cell_type": "markdown",
   "id": "12700c7f",
   "metadata": {
    "papermill": {
     "duration": 0.042542,
     "end_time": "2021-10-21T16:04:50.048465",
     "exception": false,
     "start_time": "2021-10-21T16:04:50.005923",
     "status": "completed"
    },
    "tags": []
   },
   "source": [
    "### Total food system GHG emissions have been growing\n",
    "From 1990 to 2015, total GHG emissions were in the range of **~16 to ~18 billion metric tons of CO2e**   \n",
    "Land emissions have declined while Farm emissions have grown, and annual trends for Land emissions mirror the rise and fall of carbon dioxide emissions "
   ]
  },
  {
   "cell_type": "code",
   "execution_count": 9,
   "id": "94305903",
   "metadata": {
    "execution": {
     "iopub.execute_input": "2021-10-21T16:04:50.136820Z",
     "iopub.status.busy": "2021-10-21T16:04:50.135702Z",
     "iopub.status.idle": "2021-10-21T16:04:50.538818Z",
     "shell.execute_reply": "2021-10-21T16:04:50.539367Z",
     "shell.execute_reply.started": "2021-10-21T15:18:40.448089Z"
    },
    "jupyter": {
     "source_hidden": true
    },
    "papermill": {
     "duration": 0.449171,
     "end_time": "2021-10-21T16:04:50.539547",
     "exception": false,
     "start_time": "2021-10-21T16:04:50.090376",
     "status": "completed"
    },
    "tags": []
   },
   "outputs": [
    {
     "data": {
      "application/vnd.plotly.v1+json": {
       "config": {
        "plotlyServerURL": "https://plot.ly"
       },
       "data": [
        {
         "hovertemplate": "Food System Stage=Land<br>Year=%{x}<br>GHG Emissions=%{y}<extra></extra>",
         "legendgroup": "Land",
         "line": {
          "color": "rgb(76,114,176)",
          "dash": "solid"
         },
         "marker": {
          "symbol": "circle"
         },
         "mode": "lines",
         "name": "Land",
         "orientation": "v",
         "showlegend": true,
         "type": "scatter",
         "x": [
          1990,
          1991,
          1992,
          1993,
          1994,
          1995,
          1996,
          1997,
          1998,
          1999,
          2000,
          2001,
          2002,
          2003,
          2004,
          2005,
          2006,
          2007,
          2008,
          2009,
          2010,
          2011,
          2012,
          2013,
          2014,
          2015
         ],
         "xaxis": "x",
         "y": [
          6855558241.00733,
          6867995625.047026,
          6888400817.399707,
          6899504464.900433,
          6912560123.000242,
          6931817888.099686,
          6432811113.9997,
          7386350947.499902,
          6850431693.100084,
          6509928012.499975,
          6352759023.3,
          5889532295.3,
          6832255780.3,
          6499047048.5,
          6810351328.6,
          6558042606.3,
          6401711568.3,
          5914926182.5,
          5886740835.2,
          6194687710.1,
          5850955539.3,
          5206510942.4,
          5273395354.7,
          5175445192.599999,
          5379223970.8,
          5699252401.1
         ],
         "yaxis": "y"
        },
        {
         "hovertemplate": "Food System Stage=Farm<br>Year=%{x}<br>GHG Emissions=%{y}<extra></extra>",
         "legendgroup": "Farm",
         "line": {
          "color": "rgb(221,132,82)",
          "dash": "solid"
         },
         "marker": {
          "symbol": "circle"
         },
         "mode": "lines",
         "name": "Farm",
         "orientation": "v",
         "showlegend": true,
         "type": "scatter",
         "x": [
          1990,
          1991,
          1992,
          1993,
          1994,
          1995,
          1996,
          1997,
          1998,
          1999,
          2000,
          2001,
          2002,
          2003,
          2004,
          2005,
          2006,
          2007,
          2008,
          2009,
          2010,
          2011,
          2012,
          2013,
          2014,
          2015
         ],
         "xaxis": "x",
         "y": [
          6195746108.239834,
          6170964269.078318,
          6148766421.109134,
          6092304307.229052,
          6142943254.380452,
          6203400654.637013,
          6182146246.897217,
          6164626878.292065,
          6138141627.080848,
          6174886395.759246,
          6064783759.542448,
          6060467744.77302,
          6112704539.224816,
          6196448552.350296,
          6355352686.328474,
          6468328399.295555,
          6554729634.842537,
          6635808376.560207,
          6690906984.945774,
          6708605258.909504,
          6792450650.32812,
          6865420492.068431,
          6902355203.741818,
          6975681363.904441,
          7018045403.517119,
          7048551021.475431
         ],
         "yaxis": "y"
        },
        {
         "hovertemplate": "Food System Stage=Processing<br>Year=%{x}<br>GHG Emissions=%{y}<extra></extra>",
         "legendgroup": "Processing",
         "line": {
          "color": "rgb(85,168,104)",
          "dash": "solid"
         },
         "marker": {
          "symbol": "circle"
         },
         "mode": "lines",
         "name": "Processing",
         "orientation": "v",
         "showlegend": true,
         "type": "scatter",
         "x": [
          1990,
          1991,
          1992,
          1993,
          1994,
          1995,
          1996,
          1997,
          1998,
          1999,
          2000,
          2001,
          2002,
          2003,
          2004,
          2005,
          2006,
          2007,
          2008,
          2009,
          2010,
          2011,
          2012,
          2013,
          2014,
          2015
         ],
         "xaxis": "x",
         "y": [
          408315459.328159,
          407786751.844599,
          401612975.138305,
          405765469.732763,
          405148363.916975,
          470081559.182168,
          462991404.589166,
          468233382.295043,
          471677494.476347,
          453795225.310768,
          466338540.827055,
          477868887.951187,
          488539905.969925,
          494718106.354294,
          542691998.901594,
          565232761.988184,
          583147460.982507,
          603707642.152591,
          618833522.942366,
          610413160.635561,
          624186772.959146,
          628681843.341786,
          632018774.795062,
          636444091.363806,
          625475319.652812,
          622067042.140197
         ],
         "yaxis": "y"
        },
        {
         "hovertemplate": "Food System Stage=Transport<br>Year=%{x}<br>GHG Emissions=%{y}<extra></extra>",
         "legendgroup": "Transport",
         "line": {
          "color": "rgb(196,78,82)",
          "dash": "solid"
         },
         "marker": {
          "symbol": "circle"
         },
         "mode": "lines",
         "name": "Transport",
         "orientation": "v",
         "showlegend": true,
         "type": "scatter",
         "x": [
          1990,
          1991,
          1992,
          1993,
          1994,
          1995,
          1996,
          1997,
          1998,
          1999,
          2000,
          2001,
          2002,
          2003,
          2004,
          2005,
          2006,
          2007,
          2008,
          2009,
          2010,
          2011,
          2012,
          2013,
          2014,
          2015
         ],
         "xaxis": "x",
         "y": [
          523876583.628316,
          532634642.924405,
          547486564.094148,
          557528660.8938891,
          570544588.338892,
          582347297.516365,
          609931874.228632,
          616075892.85831,
          610052001.518091,
          625190076.48928,
          646633245.577545,
          651997084.780538,
          664127236.222398,
          687546747.0183259,
          712666704.471819,
          721700423.859385,
          737270543.507814,
          752768631.8337159,
          756584202.876869,
          748802491.473127,
          777441142.751129,
          788692255.350874,
          815205520.681165,
          825863225.662335,
          841935669.627618,
          856572752.368182
         ],
         "yaxis": "y"
        },
        {
         "hovertemplate": "Food System Stage=Packaging<br>Year=%{x}<br>GHG Emissions=%{y}<extra></extra>",
         "legendgroup": "Packaging",
         "line": {
          "color": "rgb(129,114,179)",
          "dash": "solid"
         },
         "marker": {
          "symbol": "circle"
         },
         "mode": "lines",
         "name": "Packaging",
         "orientation": "v",
         "showlegend": true,
         "type": "scatter",
         "x": [
          1990,
          1991,
          1992,
          1993,
          1994,
          1995,
          1996,
          1997,
          1998,
          1999,
          2000,
          2001,
          2002,
          2003,
          2004,
          2005,
          2006,
          2007,
          2008,
          2009,
          2010,
          2011,
          2012,
          2013,
          2014,
          2015
         ],
         "xaxis": "x",
         "y": [
          521181467.370451,
          529380059.476187,
          524790390.514083,
          524120432.695903,
          548851708.915426,
          618068331.3289629,
          616143912.687504,
          620588766.260147,
          621104570.811021,
          616853147.1381611,
          638984760.088526,
          652665366.493079,
          644549078.318555,
          698135357.3374339,
          796178938.6548129,
          841321427.842124,
          867287183.438181,
          915673758.291387,
          931591091.391194,
          917428867.547615,
          943187687.355719,
          1003983163.7121581,
          969442054.263405,
          972165713.941876,
          991911056.564689,
          977401740.329042
         ],
         "yaxis": "y"
        },
        {
         "hovertemplate": "Food System Stage=Retail<br>Year=%{x}<br>GHG Emissions=%{y}<extra></extra>",
         "legendgroup": "Retail",
         "line": {
          "color": "rgb(147,120,96)",
          "dash": "solid"
         },
         "marker": {
          "symbol": "circle"
         },
         "mode": "lines",
         "name": "Retail",
         "orientation": "v",
         "showlegend": true,
         "type": "scatter",
         "x": [
          1990,
          1991,
          1992,
          1993,
          1994,
          1995,
          1996,
          1997,
          1998,
          1999,
          2000,
          2001,
          2002,
          2003,
          2004,
          2005,
          2006,
          2007,
          2008,
          2009,
          2010,
          2011,
          2012,
          2013,
          2014,
          2015
         ],
         "xaxis": "x",
         "y": [
          183683526.438201,
          191818518.275965,
          198052128.085017,
          210178173.98503798,
          228545919.024416,
          252217883.568477,
          286065008.204238,
          315683913.229256,
          344988530.849265,
          382572489.420188,
          416210416.4443956,
          459667594.2699082,
          491955946.4713276,
          536777439.0682574,
          578332124.2780719,
          623380867.8484589,
          657615618.413932,
          703339659.455958,
          711093893.110359,
          703084352.269323,
          714496258.147503,
          715350868.64104,
          712764585.657716,
          722592281.978123,
          720048426.195553,
          716030929.870144
         ],
         "yaxis": "y"
        },
        {
         "hovertemplate": "Food System Stage=Consumer<br>Year=%{x}<br>GHG Emissions=%{y}<extra></extra>",
         "legendgroup": "Consumer",
         "line": {
          "color": "rgb(218,139,195)",
          "dash": "solid"
         },
         "marker": {
          "symbol": "circle"
         },
         "mode": "lines",
         "name": "Consumer",
         "orientation": "v",
         "showlegend": true,
         "type": "scatter",
         "x": [
          1990,
          1991,
          1992,
          1993,
          1994,
          1995,
          1996,
          1997,
          1998,
          1999,
          2000,
          2001,
          2002,
          2003,
          2004,
          2005,
          2006,
          2007,
          2008,
          2009,
          2010,
          2011,
          2012,
          2013,
          2014,
          2015
         ],
         "xaxis": "x",
         "y": [
          375360234.795306,
          377338450.284494,
          370979328.658666,
          375417397.013524,
          370173360.887093,
          387997280.156634,
          362617960.961838,
          385504253.925565,
          358505637.206646,
          361835527.892802,
          368411287.668087,
          372523408.149421,
          374987823.511786,
          387943512.272687,
          401971760.273664,
          411694721.73049,
          416780190.960515,
          424870273.361234,
          417078351.640481,
          415993465.247399,
          429504618.684892,
          436114114.114668,
          438666116.481427,
          447551063.53346103,
          451694957.411059,
          454605154.201019
         ],
         "yaxis": "y"
        },
        {
         "hovertemplate": "Food System Stage=Waste<br>Year=%{x}<br>GHG Emissions=%{y}<extra></extra>",
         "legendgroup": "Waste",
         "line": {
          "color": "rgb(140,140,140)",
          "dash": "solid"
         },
         "marker": {
          "symbol": "circle"
         },
         "mode": "lines",
         "name": "Waste",
         "orientation": "v",
         "showlegend": true,
         "type": "scatter",
         "x": [
          1990,
          1991,
          1992,
          1993,
          1994,
          1995,
          1996,
          1997,
          1998,
          1999,
          2000,
          2001,
          2002,
          2003,
          2004,
          2005,
          2006,
          2007,
          2008,
          2009,
          2010,
          2011,
          2012,
          2013,
          2014,
          2015
         ],
         "xaxis": "x",
         "y": [
          1123832808.0673869,
          1145785076.28303,
          1164433564.099425,
          1182993158.723397,
          1200679855.550005,
          1214929428.467155,
          1229680672.535927,
          1240351024.753582,
          1248397470.756093,
          1259237714.090249,
          1271848553.439473,
          1275386280.7058759,
          1289386903.200142,
          1309168204.951299,
          1328209430.904834,
          1342339864.097992,
          1369321002.752641,
          1383947840.782357,
          1398662760.503732,
          1414814041.347651,
          1427337731.685929,
          1449926475.92229,
          1469859032.9302151,
          1493096128.244324,
          1514450440.059735,
          1537874110.510426
         ],
         "yaxis": "y"
        }
       ],
       "layout": {
        "legend": {
         "title": {
          "text": "Food System Stage"
         },
         "tracegroupgap": 0
        },
        "template": {
         "data": {
          "bar": [
           {
            "error_x": {
             "color": "rgb(36,36,36)"
            },
            "error_y": {
             "color": "rgb(36,36,36)"
            },
            "marker": {
             "line": {
              "color": "rgb(234,234,242)",
              "width": 0.5
             },
             "pattern": {
              "fillmode": "overlay",
              "size": 10,
              "solidity": 0.2
             }
            },
            "type": "bar"
           }
          ],
          "barpolar": [
           {
            "marker": {
             "line": {
              "color": "rgb(234,234,242)",
              "width": 0.5
             },
             "pattern": {
              "fillmode": "overlay",
              "size": 10,
              "solidity": 0.2
             }
            },
            "type": "barpolar"
           }
          ],
          "carpet": [
           {
            "aaxis": {
             "endlinecolor": "rgb(36,36,36)",
             "gridcolor": "white",
             "linecolor": "white",
             "minorgridcolor": "white",
             "startlinecolor": "rgb(36,36,36)"
            },
            "baxis": {
             "endlinecolor": "rgb(36,36,36)",
             "gridcolor": "white",
             "linecolor": "white",
             "minorgridcolor": "white",
             "startlinecolor": "rgb(36,36,36)"
            },
            "type": "carpet"
           }
          ],
          "choropleth": [
           {
            "colorbar": {
             "outlinewidth": 0,
             "tickcolor": "rgb(36,36,36)",
             "ticklen": 8,
             "ticks": "outside",
             "tickwidth": 2
            },
            "type": "choropleth"
           }
          ],
          "contour": [
           {
            "colorbar": {
             "outlinewidth": 0,
             "tickcolor": "rgb(36,36,36)",
             "ticklen": 8,
             "ticks": "outside",
             "tickwidth": 2
            },
            "colorscale": [
             [
              0.0,
              "rgb(2,4,25)"
             ],
             [
              0.06274509803921569,
              "rgb(24,15,41)"
             ],
             [
              0.12549019607843137,
              "rgb(47,23,57)"
             ],
             [
              0.18823529411764706,
              "rgb(71,28,72)"
             ],
             [
              0.25098039215686274,
              "rgb(97,30,82)"
             ],
             [
              0.3137254901960784,
              "rgb(123,30,89)"
             ],
             [
              0.3764705882352941,
              "rgb(150,27,91)"
             ],
             [
              0.4392156862745098,
              "rgb(177,22,88)"
             ],
             [
              0.5019607843137255,
              "rgb(203,26,79)"
             ],
             [
              0.5647058823529412,
              "rgb(223,47,67)"
             ],
             [
              0.6274509803921569,
              "rgb(236,76,61)"
             ],
             [
              0.6901960784313725,
              "rgb(242,107,73)"
             ],
             [
              0.7529411764705882,
              "rgb(244,135,95)"
             ],
             [
              0.8156862745098039,
              "rgb(245,162,122)"
             ],
             [
              0.8784313725490196,
              "rgb(246,188,153)"
             ],
             [
              0.9411764705882353,
              "rgb(247,212,187)"
             ],
             [
              1.0,
              "rgb(250,234,220)"
             ]
            ],
            "type": "contour"
           }
          ],
          "contourcarpet": [
           {
            "colorbar": {
             "outlinewidth": 0,
             "tickcolor": "rgb(36,36,36)",
             "ticklen": 8,
             "ticks": "outside",
             "tickwidth": 2
            },
            "type": "contourcarpet"
           }
          ],
          "heatmap": [
           {
            "colorbar": {
             "outlinewidth": 0,
             "tickcolor": "rgb(36,36,36)",
             "ticklen": 8,
             "ticks": "outside",
             "tickwidth": 2
            },
            "colorscale": [
             [
              0.0,
              "rgb(2,4,25)"
             ],
             [
              0.06274509803921569,
              "rgb(24,15,41)"
             ],
             [
              0.12549019607843137,
              "rgb(47,23,57)"
             ],
             [
              0.18823529411764706,
              "rgb(71,28,72)"
             ],
             [
              0.25098039215686274,
              "rgb(97,30,82)"
             ],
             [
              0.3137254901960784,
              "rgb(123,30,89)"
             ],
             [
              0.3764705882352941,
              "rgb(150,27,91)"
             ],
             [
              0.4392156862745098,
              "rgb(177,22,88)"
             ],
             [
              0.5019607843137255,
              "rgb(203,26,79)"
             ],
             [
              0.5647058823529412,
              "rgb(223,47,67)"
             ],
             [
              0.6274509803921569,
              "rgb(236,76,61)"
             ],
             [
              0.6901960784313725,
              "rgb(242,107,73)"
             ],
             [
              0.7529411764705882,
              "rgb(244,135,95)"
             ],
             [
              0.8156862745098039,
              "rgb(245,162,122)"
             ],
             [
              0.8784313725490196,
              "rgb(246,188,153)"
             ],
             [
              0.9411764705882353,
              "rgb(247,212,187)"
             ],
             [
              1.0,
              "rgb(250,234,220)"
             ]
            ],
            "type": "heatmap"
           }
          ],
          "heatmapgl": [
           {
            "colorbar": {
             "outlinewidth": 0,
             "tickcolor": "rgb(36,36,36)",
             "ticklen": 8,
             "ticks": "outside",
             "tickwidth": 2
            },
            "colorscale": [
             [
              0.0,
              "rgb(2,4,25)"
             ],
             [
              0.06274509803921569,
              "rgb(24,15,41)"
             ],
             [
              0.12549019607843137,
              "rgb(47,23,57)"
             ],
             [
              0.18823529411764706,
              "rgb(71,28,72)"
             ],
             [
              0.25098039215686274,
              "rgb(97,30,82)"
             ],
             [
              0.3137254901960784,
              "rgb(123,30,89)"
             ],
             [
              0.3764705882352941,
              "rgb(150,27,91)"
             ],
             [
              0.4392156862745098,
              "rgb(177,22,88)"
             ],
             [
              0.5019607843137255,
              "rgb(203,26,79)"
             ],
             [
              0.5647058823529412,
              "rgb(223,47,67)"
             ],
             [
              0.6274509803921569,
              "rgb(236,76,61)"
             ],
             [
              0.6901960784313725,
              "rgb(242,107,73)"
             ],
             [
              0.7529411764705882,
              "rgb(244,135,95)"
             ],
             [
              0.8156862745098039,
              "rgb(245,162,122)"
             ],
             [
              0.8784313725490196,
              "rgb(246,188,153)"
             ],
             [
              0.9411764705882353,
              "rgb(247,212,187)"
             ],
             [
              1.0,
              "rgb(250,234,220)"
             ]
            ],
            "type": "heatmapgl"
           }
          ],
          "histogram": [
           {
            "marker": {
             "pattern": {
              "fillmode": "overlay",
              "size": 10,
              "solidity": 0.2
             }
            },
            "type": "histogram"
           }
          ],
          "histogram2d": [
           {
            "colorbar": {
             "outlinewidth": 0,
             "tickcolor": "rgb(36,36,36)",
             "ticklen": 8,
             "ticks": "outside",
             "tickwidth": 2
            },
            "colorscale": [
             [
              0.0,
              "rgb(2,4,25)"
             ],
             [
              0.06274509803921569,
              "rgb(24,15,41)"
             ],
             [
              0.12549019607843137,
              "rgb(47,23,57)"
             ],
             [
              0.18823529411764706,
              "rgb(71,28,72)"
             ],
             [
              0.25098039215686274,
              "rgb(97,30,82)"
             ],
             [
              0.3137254901960784,
              "rgb(123,30,89)"
             ],
             [
              0.3764705882352941,
              "rgb(150,27,91)"
             ],
             [
              0.4392156862745098,
              "rgb(177,22,88)"
             ],
             [
              0.5019607843137255,
              "rgb(203,26,79)"
             ],
             [
              0.5647058823529412,
              "rgb(223,47,67)"
             ],
             [
              0.6274509803921569,
              "rgb(236,76,61)"
             ],
             [
              0.6901960784313725,
              "rgb(242,107,73)"
             ],
             [
              0.7529411764705882,
              "rgb(244,135,95)"
             ],
             [
              0.8156862745098039,
              "rgb(245,162,122)"
             ],
             [
              0.8784313725490196,
              "rgb(246,188,153)"
             ],
             [
              0.9411764705882353,
              "rgb(247,212,187)"
             ],
             [
              1.0,
              "rgb(250,234,220)"
             ]
            ],
            "type": "histogram2d"
           }
          ],
          "histogram2dcontour": [
           {
            "colorbar": {
             "outlinewidth": 0,
             "tickcolor": "rgb(36,36,36)",
             "ticklen": 8,
             "ticks": "outside",
             "tickwidth": 2
            },
            "colorscale": [
             [
              0.0,
              "rgb(2,4,25)"
             ],
             [
              0.06274509803921569,
              "rgb(24,15,41)"
             ],
             [
              0.12549019607843137,
              "rgb(47,23,57)"
             ],
             [
              0.18823529411764706,
              "rgb(71,28,72)"
             ],
             [
              0.25098039215686274,
              "rgb(97,30,82)"
             ],
             [
              0.3137254901960784,
              "rgb(123,30,89)"
             ],
             [
              0.3764705882352941,
              "rgb(150,27,91)"
             ],
             [
              0.4392156862745098,
              "rgb(177,22,88)"
             ],
             [
              0.5019607843137255,
              "rgb(203,26,79)"
             ],
             [
              0.5647058823529412,
              "rgb(223,47,67)"
             ],
             [
              0.6274509803921569,
              "rgb(236,76,61)"
             ],
             [
              0.6901960784313725,
              "rgb(242,107,73)"
             ],
             [
              0.7529411764705882,
              "rgb(244,135,95)"
             ],
             [
              0.8156862745098039,
              "rgb(245,162,122)"
             ],
             [
              0.8784313725490196,
              "rgb(246,188,153)"
             ],
             [
              0.9411764705882353,
              "rgb(247,212,187)"
             ],
             [
              1.0,
              "rgb(250,234,220)"
             ]
            ],
            "type": "histogram2dcontour"
           }
          ],
          "mesh3d": [
           {
            "colorbar": {
             "outlinewidth": 0,
             "tickcolor": "rgb(36,36,36)",
             "ticklen": 8,
             "ticks": "outside",
             "tickwidth": 2
            },
            "type": "mesh3d"
           }
          ],
          "parcoords": [
           {
            "line": {
             "colorbar": {
              "outlinewidth": 0,
              "tickcolor": "rgb(36,36,36)",
              "ticklen": 8,
              "ticks": "outside",
              "tickwidth": 2
             }
            },
            "type": "parcoords"
           }
          ],
          "pie": [
           {
            "automargin": true,
            "type": "pie"
           }
          ],
          "scatter": [
           {
            "marker": {
             "colorbar": {
              "outlinewidth": 0,
              "tickcolor": "rgb(36,36,36)",
              "ticklen": 8,
              "ticks": "outside",
              "tickwidth": 2
             }
            },
            "type": "scatter"
           }
          ],
          "scatter3d": [
           {
            "line": {
             "colorbar": {
              "outlinewidth": 0,
              "tickcolor": "rgb(36,36,36)",
              "ticklen": 8,
              "ticks": "outside",
              "tickwidth": 2
             }
            },
            "marker": {
             "colorbar": {
              "outlinewidth": 0,
              "tickcolor": "rgb(36,36,36)",
              "ticklen": 8,
              "ticks": "outside",
              "tickwidth": 2
             }
            },
            "type": "scatter3d"
           }
          ],
          "scattercarpet": [
           {
            "marker": {
             "colorbar": {
              "outlinewidth": 0,
              "tickcolor": "rgb(36,36,36)",
              "ticklen": 8,
              "ticks": "outside",
              "tickwidth": 2
             }
            },
            "type": "scattercarpet"
           }
          ],
          "scattergeo": [
           {
            "marker": {
             "colorbar": {
              "outlinewidth": 0,
              "tickcolor": "rgb(36,36,36)",
              "ticklen": 8,
              "ticks": "outside",
              "tickwidth": 2
             }
            },
            "type": "scattergeo"
           }
          ],
          "scattergl": [
           {
            "marker": {
             "colorbar": {
              "outlinewidth": 0,
              "tickcolor": "rgb(36,36,36)",
              "ticklen": 8,
              "ticks": "outside",
              "tickwidth": 2
             }
            },
            "type": "scattergl"
           }
          ],
          "scattermapbox": [
           {
            "marker": {
             "colorbar": {
              "outlinewidth": 0,
              "tickcolor": "rgb(36,36,36)",
              "ticklen": 8,
              "ticks": "outside",
              "tickwidth": 2
             }
            },
            "type": "scattermapbox"
           }
          ],
          "scatterpolar": [
           {
            "marker": {
             "colorbar": {
              "outlinewidth": 0,
              "tickcolor": "rgb(36,36,36)",
              "ticklen": 8,
              "ticks": "outside",
              "tickwidth": 2
             }
            },
            "type": "scatterpolar"
           }
          ],
          "scatterpolargl": [
           {
            "marker": {
             "colorbar": {
              "outlinewidth": 0,
              "tickcolor": "rgb(36,36,36)",
              "ticklen": 8,
              "ticks": "outside",
              "tickwidth": 2
             }
            },
            "type": "scatterpolargl"
           }
          ],
          "scatterternary": [
           {
            "marker": {
             "colorbar": {
              "outlinewidth": 0,
              "tickcolor": "rgb(36,36,36)",
              "ticklen": 8,
              "ticks": "outside",
              "tickwidth": 2
             }
            },
            "type": "scatterternary"
           }
          ],
          "surface": [
           {
            "colorbar": {
             "outlinewidth": 0,
             "tickcolor": "rgb(36,36,36)",
             "ticklen": 8,
             "ticks": "outside",
             "tickwidth": 2
            },
            "colorscale": [
             [
              0.0,
              "rgb(2,4,25)"
             ],
             [
              0.06274509803921569,
              "rgb(24,15,41)"
             ],
             [
              0.12549019607843137,
              "rgb(47,23,57)"
             ],
             [
              0.18823529411764706,
              "rgb(71,28,72)"
             ],
             [
              0.25098039215686274,
              "rgb(97,30,82)"
             ],
             [
              0.3137254901960784,
              "rgb(123,30,89)"
             ],
             [
              0.3764705882352941,
              "rgb(150,27,91)"
             ],
             [
              0.4392156862745098,
              "rgb(177,22,88)"
             ],
             [
              0.5019607843137255,
              "rgb(203,26,79)"
             ],
             [
              0.5647058823529412,
              "rgb(223,47,67)"
             ],
             [
              0.6274509803921569,
              "rgb(236,76,61)"
             ],
             [
              0.6901960784313725,
              "rgb(242,107,73)"
             ],
             [
              0.7529411764705882,
              "rgb(244,135,95)"
             ],
             [
              0.8156862745098039,
              "rgb(245,162,122)"
             ],
             [
              0.8784313725490196,
              "rgb(246,188,153)"
             ],
             [
              0.9411764705882353,
              "rgb(247,212,187)"
             ],
             [
              1.0,
              "rgb(250,234,220)"
             ]
            ],
            "type": "surface"
           }
          ],
          "table": [
           {
            "cells": {
             "fill": {
              "color": "rgb(231,231,240)"
             },
             "line": {
              "color": "white"
             }
            },
            "header": {
             "fill": {
              "color": "rgb(183,183,191)"
             },
             "line": {
              "color": "white"
             }
            },
            "type": "table"
           }
          ]
         },
         "layout": {
          "annotationdefaults": {
           "arrowcolor": "rgb(67,103,167)"
          },
          "autotypenumbers": "strict",
          "coloraxis": {
           "colorbar": {
            "outlinewidth": 0,
            "tickcolor": "rgb(36,36,36)",
            "ticklen": 8,
            "ticks": "outside",
            "tickwidth": 2
           }
          },
          "colorscale": {
           "sequential": [
            [
             0.0,
             "rgb(2,4,25)"
            ],
            [
             0.06274509803921569,
             "rgb(24,15,41)"
            ],
            [
             0.12549019607843137,
             "rgb(47,23,57)"
            ],
            [
             0.18823529411764706,
             "rgb(71,28,72)"
            ],
            [
             0.25098039215686274,
             "rgb(97,30,82)"
            ],
            [
             0.3137254901960784,
             "rgb(123,30,89)"
            ],
            [
             0.3764705882352941,
             "rgb(150,27,91)"
            ],
            [
             0.4392156862745098,
             "rgb(177,22,88)"
            ],
            [
             0.5019607843137255,
             "rgb(203,26,79)"
            ],
            [
             0.5647058823529412,
             "rgb(223,47,67)"
            ],
            [
             0.6274509803921569,
             "rgb(236,76,61)"
            ],
            [
             0.6901960784313725,
             "rgb(242,107,73)"
            ],
            [
             0.7529411764705882,
             "rgb(244,135,95)"
            ],
            [
             0.8156862745098039,
             "rgb(245,162,122)"
            ],
            [
             0.8784313725490196,
             "rgb(246,188,153)"
            ],
            [
             0.9411764705882353,
             "rgb(247,212,187)"
            ],
            [
             1.0,
             "rgb(250,234,220)"
            ]
           ],
           "sequentialminus": [
            [
             0.0,
             "rgb(2,4,25)"
            ],
            [
             0.06274509803921569,
             "rgb(24,15,41)"
            ],
            [
             0.12549019607843137,
             "rgb(47,23,57)"
            ],
            [
             0.18823529411764706,
             "rgb(71,28,72)"
            ],
            [
             0.25098039215686274,
             "rgb(97,30,82)"
            ],
            [
             0.3137254901960784,
             "rgb(123,30,89)"
            ],
            [
             0.3764705882352941,
             "rgb(150,27,91)"
            ],
            [
             0.4392156862745098,
             "rgb(177,22,88)"
            ],
            [
             0.5019607843137255,
             "rgb(203,26,79)"
            ],
            [
             0.5647058823529412,
             "rgb(223,47,67)"
            ],
            [
             0.6274509803921569,
             "rgb(236,76,61)"
            ],
            [
             0.6901960784313725,
             "rgb(242,107,73)"
            ],
            [
             0.7529411764705882,
             "rgb(244,135,95)"
            ],
            [
             0.8156862745098039,
             "rgb(245,162,122)"
            ],
            [
             0.8784313725490196,
             "rgb(246,188,153)"
            ],
            [
             0.9411764705882353,
             "rgb(247,212,187)"
            ],
            [
             1.0,
             "rgb(250,234,220)"
            ]
           ]
          },
          "colorway": [
           "rgb(76,114,176)",
           "rgb(221,132,82)",
           "rgb(85,168,104)",
           "rgb(196,78,82)",
           "rgb(129,114,179)",
           "rgb(147,120,96)",
           "rgb(218,139,195)",
           "rgb(140,140,140)",
           "rgb(204,185,116)",
           "rgb(100,181,205)"
          ],
          "font": {
           "color": "rgb(36,36,36)"
          },
          "geo": {
           "bgcolor": "white",
           "lakecolor": "white",
           "landcolor": "rgb(234,234,242)",
           "showlakes": true,
           "showland": true,
           "subunitcolor": "white"
          },
          "hoverlabel": {
           "align": "left"
          },
          "hovermode": "closest",
          "paper_bgcolor": "white",
          "plot_bgcolor": "rgb(234,234,242)",
          "polar": {
           "angularaxis": {
            "gridcolor": "white",
            "linecolor": "white",
            "showgrid": true,
            "ticks": ""
           },
           "bgcolor": "rgb(234,234,242)",
           "radialaxis": {
            "gridcolor": "white",
            "linecolor": "white",
            "showgrid": true,
            "ticks": ""
           }
          },
          "scene": {
           "xaxis": {
            "backgroundcolor": "rgb(234,234,242)",
            "gridcolor": "white",
            "gridwidth": 2,
            "linecolor": "white",
            "showbackground": true,
            "showgrid": true,
            "ticks": "",
            "zerolinecolor": "white"
           },
           "yaxis": {
            "backgroundcolor": "rgb(234,234,242)",
            "gridcolor": "white",
            "gridwidth": 2,
            "linecolor": "white",
            "showbackground": true,
            "showgrid": true,
            "ticks": "",
            "zerolinecolor": "white"
           },
           "zaxis": {
            "backgroundcolor": "rgb(234,234,242)",
            "gridcolor": "white",
            "gridwidth": 2,
            "linecolor": "white",
            "showbackground": true,
            "showgrid": true,
            "ticks": "",
            "zerolinecolor": "white"
           }
          },
          "shapedefaults": {
           "fillcolor": "rgb(67,103,167)",
           "line": {
            "width": 0
           },
           "opacity": 0.5
          },
          "ternary": {
           "aaxis": {
            "gridcolor": "white",
            "linecolor": "white",
            "showgrid": true,
            "ticks": ""
           },
           "baxis": {
            "gridcolor": "white",
            "linecolor": "white",
            "showgrid": true,
            "ticks": ""
           },
           "bgcolor": "rgb(234,234,242)",
           "caxis": {
            "gridcolor": "white",
            "linecolor": "white",
            "showgrid": true,
            "ticks": ""
           }
          },
          "xaxis": {
           "automargin": true,
           "gridcolor": "white",
           "linecolor": "white",
           "showgrid": true,
           "ticks": "",
           "title": {
            "standoff": 15
           },
           "zerolinecolor": "white"
          },
          "yaxis": {
           "automargin": true,
           "gridcolor": "white",
           "linecolor": "white",
           "showgrid": true,
           "ticks": "",
           "title": {
            "standoff": 15
           },
           "zerolinecolor": "white"
          }
         }
        },
        "title": {
         "text": "GHG emissions in Global Food Systems by Stage, 1990-2015"
        },
        "xaxis": {
         "anchor": "y",
         "domain": [
          0.0,
          1.0
         ],
         "title": {
          "text": "Year"
         }
        },
        "yaxis": {
         "anchor": "x",
         "domain": [
          0.0,
          1.0
         ],
         "title": {
          "text": "GHG Emissions"
         }
        }
       }
      },
      "text/html": [
       "<div>                            <div id=\"5306ebbe-2acf-4c52-94ae-6d78071e4d40\" class=\"plotly-graph-div\" style=\"height:525px; width:100%;\"></div>            <script type=\"text/javascript\">                require([\"plotly\"], function(Plotly) {                    window.PLOTLYENV=window.PLOTLYENV || {};                                    if (document.getElementById(\"5306ebbe-2acf-4c52-94ae-6d78071e4d40\")) {                    Plotly.newPlot(                        \"5306ebbe-2acf-4c52-94ae-6d78071e4d40\",                        [{\"hovertemplate\":\"Food System Stage=Land<br>Year=%{x}<br>GHG Emissions=%{y}<extra></extra>\",\"legendgroup\":\"Land\",\"line\":{\"color\":\"rgb(76,114,176)\",\"dash\":\"solid\"},\"marker\":{\"symbol\":\"circle\"},\"mode\":\"lines\",\"name\":\"Land\",\"orientation\":\"v\",\"showlegend\":true,\"type\":\"scatter\",\"x\":[1990,1991,1992,1993,1994,1995,1996,1997,1998,1999,2000,2001,2002,2003,2004,2005,2006,2007,2008,2009,2010,2011,2012,2013,2014,2015],\"xaxis\":\"x\",\"y\":[6855558241.00733,6867995625.047026,6888400817.399707,6899504464.900433,6912560123.000242,6931817888.099686,6432811113.9997,7386350947.499902,6850431693.100084,6509928012.499975,6352759023.3,5889532295.3,6832255780.3,6499047048.5,6810351328.6,6558042606.3,6401711568.3,5914926182.5,5886740835.2,6194687710.1,5850955539.3,5206510942.4,5273395354.7,5175445192.599999,5379223970.8,5699252401.1],\"yaxis\":\"y\"},{\"hovertemplate\":\"Food System Stage=Farm<br>Year=%{x}<br>GHG Emissions=%{y}<extra></extra>\",\"legendgroup\":\"Farm\",\"line\":{\"color\":\"rgb(221,132,82)\",\"dash\":\"solid\"},\"marker\":{\"symbol\":\"circle\"},\"mode\":\"lines\",\"name\":\"Farm\",\"orientation\":\"v\",\"showlegend\":true,\"type\":\"scatter\",\"x\":[1990,1991,1992,1993,1994,1995,1996,1997,1998,1999,2000,2001,2002,2003,2004,2005,2006,2007,2008,2009,2010,2011,2012,2013,2014,2015],\"xaxis\":\"x\",\"y\":[6195746108.239834,6170964269.078318,6148766421.109134,6092304307.229052,6142943254.380452,6203400654.637013,6182146246.897217,6164626878.292065,6138141627.080848,6174886395.759246,6064783759.542448,6060467744.77302,6112704539.224816,6196448552.350296,6355352686.328474,6468328399.295555,6554729634.842537,6635808376.560207,6690906984.945774,6708605258.909504,6792450650.32812,6865420492.068431,6902355203.741818,6975681363.904441,7018045403.517119,7048551021.475431],\"yaxis\":\"y\"},{\"hovertemplate\":\"Food System Stage=Processing<br>Year=%{x}<br>GHG Emissions=%{y}<extra></extra>\",\"legendgroup\":\"Processing\",\"line\":{\"color\":\"rgb(85,168,104)\",\"dash\":\"solid\"},\"marker\":{\"symbol\":\"circle\"},\"mode\":\"lines\",\"name\":\"Processing\",\"orientation\":\"v\",\"showlegend\":true,\"type\":\"scatter\",\"x\":[1990,1991,1992,1993,1994,1995,1996,1997,1998,1999,2000,2001,2002,2003,2004,2005,2006,2007,2008,2009,2010,2011,2012,2013,2014,2015],\"xaxis\":\"x\",\"y\":[408315459.328159,407786751.844599,401612975.138305,405765469.732763,405148363.916975,470081559.182168,462991404.589166,468233382.295043,471677494.476347,453795225.310768,466338540.827055,477868887.951187,488539905.969925,494718106.354294,542691998.901594,565232761.988184,583147460.982507,603707642.152591,618833522.942366,610413160.635561,624186772.959146,628681843.341786,632018774.795062,636444091.363806,625475319.652812,622067042.140197],\"yaxis\":\"y\"},{\"hovertemplate\":\"Food System Stage=Transport<br>Year=%{x}<br>GHG Emissions=%{y}<extra></extra>\",\"legendgroup\":\"Transport\",\"line\":{\"color\":\"rgb(196,78,82)\",\"dash\":\"solid\"},\"marker\":{\"symbol\":\"circle\"},\"mode\":\"lines\",\"name\":\"Transport\",\"orientation\":\"v\",\"showlegend\":true,\"type\":\"scatter\",\"x\":[1990,1991,1992,1993,1994,1995,1996,1997,1998,1999,2000,2001,2002,2003,2004,2005,2006,2007,2008,2009,2010,2011,2012,2013,2014,2015],\"xaxis\":\"x\",\"y\":[523876583.628316,532634642.924405,547486564.094148,557528660.8938891,570544588.338892,582347297.516365,609931874.228632,616075892.85831,610052001.518091,625190076.48928,646633245.577545,651997084.780538,664127236.222398,687546747.0183259,712666704.471819,721700423.859385,737270543.507814,752768631.8337159,756584202.876869,748802491.473127,777441142.751129,788692255.350874,815205520.681165,825863225.662335,841935669.627618,856572752.368182],\"yaxis\":\"y\"},{\"hovertemplate\":\"Food System Stage=Packaging<br>Year=%{x}<br>GHG Emissions=%{y}<extra></extra>\",\"legendgroup\":\"Packaging\",\"line\":{\"color\":\"rgb(129,114,179)\",\"dash\":\"solid\"},\"marker\":{\"symbol\":\"circle\"},\"mode\":\"lines\",\"name\":\"Packaging\",\"orientation\":\"v\",\"showlegend\":true,\"type\":\"scatter\",\"x\":[1990,1991,1992,1993,1994,1995,1996,1997,1998,1999,2000,2001,2002,2003,2004,2005,2006,2007,2008,2009,2010,2011,2012,2013,2014,2015],\"xaxis\":\"x\",\"y\":[521181467.370451,529380059.476187,524790390.514083,524120432.695903,548851708.915426,618068331.3289629,616143912.687504,620588766.260147,621104570.811021,616853147.1381611,638984760.088526,652665366.493079,644549078.318555,698135357.3374339,796178938.6548129,841321427.842124,867287183.438181,915673758.291387,931591091.391194,917428867.547615,943187687.355719,1003983163.7121581,969442054.263405,972165713.941876,991911056.564689,977401740.329042],\"yaxis\":\"y\"},{\"hovertemplate\":\"Food System Stage=Retail<br>Year=%{x}<br>GHG Emissions=%{y}<extra></extra>\",\"legendgroup\":\"Retail\",\"line\":{\"color\":\"rgb(147,120,96)\",\"dash\":\"solid\"},\"marker\":{\"symbol\":\"circle\"},\"mode\":\"lines\",\"name\":\"Retail\",\"orientation\":\"v\",\"showlegend\":true,\"type\":\"scatter\",\"x\":[1990,1991,1992,1993,1994,1995,1996,1997,1998,1999,2000,2001,2002,2003,2004,2005,2006,2007,2008,2009,2010,2011,2012,2013,2014,2015],\"xaxis\":\"x\",\"y\":[183683526.438201,191818518.275965,198052128.085017,210178173.98503798,228545919.024416,252217883.568477,286065008.204238,315683913.229256,344988530.849265,382572489.420188,416210416.4443956,459667594.2699082,491955946.4713276,536777439.0682574,578332124.2780719,623380867.8484589,657615618.413932,703339659.455958,711093893.110359,703084352.269323,714496258.147503,715350868.64104,712764585.657716,722592281.978123,720048426.195553,716030929.870144],\"yaxis\":\"y\"},{\"hovertemplate\":\"Food System Stage=Consumer<br>Year=%{x}<br>GHG Emissions=%{y}<extra></extra>\",\"legendgroup\":\"Consumer\",\"line\":{\"color\":\"rgb(218,139,195)\",\"dash\":\"solid\"},\"marker\":{\"symbol\":\"circle\"},\"mode\":\"lines\",\"name\":\"Consumer\",\"orientation\":\"v\",\"showlegend\":true,\"type\":\"scatter\",\"x\":[1990,1991,1992,1993,1994,1995,1996,1997,1998,1999,2000,2001,2002,2003,2004,2005,2006,2007,2008,2009,2010,2011,2012,2013,2014,2015],\"xaxis\":\"x\",\"y\":[375360234.795306,377338450.284494,370979328.658666,375417397.013524,370173360.887093,387997280.156634,362617960.961838,385504253.925565,358505637.206646,361835527.892802,368411287.668087,372523408.149421,374987823.511786,387943512.272687,401971760.273664,411694721.73049,416780190.960515,424870273.361234,417078351.640481,415993465.247399,429504618.684892,436114114.114668,438666116.481427,447551063.53346103,451694957.411059,454605154.201019],\"yaxis\":\"y\"},{\"hovertemplate\":\"Food System Stage=Waste<br>Year=%{x}<br>GHG Emissions=%{y}<extra></extra>\",\"legendgroup\":\"Waste\",\"line\":{\"color\":\"rgb(140,140,140)\",\"dash\":\"solid\"},\"marker\":{\"symbol\":\"circle\"},\"mode\":\"lines\",\"name\":\"Waste\",\"orientation\":\"v\",\"showlegend\":true,\"type\":\"scatter\",\"x\":[1990,1991,1992,1993,1994,1995,1996,1997,1998,1999,2000,2001,2002,2003,2004,2005,2006,2007,2008,2009,2010,2011,2012,2013,2014,2015],\"xaxis\":\"x\",\"y\":[1123832808.0673869,1145785076.28303,1164433564.099425,1182993158.723397,1200679855.550005,1214929428.467155,1229680672.535927,1240351024.753582,1248397470.756093,1259237714.090249,1271848553.439473,1275386280.7058759,1289386903.200142,1309168204.951299,1328209430.904834,1342339864.097992,1369321002.752641,1383947840.782357,1398662760.503732,1414814041.347651,1427337731.685929,1449926475.92229,1469859032.9302151,1493096128.244324,1514450440.059735,1537874110.510426],\"yaxis\":\"y\"}],                        {\"legend\":{\"title\":{\"text\":\"Food System Stage\"},\"tracegroupgap\":0},\"template\":{\"data\":{\"bar\":[{\"error_x\":{\"color\":\"rgb(36,36,36)\"},\"error_y\":{\"color\":\"rgb(36,36,36)\"},\"marker\":{\"line\":{\"color\":\"rgb(234,234,242)\",\"width\":0.5},\"pattern\":{\"fillmode\":\"overlay\",\"size\":10,\"solidity\":0.2}},\"type\":\"bar\"}],\"barpolar\":[{\"marker\":{\"line\":{\"color\":\"rgb(234,234,242)\",\"width\":0.5},\"pattern\":{\"fillmode\":\"overlay\",\"size\":10,\"solidity\":0.2}},\"type\":\"barpolar\"}],\"carpet\":[{\"aaxis\":{\"endlinecolor\":\"rgb(36,36,36)\",\"gridcolor\":\"white\",\"linecolor\":\"white\",\"minorgridcolor\":\"white\",\"startlinecolor\":\"rgb(36,36,36)\"},\"baxis\":{\"endlinecolor\":\"rgb(36,36,36)\",\"gridcolor\":\"white\",\"linecolor\":\"white\",\"minorgridcolor\":\"white\",\"startlinecolor\":\"rgb(36,36,36)\"},\"type\":\"carpet\"}],\"choropleth\":[{\"colorbar\":{\"outlinewidth\":0,\"tickcolor\":\"rgb(36,36,36)\",\"ticklen\":8,\"ticks\":\"outside\",\"tickwidth\":2},\"type\":\"choropleth\"}],\"contour\":[{\"colorbar\":{\"outlinewidth\":0,\"tickcolor\":\"rgb(36,36,36)\",\"ticklen\":8,\"ticks\":\"outside\",\"tickwidth\":2},\"colorscale\":[[0.0,\"rgb(2,4,25)\"],[0.06274509803921569,\"rgb(24,15,41)\"],[0.12549019607843137,\"rgb(47,23,57)\"],[0.18823529411764706,\"rgb(71,28,72)\"],[0.25098039215686274,\"rgb(97,30,82)\"],[0.3137254901960784,\"rgb(123,30,89)\"],[0.3764705882352941,\"rgb(150,27,91)\"],[0.4392156862745098,\"rgb(177,22,88)\"],[0.5019607843137255,\"rgb(203,26,79)\"],[0.5647058823529412,\"rgb(223,47,67)\"],[0.6274509803921569,\"rgb(236,76,61)\"],[0.6901960784313725,\"rgb(242,107,73)\"],[0.7529411764705882,\"rgb(244,135,95)\"],[0.8156862745098039,\"rgb(245,162,122)\"],[0.8784313725490196,\"rgb(246,188,153)\"],[0.9411764705882353,\"rgb(247,212,187)\"],[1.0,\"rgb(250,234,220)\"]],\"type\":\"contour\"}],\"contourcarpet\":[{\"colorbar\":{\"outlinewidth\":0,\"tickcolor\":\"rgb(36,36,36)\",\"ticklen\":8,\"ticks\":\"outside\",\"tickwidth\":2},\"type\":\"contourcarpet\"}],\"heatmap\":[{\"colorbar\":{\"outlinewidth\":0,\"tickcolor\":\"rgb(36,36,36)\",\"ticklen\":8,\"ticks\":\"outside\",\"tickwidth\":2},\"colorscale\":[[0.0,\"rgb(2,4,25)\"],[0.06274509803921569,\"rgb(24,15,41)\"],[0.12549019607843137,\"rgb(47,23,57)\"],[0.18823529411764706,\"rgb(71,28,72)\"],[0.25098039215686274,\"rgb(97,30,82)\"],[0.3137254901960784,\"rgb(123,30,89)\"],[0.3764705882352941,\"rgb(150,27,91)\"],[0.4392156862745098,\"rgb(177,22,88)\"],[0.5019607843137255,\"rgb(203,26,79)\"],[0.5647058823529412,\"rgb(223,47,67)\"],[0.6274509803921569,\"rgb(236,76,61)\"],[0.6901960784313725,\"rgb(242,107,73)\"],[0.7529411764705882,\"rgb(244,135,95)\"],[0.8156862745098039,\"rgb(245,162,122)\"],[0.8784313725490196,\"rgb(246,188,153)\"],[0.9411764705882353,\"rgb(247,212,187)\"],[1.0,\"rgb(250,234,220)\"]],\"type\":\"heatmap\"}],\"heatmapgl\":[{\"colorbar\":{\"outlinewidth\":0,\"tickcolor\":\"rgb(36,36,36)\",\"ticklen\":8,\"ticks\":\"outside\",\"tickwidth\":2},\"colorscale\":[[0.0,\"rgb(2,4,25)\"],[0.06274509803921569,\"rgb(24,15,41)\"],[0.12549019607843137,\"rgb(47,23,57)\"],[0.18823529411764706,\"rgb(71,28,72)\"],[0.25098039215686274,\"rgb(97,30,82)\"],[0.3137254901960784,\"rgb(123,30,89)\"],[0.3764705882352941,\"rgb(150,27,91)\"],[0.4392156862745098,\"rgb(177,22,88)\"],[0.5019607843137255,\"rgb(203,26,79)\"],[0.5647058823529412,\"rgb(223,47,67)\"],[0.6274509803921569,\"rgb(236,76,61)\"],[0.6901960784313725,\"rgb(242,107,73)\"],[0.7529411764705882,\"rgb(244,135,95)\"],[0.8156862745098039,\"rgb(245,162,122)\"],[0.8784313725490196,\"rgb(246,188,153)\"],[0.9411764705882353,\"rgb(247,212,187)\"],[1.0,\"rgb(250,234,220)\"]],\"type\":\"heatmapgl\"}],\"histogram\":[{\"marker\":{\"pattern\":{\"fillmode\":\"overlay\",\"size\":10,\"solidity\":0.2}},\"type\":\"histogram\"}],\"histogram2d\":[{\"colorbar\":{\"outlinewidth\":0,\"tickcolor\":\"rgb(36,36,36)\",\"ticklen\":8,\"ticks\":\"outside\",\"tickwidth\":2},\"colorscale\":[[0.0,\"rgb(2,4,25)\"],[0.06274509803921569,\"rgb(24,15,41)\"],[0.12549019607843137,\"rgb(47,23,57)\"],[0.18823529411764706,\"rgb(71,28,72)\"],[0.25098039215686274,\"rgb(97,30,82)\"],[0.3137254901960784,\"rgb(123,30,89)\"],[0.3764705882352941,\"rgb(150,27,91)\"],[0.4392156862745098,\"rgb(177,22,88)\"],[0.5019607843137255,\"rgb(203,26,79)\"],[0.5647058823529412,\"rgb(223,47,67)\"],[0.6274509803921569,\"rgb(236,76,61)\"],[0.6901960784313725,\"rgb(242,107,73)\"],[0.7529411764705882,\"rgb(244,135,95)\"],[0.8156862745098039,\"rgb(245,162,122)\"],[0.8784313725490196,\"rgb(246,188,153)\"],[0.9411764705882353,\"rgb(247,212,187)\"],[1.0,\"rgb(250,234,220)\"]],\"type\":\"histogram2d\"}],\"histogram2dcontour\":[{\"colorbar\":{\"outlinewidth\":0,\"tickcolor\":\"rgb(36,36,36)\",\"ticklen\":8,\"ticks\":\"outside\",\"tickwidth\":2},\"colorscale\":[[0.0,\"rgb(2,4,25)\"],[0.06274509803921569,\"rgb(24,15,41)\"],[0.12549019607843137,\"rgb(47,23,57)\"],[0.18823529411764706,\"rgb(71,28,72)\"],[0.25098039215686274,\"rgb(97,30,82)\"],[0.3137254901960784,\"rgb(123,30,89)\"],[0.3764705882352941,\"rgb(150,27,91)\"],[0.4392156862745098,\"rgb(177,22,88)\"],[0.5019607843137255,\"rgb(203,26,79)\"],[0.5647058823529412,\"rgb(223,47,67)\"],[0.6274509803921569,\"rgb(236,76,61)\"],[0.6901960784313725,\"rgb(242,107,73)\"],[0.7529411764705882,\"rgb(244,135,95)\"],[0.8156862745098039,\"rgb(245,162,122)\"],[0.8784313725490196,\"rgb(246,188,153)\"],[0.9411764705882353,\"rgb(247,212,187)\"],[1.0,\"rgb(250,234,220)\"]],\"type\":\"histogram2dcontour\"}],\"mesh3d\":[{\"colorbar\":{\"outlinewidth\":0,\"tickcolor\":\"rgb(36,36,36)\",\"ticklen\":8,\"ticks\":\"outside\",\"tickwidth\":2},\"type\":\"mesh3d\"}],\"parcoords\":[{\"line\":{\"colorbar\":{\"outlinewidth\":0,\"tickcolor\":\"rgb(36,36,36)\",\"ticklen\":8,\"ticks\":\"outside\",\"tickwidth\":2}},\"type\":\"parcoords\"}],\"pie\":[{\"automargin\":true,\"type\":\"pie\"}],\"scatter\":[{\"marker\":{\"colorbar\":{\"outlinewidth\":0,\"tickcolor\":\"rgb(36,36,36)\",\"ticklen\":8,\"ticks\":\"outside\",\"tickwidth\":2}},\"type\":\"scatter\"}],\"scatter3d\":[{\"line\":{\"colorbar\":{\"outlinewidth\":0,\"tickcolor\":\"rgb(36,36,36)\",\"ticklen\":8,\"ticks\":\"outside\",\"tickwidth\":2}},\"marker\":{\"colorbar\":{\"outlinewidth\":0,\"tickcolor\":\"rgb(36,36,36)\",\"ticklen\":8,\"ticks\":\"outside\",\"tickwidth\":2}},\"type\":\"scatter3d\"}],\"scattercarpet\":[{\"marker\":{\"colorbar\":{\"outlinewidth\":0,\"tickcolor\":\"rgb(36,36,36)\",\"ticklen\":8,\"ticks\":\"outside\",\"tickwidth\":2}},\"type\":\"scattercarpet\"}],\"scattergeo\":[{\"marker\":{\"colorbar\":{\"outlinewidth\":0,\"tickcolor\":\"rgb(36,36,36)\",\"ticklen\":8,\"ticks\":\"outside\",\"tickwidth\":2}},\"type\":\"scattergeo\"}],\"scattergl\":[{\"marker\":{\"colorbar\":{\"outlinewidth\":0,\"tickcolor\":\"rgb(36,36,36)\",\"ticklen\":8,\"ticks\":\"outside\",\"tickwidth\":2}},\"type\":\"scattergl\"}],\"scattermapbox\":[{\"marker\":{\"colorbar\":{\"outlinewidth\":0,\"tickcolor\":\"rgb(36,36,36)\",\"ticklen\":8,\"ticks\":\"outside\",\"tickwidth\":2}},\"type\":\"scattermapbox\"}],\"scatterpolar\":[{\"marker\":{\"colorbar\":{\"outlinewidth\":0,\"tickcolor\":\"rgb(36,36,36)\",\"ticklen\":8,\"ticks\":\"outside\",\"tickwidth\":2}},\"type\":\"scatterpolar\"}],\"scatterpolargl\":[{\"marker\":{\"colorbar\":{\"outlinewidth\":0,\"tickcolor\":\"rgb(36,36,36)\",\"ticklen\":8,\"ticks\":\"outside\",\"tickwidth\":2}},\"type\":\"scatterpolargl\"}],\"scatterternary\":[{\"marker\":{\"colorbar\":{\"outlinewidth\":0,\"tickcolor\":\"rgb(36,36,36)\",\"ticklen\":8,\"ticks\":\"outside\",\"tickwidth\":2}},\"type\":\"scatterternary\"}],\"surface\":[{\"colorbar\":{\"outlinewidth\":0,\"tickcolor\":\"rgb(36,36,36)\",\"ticklen\":8,\"ticks\":\"outside\",\"tickwidth\":2},\"colorscale\":[[0.0,\"rgb(2,4,25)\"],[0.06274509803921569,\"rgb(24,15,41)\"],[0.12549019607843137,\"rgb(47,23,57)\"],[0.18823529411764706,\"rgb(71,28,72)\"],[0.25098039215686274,\"rgb(97,30,82)\"],[0.3137254901960784,\"rgb(123,30,89)\"],[0.3764705882352941,\"rgb(150,27,91)\"],[0.4392156862745098,\"rgb(177,22,88)\"],[0.5019607843137255,\"rgb(203,26,79)\"],[0.5647058823529412,\"rgb(223,47,67)\"],[0.6274509803921569,\"rgb(236,76,61)\"],[0.6901960784313725,\"rgb(242,107,73)\"],[0.7529411764705882,\"rgb(244,135,95)\"],[0.8156862745098039,\"rgb(245,162,122)\"],[0.8784313725490196,\"rgb(246,188,153)\"],[0.9411764705882353,\"rgb(247,212,187)\"],[1.0,\"rgb(250,234,220)\"]],\"type\":\"surface\"}],\"table\":[{\"cells\":{\"fill\":{\"color\":\"rgb(231,231,240)\"},\"line\":{\"color\":\"white\"}},\"header\":{\"fill\":{\"color\":\"rgb(183,183,191)\"},\"line\":{\"color\":\"white\"}},\"type\":\"table\"}]},\"layout\":{\"annotationdefaults\":{\"arrowcolor\":\"rgb(67,103,167)\"},\"autotypenumbers\":\"strict\",\"coloraxis\":{\"colorbar\":{\"outlinewidth\":0,\"tickcolor\":\"rgb(36,36,36)\",\"ticklen\":8,\"ticks\":\"outside\",\"tickwidth\":2}},\"colorscale\":{\"sequential\":[[0.0,\"rgb(2,4,25)\"],[0.06274509803921569,\"rgb(24,15,41)\"],[0.12549019607843137,\"rgb(47,23,57)\"],[0.18823529411764706,\"rgb(71,28,72)\"],[0.25098039215686274,\"rgb(97,30,82)\"],[0.3137254901960784,\"rgb(123,30,89)\"],[0.3764705882352941,\"rgb(150,27,91)\"],[0.4392156862745098,\"rgb(177,22,88)\"],[0.5019607843137255,\"rgb(203,26,79)\"],[0.5647058823529412,\"rgb(223,47,67)\"],[0.6274509803921569,\"rgb(236,76,61)\"],[0.6901960784313725,\"rgb(242,107,73)\"],[0.7529411764705882,\"rgb(244,135,95)\"],[0.8156862745098039,\"rgb(245,162,122)\"],[0.8784313725490196,\"rgb(246,188,153)\"],[0.9411764705882353,\"rgb(247,212,187)\"],[1.0,\"rgb(250,234,220)\"]],\"sequentialminus\":[[0.0,\"rgb(2,4,25)\"],[0.06274509803921569,\"rgb(24,15,41)\"],[0.12549019607843137,\"rgb(47,23,57)\"],[0.18823529411764706,\"rgb(71,28,72)\"],[0.25098039215686274,\"rgb(97,30,82)\"],[0.3137254901960784,\"rgb(123,30,89)\"],[0.3764705882352941,\"rgb(150,27,91)\"],[0.4392156862745098,\"rgb(177,22,88)\"],[0.5019607843137255,\"rgb(203,26,79)\"],[0.5647058823529412,\"rgb(223,47,67)\"],[0.6274509803921569,\"rgb(236,76,61)\"],[0.6901960784313725,\"rgb(242,107,73)\"],[0.7529411764705882,\"rgb(244,135,95)\"],[0.8156862745098039,\"rgb(245,162,122)\"],[0.8784313725490196,\"rgb(246,188,153)\"],[0.9411764705882353,\"rgb(247,212,187)\"],[1.0,\"rgb(250,234,220)\"]]},\"colorway\":[\"rgb(76,114,176)\",\"rgb(221,132,82)\",\"rgb(85,168,104)\",\"rgb(196,78,82)\",\"rgb(129,114,179)\",\"rgb(147,120,96)\",\"rgb(218,139,195)\",\"rgb(140,140,140)\",\"rgb(204,185,116)\",\"rgb(100,181,205)\"],\"font\":{\"color\":\"rgb(36,36,36)\"},\"geo\":{\"bgcolor\":\"white\",\"lakecolor\":\"white\",\"landcolor\":\"rgb(234,234,242)\",\"showlakes\":true,\"showland\":true,\"subunitcolor\":\"white\"},\"hoverlabel\":{\"align\":\"left\"},\"hovermode\":\"closest\",\"paper_bgcolor\":\"white\",\"plot_bgcolor\":\"rgb(234,234,242)\",\"polar\":{\"angularaxis\":{\"gridcolor\":\"white\",\"linecolor\":\"white\",\"showgrid\":true,\"ticks\":\"\"},\"bgcolor\":\"rgb(234,234,242)\",\"radialaxis\":{\"gridcolor\":\"white\",\"linecolor\":\"white\",\"showgrid\":true,\"ticks\":\"\"}},\"scene\":{\"xaxis\":{\"backgroundcolor\":\"rgb(234,234,242)\",\"gridcolor\":\"white\",\"gridwidth\":2,\"linecolor\":\"white\",\"showbackground\":true,\"showgrid\":true,\"ticks\":\"\",\"zerolinecolor\":\"white\"},\"yaxis\":{\"backgroundcolor\":\"rgb(234,234,242)\",\"gridcolor\":\"white\",\"gridwidth\":2,\"linecolor\":\"white\",\"showbackground\":true,\"showgrid\":true,\"ticks\":\"\",\"zerolinecolor\":\"white\"},\"zaxis\":{\"backgroundcolor\":\"rgb(234,234,242)\",\"gridcolor\":\"white\",\"gridwidth\":2,\"linecolor\":\"white\",\"showbackground\":true,\"showgrid\":true,\"ticks\":\"\",\"zerolinecolor\":\"white\"}},\"shapedefaults\":{\"fillcolor\":\"rgb(67,103,167)\",\"line\":{\"width\":0},\"opacity\":0.5},\"ternary\":{\"aaxis\":{\"gridcolor\":\"white\",\"linecolor\":\"white\",\"showgrid\":true,\"ticks\":\"\"},\"baxis\":{\"gridcolor\":\"white\",\"linecolor\":\"white\",\"showgrid\":true,\"ticks\":\"\"},\"bgcolor\":\"rgb(234,234,242)\",\"caxis\":{\"gridcolor\":\"white\",\"linecolor\":\"white\",\"showgrid\":true,\"ticks\":\"\"}},\"xaxis\":{\"automargin\":true,\"gridcolor\":\"white\",\"linecolor\":\"white\",\"showgrid\":true,\"ticks\":\"\",\"title\":{\"standoff\":15},\"zerolinecolor\":\"white\"},\"yaxis\":{\"automargin\":true,\"gridcolor\":\"white\",\"linecolor\":\"white\",\"showgrid\":true,\"ticks\":\"\",\"title\":{\"standoff\":15},\"zerolinecolor\":\"white\"}}},\"title\":{\"text\":\"GHG emissions in Global Food Systems by Stage, 1990-2015\"},\"xaxis\":{\"anchor\":\"y\",\"domain\":[0.0,1.0],\"title\":{\"text\":\"Year\"}},\"yaxis\":{\"anchor\":\"x\",\"domain\":[0.0,1.0],\"title\":{\"text\":\"GHG Emissions\"}}},                        {\"responsive\": true}                    ).then(function(){\n",
       "                            \n",
       "var gd = document.getElementById('5306ebbe-2acf-4c52-94ae-6d78071e4d40');\n",
       "var x = new MutationObserver(function (mutations, observer) {{\n",
       "        var display = window.getComputedStyle(gd).display;\n",
       "        if (!display || display === 'none') {{\n",
       "            console.log([gd, 'removed!']);\n",
       "            Plotly.purge(gd);\n",
       "            observer.disconnect();\n",
       "        }}\n",
       "}});\n",
       "\n",
       "// Listen for the removal of the full notebook cells\n",
       "var notebookContainer = gd.closest('#notebook-container');\n",
       "if (notebookContainer) {{\n",
       "    x.observe(notebookContainer, {childList: true});\n",
       "}}\n",
       "\n",
       "// Listen for the clearing of the current output cell\n",
       "var outputEl = gd.closest('.output');\n",
       "if (outputEl) {{\n",
       "    x.observe(outputEl, {childList: true});\n",
       "}}\n",
       "\n",
       "                        })                };                });            </script>        </div>"
      ]
     },
     "metadata": {},
     "output_type": "display_data"
    },
    {
     "data": {
      "application/vnd.plotly.v1+json": {
       "config": {
        "plotlyServerURL": "https://plot.ly"
       },
       "data": [
        {
         "hovertemplate": "GHG=Carbon dioxide (CO2)<br>Year=%{x}<br>GHG Emissions=%{y}<extra></extra>",
         "legendgroup": "Carbon dioxide (CO2)",
         "line": {
          "color": "rgb(76,114,176)",
          "dash": "solid"
         },
         "marker": {
          "symbol": "circle"
         },
         "mode": "lines",
         "name": "Carbon dioxide (CO2)",
         "orientation": "v",
         "showlegend": true,
         "type": "scatter",
         "x": [
          1990,
          1991,
          1992,
          1993,
          1994,
          1995,
          1996,
          1997,
          1998,
          1999,
          2000,
          2001,
          2002,
          2003,
          2004,
          2005,
          2006,
          2007,
          2008,
          2009,
          2010,
          2011,
          2012,
          2013,
          2014,
          2015
         ],
         "xaxis": "x",
         "y": [
          9270544084.83018,
          9311715572.913548,
          9310582445.79703,
          9361766010.358738,
          9427229260.334059,
          9637080634.216242,
          9110541161.240423,
          10154225360.590584,
          9613915943.46395,
          9287096237.377504,
          9124764017.088903,
          8700798329.571884,
          9661928805.829208,
          9452237876.538546,
          9976503459.91401,
          9847317028.910221,
          9765875037.78223,
          9395489616.032768,
          9386208227.703815,
          9643775449.210789,
          9401073787.978807,
          8853988052.293356,
          8911274957.905619,
          8861773030.37729,
          9096751785.811546,
          9403480421.304676
         ],
         "yaxis": "y"
        },
        {
         "hovertemplate": "GHG=F-gases (Fluorinated)<br>Year=%{x}<br>GHG Emissions=%{y}<extra></extra>",
         "legendgroup": "F-gases (Fluorinated)",
         "line": {
          "color": "rgb(221,132,82)",
          "dash": "solid"
         },
         "marker": {
          "symbol": "circle"
         },
         "mode": "lines",
         "name": "F-gases (Fluorinated)",
         "orientation": "v",
         "showlegend": true,
         "type": "scatter",
         "x": [
          1990,
          1991,
          1992,
          1993,
          1994,
          1995,
          1996,
          1997,
          1998,
          1999,
          2000,
          2001,
          2002,
          2003,
          2004,
          2005,
          2006,
          2007,
          2008,
          2009,
          2010,
          2011,
          2012,
          2013,
          2014,
          2015
         ],
         "xaxis": "x",
         "y": [
          221811.53959600002,
          981477.308248,
          4149756.87428,
          10849295.556674,
          22152713.35136,
          37767516.392123,
          58190107.230697,
          82253286.151182,
          110231397.259505,
          141242396.645362,
          174068277.110877,
          207266822.802172,
          238768895.172563,
          271846000.72666603,
          304732058.000432,
          340159168.381638,
          370416437.688401,
          400131562.858527,
          404485104.542714,
          405930343.536248,
          405998246.684728,
          405352238.975002,
          404160714.52661,
          402981984.547849,
          402982212.774849,
          402982798.497849
         ],
         "yaxis": "y"
        },
        {
         "hovertemplate": "GHG=Methane (CH4)<br>Year=%{x}<br>GHG Emissions=%{y}<extra></extra>",
         "legendgroup": "Methane (CH4)",
         "line": {
          "color": "rgb(85,168,104)",
          "dash": "solid"
         },
         "marker": {
          "symbol": "circle"
         },
         "mode": "lines",
         "name": "Methane (CH4)",
         "orientation": "v",
         "showlegend": true,
         "type": "scatter",
         "x": [
          1990,
          1991,
          1992,
          1993,
          1994,
          1995,
          1996,
          1997,
          1998,
          1999,
          2000,
          2001,
          2002,
          2003,
          2004,
          2005,
          2006,
          2007,
          2008,
          2009,
          2010,
          2011,
          2012,
          2013,
          2014,
          2015
         ],
         "xaxis": "x",
         "y": [
          5453113410.667472,
          5455806966.669574,
          5462945116.870473,
          5408155998.655965,
          5440952340.542906,
          5468014772.7997,
          5469908582.977716,
          5432396136.55078,
          5383786097.706536,
          5409466921.40739,
          5387075018.560181,
          5385197954.975853,
          5432104485.057846,
          5499935217.158115,
          5618166718.9774475,
          5693364999.79891,
          5774113913.108916,
          5837800023.894343,
          5930975253.16083,
          5963714093.661554,
          6024052295.853082,
          6084020983.900814,
          6143039662.981755,
          6204507991.633709,
          6255766945.604212,
          6301734491.274862
         ],
         "yaxis": "y"
        },
        {
         "hovertemplate": "GHG=Nitrous oxide (N2O)<br>Year=%{x}<br>GHG Emissions=%{y}<extra></extra>",
         "legendgroup": "Nitrous oxide (N2O)",
         "line": {
          "color": "rgb(196,78,82)",
          "dash": "solid"
         },
         "marker": {
          "symbol": "circle"
         },
         "mode": "lines",
         "name": "Nitrous oxide (N2O)",
         "orientation": "v",
         "showlegend": true,
         "type": "scatter",
         "x": [
          1990,
          1991,
          1992,
          1993,
          1994,
          1995,
          1996,
          1997,
          1998,
          1999,
          2000,
          2001,
          2002,
          2003,
          2004,
          2005,
          2006,
          2007,
          2008,
          2009,
          2010,
          2011,
          2012,
          2013,
          2014,
          2015
         ],
         "xaxis": "x",
         "y": [
          1463675121.837737,
          1455199376.322654,
          1466844869.556703,
          1467040760.6026201,
          1489112859.785177,
          1517997399.548397,
          1543748342.655386,
          1528540275.821325,
          1535365587.368405,
          1546493033.170412,
          1540062274.127569,
          1546845555.0731199,
          1565705027.159332,
          1585765873.429267,
          1626352735.52138,
          1651199875.87142,
          1677457814.61858,
          1701621162.1518111,
          1689823057.203416,
          1700409461.121589,
          1728436070.69582,
          1751318880.382076,
          1755231307.836825,
          1779576054.669517,
          1787284299.637978,
          1804157440.917054
         ],
         "yaxis": "y"
        }
       ],
       "layout": {
        "legend": {
         "title": {
          "text": "GHG"
         },
         "tracegroupgap": 0
        },
        "template": {
         "data": {
          "bar": [
           {
            "error_x": {
             "color": "rgb(36,36,36)"
            },
            "error_y": {
             "color": "rgb(36,36,36)"
            },
            "marker": {
             "line": {
              "color": "rgb(234,234,242)",
              "width": 0.5
             },
             "pattern": {
              "fillmode": "overlay",
              "size": 10,
              "solidity": 0.2
             }
            },
            "type": "bar"
           }
          ],
          "barpolar": [
           {
            "marker": {
             "line": {
              "color": "rgb(234,234,242)",
              "width": 0.5
             },
             "pattern": {
              "fillmode": "overlay",
              "size": 10,
              "solidity": 0.2
             }
            },
            "type": "barpolar"
           }
          ],
          "carpet": [
           {
            "aaxis": {
             "endlinecolor": "rgb(36,36,36)",
             "gridcolor": "white",
             "linecolor": "white",
             "minorgridcolor": "white",
             "startlinecolor": "rgb(36,36,36)"
            },
            "baxis": {
             "endlinecolor": "rgb(36,36,36)",
             "gridcolor": "white",
             "linecolor": "white",
             "minorgridcolor": "white",
             "startlinecolor": "rgb(36,36,36)"
            },
            "type": "carpet"
           }
          ],
          "choropleth": [
           {
            "colorbar": {
             "outlinewidth": 0,
             "tickcolor": "rgb(36,36,36)",
             "ticklen": 8,
             "ticks": "outside",
             "tickwidth": 2
            },
            "type": "choropleth"
           }
          ],
          "contour": [
           {
            "colorbar": {
             "outlinewidth": 0,
             "tickcolor": "rgb(36,36,36)",
             "ticklen": 8,
             "ticks": "outside",
             "tickwidth": 2
            },
            "colorscale": [
             [
              0.0,
              "rgb(2,4,25)"
             ],
             [
              0.06274509803921569,
              "rgb(24,15,41)"
             ],
             [
              0.12549019607843137,
              "rgb(47,23,57)"
             ],
             [
              0.18823529411764706,
              "rgb(71,28,72)"
             ],
             [
              0.25098039215686274,
              "rgb(97,30,82)"
             ],
             [
              0.3137254901960784,
              "rgb(123,30,89)"
             ],
             [
              0.3764705882352941,
              "rgb(150,27,91)"
             ],
             [
              0.4392156862745098,
              "rgb(177,22,88)"
             ],
             [
              0.5019607843137255,
              "rgb(203,26,79)"
             ],
             [
              0.5647058823529412,
              "rgb(223,47,67)"
             ],
             [
              0.6274509803921569,
              "rgb(236,76,61)"
             ],
             [
              0.6901960784313725,
              "rgb(242,107,73)"
             ],
             [
              0.7529411764705882,
              "rgb(244,135,95)"
             ],
             [
              0.8156862745098039,
              "rgb(245,162,122)"
             ],
             [
              0.8784313725490196,
              "rgb(246,188,153)"
             ],
             [
              0.9411764705882353,
              "rgb(247,212,187)"
             ],
             [
              1.0,
              "rgb(250,234,220)"
             ]
            ],
            "type": "contour"
           }
          ],
          "contourcarpet": [
           {
            "colorbar": {
             "outlinewidth": 0,
             "tickcolor": "rgb(36,36,36)",
             "ticklen": 8,
             "ticks": "outside",
             "tickwidth": 2
            },
            "type": "contourcarpet"
           }
          ],
          "heatmap": [
           {
            "colorbar": {
             "outlinewidth": 0,
             "tickcolor": "rgb(36,36,36)",
             "ticklen": 8,
             "ticks": "outside",
             "tickwidth": 2
            },
            "colorscale": [
             [
              0.0,
              "rgb(2,4,25)"
             ],
             [
              0.06274509803921569,
              "rgb(24,15,41)"
             ],
             [
              0.12549019607843137,
              "rgb(47,23,57)"
             ],
             [
              0.18823529411764706,
              "rgb(71,28,72)"
             ],
             [
              0.25098039215686274,
              "rgb(97,30,82)"
             ],
             [
              0.3137254901960784,
              "rgb(123,30,89)"
             ],
             [
              0.3764705882352941,
              "rgb(150,27,91)"
             ],
             [
              0.4392156862745098,
              "rgb(177,22,88)"
             ],
             [
              0.5019607843137255,
              "rgb(203,26,79)"
             ],
             [
              0.5647058823529412,
              "rgb(223,47,67)"
             ],
             [
              0.6274509803921569,
              "rgb(236,76,61)"
             ],
             [
              0.6901960784313725,
              "rgb(242,107,73)"
             ],
             [
              0.7529411764705882,
              "rgb(244,135,95)"
             ],
             [
              0.8156862745098039,
              "rgb(245,162,122)"
             ],
             [
              0.8784313725490196,
              "rgb(246,188,153)"
             ],
             [
              0.9411764705882353,
              "rgb(247,212,187)"
             ],
             [
              1.0,
              "rgb(250,234,220)"
             ]
            ],
            "type": "heatmap"
           }
          ],
          "heatmapgl": [
           {
            "colorbar": {
             "outlinewidth": 0,
             "tickcolor": "rgb(36,36,36)",
             "ticklen": 8,
             "ticks": "outside",
             "tickwidth": 2
            },
            "colorscale": [
             [
              0.0,
              "rgb(2,4,25)"
             ],
             [
              0.06274509803921569,
              "rgb(24,15,41)"
             ],
             [
              0.12549019607843137,
              "rgb(47,23,57)"
             ],
             [
              0.18823529411764706,
              "rgb(71,28,72)"
             ],
             [
              0.25098039215686274,
              "rgb(97,30,82)"
             ],
             [
              0.3137254901960784,
              "rgb(123,30,89)"
             ],
             [
              0.3764705882352941,
              "rgb(150,27,91)"
             ],
             [
              0.4392156862745098,
              "rgb(177,22,88)"
             ],
             [
              0.5019607843137255,
              "rgb(203,26,79)"
             ],
             [
              0.5647058823529412,
              "rgb(223,47,67)"
             ],
             [
              0.6274509803921569,
              "rgb(236,76,61)"
             ],
             [
              0.6901960784313725,
              "rgb(242,107,73)"
             ],
             [
              0.7529411764705882,
              "rgb(244,135,95)"
             ],
             [
              0.8156862745098039,
              "rgb(245,162,122)"
             ],
             [
              0.8784313725490196,
              "rgb(246,188,153)"
             ],
             [
              0.9411764705882353,
              "rgb(247,212,187)"
             ],
             [
              1.0,
              "rgb(250,234,220)"
             ]
            ],
            "type": "heatmapgl"
           }
          ],
          "histogram": [
           {
            "marker": {
             "pattern": {
              "fillmode": "overlay",
              "size": 10,
              "solidity": 0.2
             }
            },
            "type": "histogram"
           }
          ],
          "histogram2d": [
           {
            "colorbar": {
             "outlinewidth": 0,
             "tickcolor": "rgb(36,36,36)",
             "ticklen": 8,
             "ticks": "outside",
             "tickwidth": 2
            },
            "colorscale": [
             [
              0.0,
              "rgb(2,4,25)"
             ],
             [
              0.06274509803921569,
              "rgb(24,15,41)"
             ],
             [
              0.12549019607843137,
              "rgb(47,23,57)"
             ],
             [
              0.18823529411764706,
              "rgb(71,28,72)"
             ],
             [
              0.25098039215686274,
              "rgb(97,30,82)"
             ],
             [
              0.3137254901960784,
              "rgb(123,30,89)"
             ],
             [
              0.3764705882352941,
              "rgb(150,27,91)"
             ],
             [
              0.4392156862745098,
              "rgb(177,22,88)"
             ],
             [
              0.5019607843137255,
              "rgb(203,26,79)"
             ],
             [
              0.5647058823529412,
              "rgb(223,47,67)"
             ],
             [
              0.6274509803921569,
              "rgb(236,76,61)"
             ],
             [
              0.6901960784313725,
              "rgb(242,107,73)"
             ],
             [
              0.7529411764705882,
              "rgb(244,135,95)"
             ],
             [
              0.8156862745098039,
              "rgb(245,162,122)"
             ],
             [
              0.8784313725490196,
              "rgb(246,188,153)"
             ],
             [
              0.9411764705882353,
              "rgb(247,212,187)"
             ],
             [
              1.0,
              "rgb(250,234,220)"
             ]
            ],
            "type": "histogram2d"
           }
          ],
          "histogram2dcontour": [
           {
            "colorbar": {
             "outlinewidth": 0,
             "tickcolor": "rgb(36,36,36)",
             "ticklen": 8,
             "ticks": "outside",
             "tickwidth": 2
            },
            "colorscale": [
             [
              0.0,
              "rgb(2,4,25)"
             ],
             [
              0.06274509803921569,
              "rgb(24,15,41)"
             ],
             [
              0.12549019607843137,
              "rgb(47,23,57)"
             ],
             [
              0.18823529411764706,
              "rgb(71,28,72)"
             ],
             [
              0.25098039215686274,
              "rgb(97,30,82)"
             ],
             [
              0.3137254901960784,
              "rgb(123,30,89)"
             ],
             [
              0.3764705882352941,
              "rgb(150,27,91)"
             ],
             [
              0.4392156862745098,
              "rgb(177,22,88)"
             ],
             [
              0.5019607843137255,
              "rgb(203,26,79)"
             ],
             [
              0.5647058823529412,
              "rgb(223,47,67)"
             ],
             [
              0.6274509803921569,
              "rgb(236,76,61)"
             ],
             [
              0.6901960784313725,
              "rgb(242,107,73)"
             ],
             [
              0.7529411764705882,
              "rgb(244,135,95)"
             ],
             [
              0.8156862745098039,
              "rgb(245,162,122)"
             ],
             [
              0.8784313725490196,
              "rgb(246,188,153)"
             ],
             [
              0.9411764705882353,
              "rgb(247,212,187)"
             ],
             [
              1.0,
              "rgb(250,234,220)"
             ]
            ],
            "type": "histogram2dcontour"
           }
          ],
          "mesh3d": [
           {
            "colorbar": {
             "outlinewidth": 0,
             "tickcolor": "rgb(36,36,36)",
             "ticklen": 8,
             "ticks": "outside",
             "tickwidth": 2
            },
            "type": "mesh3d"
           }
          ],
          "parcoords": [
           {
            "line": {
             "colorbar": {
              "outlinewidth": 0,
              "tickcolor": "rgb(36,36,36)",
              "ticklen": 8,
              "ticks": "outside",
              "tickwidth": 2
             }
            },
            "type": "parcoords"
           }
          ],
          "pie": [
           {
            "automargin": true,
            "type": "pie"
           }
          ],
          "scatter": [
           {
            "marker": {
             "colorbar": {
              "outlinewidth": 0,
              "tickcolor": "rgb(36,36,36)",
              "ticklen": 8,
              "ticks": "outside",
              "tickwidth": 2
             }
            },
            "type": "scatter"
           }
          ],
          "scatter3d": [
           {
            "line": {
             "colorbar": {
              "outlinewidth": 0,
              "tickcolor": "rgb(36,36,36)",
              "ticklen": 8,
              "ticks": "outside",
              "tickwidth": 2
             }
            },
            "marker": {
             "colorbar": {
              "outlinewidth": 0,
              "tickcolor": "rgb(36,36,36)",
              "ticklen": 8,
              "ticks": "outside",
              "tickwidth": 2
             }
            },
            "type": "scatter3d"
           }
          ],
          "scattercarpet": [
           {
            "marker": {
             "colorbar": {
              "outlinewidth": 0,
              "tickcolor": "rgb(36,36,36)",
              "ticklen": 8,
              "ticks": "outside",
              "tickwidth": 2
             }
            },
            "type": "scattercarpet"
           }
          ],
          "scattergeo": [
           {
            "marker": {
             "colorbar": {
              "outlinewidth": 0,
              "tickcolor": "rgb(36,36,36)",
              "ticklen": 8,
              "ticks": "outside",
              "tickwidth": 2
             }
            },
            "type": "scattergeo"
           }
          ],
          "scattergl": [
           {
            "marker": {
             "colorbar": {
              "outlinewidth": 0,
              "tickcolor": "rgb(36,36,36)",
              "ticklen": 8,
              "ticks": "outside",
              "tickwidth": 2
             }
            },
            "type": "scattergl"
           }
          ],
          "scattermapbox": [
           {
            "marker": {
             "colorbar": {
              "outlinewidth": 0,
              "tickcolor": "rgb(36,36,36)",
              "ticklen": 8,
              "ticks": "outside",
              "tickwidth": 2
             }
            },
            "type": "scattermapbox"
           }
          ],
          "scatterpolar": [
           {
            "marker": {
             "colorbar": {
              "outlinewidth": 0,
              "tickcolor": "rgb(36,36,36)",
              "ticklen": 8,
              "ticks": "outside",
              "tickwidth": 2
             }
            },
            "type": "scatterpolar"
           }
          ],
          "scatterpolargl": [
           {
            "marker": {
             "colorbar": {
              "outlinewidth": 0,
              "tickcolor": "rgb(36,36,36)",
              "ticklen": 8,
              "ticks": "outside",
              "tickwidth": 2
             }
            },
            "type": "scatterpolargl"
           }
          ],
          "scatterternary": [
           {
            "marker": {
             "colorbar": {
              "outlinewidth": 0,
              "tickcolor": "rgb(36,36,36)",
              "ticklen": 8,
              "ticks": "outside",
              "tickwidth": 2
             }
            },
            "type": "scatterternary"
           }
          ],
          "surface": [
           {
            "colorbar": {
             "outlinewidth": 0,
             "tickcolor": "rgb(36,36,36)",
             "ticklen": 8,
             "ticks": "outside",
             "tickwidth": 2
            },
            "colorscale": [
             [
              0.0,
              "rgb(2,4,25)"
             ],
             [
              0.06274509803921569,
              "rgb(24,15,41)"
             ],
             [
              0.12549019607843137,
              "rgb(47,23,57)"
             ],
             [
              0.18823529411764706,
              "rgb(71,28,72)"
             ],
             [
              0.25098039215686274,
              "rgb(97,30,82)"
             ],
             [
              0.3137254901960784,
              "rgb(123,30,89)"
             ],
             [
              0.3764705882352941,
              "rgb(150,27,91)"
             ],
             [
              0.4392156862745098,
              "rgb(177,22,88)"
             ],
             [
              0.5019607843137255,
              "rgb(203,26,79)"
             ],
             [
              0.5647058823529412,
              "rgb(223,47,67)"
             ],
             [
              0.6274509803921569,
              "rgb(236,76,61)"
             ],
             [
              0.6901960784313725,
              "rgb(242,107,73)"
             ],
             [
              0.7529411764705882,
              "rgb(244,135,95)"
             ],
             [
              0.8156862745098039,
              "rgb(245,162,122)"
             ],
             [
              0.8784313725490196,
              "rgb(246,188,153)"
             ],
             [
              0.9411764705882353,
              "rgb(247,212,187)"
             ],
             [
              1.0,
              "rgb(250,234,220)"
             ]
            ],
            "type": "surface"
           }
          ],
          "table": [
           {
            "cells": {
             "fill": {
              "color": "rgb(231,231,240)"
             },
             "line": {
              "color": "white"
             }
            },
            "header": {
             "fill": {
              "color": "rgb(183,183,191)"
             },
             "line": {
              "color": "white"
             }
            },
            "type": "table"
           }
          ]
         },
         "layout": {
          "annotationdefaults": {
           "arrowcolor": "rgb(67,103,167)"
          },
          "autotypenumbers": "strict",
          "coloraxis": {
           "colorbar": {
            "outlinewidth": 0,
            "tickcolor": "rgb(36,36,36)",
            "ticklen": 8,
            "ticks": "outside",
            "tickwidth": 2
           }
          },
          "colorscale": {
           "sequential": [
            [
             0.0,
             "rgb(2,4,25)"
            ],
            [
             0.06274509803921569,
             "rgb(24,15,41)"
            ],
            [
             0.12549019607843137,
             "rgb(47,23,57)"
            ],
            [
             0.18823529411764706,
             "rgb(71,28,72)"
            ],
            [
             0.25098039215686274,
             "rgb(97,30,82)"
            ],
            [
             0.3137254901960784,
             "rgb(123,30,89)"
            ],
            [
             0.3764705882352941,
             "rgb(150,27,91)"
            ],
            [
             0.4392156862745098,
             "rgb(177,22,88)"
            ],
            [
             0.5019607843137255,
             "rgb(203,26,79)"
            ],
            [
             0.5647058823529412,
             "rgb(223,47,67)"
            ],
            [
             0.6274509803921569,
             "rgb(236,76,61)"
            ],
            [
             0.6901960784313725,
             "rgb(242,107,73)"
            ],
            [
             0.7529411764705882,
             "rgb(244,135,95)"
            ],
            [
             0.8156862745098039,
             "rgb(245,162,122)"
            ],
            [
             0.8784313725490196,
             "rgb(246,188,153)"
            ],
            [
             0.9411764705882353,
             "rgb(247,212,187)"
            ],
            [
             1.0,
             "rgb(250,234,220)"
            ]
           ],
           "sequentialminus": [
            [
             0.0,
             "rgb(2,4,25)"
            ],
            [
             0.06274509803921569,
             "rgb(24,15,41)"
            ],
            [
             0.12549019607843137,
             "rgb(47,23,57)"
            ],
            [
             0.18823529411764706,
             "rgb(71,28,72)"
            ],
            [
             0.25098039215686274,
             "rgb(97,30,82)"
            ],
            [
             0.3137254901960784,
             "rgb(123,30,89)"
            ],
            [
             0.3764705882352941,
             "rgb(150,27,91)"
            ],
            [
             0.4392156862745098,
             "rgb(177,22,88)"
            ],
            [
             0.5019607843137255,
             "rgb(203,26,79)"
            ],
            [
             0.5647058823529412,
             "rgb(223,47,67)"
            ],
            [
             0.6274509803921569,
             "rgb(236,76,61)"
            ],
            [
             0.6901960784313725,
             "rgb(242,107,73)"
            ],
            [
             0.7529411764705882,
             "rgb(244,135,95)"
            ],
            [
             0.8156862745098039,
             "rgb(245,162,122)"
            ],
            [
             0.8784313725490196,
             "rgb(246,188,153)"
            ],
            [
             0.9411764705882353,
             "rgb(247,212,187)"
            ],
            [
             1.0,
             "rgb(250,234,220)"
            ]
           ]
          },
          "colorway": [
           "rgb(76,114,176)",
           "rgb(221,132,82)",
           "rgb(85,168,104)",
           "rgb(196,78,82)",
           "rgb(129,114,179)",
           "rgb(147,120,96)",
           "rgb(218,139,195)",
           "rgb(140,140,140)",
           "rgb(204,185,116)",
           "rgb(100,181,205)"
          ],
          "font": {
           "color": "rgb(36,36,36)"
          },
          "geo": {
           "bgcolor": "white",
           "lakecolor": "white",
           "landcolor": "rgb(234,234,242)",
           "showlakes": true,
           "showland": true,
           "subunitcolor": "white"
          },
          "hoverlabel": {
           "align": "left"
          },
          "hovermode": "closest",
          "paper_bgcolor": "white",
          "plot_bgcolor": "rgb(234,234,242)",
          "polar": {
           "angularaxis": {
            "gridcolor": "white",
            "linecolor": "white",
            "showgrid": true,
            "ticks": ""
           },
           "bgcolor": "rgb(234,234,242)",
           "radialaxis": {
            "gridcolor": "white",
            "linecolor": "white",
            "showgrid": true,
            "ticks": ""
           }
          },
          "scene": {
           "xaxis": {
            "backgroundcolor": "rgb(234,234,242)",
            "gridcolor": "white",
            "gridwidth": 2,
            "linecolor": "white",
            "showbackground": true,
            "showgrid": true,
            "ticks": "",
            "zerolinecolor": "white"
           },
           "yaxis": {
            "backgroundcolor": "rgb(234,234,242)",
            "gridcolor": "white",
            "gridwidth": 2,
            "linecolor": "white",
            "showbackground": true,
            "showgrid": true,
            "ticks": "",
            "zerolinecolor": "white"
           },
           "zaxis": {
            "backgroundcolor": "rgb(234,234,242)",
            "gridcolor": "white",
            "gridwidth": 2,
            "linecolor": "white",
            "showbackground": true,
            "showgrid": true,
            "ticks": "",
            "zerolinecolor": "white"
           }
          },
          "shapedefaults": {
           "fillcolor": "rgb(67,103,167)",
           "line": {
            "width": 0
           },
           "opacity": 0.5
          },
          "ternary": {
           "aaxis": {
            "gridcolor": "white",
            "linecolor": "white",
            "showgrid": true,
            "ticks": ""
           },
           "baxis": {
            "gridcolor": "white",
            "linecolor": "white",
            "showgrid": true,
            "ticks": ""
           },
           "bgcolor": "rgb(234,234,242)",
           "caxis": {
            "gridcolor": "white",
            "linecolor": "white",
            "showgrid": true,
            "ticks": ""
           }
          },
          "xaxis": {
           "automargin": true,
           "gridcolor": "white",
           "linecolor": "white",
           "showgrid": true,
           "ticks": "",
           "title": {
            "standoff": 15
           },
           "zerolinecolor": "white"
          },
          "yaxis": {
           "automargin": true,
           "gridcolor": "white",
           "linecolor": "white",
           "showgrid": true,
           "ticks": "",
           "title": {
            "standoff": 15
           },
           "zerolinecolor": "white"
          }
         }
        },
        "title": {
         "text": "Global Food System Emissions by GHG, 1990-2015"
        },
        "xaxis": {
         "anchor": "y",
         "domain": [
          0.0,
          1.0
         ],
         "title": {
          "text": "Year"
         }
        },
        "yaxis": {
         "anchor": "x",
         "domain": [
          0.0,
          1.0
         ],
         "title": {
          "text": "GHG Emissions"
         }
        }
       }
      },
      "text/html": [
       "<div>                            <div id=\"ae45eb94-b154-4761-bdfd-4bad33603258\" class=\"plotly-graph-div\" style=\"height:525px; width:100%;\"></div>            <script type=\"text/javascript\">                require([\"plotly\"], function(Plotly) {                    window.PLOTLYENV=window.PLOTLYENV || {};                                    if (document.getElementById(\"ae45eb94-b154-4761-bdfd-4bad33603258\")) {                    Plotly.newPlot(                        \"ae45eb94-b154-4761-bdfd-4bad33603258\",                        [{\"hovertemplate\":\"GHG=Carbon dioxide (CO2)<br>Year=%{x}<br>GHG Emissions=%{y}<extra></extra>\",\"legendgroup\":\"Carbon dioxide (CO2)\",\"line\":{\"color\":\"rgb(76,114,176)\",\"dash\":\"solid\"},\"marker\":{\"symbol\":\"circle\"},\"mode\":\"lines\",\"name\":\"Carbon dioxide (CO2)\",\"orientation\":\"v\",\"showlegend\":true,\"type\":\"scatter\",\"x\":[1990,1991,1992,1993,1994,1995,1996,1997,1998,1999,2000,2001,2002,2003,2004,2005,2006,2007,2008,2009,2010,2011,2012,2013,2014,2015],\"xaxis\":\"x\",\"y\":[9270544084.83018,9311715572.913548,9310582445.79703,9361766010.358738,9427229260.334059,9637080634.216242,9110541161.240423,10154225360.590584,9613915943.46395,9287096237.377504,9124764017.088903,8700798329.571884,9661928805.829208,9452237876.538546,9976503459.91401,9847317028.910221,9765875037.78223,9395489616.032768,9386208227.703815,9643775449.210789,9401073787.978807,8853988052.293356,8911274957.905619,8861773030.37729,9096751785.811546,9403480421.304676],\"yaxis\":\"y\"},{\"hovertemplate\":\"GHG=F-gases (Fluorinated)<br>Year=%{x}<br>GHG Emissions=%{y}<extra></extra>\",\"legendgroup\":\"F-gases (Fluorinated)\",\"line\":{\"color\":\"rgb(221,132,82)\",\"dash\":\"solid\"},\"marker\":{\"symbol\":\"circle\"},\"mode\":\"lines\",\"name\":\"F-gases (Fluorinated)\",\"orientation\":\"v\",\"showlegend\":true,\"type\":\"scatter\",\"x\":[1990,1991,1992,1993,1994,1995,1996,1997,1998,1999,2000,2001,2002,2003,2004,2005,2006,2007,2008,2009,2010,2011,2012,2013,2014,2015],\"xaxis\":\"x\",\"y\":[221811.53959600002,981477.308248,4149756.87428,10849295.556674,22152713.35136,37767516.392123,58190107.230697,82253286.151182,110231397.259505,141242396.645362,174068277.110877,207266822.802172,238768895.172563,271846000.72666603,304732058.000432,340159168.381638,370416437.688401,400131562.858527,404485104.542714,405930343.536248,405998246.684728,405352238.975002,404160714.52661,402981984.547849,402982212.774849,402982798.497849],\"yaxis\":\"y\"},{\"hovertemplate\":\"GHG=Methane (CH4)<br>Year=%{x}<br>GHG Emissions=%{y}<extra></extra>\",\"legendgroup\":\"Methane (CH4)\",\"line\":{\"color\":\"rgb(85,168,104)\",\"dash\":\"solid\"},\"marker\":{\"symbol\":\"circle\"},\"mode\":\"lines\",\"name\":\"Methane (CH4)\",\"orientation\":\"v\",\"showlegend\":true,\"type\":\"scatter\",\"x\":[1990,1991,1992,1993,1994,1995,1996,1997,1998,1999,2000,2001,2002,2003,2004,2005,2006,2007,2008,2009,2010,2011,2012,2013,2014,2015],\"xaxis\":\"x\",\"y\":[5453113410.667472,5455806966.669574,5462945116.870473,5408155998.655965,5440952340.542906,5468014772.7997,5469908582.977716,5432396136.55078,5383786097.706536,5409466921.40739,5387075018.560181,5385197954.975853,5432104485.057846,5499935217.158115,5618166718.9774475,5693364999.79891,5774113913.108916,5837800023.894343,5930975253.16083,5963714093.661554,6024052295.853082,6084020983.900814,6143039662.981755,6204507991.633709,6255766945.604212,6301734491.274862],\"yaxis\":\"y\"},{\"hovertemplate\":\"GHG=Nitrous oxide (N2O)<br>Year=%{x}<br>GHG Emissions=%{y}<extra></extra>\",\"legendgroup\":\"Nitrous oxide (N2O)\",\"line\":{\"color\":\"rgb(196,78,82)\",\"dash\":\"solid\"},\"marker\":{\"symbol\":\"circle\"},\"mode\":\"lines\",\"name\":\"Nitrous oxide (N2O)\",\"orientation\":\"v\",\"showlegend\":true,\"type\":\"scatter\",\"x\":[1990,1991,1992,1993,1994,1995,1996,1997,1998,1999,2000,2001,2002,2003,2004,2005,2006,2007,2008,2009,2010,2011,2012,2013,2014,2015],\"xaxis\":\"x\",\"y\":[1463675121.837737,1455199376.322654,1466844869.556703,1467040760.6026201,1489112859.785177,1517997399.548397,1543748342.655386,1528540275.821325,1535365587.368405,1546493033.170412,1540062274.127569,1546845555.0731199,1565705027.159332,1585765873.429267,1626352735.52138,1651199875.87142,1677457814.61858,1701621162.1518111,1689823057.203416,1700409461.121589,1728436070.69582,1751318880.382076,1755231307.836825,1779576054.669517,1787284299.637978,1804157440.917054],\"yaxis\":\"y\"}],                        {\"legend\":{\"title\":{\"text\":\"GHG\"},\"tracegroupgap\":0},\"template\":{\"data\":{\"bar\":[{\"error_x\":{\"color\":\"rgb(36,36,36)\"},\"error_y\":{\"color\":\"rgb(36,36,36)\"},\"marker\":{\"line\":{\"color\":\"rgb(234,234,242)\",\"width\":0.5},\"pattern\":{\"fillmode\":\"overlay\",\"size\":10,\"solidity\":0.2}},\"type\":\"bar\"}],\"barpolar\":[{\"marker\":{\"line\":{\"color\":\"rgb(234,234,242)\",\"width\":0.5},\"pattern\":{\"fillmode\":\"overlay\",\"size\":10,\"solidity\":0.2}},\"type\":\"barpolar\"}],\"carpet\":[{\"aaxis\":{\"endlinecolor\":\"rgb(36,36,36)\",\"gridcolor\":\"white\",\"linecolor\":\"white\",\"minorgridcolor\":\"white\",\"startlinecolor\":\"rgb(36,36,36)\"},\"baxis\":{\"endlinecolor\":\"rgb(36,36,36)\",\"gridcolor\":\"white\",\"linecolor\":\"white\",\"minorgridcolor\":\"white\",\"startlinecolor\":\"rgb(36,36,36)\"},\"type\":\"carpet\"}],\"choropleth\":[{\"colorbar\":{\"outlinewidth\":0,\"tickcolor\":\"rgb(36,36,36)\",\"ticklen\":8,\"ticks\":\"outside\",\"tickwidth\":2},\"type\":\"choropleth\"}],\"contour\":[{\"colorbar\":{\"outlinewidth\":0,\"tickcolor\":\"rgb(36,36,36)\",\"ticklen\":8,\"ticks\":\"outside\",\"tickwidth\":2},\"colorscale\":[[0.0,\"rgb(2,4,25)\"],[0.06274509803921569,\"rgb(24,15,41)\"],[0.12549019607843137,\"rgb(47,23,57)\"],[0.18823529411764706,\"rgb(71,28,72)\"],[0.25098039215686274,\"rgb(97,30,82)\"],[0.3137254901960784,\"rgb(123,30,89)\"],[0.3764705882352941,\"rgb(150,27,91)\"],[0.4392156862745098,\"rgb(177,22,88)\"],[0.5019607843137255,\"rgb(203,26,79)\"],[0.5647058823529412,\"rgb(223,47,67)\"],[0.6274509803921569,\"rgb(236,76,61)\"],[0.6901960784313725,\"rgb(242,107,73)\"],[0.7529411764705882,\"rgb(244,135,95)\"],[0.8156862745098039,\"rgb(245,162,122)\"],[0.8784313725490196,\"rgb(246,188,153)\"],[0.9411764705882353,\"rgb(247,212,187)\"],[1.0,\"rgb(250,234,220)\"]],\"type\":\"contour\"}],\"contourcarpet\":[{\"colorbar\":{\"outlinewidth\":0,\"tickcolor\":\"rgb(36,36,36)\",\"ticklen\":8,\"ticks\":\"outside\",\"tickwidth\":2},\"type\":\"contourcarpet\"}],\"heatmap\":[{\"colorbar\":{\"outlinewidth\":0,\"tickcolor\":\"rgb(36,36,36)\",\"ticklen\":8,\"ticks\":\"outside\",\"tickwidth\":2},\"colorscale\":[[0.0,\"rgb(2,4,25)\"],[0.06274509803921569,\"rgb(24,15,41)\"],[0.12549019607843137,\"rgb(47,23,57)\"],[0.18823529411764706,\"rgb(71,28,72)\"],[0.25098039215686274,\"rgb(97,30,82)\"],[0.3137254901960784,\"rgb(123,30,89)\"],[0.3764705882352941,\"rgb(150,27,91)\"],[0.4392156862745098,\"rgb(177,22,88)\"],[0.5019607843137255,\"rgb(203,26,79)\"],[0.5647058823529412,\"rgb(223,47,67)\"],[0.6274509803921569,\"rgb(236,76,61)\"],[0.6901960784313725,\"rgb(242,107,73)\"],[0.7529411764705882,\"rgb(244,135,95)\"],[0.8156862745098039,\"rgb(245,162,122)\"],[0.8784313725490196,\"rgb(246,188,153)\"],[0.9411764705882353,\"rgb(247,212,187)\"],[1.0,\"rgb(250,234,220)\"]],\"type\":\"heatmap\"}],\"heatmapgl\":[{\"colorbar\":{\"outlinewidth\":0,\"tickcolor\":\"rgb(36,36,36)\",\"ticklen\":8,\"ticks\":\"outside\",\"tickwidth\":2},\"colorscale\":[[0.0,\"rgb(2,4,25)\"],[0.06274509803921569,\"rgb(24,15,41)\"],[0.12549019607843137,\"rgb(47,23,57)\"],[0.18823529411764706,\"rgb(71,28,72)\"],[0.25098039215686274,\"rgb(97,30,82)\"],[0.3137254901960784,\"rgb(123,30,89)\"],[0.3764705882352941,\"rgb(150,27,91)\"],[0.4392156862745098,\"rgb(177,22,88)\"],[0.5019607843137255,\"rgb(203,26,79)\"],[0.5647058823529412,\"rgb(223,47,67)\"],[0.6274509803921569,\"rgb(236,76,61)\"],[0.6901960784313725,\"rgb(242,107,73)\"],[0.7529411764705882,\"rgb(244,135,95)\"],[0.8156862745098039,\"rgb(245,162,122)\"],[0.8784313725490196,\"rgb(246,188,153)\"],[0.9411764705882353,\"rgb(247,212,187)\"],[1.0,\"rgb(250,234,220)\"]],\"type\":\"heatmapgl\"}],\"histogram\":[{\"marker\":{\"pattern\":{\"fillmode\":\"overlay\",\"size\":10,\"solidity\":0.2}},\"type\":\"histogram\"}],\"histogram2d\":[{\"colorbar\":{\"outlinewidth\":0,\"tickcolor\":\"rgb(36,36,36)\",\"ticklen\":8,\"ticks\":\"outside\",\"tickwidth\":2},\"colorscale\":[[0.0,\"rgb(2,4,25)\"],[0.06274509803921569,\"rgb(24,15,41)\"],[0.12549019607843137,\"rgb(47,23,57)\"],[0.18823529411764706,\"rgb(71,28,72)\"],[0.25098039215686274,\"rgb(97,30,82)\"],[0.3137254901960784,\"rgb(123,30,89)\"],[0.3764705882352941,\"rgb(150,27,91)\"],[0.4392156862745098,\"rgb(177,22,88)\"],[0.5019607843137255,\"rgb(203,26,79)\"],[0.5647058823529412,\"rgb(223,47,67)\"],[0.6274509803921569,\"rgb(236,76,61)\"],[0.6901960784313725,\"rgb(242,107,73)\"],[0.7529411764705882,\"rgb(244,135,95)\"],[0.8156862745098039,\"rgb(245,162,122)\"],[0.8784313725490196,\"rgb(246,188,153)\"],[0.9411764705882353,\"rgb(247,212,187)\"],[1.0,\"rgb(250,234,220)\"]],\"type\":\"histogram2d\"}],\"histogram2dcontour\":[{\"colorbar\":{\"outlinewidth\":0,\"tickcolor\":\"rgb(36,36,36)\",\"ticklen\":8,\"ticks\":\"outside\",\"tickwidth\":2},\"colorscale\":[[0.0,\"rgb(2,4,25)\"],[0.06274509803921569,\"rgb(24,15,41)\"],[0.12549019607843137,\"rgb(47,23,57)\"],[0.18823529411764706,\"rgb(71,28,72)\"],[0.25098039215686274,\"rgb(97,30,82)\"],[0.3137254901960784,\"rgb(123,30,89)\"],[0.3764705882352941,\"rgb(150,27,91)\"],[0.4392156862745098,\"rgb(177,22,88)\"],[0.5019607843137255,\"rgb(203,26,79)\"],[0.5647058823529412,\"rgb(223,47,67)\"],[0.6274509803921569,\"rgb(236,76,61)\"],[0.6901960784313725,\"rgb(242,107,73)\"],[0.7529411764705882,\"rgb(244,135,95)\"],[0.8156862745098039,\"rgb(245,162,122)\"],[0.8784313725490196,\"rgb(246,188,153)\"],[0.9411764705882353,\"rgb(247,212,187)\"],[1.0,\"rgb(250,234,220)\"]],\"type\":\"histogram2dcontour\"}],\"mesh3d\":[{\"colorbar\":{\"outlinewidth\":0,\"tickcolor\":\"rgb(36,36,36)\",\"ticklen\":8,\"ticks\":\"outside\",\"tickwidth\":2},\"type\":\"mesh3d\"}],\"parcoords\":[{\"line\":{\"colorbar\":{\"outlinewidth\":0,\"tickcolor\":\"rgb(36,36,36)\",\"ticklen\":8,\"ticks\":\"outside\",\"tickwidth\":2}},\"type\":\"parcoords\"}],\"pie\":[{\"automargin\":true,\"type\":\"pie\"}],\"scatter\":[{\"marker\":{\"colorbar\":{\"outlinewidth\":0,\"tickcolor\":\"rgb(36,36,36)\",\"ticklen\":8,\"ticks\":\"outside\",\"tickwidth\":2}},\"type\":\"scatter\"}],\"scatter3d\":[{\"line\":{\"colorbar\":{\"outlinewidth\":0,\"tickcolor\":\"rgb(36,36,36)\",\"ticklen\":8,\"ticks\":\"outside\",\"tickwidth\":2}},\"marker\":{\"colorbar\":{\"outlinewidth\":0,\"tickcolor\":\"rgb(36,36,36)\",\"ticklen\":8,\"ticks\":\"outside\",\"tickwidth\":2}},\"type\":\"scatter3d\"}],\"scattercarpet\":[{\"marker\":{\"colorbar\":{\"outlinewidth\":0,\"tickcolor\":\"rgb(36,36,36)\",\"ticklen\":8,\"ticks\":\"outside\",\"tickwidth\":2}},\"type\":\"scattercarpet\"}],\"scattergeo\":[{\"marker\":{\"colorbar\":{\"outlinewidth\":0,\"tickcolor\":\"rgb(36,36,36)\",\"ticklen\":8,\"ticks\":\"outside\",\"tickwidth\":2}},\"type\":\"scattergeo\"}],\"scattergl\":[{\"marker\":{\"colorbar\":{\"outlinewidth\":0,\"tickcolor\":\"rgb(36,36,36)\",\"ticklen\":8,\"ticks\":\"outside\",\"tickwidth\":2}},\"type\":\"scattergl\"}],\"scattermapbox\":[{\"marker\":{\"colorbar\":{\"outlinewidth\":0,\"tickcolor\":\"rgb(36,36,36)\",\"ticklen\":8,\"ticks\":\"outside\",\"tickwidth\":2}},\"type\":\"scattermapbox\"}],\"scatterpolar\":[{\"marker\":{\"colorbar\":{\"outlinewidth\":0,\"tickcolor\":\"rgb(36,36,36)\",\"ticklen\":8,\"ticks\":\"outside\",\"tickwidth\":2}},\"type\":\"scatterpolar\"}],\"scatterpolargl\":[{\"marker\":{\"colorbar\":{\"outlinewidth\":0,\"tickcolor\":\"rgb(36,36,36)\",\"ticklen\":8,\"ticks\":\"outside\",\"tickwidth\":2}},\"type\":\"scatterpolargl\"}],\"scatterternary\":[{\"marker\":{\"colorbar\":{\"outlinewidth\":0,\"tickcolor\":\"rgb(36,36,36)\",\"ticklen\":8,\"ticks\":\"outside\",\"tickwidth\":2}},\"type\":\"scatterternary\"}],\"surface\":[{\"colorbar\":{\"outlinewidth\":0,\"tickcolor\":\"rgb(36,36,36)\",\"ticklen\":8,\"ticks\":\"outside\",\"tickwidth\":2},\"colorscale\":[[0.0,\"rgb(2,4,25)\"],[0.06274509803921569,\"rgb(24,15,41)\"],[0.12549019607843137,\"rgb(47,23,57)\"],[0.18823529411764706,\"rgb(71,28,72)\"],[0.25098039215686274,\"rgb(97,30,82)\"],[0.3137254901960784,\"rgb(123,30,89)\"],[0.3764705882352941,\"rgb(150,27,91)\"],[0.4392156862745098,\"rgb(177,22,88)\"],[0.5019607843137255,\"rgb(203,26,79)\"],[0.5647058823529412,\"rgb(223,47,67)\"],[0.6274509803921569,\"rgb(236,76,61)\"],[0.6901960784313725,\"rgb(242,107,73)\"],[0.7529411764705882,\"rgb(244,135,95)\"],[0.8156862745098039,\"rgb(245,162,122)\"],[0.8784313725490196,\"rgb(246,188,153)\"],[0.9411764705882353,\"rgb(247,212,187)\"],[1.0,\"rgb(250,234,220)\"]],\"type\":\"surface\"}],\"table\":[{\"cells\":{\"fill\":{\"color\":\"rgb(231,231,240)\"},\"line\":{\"color\":\"white\"}},\"header\":{\"fill\":{\"color\":\"rgb(183,183,191)\"},\"line\":{\"color\":\"white\"}},\"type\":\"table\"}]},\"layout\":{\"annotationdefaults\":{\"arrowcolor\":\"rgb(67,103,167)\"},\"autotypenumbers\":\"strict\",\"coloraxis\":{\"colorbar\":{\"outlinewidth\":0,\"tickcolor\":\"rgb(36,36,36)\",\"ticklen\":8,\"ticks\":\"outside\",\"tickwidth\":2}},\"colorscale\":{\"sequential\":[[0.0,\"rgb(2,4,25)\"],[0.06274509803921569,\"rgb(24,15,41)\"],[0.12549019607843137,\"rgb(47,23,57)\"],[0.18823529411764706,\"rgb(71,28,72)\"],[0.25098039215686274,\"rgb(97,30,82)\"],[0.3137254901960784,\"rgb(123,30,89)\"],[0.3764705882352941,\"rgb(150,27,91)\"],[0.4392156862745098,\"rgb(177,22,88)\"],[0.5019607843137255,\"rgb(203,26,79)\"],[0.5647058823529412,\"rgb(223,47,67)\"],[0.6274509803921569,\"rgb(236,76,61)\"],[0.6901960784313725,\"rgb(242,107,73)\"],[0.7529411764705882,\"rgb(244,135,95)\"],[0.8156862745098039,\"rgb(245,162,122)\"],[0.8784313725490196,\"rgb(246,188,153)\"],[0.9411764705882353,\"rgb(247,212,187)\"],[1.0,\"rgb(250,234,220)\"]],\"sequentialminus\":[[0.0,\"rgb(2,4,25)\"],[0.06274509803921569,\"rgb(24,15,41)\"],[0.12549019607843137,\"rgb(47,23,57)\"],[0.18823529411764706,\"rgb(71,28,72)\"],[0.25098039215686274,\"rgb(97,30,82)\"],[0.3137254901960784,\"rgb(123,30,89)\"],[0.3764705882352941,\"rgb(150,27,91)\"],[0.4392156862745098,\"rgb(177,22,88)\"],[0.5019607843137255,\"rgb(203,26,79)\"],[0.5647058823529412,\"rgb(223,47,67)\"],[0.6274509803921569,\"rgb(236,76,61)\"],[0.6901960784313725,\"rgb(242,107,73)\"],[0.7529411764705882,\"rgb(244,135,95)\"],[0.8156862745098039,\"rgb(245,162,122)\"],[0.8784313725490196,\"rgb(246,188,153)\"],[0.9411764705882353,\"rgb(247,212,187)\"],[1.0,\"rgb(250,234,220)\"]]},\"colorway\":[\"rgb(76,114,176)\",\"rgb(221,132,82)\",\"rgb(85,168,104)\",\"rgb(196,78,82)\",\"rgb(129,114,179)\",\"rgb(147,120,96)\",\"rgb(218,139,195)\",\"rgb(140,140,140)\",\"rgb(204,185,116)\",\"rgb(100,181,205)\"],\"font\":{\"color\":\"rgb(36,36,36)\"},\"geo\":{\"bgcolor\":\"white\",\"lakecolor\":\"white\",\"landcolor\":\"rgb(234,234,242)\",\"showlakes\":true,\"showland\":true,\"subunitcolor\":\"white\"},\"hoverlabel\":{\"align\":\"left\"},\"hovermode\":\"closest\",\"paper_bgcolor\":\"white\",\"plot_bgcolor\":\"rgb(234,234,242)\",\"polar\":{\"angularaxis\":{\"gridcolor\":\"white\",\"linecolor\":\"white\",\"showgrid\":true,\"ticks\":\"\"},\"bgcolor\":\"rgb(234,234,242)\",\"radialaxis\":{\"gridcolor\":\"white\",\"linecolor\":\"white\",\"showgrid\":true,\"ticks\":\"\"}},\"scene\":{\"xaxis\":{\"backgroundcolor\":\"rgb(234,234,242)\",\"gridcolor\":\"white\",\"gridwidth\":2,\"linecolor\":\"white\",\"showbackground\":true,\"showgrid\":true,\"ticks\":\"\",\"zerolinecolor\":\"white\"},\"yaxis\":{\"backgroundcolor\":\"rgb(234,234,242)\",\"gridcolor\":\"white\",\"gridwidth\":2,\"linecolor\":\"white\",\"showbackground\":true,\"showgrid\":true,\"ticks\":\"\",\"zerolinecolor\":\"white\"},\"zaxis\":{\"backgroundcolor\":\"rgb(234,234,242)\",\"gridcolor\":\"white\",\"gridwidth\":2,\"linecolor\":\"white\",\"showbackground\":true,\"showgrid\":true,\"ticks\":\"\",\"zerolinecolor\":\"white\"}},\"shapedefaults\":{\"fillcolor\":\"rgb(67,103,167)\",\"line\":{\"width\":0},\"opacity\":0.5},\"ternary\":{\"aaxis\":{\"gridcolor\":\"white\",\"linecolor\":\"white\",\"showgrid\":true,\"ticks\":\"\"},\"baxis\":{\"gridcolor\":\"white\",\"linecolor\":\"white\",\"showgrid\":true,\"ticks\":\"\"},\"bgcolor\":\"rgb(234,234,242)\",\"caxis\":{\"gridcolor\":\"white\",\"linecolor\":\"white\",\"showgrid\":true,\"ticks\":\"\"}},\"xaxis\":{\"automargin\":true,\"gridcolor\":\"white\",\"linecolor\":\"white\",\"showgrid\":true,\"ticks\":\"\",\"title\":{\"standoff\":15},\"zerolinecolor\":\"white\"},\"yaxis\":{\"automargin\":true,\"gridcolor\":\"white\",\"linecolor\":\"white\",\"showgrid\":true,\"ticks\":\"\",\"title\":{\"standoff\":15},\"zerolinecolor\":\"white\"}}},\"title\":{\"text\":\"Global Food System Emissions by GHG, 1990-2015\"},\"xaxis\":{\"anchor\":\"y\",\"domain\":[0.0,1.0],\"title\":{\"text\":\"Year\"}},\"yaxis\":{\"anchor\":\"x\",\"domain\":[0.0,1.0],\"title\":{\"text\":\"GHG Emissions\"}}},                        {\"responsive\": true}                    ).then(function(){\n",
       "                            \n",
       "var gd = document.getElementById('ae45eb94-b154-4761-bdfd-4bad33603258');\n",
       "var x = new MutationObserver(function (mutations, observer) {{\n",
       "        var display = window.getComputedStyle(gd).display;\n",
       "        if (!display || display === 'none') {{\n",
       "            console.log([gd, 'removed!']);\n",
       "            Plotly.purge(gd);\n",
       "            observer.disconnect();\n",
       "        }}\n",
       "}});\n",
       "\n",
       "// Listen for the removal of the full notebook cells\n",
       "var notebookContainer = gd.closest('#notebook-container');\n",
       "if (notebookContainer) {{\n",
       "    x.observe(notebookContainer, {childList: true});\n",
       "}}\n",
       "\n",
       "// Listen for the clearing of the current output cell\n",
       "var outputEl = gd.closest('.output');\n",
       "if (outputEl) {{\n",
       "    x.observe(outputEl, {childList: true});\n",
       "}}\n",
       "\n",
       "                        })                };                });            </script>        </div>"
      ]
     },
     "metadata": {},
     "output_type": "display_data"
    }
   ],
   "source": [
    "df_edgar_stages = df_edgar.groupby(\n",
    "    by=[\"FS Stage Order\", \"Food System Stage\", \"Year\"]).sum()[[\"GHG Emissions\"]]\n",
    "df_edgar_stages = df_edgar_stages.reset_index()\n",
    "# Using plotly express to visualize the GHGs emitted in each food system stage\n",
    "fig = px.line(\n",
    "    df_edgar_stages,\n",
    "    x='Year',\n",
    "    y='GHG Emissions', \n",
    "    color='Food System Stage',\n",
    "    title='GHG emissions in Global Food Systems by Stage, 1990-2015')\n",
    "fig.show()\n",
    "\n",
    "df_edgar_ghgs = df_edgar.groupby(\n",
    "    by=[\"GHG\", \"Year\"]).sum()[[\"GHG Emissions\"]]\n",
    "df_edgar_ghgs = df_edgar_ghgs.reset_index()\n",
    "# Using plotly express to visualize each GHG emissions\n",
    "fig = px.line(\n",
    "    df_edgar_ghgs,\n",
    "    x='Year',\n",
    "    y='GHG Emissions', \n",
    "    color='GHG',\n",
    "    title='Global Food System Emissions by GHG, 1990-2015')\n",
    "fig.show()"
   ]
  },
  {
   "cell_type": "markdown",
   "id": "fc0c251f",
   "metadata": {
    "papermill": {
     "duration": 0.059479,
     "end_time": "2021-10-21T16:04:50.659344",
     "exception": false,
     "start_time": "2021-10-21T16:04:50.599865",
     "status": "completed"
    },
    "tags": []
   },
   "source": [
    "### Do any food products create higher emissions than others? \n",
    "Let's look at a dataset of the global average emissions for some common food products to find out. "
   ]
  },
  {
   "cell_type": "code",
   "execution_count": 10,
   "id": "38070b35",
   "metadata": {
    "collapsed": true,
    "execution": {
     "iopub.execute_input": "2021-10-21T16:04:50.792508Z",
     "iopub.status.busy": "2021-10-21T16:04:50.787472Z",
     "iopub.status.idle": "2021-10-21T16:04:50.811110Z",
     "shell.execute_reply": "2021-10-21T16:04:50.811654Z",
     "shell.execute_reply.started": "2021-10-21T15:18:40.801799Z"
    },
    "jupyter": {
     "outputs_hidden": true
    },
    "papermill": {
     "duration": 0.092902,
     "end_time": "2021-10-21T16:04:50.811830",
     "exception": false,
     "start_time": "2021-10-21T16:04:50.718928",
     "status": "completed"
    },
    "tags": []
   },
   "outputs": [
    {
     "name": "stdout",
     "output_type": "stream",
     "text": [
      "<class 'pandas.core.frame.DataFrame'>\n",
      "RangeIndex: 43 entries, 0 to 42\n",
      "Data columns (total 11 columns):\n",
      " #   Column                                     Non-Null Count  Dtype  \n",
      "---  ------                                     --------------  -----  \n",
      " 0   Food product                               43 non-null     object \n",
      " 1   Land Use Change                            43 non-null     float64\n",
      " 2   Feed                                       43 non-null     float64\n",
      " 3   Farm                                       43 non-null     float64\n",
      " 4   Processing                                 43 non-null     float64\n",
      " 5   Transport                                  43 non-null     float64\n",
      " 6   Packaging                                  43 non-null     float64\n",
      " 7   Retail                                     43 non-null     float64\n",
      " 8   Total from Land to Retail                  43 non-null     float64\n",
      " 9   Total Global Average GHG Emissions per kg  43 non-null     float64\n",
      " 10  Unit of GHG Emissions                      43 non-null     object \n",
      "dtypes: float64(9), object(2)\n",
      "memory usage: 3.8+ KB\n",
      "Index(['Food product', 'Land Use Change', 'Feed', 'Farm', 'Processing',\n",
      "       'Transport', 'Packaging', 'Retail', 'Total from Land to Retail',\n",
      "       'Total Global Average GHG Emissions per kg', 'Unit of GHG Emissions'],\n",
      "      dtype='object')\n"
     ]
    },
    {
     "data": {
      "text/html": [
       "<div>\n",
       "<style scoped>\n",
       "    .dataframe tbody tr th:only-of-type {\n",
       "        vertical-align: middle;\n",
       "    }\n",
       "\n",
       "    .dataframe tbody tr th {\n",
       "        vertical-align: top;\n",
       "    }\n",
       "\n",
       "    .dataframe thead th {\n",
       "        text-align: right;\n",
       "    }\n",
       "</style>\n",
       "<table border=\"1\" class=\"dataframe\">\n",
       "  <thead>\n",
       "    <tr style=\"text-align: right;\">\n",
       "      <th></th>\n",
       "      <th>Food product</th>\n",
       "      <th>Land Use Change</th>\n",
       "      <th>Feed</th>\n",
       "      <th>Farm</th>\n",
       "      <th>Processing</th>\n",
       "      <th>Transport</th>\n",
       "      <th>Packaging</th>\n",
       "      <th>Retail</th>\n",
       "      <th>Total from Land to Retail</th>\n",
       "      <th>Total Global Average GHG Emissions per kg</th>\n",
       "      <th>Unit of GHG Emissions</th>\n",
       "    </tr>\n",
       "  </thead>\n",
       "  <tbody>\n",
       "    <tr>\n",
       "      <th>0</th>\n",
       "      <td>Apples</td>\n",
       "      <td>-0.029</td>\n",
       "      <td>0.000</td>\n",
       "      <td>0.225</td>\n",
       "      <td>0.004</td>\n",
       "      <td>0.096</td>\n",
       "      <td>0.044</td>\n",
       "      <td>0.017</td>\n",
       "      <td>0.357</td>\n",
       "      <td>0.43</td>\n",
       "      <td>kg CO2e per kg food produced</td>\n",
       "    </tr>\n",
       "    <tr>\n",
       "      <th>1</th>\n",
       "      <td>Bananas</td>\n",
       "      <td>-0.025</td>\n",
       "      <td>0.000</td>\n",
       "      <td>0.266</td>\n",
       "      <td>0.059</td>\n",
       "      <td>0.292</td>\n",
       "      <td>0.065</td>\n",
       "      <td>0.021</td>\n",
       "      <td>0.678</td>\n",
       "      <td>0.86</td>\n",
       "      <td>kg CO2e per kg food produced</td>\n",
       "    </tr>\n",
       "    <tr>\n",
       "      <th>2</th>\n",
       "      <td>Barley</td>\n",
       "      <td>0.009</td>\n",
       "      <td>0.000</td>\n",
       "      <td>0.176</td>\n",
       "      <td>0.128</td>\n",
       "      <td>0.035</td>\n",
       "      <td>0.497</td>\n",
       "      <td>0.264</td>\n",
       "      <td>1.109</td>\n",
       "      <td>1.18</td>\n",
       "      <td>kg CO2e per kg food produced</td>\n",
       "    </tr>\n",
       "    <tr>\n",
       "      <th>3</th>\n",
       "      <td>Beef (beef herd)</td>\n",
       "      <td>16.278</td>\n",
       "      <td>1.878</td>\n",
       "      <td>39.388</td>\n",
       "      <td>1.269</td>\n",
       "      <td>0.346</td>\n",
       "      <td>0.247</td>\n",
       "      <td>0.164</td>\n",
       "      <td>59.570</td>\n",
       "      <td>99.48</td>\n",
       "      <td>kg CO2e per kg food produced</td>\n",
       "    </tr>\n",
       "    <tr>\n",
       "      <th>4</th>\n",
       "      <td>Beef (dairy herd)</td>\n",
       "      <td>0.906</td>\n",
       "      <td>2.508</td>\n",
       "      <td>15.689</td>\n",
       "      <td>1.108</td>\n",
       "      <td>0.424</td>\n",
       "      <td>0.268</td>\n",
       "      <td>0.182</td>\n",
       "      <td>21.085</td>\n",
       "      <td>33.30</td>\n",
       "      <td>kg CO2e per kg food produced</td>\n",
       "    </tr>\n",
       "  </tbody>\n",
       "</table>\n",
       "</div>"
      ],
      "text/plain": [
       "        Food product  Land Use Change   Feed    Farm  Processing  Transport  \\\n",
       "0             Apples           -0.029  0.000   0.225       0.004      0.096   \n",
       "1            Bananas           -0.025  0.000   0.266       0.059      0.292   \n",
       "2             Barley            0.009  0.000   0.176       0.128      0.035   \n",
       "3   Beef (beef herd)           16.278  1.878  39.388       1.269      0.346   \n",
       "4  Beef (dairy herd)            0.906  2.508  15.689       1.108      0.424   \n",
       "\n",
       "   Packaging  Retail  Total from Land to Retail  \\\n",
       "0      0.044   0.017                      0.357   \n",
       "1      0.065   0.021                      0.678   \n",
       "2      0.497   0.264                      1.109   \n",
       "3      0.247   0.164                     59.570   \n",
       "4      0.268   0.182                     21.085   \n",
       "\n",
       "   Total Global Average GHG Emissions per kg         Unit of GHG Emissions  \n",
       "0                                       0.43  kg CO2e per kg food produced  \n",
       "1                                       0.86  kg CO2e per kg food produced  \n",
       "2                                       1.18  kg CO2e per kg food produced  \n",
       "3                                      99.48  kg CO2e per kg food produced  \n",
       "4                                      33.30  kg CO2e per kg food produced  "
      ]
     },
     "execution_count": 10,
     "metadata": {},
     "output_type": "execute_result"
    }
   ],
   "source": [
    "df_foods.info()\n",
    "print(df_foods.columns)\n",
    "df_foods.head()"
   ]
  },
  {
   "cell_type": "markdown",
   "id": "7b485411",
   "metadata": {
    "papermill": {
     "duration": 0.060782,
     "end_time": "2021-10-21T16:04:50.932846",
     "exception": false,
     "start_time": "2021-10-21T16:04:50.872064",
     "status": "completed"
    },
    "tags": []
   },
   "source": [
    "*Expand or condense any cells throughout this notebook to explore my code!*"
   ]
  },
  {
   "cell_type": "code",
   "execution_count": 11,
   "id": "cf9b958d",
   "metadata": {
    "execution": {
     "iopub.execute_input": "2021-10-21T16:04:51.059368Z",
     "iopub.status.busy": "2021-10-21T16:04:51.058224Z",
     "iopub.status.idle": "2021-10-21T16:04:52.390834Z",
     "shell.execute_reply": "2021-10-21T16:04:52.391380Z",
     "shell.execute_reply.started": "2021-10-21T15:40:19.145121Z"
    },
    "jupyter": {
     "source_hidden": true
    },
    "papermill": {
     "duration": 1.397514,
     "end_time": "2021-10-21T16:04:52.391568",
     "exception": false,
     "start_time": "2021-10-21T16:04:50.994054",
     "status": "completed"
    },
    "tags": []
   },
   "outputs": [
    {
     "data": {
      "image/png": "[encoded data removed]",
      "text/plain": [
       "<Figure size 1440x2160 with 1 Axes>"
      ]
     },
     "metadata": {},
     "output_type": "display_data"
    }
   ],
   "source": [
    "df_foods_sc = df_foods[['Food product', 'Land Use Change', 'Feed', \n",
    "                            'Farm', 'Processing', 'Transport', 'Packaging', \n",
    "                            'Retail', 'Total from Land to Retail']\n",
    "                               ].sort_values(by='Total from Land to Retail', ascending= True)\n",
    "df_foods_sc['Farm and Feed'] = df_foods_sc['Farm'] + df_foods_sc['Feed']\n",
    "# Farm and Feed are aggregated in other datasets, adding here for consistency \n",
    "# df_foods_sc = df_foods_sc.drop(['Total from Land to Retail', 'Farm', 'Feed'], axis=1)\n",
    "df_foods_sc = df_foods_sc.rename(columns= {'Land Use Change': 'Land' })\n",
    "df_foods_sc = df_foods_sc.reset_index()\n",
    "df_foods_sc = df_foods_sc.set_index(['Food product'])\n",
    "\n",
    "## stacked bar chart test\n",
    "fields = ['Land','Farm and Feed','Processing','Transport','Packaging','Retail']\n",
    "colors = ['#1D2F6F', '#8390FA', '#6EAF46', '#FAC748', '#0072BD','#4DBEEE']\n",
    "labels = ['Land', 'Farm', 'Processing', 'Transport','Packaging','Retail']\n",
    "\n",
    "# figure and axis\n",
    "fig, ax = plt.subplots(1, figsize=(20, 30))\n",
    "\n",
    "# plot bars\n",
    "left = len(df_foods_sc) * [0]\n",
    "for idx, name in enumerate(fields):\n",
    "    plt.barh(df_foods_sc.index, df_foods_sc[name], left = left, color=colors[idx])\n",
    "    left = left + df_foods_sc[name]\n",
    "\n",
    "# title, legend, labels\n",
    "plt.title('Global average (mean) GHG emissions for food products from each stage from Land to Retail\\n', fontsize=18)\n",
    "plt.legend(labels, bbox_to_anchor=([0., 1., 1., .102]), loc='lower left', fontsize=12,\n",
    "           ncol=6,  mode=\"expand\", frameon=False)\n",
    "plt.yticks(df_foods_sc.index)\n",
    "plt.xlabel('GHG emissions (kg CO2e) per kg of food produced')\n",
    "# plt.ylabel(df_foods_sc.index)\n",
    "\n",
    "# remove spines\n",
    "ax.spines['right'].set_visible(False)\n",
    "ax.spines['left'].set_visible(False)\n",
    "ax.spines['top'].set_visible(False)\n",
    "ax.spines['bottom'].set_visible(False)\n",
    "\n",
    "# adjust limits and draw grid lines\n",
    "plt.xlim(-3, ax.get_xticks()[-1] + -9.5)\n",
    "plt.ylim(-1, ax.get_yticks()[-1] + 1.25)\n",
    "ax.set_axisbelow(True)\n",
    "ax.xaxis.grid(color='gray', linestyle='dashed')\n",
    "plt.show()"
   ]
  },
  {
   "cell_type": "code",
   "execution_count": 12,
   "id": "ea56ea29",
   "metadata": {
    "execution": {
     "iopub.execute_input": "2021-10-21T16:04:52.524551Z",
     "iopub.status.busy": "2021-10-21T16:04:52.523539Z",
     "iopub.status.idle": "2021-10-21T16:04:52.725600Z",
     "shell.execute_reply": "2021-10-21T16:04:52.726106Z",
     "shell.execute_reply.started": "2021-10-21T15:39:27.717748Z"
    },
    "jupyter": {
     "source_hidden": true
    },
    "papermill": {
     "duration": 0.270129,
     "end_time": "2021-10-21T16:04:52.726307",
     "exception": false,
     "start_time": "2021-10-21T16:04:52.456178",
     "status": "completed"
    },
    "tags": []
   },
   "outputs": [
    {
     "data": {
      "image/png": "[encoded data removed]",
      "text/plain": [
       "<Figure size 576x396 with 1 Axes>"
      ]
     },
     "metadata": {},
     "output_type": "display_data"
    }
   ],
   "source": [
    "df_foodstop = df_foods[\n",
    "    ['Food product', 'Total from Land to Retail']\n",
    "].sort_values(by='Total from Land to Retail', ascending=False)\n",
    "df_foodstop = df_foodstop.set_index('Food product')\n",
    "df_foodstop = df_foodstop.head(5)\n",
    "\n",
    "df_foodstop.plot(kind='bar')\n",
    "plt.ylabel('GHG emissions (kg CO2e per kg produced)', fontsize=12)\n",
    "plt.title('Top 5 food products by global average GHG emissions from Farm to Retail', fontsize=15)\n",
    "plt.show()"
   ]
  },
  {
   "cell_type": "markdown",
   "id": "81b9ce76",
   "metadata": {
    "papermill": {
     "duration": 0.065746,
     "end_time": "2021-10-21T16:04:52.858344",
     "exception": false,
     "start_time": "2021-10-21T16:04:52.792598",
     "status": "completed"
    },
    "tags": []
   },
   "source": [
    "### Similar to trends in top GHGs by food system stage on a global scale, Farm and Land are the highest stages for most food products\n",
    "- **Animal sourced food products** tend to have higher emissions than **food products sourced from plants** across all stages of food production  (4 of the top 5 in total are foods sourced from animals)\n",
    "- Food products sourced from **ruminants**, which includes **cattle** and **sheep**, account for significantly higher emissions across all stages, particularly in **land** and **farm** stages (* Cattle (beef) is in the top spot at more than double the average GHGs from producing 1 kg of Lamb & Mutton)\n",
    "- Some plant-sourced products like **coffee** and **chocolate** have higher emissions than some animal products like **poultry**, primarily related to the high average emissions for coffee and chocolate from the **land** stage and **farm** stage often related to heavy fertilizer use and land clearing practices\n",
    "- The land stage tends to be higher for food products from larger animals like cattle due to common occurence of land degredation and deforestation for production of feed like soy and land-clearing for production systems that are based on pasture-grazing \n",
    "- The land stage can be negative for some plant-sourced products like Nuts, due to the production process providing an emissions \"sink\" that can sequester carbon, but the land stage can be high for other plant products like **chocolate**, due to production practices like deforestation \n",
    "- The farm stage can be high even for plant products, especially when those products use intensive fertilizers like for coffee"
   ]
  },
  {
   "cell_type": "markdown",
   "id": "347d7e15",
   "metadata": {
    "papermill": {
     "duration": 0.066384,
     "end_time": "2021-10-21T16:04:52.990669",
     "exception": false,
     "start_time": "2021-10-21T16:04:52.924285",
     "status": "completed"
    },
    "tags": []
   },
   "source": [
    "### Now that we see trends emerging for food products overall, we'll dive into differences among the same food products in different production systems and commodity types \n",
    "\n",
    "We'll specifically focus on **Cattle and chicken** global GHG emissions from the U.N. GLEAM dataset."
   ]
  },
  {
   "cell_type": "code",
   "execution_count": 13,
   "id": "e0793e78",
   "metadata": {
    "collapsed": true,
    "execution": {
     "iopub.execute_input": "2021-10-21T16:04:53.159178Z",
     "iopub.status.busy": "2021-10-21T16:04:53.126102Z",
     "iopub.status.idle": "2021-10-21T16:04:53.169606Z",
     "shell.execute_reply": "2021-10-21T16:04:53.170136Z",
     "shell.execute_reply.started": "2021-10-21T15:24:15.738047Z"
    },
    "jupyter": {
     "outputs_hidden": true,
     "source_hidden": true
    },
    "papermill": {
     "duration": 0.114125,
     "end_time": "2021-10-21T16:04:53.170329",
     "exception": false,
     "start_time": "2021-10-21T16:04:53.056204",
     "status": "completed"
    },
    "tags": []
   },
   "outputs": [
    {
     "name": "stdout",
     "output_type": "stream",
     "text": [
      "<class 'pandas.core.frame.DataFrame'>\n",
      "RangeIndex: 583 entries, 0 to 582\n",
      "Data columns (total 22 columns):\n",
      " #   Column                                           Non-Null Count  Dtype  \n",
      "---  ------                                           --------------  -----  \n",
      " 0   Region                                           583 non-null    object \n",
      " 1   Animal species                                   583 non-null    object \n",
      " 2   Production system                                583 non-null    object \n",
      " 3   Commodity                                        583 non-null    object \n",
      " 4   Emission Intensity (kg CO2e per kg protein)      583 non-null    float64\n",
      " 5   Production (kg protein)                          543 non-null    float64\n",
      " 6   Total GHG emissions (kg CO2e)                    543 non-null    float64\n",
      " 7   Total CO2 emissions (kg CO2e)                    543 non-null    float64\n",
      " 8   Total CH4 emissions (kg CO2e)                    543 non-null    float64\n",
      " 9   Total N2O emissions (kg CO2e)                    543 non-null    float64\n",
      " 10  Feed, CO2 (kg CO2e)                              543 non-null    float64\n",
      " 11  Feed, CH4 (kg CO2e)                              96 non-null     float64\n",
      " 12  Feed: fertilizer & crop residues, N2O (kg CO2e)  543 non-null    float64\n",
      " 13  Feed: applied & deposited manure, N2O (kg CO2e)  543 non-null    float64\n",
      " 14  LUC: soy & palm, CO2 (kg CO2e)                   440 non-null    float64\n",
      " 15  LUC: pasture expansion, CO2 (kg CO2e)            8 non-null      float64\n",
      " 16  Enteric fermentation, CH4 (kg CO2e)              425 non-null    float64\n",
      " 17  Manure management, CH4 (kg CO2e)                 543 non-null    float64\n",
      " 18  Manure management, N2O (kg CO2e)                 528 non-null    float64\n",
      " 19  Direct energy, CO2 (kg CO2e)                     503 non-null    float64\n",
      " 20  Indirect energy, CO2 (kg CO2e)                   512 non-null    float64\n",
      " 21  Postfarm, CO2 (kg CO2e)                          491 non-null    float64\n",
      "dtypes: float64(18), object(4)\n",
      "memory usage: 100.3+ KB\n"
     ]
    },
    {
     "data": {
      "text/html": [
       "<div>\n",
       "<style scoped>\n",
       "    .dataframe tbody tr th:only-of-type {\n",
       "        vertical-align: middle;\n",
       "    }\n",
       "\n",
       "    .dataframe tbody tr th {\n",
       "        vertical-align: top;\n",
       "    }\n",
       "\n",
       "    .dataframe thead th {\n",
       "        text-align: right;\n",
       "    }\n",
       "</style>\n",
       "<table border=\"1\" class=\"dataframe\">\n",
       "  <thead>\n",
       "    <tr style=\"text-align: right;\">\n",
       "      <th></th>\n",
       "      <th>Region</th>\n",
       "      <th>Animal species</th>\n",
       "      <th>Production system</th>\n",
       "      <th>Commodity</th>\n",
       "      <th>Emission Intensity (kg CO2e per kg protein)</th>\n",
       "      <th>Production (kg protein)</th>\n",
       "      <th>Total GHG emissions (kg CO2e)</th>\n",
       "      <th>Total CO2 emissions (kg CO2e)</th>\n",
       "      <th>Total CH4 emissions (kg CO2e)</th>\n",
       "      <th>Total N2O emissions (kg CO2e)</th>\n",
       "      <th>...</th>\n",
       "      <th>Feed: fertilizer &amp; crop residues, N2O (kg CO2e)</th>\n",
       "      <th>Feed: applied &amp; deposited manure, N2O (kg CO2e)</th>\n",
       "      <th>LUC: soy &amp; palm, CO2 (kg CO2e)</th>\n",
       "      <th>LUC: pasture expansion, CO2 (kg CO2e)</th>\n",
       "      <th>Enteric fermentation, CH4 (kg CO2e)</th>\n",
       "      <th>Manure management, CH4 (kg CO2e)</th>\n",
       "      <th>Manure management, N2O (kg CO2e)</th>\n",
       "      <th>Direct energy, CO2 (kg CO2e)</th>\n",
       "      <th>Indirect energy, CO2 (kg CO2e)</th>\n",
       "      <th>Postfarm, CO2 (kg CO2e)</th>\n",
       "    </tr>\n",
       "  </thead>\n",
       "  <tbody>\n",
       "    <tr>\n",
       "      <th>0</th>\n",
       "      <td>Global</td>\n",
       "      <td>Cattle</td>\n",
       "      <td>Aggregated</td>\n",
       "      <td>Aggregated</td>\n",
       "      <td>160.3</td>\n",
       "      <td>2.916310e+10</td>\n",
       "      <td>4.674630e+12</td>\n",
       "      <td>9.449299e+11</td>\n",
       "      <td>2.648727e+12</td>\n",
       "      <td>1.080973e+12</td>\n",
       "      <td>...</td>\n",
       "      <td>1.740732e+11</td>\n",
       "      <td>7.419864e+11</td>\n",
       "      <td>4.687954e+10</td>\n",
       "      <td>3.870062e+11</td>\n",
       "      <td>2.509275e+12</td>\n",
       "      <td>1.394522e+11</td>\n",
       "      <td>1.649130e+11</td>\n",
       "      <td>4.215542e+10</td>\n",
       "      <td>1.585653e+10</td>\n",
       "      <td>9.955932e+10</td>\n",
       "    </tr>\n",
       "    <tr>\n",
       "      <th>1</th>\n",
       "      <td>Global</td>\n",
       "      <td>Cattle</td>\n",
       "      <td>Aggregated</td>\n",
       "      <td>Milk</td>\n",
       "      <td>86.7</td>\n",
       "      <td>1.888089e+10</td>\n",
       "      <td>1.637519e+12</td>\n",
       "      <td>2.756914e+11</td>\n",
       "      <td>9.676442e+11</td>\n",
       "      <td>3.941834e+11</td>\n",
       "      <td>...</td>\n",
       "      <td>7.166208e+10</td>\n",
       "      <td>2.543885e+11</td>\n",
       "      <td>1.497421e+10</td>\n",
       "      <td>NaN</td>\n",
       "      <td>8.856352e+11</td>\n",
       "      <td>8.200906e+10</td>\n",
       "      <td>6.813278e+10</td>\n",
       "      <td>2.993485e+10</td>\n",
       "      <td>3.252889e+09</td>\n",
       "      <td>8.929544e+10</td>\n",
       "    </tr>\n",
       "    <tr>\n",
       "      <th>2</th>\n",
       "      <td>Global</td>\n",
       "      <td>Cattle</td>\n",
       "      <td>Aggregated</td>\n",
       "      <td>Meat</td>\n",
       "      <td>295.4</td>\n",
       "      <td>1.028222e+10</td>\n",
       "      <td>3.037111e+12</td>\n",
       "      <td>6.692385e+11</td>\n",
       "      <td>1.681083e+12</td>\n",
       "      <td>6.867892e+11</td>\n",
       "      <td>...</td>\n",
       "      <td>1.024111e+11</td>\n",
       "      <td>4.875979e+11</td>\n",
       "      <td>3.190534e+10</td>\n",
       "      <td>3.870062e+11</td>\n",
       "      <td>1.623640e+12</td>\n",
       "      <td>5.744310e+10</td>\n",
       "      <td>9.678019e+10</td>\n",
       "      <td>1.222057e+10</td>\n",
       "      <td>1.260364e+10</td>\n",
       "      <td>1.026388e+10</td>\n",
       "    </tr>\n",
       "    <tr>\n",
       "      <th>3</th>\n",
       "      <td>Global</td>\n",
       "      <td>Cattle</td>\n",
       "      <td>Grassland systems</td>\n",
       "      <td>Aggregated</td>\n",
       "      <td>206.3</td>\n",
       "      <td>1.033817e+10</td>\n",
       "      <td>2.133054e+12</td>\n",
       "      <td>5.628062e+11</td>\n",
       "      <td>1.052965e+12</td>\n",
       "      <td>5.172829e+11</td>\n",
       "      <td>...</td>\n",
       "      <td>5.253660e+10</td>\n",
       "      <td>4.267612e+11</td>\n",
       "      <td>8.194330e+09</td>\n",
       "      <td>3.870062e+11</td>\n",
       "      <td>9.969096e+11</td>\n",
       "      <td>5.605552e+10</td>\n",
       "      <td>3.798508e+10</td>\n",
       "      <td>1.417326e+10</td>\n",
       "      <td>4.303272e+09</td>\n",
       "      <td>3.773092e+10</td>\n",
       "    </tr>\n",
       "    <tr>\n",
       "      <th>4</th>\n",
       "      <td>Global</td>\n",
       "      <td>Cattle</td>\n",
       "      <td>Grassland systems</td>\n",
       "      <td>Milk</td>\n",
       "      <td>95.0</td>\n",
       "      <td>6.940654e+09</td>\n",
       "      <td>6.592844e+11</td>\n",
       "      <td>9.286140e+10</td>\n",
       "      <td>3.713461e+11</td>\n",
       "      <td>1.950770e+11</td>\n",
       "      <td>...</td>\n",
       "      <td>2.156126e+10</td>\n",
       "      <td>1.587838e+11</td>\n",
       "      <td>2.412100e+09</td>\n",
       "      <td>NaN</td>\n",
       "      <td>3.369018e+11</td>\n",
       "      <td>3.444428e+10</td>\n",
       "      <td>1.473188e+10</td>\n",
       "      <td>1.078605e+10</td>\n",
       "      <td>9.998435e+08</td>\n",
       "      <td>3.462338e+10</td>\n",
       "    </tr>\n",
       "  </tbody>\n",
       "</table>\n",
       "<p>5 rows × 22 columns</p>\n",
       "</div>"
      ],
      "text/plain": [
       "   Region Animal species  Production system   Commodity  \\\n",
       "0  Global         Cattle         Aggregated  Aggregated   \n",
       "1  Global         Cattle         Aggregated        Milk   \n",
       "2  Global         Cattle         Aggregated        Meat   \n",
       "3  Global         Cattle  Grassland systems  Aggregated   \n",
       "4  Global         Cattle  Grassland systems        Milk   \n",
       "\n",
       "   Emission Intensity (kg CO2e per kg protein)  Production (kg protein)  \\\n",
       "0                                        160.3             2.916310e+10   \n",
       "1                                         86.7             1.888089e+10   \n",
       "2                                        295.4             1.028222e+10   \n",
       "3                                        206.3             1.033817e+10   \n",
       "4                                         95.0             6.940654e+09   \n",
       "\n",
       "   Total GHG emissions (kg CO2e)  Total CO2 emissions (kg CO2e)  \\\n",
       "0                   4.674630e+12                   9.449299e+11   \n",
       "1                   1.637519e+12                   2.756914e+11   \n",
       "2                   3.037111e+12                   6.692385e+11   \n",
       "3                   2.133054e+12                   5.628062e+11   \n",
       "4                   6.592844e+11                   9.286140e+10   \n",
       "\n",
       "   Total CH4 emissions (kg CO2e)  Total N2O emissions (kg CO2e)  ...  \\\n",
       "0                   2.648727e+12                   1.080973e+12  ...   \n",
       "1                   9.676442e+11                   3.941834e+11  ...   \n",
       "2                   1.681083e+12                   6.867892e+11  ...   \n",
       "3                   1.052965e+12                   5.172829e+11  ...   \n",
       "4                   3.713461e+11                   1.950770e+11  ...   \n",
       "\n",
       "   Feed: fertilizer & crop residues, N2O (kg CO2e)  \\\n",
       "0                                     1.740732e+11   \n",
       "1                                     7.166208e+10   \n",
       "2                                     1.024111e+11   \n",
       "3                                     5.253660e+10   \n",
       "4                                     2.156126e+10   \n",
       "\n",
       "   Feed: applied & deposited manure, N2O (kg CO2e)  \\\n",
       "0                                     7.419864e+11   \n",
       "1                                     2.543885e+11   \n",
       "2                                     4.875979e+11   \n",
       "3                                     4.267612e+11   \n",
       "4                                     1.587838e+11   \n",
       "\n",
       "   LUC: soy & palm, CO2 (kg CO2e)  LUC: pasture expansion, CO2 (kg CO2e)  \\\n",
       "0                    4.687954e+10                           3.870062e+11   \n",
       "1                    1.497421e+10                                    NaN   \n",
       "2                    3.190534e+10                           3.870062e+11   \n",
       "3                    8.194330e+09                           3.870062e+11   \n",
       "4                    2.412100e+09                                    NaN   \n",
       "\n",
       "   Enteric fermentation, CH4 (kg CO2e)  Manure management, CH4 (kg CO2e)  \\\n",
       "0                         2.509275e+12                      1.394522e+11   \n",
       "1                         8.856352e+11                      8.200906e+10   \n",
       "2                         1.623640e+12                      5.744310e+10   \n",
       "3                         9.969096e+11                      5.605552e+10   \n",
       "4                         3.369018e+11                      3.444428e+10   \n",
       "\n",
       "   Manure management, N2O (kg CO2e)  Direct energy, CO2 (kg CO2e)  \\\n",
       "0                      1.649130e+11                  4.215542e+10   \n",
       "1                      6.813278e+10                  2.993485e+10   \n",
       "2                      9.678019e+10                  1.222057e+10   \n",
       "3                      3.798508e+10                  1.417326e+10   \n",
       "4                      1.473188e+10                  1.078605e+10   \n",
       "\n",
       "   Indirect energy, CO2 (kg CO2e)  Postfarm, CO2 (kg CO2e)  \n",
       "0                    1.585653e+10             9.955932e+10  \n",
       "1                    3.252889e+09             8.929544e+10  \n",
       "2                    1.260364e+10             1.026388e+10  \n",
       "3                    4.303272e+09             3.773092e+10  \n",
       "4                    9.998435e+08             3.462338e+10  \n",
       "\n",
       "[5 rows x 22 columns]"
      ]
     },
     "execution_count": 13,
     "metadata": {},
     "output_type": "execute_result"
    }
   ],
   "source": [
    "list(df_gleam.columns)\n",
    "df_gleam.info()\n",
    "df_gleam.head()"
   ]
  },
  {
   "cell_type": "code",
   "execution_count": 14,
   "id": "b95ca14c",
   "metadata": {
    "execution": {
     "iopub.execute_input": "2021-10-21T16:04:53.316737Z",
     "iopub.status.busy": "2021-10-21T16:04:53.315626Z",
     "iopub.status.idle": "2021-10-21T16:04:53.542956Z",
     "shell.execute_reply": "2021-10-21T16:04:53.542437Z",
     "shell.execute_reply.started": "2021-10-21T15:26:17.037725Z"
    },
    "jupyter": {
     "source_hidden": true
    },
    "papermill": {
     "duration": 0.30446,
     "end_time": "2021-10-21T16:04:53.543108",
     "exception": false,
     "start_time": "2021-10-21T16:04:53.238648",
     "status": "completed"
    },
    "tags": []
   },
   "outputs": [
    {
     "data": {
      "image/png": "[encoded data removed]",
      "text/plain": [
       "<Figure size 576x396 with 1 Axes>"
      ]
     },
     "metadata": {},
     "output_type": "display_data"
    }
   ],
   "source": [
    "#select columns we need and filter for global, filter out 'aggregated' rows (duplicates) \n",
    "df_gleamglobal = df_gleam[\n",
    "    ['Region', 'Animal species', 'Production system', 'Commodity', \n",
    "     'Emission Intensity (kg CO2e per kg protein)', 'Production (kg protein)', \n",
    "     'Total GHG emissions (kg CO2e)', 'Total CO2 emissions (kg CO2e)', \n",
    "     'Total CH4 emissions (kg CO2e)', 'Total N2O emissions (kg CO2e)']].loc[\n",
    "    (df_gleam['Region']=='Global') & \n",
    "    (df_gleam['Production system']!= 'Aggregated') & \n",
    "    (df_gleam['Commodity']!= 'Aggregated')]\n",
    "\n",
    "# now we'll filter out just the animals of interest\n",
    "df_gleamglobal = df_gleamglobal[df_gleamglobal['Animal species'].isin(['Cattle', 'Chicken'])]\n",
    "df_gleamglobal = df_gleamglobal.reset_index()\n",
    "\n",
    "df_group1 = df_gleamglobal.groupby(\n",
    "    by=['Animal species']).sum()[['Total GHG emissions (kg CO2e)','Total CO2 emissions (kg CO2e)',\n",
    "                                  'Total CH4 emissions (kg CO2e)','Total N2O emissions (kg CO2e)',]]\n",
    "df_group1 = df_group1.reset_index()\n",
    "\n",
    "labels = ['Total GHG emissions', 'Carbon dioxide emissions', 'Methane emissions', 'Nitrous oxide emissions']\n",
    "cattle_totals = [4.674630e+12, 9.449299e+11, 2.648727e+12, 1.080973e+12]\n",
    "chicken_totals = [7.897593e+11, 5.487263e+11, 2.421301e+10, 2.168199e+11]\n",
    "\n",
    "x = np.arange(len(labels))  # the label locations\n",
    "width = 0.35  # the width of the bars\n",
    "\n",
    "fig, ax = plt.subplots()\n",
    "rects1 = ax.bar(x - width/2, cattle_totals, width, label='Cattle')\n",
    "rects2 = ax.bar(x + width/2, chicken_totals, width, label='Chicken')\n",
    "\n",
    "ax.set_ylabel('Annual Emissions (kg CO2e)')\n",
    "ax.set_title('Much higher emissions for Cattle than Chicken (all GHGs, especially Methane)', fontsize=12)\n",
    "ax.set_xticks(x)\n",
    "ax.set_xticklabels(labels)\n",
    "ax.legend()\n",
    "fig.tight_layout()\n",
    "plt.show()"
   ]
  },
  {
   "cell_type": "markdown",
   "id": "d34a0bd2",
   "metadata": {
    "papermill": {
     "duration": 0.069629,
     "end_time": "2021-10-21T16:04:53.681011",
     "exception": false,
     "start_time": "2021-10-21T16:04:53.611382",
     "status": "completed"
    },
    "tags": []
   },
   "source": [
    "*Context on filtering out 'aggregated' rows:  aggregated values in either production system or commodity are duplicates. Example using the below*:\n",
    "- A) *Animal species: Cattle*, *Production system: Grassland systems*, *Commodity: Aggregated* \n",
    "- B) *Animal species: Cattle*, *Production system: Grassland systems*, *Commodity: Milk*  \n",
    "- C) *Animal species: Cattle*, *Production system: Grassland systems*, *Commodity: Meat*\n",
    "\n",
    "*The value of A in the emission intensity column is the average of B and C. \n",
    "The value of all other columns is the aggregate value of B and C.*\n",
    "*Anything that's identified as an 'Aggregate' production system or commodity is literally an aggregate, so they'd only represent duplicate data for our purposes.*\n",
    "\n",
    "Cattle meat production creates higher emissions from grassland systems and overall, as it contributes the highest level of emissions of any food product seen here and across other measures and food system stages. This and other sources of data help illuminate areas for producers to reduce emissions through different production systems."
   ]
  },
  {
   "cell_type": "code",
   "execution_count": 15,
   "id": "5eab6f50",
   "metadata": {
    "execution": {
     "iopub.execute_input": "2021-10-21T16:04:53.824540Z",
     "iopub.status.busy": "2021-10-21T16:04:53.823844Z",
     "iopub.status.idle": "2021-10-21T16:04:54.113100Z",
     "shell.execute_reply": "2021-10-21T16:04:54.112561Z",
     "shell.execute_reply.started": "2021-10-21T15:30:28.125676Z"
    },
    "jupyter": {
     "source_hidden": true
    },
    "papermill": {
     "duration": 0.361456,
     "end_time": "2021-10-21T16:04:54.113251",
     "exception": false,
     "start_time": "2021-10-21T16:04:53.751795",
     "status": "completed"
    },
    "tags": []
   },
   "outputs": [
    {
     "data": {
      "image/png": "[encoded data removed]",
      "text/plain": [
       "<Figure size 576x396 with 1 Axes>"
      ]
     },
     "metadata": {},
     "output_type": "display_data"
    }
   ],
   "source": [
    "df_gleamcattle = df_gleam[df_gleam['Animal species'].isin(['Cattle'])]\n",
    "df_gleamcattle_agg = df_gleamcattle.loc[\n",
    "    (df_gleamcattle['Production system']== 'Aggregated') & \n",
    "    (df_gleamcattle['Commodity']== 'Aggregated')]\n",
    "df_gleamcattle_agg = df_gleamcattle_agg.drop(['Animal species','Production system',\n",
    "                                              'Commodity','Feed, CH4 (kg CO2e)'], axis=1)\n",
    "\n",
    "emissions_prod = df_gleamglobal[['Animal species', 'Production system', 'Commodity', \n",
    "                                      'Total CO2 emissions (kg CO2e)', 'Total CH4 emissions (kg CO2e)', \n",
    "                           'Total N2O emissions (kg CO2e)', 'Total GHG emissions (kg CO2e)']].loc[\n",
    "    (df_gleamglobal['Animal species']== 'Cattle') & (df_gleamglobal['Commodity']== 'Meat')].set_index(\n",
    "    'Production system').sort_values(by='Total GHG emissions (kg CO2e)', ascending=True).plot(kind='barh')\n",
    "plt.title('Global emissions are highest from cattle produced in grassland systems', fontsize=18)\n",
    "plt.show()"
   ]
  },
  {
   "cell_type": "code",
   "execution_count": 16,
   "id": "6b9189a1",
   "metadata": {
    "execution": {
     "iopub.execute_input": "2021-10-21T16:04:54.262658Z",
     "iopub.status.busy": "2021-10-21T16:04:54.261909Z",
     "iopub.status.idle": "2021-10-21T16:04:54.924297Z",
     "shell.execute_reply": "2021-10-21T16:04:54.923754Z",
     "shell.execute_reply.started": "2021-10-21T15:31:07.805166Z"
    },
    "jupyter": {
     "source_hidden": true
    },
    "papermill": {
     "duration": 0.740879,
     "end_time": "2021-10-21T16:04:54.924454",
     "exception": false,
     "start_time": "2021-10-21T16:04:54.183575",
     "status": "completed"
    },
    "tags": []
   },
   "outputs": [
    {
     "data": {
      "image/png": "[encoded data removed]",
      "text/plain": [
       "<Figure size 576x396 with 1 Axes>"
      ]
     },
     "metadata": {},
     "output_type": "display_data"
    },
    {
     "data": {
      "image/png": "[encoded data removed]",
      "text/plain": [
       "<Figure size 576x396 with 1 Axes>"
      ]
     },
     "metadata": {},
     "output_type": "display_data"
    }
   ],
   "source": [
    "df_gleamcattle_aggT = df_gleamcattle_agg[['Region', 'Total GHG emissions (kg CO2e)', 'Total CH4 emissions (kg CO2e)', \n",
    "                                          'Total CO2 emissions (kg CO2e)', 'Total N2O emissions (kg CO2e)']].loc[\n",
    "    (df_gleamcattle_agg['Region']!= 'Global')].set_index('Region').sort_values(\n",
    "    by= 'Total GHG emissions (kg CO2e)', ascending=True).plot(kind='barh')\n",
    "plt.title('Total GHGs from Cattle production is highest in Latin America & the Caribbean',fontsize=12)\n",
    "plt.show()\n",
    "\n",
    "df_gleamcattleT = df_gleamcattle_agg[['Region', 'Emission Intensity (kg CO2e per kg protein)']].loc[\n",
    "    (df_gleamcattle_agg['Region']!= 'Global')].set_index('Region').sort_values(\n",
    "    by= 'Emission Intensity (kg CO2e per kg protein)', ascending=True).plot(kind='barh')\n",
    "plt.title('Cattle Emission Intensity (kg of emissions CO2e per kg protein) is highest in Sub-Saharan Africa',fontsize=12)\n",
    "plt.show()"
   ]
  },
  {
   "cell_type": "markdown",
   "id": "5053e593",
   "metadata": {
    "papermill": {
     "duration": 0.073582,
     "end_time": "2021-10-21T16:04:55.070800",
     "exception": false,
     "start_time": "2021-10-21T16:04:54.997218",
     "status": "completed"
    },
    "tags": []
   },
   "source": [
    "*To interact with the data and discover more insights, head over to my project on Tableau public:*\n",
    "## [Low Hanging Fruit: Sustainable food opportunities to combat climate change](https://public.tableau.com/app/profile/amanda.knudsen/viz/FoodProduction07/LowHangingFruit)"
   ]
  },
  {
   "cell_type": "code",
   "execution_count": null,
   "id": "ea939468",
   "metadata": {
    "papermill": {
     "duration": 0.073789,
     "end_time": "2021-10-21T16:04:55.220893",
     "exception": false,
     "start_time": "2021-10-21T16:04:55.147104",
     "status": "completed"
    },
    "tags": []
   },
   "outputs": [],
   "source": []
  }
 ],
 "metadata": {
  "kernelspec": {
   "display_name": "Python 3",
   "language": "python",
   "name": "python3"
  },
  "language_info": {
   "codemirror_mode": {
    "name": "ipython",
    "version": 3
   },
   "file_extension": ".py",
   "mimetype": "text/x-python",
   "name": "python",
   "nbconvert_exporter": "python",
   "pygments_lexer": "ipython3",
   "version": "3.7.10"
  },
  "papermill": {
   "default_parameters": {},
   "duration": 20.646663,
   "end_time": "2021-10-21T16:04:56.108627",
   "environment_variables": {},
   "exception": null,
   "input_path": "__notebook__.ipynb",
   "output_path": "__notebook__.ipynb",
   "parameters": {},
   "start_time": "2021-10-21T16:04:35.461964",
   "version": "2.3.3"
  }
 },
 "nbformat": 4,
 "nbformat_minor": 5
}
