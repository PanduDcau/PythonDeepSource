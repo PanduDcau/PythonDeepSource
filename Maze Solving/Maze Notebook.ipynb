{
 "cells": [
  {
   "cell_type": "code",
   "execution_count": 42,
   "metadata": {},
   "outputs": [],
   "source": [
    "import heapq\n",
    "import cv2\n",
    "import matplotlib.pyplot as plt\n",
    "import numpy as np"
   ]
  },
  {
   "cell_type": "code",
   "execution_count": 43,
   "metadata": {},
   "outputs": [],
   "source": [
    "#Helper functions and classes\n",
    "class Vertex:\n",
    "    def __init__(self,x_coord,y_coord):\n",
    "        self.x=x_coord\n",
    "        self.y=y_coord\n",
    "        self.d=float('inf') #distance from source\n",
    "        self.parent_x=None\n",
    "        self.parent_y=None\n",
    "        self.processed=False\n",
    "        self.index_in_queue=None\n",
    "\n",
    "#Return neighbor directly above, below, right, and left\n",
    "def get_neighbors(mat,r,c):\n",
    "    shape=mat.shape\n",
    "    neighbors=[]\n",
    "    #ensure neighbors are within image boundaries\n",
    "    if r > 0 and not mat[r-1][c].processed:\n",
    "         neighbors.append(mat[r-1][c])\n",
    "    if r < shape[0] - 1 and not mat[r+1][c].processed:\n",
    "            neighbors.append(mat[r+1][c])\n",
    "    if c > 0 and not mat[r][c-1].processed:\n",
    "        neighbors.append(mat[r][c-1])\n",
    "    if c < shape[1] - 1 and not mat[r][c+1].processed:\n",
    "            neighbors.append(mat[r][c+1])\n",
    "    return neighbors\n",
    "\n",
    "def bubble_up(queue, index):\n",
    "    if index <= 0:\n",
    "        return queue\n",
    "    p_index=(index-1)//2\n",
    "    if queue[index].d < queue[p_index].d:\n",
    "            queue[index], queue[p_index]=queue[p_index], queue[index]\n",
    "            queue[index].index_in_queue=index\n",
    "            queue[p_index].index_in_queue=p_index\n",
    "            quque = bubble_up(queue, p_index)\n",
    "    return queue\n",
    "    \n",
    "def bubble_down(queue, index):\n",
    "    length=len(queue)\n",
    "    lc_index=2*index+1\n",
    "    rc_index=lc_index+1\n",
    "    if lc_index >= length:\n",
    "        return queue\n",
    "    if lc_index < length and rc_index >= length: #just left child\n",
    "        if queue[index].d > queue[lc_index].d:\n",
    "            queue[index], queue[lc_index]=queue[lc_index], queue[index]\n",
    "            queue[index].index_in_queue=index\n",
    "            queue[lc_index].index_in_queue=lc_index\n",
    "            queue = bubble_down(queue, lc_index)\n",
    "    else:\n",
    "        small = lc_index\n",
    "        if queue[lc_index].d > queue[rc_index].d:\n",
    "            small = rc_index\n",
    "        if queue[small].d < queue[index].d:\n",
    "            queue[index],queue[small]=queue[small],queue[index]\n",
    "            queue[index].index_in_queue=index\n",
    "            queue[small].index_in_queue=small\n",
    "            queue = bubble_down(queue, small)\n",
    "    return queue\n",
    "\n",
    "def get_distance(img,u,v):\n",
    "    return 0.1 + (float(img[v][0])-float(img[u][0]))**2+(float(img[v][1])-float(img[u][1]))**2+(float(img[v][2])-float(img[u][2]))**2\n",
    "\n",
    "def drawPath(img,path, thickness=2):\n",
    "    '''path is a list of (x,y) tuples'''\n",
    "    x0,y0=path[0]\n",
    "    for vertex in path[1:]:\n",
    "        x1,y1=vertex\n",
    "        cv2.line(img,(x0,y0),(x1,y1),(255,0,0),thickness)\n",
    "        x0,y0=vertex"
   ]
  },
  {
   "cell_type": "code",
   "execution_count": 44,
   "metadata": {},
   "outputs": [],
   "source": [
    "def find_shortest_path(img,src,dst):\n",
    "    pq=[] #min-heap priority queue\n",
    "    source_x=src[0]\n",
    "    source_y=src[1]\n",
    "    dest_x=dst[0]\n",
    "    dest_y=dst[1]\n",
    "    imagerows,imagecols=img.shape[0],img.shape[1]\n",
    "    matrix = np.full((imagerows, imagecols), None) #access by matrix[row][col]\n",
    "    for r in range(imagerows):\n",
    "        for c in range(imagecols):\n",
    "            matrix[r][c]=Vertex(c,r)\n",
    "            matrix[r][c].index_in_queue=len(pq)\n",
    "            pq.append(matrix[r][c])\n",
    "    matrix[source_y][source_x].d=0\n",
    "    pq=bubble_up(pq, matrix[source_y][source_x].index_in_queue)\n",
    "    \n",
    "    while len(pq) > 0:\n",
    "        u=pq[0]\n",
    "        u.processed=True\n",
    "        pq[0]=pq[-1]\n",
    "        pq[0].index_in_queue=0\n",
    "        pq.pop()\n",
    "        pq=bubble_down(pq,0)\n",
    "        neighbors = get_neighbors(matrix,u.y,u.x)\n",
    "        for v in neighbors:\n",
    "            dist=get_distance(img,(u.y,u.x),(v.y,v.x))\n",
    "            if u.d + dist < v.d:\n",
    "                v.d = u.d+dist\n",
    "                v.parent_x=u.x\n",
    "                v.parent_y=u.y\n",
    "                idx=v.index_in_queue\n",
    "                pq=bubble_down(pq,idx)\n",
    "                pq=bubble_up(pq,idx)\n",
    "                          \n",
    "    path=[]\n",
    "    iter_v=matrix[dest_y][dest_x]\n",
    "    path.append((dest_x,dest_y))\n",
    "    while(iter_v.y!=source_y or iter_v.x!=source_x):\n",
    "        path.append((iter_v.x,iter_v.y))\n",
    "        iter_v=matrix[iter_v.parent_y][iter_v.parent_x]\n",
    "\n",
    "        \n",
    "    path.append((source_x,source_y))\n",
    "    return path"
   ]
  },
  {
   "cell_type": "code",
   "execution_count": 45,
   "metadata": {},
   "outputs": [
    {
     "data": {
      "image/png": "[encoded data removed]",
      "text/plain": [
       "<Figure size 504x504 with 1 Axes>"
      ]
     },
     "metadata": {},
     "output_type": "display_data"
    }
   ],
   "source": [
    "img = cv2.imread('maze.png') # read the image \n",
    "cv2.circle(img,(5,220), 3, (255,0,0), -1) # add a circle at (5, 220)\n",
    "cv2.circle(img, (25,5), 3, (0,0,255), -1) # add a circle at (5,5)\n",
    "plt.figure(figsize=(7,7))\n",
    "plt.imshow(img)  \n",
    "plt.show()"
   ]
  },
  {
   "cell_type": "code",
   "execution_count": 46,
   "metadata": {},
   "outputs": [
    {
     "data": {
      "image/png": "[encoded data removed]",
      "text/plain": [
       "<Figure size 504x504 with 1 Axes>"
      ]
     },
     "metadata": {},
     "output_type": "display_data"
    }
   ],
   "source": [
    "img = cv2.imread('maze.png') # read image\n",
    "cv2.imwrite('maze-initial.png', img)\n",
    "p = find_shortest_path(img, (25,5), (5,220))\n",
    "drawPath(img,p)\n",
    "cv2.imwrite('maze-solution.png', img)\n",
    "plt.figure(figsize=(7,7))\n",
    "plt.imshow(img) # show the image on the screen \n",
    "plt.show()"
   ]
  },
  {
   "cell_type": "code",
   "execution_count": null,
   "metadata": {},
   "outputs": [],
   "source": []
  },
  {
   "cell_type": "code",
   "execution_count": null,
   "metadata": {},
   "outputs": [],
   "source": []
  }
 ],
 "metadata": {
  "kernelspec": {
   "display_name": "Python 3",
   "language": "python",
   "name": "python3"
  },
  "language_info": {
   "codemirror_mode": {
    "name": "ipython",
    "version": 3
   },
   "file_extension": ".py",
   "mimetype": "text/x-python",
   "name": "python",
   "nbconvert_exporter": "python",
   "pygments_lexer": "ipython3",
   "version": "3.6.5"
  }
 },
 "nbformat": 4,
 "nbformat_minor": 2
}
