{
 "cells": [
  {
   "cell_type": "markdown",
   "id": "df3472b0",
   "metadata": {},
   "source": [
    "## Spark Initialization"
   ]
  },
  {
   "cell_type": "code",
   "execution_count": 1,
   "id": "92d02222",
   "metadata": {},
   "outputs": [],
   "source": [
    "import findspark\n",
    "findspark.init()\n",
    "import pyspark\n",
    "import pandas as pd\n",
    "import seaborn as sns # To get graphs\n",
    "import matplotlib.pyplot as plt # To get graphs"
   ]
  },
  {
   "cell_type": "markdown",
   "id": "afaaa656",
   "metadata": {},
   "source": [
    "### Spark Session Creation"
   ]
  },
  {
   "cell_type": "code",
   "execution_count": 2,
   "id": "94e14637",
   "metadata": {},
   "outputs": [],
   "source": [
    "from pyspark.sql import SparkSession\n",
    "spark = SparkSession.builder.master(\"local[1]\") \\\n",
    "                    .appName('ModelVal') \\\n",
    "                    .getOrCreate()"
   ]
  },
  {
   "cell_type": "code",
   "execution_count": 3,
   "id": "60d2277b",
   "metadata": {
    "scrolled": true
   },
   "outputs": [
    {
     "data": {
      "text/html": [
       "\n",
       "            <div>\n",
       "                <p><b>SparkSession - in-memory</b></p>\n",
       "                \n",
       "        <div>\n",
       "            <p><b>SparkContext</b></p>\n",
       "\n",
       "            <p><a href=\"http://PanduDCAU-Multiverse:4041\">Spark UI</a></p>\n",
       "\n",
       "            <dl>\n",
       "              <dt>Version</dt>\n",
       "                <dd><code>v3.1.2</code></dd>\n",
       "              <dt>Master</dt>\n",
       "                <dd><code>local[1]</code></dd>\n",
       "              <dt>AppName</dt>\n",
       "                <dd><code>ModelVal</code></dd>\n",
       "            </dl>\n",
       "        </div>\n",
       "        \n",
       "            </div>\n",
       "        "
      ],
      "text/plain": [
       "<pyspark.sql.session.SparkSession at 0x14c079cd4c0>"
      ]
     },
     "execution_count": 3,
     "metadata": {},
     "output_type": "execute_result"
    }
   ],
   "source": [
    "spark"
   ]
  },
  {
   "cell_type": "markdown",
   "id": "47290a6b",
   "metadata": {},
   "source": [
    "### Spark Model"
   ]
  },
  {
   "cell_type": "code",
   "execution_count": 4,
   "id": "35c3a3f0",
   "metadata": {},
   "outputs": [],
   "source": [
    "#df = spark.read.option(\"header\" , True).csv(\"D:\\\\Vizuamatix exam\\\\final_dispatch.csv\")\n",
    "df = spark.read.option(\"header\" , True).csv(\"/Users/Asus/Documents/InternCsv/combine_final.csv\")"
   ]
  },
  {
   "cell_type": "code",
   "execution_count": 6,
   "id": "6249d1f9",
   "metadata": {},
   "outputs": [],
   "source": [
    "from pyspark.sql.functions import percent_rank\n",
    "from pyspark.sql import Window\n",
    "df_dev = df.withColumn(\"rank\", percent_rank().over(Window.partitionBy().orderBy(\"Date\",\"Time\",\"Plant\")))"
   ]
  },
  {
   "cell_type": "code",
   "execution_count": 8,
   "id": "fa3ab84a",
   "metadata": {},
   "outputs": [
    {
     "name": "stdout",
     "output_type": "stream",
     "text": [
      "+-------------+--------+----+---------------+-------------------+----------+--------------------+\n",
      "|        Plant|    Date|Time|Actual_Dispatch|Forecasted_Dispatch|Difference|                rank|\n",
      "+-------------+--------+----+---------------+-------------------+----------+--------------------+\n",
      "|     ACE EMBP|7/1/2020|0:00|              0|                 51|       -51|                 0.0|\n",
      "|   ACE Matara|7/1/2020|0:00|              0|                  0|         0|2.154475923731552...|\n",
      "|ALTAQQA-Mahi.|7/1/2020|0:00|              0|                  0|         0|4.308951847463105E-5|\n",
      "| ALTAQQA-Pol.|7/1/2020|0:00|              0|                  0|         0|6.463427771194657E-5|\n",
      "|   Asia Power|7/1/2020|0:00|              0|                 33|       -33| 8.61790369492621E-5|\n",
      "|        Barge|7/1/2020|0:00|             90|                 45|        45|1.077237961865776...|\n",
      "|         Bowa|7/1/2020|0:00|              0|                  0|         0|1.292685554238931...|\n",
      "|CEB Sup Power|7/1/2020|0:00|              0|                  0|         0|1.508133146612086...|\n",
      "|       Canyon|7/1/2020|0:00|             20|                  0|        20|1.723580738985242E-4|\n",
      "|         KCCP|7/1/2020|0:00|              0|                  0|         0|1.939028331358397E-4|\n",
      "|      KPS(GT)|7/1/2020|0:00|              0|                  0|         0|2.154475923731552...|\n",
      "|     KPS(GT7)|7/1/2020|0:00|              0|                  0|         0|2.369923516104707...|\n",
      "|         Koth|7/1/2020|0:00|             96|                 33|        63|2.585371108477863E-4|\n",
      "|       Kukule|7/1/2020|0:00|            105|                  0|       105|2.800818700851018E-4|\n",
      "|       LVPS 1|7/1/2020|0:00|            548|                270|       278|3.016266293224173E-4|\n",
      "|       LVPS 2|7/1/2020|0:00|            540|                270|       270|3.231713885597328...|\n",
      "|       LVPS 3|7/1/2020|0:00|            540|                229|       311|3.447161477970484E-4|\n",
      "|         Nlax|7/1/2020|0:00|             91|                 61|        30|3.662609070343639E-4|\n",
      "|         Olax|7/1/2020|0:00|             10|                 10|         0|3.878056662716794E-4|\n",
      "|         Polp|7/1/2020|0:00|             40|                 78|       -38|4.093504255089949...|\n",
      "+-------------+--------+----+---------------+-------------------+----------+--------------------+\n",
      "only showing top 20 rows\n",
      "\n"
     ]
    }
   ],
   "source": [
    "df_dev.show()"
   ]
  },
  {
   "cell_type": "code",
   "execution_count": 9,
   "id": "85c78c95",
   "metadata": {},
   "outputs": [
    {
     "name": "stdout",
     "output_type": "stream",
     "text": [
      "+-------------+--------+----+---------------+-------------------+----------+\n",
      "|        Plant|    Date|Time|Actual_Dispatch|Forecasted_Dispatch|Difference|\n",
      "+-------------+--------+----+---------------+-------------------+----------+\n",
      "|     ACE EMBP|7/1/2020|0:00|              0|                 51|       -51|\n",
      "|   ACE Matara|7/1/2020|0:00|              0|                  0|         0|\n",
      "|ALTAQQA-Mahi.|7/1/2020|0:00|              0|                  0|         0|\n",
      "| ALTAQQA-Pol.|7/1/2020|0:00|              0|                  0|         0|\n",
      "|   Asia Power|7/1/2020|0:00|              0|                 33|       -33|\n",
      "|        Barge|7/1/2020|0:00|             90|                 45|        45|\n",
      "|         Bowa|7/1/2020|0:00|              0|                  0|         0|\n",
      "|CEB Sup Power|7/1/2020|0:00|              0|                  0|         0|\n",
      "|       Canyon|7/1/2020|0:00|             20|                  0|        20|\n",
      "|         KCCP|7/1/2020|0:00|              0|                  0|         0|\n",
      "|      KPS(GT)|7/1/2020|0:00|              0|                  0|         0|\n",
      "|     KPS(GT7)|7/1/2020|0:00|              0|                  0|         0|\n",
      "|         Koth|7/1/2020|0:00|             96|                 33|        63|\n",
      "|       Kukule|7/1/2020|0:00|            105|                  0|       105|\n",
      "|       LVPS 1|7/1/2020|0:00|            548|                270|       278|\n",
      "|       LVPS 2|7/1/2020|0:00|            540|                270|       270|\n",
      "|       LVPS 3|7/1/2020|0:00|            540|                229|       311|\n",
      "|         Nlax|7/1/2020|0:00|             91|                 61|        30|\n",
      "|         Olax|7/1/2020|0:00|             10|                 10|         0|\n",
      "|         Polp|7/1/2020|0:00|             40|                 78|       -38|\n",
      "+-------------+--------+----+---------------+-------------------+----------+\n",
      "only showing top 20 rows\n",
      "\n"
     ]
    }
   ],
   "source": [
    "train_df = df_dev.where(\"rank <= .8\").drop(\"rank\")\n",
    "train_df.show()"
   ]
  },
  {
   "cell_type": "code",
   "execution_count": 10,
   "id": "e7ec7309",
   "metadata": {},
   "outputs": [],
   "source": [
    "train_df = train_df.withColumn(\"Difference\",train_df.Difference.cast('double'))"
   ]
  },
  {
   "cell_type": "code",
   "execution_count": 12,
   "id": "1692824e",
   "metadata": {},
   "outputs": [],
   "source": [
    "train_df = train_df.withColumn(\"Actual_Dispatch\",train_df.Actual_Dispatch.cast('double'))\n",
    "train_df = train_df.withColumn(\"Forecasted_Dispatch\",train_df.Forecasted_Dispatch.cast('double'))"
   ]
  },
  {
   "cell_type": "code",
   "execution_count": 14,
   "id": "53585c09",
   "metadata": {},
   "outputs": [
    {
     "data": {
      "text/plain": [
       "[('Plant', 'string'),\n",
       " ('Date', 'string'),\n",
       " ('Time', 'string'),\n",
       " ('Actual_Dispatch', 'double'),\n",
       " ('Forecasted_Dispatch', 'double'),\n",
       " ('Difference', 'double')]"
      ]
     },
     "execution_count": 14,
     "metadata": {},
     "output_type": "execute_result"
    }
   ],
   "source": [
    "train_df.dtypes"
   ]
  },
  {
   "cell_type": "code",
   "execution_count": 15,
   "id": "6ae67bc2",
   "metadata": {},
   "outputs": [],
   "source": [
    "from pyspark.sql.functions import col\n",
    "sumtot = train_df.groupBy(\"Plant\").sum(\"Actual_Dispatch\",\"Forecasted_Dispatch\",\"Difference\").sort(col(\"Plant\").asc())"
   ]
  },
  {
   "cell_type": "code",
   "execution_count": 16,
   "id": "c978d2ef",
   "metadata": {
    "scrolled": true
   },
   "outputs": [
    {
     "name": "stdout",
     "output_type": "stream",
     "text": [
      "+-------------+--------------------+------------------------+---------------+\n",
      "|        Plant|sum(Actual_Dispatch)|sum(Forecasted_Dispatch)|sum(Difference)|\n",
      "+-------------+--------------------+------------------------+---------------+\n",
      "|     ACE EMBP|            134409.0|                 61367.0|        73042.0|\n",
      "|   ACE Matara|             27330.0|                 14225.0|        13105.0|\n",
      "|ALTAQQA-Mahi.|              1451.0|                   650.0|          801.0|\n",
      "| ALTAQQA-Pol.|              1656.0|                   528.0|         1128.0|\n",
      "|   Asia Power|             34513.0|                 23497.0|        11016.0|\n",
      "|        Barge|            107826.0|                 56437.0|        51389.0|\n",
      "|         Bowa|             18718.0|                  9166.0|         9552.0|\n",
      "|CEB Sup Power|              7920.0|                  1316.0|         6604.0|\n",
      "|       Canyon|             26068.0|                 13899.0|        12169.0|\n",
      "|         KCCP|                 0.0|                     0.0|            0.0|\n",
      "+-------------+--------------------+------------------------+---------------+\n",
      "only showing top 10 rows\n",
      "\n"
     ]
    }
   ],
   "source": [
    "sumtot.show(10)"
   ]
  },
  {
   "cell_type": "code",
   "execution_count": 21,
   "id": "dc9619ac",
   "metadata": {},
   "outputs": [],
   "source": [
    "from pyspark.sql.functions import *\n",
    "newColumns = [\"Plant\",\"Actual_Dispatch\",\"Forecasted_Dispatch\",\"DispatchDiff\"]\n",
    "sumtot=sumtot.toDF(*newColumns)"
   ]
  },
  {
   "cell_type": "code",
   "execution_count": 22,
   "id": "de237233",
   "metadata": {},
   "outputs": [
    {
     "name": "stdout",
     "output_type": "stream",
     "text": [
      "+-------------+---------------+-------------------+------------+\n",
      "|        Plant|Actual_Dispatch|Forecasted_Dispatch|DispatchDiff|\n",
      "+-------------+---------------+-------------------+------------+\n",
      "|     ACE EMBP|       134409.0|            61367.0|     73042.0|\n",
      "|   ACE Matara|        27330.0|            14225.0|     13105.0|\n",
      "|ALTAQQA-Mahi.|         1451.0|              650.0|       801.0|\n",
      "| ALTAQQA-Pol.|         1656.0|              528.0|      1128.0|\n",
      "|   Asia Power|        34513.0|            23497.0|     11016.0|\n",
      "|        Barge|       107826.0|            56437.0|     51389.0|\n",
      "|         Bowa|        18718.0|             9166.0|      9552.0|\n",
      "|CEB Sup Power|         7920.0|             1316.0|      6604.0|\n",
      "|       Canyon|        26068.0|            13899.0|     12169.0|\n",
      "|         KCCP|            0.0|                0.0|         0.0|\n",
      "|      KPS(GT)|            0.0|                0.0|         0.0|\n",
      "|     KPS(GT7)|          350.0|                0.0|       350.0|\n",
      "|         Koth|        74709.0|            33947.0|     40762.0|\n",
      "|       Kukule|        75735.0|            38752.0|     36983.0|\n",
      "|       LVPS 1|       562074.0|           279490.0|    282584.0|\n",
      "|       LVPS 2|       556148.0|           279720.0|    276428.0|\n",
      "|       LVPS 3|       549420.0|           277356.0|    272064.0|\n",
      "|         Nlax|        93865.0|            46966.0|     46899.0|\n",
      "|         Olax|        46421.0|            26105.0|     20316.0|\n",
      "|         Polp|        78698.0|            41451.0|     37247.0|\n",
      "+-------------+---------------+-------------------+------------+\n",
      "only showing top 20 rows\n",
      "\n"
     ]
    }
   ],
   "source": [
    "sumtot.show()"
   ]
  },
  {
   "cell_type": "code",
   "execution_count": 23,
   "id": "fbef05c2",
   "metadata": {},
   "outputs": [
    {
     "data": {
      "text/html": [
       "<div>\n",
       "<style scoped>\n",
       "    .dataframe tbody tr th:only-of-type {\n",
       "        vertical-align: middle;\n",
       "    }\n",
       "\n",
       "    .dataframe tbody tr th {\n",
       "        vertical-align: top;\n",
       "    }\n",
       "\n",
       "    .dataframe thead th {\n",
       "        text-align: right;\n",
       "    }\n",
       "</style>\n",
       "<table border=\"1\" class=\"dataframe\">\n",
       "  <thead>\n",
       "    <tr style=\"text-align: right;\">\n",
       "      <th></th>\n",
       "      <th>Plant</th>\n",
       "      <th>Actual_Dispatch</th>\n",
       "      <th>Forecasted_Dispatch</th>\n",
       "      <th>DispatchDiff</th>\n",
       "    </tr>\n",
       "  </thead>\n",
       "  <tbody>\n",
       "    <tr>\n",
       "      <th>0</th>\n",
       "      <td>ACE EMBP</td>\n",
       "      <td>134409.0</td>\n",
       "      <td>61367.0</td>\n",
       "      <td>73042.0</td>\n",
       "    </tr>\n",
       "    <tr>\n",
       "      <th>1</th>\n",
       "      <td>ACE Matara</td>\n",
       "      <td>27330.0</td>\n",
       "      <td>14225.0</td>\n",
       "      <td>13105.0</td>\n",
       "    </tr>\n",
       "    <tr>\n",
       "      <th>2</th>\n",
       "      <td>ALTAQQA-Mahi.</td>\n",
       "      <td>1451.0</td>\n",
       "      <td>650.0</td>\n",
       "      <td>801.0</td>\n",
       "    </tr>\n",
       "    <tr>\n",
       "      <th>3</th>\n",
       "      <td>ALTAQQA-Pol.</td>\n",
       "      <td>1656.0</td>\n",
       "      <td>528.0</td>\n",
       "      <td>1128.0</td>\n",
       "    </tr>\n",
       "    <tr>\n",
       "      <th>4</th>\n",
       "      <td>Asia Power</td>\n",
       "      <td>34513.0</td>\n",
       "      <td>23497.0</td>\n",
       "      <td>11016.0</td>\n",
       "    </tr>\n",
       "  </tbody>\n",
       "</table>\n",
       "</div>"
      ],
      "text/plain": [
       "           Plant  Actual_Dispatch  Forecasted_Dispatch  DispatchDiff\n",
       "0       ACE EMBP         134409.0              61367.0       73042.0\n",
       "1     ACE Matara          27330.0              14225.0       13105.0\n",
       "2  ALTAQQA-Mahi.           1451.0                650.0         801.0\n",
       "3   ALTAQQA-Pol.           1656.0                528.0        1128.0\n",
       "4     Asia Power          34513.0              23497.0       11016.0"
      ]
     },
     "execution_count": 23,
     "metadata": {},
     "output_type": "execute_result"
    }
   ],
   "source": [
    "df1 = sumtot.toPandas()\n",
    "df1.head()"
   ]
  },
  {
   "cell_type": "markdown",
   "id": "cefaffc5",
   "metadata": {},
   "source": [
    "### Heatmap for Find Correlations"
   ]
  },
  {
   "cell_type": "code",
   "execution_count": 24,
   "id": "8320724f",
   "metadata": {},
   "outputs": [
    {
     "data": {
      "image/png": "[encoded data removed]",
      "text/plain": [
       "<Figure size 720x360 with 2 Axes>"
      ]
     },
     "metadata": {
      "needs_background": "light"
     },
     "output_type": "display_data"
    }
   ],
   "source": [
    "# Correlation Heatmap\n",
    "plt.figure(figsize = (10, 5))\n",
    "c = df1.corr()\n",
    "sns.heatmap(c, cmap = \"BrBG\", annot = True)\n",
    "plt.title(\"Correlation Matrix\")\n",
    "plt.show()"
   ]
  },
  {
   "cell_type": "code",
   "execution_count": 25,
   "id": "b95b5be8",
   "metadata": {},
   "outputs": [
    {
     "data": {
      "text/plain": [
       "Plant                   object\n",
       "Actual_Dispatch        float64\n",
       "Forecasted_Dispatch    float64\n",
       "DispatchDiff           float64\n",
       "dtype: object"
      ]
     },
     "execution_count": 25,
     "metadata": {},
     "output_type": "execute_result"
    }
   ],
   "source": [
    "df1.dtypes"
   ]
  },
  {
   "cell_type": "code",
   "execution_count": 49,
   "id": "9adb69d3",
   "metadata": {},
   "outputs": [],
   "source": [
    "# Dependent variables\n",
    "import numpy as np\n",
    "X=df1.iloc[:,2:].values\n",
    "y=df1['Actual_Dispatch'].values"
   ]
  },
  {
   "cell_type": "code",
   "execution_count": 50,
   "id": "7e5c21b5",
   "metadata": {},
   "outputs": [
    {
     "name": "stdout",
     "output_type": "stream",
     "text": [
      "[1.34409e+05 2.73300e+04 1.45100e+03 1.65600e+03 3.45130e+04 1.07826e+05\n",
      " 1.87180e+04 7.92000e+03 2.60680e+04 0.00000e+00 0.00000e+00 3.50000e+02\n",
      " 7.47090e+04 7.57350e+04 5.62074e+05 5.56148e+05 5.49420e+05 9.38650e+04\n",
      " 4.64210e+04 7.86980e+04 4.44440e+04 2.31230e+04 1.74150e+04 8.08780e+04\n",
      " 1.22662e+05 9.78670e+04 5.15360e+04 5.30280e+04 2.74960e+04 4.43500e+03\n",
      " 1.02960e+04 0.00000e+00 1.09570e+04 3.86180e+04 4.57308e+05 1.41130e+04]\n"
     ]
    }
   ],
   "source": [
    "#print((x))\n",
    "print((y))"
   ]
  },
  {
   "cell_type": "code",
   "execution_count": 51,
   "id": "f7d037a6",
   "metadata": {},
   "outputs": [
    {
     "data": {
      "text/plain": [
       "array([[ 0.15614829,  0.32854029],\n",
       "       [-0.43741911, -0.4249838 ],\n",
       "       [-0.60834264, -0.57966889],\n",
       "       [-0.60987875, -0.57555787],\n",
       "       [-0.32067487, -0.45124657]])"
      ]
     },
     "execution_count": 51,
     "metadata": {},
     "output_type": "execute_result"
    }
   ],
   "source": [
    "# Normalize Data\n",
    "from sklearn.preprocessing import StandardScaler\n",
    "X = StandardScaler().fit(X).transform(X)\n",
    "X[0:5]"
   ]
  },
  {
   "cell_type": "markdown",
   "id": "75a6685f",
   "metadata": {},
   "source": [
    "## Train Test Split"
   ]
  },
  {
   "cell_type": "code",
   "execution_count": 52,
   "id": "8cf46d5f",
   "metadata": {},
   "outputs": [],
   "source": [
    "from sklearn.model_selection import train_test_split\n",
    "x_train, x_test, y_train, y_test = train_test_split(X, y, test_size = 0.2, random_state = 0)"
   ]
  },
  {
   "cell_type": "markdown",
   "id": "aa7ec64c",
   "metadata": {},
   "source": [
    "### Logistic Regression"
   ]
  },
  {
   "cell_type": "code",
   "execution_count": 53,
   "id": "8fa67ad2",
   "metadata": {},
   "outputs": [
    {
     "data": {
      "text/plain": [
       "LogisticRegression(C=0.01, solver='liblinear')"
      ]
     },
     "execution_count": 53,
     "metadata": {},
     "output_type": "execute_result"
    }
   ],
   "source": [
    "from sklearn.linear_model import LogisticRegression\n",
    "from sklearn.metrics import confusion_matrix\n",
    "LR = LogisticRegression(C = 0.01, solver = \"liblinear\")\n",
    "LR.fit(X, y)\n",
    "LR"
   ]
  },
  {
   "cell_type": "code",
   "execution_count": 54,
   "id": "27e0c99d",
   "metadata": {},
   "outputs": [
    {
     "data": {
      "text/plain": [
       "array([     0.,      0., 562074.,      0.,      0., 562074.,      0.,\n",
       "            0.])"
      ]
     },
     "execution_count": 54,
     "metadata": {},
     "output_type": "execute_result"
    }
   ],
   "source": [
    "# Now we can predict using our test set\n",
    "yhat = LR.predict(x_test)\n",
    "yhat"
   ]
  },
  {
   "cell_type": "code",
   "execution_count": 56,
   "id": "e52cbbdc",
   "metadata": {},
   "outputs": [],
   "source": [
    "yhat_prob = LR.predict_proba(x_test)\n",
    "#yhat_prob"
   ]
  },
  {
   "cell_type": "markdown",
   "id": "cd538440",
   "metadata": {},
   "source": [
    "### Evaluation"
   ]
  },
  {
   "cell_type": "markdown",
   "id": "d300067b",
   "metadata": {},
   "source": [
    "### Confussion Matrix"
   ]
  },
  {
   "cell_type": "code",
   "execution_count": 58,
   "id": "98dfae46",
   "metadata": {},
   "outputs": [
    {
     "name": "stdout",
     "output_type": "stream",
     "text": [
      "[[0 0]\n",
      " [0 2]]\n"
     ]
    }
   ],
   "source": [
    "from sklearn.metrics import classification_report, confusion_matrix\n",
    "import itertools\n",
    "def plot_confusion_matrix(cm, classes,\n",
    "                          normalize=False,\n",
    "                          title='Confusion matrix',\n",
    "                          cmap=plt.cm.Blues):\n",
    "    \"\"\"\n",
    "    This function prints and plots the confusion matrix.\n",
    "    Normalization can be applied by setting `normalize=True`.\n",
    "    \"\"\"\n",
    "    if normalize:\n",
    "        cm = cm.astype('float') / cm.sum(axis=1)[:, np.newaxis]\n",
    "        print(\"Normalized confusion matrix\")\n",
    "    else:\n",
    "        print('Confusion matrix, without normalization')\n",
    "\n",
    "    print(cm)\n",
    "\n",
    "    plt.imshow(cm, interpolation='nearest', cmap=cmap)\n",
    "    plt.title(title)\n",
    "    plt.colorbar()\n",
    "    tick_marks = np.arange(len(classes))\n",
    "    plt.xticks(tick_marks, classes, rotation=45)\n",
    "    plt.yticks(tick_marks, classes)\n",
    "\n",
    "    fmt = '.2f' if normalize else 'd'\n",
    "    thresh = cm.max() / 2.\n",
    "    for i, j in itertools.product(range(cm.shape[0]), range(cm.shape[1])):\n",
    "        plt.text(j, i, format(cm[i, j], fmt),\n",
    "                 horizontalalignment=\"center\",\n",
    "                 color=\"white\" if cm[i, j] > thresh else \"black\")\n",
    "\n",
    "    plt.tight_layout()\n",
    "    plt.ylabel('True label')\n",
    "    plt.xlabel('Predicted label')\n",
    "print(confusion_matrix(y_test, yhat, labels=[1,0]))"
   ]
  },
  {
   "cell_type": "code",
   "execution_count": 59,
   "id": "d275aedc",
   "metadata": {},
   "outputs": [
    {
     "name": "stdout",
     "output_type": "stream",
     "text": [
      "Confusion matrix, without normalization\n",
      "[[0 0]\n",
      " [0 2]]\n"
     ]
    },
    {
     "data": {
      "image/png": "[encoded data removed]",
      "text/plain": [
       "<Figure size 432x288 with 2 Axes>"
      ]
     },
     "metadata": {
      "needs_background": "light"
     },
     "output_type": "display_data"
    }
   ],
   "source": [
    "# Compute confusion matrix\n",
    "cnf_matrix = confusion_matrix(y_test, yhat, labels=[1,0])\n",
    "np.set_printoptions(precision=2)\n",
    "\n",
    "\n",
    "# Plot non-normalized confusion matrix\n",
    "plt.figure()\n",
    "#Prediction \n",
    "plot_confusion_matrix(cnf_matrix, classes=['DispatchDiff=1','DispatchDiff=0'],normalize= False,  title='Confusion matrix')"
   ]
  },
  {
   "cell_type": "markdown",
   "id": "def0be0e",
   "metadata": {},
   "source": [
    "## Model Validation"
   ]
  },
  {
   "cell_type": "code",
   "execution_count": 64,
   "id": "8b3539c3",
   "metadata": {},
   "outputs": [
    {
     "name": "stdout",
     "output_type": "stream",
     "text": [
      "              precision    recall  f1-score   support\n",
      "\n",
      "         0.0       0.33      1.00      0.50         2\n",
      "      1451.0       0.00      0.00      0.00         1\n",
      "     10296.0       0.00      0.00      0.00         1\n",
      "     17415.0       0.00      0.00      0.00         1\n",
      "     44444.0       0.00      0.00      0.00         1\n",
      "    549420.0       0.00      0.00      0.00         1\n",
      "    556148.0       0.00      0.00      0.00         1\n",
      "    562074.0       0.00      0.00      0.00         0\n",
      "\n",
      "    accuracy                           0.25         8\n",
      "   macro avg       0.04      0.12      0.06         8\n",
      "weighted avg       0.08      0.25      0.12         8\n",
      "\n"
     ]
    },
    {
     "name": "stderr",
     "output_type": "stream",
     "text": [
      "C:\\Users\\Asus\\anaconda3\\lib\\site-packages\\sklearn\\metrics\\_classification.py:1248: UndefinedMetricWarning: Precision and F-score are ill-defined and being set to 0.0 in labels with no predicted samples. Use `zero_division` parameter to control this behavior.\n",
      "  _warn_prf(average, modifier, msg_start, len(result))\n",
      "C:\\Users\\Asus\\anaconda3\\lib\\site-packages\\sklearn\\metrics\\_classification.py:1248: UndefinedMetricWarning: Recall and F-score are ill-defined and being set to 0.0 in labels with no true samples. Use `zero_division` parameter to control this behavior.\n",
      "  _warn_prf(average, modifier, msg_start, len(result))\n",
      "C:\\Users\\Asus\\anaconda3\\lib\\site-packages\\sklearn\\metrics\\_classification.py:1248: UndefinedMetricWarning: Precision and F-score are ill-defined and being set to 0.0 in labels with no predicted samples. Use `zero_division` parameter to control this behavior.\n",
      "  _warn_prf(average, modifier, msg_start, len(result))\n",
      "C:\\Users\\Asus\\anaconda3\\lib\\site-packages\\sklearn\\metrics\\_classification.py:1248: UndefinedMetricWarning: Recall and F-score are ill-defined and being set to 0.0 in labels with no true samples. Use `zero_division` parameter to control this behavior.\n",
      "  _warn_prf(average, modifier, msg_start, len(result))\n",
      "C:\\Users\\Asus\\anaconda3\\lib\\site-packages\\sklearn\\metrics\\_classification.py:1248: UndefinedMetricWarning: Precision and F-score are ill-defined and being set to 0.0 in labels with no predicted samples. Use `zero_division` parameter to control this behavior.\n",
      "  _warn_prf(average, modifier, msg_start, len(result))\n",
      "C:\\Users\\Asus\\anaconda3\\lib\\site-packages\\sklearn\\metrics\\_classification.py:1248: UndefinedMetricWarning: Recall and F-score are ill-defined and being set to 0.0 in labels with no true samples. Use `zero_division` parameter to control this behavior.\n",
      "  _warn_prf(average, modifier, msg_start, len(result))\n"
     ]
    }
   ],
   "source": [
    "\n",
    "print(classification_report(y_test, yhat))\n",
    "#1st Column dictates the Dispacth Unit in in Each Plants"
   ]
  },
  {
   "cell_type": "markdown",
   "id": "1c33ad3b",
   "metadata": {},
   "source": [
    "### f1 score for Plants Dispatches Between 0 - 1460"
   ]
  },
  {
   "cell_type": "code",
   "execution_count": 65,
   "id": "0d009f2e",
   "metadata": {
    "scrolled": true
   },
   "outputs": [
    {
     "data": {
      "text/plain": [
       "0.49624060150375937"
      ]
     },
     "execution_count": 65,
     "metadata": {},
     "output_type": "execute_result"
    }
   ],
   "source": [
    "2*(0.33*1/(0.33+1.00))  #Prediction Rate"
   ]
  },
  {
   "cell_type": "code",
   "execution_count": 74,
   "id": "a3a95084",
   "metadata": {},
   "outputs": [
    {
     "data": {
      "text/plain": [
       "Pipeline(steps=[('standardscaler', StandardScaler()),\n",
       "                ('linearsvc',\n",
       "                 LinearSVC(random_state=RandomState(MT19937) at 0x14C08353340))])"
      ]
     },
     "execution_count": 74,
     "metadata": {},
     "output_type": "execute_result"
    }
   ],
   "source": [
    "from sklearn.pipeline import make_pipeline\n",
    "from sklearn.preprocessing import StandardScaler\n",
    "from sklearn.svm import LinearSVC\n",
    "\n",
    "classifier = make_pipeline(StandardScaler(), LinearSVC(random_state=random_state))\n",
    "classifier.fit(x_train, y_train)"
   ]
  },
  {
   "cell_type": "code",
   "execution_count": null,
   "id": "59ed6947",
   "metadata": {},
   "outputs": [],
   "source": []
  }
 ],
 "metadata": {
  "kernelspec": {
   "display_name": "Python 3 (ipykernel)",
   "language": "python",
   "name": "python3"
  },
  "language_info": {
   "codemirror_mode": {
    "name": "ipython",
    "version": 3
   },
   "file_extension": ".py",
   "mimetype": "text/x-python",
   "name": "python",
   "nbconvert_exporter": "python",
   "pygments_lexer": "ipython3",
   "version": "3.8.8"
  }
 },
 "nbformat": 4,
 "nbformat_minor": 5
}
