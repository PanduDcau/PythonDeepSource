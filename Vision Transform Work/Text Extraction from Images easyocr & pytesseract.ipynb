{
 "cells": [
  {
   "cell_type": "markdown",
   "execution_count": null,
   "metadata": {},
   "source": [
    "## What is Optical Character Recognition (OCR)?\n",
    "\n",
    "OCR, or Optical Character Recognition, is a process of recognizing text inside images and converting it into an electronic form. These images could be of handwritten text, printed text like documents, receipts, name cards, etc., or even a natural scene photograph.\n",
    "\n",
    "OCR has two parts to it. The first part is text detection where the textual part within the image is determined. This localization of text within the image is important for the second part of OCR, text recognition, where the text is extracted from the image. Using these techniques together is how you can extract text from any image.\n",
    "\n",
    "## Tutorial that I follow\n",
    "1. https://nanonets.com/blog/ocr-with-tesseract/#:~:text=Tesseract%20is%20an%20open%20source,a%20wide%20variety%20of%20languages.\n",
    "2. https://medium.com/@jaafarbenabderrazak.info/ocr-with-tesseract-opencv-and-python-d2c4ec097866\n",
    "3. https://pypi.org/project/tesserocr/\n",
    "4. https://github.com/JaidedAI/EasyOCR"
   ]
  },
  {
   "cell_type": "code",
   "execution_count": 1,
   "metadata": {},
   "outputs": [
    {
     "name": "stdout",
     "output_type": "stream",
     "text": [
      "Collecting easyocr\r\n",
      "  Downloading easyocr-1.1.4-py3-none-any.whl (22.5 MB)\r\n",
      "\u001b[K     |████████████████████████████████| 22.5 MB 2.8 MB/s \r\n",
      "\u001b[?25hRequirement already satisfied: scikit-image in /opt/conda/lib/python3.7/site-packages (from easyocr) (0.16.2)\r\n",
      "Requirement already satisfied: torchvision>=0.5 in /opt/conda/lib/python3.7/site-packages (from easyocr) (0.6.0a0+35d732a)\r\n",
      "Requirement already satisfied: scipy in /opt/conda/lib/python3.7/site-packages (from easyocr) (1.4.1)\r\n",
      "Requirement already satisfied: opencv-python in /opt/conda/lib/python3.7/site-packages (from easyocr) (4.3.0.36)\r\n",
      "Requirement already satisfied: Pillow in /opt/conda/lib/python3.7/site-packages (from easyocr) (7.2.0)\r\n",
      "Requirement already satisfied: torch in /opt/conda/lib/python3.7/site-packages (from easyocr) (1.5.1)\r\n",
      "Requirement already satisfied: numpy in /opt/conda/lib/python3.7/site-packages (from easyocr) (1.18.5)\r\n",
      "Requirement already satisfied: matplotlib!=3.0.0,>=2.0.0 in /opt/conda/lib/python3.7/site-packages (from scikit-image->easyocr) (3.2.1)\r\n",
      "Requirement already satisfied: networkx>=2.0 in /opt/conda/lib/python3.7/site-packages (from scikit-image->easyocr) (2.4)\r\n",
      "Requirement already satisfied: imageio>=2.3.0 in /opt/conda/lib/python3.7/site-packages (from scikit-image->easyocr) (2.8.0)\r\n",
      "Requirement already satisfied: PyWavelets>=0.4.0 in /opt/conda/lib/python3.7/site-packages (from scikit-image->easyocr) (1.1.1)\r\n",
      "Requirement already satisfied: future in /opt/conda/lib/python3.7/site-packages (from torch->easyocr) (0.18.2)\r\n",
      "Requirement already satisfied: cycler>=0.10 in /opt/conda/lib/python3.7/site-packages (from matplotlib!=3.0.0,>=2.0.0->scikit-image->easyocr) (0.10.0)\r\n",
      "Requirement already satisfied: kiwisolver>=1.0.1 in /opt/conda/lib/python3.7/site-packages (from matplotlib!=3.0.0,>=2.0.0->scikit-image->easyocr) (1.2.0)\r\n",
      "Requirement already satisfied: python-dateutil>=2.1 in /opt/conda/lib/python3.7/site-packages (from matplotlib!=3.0.0,>=2.0.0->scikit-image->easyocr) (2.8.1)\r\n",
      "Requirement already satisfied: pyparsing!=2.0.4,!=2.1.2,!=2.1.6,>=2.0.1 in /opt/conda/lib/python3.7/site-packages (from matplotlib!=3.0.0,>=2.0.0->scikit-image->easyocr) (2.4.7)\r\n",
      "Requirement already satisfied: decorator>=4.3.0 in /opt/conda/lib/python3.7/site-packages (from networkx>=2.0->scikit-image->easyocr) (4.4.2)\r\n",
      "Requirement already satisfied: six in /opt/conda/lib/python3.7/site-packages (from cycler>=0.10->matplotlib!=3.0.0,>=2.0.0->scikit-image->easyocr) (1.14.0)\r\n",
      "Installing collected packages: easyocr\r\n",
      "Successfully installed easyocr-1.1.4\r\n"
     ]
    }
   ],
   "source": [
    "# OCR using easyocr\n",
    "\n",
    "!pip install easyocr"
   ]
  },
  {
   "cell_type": "code",
   "execution_count": 2,
   "metadata": {},
   "outputs": [],
   "source": [
    "import torch\n",
    "import easyocr\n",
    "import os"
   ]
  },
  {
   "cell_type": "code",
   "execution_count": 3,
   "metadata": {},
   "outputs": [
    {
     "name": "stderr",
     "output_type": "stream",
     "text": [
      "Downloading detection model, please wait\n",
      "Download complete\n",
      "Downloading recognition model, please wait\n",
      "Download complete\n"
     ]
    }
   ],
   "source": [
    "# In case you do not have GPU or your GPU has low memory, \n",
    "# you can run it in CPU mode by adding gpu = False\n",
    "\n",
    "# reader = easyocr.Reader(['en', 'en'], gpu=False)\n",
    "\n",
    "reader = easyocr.Reader(['en', 'en'])"
   ]
  },
  {
   "cell_type": "markdown",
   "execution_count": null,
   "metadata": {},
   "source": [
    "## Output will be in list format, each item represents bounding box, text and confident level, respectively.\n",
    "\n",
    "```\n",
    "[([[189, 75], [469, 75], [469, 165], [189, 165]], '愚园路', 0.3754989504814148),\n",
    " ([[86, 80], [134, 80], [134, 128], [86, 128]], '西', 0.40452659130096436),\n",
    " ([[517, 81], [565, 81], [565, 123], [517, 123]], '东', 0.9989598989486694),\n",
    " ([[78, 126], [136, 126], [136, 156], [78, 156]], '315', 0.8125889301300049),\n",
    " ([[514, 126], [574, 126], [574, 156], [514, 156]], '309', 0.4971577227115631),\n",
    " ([[226, 170], [414, 170], [414, 220], [226, 220]], 'Yuyuan Rd.', 0.8261902332305908),\n",
    " ([[79, 173], [125, 173], [125, 213], [79, 213]], 'W', 0.9848111271858215),\n",
    " ([[529, 173], [569, 173], [569, 213], [529, 213]], 'E', 0.8405593633651733)]\n",
    "```"
   ]
  },
  {
   "cell_type": "code",
   "execution_count": 4,
   "metadata": {},
   "outputs": [
    {
     "data": {
      "text/plain": [
       "' IF I COULD HAVE CHOSEN TO BE GAY OR STRAIGHT, I THINKI WOULD HAVE SIMPLY CHOSEN TO BE HAPPY 0 k hlrp'"
      ]
     },
     "execution_count": 4,
     "metadata": {},
     "output_type": "execute_result"
    }
   ],
   "source": [
    "# Image to text using easyocr\n",
    "# Output will be in list format, each item represents bounding box, text and confident level, respectively.\n",
    "\n",
    "img_text = reader.readtext('../input/hackerearthimage/Test1161.jpg')\n",
    "final_text = \"\"\n",
    "\n",
    "for _, text, __ in img_text: # _ = bounding box, text = text and __ = confident level\n",
    "    final_text += \" \"\n",
    "    final_text += text\n",
    "final_text"
   ]
  },
  {
   "cell_type": "code",
   "execution_count": 5,
   "metadata": {},
   "outputs": [],
   "source": [
    "# Function to Traverse the folder\n",
    "\n",
    "def traverse(directory):\n",
    "    path, directory, files = next(os.walk(directory))\n",
    "    return files"
   ]
  },
  {
   "cell_type": "code",
   "execution_count": 6,
   "metadata": {},
   "outputs": [],
   "source": [
    "# Image directory and list of files\n",
    "\n",
    "directory = '../input/hackerearthimage'\n",
    "files_list = traverse(directory)"
   ]
  },
  {
   "cell_type": "code",
   "execution_count": 7,
   "metadata": {},
   "outputs": [
    {
     "data": {
      "text/plain": [
       "['Test3706.jpg', 'Test2209.jpg', 'Test449.jpg', 'Test1872.jpg']"
      ]
     },
     "execution_count": 7,
     "metadata": {},
     "output_type": "execute_result"
    }
   ],
   "source": [
    "files_list[:4]"
   ]
  },
  {
   "cell_type": "code",
   "execution_count": 8,
   "metadata": {},
   "outputs": [],
   "source": [
    "# Doing OCR using GPU\n",
    "# save the images text to dict\n",
    "\n",
    "images_text = {}\n",
    "for files in files_list:\n",
    "    img_text = reader.readtext(directory + '/' +  files)\n",
    "    final_text = \"\"\n",
    "    for _, text, __ in img_text:\n",
    "        final_text += \" \"\n",
    "        final_text += text\n",
    "    images_text[files] = final_text"
   ]
  },
  {
   "cell_type": "code",
   "execution_count": 9,
   "metadata": {},
   "outputs": [],
   "source": [
    "# For sorting the image file name\n",
    "\n",
    "keys = list(images_text.keys())\n",
    "new_keys = [int(k[4:-4]) for k in keys]\n",
    "new_keys.sort()"
   ]
  },
  {
   "cell_type": "code",
   "execution_count": 10,
   "metadata": {},
   "outputs": [],
   "source": [
    "# Saving the Text file with image name ascending order\n",
    "\n",
    "import csv\n",
    "\n",
    "with open('image_easy_ocr.csv', 'w') as file:\n",
    "    writer = csv.writer(file)\n",
    "    writer.writerow([\"Filename\", \"Text\"])\n",
    "    \n",
    "    for n in new_keys:\n",
    "        writer.writerow(['Test' + str(n) + '.jpg', images_text['Test' + str(n) + '.jpg']])"
   ]
  },
  {
   "cell_type": "code",
   "execution_count": 11,
   "metadata": {},
   "outputs": [],
   "source": [
    "# OCR using pytesseract\n",
    "\n",
    "import cv2\n",
    "import pytesseract\n",
    "from pytesseract import Output\n",
    "import pytesseract\n",
    "from PIL import Image, ImageEnhance, ImageFilter"
   ]
  },
  {
   "cell_type": "code",
   "execution_count": 12,
   "metadata": {},
   "outputs": [
    {
     "name": "stdout",
     "output_type": "stream",
     "text": [
      ", i - -\n",
      "CHOSEN TO BE\n",
      "HAPPY\n",
      "\n",
      "lari |\n"
     ]
    }
   ],
   "source": [
    "# Grayscale, Gaussian blur, Otsu's threshold\n",
    "image = cv2.imread(\"../input/hackerearthimage/Test1161.jpg\")\n",
    "gray = cv2.cvtColor(image, cv2.COLOR_BGR2GRAY)\n",
    "blur = cv2.GaussianBlur(gray, (3,3), 0)\n",
    "thresh = cv2.threshold(blur, 0, 255, cv2.THRESH_BINARY_INV + cv2.THRESH_OTSU)[1]\n",
    "\n",
    "\n",
    "# Morph open to remove noise and invert image\n",
    "kernel = cv2.getStructuringElement(cv2.MORPH_RECT, (3,3))\n",
    "opening = cv2.morphologyEx(thresh, cv2.MORPH_OPEN, kernel, iterations=1)\n",
    "invert = 255 - opening\n",
    "\n",
    "\n",
    "# Perform text extraction\n",
    "data = pytesseract.image_to_string(invert, lang='eng', config='--psm 6')\n",
    "print(data)"
   ]
  },
  {
   "cell_type": "code",
   "execution_count": 13,
   "metadata": {},
   "outputs": [],
   "source": [
    "def text_extraction(file_path):\n",
    "    # Grayscale, Gaussian blur, Otsu's threshold\n",
    "    image = cv2.imread(file_path)\n",
    "    gray = cv2.cvtColor(image, cv2.COLOR_BGR2GRAY)\n",
    "    blur = cv2.GaussianBlur(gray, (3,3), 0)\n",
    "    thresh = cv2.threshold(blur, 0, 255, cv2.THRESH_BINARY_INV + cv2.THRESH_OTSU)[1]\n",
    "\n",
    "\n",
    "    # Morph open to remove noise and invert image\n",
    "    kernel = cv2.getStructuringElement(cv2.MORPH_RECT, (3,3))\n",
    "    opening = cv2.morphologyEx(thresh, cv2.MORPH_OPEN, kernel, iterations=1)\n",
    "    invert = 255 - opening\n",
    "\n",
    "\n",
    "    # Perform text extraction\n",
    "    data = pytesseract.image_to_string(invert, lang='eng', config='--psm 6')\n",
    "    return data"
   ]
  },
  {
   "cell_type": "code",
   "execution_count": 14,
   "metadata": {},
   "outputs": [],
   "source": [
    "# Doing OCR using pytesseract\n",
    "# save the images text to dict\n",
    "\n",
    "images_text = {}\n",
    "for files in files_list:\n",
    "    img_text = text_extraction(directory + '/' +  files)\n",
    "    final_text = \"\"\n",
    "    for text in img_text:\n",
    "        final_text += text\n",
    "    images_text[files] = final_text"
   ]
  },
  {
   "cell_type": "code",
   "execution_count": 15,
   "metadata": {},
   "outputs": [],
   "source": [
    "# For sorting the image file name\n",
    "\n",
    "keys = list(images_text.keys())\n",
    "new_keys = [int(k[4:-4]) for k in keys]\n",
    "new_keys.sort()"
   ]
  },
  {
   "cell_type": "code",
   "execution_count": 16,
   "metadata": {},
   "outputs": [],
   "source": [
    "# Saving the Text file with image name ascending order\n",
    "\n",
    "import csv\n",
    "\n",
    "with open('image_pytesseract_ocr.csv', 'w') as file:\n",
    "    writer = csv.writer(file)\n",
    "    writer.writerow([\"Filename\", \"Text\"])\n",
    "    \n",
    "    for n in new_keys:\n",
    "        writer.writerow(['Test' + str(n) + '.jpg', images_text['Test' + str(n) + '.jpg']])"
   ]
  }
 ],
 "metadata": {
  "kernelspec": {
   "display_name": "Python 3",
   "language": "python",
   "name": "python3"
  },
  "language_info": {
   "codemirror_mode": {
    "name": "ipython",
    "version": 3
   },
   "file_extension": ".py",
   "mimetype": "text/x-python",
   "name": "python",
   "nbconvert_exporter": "python",
   "pygments_lexer": "ipython3",
   "version": "3.7.6"
  }
 },
 "nbformat": 4,
 "nbformat_minor": 4
}
