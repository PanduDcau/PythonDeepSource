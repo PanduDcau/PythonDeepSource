{
 "cells": [
  {
   "cell_type": "markdown",
   "metadata": {
    "_cell_guid": "eb88b372-a6e5-40c8-a1c6-c03799165490",
    "_uuid": "e9aff3cf1bb8daa73bec67b970d12195677679f3"
   },
   "source": [
    "# 1. Introduction\n",
    "\n",
    "I built the Convolutional Neural Network (CNN) for digits recognition trained on [MNIST](https://en.wikipedia.org/wiki/MNIST_database) dataset with keras API (Tensorflow backend). The project is very helpful to understand how CNN works at different layers. The current best score of this network is 0.9967.\n",
    "\n",
    "<img src=\"http://img1.imagilive.com/0717/mnist-sample.png\" ></img>"
   ]
  },
  {
   "cell_type": "markdown",
   "metadata": {},
   "source": [
    "**Welcome All I am Data Enthusiastic who loves Data Analytics**"
   ]
  },
  {
   "cell_type": "code",
   "execution_count": 1,
   "metadata": {
    "_cell_guid": "f67b9393-8ea1-4e23-b856-2ce149cfe421",
    "_execution_state": "idle",
    "_uuid": "72334cb006d02a4bcfc2a2fe622524eba824c6f8"
   },
   "outputs": [],
   "source": [
    "# core and utility packages\n",
    "import pandas as pd\n",
    "import numpy as np\n",
    "import itertools\n",
    "\n",
    "# visualization\n",
    "import matplotlib.pyplot as plt\n",
    "import matplotlib.image as mpimg\n",
    "import seaborn as sns\n",
    "%matplotlib inline\n",
    "sns.set(style='white', context='notebook', palette='deep')\n",
    "\n",
    "# modeling\n",
    "from sklearn.model_selection import train_test_split\n",
    "from sklearn.metrics import confusion_matrix\n",
    "\n",
    "# keras\n",
    "from keras.utils.np_utils import to_categorical # convert to one-hot-encoding\n",
    "from keras.models import Sequential\n",
    "from keras.layers import Dense, Dropout, Flatten, Conv2D, MaxPool2D, BatchNormalization\n",
    "from keras.optimizers import Adam\n",
    "from keras.preprocessing.image import ImageDataGenerator\n",
    "from keras.callbacks import LearningRateScheduler\n",
    "from keras import models\n",
    "\n",
    "np.random.seed(2)"
   ]
  },
  {
   "cell_type": "markdown",
   "metadata": {
    "_cell_guid": "6d2fb3e6-ab71-4974-b5a2-4af1ebdb99f4",
    "_execution_state": "idle",
    "_uuid": "86061d98eccaa02efe0dab0fa3884e71fcf4c310"
   },
   "source": [
    "# 2. Data preparation\n",
    "## 2.1 Load data"
   ]
  },
  {
   "cell_type": "code",
   "execution_count": 2,
   "metadata": {
    "_cell_guid": "5e51d00e-62fd-4141-bf73-50ac4f2da7d0",
    "_execution_state": "idle",
    "_uuid": "84bbd5ab8d7895bd430d5ecfe2f7ddf77baa7b74"
   },
   "outputs": [
    {
     "data": {
      "text/html": [
       "<div>\n",
       "<style scoped>\n",
       "    .dataframe tbody tr th:only-of-type {\n",
       "        vertical-align: middle;\n",
       "    }\n",
       "\n",
       "    .dataframe tbody tr th {\n",
       "        vertical-align: top;\n",
       "    }\n",
       "\n",
       "    .dataframe thead th {\n",
       "        text-align: right;\n",
       "    }\n",
       "</style>\n",
       "<table border=\"1\" class=\"dataframe\">\n",
       "  <thead>\n",
       "    <tr style=\"text-align: right;\">\n",
       "      <th></th>\n",
       "      <th>label</th>\n",
       "      <th>pixel0</th>\n",
       "      <th>pixel1</th>\n",
       "      <th>pixel2</th>\n",
       "      <th>pixel3</th>\n",
       "      <th>pixel4</th>\n",
       "      <th>pixel5</th>\n",
       "      <th>pixel6</th>\n",
       "      <th>pixel7</th>\n",
       "      <th>pixel8</th>\n",
       "      <th>...</th>\n",
       "      <th>pixel774</th>\n",
       "      <th>pixel775</th>\n",
       "      <th>pixel776</th>\n",
       "      <th>pixel777</th>\n",
       "      <th>pixel778</th>\n",
       "      <th>pixel779</th>\n",
       "      <th>pixel780</th>\n",
       "      <th>pixel781</th>\n",
       "      <th>pixel782</th>\n",
       "      <th>pixel783</th>\n",
       "    </tr>\n",
       "  </thead>\n",
       "  <tbody>\n",
       "    <tr>\n",
       "      <th>0</th>\n",
       "      <td>1</td>\n",
       "      <td>0</td>\n",
       "      <td>0</td>\n",
       "      <td>0</td>\n",
       "      <td>0</td>\n",
       "      <td>0</td>\n",
       "      <td>0</td>\n",
       "      <td>0</td>\n",
       "      <td>0</td>\n",
       "      <td>0</td>\n",
       "      <td>...</td>\n",
       "      <td>0</td>\n",
       "      <td>0</td>\n",
       "      <td>0</td>\n",
       "      <td>0</td>\n",
       "      <td>0</td>\n",
       "      <td>0</td>\n",
       "      <td>0</td>\n",
       "      <td>0</td>\n",
       "      <td>0</td>\n",
       "      <td>0</td>\n",
       "    </tr>\n",
       "    <tr>\n",
       "      <th>1</th>\n",
       "      <td>0</td>\n",
       "      <td>0</td>\n",
       "      <td>0</td>\n",
       "      <td>0</td>\n",
       "      <td>0</td>\n",
       "      <td>0</td>\n",
       "      <td>0</td>\n",
       "      <td>0</td>\n",
       "      <td>0</td>\n",
       "      <td>0</td>\n",
       "      <td>...</td>\n",
       "      <td>0</td>\n",
       "      <td>0</td>\n",
       "      <td>0</td>\n",
       "      <td>0</td>\n",
       "      <td>0</td>\n",
       "      <td>0</td>\n",
       "      <td>0</td>\n",
       "      <td>0</td>\n",
       "      <td>0</td>\n",
       "      <td>0</td>\n",
       "    </tr>\n",
       "    <tr>\n",
       "      <th>2</th>\n",
       "      <td>1</td>\n",
       "      <td>0</td>\n",
       "      <td>0</td>\n",
       "      <td>0</td>\n",
       "      <td>0</td>\n",
       "      <td>0</td>\n",
       "      <td>0</td>\n",
       "      <td>0</td>\n",
       "      <td>0</td>\n",
       "      <td>0</td>\n",
       "      <td>...</td>\n",
       "      <td>0</td>\n",
       "      <td>0</td>\n",
       "      <td>0</td>\n",
       "      <td>0</td>\n",
       "      <td>0</td>\n",
       "      <td>0</td>\n",
       "      <td>0</td>\n",
       "      <td>0</td>\n",
       "      <td>0</td>\n",
       "      <td>0</td>\n",
       "    </tr>\n",
       "    <tr>\n",
       "      <th>3</th>\n",
       "      <td>4</td>\n",
       "      <td>0</td>\n",
       "      <td>0</td>\n",
       "      <td>0</td>\n",
       "      <td>0</td>\n",
       "      <td>0</td>\n",
       "      <td>0</td>\n",
       "      <td>0</td>\n",
       "      <td>0</td>\n",
       "      <td>0</td>\n",
       "      <td>...</td>\n",
       "      <td>0</td>\n",
       "      <td>0</td>\n",
       "      <td>0</td>\n",
       "      <td>0</td>\n",
       "      <td>0</td>\n",
       "      <td>0</td>\n",
       "      <td>0</td>\n",
       "      <td>0</td>\n",
       "      <td>0</td>\n",
       "      <td>0</td>\n",
       "    </tr>\n",
       "    <tr>\n",
       "      <th>4</th>\n",
       "      <td>0</td>\n",
       "      <td>0</td>\n",
       "      <td>0</td>\n",
       "      <td>0</td>\n",
       "      <td>0</td>\n",
       "      <td>0</td>\n",
       "      <td>0</td>\n",
       "      <td>0</td>\n",
       "      <td>0</td>\n",
       "      <td>0</td>\n",
       "      <td>...</td>\n",
       "      <td>0</td>\n",
       "      <td>0</td>\n",
       "      <td>0</td>\n",
       "      <td>0</td>\n",
       "      <td>0</td>\n",
       "      <td>0</td>\n",
       "      <td>0</td>\n",
       "      <td>0</td>\n",
       "      <td>0</td>\n",
       "      <td>0</td>\n",
       "    </tr>\n",
       "  </tbody>\n",
       "</table>\n",
       "<p>5 rows × 785 columns</p>\n",
       "</div>"
      ],
      "text/plain": [
       "   label  pixel0  pixel1  pixel2  pixel3  pixel4  pixel5  pixel6  pixel7  \\\n",
       "0      1       0       0       0       0       0       0       0       0   \n",
       "1      0       0       0       0       0       0       0       0       0   \n",
       "2      1       0       0       0       0       0       0       0       0   \n",
       "3      4       0       0       0       0       0       0       0       0   \n",
       "4      0       0       0       0       0       0       0       0       0   \n",
       "\n",
       "   pixel8  ...  pixel774  pixel775  pixel776  pixel777  pixel778  pixel779  \\\n",
       "0       0  ...         0         0         0         0         0         0   \n",
       "1       0  ...         0         0         0         0         0         0   \n",
       "2       0  ...         0         0         0         0         0         0   \n",
       "3       0  ...         0         0         0         0         0         0   \n",
       "4       0  ...         0         0         0         0         0         0   \n",
       "\n",
       "   pixel780  pixel781  pixel782  pixel783  \n",
       "0         0         0         0         0  \n",
       "1         0         0         0         0  \n",
       "2         0         0         0         0  \n",
       "3         0         0         0         0  \n",
       "4         0         0         0         0  \n",
       "\n",
       "[5 rows x 785 columns]"
      ]
     },
     "execution_count": 2,
     "metadata": {},
     "output_type": "execute_result"
    }
   ],
   "source": [
    "# Load the data\n",
    "train = pd.read_csv(\"D:\\\\DC Universe\\\\Ucsc\\\\Fourth Year\\\\SCS4204 Data Analytics\\\\Digits Recognition\\\\train.csv\")\n",
    "test = pd.read_csv(\"D:\\\\DC Universe\\\\Ucsc\\\\Fourth Year\\\\SCS4204 Data Analytics\\\\Digits Recognition\\\\test.csv\")\n",
    "\n",
    "train.head()"
   ]
  },
  {
   "cell_type": "code",
   "execution_count": 3,
   "metadata": {
    "_cell_guid": "86570a36-5c20-460a-9dfd-2070548532a7",
    "_execution_state": "idle",
    "_uuid": "1213b979d5ed3e0d13824d17d694c79d2ece92fa"
   },
   "outputs": [
    {
     "name": "stderr",
     "output_type": "stream",
     "text": [
      "C:\\ProgramData\\Anaconda3\\lib\\site-packages\\seaborn\\_decorators.py:36: FutureWarning: Pass the following variable as a keyword arg: x. From version 0.12, the only valid positional argument will be `data`, and passing other arguments without an explicit keyword will result in an error or misinterpretation.\n",
      "  warnings.warn(\n"
     ]
    },
    {
     "data": {
      "image/png": "[encoded data removed]",
      "text/plain": [
       "<Figure size 432x288 with 1 Axes>"
      ]
     },
     "metadata": {},
     "output_type": "display_data"
    }
   ],
   "source": [
    "Y_train = train[\"label\"]\n",
    "\n",
    "# Drop 'label' column\n",
    "X_train = train.drop(labels = [\"label\"],axis = 1) \n",
    "\n",
    "# free some space\n",
    "del train \n",
    "\n",
    "g = sns.countplot(Y_train)"
   ]
  },
  {
   "cell_type": "markdown",
   "metadata": {
    "_cell_guid": "6812040d-80ad-43d2-a571-275f4f20067b",
    "_uuid": "2954681f25f0dcbe986e6914396cdbce61db591f"
   },
   "source": [
    "## 2.2 Normalization"
   ]
  },
  {
   "cell_type": "markdown",
   "metadata": {
    "_cell_guid": "159d5854-437a-4d0f-bc1e-fc3f7e43d178",
    "_uuid": "0ecf4b52510ab7957d0d4eb646c0aa1ba5986273"
   },
   "source": [
    "CNN converg faster on [0..1] data than on [0..255]."
   ]
  },
  {
   "cell_type": "code",
   "execution_count": 4,
   "metadata": {
    "_cell_guid": "cdc4340b-6e24-4e12-be99-ac806098ff17",
    "_execution_state": "idle",
    "_uuid": "b5d4f8fcf2a967e2c7d57daedf95aa8c5ab7f8cb"
   },
   "outputs": [],
   "source": [
    "# Normalize the data\n",
    "X_train = X_train / 255.0\n",
    "test = test / 255.0"
   ]
  },
  {
   "cell_type": "markdown",
   "metadata": {
    "_cell_guid": "7413df94-bcb9-4f75-b174-c127d4445766",
    "_uuid": "a66741bf1ac597094f3a3166877008feef27c519"
   },
   "source": [
    "## 2.3 Reshape"
   ]
  },
  {
   "cell_type": "code",
   "execution_count": 5,
   "metadata": {
    "_cell_guid": "46731f00-b32d-4148-8460-5e384c120990",
    "_uuid": "7507e2b72324f3557c10107e56efc94bbddfdcf0"
   },
   "outputs": [
    {
     "data": {
      "text/plain": [
       "(42000, 784)"
      ]
     },
     "execution_count": 5,
     "metadata": {},
     "output_type": "execute_result"
    }
   ],
   "source": [
    "X_train.shape\n"
   ]
  },
  {
   "cell_type": "code",
   "execution_count": 6,
   "metadata": {
    "_cell_guid": "61c088fd-5dfb-4899-b88f-84bd270f0acf",
    "_uuid": "7d6253d1cbc6cdaaf79bb8c52ebe7e0f1f4b79ce"
   },
   "outputs": [
    {
     "data": {
      "text/plain": [
       "(28000, 784)"
      ]
     },
     "execution_count": 6,
     "metadata": {},
     "output_type": "execute_result"
    }
   ],
   "source": [
    "test.shape"
   ]
  },
  {
   "cell_type": "code",
   "execution_count": 7,
   "metadata": {
    "_cell_guid": "34b6a5f7-8fd2-4387-8ef4-c9dc19584fed",
    "_execution_state": "idle",
    "_uuid": "f0a6ad80dab8e0f2c2e46165ccd9cd82dd162bc3"
   },
   "outputs": [
    {
     "data": {
      "text/plain": [
       "(42000, 28, 28, 1)"
      ]
     },
     "execution_count": 7,
     "metadata": {},
     "output_type": "execute_result"
    }
   ],
   "source": [
    "# Reshape image in 3 dimensions (height = 28px, width = 28px , canal = 1), the first dimension of X_train/test is samples\n",
    "X_train = X_train.values.reshape(-1,28,28,1)\n",
    "test = test.values.reshape(-1,28,28,1)\n",
    "X_train.shape"
   ]
  },
  {
   "cell_type": "markdown",
   "metadata": {
    "_cell_guid": "8decd1ce-7b7e-431d-8458-eaca18e0e1f7",
    "_uuid": "f4fb5553e188d9956f5d8b3a5d275ab00ea667ce"
   },
   "source": [
    "Train and test images (28px x 28px) has been stock into pandas.Dataframe as 1D vectors of 784 values. We reshape all data to 28x28x1 3D matrices. \n",
    "\n",
    "Keras requires an extra dimension in the end which correspond to channels. MNIST images are gray scaled so it use only one channel. "
   ]
  },
  {
   "cell_type": "markdown",
   "metadata": {
    "_cell_guid": "bdb422e2-bdec-444f-97a5-283a1e54bf2c",
    "_uuid": "39b7a31e843bac6b705461bcce89da216b91799e"
   },
   "source": [
    "## 2.4 Label encoding"
   ]
  },
  {
   "cell_type": "code",
   "execution_count": 8,
   "metadata": {
    "_cell_guid": "4b7f3e78-44dc-4561-b1f0-9429ee024cf4",
    "_execution_state": "idle",
    "_uuid": "cabefd1478d5c1bdfe57fd6a34395340916a854c"
   },
   "outputs": [
    {
     "data": {
      "text/plain": [
       "(42000, 10)"
      ]
     },
     "execution_count": 8,
     "metadata": {},
     "output_type": "execute_result"
    }
   ],
   "source": [
    "# Encode labels to one hot vectors (ex : 2 -> [0,0,1,0,0,0,0,0,0,0])\n",
    "Y_train_value = Y_train # keep the origianl label\n",
    "Y_train = to_categorical(Y_train, num_classes = 10)\n",
    "Y_train.shape\n",
    "#Y_train_value = np.argmax(Y_train, axis=1) # keep the origianl label"
   ]
  },
  {
   "cell_type": "markdown",
   "metadata": {
    "_cell_guid": "ae068bd8-b12e-4768-8a7e-0fc865dd7562",
    "_uuid": "dcfb688587dfc6feafd27442a3505e35dc01b82d"
   },
   "source": [
    "Labels are 10 digits numbers from 0 to 9. We need to encode these lables to one hot vectors (ex : 2 -> [0,0,1,0,0,0,0,0,0,0])."
   ]
  },
  {
   "cell_type": "markdown",
   "metadata": {
    "_cell_guid": "32152fc3-a570-4d64-8a7d-6c689a4acd33",
    "_uuid": "d8abbbf31483b94e1b29d07c4c8253d1311648a7"
   },
   "source": [
    "## 2.5 Split training and valdiation set "
   ]
  },
  {
   "cell_type": "code",
   "execution_count": 9,
   "metadata": {
    "_cell_guid": "3a698301-9759-4279-ae48-fd980f89ea53",
    "_execution_state": "idle",
    "_uuid": "6e51c925c6e0f1b936679c9649fef345c853555f"
   },
   "outputs": [],
   "source": [
    "# Set the random seed\n",
    "random_seed = 2"
   ]
  },
  {
   "cell_type": "code",
   "execution_count": 10,
   "metadata": {
    "_cell_guid": "dcd25ebb-d845-4d32-9867-082e352b1396",
    "_execution_state": "idle",
    "_uuid": "b779ac76d8317647db92d5a88b4098d212d72884"
   },
   "outputs": [
    {
     "data": {
      "text/plain": [
       "(37800, 28, 28, 1)"
      ]
     },
     "execution_count": 10,
     "metadata": {},
     "output_type": "execute_result"
    }
   ],
   "source": [
    "# Split the train and the validation set for the fitting\n",
    "X_train, X_val, Y_train, Y_val = train_test_split(X_train, Y_train, test_size = 0.1, random_state=random_seed)\n",
    "X_train.shape"
   ]
  },
  {
   "cell_type": "markdown",
   "metadata": {
    "_cell_guid": "3c99964f-4500-4f1c-947d-c67e644e34db",
    "_uuid": "72ed54a305eebf80e8b8b0f7eabde1332a5a85a3"
   },
   "source": [
    "The train set is split into two parts : a small fraction (10%) became the validation set and the rest (90%) is used to train the model."
   ]
  },
  {
   "cell_type": "markdown",
   "metadata": {
    "_cell_guid": "adbeacf0-0dc0-4675-b2df-9c9663750f32",
    "_uuid": "60eed15ec5bc0d354385301789ecb8538fc02267"
   },
   "source": [
    "We can get a better sense for one of these examples by visualising the image and looking at the label."
   ]
  },
  {
   "cell_type": "code",
   "execution_count": 11,
   "metadata": {
    "_cell_guid": "39b5d65b-7cbc-4279-b0a7-06f989c54e93",
    "_uuid": "672e74048526704aa559eb62224072fb923f36b5"
   },
   "outputs": [
    {
     "data": {
      "image/png": "[encoded data removed]",
      "text/plain": [
       "<Figure size 864x345.6 with 40 Axes>"
      ]
     },
     "metadata": {},
     "output_type": "display_data"
    }
   ],
   "source": [
    "# preview the images first\n",
    "plt.figure(figsize=(12,4.8))\n",
    "x, y = 10, 4\n",
    "for i in range(40):  \n",
    "    plt.subplot(y, x, i+1)\n",
    "    plt.imshow(X_train[i].reshape((28,28)),interpolation='nearest')\n",
    "    plt.axis('off')\n",
    "plt.subplots_adjust(wspace=0.1, hspace=0.1)\n",
    "plt.show()"
   ]
  },
  {
   "cell_type": "markdown",
   "metadata": {
    "_cell_guid": "d5265777-aeb3-449d-b171-d88cad74c0a4",
    "_uuid": "5fa18b37a9acd9e098bac1d12264b0dd4310fdd3"
   },
   "source": [
    "# 3. CNN\n",
    "## 3.1 Define the model"
   ]
  },
  {
   "cell_type": "markdown",
   "metadata": {
    "_cell_guid": "504fa00e-148c-4364-9b68-218b3aaedfdb",
    "_uuid": "7697570491420f957f6e4d3569d51410b5277250"
   },
   "source": [
    "I used the Keras Sequential API, where you have just to add one layer at a time, starting from the input.\n",
    "\n",
    "The first is the convolutional (Conv2D) layer. It is like a set of learnable filters. I choosed to set 16 filters for the two firsts conv2D layers and 32 filters for the two last ones. Each filter transforms a part of the image (defined by the kernel size) using the kernel filter. The kernel filter matrix is applied on the whole image. Filters can be seen as a transformation of the image.\n",
    "\n",
    "The second important layer in CNN is the pooling (MaxPool2D) layer. This layer simply acts as a downsampling filter. It looks at the 2 neighboring pixels and picks the maximal value. These are used to reduce computational cost, and to some extent also reduce overfitting. \n",
    "\n",
    "Combining convolutional and pooling layers, CNN are able to generate various local features.\n",
    "\n",
    "Dropout is a regularization method, where a proportion of nodes in the layer are randomly ignored for each training sample. This technique can force the network to learn features in a distributed way and reduces the overfitting. \n",
    "\n",
    "'relu' is the rectifier (activation function max(0,x). The rectifier activation function is used to add non linearity to the network. \n",
    "\n",
    "Batch normalization reduces the amount by what the hidden unit values shift around.\n",
    "\n",
    "Adding another layer of Conv2D->MaxPool2D->Dropout can help the network to capture more complicated features.\n",
    "\n",
    "The Flatten layer is used to convert the final feature maps into a one single 1D vector.  It combines all the found local features of the previous convolutional layers.\n",
    "\n",
    "In the end i used the features in two fully-connected (Dense) layers which is just artificial an neural networks (ANN) classifier. Now all the featrues are combined together to make final judgement. In the last layer(Dense(10,activation=\"softmax\")) the net outputs distribution of probability of each class [0,9]."
   ]
  },
  {
   "cell_type": "code",
   "execution_count": 12,
   "metadata": {
    "_cell_guid": "1e0f3f88-2ad7-459e-8e02-aecc5f3511ae",
    "_execution_state": "idle",
    "_uuid": "f7991ef6871a26f9fa57acdcd460a69bab53e804"
   },
   "outputs": [
    {
     "name": "stdout",
     "output_type": "stream",
     "text": [
      "Model: \"sequential\"\n",
      "_________________________________________________________________\n",
      "Layer (type)                 Output Shape              Param #   \n",
      "=================================================================\n",
      "conv2d (Conv2D)              (None, 26, 26, 16)        160       \n",
      "_________________________________________________________________\n",
      "batch_normalization (BatchNo (None, 26, 26, 16)        64        \n",
      "_________________________________________________________________\n",
      "conv2d_1 (Conv2D)            (None, 24, 24, 16)        2320      \n",
      "_________________________________________________________________\n",
      "batch_normalization_1 (Batch (None, 24, 24, 16)        64        \n",
      "_________________________________________________________________\n",
      "max_pooling2d (MaxPooling2D) (None, 12, 12, 16)        0         \n",
      "_________________________________________________________________\n",
      "dropout (Dropout)            (None, 12, 12, 16)        0         \n",
      "_________________________________________________________________\n",
      "conv2d_2 (Conv2D)            (None, 10, 10, 32)        4640      \n",
      "_________________________________________________________________\n",
      "batch_normalization_2 (Batch (None, 10, 10, 32)        128       \n",
      "_________________________________________________________________\n",
      "conv2d_3 (Conv2D)            (None, 8, 8, 32)          9248      \n",
      "_________________________________________________________________\n",
      "batch_normalization_3 (Batch (None, 8, 8, 32)          128       \n",
      "_________________________________________________________________\n",
      "max_pooling2d_1 (MaxPooling2 (None, 4, 4, 32)          0         \n",
      "_________________________________________________________________\n",
      "dropout_1 (Dropout)          (None, 4, 4, 32)          0         \n",
      "_________________________________________________________________\n",
      "flatten (Flatten)            (None, 512)               0         \n",
      "_________________________________________________________________\n",
      "dense (Dense)                (None, 512)               262656    \n",
      "_________________________________________________________________\n",
      "dropout_2 (Dropout)          (None, 512)               0         \n",
      "_________________________________________________________________\n",
      "dense_1 (Dense)              (None, 1024)              525312    \n",
      "_________________________________________________________________\n",
      "dropout_3 (Dropout)          (None, 1024)              0         \n",
      "_________________________________________________________________\n",
      "dense_2 (Dense)              (None, 10)                10250     \n",
      "=================================================================\n",
      "Total params: 814,970\n",
      "Trainable params: 814,778\n",
      "Non-trainable params: 192\n",
      "_________________________________________________________________\n"
     ]
    }
   ],
   "source": [
    "# Set the CNN model \n",
    "# my CNN architechture is In -> [[Conv2D->relu]*2 -> MaxPool2D -> Dropout]*2 -> Flatten -> [Dense -> Dropout]*2 -> Softmax\n",
    "\n",
    "model = Sequential()\n",
    "\n",
    "model.add(Conv2D(filters = 16, kernel_size = (3, 3), activation='relu',\n",
    "                 input_shape = (28, 28, 1)))\n",
    "model.add(BatchNormalization())\n",
    "model.add(Conv2D(filters = 16, kernel_size = (3, 3), activation='relu'))\n",
    "model.add(BatchNormalization())\n",
    "model.add(MaxPool2D(strides=(2,2)))\n",
    "model.add(Dropout(0.25))\n",
    "\n",
    "model.add(Conv2D(filters = 32, kernel_size = (3, 3), activation='relu'))\n",
    "model.add(BatchNormalization())\n",
    "model.add(Conv2D(filters = 32, kernel_size = (3, 3), activation='relu'))\n",
    "model.add(BatchNormalization())\n",
    "model.add(MaxPool2D(strides=(2,2)))\n",
    "model.add(Dropout(0.25))\n",
    "\n",
    "model.add(Flatten())\n",
    "model.add(Dense(512, activation='relu'))\n",
    "model.add(Dropout(0.25))\n",
    "model.add(Dense(1024, activation='relu'))\n",
    "model.add(Dropout(0.5))\n",
    "model.add(Dense(10, activation='softmax'))\n",
    "model.summary()"
   ]
  },
  {
   "cell_type": "markdown",
   "metadata": {
    "_cell_guid": "0e26b6a3-ef9d-4ae5-9d79-d5e4b073251a",
    "_uuid": "7065512cf892ba49f0c06e239e3a20ff13667ef2"
   },
   "source": [
    "## 3.2 Complie the model with loss function and optimizer\n",
    "\n",
    "The loss function measures the error rate between the oberved labels and the predicted labels. The \"categorical_crossentropy\" loss function is suitable for categorical classifications (>2 classes) .\n",
    "\n",
    "Adam a very effective optimizer to speed up the training of parameters.\n",
    "\n",
    "The metric function \"accuracy\" is used is to evaluate the performance the model."
   ]
  },
  {
   "cell_type": "code",
   "execution_count": 23,
   "metadata": {
    "_cell_guid": "a4c55409-6a65-400a-b5e8-a1dc535429c0",
    "_execution_state": "idle",
    "_uuid": "420c704367b397b8255fefe9d882b35ac8929b95"
   },
   "outputs": [],
   "source": [
    "# Define the optimizer\n",
    "optimizer = Adam(lr=1e-4)"
   ]
  },
  {
   "cell_type": "code",
   "execution_count": 24,
   "metadata": {
    "_cell_guid": "0bd89b79-1a74-40da-af9a-7a76a8b96ff2",
    "_execution_state": "idle",
    "_uuid": "b4c0288622227a3cd05479aa765e324dbb852f34"
   },
   "outputs": [],
   "source": [
    "# Compile the model\n",
    "model.compile(optimizer = optimizer , loss = \"categorical_crossentropy\", metrics=[\"accuracy\"])"
   ]
  },
  {
   "cell_type": "markdown",
   "metadata": {
    "_cell_guid": "241a0f4f-13f5-4b13-be1e-4e3e4a714c06",
    "_uuid": "f24df64b223e0177c94025b6767ab19b722c5386"
   },
   "source": [
    "## 3.3 Data augmentation "
   ]
  },
  {
   "cell_type": "markdown",
   "metadata": {
    "_cell_guid": "e2d41e30-0724-40fb-a901-750e514ba9f9",
    "_uuid": "9e498b91419439f0fa791e595f202d9a0d56ad6b"
   },
   "source": [
    "In order to increase the training data, the original digits are  transformed to reproduce the variations occuring when someone is writing a digit:\n",
    "\n",
    "   - Randomly rotate some training images by 10 degrees\n",
    "   - Randomly  Zoom by 10% some training images\n",
    "   - Randomly shift images horizontally by 10% of the width\n",
    "   - Randomly shift images vertically by 10% of the height\n",
    "\n",
    "The improvement is important : \n",
    "   - Without data augmentation I obtained an accuracy of 98.114%\n",
    "   - With data augmentation I achieved 99.67% of accuracy"
   ]
  },
  {
   "cell_type": "code",
   "execution_count": 26,
   "metadata": {
    "_cell_guid": "ade93d2d-90c6-4401-af95-f7d65f8c0a20",
    "_execution_state": "idle",
    "_uuid": "d4e9e1ade3c04f9ca4d8cd44e799f9e09524d5a1"
   },
   "outputs": [
    {
     "name": "stdout",
     "output_type": "stream",
     "text": [
      "Epoch 1/30\n",
      "440/440 - 55s - loss: 0.0153 - accuracy: 0.9950 - val_loss: 0.0187 - val_accuracy: 0.9955\n",
      "Epoch 2/30\n",
      "440/440 - 55s - loss: 0.0155 - accuracy: 0.9956 - val_loss: 0.0190 - val_accuracy: 0.9945\n",
      "Epoch 3/30\n",
      "440/440 - 54s - loss: 0.0145 - accuracy: 0.9953 - val_loss: 0.0220 - val_accuracy: 0.9955\n",
      "Epoch 4/30\n",
      "440/440 - 54s - loss: 0.0116 - accuracy: 0.9962 - val_loss: 0.0196 - val_accuracy: 0.9955\n",
      "Epoch 5/30\n",
      "440/440 - 55s - loss: 0.0129 - accuracy: 0.9957 - val_loss: 0.0232 - val_accuracy: 0.9952\n",
      "Epoch 6/30\n",
      "440/440 - 52s - loss: 0.0123 - accuracy: 0.9965 - val_loss: 0.0183 - val_accuracy: 0.9960\n",
      "Epoch 7/30\n",
      "440/440 - 52s - loss: 0.0104 - accuracy: 0.9966 - val_loss: 0.0211 - val_accuracy: 0.9955\n",
      "Epoch 8/30\n",
      "440/440 - 52s - loss: 0.0111 - accuracy: 0.9960 - val_loss: 0.0205 - val_accuracy: 0.9952\n",
      "Epoch 9/30\n",
      "440/440 - 52s - loss: 0.0106 - accuracy: 0.9967 - val_loss: 0.0214 - val_accuracy: 0.9960\n",
      "Epoch 10/30\n",
      "440/440 - 52s - loss: 0.0103 - accuracy: 0.9963 - val_loss: 0.0224 - val_accuracy: 0.9948\n",
      "Epoch 11/30\n",
      "440/440 - 52s - loss: 0.0101 - accuracy: 0.9968 - val_loss: 0.0240 - val_accuracy: 0.9943\n",
      "Epoch 12/30\n",
      "440/440 - 52s - loss: 0.0097 - accuracy: 0.9969 - val_loss: 0.0210 - val_accuracy: 0.9945\n",
      "Epoch 13/30\n",
      "440/440 - 52s - loss: 0.0084 - accuracy: 0.9969 - val_loss: 0.0229 - val_accuracy: 0.9943\n",
      "Epoch 14/30\n",
      "440/440 - 56s - loss: 0.0085 - accuracy: 0.9973 - val_loss: 0.0211 - val_accuracy: 0.9950\n",
      "Epoch 15/30\n",
      "440/440 - 64s - loss: 0.0087 - accuracy: 0.9970 - val_loss: 0.0242 - val_accuracy: 0.9943\n",
      "Epoch 16/30\n",
      "440/440 - 65s - loss: 0.0083 - accuracy: 0.9974 - val_loss: 0.0210 - val_accuracy: 0.9952\n",
      "Epoch 17/30\n",
      "440/440 - 59s - loss: 0.0085 - accuracy: 0.9972 - val_loss: 0.0231 - val_accuracy: 0.9950\n",
      "Epoch 18/30\n",
      "440/440 - 55s - loss: 0.0081 - accuracy: 0.9971 - val_loss: 0.0205 - val_accuracy: 0.9950\n",
      "Epoch 19/30\n",
      "440/440 - 53s - loss: 0.0071 - accuracy: 0.9976 - val_loss: 0.0219 - val_accuracy: 0.9948\n",
      "Epoch 20/30\n",
      "440/440 - 55s - loss: 0.0081 - accuracy: 0.9974 - val_loss: 0.0245 - val_accuracy: 0.9957\n",
      "Epoch 21/30\n",
      "440/440 - 54s - loss: 0.0065 - accuracy: 0.9981 - val_loss: 0.0217 - val_accuracy: 0.9957\n",
      "Epoch 22/30\n",
      "440/440 - 60s - loss: 0.0067 - accuracy: 0.9978 - val_loss: 0.0218 - val_accuracy: 0.9952\n",
      "Epoch 23/30\n",
      "440/440 - 54s - loss: 0.0064 - accuracy: 0.9979 - val_loss: 0.0221 - val_accuracy: 0.9943\n",
      "Epoch 24/30\n",
      "440/440 - 54s - loss: 0.0061 - accuracy: 0.9979 - val_loss: 0.0222 - val_accuracy: 0.9957\n",
      "Epoch 25/30\n",
      "440/440 - 60s - loss: 0.0064 - accuracy: 0.9978 - val_loss: 0.0224 - val_accuracy: 0.9955\n",
      "Epoch 26/30\n",
      "440/440 - 53s - loss: 0.0079 - accuracy: 0.9973 - val_loss: 0.0183 - val_accuracy: 0.9962\n",
      "Epoch 27/30\n",
      "440/440 - 52s - loss: 0.0055 - accuracy: 0.9982 - val_loss: 0.0242 - val_accuracy: 0.9952\n",
      "Epoch 28/30\n",
      "440/440 - 52s - loss: 0.0065 - accuracy: 0.9975 - val_loss: 0.0242 - val_accuracy: 0.9955\n",
      "Epoch 29/30\n",
      "440/440 - 53s - loss: 0.0058 - accuracy: 0.9983 - val_loss: 0.0228 - val_accuracy: 0.9955\n",
      "Epoch 30/30\n",
      "440/440 - 162s - loss: 0.0051 - accuracy: 0.9982 - val_loss: 0.0247 - val_accuracy: 0.9950\n"
     ]
    }
   ],
   "source": [
    "# Without data augmentation i obtained an accuracy of 0.98114\n",
    "history = model.fit(X_train, Y_train, batch_size = batch_size, epochs = epochs, \n",
    "         validation_data = (X_val, Y_val), verbose = 2)"
   ]
  },
  {
   "cell_type": "code",
   "execution_count": 27,
   "metadata": {
    "_cell_guid": "b342befe-1a6f-44bf-8dab-28033a729122",
    "_execution_state": "idle",
    "_uuid": "21d6192c87d92d497c797656474bccd9cefc5647"
   },
   "outputs": [],
   "source": [
    "# With data augmentation to prevent overfitting\n",
    "\n",
    "datagen = ImageDataGenerator(\n",
    "        rotation_range=10,  # randomly rotate images in the range (degrees, 0 to 180)\n",
    "        zoom_range = 0.1, # Randomly zoom image \n",
    "        width_shift_range=0.1,  # randomly shift images horizontally (fraction of total width)\n",
    "        height_shift_range=0.1)  # randomly shift images vertically (fraction of total height)\n",
    "\n",
    "datagen.fit(X_train)"
   ]
  },
  {
   "cell_type": "markdown",
   "metadata": {
    "_cell_guid": "7a49f3cd-721c-4bf4-b70d-dd0e318745ef",
    "_uuid": "52fc1b4f335755b476fe3b174842e61ff5e568a8"
   },
   "source": [
    "## 3.4 Fit the model"
   ]
  },
  {
   "cell_type": "markdown",
   "metadata": {
    "_cell_guid": "c12efc3b-1790-4aaa-91ec-b42d963a08d2",
    "_uuid": "2032290c58fb91b4be4d933461a123da222b4cb2"
   },
   "source": [
    "With an annealer, we can set a relative large rating rate in the beginning to approch the global minimum fast, then reduce the learning rate by 10% every epoch to find the best parameters smoothly. "
   ]
  },
  {
   "cell_type": "code",
   "execution_count": 28,
   "metadata": {
    "_cell_guid": "3c74ea1a-3d46-496e-a777-00069323cc84",
    "_uuid": "ac0b8b579c66d7e0d107756abdc3dadd54cb2a69"
   },
   "outputs": [],
   "source": [
    "# Set a learning rate annealer\n",
    "annealer = LearningRateScheduler(lambda x: 1e-3 * 0.9 ** x)\n",
    "\n",
    "# Turn epochs to 30 to get 0.9967 accuracy\n",
    "epochs = 30 \n",
    "batch_size = 86"
   ]
  },
  {
   "cell_type": "code",
   "execution_count": 18,
   "metadata": {
    "_cell_guid": "b453af8d-9736-43e3-b486-7a1cd7dd8909",
    "_execution_state": "idle",
    "_uuid": "cf36b3d029f95b553be02d612e097a9769ee8252"
   },
   "outputs": [
    {
     "name": "stdout",
     "output_type": "stream",
     "text": [
      "WARNING:tensorflow:From <ipython-input-18-fad8e4f35954>:2: Model.fit_generator (from tensorflow.python.keras.engine.training) is deprecated and will be removed in a future version.\n",
      "Instructions for updating:\n",
      "Please use Model.fit, which supports generators.\n",
      "Epoch 1/30\n",
      "439/439 - 55s - loss: 0.4560 - accuracy: 0.8541 - val_loss: 0.8591 - val_accuracy: 0.7412\n",
      "Epoch 2/30\n",
      "439/439 - 54s - loss: 0.1504 - accuracy: 0.9542 - val_loss: 0.0436 - val_accuracy: 0.9850\n",
      "Epoch 3/30\n",
      "439/439 - 54s - loss: 0.1162 - accuracy: 0.9647 - val_loss: 0.0363 - val_accuracy: 0.9883\n",
      "Epoch 4/30\n",
      "439/439 - 54s - loss: 0.0964 - accuracy: 0.9714 - val_loss: 0.0333 - val_accuracy: 0.9898\n",
      "Epoch 5/30\n",
      "439/439 - 54s - loss: 0.0800 - accuracy: 0.9767 - val_loss: 0.0377 - val_accuracy: 0.9876\n",
      "Epoch 6/30\n",
      "439/439 - 54s - loss: 0.0735 - accuracy: 0.9777 - val_loss: 0.0282 - val_accuracy: 0.9917\n",
      "Epoch 7/30\n",
      "439/439 - 56s - loss: 0.0676 - accuracy: 0.9796 - val_loss: 0.0232 - val_accuracy: 0.9929\n",
      "Epoch 8/30\n",
      "439/439 - 57s - loss: 0.0627 - accuracy: 0.9818 - val_loss: 0.0265 - val_accuracy: 0.9910\n",
      "Epoch 9/30\n",
      "439/439 - 54s - loss: 0.0574 - accuracy: 0.9827 - val_loss: 0.0233 - val_accuracy: 0.9933\n",
      "Epoch 10/30\n",
      "439/439 - 54s - loss: 0.0528 - accuracy: 0.9839 - val_loss: 0.0267 - val_accuracy: 0.9931\n",
      "Epoch 11/30\n",
      "439/439 - 55s - loss: 0.0481 - accuracy: 0.9857 - val_loss: 0.0217 - val_accuracy: 0.9929\n",
      "Epoch 12/30\n",
      "439/439 - 53s - loss: 0.0473 - accuracy: 0.9864 - val_loss: 0.0308 - val_accuracy: 0.9910\n",
      "Epoch 13/30\n",
      "439/439 - 53s - loss: 0.0454 - accuracy: 0.9868 - val_loss: 0.0213 - val_accuracy: 0.9929\n",
      "Epoch 14/30\n",
      "439/439 - 53s - loss: 0.0427 - accuracy: 0.9870 - val_loss: 0.0181 - val_accuracy: 0.9945\n",
      "Epoch 15/30\n",
      "439/439 - 53s - loss: 0.0443 - accuracy: 0.9864 - val_loss: 0.0211 - val_accuracy: 0.9936\n",
      "Epoch 16/30\n",
      "439/439 - 53s - loss: 0.0398 - accuracy: 0.9883 - val_loss: 0.0158 - val_accuracy: 0.9945\n",
      "Epoch 17/30\n",
      "439/439 - 53s - loss: 0.0364 - accuracy: 0.9890 - val_loss: 0.0164 - val_accuracy: 0.9948\n",
      "Epoch 18/30\n",
      "439/439 - 54s - loss: 0.0368 - accuracy: 0.9889 - val_loss: 0.0173 - val_accuracy: 0.9948\n",
      "Epoch 19/30\n",
      "439/439 - 53s - loss: 0.0375 - accuracy: 0.9882 - val_loss: 0.0169 - val_accuracy: 0.9945\n",
      "Epoch 20/30\n",
      "439/439 - 53s - loss: 0.0351 - accuracy: 0.9896 - val_loss: 0.0169 - val_accuracy: 0.9945\n",
      "Epoch 21/30\n",
      "439/439 - 53s - loss: 0.0325 - accuracy: 0.9902 - val_loss: 0.0148 - val_accuracy: 0.9952\n",
      "Epoch 22/30\n",
      "439/439 - 58s - loss: 0.0318 - accuracy: 0.9901 - val_loss: 0.0160 - val_accuracy: 0.9948\n",
      "Epoch 23/30\n",
      "439/439 - 58s - loss: 0.0326 - accuracy: 0.9903 - val_loss: 0.0159 - val_accuracy: 0.9948\n",
      "Epoch 24/30\n",
      "439/439 - 64s - loss: 0.0315 - accuracy: 0.9899 - val_loss: 0.0158 - val_accuracy: 0.9952\n",
      "Epoch 25/30\n",
      "439/439 - 58s - loss: 0.0282 - accuracy: 0.9914 - val_loss: 0.0162 - val_accuracy: 0.9945\n",
      "Epoch 26/30\n",
      "439/439 - 64s - loss: 0.0297 - accuracy: 0.9906 - val_loss: 0.0157 - val_accuracy: 0.9955\n",
      "Epoch 27/30\n",
      "439/439 - 55s - loss: 0.0303 - accuracy: 0.9905 - val_loss: 0.0156 - val_accuracy: 0.9948\n",
      "Epoch 28/30\n",
      "439/439 - 55s - loss: 0.0259 - accuracy: 0.9919 - val_loss: 0.0149 - val_accuracy: 0.9955\n",
      "Epoch 29/30\n",
      "439/439 - 58s - loss: 0.0269 - accuracy: 0.9913 - val_loss: 0.0163 - val_accuracy: 0.9955\n",
      "Epoch 30/30\n",
      "439/439 - 61s - loss: 0.0286 - accuracy: 0.9909 - val_loss: 0.0157 - val_accuracy: 0.9952\n"
     ]
    }
   ],
   "source": [
    "# Fit the model\n",
    "history = model.fit_generator(datagen.flow(X_train,Y_train, batch_size=batch_size),\n",
    "                              epochs = epochs, validation_data = (X_val,Y_val),\n",
    "                              verbose = 2, steps_per_epoch=X_train.shape[0] // batch_size\n",
    "                              , callbacks=[annealer])"
   ]
  },
  {
   "cell_type": "markdown",
   "metadata": {
    "_cell_guid": "e758621d-b27b-40ff-a93f-bebd2e0e5243",
    "_uuid": "0a1834f2a9f2db15dcaba4a84004b9627d714469"
   },
   "source": [
    "# 4. Evaluate the model\n",
    "## 4.1 Training and validation curves"
   ]
  },
  {
   "cell_type": "code",
   "execution_count": 37,
   "metadata": {
    "_cell_guid": "eb4b1b73-cbd4-40e8-9790-066fcef4c4c0",
    "_execution_state": "idle",
    "_uuid": "3a831860dd5bb65c8ead1ddcf4ae18ae20dd7f3e"
   },
   "outputs": [
    {
     "data": {
      "image/png": "[encoded data removed]",
      "text/plain": [
       "<Figure size 432x288 with 2 Axes>"
      ]
     },
     "metadata": {},
     "output_type": "display_data"
    }
   ],
   "source": [
    "# Plot the loss and accuracy curves for training and validation \n",
    "fig, ax = plt.subplots(2,1)\n",
    "#ax[0].plot(history.history['loss'], color='b', label=\"Training loss\")\n",
    "ax[0].plot(history.history['val_loss'], color='r', label=\"validation loss\",axes =ax[0])\n",
    "legend = ax[0].legend(loc='best', shadow=True)\n",
    "\n",
    "#ax[1].plot(history.history['acc'], color='b', label=\"Training accuracy\")\n",
    "# ax[1].plot(history.history['val_acc'], color='r',label=\"Validation accuracy\")\n",
    "# legend = ax[1].legend(loc='best', shadow=True)"
   ]
  },
  {
   "cell_type": "markdown",
   "metadata": {
    "_cell_guid": "de1c65bd-4a88-4351-9f4b-562e72e7e0fd",
    "_uuid": "63698d7d51381b33892ce164b0f21930abb3e937"
   },
   "source": [
    "## 4.2 Confusion matrix"
   ]
  },
  {
   "cell_type": "markdown",
   "metadata": {
    "_cell_guid": "5688faa0-b33b-4e92-b125-7fa0b37e7df3",
    "_uuid": "3306d29b732341663e50866140dc569360701a81"
   },
   "source": [
    "Confusion matrix can be very helpfull to see your model drawbacks.\n",
    "\n",
    "I plot the confusion matrix of the validation results."
   ]
  },
  {
   "cell_type": "code",
   "execution_count": 30,
   "metadata": {
    "_cell_guid": "11361e73-8250-4bf5-a353-b0f8ea83e659",
    "_execution_state": "idle",
    "_uuid": "16e161179bf1b51ba66c39b2cead883f1db3a9c7"
   },
   "outputs": [
    {
     "data": {
      "image/png": "[encoded data removed]",
      "text/plain": [
       "<Figure size 432x288 with 2 Axes>"
      ]
     },
     "metadata": {},
     "output_type": "display_data"
    }
   ],
   "source": [
    "# Look at confusion matrix \n",
    "\n",
    "def plot_confusion_matrix(cm, classes,\n",
    "                          normalize=False,\n",
    "                          title='Confusion matrix',\n",
    "                          cmap=plt.cm.Blues):\n",
    "    \"\"\"\n",
    "    This function prints and plots the confusion matrix.\n",
    "    Normalization can be applied by setting `normalize=True`.\n",
    "    \"\"\"\n",
    "    plt.imshow(cm, interpolation='nearest', cmap=cmap)\n",
    "    plt.title(title)\n",
    "    plt.colorbar()\n",
    "    tick_marks = np.arange(len(classes))\n",
    "    plt.xticks(tick_marks, classes, rotation=45)\n",
    "    plt.yticks(tick_marks, classes)\n",
    "\n",
    "    if normalize:\n",
    "        cm = cm.astype('float') / cm.sum(axis=1)[:, np.newaxis]\n",
    "\n",
    "    thresh = cm.max() / 2.\n",
    "    for i, j in itertools.product(range(cm.shape[0]), range(cm.shape[1])):\n",
    "        plt.text(j, i, cm[i, j],\n",
    "                 horizontalalignment=\"center\",\n",
    "                 color=\"white\" if cm[i, j] > thresh else \"black\")\n",
    "\n",
    "    plt.tight_layout()\n",
    "    plt.ylabel('True label')\n",
    "    plt.xlabel('Predicted label')\n",
    "\n",
    "# Predict the values from the validation dataset\n",
    "Y_pred = model.predict(X_val)\n",
    "# Convert predictions classes to one hot vectors \n",
    "Y_pred_classes = np.argmax(Y_pred,axis = 1) \n",
    "# Convert validation observations to one hot vectors\n",
    "Y_true = np.argmax(Y_val,axis = 1) \n",
    "# compute the confusion matrix\n",
    "confusion_mtx = confusion_matrix(Y_true, Y_pred_classes) \n",
    "# plot the confusion matrix\n",
    "plot_confusion_matrix(confusion_mtx, classes = range(10)) "
   ]
  },
  {
   "cell_type": "markdown",
   "metadata": {
    "_cell_guid": "1b8a5cdc-9122-4e31-b9fa-0f6b57d33fc8",
    "_uuid": "ecb928433299b163ecc1f6c4e66d4ddcf38fe898"
   },
   "source": [
    "Here we can see that our CNN performs very well on all digits with few errors considering the size of the validation set (4 200 images).\n",
    "\n",
    "However, it seems that our CNN has some little troubles with the 4 digits, hey are misclassified as 9. Sometime it is very difficult to catch the difference between 4 and 9 when curves are smooth."
   ]
  },
  {
   "cell_type": "markdown",
   "metadata": {
    "_cell_guid": "ef54d686-6f79-4d96-a5a0-a64657bd742e",
    "_execution_state": "idle",
    "_uuid": "afd59cae1115188b77abd3471e5e89790cef80a0"
   },
   "source": [
    "Let's investigate for errors. \n",
    "\n",
    "I want to see the most important errors . For that purpose i need to get the difference between the probabilities of real value and the predicted ones in the results."
   ]
  },
  {
   "cell_type": "code",
   "execution_count": 31,
   "metadata": {
    "_cell_guid": "7b0f31b8-c18b-4529-b0d8-eb4c31e30bbf",
    "_execution_state": "idle",
    "_uuid": "e7a3d6449b499a29db224e42e950f21ca1ec4e36"
   },
   "outputs": [
    {
     "data": {
      "image/png": "[encoded data removed]",
      "text/plain": [
       "<Figure size 504x504 with 9 Axes>"
      ]
     },
     "metadata": {},
     "output_type": "display_data"
    }
   ],
   "source": [
    "# Display some error results \n",
    "\n",
    "# Errors are difference between predicted labels and true labels\n",
    "errors = (Y_pred_classes - Y_true != 0)\n",
    "\n",
    "Y_pred_classes_errors = Y_pred_classes[errors]\n",
    "Y_pred_errors = Y_pred[errors]\n",
    "Y_true_errors = Y_true[errors]\n",
    "X_val_errors = X_val[errors]\n",
    "\n",
    "def display_errors(errors_index,img_errors,pred_errors, obs_errors):\n",
    "    \"\"\" This function shows 6 images with their predicted and real labels\"\"\"\n",
    "    n = 0\n",
    "    nrows = 3\n",
    "    ncols = 3\n",
    "    fig, ax = plt.subplots(nrows,ncols,sharex=True,sharey=True, figsize=(7,7))\n",
    "    plt.subplots_adjust(wspace=0.5, hspace=0.5)\n",
    "    for row in range(nrows):\n",
    "        for col in range(ncols):\n",
    "            error = errors_index[n]\n",
    "            ax[row,col].imshow((img_errors[error]).reshape((28,28)))\n",
    "            ax[row,col].set_title(\"Predicted label :{}\\nTrue label :{}\".format(pred_errors[error],obs_errors[error]))\n",
    "            n += 1\n",
    "\n",
    "# Probabilities of the wrong predicted numbers\n",
    "Y_pred_errors_prob = np.max(Y_pred_errors,axis = 1)\n",
    "\n",
    "# Predicted probabilities of the true values in the error set\n",
    "true_prob_errors = np.diagonal(np.take(Y_pred_errors, Y_true_errors, axis=1))\n",
    "\n",
    "# Difference between the probability of the predicted label and the true label\n",
    "delta_pred_true_errors = Y_pred_errors_prob - true_prob_errors\n",
    "\n",
    "# Sorted list of the delta prob errors\n",
    "sorted_dela_errors = np.argsort(delta_pred_true_errors)\n",
    "\n",
    "# Top 9 errors \n",
    "most_important_errors = sorted_dela_errors[-9:]\n",
    "\n",
    "# Show the top 6 errors\n",
    "display_errors(most_important_errors, X_val_errors, Y_pred_classes_errors, Y_true_errors)"
   ]
  },
  {
   "cell_type": "markdown",
   "metadata": {
    "_cell_guid": "d21c4caf-e699-4647-8ef4-e60e868607ae",
    "_execution_state": "idle",
    "_uuid": "afc408bd5545a6a2b2d4e04989890546263cb642"
   },
   "source": [
    "The most important errors are also the most intrigous. \n",
    "\n",
    "For those six case, the model is not ridiculous. Some of these errors can also be made by humans, especially for one the 9 that is very close to a 4. The last 9 is also very misleading, it seems for me that is a 0."
   ]
  },
  {
   "cell_type": "markdown",
   "metadata": {
    "_cell_guid": "23822168-974d-4602-83db-e9a2e986a7ed",
    "_uuid": "0ed8325d6ff58030508da0533d698df625d8ca75"
   },
   "source": [
    "## 4.3 Generate Results"
   ]
  },
  {
   "cell_type": "code",
   "execution_count": 32,
   "metadata": {
    "_cell_guid": "05ff3b9f-c3bb-4cec-a8c2-2c128e8f15b3",
    "_execution_state": "idle",
    "_uuid": "7f17e7bf0a54a01a52fef2d554780f6bc6580dc6"
   },
   "outputs": [],
   "source": [
    "# predict results\n",
    "results = model.predict(test)\n",
    "\n",
    "# select the indix with the maximum probability\n",
    "results = np.argmax(results,axis = 1)\n",
    "\n",
    "results = pd.Series(results,name=\"Label\")"
   ]
  },
  {
   "cell_type": "code",
   "execution_count": 33,
   "metadata": {
    "_cell_guid": "b5f1f39f-13b8-439a-8913-0f120e3d47a9",
    "_execution_state": "idle",
    "_uuid": "369dfaab09240f3f12bcff91953ffd315ab84985"
   },
   "outputs": [],
   "source": [
    "submission = pd.concat([pd.Series(range(1,28001),name = \"ImageId\"),results],axis = 1)\n",
    "\n",
    "submission.to_csv(\"cnn_mnist_datagen.csv\",index=False)"
   ]
  },
  {
   "cell_type": "markdown",
   "metadata": {
    "_cell_guid": "97975715-8ec4-44b3-8b79-47892fc5ae70",
    "_uuid": "82bbe95375961bf8d4edf1007e5b3140f6583709"
   },
   "source": [
    "# 5. Visualize the model\n",
    "\n",
    "## 5.1 Visualize the metrix of first convolutional layer"
   ]
  },
  {
   "cell_type": "code",
   "execution_count": 34,
   "metadata": {
    "_cell_guid": "3b9fee04-5418-4f18-bbef-d690fcc40a11",
    "_uuid": "ce29ebd1b02a7254b6dac17e2445c35374eb34be"
   },
   "outputs": [
    {
     "data": {
      "image/png": "[encoded data removed]",
      "text/plain": [
       "<Figure size 432x288 with 16 Axes>"
      ]
     },
     "metadata": {},
     "output_type": "display_data"
    }
   ],
   "source": [
    "layer1 = model.layers[0]\n",
    "layer1.name\n",
    "conv2d_1w = layer1.get_weights()[0][:,:,0,:]\n",
    "for i in range(1,17):\n",
    "      plt.subplot(4,4,i)\n",
    "      plt.imshow(conv2d_1w[:,:,i-1],interpolation=\"nearest\",cmap=\"gray\")\n",
    "plt.show()"
   ]
  },
  {
   "cell_type": "markdown",
   "metadata": {
    "_cell_guid": "d36bfc87-b865-4fea-85fa-7eaa1efcbee0",
    "_uuid": "dc2b2d1cedb56897f025af3a22ea5b31a07cb488"
   },
   "source": [
    "## 5.2 Visualize the output of convolutional and pooling layers"
   ]
  },
  {
   "cell_type": "code",
   "execution_count": 40,
   "metadata": {
    "_cell_guid": "2144de20-82f0-480e-83d7-869e42665c7d",
    "_uuid": "f494813b04893a68bd5429a935520577c8dc45b3"
   },
   "outputs": [
    {
     "data": {
      "image/png": "[encoded data removed]",
      "text/plain": [
       "<Figure size 432x288 with 1 Axes>"
      ]
     },
     "metadata": {},
     "output_type": "display_data"
    }
   ],
   "source": [
    "# visualize convolution and pool layer\n",
    "test_im = X_train[2]\n",
    "plt.imshow(test_im.reshape(28,28), cmap='viridis', interpolation='none')\n",
    "\n",
    "# activation output\n",
    "layer_outputs = [layer.output for layer in model.layers[:12]]\n",
    "# activation_model = models.Model(input=model.input, output=layer_outputs)\n",
    "# activations = activation_model.predict(test_im.reshape(1,28,28,1))\n",
    "\n",
    "# layer_names = []\n",
    "# for layer in model.layers:\n",
    "#     layer_names.append(layer.name) \n",
    "# images_per_row = 4\n",
    "# for layer_name, layer_activation in zip(layer_names[:12], activations):\n",
    "#     #if layer_name.startswith('conv'):\n",
    "#         n_features = layer_activation.shape[-1]\n",
    "#         size = layer_activation.shape[1]\n",
    "#         n_cols = n_features // images_per_row\n",
    "#         display_grid = np.zeros((size * n_cols, images_per_row * size))\n",
    "#         for col in range(n_cols):\n",
    "#             for row in range(images_per_row):\n",
    "#                 channel_image = layer_activation[0,:, :, col * images_per_row + row]\n",
    "#                 channel_image -= channel_image.mean()\n",
    "#                 channel_image /= channel_image.std()\n",
    "#                 channel_image *= 64\n",
    "#                 channel_image += 128\n",
    "#                 channel_image = np.clip(channel_image, 0, 255).astype('uint8')\n",
    "#                 display_grid[col * size : (col + 1) * size,\n",
    "#                              row * size : (row + 1) * size] = channel_image\n",
    "#         scale = 1. / size\n",
    "#         plt.figure(figsize=(scale * display_grid.shape[1],\n",
    "#                             scale * display_grid.shape[0]))\n",
    "#         plt.title(layer_name, fontsize = 20)\n",
    "#         plt.grid(False)\n",
    "#         plt.imshow(display_grid, aspect='auto', cmap='viridis')"
   ]
  },
  {
   "cell_type": "markdown",
   "metadata": {
    "_cell_guid": "9336c686-37dd-4cf4-ae7e-1b92ee6431af",
    "_uuid": "b6ae889d015b864882016177356c528beeaad1da"
   },
   "source": [
    "## 5.3 Visualize the output of fully connected layer"
   ]
  },
  {
   "cell_type": "code",
   "execution_count": 42,
   "metadata": {
    "_cell_guid": "1813c523-9893-41e7-a5c5-af93b469f86a",
    "_uuid": "2ea54868f53b103a06667916723778ef0f7cb40b"
   },
   "outputs": [
    {
     "data": {
      "text/plain": [
       "<Figure size 432x288 with 0 Axes>"
      ]
     },
     "metadata": {},
     "output_type": "display_data"
    }
   ],
   "source": [
    "#visualize full conected layer\n",
    "fc_layer = model.layers[-3]\n",
    "# activation_model = models.Model(input=model.input, output=fc_layer.output)\n",
    "# activations = activation_model.predict(test_im.reshape(1,28,28,1))   \n",
    "# activation = activations[0].reshape(32,32)\n",
    "# plt.imshow(activation, aspect='auto', cmap='viridis')\n",
    "\n",
    "# # organize the training images by label\n",
    "# Y_train_value_df = pd.DataFrame(Y_train_value,columns=['label'])\n",
    "# Y_train_value_df['pos']=Y_train_value_df.index\n",
    "# Y_train_label_pos = Y_train_value_df.groupby('label')['pos'].apply(list)\n",
    "# pos = Y_train_label_pos[1][0]\n",
    "\n",
    "#display 3 rows of digit image [0,9], with last full connected layer at bottom\n",
    "# plt.figure(figsize=(16,8))\n",
    "# x, y = 10, 3\n",
    "# for i in range(y):  \n",
    "#     for j in range(x):\n",
    "#         # digit image\n",
    "#         plt.subplot(y*2, x, i*2*x+j+1)\n",
    "#         pos = Y_train_label_pos[j][i] # j is label, i in the index of the list\n",
    "#         plt.imshow(X_train[pos].reshape((28,28)),interpolation='nearest')\n",
    "#         plt.axis('off')\n",
    "#         plt.subplot(y*2, x, (i*2+1)*x+j+1)\n",
    "#         activations = activation_model.predict(X_train[pos].reshape(1,28,28,1))   \n",
    "#         activation = activations[0].reshape(32,32)\n",
    "#         plt.imshow(activation, aspect='auto', cmap='viridis')\n",
    "#         plt.axis('off')\n",
    "plt.subplots_adjust(wspace=0.1, hspace=0.1)\n",
    "plt.show()"
   ]
  },
  {
   "cell_type": "markdown",
   "metadata": {
    "_cell_guid": "a6aa6c26-086f-4dae-b38a-9f111d94984d",
    "_uuid": "bf0e323f9d0653cf75b764682892568abb8d5bab",
    "collapsed": true
   },
   "source": [
    "## Credit\n",
    "\n",
    "I learned a lot from the following kernals:\n",
    "\n",
    "[Introduction to CNN Keras - 0.997 (top 6%)](https://www.kaggle.com/yassineghouzam/introduction-to-cnn-keras-0-997-top-6)\n",
    "\n",
    "[Welcome to deep learning (CNN 99%)](https://www.kaggle.com/toregil/welcome-to-deep-learning-cnn-99/)\n",
    "\n",
    "[MNIST with Keras for Beginners(.99457)](https://www.kaggle.com/adityaecdrid/mnist-with-keras-for-beginners-99457/)\n",
    "\n",
    "\n"
   ]
  },
  {
   "cell_type": "code",
   "execution_count": null,
   "metadata": {},
   "outputs": [],
   "source": []
  }
 ],
 "metadata": {
  "kernelspec": {
   "display_name": "Python 3",
   "language": "python",
   "name": "python3"
  },
  "language_info": {
   "codemirror_mode": {
    "name": "ipython",
    "version": 3
   },
   "file_extension": ".py",
   "mimetype": "text/x-python",
   "name": "python",
   "nbconvert_exporter": "python",
   "pygments_lexer": "ipython3",
   "version": "3.8.8"
  }
 },
 "nbformat": 4,
 "nbformat_minor": 2
}
