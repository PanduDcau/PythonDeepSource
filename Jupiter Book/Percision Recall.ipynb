{
 "cells": [
  {
   "cell_type": "markdown",
   "id": "cd8da41a",
   "metadata": {},
   "source": [
    "### Importing Library"
   ]
  },
  {
   "cell_type": "code",
   "execution_count": 5,
   "id": "c813974f",
   "metadata": {},
   "outputs": [],
   "source": [
    "from matplotlib import pyplot as plt\n",
    "from sklearn.metrics import confusion_matrix , classification_report\n",
    "import pandas as pd\n",
    "import seaborn as sns # To get graphs"
   ]
  },
  {
   "cell_type": "code",
   "execution_count": 2,
   "id": "afc2cbc2",
   "metadata": {},
   "outputs": [],
   "source": [
    "def print_confusion_matrix(confusion_matrix, class_names, figsize = (10,7), fontsize=14):\n",
    "    \"\"\"Prints a confusion matrix, as returned by sklearn.metrics.confusion_matrix, as a heatmap.\n",
    "    \n",
    "    Arguments\n",
    "    ---------\n",
    "    confusion_matrix: numpy.ndarray\n",
    "        The numpy.ndarray object returned from a call to sklearn.metrics.confusion_matrix. \n",
    "        Similarly constructed ndarrays can also be used.\n",
    "    class_names: list\n",
    "        An ordered list of class names, in the order they index the given confusion matrix.\n",
    "    figsize: tuple\n",
    "        A 2-long tuple, the first value determining the horizontal size of the ouputted figure,\n",
    "        the second determining the vertical size. Defaults to (10,7).\n",
    "    fontsize: int\n",
    "        Font size for axes labels. Defaults to 14.\n",
    "        \n",
    "    Returns\n",
    "    -------\n",
    "    matplotlib.figure.Figure\n",
    "        The resulting confusion matrix figure\n",
    "    \"\"\"\n",
    "    df_cm = pd.DataFrame(\n",
    "        confusion_matrix, index=class_names, columns=class_names, \n",
    "    )\n",
    "    fig = plt.figure(figsize=figsize)\n",
    "    try:\n",
    "        heatmap = sns.heatmap(df_cm, annot=True, fmt=\"d\")\n",
    "    except ValueError:\n",
    "        raise ValueError(\"Confusion matrix values must be integers.\")\n",
    "    heatmap.yaxis.set_ticklabels(heatmap.yaxis.get_ticklabels(), rotation=0, ha='right', fontsize=fontsize)\n",
    "    heatmap.xaxis.set_ticklabels(heatmap.xaxis.get_ticklabels(), rotation=45, ha='right', fontsize=fontsize)\n",
    "    plt.ylabel('Truth')\n",
    "    plt.xlabel('Prediction')"
   ]
  },
  {
   "cell_type": "code",
   "execution_count": 3,
   "id": "c07e2524",
   "metadata": {},
   "outputs": [],
   "source": [
    "truth =      [\"Dog\",\"Not a dog\",\"Dog\",\"Dog\",      \"Dog\", \"Not a dog\", \"Not a dog\", \"Dog\",       \"Dog\", \"Not a dog\"]\n",
    "prediction = [\"Dog\",\"Dog\",      \"Dog\",\"Not a dog\",\"Dog\", \"Not a dog\", \"Dog\",       \"Not a dog\", \"Dog\", \"Dog\"]"
   ]
  },
  {
   "cell_type": "code",
   "execution_count": 6,
   "id": "152bae8a",
   "metadata": {},
   "outputs": [
    {
     "data": {
      "image/png": "[encoded data removed]",
      "text/plain": [
       "<Figure size 720x504 with 2 Axes>"
      ]
     },
     "metadata": {
      "needs_background": "light"
     },
     "output_type": "display_data"
    }
   ],
   "source": [
    "cm = confusion_matrix(truth,prediction)\n",
    "print_confusion_matrix(cm,[\"Dog\",\"Not a dog\"])"
   ]
  },
  {
   "cell_type": "code",
   "execution_count": 7,
   "id": "02fbaf38",
   "metadata": {},
   "outputs": [
    {
     "name": "stdout",
     "output_type": "stream",
     "text": [
      "              precision    recall  f1-score   support\n",
      "\n",
      "         Dog       0.57      0.67      0.62         6\n",
      "   Not a dog       0.33      0.25      0.29         4\n",
      "\n",
      "    accuracy                           0.50        10\n",
      "   macro avg       0.45      0.46      0.45        10\n",
      "weighted avg       0.48      0.50      0.48        10\n",
      "\n"
     ]
    }
   ],
   "source": [
    "print(classification_report(truth, prediction))"
   ]
  },
  {
   "cell_type": "markdown",
   "id": "8fc0508d",
   "metadata": {},
   "source": [
    "### f1 score for Dog class"
   ]
  },
  {
   "cell_type": "code",
   "execution_count": 8,
   "id": "171d5a72",
   "metadata": {},
   "outputs": [
    {
     "data": {
      "text/plain": [
       "0.6159677419354839"
      ]
     },
     "execution_count": 8,
     "metadata": {},
     "output_type": "execute_result"
    }
   ],
   "source": [
    "2*(0.57*0.67/(0.57+0.67))"
   ]
  },
  {
   "cell_type": "markdown",
   "id": "02829956",
   "metadata": {},
   "source": [
    "### f1 score for No-Dog class"
   ]
  },
  {
   "cell_type": "code",
   "execution_count": 9,
   "id": "19278f45",
   "metadata": {},
   "outputs": [
    {
     "data": {
      "text/plain": [
       "0.2844827586206896"
      ]
     },
     "execution_count": 9,
     "metadata": {},
     "output_type": "execute_result"
    }
   ],
   "source": [
    "2*(0.33*0.25/(0.33+0.25))"
   ]
  },
  {
   "cell_type": "code",
   "execution_count": null,
   "id": "bd9f1b12",
   "metadata": {},
   "outputs": [],
   "source": []
  }
 ],
 "metadata": {
  "kernelspec": {
   "display_name": "Python 3 (ipykernel)",
   "language": "python",
   "name": "python3"
  },
  "language_info": {
   "codemirror_mode": {
    "name": "ipython",
    "version": 3
   },
   "file_extension": ".py",
   "mimetype": "text/x-python",
   "name": "python",
   "nbconvert_exporter": "python",
   "pygments_lexer": "ipython3",
   "version": "3.8.8"
  }
 },
 "nbformat": 4,
 "nbformat_minor": 5
}
