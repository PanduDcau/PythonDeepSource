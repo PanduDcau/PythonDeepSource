{
 "cells": [
  {
   "cell_type": "markdown",
   "id": "519cbe58",
   "metadata": {},
   "source": [
    "# Importing Libraries"
   ]
  },
  {
   "cell_type": "code",
   "execution_count": 25,
   "id": "2b6cd45e",
   "metadata": {},
   "outputs": [],
   "source": [
    "import pandas as pd\n",
    "import numpy as np\n",
    "import matplotlib.pyplot as plt\n",
    "import seaborn as sns\n",
    "from sklearn.linear_model import LinearRegression\n",
    "from sklearn.model_selection import train_test_split\n",
    "from sklearn.preprocessing import StandardScaler\n",
    "from sklearn.preprocessing import PolynomialFeatures\n",
    "from sklearn.pipeline import Pipeline\n",
    "from sklearn.preprocessing import normalize"
   ]
  },
  {
   "cell_type": "markdown",
   "id": "48f54555",
   "metadata": {},
   "source": [
    "# Importing Data"
   ]
  },
  {
   "cell_type": "code",
   "execution_count": 3,
   "id": "7c28a1f8",
   "metadata": {},
   "outputs": [],
   "source": [
    "data_df=pd.read_csv('/Users/Asus/Documents/Atmel Studio/Protein.csv')"
   ]
  },
  {
   "cell_type": "code",
   "execution_count": 4,
   "id": "1717251d",
   "metadata": {},
   "outputs": [
    {
     "name": "stdout",
     "output_type": "stream",
     "text": [
      "<class 'pandas.core.frame.DataFrame'>\n",
      "RangeIndex: 45730 entries, 0 to 45729\n",
      "Data columns (total 10 columns):\n",
      " #   Column  Non-Null Count  Dtype  \n",
      "---  ------  --------------  -----  \n",
      " 0   RMSD    45730 non-null  float64\n",
      " 1   F1      45730 non-null  float64\n",
      " 2   F2      45730 non-null  float64\n",
      " 3   F3      45730 non-null  float64\n",
      " 4   F4      45730 non-null  float64\n",
      " 5   F5      45730 non-null  float64\n",
      " 6   F6      45730 non-null  float64\n",
      " 7   F7      45730 non-null  float64\n",
      " 8   F8      45730 non-null  int64  \n",
      " 9   F9      45730 non-null  float64\n",
      "dtypes: float64(9), int64(1)\n",
      "memory usage: 3.5 MB\n"
     ]
    }
   ],
   "source": [
    "# Complete information about data\n",
    "data_df.info()"
   ]
  },
  {
   "cell_type": "code",
   "execution_count": 5,
   "id": "34a93b66",
   "metadata": {
    "scrolled": true
   },
   "outputs": [
    {
     "data": {
      "text/html": [
       "<div>\n",
       "<style scoped>\n",
       "    .dataframe tbody tr th:only-of-type {\n",
       "        vertical-align: middle;\n",
       "    }\n",
       "\n",
       "    .dataframe tbody tr th {\n",
       "        vertical-align: top;\n",
       "    }\n",
       "\n",
       "    .dataframe thead th {\n",
       "        text-align: right;\n",
       "    }\n",
       "</style>\n",
       "<table border=\"1\" class=\"dataframe\">\n",
       "  <thead>\n",
       "    <tr style=\"text-align: right;\">\n",
       "      <th></th>\n",
       "      <th>RMSD</th>\n",
       "      <th>F1</th>\n",
       "      <th>F2</th>\n",
       "      <th>F3</th>\n",
       "      <th>F4</th>\n",
       "      <th>F5</th>\n",
       "      <th>F6</th>\n",
       "      <th>F7</th>\n",
       "      <th>F8</th>\n",
       "      <th>F9</th>\n",
       "    </tr>\n",
       "  </thead>\n",
       "  <tbody>\n",
       "    <tr>\n",
       "      <th>count</th>\n",
       "      <td>45730.000000</td>\n",
       "      <td>45730.000000</td>\n",
       "      <td>45730.000000</td>\n",
       "      <td>45730.000000</td>\n",
       "      <td>45730.000000</td>\n",
       "      <td>4.573000e+04</td>\n",
       "      <td>45730.000000</td>\n",
       "      <td>45730.000000</td>\n",
       "      <td>45730.000000</td>\n",
       "      <td>45730.000000</td>\n",
       "    </tr>\n",
       "    <tr>\n",
       "      <th>mean</th>\n",
       "      <td>7.748528</td>\n",
       "      <td>9871.596995</td>\n",
       "      <td>3017.367175</td>\n",
       "      <td>0.302392</td>\n",
       "      <td>103.492433</td>\n",
       "      <td>1.368299e+06</td>\n",
       "      <td>145.638061</td>\n",
       "      <td>3989.755990</td>\n",
       "      <td>69.975071</td>\n",
       "      <td>34.523664</td>\n",
       "    </tr>\n",
       "    <tr>\n",
       "      <th>std</th>\n",
       "      <td>6.118312</td>\n",
       "      <td>4058.138034</td>\n",
       "      <td>1464.324663</td>\n",
       "      <td>0.062886</td>\n",
       "      <td>55.424985</td>\n",
       "      <td>5.640367e+05</td>\n",
       "      <td>69.999230</td>\n",
       "      <td>1993.574575</td>\n",
       "      <td>56.493443</td>\n",
       "      <td>5.979755</td>\n",
       "    </tr>\n",
       "    <tr>\n",
       "      <th>min</th>\n",
       "      <td>0.000000</td>\n",
       "      <td>2392.050000</td>\n",
       "      <td>403.500000</td>\n",
       "      <td>0.092500</td>\n",
       "      <td>10.310100</td>\n",
       "      <td>3.194902e+05</td>\n",
       "      <td>31.970400</td>\n",
       "      <td>0.000000</td>\n",
       "      <td>0.000000</td>\n",
       "      <td>15.228000</td>\n",
       "    </tr>\n",
       "    <tr>\n",
       "      <th>25%</th>\n",
       "      <td>2.305000</td>\n",
       "      <td>6936.680000</td>\n",
       "      <td>1979.045000</td>\n",
       "      <td>0.258740</td>\n",
       "      <td>63.563900</td>\n",
       "      <td>9.535912e+05</td>\n",
       "      <td>94.757500</td>\n",
       "      <td>3165.322500</td>\n",
       "      <td>31.000000</td>\n",
       "      <td>30.424725</td>\n",
       "    </tr>\n",
       "    <tr>\n",
       "      <th>50%</th>\n",
       "      <td>5.030000</td>\n",
       "      <td>8898.805000</td>\n",
       "      <td>2668.155000</td>\n",
       "      <td>0.300150</td>\n",
       "      <td>87.740800</td>\n",
       "      <td>1.237219e+06</td>\n",
       "      <td>126.176000</td>\n",
       "      <td>3840.170000</td>\n",
       "      <td>54.000000</td>\n",
       "      <td>35.299300</td>\n",
       "    </tr>\n",
       "    <tr>\n",
       "      <th>75%</th>\n",
       "      <td>13.379000</td>\n",
       "      <td>12126.150000</td>\n",
       "      <td>3786.410000</td>\n",
       "      <td>0.342890</td>\n",
       "      <td>133.646750</td>\n",
       "      <td>1.690920e+06</td>\n",
       "      <td>181.468500</td>\n",
       "      <td>4644.192500</td>\n",
       "      <td>91.000000</td>\n",
       "      <td>38.870800</td>\n",
       "    </tr>\n",
       "    <tr>\n",
       "      <th>max</th>\n",
       "      <td>20.999000</td>\n",
       "      <td>40034.900000</td>\n",
       "      <td>15312.000000</td>\n",
       "      <td>0.577690</td>\n",
       "      <td>369.317000</td>\n",
       "      <td>5.472011e+06</td>\n",
       "      <td>598.408000</td>\n",
       "      <td>105948.170000</td>\n",
       "      <td>350.000000</td>\n",
       "      <td>55.300900</td>\n",
       "    </tr>\n",
       "  </tbody>\n",
       "</table>\n",
       "</div>"
      ],
      "text/plain": [
       "               RMSD            F1            F2            F3            F4  \\\n",
       "count  45730.000000  45730.000000  45730.000000  45730.000000  45730.000000   \n",
       "mean       7.748528   9871.596995   3017.367175      0.302392    103.492433   \n",
       "std        6.118312   4058.138034   1464.324663      0.062886     55.424985   \n",
       "min        0.000000   2392.050000    403.500000      0.092500     10.310100   \n",
       "25%        2.305000   6936.680000   1979.045000      0.258740     63.563900   \n",
       "50%        5.030000   8898.805000   2668.155000      0.300150     87.740800   \n",
       "75%       13.379000  12126.150000   3786.410000      0.342890    133.646750   \n",
       "max       20.999000  40034.900000  15312.000000      0.577690    369.317000   \n",
       "\n",
       "                 F5            F6             F7            F8            F9  \n",
       "count  4.573000e+04  45730.000000   45730.000000  45730.000000  45730.000000  \n",
       "mean   1.368299e+06    145.638061    3989.755990     69.975071     34.523664  \n",
       "std    5.640367e+05     69.999230    1993.574575     56.493443      5.979755  \n",
       "min    3.194902e+05     31.970400       0.000000      0.000000     15.228000  \n",
       "25%    9.535912e+05     94.757500    3165.322500     31.000000     30.424725  \n",
       "50%    1.237219e+06    126.176000    3840.170000     54.000000     35.299300  \n",
       "75%    1.690920e+06    181.468500    4644.192500     91.000000     38.870800  \n",
       "max    5.472011e+06    598.408000  105948.170000    350.000000     55.300900  "
      ]
     },
     "execution_count": 5,
     "metadata": {},
     "output_type": "execute_result"
    }
   ],
   "source": [
    "# Data Exploration: Summarize Data\n",
    "data_df.describe()"
   ]
  },
  {
   "cell_type": "code",
   "execution_count": 6,
   "id": "316b6084",
   "metadata": {},
   "outputs": [
    {
     "data": {
      "text/plain": [
       "(45730, 10)"
      ]
     },
     "execution_count": 6,
     "metadata": {},
     "output_type": "execute_result"
    }
   ],
   "source": [
    "# Shape\n",
    "data_df.shape\n"
   ]
  },
  {
   "cell_type": "code",
   "execution_count": 7,
   "id": "96bcbae2",
   "metadata": {},
   "outputs": [
    {
     "data": {
      "text/plain": [
       "RMSD    45730\n",
       "F1      45730\n",
       "F2      45730\n",
       "F3      45730\n",
       "F4      45730\n",
       "F5      45730\n",
       "F6      45730\n",
       "F7      45730\n",
       "F8      45730\n",
       "F9      45730\n",
       "dtype: int64"
      ]
     },
     "execution_count": 7,
     "metadata": {},
     "output_type": "execute_result"
    }
   ],
   "source": [
    "# Count Rows\n",
    "data_df.count()"
   ]
  },
  {
   "cell_type": "code",
   "execution_count": 8,
   "id": "f101d846",
   "metadata": {},
   "outputs": [
    {
     "data": {
      "text/html": [
       "<div>\n",
       "<style scoped>\n",
       "    .dataframe tbody tr th:only-of-type {\n",
       "        vertical-align: middle;\n",
       "    }\n",
       "\n",
       "    .dataframe tbody tr th {\n",
       "        vertical-align: top;\n",
       "    }\n",
       "\n",
       "    .dataframe thead th {\n",
       "        text-align: right;\n",
       "    }\n",
       "</style>\n",
       "<table border=\"1\" class=\"dataframe\">\n",
       "  <thead>\n",
       "    <tr style=\"text-align: right;\">\n",
       "      <th></th>\n",
       "      <th>RMSD</th>\n",
       "      <th>Surface Area</th>\n",
       "      <th>Non polar Area</th>\n",
       "      <th>F.A of exposed non polar residue</th>\n",
       "      <th>F.A of exposed non polar part of residue.</th>\n",
       "      <th>Molecular mass weighted exposed area.</th>\n",
       "      <th>Average deviation from standard exposed area of residue.</th>\n",
       "      <th>Euclidian distance</th>\n",
       "      <th>Secondary structure penalty</th>\n",
       "      <th>Spacial Distribution constraints (N,K Value)</th>\n",
       "    </tr>\n",
       "  </thead>\n",
       "  <tbody>\n",
       "    <tr>\n",
       "      <th>0</th>\n",
       "      <td>17.284</td>\n",
       "      <td>13558.30</td>\n",
       "      <td>4305.35</td>\n",
       "      <td>0.31754</td>\n",
       "      <td>162.1730</td>\n",
       "      <td>1.872791e+06</td>\n",
       "      <td>215.3590</td>\n",
       "      <td>4287.87</td>\n",
       "      <td>102</td>\n",
       "      <td>27.0302</td>\n",
       "    </tr>\n",
       "    <tr>\n",
       "      <th>1</th>\n",
       "      <td>6.021</td>\n",
       "      <td>6191.96</td>\n",
       "      <td>1623.16</td>\n",
       "      <td>0.26213</td>\n",
       "      <td>53.3894</td>\n",
       "      <td>8.034467e+05</td>\n",
       "      <td>87.2024</td>\n",
       "      <td>3328.91</td>\n",
       "      <td>39</td>\n",
       "      <td>38.5468</td>\n",
       "    </tr>\n",
       "    <tr>\n",
       "      <th>2</th>\n",
       "      <td>9.275</td>\n",
       "      <td>7725.98</td>\n",
       "      <td>1726.28</td>\n",
       "      <td>0.22343</td>\n",
       "      <td>67.2887</td>\n",
       "      <td>1.075648e+06</td>\n",
       "      <td>81.7913</td>\n",
       "      <td>2981.04</td>\n",
       "      <td>29</td>\n",
       "      <td>38.8119</td>\n",
       "    </tr>\n",
       "    <tr>\n",
       "      <th>3</th>\n",
       "      <td>15.851</td>\n",
       "      <td>8424.58</td>\n",
       "      <td>2368.25</td>\n",
       "      <td>0.28111</td>\n",
       "      <td>67.8325</td>\n",
       "      <td>1.210472e+06</td>\n",
       "      <td>109.4390</td>\n",
       "      <td>3248.22</td>\n",
       "      <td>70</td>\n",
       "      <td>39.0651</td>\n",
       "    </tr>\n",
       "    <tr>\n",
       "      <th>4</th>\n",
       "      <td>7.962</td>\n",
       "      <td>7460.84</td>\n",
       "      <td>1736.94</td>\n",
       "      <td>0.23280</td>\n",
       "      <td>52.4123</td>\n",
       "      <td>1.021020e+06</td>\n",
       "      <td>94.5234</td>\n",
       "      <td>2814.42</td>\n",
       "      <td>41</td>\n",
       "      <td>39.9147</td>\n",
       "    </tr>\n",
       "  </tbody>\n",
       "</table>\n",
       "</div>"
      ],
      "text/plain": [
       "     RMSD  Surface Area  Non polar Area  F.A of exposed non polar residue  \\\n",
       "0  17.284      13558.30         4305.35                           0.31754   \n",
       "1   6.021       6191.96         1623.16                           0.26213   \n",
       "2   9.275       7725.98         1726.28                           0.22343   \n",
       "3  15.851       8424.58         2368.25                           0.28111   \n",
       "4   7.962       7460.84         1736.94                           0.23280   \n",
       "\n",
       "   F.A of exposed non polar part of residue.  \\\n",
       "0                                   162.1730   \n",
       "1                                    53.3894   \n",
       "2                                    67.2887   \n",
       "3                                    67.8325   \n",
       "4                                    52.4123   \n",
       "\n",
       "    Molecular mass weighted exposed area.  \\\n",
       "0                            1.872791e+06   \n",
       "1                            8.034467e+05   \n",
       "2                            1.075648e+06   \n",
       "3                            1.210472e+06   \n",
       "4                            1.021020e+06   \n",
       "\n",
       "   Average deviation from standard exposed area of residue.  \\\n",
       "0                                           215.3590          \n",
       "1                                            87.2024          \n",
       "2                                            81.7913          \n",
       "3                                           109.4390          \n",
       "4                                            94.5234          \n",
       "\n",
       "   Euclidian distance  Secondary structure penalty  \\\n",
       "0             4287.87                          102   \n",
       "1             3328.91                           39   \n",
       "2             2981.04                           29   \n",
       "3             3248.22                           70   \n",
       "4             2814.42                           41   \n",
       "\n",
       "   Spacial Distribution constraints (N,K Value)  \n",
       "0                                       27.0302  \n",
       "1                                       38.5468  \n",
       "2                                       38.8119  \n",
       "3                                       39.0651  \n",
       "4                                       39.9147  "
      ]
     },
     "execution_count": 8,
     "metadata": {},
     "output_type": "execute_result"
    }
   ],
   "source": [
    "\n",
    "# Rename features\n",
    "data_df = data_df.rename(columns = {\"RMSD\": \"RMSD\", \"F1\": \"Surface Area\", \"F2\": \"Non polar Area\", \"F3\": \"F.A of exposed non polar residue\", \"F4\": \"F.A of exposed non polar part of residue.\", \"F5\": \" Molecular mass weighted exposed area.\", \"F6\": \"Average deviation from standard exposed area of residue.\", \"F7\": \"Euclidian distance\", \"F8\": \"Secondary structure penalty\", \"F9\": \"Spacial Distribution constraints (N,K Value)\"})\n",
    "data_df.head()"
   ]
  },
  {
   "cell_type": "code",
   "execution_count": 9,
   "id": "9b8bb474",
   "metadata": {},
   "outputs": [
    {
     "data": {
      "text/html": [
       "<div>\n",
       "<style scoped>\n",
       "    .dataframe tbody tr th:only-of-type {\n",
       "        vertical-align: middle;\n",
       "    }\n",
       "\n",
       "    .dataframe tbody tr th {\n",
       "        vertical-align: top;\n",
       "    }\n",
       "\n",
       "    .dataframe thead th {\n",
       "        text-align: right;\n",
       "    }\n",
       "</style>\n",
       "<table border=\"1\" class=\"dataframe\">\n",
       "  <thead>\n",
       "    <tr style=\"text-align: right;\">\n",
       "      <th></th>\n",
       "      <th>RMSD</th>\n",
       "      <th>Surface Area</th>\n",
       "      <th>Non polar Area</th>\n",
       "      <th>F.A of exposed non polar residue</th>\n",
       "      <th>F.A of exposed non polar part of residue.</th>\n",
       "      <th>Molecular mass weighted exposed area.</th>\n",
       "      <th>Average deviation from standard exposed area of residue.</th>\n",
       "      <th>Euclidian distance</th>\n",
       "      <th>Secondary structure penalty</th>\n",
       "      <th>Spacial Distribution constraints (N,K Value)</th>\n",
       "    </tr>\n",
       "  </thead>\n",
       "  <tbody>\n",
       "    <tr>\n",
       "      <th>0</th>\n",
       "      <td>False</td>\n",
       "      <td>False</td>\n",
       "      <td>False</td>\n",
       "      <td>False</td>\n",
       "      <td>False</td>\n",
       "      <td>False</td>\n",
       "      <td>False</td>\n",
       "      <td>False</td>\n",
       "      <td>False</td>\n",
       "      <td>False</td>\n",
       "    </tr>\n",
       "    <tr>\n",
       "      <th>1</th>\n",
       "      <td>False</td>\n",
       "      <td>False</td>\n",
       "      <td>False</td>\n",
       "      <td>False</td>\n",
       "      <td>False</td>\n",
       "      <td>False</td>\n",
       "      <td>False</td>\n",
       "      <td>False</td>\n",
       "      <td>False</td>\n",
       "      <td>False</td>\n",
       "    </tr>\n",
       "    <tr>\n",
       "      <th>2</th>\n",
       "      <td>False</td>\n",
       "      <td>False</td>\n",
       "      <td>False</td>\n",
       "      <td>False</td>\n",
       "      <td>False</td>\n",
       "      <td>False</td>\n",
       "      <td>False</td>\n",
       "      <td>False</td>\n",
       "      <td>False</td>\n",
       "      <td>False</td>\n",
       "    </tr>\n",
       "    <tr>\n",
       "      <th>3</th>\n",
       "      <td>False</td>\n",
       "      <td>False</td>\n",
       "      <td>False</td>\n",
       "      <td>False</td>\n",
       "      <td>False</td>\n",
       "      <td>False</td>\n",
       "      <td>False</td>\n",
       "      <td>False</td>\n",
       "      <td>False</td>\n",
       "      <td>False</td>\n",
       "    </tr>\n",
       "    <tr>\n",
       "      <th>4</th>\n",
       "      <td>False</td>\n",
       "      <td>False</td>\n",
       "      <td>False</td>\n",
       "      <td>False</td>\n",
       "      <td>False</td>\n",
       "      <td>False</td>\n",
       "      <td>False</td>\n",
       "      <td>False</td>\n",
       "      <td>False</td>\n",
       "      <td>False</td>\n",
       "    </tr>\n",
       "  </tbody>\n",
       "</table>\n",
       "</div>"
      ],
      "text/plain": [
       "    RMSD  Surface Area  Non polar Area  F.A of exposed non polar residue  \\\n",
       "0  False         False           False                             False   \n",
       "1  False         False           False                             False   \n",
       "2  False         False           False                             False   \n",
       "3  False         False           False                             False   \n",
       "4  False         False           False                             False   \n",
       "\n",
       "   F.A of exposed non polar part of residue.  \\\n",
       "0                                      False   \n",
       "1                                      False   \n",
       "2                                      False   \n",
       "3                                      False   \n",
       "4                                      False   \n",
       "\n",
       "    Molecular mass weighted exposed area.  \\\n",
       "0                                   False   \n",
       "1                                   False   \n",
       "2                                   False   \n",
       "3                                   False   \n",
       "4                                   False   \n",
       "\n",
       "   Average deviation from standard exposed area of residue.  \\\n",
       "0                                              False          \n",
       "1                                              False          \n",
       "2                                              False          \n",
       "3                                              False          \n",
       "4                                              False          \n",
       "\n",
       "   Euclidian distance  Secondary structure penalty  \\\n",
       "0               False                        False   \n",
       "1               False                        False   \n",
       "2               False                        False   \n",
       "3               False                        False   \n",
       "4               False                        False   \n",
       "\n",
       "   Spacial Distribution constraints (N,K Value)  \n",
       "0                                         False  \n",
       "1                                         False  \n",
       "2                                         False  \n",
       "3                                         False  \n",
       "4                                         False  "
      ]
     },
     "execution_count": 9,
     "metadata": {},
     "output_type": "execute_result"
    }
   ],
   "source": [
    "# No Missing Values\n",
    "data_df.isnull().head()"
   ]
  },
  {
   "cell_type": "markdown",
   "id": "f8b30bde",
   "metadata": {},
   "source": [
    "# Correlations Using Heatmaps\n"
   ]
  },
  {
   "cell_type": "code",
   "execution_count": 9,
   "id": "4fcdf7b9",
   "metadata": {},
   "outputs": [
    {
     "data": {
      "image/png": "[encoded data removed]",
      "text/plain": [
       "<Figure size 720x360 with 2 Axes>"
      ]
     },
     "metadata": {
      "needs_background": "light"
     },
     "output_type": "display_data"
    }
   ],
   "source": [
    "# Correlation Heatmap\n",
    "plt.figure(figsize = (10, 5))\n",
    "c = data_df.corr()\n",
    "sns.heatmap(c, cmap = \"BrBG\", annot = True)\n",
    "plt.title(\"Correlation Matrix\")\n",
    "plt.show()"
   ]
  },
  {
   "cell_type": "markdown",
   "id": "1acde03e",
   "metadata": {},
   "source": [
    "# Multiple Linear Regression\n"
   ]
  },
  {
   "cell_type": "code",
   "execution_count": 10,
   "id": "0e9c602f",
   "metadata": {
    "scrolled": true
   },
   "outputs": [
    {
     "data": {
      "text/plain": [
       "<AxesSubplot:xlabel='Surface Area', ylabel='Euclidian distance'>"
      ]
     },
     "execution_count": 10,
     "metadata": {},
     "output_type": "execute_result"
    },
    {
     "data": {
      "image/png": "[encoded data removed]",
      "text/plain": [
       "<Figure size 432x288 with 1 Axes>"
      ]
     },
     "metadata": {
      "needs_background": "light"
     },
     "output_type": "display_data"
    }
   ],
   "source": [
    "# Surface Area vs Euclidian distance\n",
    "sns.violinplot(x = \"Surface Area\", y = \"Euclidian distance\", data = data_df)"
   ]
  },
  {
   "cell_type": "code",
   "execution_count": 10,
   "id": "331433bc",
   "metadata": {},
   "outputs": [],
   "source": [
    "X = data_df[[\"Surface Area\", \"F.A of exposed non polar part of residue.\",\"Spacial Distribution constraints (N,K Value)\"]]\n",
    "y = data_df[\"Euclidian distance\"]"
   ]
  },
  {
   "cell_type": "code",
   "execution_count": 11,
   "id": "13183cfb",
   "metadata": {},
   "outputs": [
    {
     "name": "stdout",
     "output_type": "stream",
     "text": [
      "       Surface Area  F.A of exposed non polar part of residue.  \\\n",
      "0          13558.30                                   162.1730   \n",
      "1           6191.96                                    53.3894   \n",
      "2           7725.98                                    67.2887   \n",
      "3           8424.58                                    67.8325   \n",
      "4           7460.84                                    52.4123   \n",
      "...             ...                                        ...   \n",
      "45725       8037.12                                    64.3390   \n",
      "45726       7978.76                                    75.8654   \n",
      "45727       7726.65                                    70.9903   \n",
      "45728       8878.93                                    94.0314   \n",
      "45729      12732.40                                   157.6300   \n",
      "\n",
      "       Spacial Distribution constraints (N,K Value)  \n",
      "0                                           27.0302  \n",
      "1                                           38.5468  \n",
      "2                                           38.8119  \n",
      "3                                           39.0651  \n",
      "4                                           39.9147  \n",
      "...                                             ...  \n",
      "45725                                       36.8036  \n",
      "45726                                       36.0470  \n",
      "45727                                       37.4718  \n",
      "45728                                       35.6045  \n",
      "45729                                       29.8118  \n",
      "\n",
      "[45730 rows x 3 columns]\n"
     ]
    }
   ],
   "source": [
    "print((X))"
   ]
  },
  {
   "cell_type": "code",
   "execution_count": 13,
   "id": "e0a32c41",
   "metadata": {},
   "outputs": [
    {
     "name": "stdout",
     "output_type": "stream",
     "text": [
      "0        4287.87\n",
      "1        3328.91\n",
      "2        2981.04\n",
      "3        3248.22\n",
      "4        2814.42\n",
      "          ...   \n",
      "45725    3384.21\n",
      "45726    3974.52\n",
      "45727    3290.46\n",
      "45728    3421.79\n",
      "45729    4626.85\n",
      "Name: Euclidian distance, Length: 45730, dtype: float64\n"
     ]
    }
   ],
   "source": [
    "print((y))"
   ]
  },
  {
   "cell_type": "markdown",
   "id": "ad6bb5bd",
   "metadata": {},
   "source": [
    "# Split data Set in Training"
   ]
  },
  {
   "cell_type": "code",
   "execution_count": 12,
   "id": "c35fb090",
   "metadata": {
    "scrolled": true
   },
   "outputs": [],
   "source": [
    "from sklearn.model_selection import train_test_split\n",
    "X_train, X_test, y_train, y_test = train_test_split(X, y, test_size=0.4, random_state=0)"
   ]
  },
  {
   "cell_type": "code",
   "execution_count": 13,
   "id": "fd8d0709",
   "metadata": {},
   "outputs": [
    {
     "data": {
      "text/plain": [
       "LinearRegression()"
      ]
     },
     "execution_count": 13,
     "metadata": {},
     "output_type": "execute_result"
    }
   ],
   "source": [
    "ml=LinearRegression()\n",
    "ml.fit(X_train,y_train)"
   ]
  },
  {
   "cell_type": "code",
   "execution_count": 14,
   "id": "5107ab95",
   "metadata": {
    "scrolled": false
   },
   "outputs": [
    {
     "name": "stdout",
     "output_type": "stream",
     "text": [
      "[3494.62735425 5079.40035249 2106.46346357 ... 5471.20594118 3237.40702575\n",
      " 3178.24497809]\n"
     ]
    },
    {
     "data": {
      "text/html": [
       "<div>\n",
       "<style scoped>\n",
       "    .dataframe tbody tr th:only-of-type {\n",
       "        vertical-align: middle;\n",
       "    }\n",
       "\n",
       "    .dataframe tbody tr th {\n",
       "        vertical-align: top;\n",
       "    }\n",
       "\n",
       "    .dataframe thead th {\n",
       "        text-align: right;\n",
       "    }\n",
       "</style>\n",
       "<table border=\"1\" class=\"dataframe\">\n",
       "  <thead>\n",
       "    <tr style=\"text-align: right;\">\n",
       "      <th></th>\n",
       "      <th>Actual</th>\n",
       "      <th>Predicted</th>\n",
       "    </tr>\n",
       "  </thead>\n",
       "  <tbody>\n",
       "    <tr>\n",
       "      <th>23527</th>\n",
       "      <td>3572.96</td>\n",
       "      <td>3494.627354</td>\n",
       "    </tr>\n",
       "    <tr>\n",
       "      <th>12311</th>\n",
       "      <td>4515.13</td>\n",
       "      <td>5079.400352</td>\n",
       "    </tr>\n",
       "    <tr>\n",
       "      <th>14747</th>\n",
       "      <td>1390.21</td>\n",
       "      <td>2106.463464</td>\n",
       "    </tr>\n",
       "    <tr>\n",
       "      <th>5809</th>\n",
       "      <td>4090.82</td>\n",
       "      <td>3965.480011</td>\n",
       "    </tr>\n",
       "    <tr>\n",
       "      <th>20851</th>\n",
       "      <td>4050.32</td>\n",
       "      <td>3884.107368</td>\n",
       "    </tr>\n",
       "  </tbody>\n",
       "</table>\n",
       "</div>"
      ],
      "text/plain": [
       "        Actual    Predicted\n",
       "23527  3572.96  3494.627354\n",
       "12311  4515.13  5079.400352\n",
       "14747  1390.21  2106.463464\n",
       "5809   4090.82  3965.480011\n",
       "20851  4050.32  3884.107368"
      ]
     },
     "execution_count": 14,
     "metadata": {},
     "output_type": "execute_result"
    }
   ],
   "source": [
    "y_pred=ml.predict(X_test)\n",
    "print(y_pred)\n",
    "pd.DataFrame({\"Actual\": y_test, \"Predicted\": y_pred}).head()"
   ]
  },
  {
   "cell_type": "code",
   "execution_count": 15,
   "id": "1b08b9d2",
   "metadata": {},
   "outputs": [
    {
     "data": {
      "text/plain": [
       "0.3021855249537857"
      ]
     },
     "execution_count": 15,
     "metadata": {},
     "output_type": "execute_result"
    }
   ],
   "source": [
    "from sklearn.metrics import r2_score\n",
    "r2_score (y_test,y_pred)"
   ]
  },
  {
   "cell_type": "code",
   "execution_count": 19,
   "id": "b8da56a4",
   "metadata": {
    "scrolled": true
   },
   "outputs": [
    {
     "data": {
      "text/plain": [
       "Text(0.5, 1.0, 'Actual Vs. Predicted (Euclidian distance)')"
      ]
     },
     "execution_count": 19,
     "metadata": {},
     "output_type": "execute_result"
    },
    {
     "data": {
      "image/png": "[encoded data removed]",
      "text/plain": [
       "<Figure size 1080x1440 with 1 Axes>"
      ]
     },
     "metadata": {
      "needs_background": "light"
     },
     "output_type": "display_data"
    }
   ],
   "source": [
    "import matplotlib.pyplot as plt\n",
    "plt.figure(figsize=(15,20))\n",
    "plt.scatter(y_test,y_pred)\n",
    "plt.xlabel('Actual Euclidian distance')\n",
    "plt.ylabel('Predicted Euclidian distance')\n",
    "plt.title('Actual Vs. Predicted (Euclidian distance)')"
   ]
  },
  {
   "cell_type": "markdown",
   "id": "00fbe245",
   "metadata": {},
   "source": [
    "# Example 2"
   ]
  },
  {
   "cell_type": "code",
   "execution_count": 16,
   "id": "1b42e2b1",
   "metadata": {},
   "outputs": [],
   "source": [
    "X1 = data_df[[\"Surface Area\", \"F.A of exposed non polar part of residue.\",\"Secondary structure penalty\"]]\n",
    "y1 = data_df[\"Euclidian distance\"]"
   ]
  },
  {
   "cell_type": "code",
   "execution_count": 17,
   "id": "89c9d4c3",
   "metadata": {},
   "outputs": [],
   "source": [
    "from sklearn.model_selection import train_test_split\n",
    "X1_train, X1_test, y1_train, y1_test = train_test_split(X1, y1, test_size=0.4, random_state=0)"
   ]
  },
  {
   "cell_type": "code",
   "execution_count": 18,
   "id": "c5a54537",
   "metadata": {
    "scrolled": true
   },
   "outputs": [
    {
     "name": "stdout",
     "output_type": "stream",
     "text": [
      "[ 4302.13955372 -1930.73411106  3116.25083635 ... -2981.45503904\n",
      "  3924.66049321 -1334.93752777]\n"
     ]
    },
    {
     "data": {
      "text/html": [
       "<div>\n",
       "<style scoped>\n",
       "    .dataframe tbody tr th:only-of-type {\n",
       "        vertical-align: middle;\n",
       "    }\n",
       "\n",
       "    .dataframe tbody tr th {\n",
       "        vertical-align: top;\n",
       "    }\n",
       "\n",
       "    .dataframe thead th {\n",
       "        text-align: right;\n",
       "    }\n",
       "</style>\n",
       "<table border=\"1\" class=\"dataframe\">\n",
       "  <thead>\n",
       "    <tr style=\"text-align: right;\">\n",
       "      <th></th>\n",
       "      <th>Actual Values</th>\n",
       "      <th>Predicted Values</th>\n",
       "    </tr>\n",
       "  </thead>\n",
       "  <tbody>\n",
       "    <tr>\n",
       "      <th>23527</th>\n",
       "      <td>3572.96</td>\n",
       "      <td>4302.139554</td>\n",
       "    </tr>\n",
       "    <tr>\n",
       "      <th>12311</th>\n",
       "      <td>4515.13</td>\n",
       "      <td>-1930.734111</td>\n",
       "    </tr>\n",
       "    <tr>\n",
       "      <th>14747</th>\n",
       "      <td>1390.21</td>\n",
       "      <td>3116.250836</td>\n",
       "    </tr>\n",
       "    <tr>\n",
       "      <th>5809</th>\n",
       "      <td>4090.82</td>\n",
       "      <td>4987.404034</td>\n",
       "    </tr>\n",
       "    <tr>\n",
       "      <th>20851</th>\n",
       "      <td>4050.32</td>\n",
       "      <td>-237.344215</td>\n",
       "    </tr>\n",
       "  </tbody>\n",
       "</table>\n",
       "</div>"
      ],
      "text/plain": [
       "       Actual Values  Predicted Values\n",
       "23527        3572.96       4302.139554\n",
       "12311        4515.13      -1930.734111\n",
       "14747        1390.21       3116.250836\n",
       "5809         4090.82       4987.404034\n",
       "20851        4050.32       -237.344215"
      ]
     },
     "execution_count": 18,
     "metadata": {},
     "output_type": "execute_result"
    }
   ],
   "source": [
    "y1_pred=ml.predict(X1_test)\n",
    "print(y1_pred)\n",
    "pd.DataFrame({\"Actual Values\": y1_test, \"Predicted Values\": y1_pred}).head()"
   ]
  },
  {
   "cell_type": "code",
   "execution_count": 19,
   "id": "d231f774",
   "metadata": {},
   "outputs": [
    {
     "data": {
      "text/plain": [
       "-5.451215571394999"
      ]
     },
     "execution_count": 19,
     "metadata": {},
     "output_type": "execute_result"
    }
   ],
   "source": [
    "from sklearn.metrics import r2_score\n",
    "r2_score (y1_test,y1_pred)"
   ]
  },
  {
   "cell_type": "code",
   "execution_count": 24,
   "id": "a47f7802",
   "metadata": {},
   "outputs": [
    {
     "data": {
      "text/plain": [
       "Text(0.5, 1.0, 'Actual Vs. Predicted')"
      ]
     },
     "execution_count": 24,
     "metadata": {},
     "output_type": "execute_result"
    },
    {
     "data": {
      "image/png": "[encoded data removed]",
      "text/plain": [
       "<Figure size 1080x2160 with 1 Axes>"
      ]
     },
     "metadata": {
      "needs_background": "light"
     },
     "output_type": "display_data"
    }
   ],
   "source": [
    "import matplotlib.pyplot as plt\n",
    "plt.figure(figsize=(15,30))\n",
    "plt.scatter(y1_test,y1_pred)\n",
    "plt.xlabel('Actual')\n",
    "plt.ylabel('Predicted')\n",
    "plt.title('Actual Vs. Predicted')"
   ]
  },
  {
   "cell_type": "markdown",
   "id": "80e5d7a3",
   "metadata": {},
   "source": [
    "# Normalization Of Data"
   ]
  },
  {
   "cell_type": "code",
   "execution_count": 26,
   "id": "109ed8ff",
   "metadata": {
    "scrolled": true
   },
   "outputs": [],
   "source": [
    "data_df = normalize(data_df, axis=0) #Without using normalization first dataset importing mechanism can be used"
   ]
  },
  {
   "cell_type": "markdown",
   "id": "42c83465",
   "metadata": {},
   "source": [
    "# Cost Function for (X1 vs Y1)"
   ]
  },
  {
   "cell_type": "code",
   "execution_count": 29,
   "id": "0b6e1217",
   "metadata": {},
   "outputs": [
    {
     "name": "stdout",
     "output_type": "stream",
     "text": [
      "[[0.00285185 0.0027129  0.00226313 0.00396874 0.00212662 0.00253862\n",
      "  0.00252361]\n",
      " [0.00439311 0.00338501 0.00240691 0.00338281 0.00268026 0.00339868\n",
      "  0.00236702]\n",
      " [0.00750784 0.00369109 0.00330199 0.0042561  0.00270192 0.00382468\n",
      "  0.00316713]]\n",
      "[0.00349026 0.00312553 0.00340566]\n"
     ]
    }
   ],
   "source": [
    "#X1=data_df.drop(['Euclidian distance'],axis=1).values\n",
    "#y1=data_df['Euclidian distance'].values\n",
    "X1=data_df[1:,0:7]\n",
    "y1=data_df[1:, 7]\n",
    "print(X1[0:3])\n",
    "print(y1[0:3])"
   ]
  },
  {
   "cell_type": "code",
   "execution_count": 32,
   "id": "aaf25dfc",
   "metadata": {},
   "outputs": [],
   "source": [
    "def gradient(X1,y1,alpha,epoch):\n",
    "  m=X1.shape[0]  #number of samples\n",
    "  ones = np.ones((m,1))\n",
    "  X1 = np.concatenate((ones,X1),axis=1)\n",
    "  n = X1.shape[1]\n",
    "  Theta = np.ones(n)  #n = 5th parameter initialize\n",
    "  h = np.dot(X1, Theta) #Compute Hypothesis\n",
    "\n",
    "  #Gradient descent Algorithm\n",
    "  cost = np.ones(epoch)\n",
    "  for i in range (0,epoch):\n",
    "      Theta[0] = Theta[0] - (alpha / X1.shape[0]) * sum(h-y1)\n",
    "      for j in range(1,n):\n",
    "       Theta[j] = Theta[j] - (alpha/ X1.shape[0]) * sum((h-y1) * X1[:, j])\n",
    "      h = np.dot(X1,Theta)\n",
    "      cost[i] = 1/(2*m) * sum(np.square(h-y1)) #compute Cost\n",
    "  return cost, Theta "
   ]
  },
  {
   "cell_type": "markdown",
   "id": "fe94512e",
   "metadata": {},
   "source": [
    "# Calculating theta & Cost"
   ]
  },
  {
   "cell_type": "code",
   "execution_count": 33,
   "id": "e4b72b4b",
   "metadata": {},
   "outputs": [
    {
     "name": "stdout",
     "output_type": "stream",
     "text": [
      "[-0.02508238  0.99614897  0.99541884  0.99551048  0.99527069  0.99560827\n",
      "  0.9954208   0.99551129]\n",
      "[5.15159678e-01 5.04907590e-01 4.94859544e-01 4.85011479e-01\n",
      " 4.75359414e-01 4.65899450e-01 4.56627761e-01 4.47540603e-01\n",
      " 4.38634301e-01 4.29905256e-01 4.21349941e-01 4.12964898e-01\n",
      " 4.04746737e-01 3.96692139e-01 3.88797846e-01 3.81060670e-01\n",
      " 3.73477482e-01 3.66045218e-01 3.58760875e-01 3.51621508e-01\n",
      " 3.44624232e-01 3.37766219e-01 3.31044698e-01 3.24456951e-01\n",
      " 3.18000317e-01 3.11672185e-01 3.05469999e-01 2.99391252e-01\n",
      " 2.93433486e-01 2.87594295e-01 2.81871319e-01 2.76262243e-01\n",
      " 2.70764802e-01 2.65376773e-01 2.60095980e-01 2.54920287e-01\n",
      " 2.49847604e-01 2.44875879e-01 2.40003104e-01 2.35227309e-01\n",
      " 2.30546564e-01 2.25958977e-01 2.21462695e-01 2.17055900e-01\n",
      " 2.12736810e-01 2.08503682e-01 2.04354803e-01 2.00288497e-01\n",
      " 1.96303120e-01 1.92397062e-01 1.88568745e-01 1.84816620e-01\n",
      " 1.81139172e-01 1.77534914e-01 1.74002390e-01 1.70540171e-01\n",
      " 1.67146859e-01 1.63821083e-01 1.60561498e-01 1.57366786e-01\n",
      " 1.54235657e-01 1.51166845e-01 1.48159111e-01 1.45211237e-01\n",
      " 1.42322033e-01 1.39490332e-01 1.36714989e-01 1.33994881e-01\n",
      " 1.31328911e-01 1.28716000e-01 1.26155092e-01 1.23645152e-01\n",
      " 1.21185167e-01 1.18774141e-01 1.16411101e-01 1.14095091e-01\n",
      " 1.11825175e-01 1.09600436e-01 1.07419975e-01 1.05282911e-01\n",
      " 1.03188379e-01 1.01135534e-01 9.91235452e-02 9.71516000e-02\n",
      " 9.52189015e-02 9.33246684e-02 9.14681352e-02 8.96485515e-02\n",
      " 8.78651821e-02 8.61173061e-02 8.44042172e-02 8.27252229e-02\n",
      " 8.10796447e-02 7.94668176e-02 7.78860898e-02 7.63368223e-02\n",
      " 7.48183890e-02 7.33301763e-02 7.18715827e-02 7.04420187e-02\n",
      " 6.90409065e-02 6.76676799e-02 6.63217839e-02 6.50026745e-02\n",
      " 6.37098187e-02 6.24426939e-02 6.12007880e-02 5.99835990e-02\n",
      " 5.87906351e-02 5.76214142e-02 5.64754636e-02 5.53523202e-02\n",
      " 5.42515302e-02 5.31726486e-02 5.21152394e-02 5.10788752e-02\n",
      " 5.00631372e-02 4.90676149e-02 4.80919060e-02 4.71356161e-02\n",
      " 4.61983587e-02 4.52797550e-02 4.43794338e-02 4.34970312e-02\n",
      " 4.26321906e-02 4.17845624e-02 4.09538041e-02 4.01395800e-02\n",
      " 3.93415609e-02 3.85594244e-02 3.77928543e-02 3.70415408e-02\n",
      " 3.63051803e-02 3.55834752e-02 3.48761339e-02 3.41828703e-02\n",
      " 3.35034044e-02 3.28374616e-02 3.21847726e-02 3.15450738e-02\n",
      " 3.09181065e-02 3.03036174e-02 2.97013582e-02 2.91110854e-02\n",
      " 2.85325605e-02 2.79655497e-02 2.74098238e-02 2.68651582e-02\n",
      " 2.63313328e-02 2.58081318e-02 2.52953438e-02 2.47927615e-02\n",
      " 2.43001819e-02 2.38174058e-02 2.33442382e-02 2.28804877e-02\n",
      " 2.24259670e-02 2.19804924e-02 2.15438839e-02 2.11159649e-02\n",
      " 2.06965626e-02 2.02855074e-02 1.98826332e-02 1.94877772e-02\n",
      " 1.91007798e-02 1.87214846e-02 1.83497383e-02 1.79853907e-02\n",
      " 1.76282945e-02 1.72783054e-02 1.69352819e-02 1.65990855e-02\n",
      " 1.62695801e-02 1.59466328e-02 1.56301129e-02 1.53198925e-02\n",
      " 1.50158463e-02 1.47178513e-02 1.44257872e-02 1.41395358e-02\n",
      " 1.38589816e-02 1.35840111e-02 1.33145132e-02 1.30503789e-02\n",
      " 1.27915016e-02 1.25377766e-02 1.22891013e-02 1.20453752e-02\n",
      " 1.18065000e-02 1.15723789e-02 1.13429174e-02 1.11180227e-02\n",
      " 1.08976040e-02 1.06815722e-02 1.04698400e-02 1.02623217e-02\n",
      " 1.00589336e-02 9.85959338e-03 9.66422053e-03 9.47273608e-03\n",
      " 9.28506264e-03 9.10112437e-03 8.92084692e-03 8.74415743e-03\n",
      " 8.57098450e-03 8.40125814e-03 8.23490974e-03 8.07187210e-03\n",
      " 7.91207930e-03 7.75546677e-03 7.60197121e-03 7.45153059e-03\n",
      " 7.30408412e-03 7.15957218e-03 7.01793640e-03 6.87911951e-03\n",
      " 6.74306542e-03 6.60971914e-03 6.47902678e-03 6.35093552e-03\n",
      " 6.22539359e-03 6.10235025e-03 5.98175578e-03 5.86356143e-03\n",
      " 5.74771945e-03 5.63418300e-03 5.52290621e-03 5.41384409e-03\n",
      " 5.30695259e-03 5.20218848e-03 5.09950944e-03 4.99887397e-03\n",
      " 4.90024139e-03 4.80357184e-03 4.70882625e-03 4.61596633e-03\n",
      " 4.52495455e-03 4.43575413e-03 4.34832902e-03 4.26264388e-03\n",
      " 4.17866409e-03 4.09635570e-03 4.01568545e-03 3.93662073e-03\n",
      " 3.85912960e-03 3.78318074e-03 3.70874344e-03 3.63578762e-03\n",
      " 3.56428381e-03 3.49420310e-03 3.42551717e-03 3.35819825e-03\n",
      " 3.29221915e-03 3.22755319e-03 3.16417425e-03 3.10205670e-03\n",
      " 3.04117544e-03 2.98150587e-03 2.92302387e-03 2.86570581e-03\n",
      " 2.80952852e-03 2.75446929e-03 2.70050587e-03 2.64761647e-03\n",
      " 2.59577969e-03 2.54497458e-03 2.49518063e-03 2.44637770e-03\n",
      " 2.39854606e-03 2.35166640e-03 2.30571975e-03 2.26068755e-03\n",
      " 2.21655161e-03 2.17329408e-03 2.13089748e-03 2.08934467e-03\n",
      " 2.04861887e-03 2.00870361e-03 1.96958277e-03 1.93124052e-03\n",
      " 1.89366138e-03 1.85683016e-03 1.82073197e-03 1.78535222e-03\n",
      " 1.75067661e-03 1.71669114e-03 1.68338206e-03 1.65073591e-03\n",
      " 1.61873950e-03 1.58737989e-03 1.55664442e-03 1.52652067e-03\n",
      " 1.49699644e-03 1.46805982e-03 1.43969912e-03 1.41190286e-03\n",
      " 1.38465981e-03 1.35795896e-03 1.33178953e-03 1.30614094e-03\n",
      " 1.28100281e-03 1.25636500e-03 1.23221753e-03 1.20855066e-03\n",
      " 1.18535482e-03 1.16262064e-03 1.14033892e-03 1.11850066e-03\n",
      " 1.09709703e-03 1.07611939e-03 1.05555926e-03 1.03540832e-03\n",
      " 1.01565844e-03 9.96301625e-04 9.77330060e-04 9.58736075e-04\n",
      " 9.40512157e-04 9.22650939e-04 9.05145202e-04 8.87987873e-04\n",
      " 8.71172017e-04 8.54690837e-04 8.38537673e-04 8.22705996e-04\n",
      " 8.07189409e-04 7.91981639e-04 7.77076541e-04 7.62468091e-04\n",
      " 7.48150385e-04 7.34117636e-04 7.20364173e-04 7.06884438e-04\n",
      " 6.93672982e-04 6.80724467e-04 6.68033658e-04 6.55595428e-04\n",
      " 6.43404748e-04 6.31456693e-04 6.19746434e-04 6.08269237e-04\n",
      " 5.97020464e-04 5.85995569e-04 5.75190096e-04 5.64599679e-04\n",
      " 5.54220037e-04 5.44046975e-04 5.34076381e-04 5.24304227e-04\n",
      " 5.14726562e-04 5.05339516e-04 4.96139295e-04 4.87122181e-04\n",
      " 4.78284530e-04 4.69622769e-04 4.61133398e-04 4.52812986e-04\n",
      " 4.44658171e-04 4.36665656e-04 4.28832212e-04 4.21154672e-04\n",
      " 4.13629934e-04 4.06254957e-04 3.99026759e-04 3.91942420e-04\n",
      " 3.84999076e-04 3.78193922e-04 3.71524207e-04 3.64987236e-04\n",
      " 3.58580365e-04 3.52301008e-04 3.46146624e-04 3.40114728e-04\n",
      " 3.34202881e-04 3.28408693e-04 3.22729825e-04 3.17163979e-04\n",
      " 3.11708907e-04 3.06362405e-04 3.01122310e-04 2.95986506e-04\n",
      " 2.90952917e-04 2.86019508e-04 2.81184286e-04 2.76445297e-04\n",
      " 2.71800625e-04 2.67248393e-04 2.62786761e-04 2.58413927e-04\n",
      " 2.54128122e-04 2.49927616e-04 2.45810709e-04 2.41775739e-04\n",
      " 2.37821074e-04 2.33945116e-04 2.30146300e-04 2.26423088e-04\n",
      " 2.22773978e-04 2.19197494e-04 2.15692190e-04 2.12256650e-04\n",
      " 2.08889485e-04 2.05589335e-04 2.02354866e-04 1.99184771e-04\n",
      " 1.96077768e-04 1.93032601e-04 1.90048041e-04 1.87122881e-04\n",
      " 1.84255938e-04 1.81446054e-04 1.78692093e-04 1.75992943e-04\n",
      " 1.73347512e-04 1.70754732e-04 1.68213553e-04 1.65722951e-04\n",
      " 1.63281917e-04 1.60889465e-04 1.58544629e-04 1.56246461e-04\n",
      " 1.53994031e-04 1.51786430e-04 1.49622766e-04 1.47502163e-04\n",
      " 1.45423766e-04 1.43386733e-04 1.41390242e-04 1.39433486e-04\n",
      " 1.37515674e-04 1.35636031e-04 1.33793797e-04 1.31988228e-04\n",
      " 1.30218593e-04 1.28484179e-04 1.26784283e-04 1.25118219e-04\n",
      " 1.23485314e-04 1.21884907e-04 1.20316352e-04 1.18779015e-04\n",
      " 1.17272274e-04 1.15795521e-04 1.14348159e-04 1.12929602e-04\n",
      " 1.11539278e-04 1.10176625e-04 1.08841091e-04 1.07532138e-04\n",
      " 1.06249235e-04 1.04991866e-04 1.03759520e-04 1.02551701e-04\n",
      " 1.01367921e-04 1.00207700e-04 9.90705705e-05 9.79560722e-05\n",
      " 9.68637549e-05 9.57931771e-05 9.47439061e-05 9.37155180e-05\n",
      " 9.27075970e-05 9.17197358e-05 9.07515353e-05 8.98026040e-05\n",
      " 8.88725585e-05 8.79610230e-05 8.70676290e-05 8.61920154e-05\n",
      " 8.53338284e-05 8.44927212e-05 8.36683538e-05 8.28603930e-05\n",
      " 8.20685124e-05 8.12923919e-05 8.05317178e-05 7.97861827e-05\n",
      " 7.90554853e-05 7.83393303e-05 7.76374283e-05 7.69494956e-05\n",
      " 7.62752542e-05 7.56144315e-05 7.49667606e-05 7.43319796e-05\n",
      " 7.37098321e-05 7.31000665e-05 7.25024365e-05 7.19167005e-05\n",
      " 7.13426219e-05 7.07799685e-05 7.02285131e-05 6.96880327e-05\n",
      " 6.91583089e-05 6.86391276e-05 6.81302790e-05 6.76315575e-05\n",
      " 6.71427615e-05 6.66636935e-05 6.61941598e-05 6.57339708e-05\n",
      " 6.52829403e-05 6.48408862e-05 6.44076297e-05 6.39829959e-05\n",
      " 6.35668130e-05 6.31589129e-05 6.27591308e-05 6.23673050e-05\n",
      " 6.19832773e-05 6.16068923e-05 6.12379981e-05 6.08764455e-05\n",
      " 6.05220884e-05 6.01747836e-05 5.98343907e-05 5.95007723e-05\n",
      " 5.91737933e-05 5.88533218e-05 5.85392282e-05 5.82313855e-05\n",
      " 5.79296694e-05 5.76339579e-05 5.73441315e-05 5.70600731e-05\n",
      " 5.67816679e-05 5.65088033e-05 5.62413691e-05 5.59792573e-05\n",
      " 5.57223618e-05 5.54705790e-05 5.52238069e-05 5.49819459e-05\n",
      " 5.47448983e-05 5.45125683e-05 5.42848619e-05 5.40616871e-05\n",
      " 5.38429538e-05 5.36285735e-05 5.34184597e-05 5.32125273e-05\n",
      " 5.30106933e-05 5.28128759e-05 5.26189954e-05 5.24289732e-05\n",
      " 5.22427327e-05 5.20601986e-05 5.18812970e-05 5.17059558e-05\n",
      " 5.15341040e-05 5.13656722e-05 5.12005923e-05 5.10387976e-05\n",
      " 5.08802228e-05 5.07248037e-05 5.05724776e-05 5.04231828e-05\n",
      " 5.02768592e-05 5.01334474e-05 4.99928896e-05 4.98551290e-05\n",
      " 4.97201098e-05 4.95877776e-05 4.94580789e-05 4.93309612e-05\n",
      " 4.92063732e-05 4.90842645e-05 4.89645858e-05 4.88472887e-05\n",
      " 4.87323258e-05 4.86196507e-05 4.85092179e-05 4.84009826e-05\n",
      " 4.82949012e-05 4.81909309e-05 4.80890295e-05 4.79891559e-05\n",
      " 4.78912698e-05 4.77953315e-05 4.77013024e-05 4.76091444e-05\n",
      " 4.75188204e-05 4.74302937e-05 4.73435286e-05 4.72584901e-05\n",
      " 4.71751438e-05 4.70934560e-05 4.70133937e-05 4.69349246e-05\n",
      " 4.68580169e-05 4.67826396e-05 4.67087622e-05 4.66363549e-05\n",
      " 4.65653884e-05 4.64958340e-05 4.64276637e-05 4.63608498e-05\n",
      " 4.62953654e-05 4.62311840e-05 4.61682797e-05 4.61066271e-05\n",
      " 4.60462012e-05 4.59869777e-05 4.59289326e-05 4.58720425e-05\n",
      " 4.58162843e-05 4.57616356e-05 4.57080743e-05 4.56555787e-05\n",
      " 4.56041276e-05 4.55537002e-05 4.55042761e-05 4.54558355e-05\n",
      " 4.54083587e-05 4.53618264e-05 4.53162201e-05 4.52715211e-05\n",
      " 4.52277114e-05 4.51847734e-05 4.51426897e-05 4.51014433e-05\n",
      " 4.50610175e-05 4.50213960e-05 4.49825628e-05 4.49445022e-05\n",
      " 4.49071988e-05 4.48706376e-05 4.48348037e-05 4.47996828e-05\n",
      " 4.47652605e-05 4.47315231e-05 4.46984568e-05 4.46660484e-05\n",
      " 4.46342847e-05 4.46031529e-05 4.45726404e-05 4.45427349e-05\n",
      " 4.45134244e-05 4.44846969e-05 4.44565408e-05 4.44289449e-05\n",
      " 4.44018979e-05 4.43753890e-05 4.43494073e-05 4.43239425e-05\n",
      " 4.42989842e-05 4.42745224e-05 4.42505471e-05 4.42270487e-05\n",
      " 4.42040178e-05 4.41814449e-05 4.41593210e-05 4.41376371e-05\n",
      " 4.41163845e-05 4.40955546e-05 4.40751390e-05 4.40551295e-05\n",
      " 4.40355179e-05 4.40162964e-05 4.39974571e-05 4.39789925e-05\n",
      " 4.39608951e-05 4.39431576e-05 4.39257729e-05 4.39087338e-05\n",
      " 4.38920337e-05 4.38756656e-05 4.38596230e-05 4.38438994e-05\n",
      " 4.38284885e-05 4.38133840e-05 4.37985798e-05 4.37840700e-05\n",
      " 4.37698487e-05 4.37559102e-05 4.37422488e-05 4.37288590e-05\n",
      " 4.37157354e-05 4.37028728e-05 4.36902659e-05 4.36779095e-05\n",
      " 4.36657989e-05 4.36539290e-05 4.36422950e-05 4.36308923e-05\n",
      " 4.36197163e-05 4.36087625e-05 4.35980263e-05 4.35875036e-05\n",
      " 4.35771900e-05 4.35670814e-05 4.35571737e-05 4.35474629e-05\n",
      " 4.35379451e-05 4.35286165e-05 4.35194732e-05 4.35105117e-05\n",
      " 4.35017282e-05 4.34931192e-05 4.34846813e-05 4.34764111e-05\n",
      " 4.34683052e-05 4.34603603e-05 4.34525733e-05 4.34449410e-05\n",
      " 4.34374603e-05 4.34301282e-05 4.34229418e-05 4.34158981e-05\n",
      " 4.34089943e-05 4.34022276e-05 4.33955954e-05 4.33890948e-05\n",
      " 4.33827234e-05 4.33764785e-05 4.33703575e-05 4.33643582e-05\n",
      " 4.33584779e-05 4.33527145e-05 4.33470654e-05 4.33415285e-05\n",
      " 4.33361015e-05 4.33307823e-05 4.33255686e-05 4.33204584e-05\n",
      " 4.33154497e-05 4.33105403e-05 4.33057284e-05 4.33010120e-05\n",
      " 4.32963892e-05 4.32918581e-05 4.32874168e-05 4.32830638e-05\n",
      " 4.32787970e-05 4.32746149e-05 4.32705158e-05 4.32664980e-05\n",
      " 4.32625598e-05 4.32586998e-05 4.32549163e-05 4.32512078e-05\n",
      " 4.32475729e-05 4.32440100e-05 4.32405177e-05 4.32370947e-05\n",
      " 4.32337395e-05 4.32304509e-05 4.32272274e-05 4.32240677e-05\n",
      " 4.32209707e-05 4.32179350e-05 4.32149595e-05 4.32120430e-05\n",
      " 4.32091841e-05 4.32063820e-05 4.32036353e-05 4.32009429e-05\n",
      " 4.31983039e-05 4.31957172e-05 4.31931816e-05 4.31906963e-05\n",
      " 4.31882601e-05 4.31858721e-05 4.31835314e-05 4.31812369e-05\n",
      " 4.31789879e-05 4.31767834e-05 4.31746224e-05 4.31725042e-05\n",
      " 4.31704278e-05 4.31683925e-05 4.31663975e-05 4.31644418e-05\n",
      " 4.31625248e-05 4.31606457e-05 4.31588037e-05 4.31569981e-05\n",
      " 4.31552281e-05 4.31534931e-05 4.31517924e-05 4.31501252e-05\n",
      " 4.31484909e-05 4.31468889e-05 4.31453184e-05 4.31437790e-05\n",
      " 4.31422699e-05 4.31407905e-05 4.31393404e-05 4.31379188e-05\n",
      " 4.31365252e-05 4.31351591e-05 4.31338199e-05 4.31325071e-05\n",
      " 4.31312201e-05 4.31299584e-05 4.31287216e-05 4.31275091e-05\n",
      " 4.31263205e-05 4.31251553e-05 4.31240129e-05 4.31228931e-05\n",
      " 4.31217952e-05 4.31207189e-05 4.31196638e-05 4.31186293e-05\n",
      " 4.31176152e-05 4.31166210e-05 4.31156463e-05 4.31146907e-05\n",
      " 4.31137539e-05 4.31128354e-05 4.31119349e-05 4.31110521e-05\n",
      " 4.31101865e-05 4.31093379e-05 4.31085060e-05 4.31076903e-05\n",
      " 4.31068905e-05 4.31061064e-05 4.31053376e-05 4.31045839e-05\n",
      " 4.31038449e-05 4.31031202e-05 4.31024098e-05 4.31017132e-05\n",
      " 4.31010302e-05 4.31003605e-05 4.30997038e-05 4.30990600e-05\n",
      " 4.30984287e-05 4.30978096e-05 4.30972026e-05 4.30966074e-05\n",
      " 4.30960238e-05 4.30954515e-05 4.30948904e-05 4.30943401e-05\n",
      " 4.30938005e-05 4.30932713e-05 4.30927524e-05 4.30922436e-05\n",
      " 4.30917446e-05 4.30912552e-05 4.30907754e-05 4.30903048e-05\n",
      " 4.30898432e-05 4.30893906e-05 4.30889467e-05 4.30885114e-05\n",
      " 4.30880845e-05 4.30876657e-05 4.30872551e-05 4.30868523e-05\n",
      " 4.30864573e-05 4.30860698e-05 4.30856898e-05 4.30853171e-05\n",
      " 4.30849515e-05 4.30845929e-05 4.30842411e-05 4.30838961e-05\n",
      " 4.30835577e-05 4.30832257e-05 4.30829001e-05 4.30825806e-05\n",
      " 4.30822673e-05 4.30819599e-05 4.30816583e-05 4.30813625e-05\n",
      " 4.30810723e-05 4.30807875e-05 4.30805082e-05 4.30802341e-05\n",
      " 4.30799652e-05 4.30797014e-05 4.30794426e-05 4.30791886e-05\n",
      " 4.30789394e-05 4.30786949e-05 4.30784550e-05 4.30782196e-05\n",
      " 4.30779886e-05 4.30777619e-05 4.30775394e-05 4.30773211e-05\n",
      " 4.30771069e-05 4.30768966e-05 4.30766902e-05 4.30764877e-05\n",
      " 4.30762889e-05 4.30760938e-05 4.30759024e-05 4.30757144e-05\n",
      " 4.30755299e-05 4.30753488e-05 4.30751710e-05 4.30749965e-05\n",
      " 4.30748252e-05 4.30746570e-05 4.30744919e-05 4.30743298e-05\n",
      " 4.30741706e-05 4.30740143e-05 4.30738609e-05 4.30737102e-05\n",
      " 4.30735623e-05 4.30734170e-05 4.30732743e-05 4.30731342e-05\n",
      " 4.30729966e-05 4.30728615e-05 4.30727288e-05 4.30725984e-05\n",
      " 4.30724704e-05 4.30723446e-05 4.30722210e-05 4.30720997e-05\n",
      " 4.30719804e-05 4.30718633e-05 4.30717482e-05 4.30716351e-05\n",
      " 4.30715240e-05 4.30714149e-05 4.30713076e-05 4.30712022e-05\n",
      " 4.30710986e-05 4.30709968e-05 4.30708967e-05 4.30707984e-05\n",
      " 4.30707017e-05 4.30706067e-05 4.30705132e-05 4.30704214e-05\n",
      " 4.30703311e-05 4.30702424e-05 4.30701551e-05 4.30700693e-05\n",
      " 4.30699849e-05 4.30699019e-05 4.30698203e-05 4.30697400e-05\n",
      " 4.30696611e-05 4.30695834e-05 4.30695070e-05 4.30694319e-05\n",
      " 4.30693579e-05 4.30692852e-05 4.30692136e-05 4.30691432e-05\n",
      " 4.30690739e-05 4.30690057e-05 4.30689386e-05 4.30688726e-05\n",
      " 4.30688075e-05 4.30687435e-05 4.30686805e-05 4.30686185e-05\n",
      " 4.30685574e-05 4.30684973e-05 4.30684380e-05 4.30683797e-05\n",
      " 4.30683223e-05 4.30682657e-05 4.30682100e-05 4.30681551e-05\n",
      " 4.30681010e-05 4.30680477e-05 4.30679952e-05 4.30679435e-05\n",
      " 4.30678925e-05 4.30678422e-05 4.30677927e-05 4.30677439e-05\n",
      " 4.30676958e-05 4.30676483e-05 4.30676015e-05 4.30675554e-05\n",
      " 4.30675099e-05 4.30674651e-05 4.30674208e-05 4.30673772e-05\n",
      " 4.30673341e-05 4.30672917e-05 4.30672498e-05 4.30672084e-05\n",
      " 4.30671676e-05 4.30671273e-05 4.30670876e-05 4.30670483e-05\n",
      " 4.30670096e-05 4.30669714e-05 4.30669336e-05 4.30668963e-05\n",
      " 4.30668595e-05 4.30668231e-05 4.30667872e-05 4.30667517e-05\n",
      " 4.30667167e-05 4.30666820e-05 4.30666478e-05 4.30666140e-05]\n"
     ]
    }
   ],
   "source": [
    "#Calcualting Theta & Cost\n",
    "cost, Theta = gradient( X1, y1, 0.01, 1000)\n",
    "print(Theta)\n",
    "print(cost)"
   ]
  },
  {
   "cell_type": "markdown",
   "id": "ffe4dda2",
   "metadata": {},
   "source": [
    "# Plotting the Cost Function\n"
   ]
  },
  {
   "cell_type": "code",
   "execution_count": 34,
   "id": "4f7ec07d",
   "metadata": {},
   "outputs": [
    {
     "name": "stdout",
     "output_type": "stream",
     "text": [
      "Lowest Cost =4.306661397877494e-05\n"
     ]
    },
    {
     "data": {
      "image/png": "[encoded data removed]",
      "text/plain": [
       "<Figure size 432x288 with 1 Axes>"
      ]
     },
     "metadata": {
      "needs_background": "light"
     },
     "output_type": "display_data"
    }
   ],
   "source": [
    "plt.plot(cost)\n",
    "plt.xlabel('Number of Iterations (epoch)')\n",
    "plt.ylabel(\"Cost or Lost\")\n",
    "plt.show\n",
    "print(\"Lowest Cost =\"+ str(np.min(cost)))\n",
    "#print(\"Cost after 10 iterations =\" + str(cost[-1]))"
   ]
  },
  {
   "cell_type": "markdown",
   "id": "aaae5703",
   "metadata": {},
   "source": [
    "# Polynomial Regression"
   ]
  },
  {
   "cell_type": "code",
   "execution_count": 78,
   "id": "487389c8",
   "metadata": {},
   "outputs": [],
   "source": [
    "X = data_df[\"Surface Area\"]\n",
    "y = data_df[\"Euclidian distance\"]"
   ]
  },
  {
   "cell_type": "code",
   "execution_count": 79,
   "id": "64022f90",
   "metadata": {},
   "outputs": [
    {
     "data": {
      "image/png": "[encoded data removed]",
      "text/plain": [
       "<Figure size 432x288 with 1 Axes>"
      ]
     },
     "metadata": {
      "needs_background": "light"
     },
     "output_type": "display_data"
    }
   ],
   "source": [
    "my_model = np.poly1d(np.polyfit(X, y, 2))\n",
    "myline = np.linspace(0, 10, 100)\n",
    "plt.scatter(X, y, color = \"blue\")\n",
    "plt.plot(myline, my_model(myline), color =\"r\")\n",
    "plt.show()"
   ]
  },
  {
   "cell_type": "code",
   "execution_count": 25,
   "id": "63855c54",
   "metadata": {},
   "outputs": [
    {
     "data": {
      "text/plain": [
       "array([5096.01044543, 2916.67526523, 3418.42426866, 3638.5712894 ,\n",
       "       3333.50348211])"
      ]
     },
     "execution_count": 25,
     "metadata": {},
     "output_type": "execute_result"
    }
   ],
   "source": [
    "# Prediction\n",
    "X = data_df[[\"Surface Area\"]]\n",
    "y = data_df[\"Euclidian distance\"]\n",
    "\n",
    "Input = [(\"scale\", StandardScaler()), (\"polynomial\", PolynomialFeatures(degree = 2)), (\"mode\", LinearRegression())]\n",
    "pipe = Pipeline(Input)\n",
    "\n",
    "pipe.fit(X, y)\n",
    "ypipe = pipe.predict(X)\n",
    "ypipe[0:5]"
   ]
  },
  {
   "cell_type": "code",
   "execution_count": 26,
   "id": "d6983be7",
   "metadata": {},
   "outputs": [
    {
     "data": {
      "image/png": "[encoded data removed]",
      "text/plain": [
       "<Figure size 432x288 with 1 Axes>"
      ]
     },
     "metadata": {
      "needs_background": "light"
     },
     "output_type": "display_data"
    }
   ],
   "source": [
    "X = data_df[\"Surface Area\"]\n",
    "y = data_df[\"Euclidian distance\"]\n",
    "\n",
    "my_model = np.poly1d(np.polyfit(X, y, 3))\n",
    "myline = np.linspace(0, 10, 100)\n",
    "plt.scatter(X, y, color = \"blue\")\n",
    "plt.plot(myline, my_model(myline), c =\"r\")\n",
    "plt.show()"
   ]
  },
  {
   "cell_type": "code",
   "execution_count": 27,
   "id": "a9c0d4f9",
   "metadata": {},
   "outputs": [
    {
     "data": {
      "text/plain": [
       "array([5079.97598134, 2908.34430658, 3450.3978306 , 3678.98470036,\n",
       "       3360.75514218])"
      ]
     },
     "execution_count": 27,
     "metadata": {},
     "output_type": "execute_result"
    }
   ],
   "source": [
    "X = data_df[[\"Surface Area\"]]\n",
    "y = data_df[\"Euclidian distance\"]\n",
    "\n",
    "Input = [(\"scale\", StandardScaler()), (\"polynomial\", PolynomialFeatures(degree = 3)), (\"mode\", LinearRegression())]\n",
    "pipe = Pipeline(Input)\n",
    "\n",
    "pipe.fit(X, y)\n",
    "ypipe = pipe.predict(X)\n",
    "ypipe[0:5]"
   ]
  },
  {
   "cell_type": "code",
   "execution_count": 28,
   "id": "95b91037",
   "metadata": {},
   "outputs": [
    {
     "data": {
      "text/plain": [
       "0.3121993709419333"
      ]
     },
     "execution_count": 28,
     "metadata": {},
     "output_type": "execute_result"
    }
   ],
   "source": [
    "# Evaluation\n",
    "from sklearn.metrics import r2_score\n",
    "X = data_df[\"Surface Area\"]\n",
    "y = data_df[\"Euclidian distance\"]\n",
    "p = np.poly1d(np.polyfit(X, y, 3))\n",
    "r_squared = r2_score(y, p(X))\n",
    "r_squared"
   ]
  },
  {
   "cell_type": "code",
   "execution_count": null,
   "id": "1d5f1264",
   "metadata": {},
   "outputs": [],
   "source": []
  }
 ],
 "metadata": {
  "kernelspec": {
   "display_name": "Python 3",
   "language": "python",
   "name": "python3"
  },
  "language_info": {
   "codemirror_mode": {
    "name": "ipython",
    "version": 3
   },
   "file_extension": ".py",
   "mimetype": "text/x-python",
   "name": "python",
   "nbconvert_exporter": "python",
   "pygments_lexer": "ipython3",
   "version": "3.8.8"
  }
 },
 "nbformat": 4,
 "nbformat_minor": 5
}
