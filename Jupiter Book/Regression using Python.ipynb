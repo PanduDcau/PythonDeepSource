{
 "cells": [
  {
   "cell_type": "code",
   "execution_count": 1,
   "metadata": {},
   "outputs": [
    {
     "name": "stdout",
     "output_type": "stream",
     "text": [
      "Assalam-o-Alaikum!\n"
     ]
    }
   ],
   "source": [
    "greetings = \"Assalam-o-Alaikum!\"\n",
    "print(greetings)"
   ]
  },
  {
   "cell_type": "markdown",
   "metadata": {},
   "source": [
    "### Linear Regression and Multiple Linear Regression"
   ]
  },
  {
   "cell_type": "code",
   "execution_count": 2,
   "metadata": {},
   "outputs": [],
   "source": [
    "import pandas as pd\n",
    "import seaborn as sns\n",
    "import matplotlib.pyplot as plt\n",
    "import numpy as np"
   ]
  },
  {
   "cell_type": "code",
   "execution_count": 3,
   "metadata": {},
   "outputs": [
    {
     "data": {
      "text/html": [
       "<div>\n",
       "<style scoped>\n",
       "    .dataframe tbody tr th:only-of-type {\n",
       "        vertical-align: middle;\n",
       "    }\n",
       "\n",
       "    .dataframe tbody tr th {\n",
       "        vertical-align: top;\n",
       "    }\n",
       "\n",
       "    .dataframe thead th {\n",
       "        text-align: right;\n",
       "    }\n",
       "</style>\n",
       "<table border=\"1\" class=\"dataframe\">\n",
       "  <thead>\n",
       "    <tr style=\"text-align: right;\">\n",
       "      <th></th>\n",
       "      <th>symboling</th>\n",
       "      <th>normalized-losses</th>\n",
       "      <th>make</th>\n",
       "      <th>fuel-type</th>\n",
       "      <th>aspiration</th>\n",
       "      <th>num-of-doors</th>\n",
       "      <th>body-style</th>\n",
       "      <th>drive-wheels</th>\n",
       "      <th>engine-location</th>\n",
       "      <th>wheel-base</th>\n",
       "      <th>...</th>\n",
       "      <th>engine-size</th>\n",
       "      <th>fuel-system</th>\n",
       "      <th>bore</th>\n",
       "      <th>stroke</th>\n",
       "      <th>compression-ratio</th>\n",
       "      <th>horsepower</th>\n",
       "      <th>peak-rpm</th>\n",
       "      <th>city-mpg</th>\n",
       "      <th>highway-mpg</th>\n",
       "      <th>price</th>\n",
       "    </tr>\n",
       "  </thead>\n",
       "  <tbody>\n",
       "    <tr>\n",
       "      <th>0</th>\n",
       "      <td>3</td>\n",
       "      <td>0</td>\n",
       "      <td>alfa-romero</td>\n",
       "      <td>gas</td>\n",
       "      <td>std</td>\n",
       "      <td>two</td>\n",
       "      <td>convertible</td>\n",
       "      <td>rwd</td>\n",
       "      <td>front</td>\n",
       "      <td>88.6</td>\n",
       "      <td>...</td>\n",
       "      <td>130</td>\n",
       "      <td>mpfi</td>\n",
       "      <td>3.47</td>\n",
       "      <td>2.68</td>\n",
       "      <td>9.0</td>\n",
       "      <td>111</td>\n",
       "      <td>5000</td>\n",
       "      <td>21</td>\n",
       "      <td>27</td>\n",
       "      <td>13495</td>\n",
       "    </tr>\n",
       "    <tr>\n",
       "      <th>1</th>\n",
       "      <td>3</td>\n",
       "      <td>0</td>\n",
       "      <td>alfa-romero</td>\n",
       "      <td>gas</td>\n",
       "      <td>std</td>\n",
       "      <td>two</td>\n",
       "      <td>convertible</td>\n",
       "      <td>rwd</td>\n",
       "      <td>front</td>\n",
       "      <td>88.6</td>\n",
       "      <td>...</td>\n",
       "      <td>130</td>\n",
       "      <td>mpfi</td>\n",
       "      <td>3.47</td>\n",
       "      <td>2.68</td>\n",
       "      <td>9.0</td>\n",
       "      <td>111</td>\n",
       "      <td>5000</td>\n",
       "      <td>21</td>\n",
       "      <td>27</td>\n",
       "      <td>16500</td>\n",
       "    </tr>\n",
       "    <tr>\n",
       "      <th>2</th>\n",
       "      <td>1</td>\n",
       "      <td>0</td>\n",
       "      <td>alfa-romero</td>\n",
       "      <td>gas</td>\n",
       "      <td>std</td>\n",
       "      <td>two</td>\n",
       "      <td>hatchback</td>\n",
       "      <td>rwd</td>\n",
       "      <td>front</td>\n",
       "      <td>94.5</td>\n",
       "      <td>...</td>\n",
       "      <td>152</td>\n",
       "      <td>mpfi</td>\n",
       "      <td>2.68</td>\n",
       "      <td>3.47</td>\n",
       "      <td>9.0</td>\n",
       "      <td>154</td>\n",
       "      <td>5000</td>\n",
       "      <td>19</td>\n",
       "      <td>26</td>\n",
       "      <td>16500</td>\n",
       "    </tr>\n",
       "    <tr>\n",
       "      <th>3</th>\n",
       "      <td>2</td>\n",
       "      <td>164</td>\n",
       "      <td>audi</td>\n",
       "      <td>gas</td>\n",
       "      <td>std</td>\n",
       "      <td>four</td>\n",
       "      <td>sedan</td>\n",
       "      <td>fwd</td>\n",
       "      <td>front</td>\n",
       "      <td>99.8</td>\n",
       "      <td>...</td>\n",
       "      <td>109</td>\n",
       "      <td>mpfi</td>\n",
       "      <td>3.19</td>\n",
       "      <td>3.40</td>\n",
       "      <td>10.0</td>\n",
       "      <td>102</td>\n",
       "      <td>5500</td>\n",
       "      <td>24</td>\n",
       "      <td>30</td>\n",
       "      <td>13950</td>\n",
       "    </tr>\n",
       "    <tr>\n",
       "      <th>4</th>\n",
       "      <td>2</td>\n",
       "      <td>164</td>\n",
       "      <td>audi</td>\n",
       "      <td>gas</td>\n",
       "      <td>std</td>\n",
       "      <td>four</td>\n",
       "      <td>sedan</td>\n",
       "      <td>4wd</td>\n",
       "      <td>front</td>\n",
       "      <td>99.4</td>\n",
       "      <td>...</td>\n",
       "      <td>136</td>\n",
       "      <td>mpfi</td>\n",
       "      <td>3.19</td>\n",
       "      <td>3.40</td>\n",
       "      <td>8.0</td>\n",
       "      <td>115</td>\n",
       "      <td>5500</td>\n",
       "      <td>18</td>\n",
       "      <td>22</td>\n",
       "      <td>17450</td>\n",
       "    </tr>\n",
       "  </tbody>\n",
       "</table>\n",
       "<p>5 rows × 26 columns</p>\n",
       "</div>"
      ],
      "text/plain": [
       "   symboling  normalized-losses         make fuel-type aspiration  \\\n",
       "0          3                  0  alfa-romero       gas        std   \n",
       "1          3                  0  alfa-romero       gas        std   \n",
       "2          1                  0  alfa-romero       gas        std   \n",
       "3          2                164         audi       gas        std   \n",
       "4          2                164         audi       gas        std   \n",
       "\n",
       "  num-of-doors   body-style drive-wheels engine-location  wheel-base  ...  \\\n",
       "0          two  convertible          rwd           front        88.6  ...   \n",
       "1          two  convertible          rwd           front        88.6  ...   \n",
       "2          two    hatchback          rwd           front        94.5  ...   \n",
       "3         four        sedan          fwd           front        99.8  ...   \n",
       "4         four        sedan          4wd           front        99.4  ...   \n",
       "\n",
       "   engine-size  fuel-system  bore  stroke compression-ratio horsepower  \\\n",
       "0          130         mpfi  3.47    2.68               9.0        111   \n",
       "1          130         mpfi  3.47    2.68               9.0        111   \n",
       "2          152         mpfi  2.68    3.47               9.0        154   \n",
       "3          109         mpfi  3.19    3.40              10.0        102   \n",
       "4          136         mpfi  3.19    3.40               8.0        115   \n",
       "\n",
       "   peak-rpm city-mpg  highway-mpg  price  \n",
       "0      5000       21           27  13495  \n",
       "1      5000       21           27  16500  \n",
       "2      5000       19           26  16500  \n",
       "3      5500       24           30  13950  \n",
       "4      5500       18           22  17450  \n",
       "\n",
       "[5 rows x 26 columns]"
      ]
     },
     "execution_count": 3,
     "metadata": {},
     "output_type": "execute_result"
    }
   ],
   "source": [
    "df = pd.read_csv(\"automobile.csv\")\n",
    "df.head()"
   ]
  },
  {
   "cell_type": "code",
   "execution_count": 4,
   "metadata": {},
   "outputs": [],
   "source": [
    "# import linear model using sklearn\n",
    "from sklearn.linear_model import LinearRegression"
   ]
  },
  {
   "cell_type": "code",
   "execution_count": 5,
   "metadata": {},
   "outputs": [],
   "source": [
    "# create linear regression object using constructor\n",
    "lr = LinearRegression()"
   ]
  },
  {
   "cell_type": "code",
   "execution_count": 6,
   "metadata": {},
   "outputs": [],
   "source": [
    "# variables\n",
    "X = df[[\"highway-mpg\"]]\n",
    "y = df[\"price\"]"
   ]
  },
  {
   "cell_type": "code",
   "execution_count": 7,
   "metadata": {},
   "outputs": [
    {
     "data": {
      "text/plain": [
       "LinearRegression()"
      ]
     },
     "execution_count": 7,
     "metadata": {},
     "output_type": "execute_result"
    }
   ],
   "source": [
    "# fit variables\n",
    "lr.fit(X, y)"
   ]
  },
  {
   "cell_type": "code",
   "execution_count": 8,
   "metadata": {},
   "outputs": [
    {
     "data": {
      "text/plain": [
       "array([15975.79026479, 15975.79026479, 16782.55750053, 13555.48855758,\n",
       "       20009.62644348, 17589.32473626, 17589.32473626, 17589.32473626,\n",
       "       21623.16091495, 20009.62644348, 14362.25579332, 14362.25579332,\n",
       "       15169.02302905, 15169.02302905, 17589.32473626, 20009.62644348,\n",
       "       20009.62644348, 21623.16091495, -5000.15786438,  3067.51449299,\n",
       "        3067.51449299,  4681.04896447,  7101.35067168, 13555.48855758,\n",
       "        7101.35067168,  7101.35067168,  7101.35067168, 13555.48855758,\n",
       "       13555.48855758, 18396.091972  , -5806.92510011,  7101.35067168,\n",
       "        3874.28172873, 10328.41961463, 10328.41961463, 10328.41961463,\n",
       "       10328.41961463, 11135.18685037, 11135.18685037, 11135.18685037,\n",
       "       11135.18685037, 15169.02302905, 12748.72132184, 14362.25579332,\n",
       "        3067.51449299,  3067.51449299, 14362.25579332, 22429.92815069,\n",
       "       22429.92815069, 24043.46262216, 12748.72132184,  7101.35067168,\n",
       "        7101.35067168,  7101.35067168,  7101.35067168, 19202.85920774,\n",
       "       19202.85920774, 19202.85920774, 19202.85920774, 11941.9540861 ,\n",
       "       11941.9540861 , 11941.9540861 , 11941.9540861 ,  3874.28172873,\n",
       "       11941.9540861 , 15975.79026479,  6294.58343594, 17589.32473626,\n",
       "       17589.32473626, 17589.32473626, 17589.32473626, 23236.69538642,\n",
       "       23236.69538642, 24850.2298579 , 24850.2298579 , 18396.091972  ,\n",
       "        4681.04896447,  7101.35067168,  7101.35067168, 13555.48855758,\n",
       "       13555.48855758, 11941.9540861 , 18396.091972  , 18396.091972  ,\n",
       "       18396.091972  , 11941.9540861 , 11941.9540861 , 13555.48855758,\n",
       "       13555.48855758,  7908.11790742, -2579.85615717,  7908.11790742,\n",
       "        7908.11790742,  7908.11790742,  7908.11790742,  7908.11790742,\n",
       "        7908.11790742,  7908.11790742,  7908.11790742, 10328.41961463,\n",
       "       10328.41961463, 20009.62644348, 20009.62644348, 17589.32473626,\n",
       "       17589.32473626, 19202.85920774, 17589.32473626, 18396.091972  ,\n",
       "       11135.18685037, 18396.091972  , 17589.32473626, 18396.091972  ,\n",
       "       11135.18685037, 18396.091972  , 17589.32473626, 18396.091972  ,\n",
       "       11135.18685037, 18396.091972  ,  4681.04896447, 13555.48855758,\n",
       "        7101.35067168,  7101.35067168,  7101.35067168, 13555.48855758,\n",
       "       18396.091972  , 15975.79026479, 17589.32473626, 17589.32473626,\n",
       "       17589.32473626, 15169.02302905, 12748.72132184, 12748.72132184,\n",
       "       15169.02302905, 15169.02302905, 15169.02302905, 15169.02302905,\n",
       "       16782.55750053, 16782.55750053,  8714.88514316, 12748.72132184,\n",
       "       12748.72132184,  7908.11790742, 11135.18685037, 11941.9540861 ,\n",
       "       17589.32473626, 14362.25579332, 11941.9540861 , 12748.72132184,\n",
       "       14362.25579332, 19202.85920774,  6294.58343594,  7101.35067168,\n",
       "        7101.35067168,  7908.11790742, 11941.9540861 , 11941.9540861 ,\n",
       "        7908.11790742,  7908.11790742,  8714.88514316,  -159.55444995,\n",
       "        -159.55444995, 10328.41961463, 10328.41961463, 10328.41961463,\n",
       "       10328.41961463, 14362.25579332, 14362.25579332, 13555.48855758,\n",
       "       13555.48855758, 13555.48855758, 13555.48855758, 13555.48855758,\n",
       "       13555.48855758, 10328.41961463, 11135.18685037, 11941.9540861 ,\n",
       "       11941.9540861 , 11941.9540861 , 18396.091972  , 18396.091972  ,\n",
       "       18396.091972  , 18396.091972  ,   647.21278578, 10328.41961463,\n",
       "         647.21278578, 10328.41961463, 10328.41961463,  3874.28172873,\n",
       "       11941.9540861 , 14362.25579332, 14362.25579332, 18396.091972  ,\n",
       "        7101.35067168, 12748.72132184, 15169.02302905, 15169.02302905,\n",
       "       15169.02302905, 15169.02302905, 20009.62644348, 20009.62644348,\n",
       "       15169.02302905, 17589.32473626, 19202.85920774, 15975.79026479,\n",
       "       17589.32473626])"
      ]
     },
     "execution_count": 8,
     "metadata": {},
     "output_type": "execute_result"
    }
   ],
   "source": [
    "yhat = lr.predict(X)\n",
    "yhat"
   ]
  },
  {
   "cell_type": "code",
   "execution_count": 9,
   "metadata": {},
   "outputs": [
    {
     "data": {
      "text/plain": [
       "37758.505629693725"
      ]
     },
     "execution_count": 9,
     "metadata": {},
     "output_type": "execute_result"
    }
   ],
   "source": [
    "# intercept\n",
    "lr.intercept_"
   ]
  },
  {
   "cell_type": "code",
   "execution_count": 10,
   "metadata": {},
   "outputs": [
    {
     "data": {
      "text/plain": [
       "array([-806.76723574])"
      ]
     },
     "execution_count": 10,
     "metadata": {},
     "output_type": "execute_result"
    }
   ],
   "source": [
    "# coefficient\n",
    "lr.coef_"
   ]
  },
  {
   "cell_type": "code",
   "execution_count": 11,
   "metadata": {},
   "outputs": [
    {
     "data": {
      "text/plain": [
       "0.47289700751877217"
      ]
     },
     "execution_count": 11,
     "metadata": {},
     "output_type": "execute_result"
    }
   ],
   "source": [
    "# score\n",
    "lr.score(X, y)"
   ]
  },
  {
   "cell_type": "code",
   "execution_count": 12,
   "metadata": {},
   "outputs": [
    {
     "data": {
      "text/plain": [
       "(0.0, 48159.6361702898)"
      ]
     },
     "execution_count": 12,
     "metadata": {},
     "output_type": "execute_result"
    },
    {
     "data": {
      "image/png": "[encoded data removed]",
      "text/plain": [
       "<Figure size 432x288 with 1 Axes>"
      ]
     },
     "metadata": {
      "needs_background": "light"
     },
     "output_type": "display_data"
    }
   ],
   "source": [
    "sns.regplot(x = \"highway-mpg\", y = \"price\", data = df)\n",
    "plt.ylim(0,)"
   ]
  },
  {
   "cell_type": "code",
   "execution_count": 13,
   "metadata": {},
   "outputs": [
    {
     "data": {
      "text/plain": [
       "<matplotlib.axes._subplots.AxesSubplot at 0x1ef1c13bf10>"
      ]
     },
     "execution_count": 13,
     "metadata": {},
     "output_type": "execute_result"
    },
    {
     "data": {
      "image/png": "[encoded data removed]",
      "text/plain": [
       "<Figure size 432x288 with 1 Axes>"
      ]
     },
     "metadata": {
      "needs_background": "light"
     },
     "output_type": "display_data"
    }
   ],
   "source": [
    "# Residual Plot\n",
    "sns.residplot(df[\"highway-mpg\"], df[\"price\"])"
   ]
  },
  {
   "cell_type": "code",
   "execution_count": 14,
   "metadata": {},
   "outputs": [
    {
     "data": {
      "text/plain": [
       "<matplotlib.axes._subplots.AxesSubplot at 0x1ef1c1ec730>"
      ]
     },
     "execution_count": 14,
     "metadata": {},
     "output_type": "execute_result"
    },
    {
     "data": {
      "image/png": "[encoded data removed]",
      "text/plain": [
       "<Figure size 432x288 with 1 Axes>"
      ]
     },
     "metadata": {
      "needs_background": "light"
     },
     "output_type": "display_data"
    }
   ],
   "source": [
    "# distribution plots\n",
    "ax1 = sns.distplot(df[\"price\"], hist = False, color = \"r\", label = \"Actual Value\")\n",
    "sns.distplot(yhat, hist = False, color = \"b\", label = \"Fitted Values\", ax = ax1)"
   ]
  },
  {
   "cell_type": "markdown",
   "metadata": {},
   "source": [
    "**Multiple Linear Regression**"
   ]
  },
  {
   "cell_type": "code",
   "execution_count": 15,
   "metadata": {},
   "outputs": [],
   "source": [
    "# predictor variables\n",
    "X = df[[\"horsepower\", \"curb-weight\", \"engine-size\", \"highway-mpg\"]]\n",
    "y = df[\"price\"]"
   ]
  },
  {
   "cell_type": "code",
   "execution_count": 16,
   "metadata": {},
   "outputs": [
    {
     "data": {
      "text/plain": [
       "LinearRegression()"
      ]
     },
     "execution_count": 16,
     "metadata": {},
     "output_type": "execute_result"
    }
   ],
   "source": [
    "# train model\n",
    "lr.fit(X, y)"
   ]
  },
  {
   "cell_type": "code",
   "execution_count": 17,
   "metadata": {},
   "outputs": [
    {
     "data": {
      "text/plain": [
       "array([13896.49032606, 13896.49032606, 17227.23244169, 10375.21137424,\n",
       "       16290.42510874, 14803.20232557, 15851.4869507 , 16193.65700638,\n",
       "       16774.35165898, 16232.01250439, 10621.32269212, 10621.32269212,\n",
       "       18036.9536937 , 18208.03872154, 19633.90021086, 25530.04045633,\n",
       "       25996.6359868 , 26734.65012691, -1481.28889727,  4655.05455499,\n",
       "        4763.92684543,  5019.51072075,  5543.28751782,  8477.43453608,\n",
       "        5826.35547297,  5894.78948411,  5894.78948411,  8673.40465888,\n",
       "       12528.96986454, 18033.50821987,  2514.87539344,  5556.62590679,\n",
       "        3512.15132738,  6631.38203079,  6681.15222071,  6849.12661168,\n",
       "        6892.67552786,  9723.08620511,  9887.94995921,  9934.60951226,\n",
       "       10146.1328194 , 11240.50567186, 10186.22451351, 10885.2541009 ,\n",
       "        4655.05455499,  4763.92684543, 12973.25930694, 34239.19102087,\n",
       "       34239.19102087, 41551.14469471,  6922.40536039,  5731.36586927,\n",
       "        5746.91905362,  5871.34452841,  5886.89771276,  7312.14020322,\n",
       "        7312.14020322,  7327.69338757,  8665.79116232, 11731.29052399,\n",
       "       11809.05644574, 11731.29052399, 11809.05644574, 10256.28841207,\n",
       "       11855.71599879, 15369.49206704, 12904.37424102, 23210.78107532,\n",
       "       23941.78073972, 23148.56833792, 24003.99347712, 30772.59085594,\n",
       "       30601.5058281 , 39881.55398387, 38852.39389664, 16390.93679496,\n",
       "        5377.00360244,  5981.65695812,  6168.29517031,  8530.31536287,\n",
       "       10527.93293297, 11535.88350111, 18101.942231  , 18375.67827555,\n",
       "       18391.2314599 , 11650.9770653 , 11775.40254009, 10630.58394967,\n",
       "       10630.58394967,  6547.75434854,  5420.10733796,  6637.96281776,\n",
       "        6700.17555516,  6967.69032596,  6740.61383447,  6980.13287344,\n",
       "        6802.82657186,  7008.12860527,  6917.92013605, 10906.68366617,\n",
       "       10838.24965504, 22070.01402446, 22695.2520353 , 21437.36493695,\n",
       "       21435.38049992, 21815.08112543, 21646.90380707, 14817.60958445,\n",
       "       17435.45041038, 15470.84332711, 19556.96692656, 14997.74497294,\n",
       "       17606.53543822, 15650.9787156 , 19728.0519544 , 14988.69461229,\n",
       "       17606.53543822, 16544.06945759,  5150.15746928,  8477.43453608,\n",
       "        5826.35547297,  5894.78948411,  7430.52266444, 12528.96986454,\n",
       "       18055.28267796, 16849.01543386, 21717.34627615, 21717.34627615,\n",
       "       21854.21429843, 23745.32596253, 14023.69215555, 13653.52636804,\n",
       "       13047.78569717, 13162.87926135, 13200.20690379, 13358.84938415,\n",
       "       13637.30674275, 13758.62158067,  7223.15915027,  9543.41807066,\n",
       "        9916.69449504,  8532.90377535,  9371.25149724,  9958.1371295 ,\n",
       "       11374.56381236, 10933.7941289 ,  9856.90744991, 10490.45263522,\n",
       "       10785.06704005, 12416.8368848 ,  5961.75188605,  6307.42917958,\n",
       "        6229.66325783,  7228.57429402,  8132.64199116, 10683.36422441,\n",
       "        7253.8945138 ,  7340.99234615,  9456.37965573,  7535.86473316,\n",
       "        5548.41013622,  7905.20742252,  7961.19888618,  8051.40735541,\n",
       "        8160.27964585,  9032.93224968,  9141.80454013, 15139.97159767,\n",
       "       15127.52905019, 15174.18860324, 15572.35012257, 15681.22241302,\n",
       "       16493.09863604, 11162.3769747 , 10540.90894558, 11785.29755062,\n",
       "       11785.29755062, 11922.16557289, 20175.70641686, 20300.13189166,\n",
       "       20680.48103331, 19608.46310492,  6210.50893845,  9355.60885768,\n",
       "        6219.84084906,  9364.94076829,  9560.91089109,  7016.89205444,\n",
       "        9919.98363933, 10345.92294364, 10243.27192693, 15456.83266921,\n",
       "        8524.02670335, 10966.97556569, 16088.24807238, 16467.74577049,\n",
       "       16159.79272038, 16492.63086545, 16084.65398221, 16433.04531163,\n",
       "       16212.67354717, 16830.02382564, 20811.30761181, 17701.47829228,\n",
       "       17078.62039991])"
      ]
     },
     "execution_count": 17,
     "metadata": {},
     "output_type": "execute_result"
    }
   ],
   "source": [
    "yhat = lr.predict(X)\n",
    "yhat"
   ]
  },
  {
   "cell_type": "code",
   "execution_count": 18,
   "metadata": {},
   "outputs": [
    {
     "data": {
      "text/plain": [
       "-3558.1248837676503"
      ]
     },
     "execution_count": 18,
     "metadata": {},
     "output_type": "execute_result"
    }
   ],
   "source": [
    "lr.intercept_"
   ]
  },
  {
   "cell_type": "code",
   "execution_count": 19,
   "metadata": {},
   "outputs": [
    {
     "data": {
      "text/plain": [
       "array([  -4.52518033,    3.11063687,  113.42306658, -174.59226569])"
      ]
     },
     "execution_count": 19,
     "metadata": {},
     "output_type": "execute_result"
    }
   ],
   "source": [
    "lr.coef_"
   ]
  },
  {
   "cell_type": "code",
   "execution_count": 20,
   "metadata": {},
   "outputs": [
    {
     "data": {
      "text/plain": [
       "0.7368395989355068"
      ]
     },
     "execution_count": 20,
     "metadata": {},
     "output_type": "execute_result"
    }
   ],
   "source": [
    "lr.score(X, y)"
   ]
  },
  {
   "cell_type": "markdown",
   "metadata": {},
   "source": [
    "**Polynomial Regression**"
   ]
  },
  {
   "cell_type": "code",
   "execution_count": 21,
   "metadata": {},
   "outputs": [],
   "source": [
    "f = np.polyfit(df[\"city-mpg\"], df[\"price\"], 3)\n",
    "p = np.poly1d(f)"
   ]
  },
  {
   "cell_type": "code",
   "execution_count": 22,
   "metadata": {},
   "outputs": [
    {
     "name": "stdout",
     "output_type": "stream",
     "text": [
      "        3         2\n",
      "-2.144 x + 234.5 x - 8537 x + 1.108e+05\n"
     ]
    }
   ],
   "source": [
    "print(p)"
   ]
  },
  {
   "cell_type": "code",
   "execution_count": 23,
   "metadata": {},
   "outputs": [],
   "source": [
    "# polynomial regression with more than one dimension\n",
    "from sklearn.preprocessing import PolynomialFeatures"
   ]
  },
  {
   "cell_type": "code",
   "execution_count": 24,
   "metadata": {},
   "outputs": [
    {
     "data": {
      "text/plain": [
       "PolynomialFeatures(include_bias=False)"
      ]
     },
     "execution_count": 24,
     "metadata": {},
     "output_type": "execute_result"
    }
   ],
   "source": [
    "pf = PolynomialFeatures(degree = 2, include_bias = False)\n",
    "pf"
   ]
  },
  {
   "cell_type": "code",
   "execution_count": 25,
   "metadata": {},
   "outputs": [],
   "source": [
    "# preprocessing to normalize features\n",
    "\n",
    "from sklearn.preprocessing import StandardScaler\n",
    "SCALE = StandardScaler()\n",
    "SCALE.fit(df[[\"horsepower\", \"highway-mpg\"]])\n",
    "x_scale = SCALE.transform(df[[\"horsepower\", \"highway-mpg\"]])"
   ]
  },
  {
   "cell_type": "markdown",
   "metadata": {},
   "source": [
    "**Pipelines**           (**Normalization -----> Polynomial Trasform -----> Linear Regression**)"
   ]
  },
  {
   "cell_type": "code",
   "execution_count": 26,
   "metadata": {},
   "outputs": [],
   "source": [
    "# Pipelines\n",
    "from sklearn.preprocessing import StandardScaler\n",
    "from sklearn.preprocessing import PolynomialFeatures\n",
    "from sklearn.linear_model import LinearRegression\n",
    "from sklearn.pipeline import Pipeline"
   ]
  },
  {
   "cell_type": "code",
   "execution_count": 27,
   "metadata": {},
   "outputs": [],
   "source": [
    "Input = [(\"scale\", StandardScaler()), (\"polynomial\", PolynomialFeatures(degree = 2)), (\"mode\", LinearRegression())]\n",
    "pipe = Pipeline(Input)"
   ]
  },
  {
   "cell_type": "code",
   "execution_count": 28,
   "metadata": {},
   "outputs": [
    {
     "data": {
      "text/plain": [
       "Pipeline(steps=[('scale', StandardScaler()),\n",
       "                ('polynomial', PolynomialFeatures()),\n",
       "                ('mode', LinearRegression())])"
      ]
     },
     "execution_count": 28,
     "metadata": {},
     "output_type": "execute_result"
    }
   ],
   "source": [
    "# Train\n",
    "\n",
    "pipe.fit(df[[\"horsepower\", \"curb-weight\", \"engine-size\", \"highway-mpg\"]], df[\"price\"])"
   ]
  },
  {
   "cell_type": "code",
   "execution_count": 29,
   "metadata": {},
   "outputs": [
    {
     "data": {
      "text/plain": [
       "array([13721.23748493, 13721.23748493, 17810.41589015, 10781.85078941,\n",
       "       16403.75288234, 14453.28328635, 15161.17145237, 15476.96282498,\n",
       "       18339.4472433 , 17255.17362938, 10831.90178239, 10831.90178239,\n",
       "       16512.10791124, 16605.41727872, 18733.80709282, 26063.20586296,\n",
       "       24920.11453447, 26597.30776597,  4173.19552675,  5832.24427185,\n",
       "        5807.74604131,  5947.65475618,  5876.93008292, 10891.05209733,\n",
       "        6046.99284786,  6092.39080869,  6092.39080869, 10614.23839566,\n",
       "       11048.57037098, 19578.71080898,  5219.98540272,  6694.23213812,\n",
       "        5092.14655272,  6683.00970208,  6700.24573537,  6764.93105982,\n",
       "        6783.34181957,  8906.82443291,  9005.63733961,  9035.36092494,\n",
       "        9179.83360997, 11191.12585549, 10438.70790895,  8553.84389664,\n",
       "        5832.24427185,  5807.74604131, 11919.18832975, 35986.0654272 ,\n",
       "       35986.0654272 , 41647.23705079,  4639.21578953,  5958.23967685,\n",
       "        5967.98373613,  6049.03797798,  6059.55747917, 10288.6337472 ,\n",
       "       10288.6337472 , 10264.44920717, 15424.8665423 , 10038.23411516,\n",
       "       10165.55304998, 10038.23411516, 10165.55304998, 11305.91433131,\n",
       "       10242.97833343, 15045.32671379, 13833.12377439, 23716.15241462,\n",
       "       25590.4066245 , 23565.42975976, 25758.70596281, 33489.70903399,\n",
       "       33065.26934364, 43448.24698439, 41299.04723958, 18478.92456798,\n",
       "        6094.39046605,  6091.73128456,  6232.17340981, 10815.00879083,\n",
       "       11956.13001522, 10026.54326448, 19455.65509701, 18980.1128664 ,\n",
       "       18953.89471146, 10159.96882465, 10309.52014259, 11743.14803359,\n",
       "       11743.14803359,  6125.86577596,  7758.18085514,  6208.78701714,\n",
       "        6267.66282019,  6536.53750335,  6306.6713468 ,  6549.6636561 ,\n",
       "        6367.82177948,  6579.39911469,  6484.58431771,  9989.92398286,\n",
       "       10000.34730604, 22796.17865748, 22346.03921328, 20370.67388105,\n",
       "       20300.77190483, 22425.86059389, 19875.14988596, 14401.30895651,\n",
       "       17718.58815707, 15649.66645676, 22269.56700703, 14786.97476065,\n",
       "       18177.2965281 , 16212.78218476, 22931.71508511, 14713.56941407,\n",
       "       18177.2965281 , 14912.73272643,  5976.98863208, 10891.05209733,\n",
       "        6046.99284786,  6092.39080869,  7216.09204465, 11048.57037098,\n",
       "       19539.37578236, 16713.79322699, 28656.04760811, 28656.04760811,\n",
       "       27736.53582453,  2296.72901412, 11616.36585727,  7468.17973794,\n",
       "       12460.4393631 , 12417.3700844 , 12404.41491379, 12354.89209398,\n",
       "       14335.96134437, 13700.03383982,  6542.65234061,  6857.21126782,\n",
       "        7610.0313828 ,  7990.42132505,  8388.24271234,  9536.81014639,\n",
       "        8678.39640896, 11228.43465187,  8711.39086074,  9791.99806474,\n",
       "        9249.73252364, 13490.38131806,  6010.3087693 ,  6121.22452657,\n",
       "        6008.93886532,  7249.99532324,  6547.40810451, 13911.87247788,\n",
       "        6825.68839037,  6919.12687718,  8359.04820994,  9903.91053627,\n",
       "        5617.75361739,  6739.59263214,  6821.44076494,  6955.65592852,\n",
       "        7121.49972417, 11927.61182438, 11686.62948997, 14035.77789119,\n",
       "       14038.55739397, 14028.41858723, 13973.44230047, 13968.24060236,\n",
       "       14062.57866472,  9961.58199177,  9555.60711711, 10503.90517287,\n",
       "       10503.90517287, 10618.46601247, 20889.5968345 , 20567.38629991,\n",
       "       19732.1418737 , 18248.82891308,  8993.05651178,  8636.09263445,\n",
       "        9012.28662529,  8640.60897384,  8742.6171842 ,  7206.62723668,\n",
       "       10038.68977032,  9607.30600163,  9548.90216665, 14977.10222664,\n",
       "        8880.42973473,  9946.11828099, 14574.04341527, 14751.72076321,\n",
       "       14603.61622837, 14765.16386927, 17261.7682872 , 15776.48091608,\n",
       "       14626.64617348, 15068.41817725, 20657.50577885, 17257.10113392,\n",
       "       16299.92451805])"
      ]
     },
     "execution_count": 29,
     "metadata": {},
     "output_type": "execute_result"
    }
   ],
   "source": [
    "# Predict\n",
    "yhat= pipe.predict(X)\n",
    "yhat"
   ]
  },
  {
   "cell_type": "markdown",
   "metadata": {},
   "source": [
    "### Measures for In-Sample Evaluation"
   ]
  },
  {
   "cell_type": "code",
   "execution_count": 30,
   "metadata": {},
   "outputs": [],
   "source": [
    "# Mean Squared Error\n",
    "from sklearn.metrics import mean_squared_error"
   ]
  },
  {
   "cell_type": "code",
   "execution_count": 31,
   "metadata": {},
   "outputs": [
    {
     "data": {
      "text/plain": [
       "array([13896.49032606, 13896.49032606, 17227.23244169, 10375.21137424,\n",
       "       16290.42510874, 14803.20232557, 15851.4869507 , 16193.65700638,\n",
       "       16774.35165898, 16232.01250439, 10621.32269212, 10621.32269212,\n",
       "       18036.9536937 , 18208.03872154, 19633.90021086, 25530.04045633,\n",
       "       25996.6359868 , 26734.65012691, -1481.28889727,  4655.05455499,\n",
       "        4763.92684543,  5019.51072075,  5543.28751782,  8477.43453608,\n",
       "        5826.35547297,  5894.78948411,  5894.78948411,  8673.40465888,\n",
       "       12528.96986454, 18033.50821987,  2514.87539344,  5556.62590679,\n",
       "        3512.15132738,  6631.38203079,  6681.15222071,  6849.12661168,\n",
       "        6892.67552786,  9723.08620511,  9887.94995921,  9934.60951226,\n",
       "       10146.1328194 , 11240.50567186, 10186.22451351, 10885.2541009 ,\n",
       "        4655.05455499,  4763.92684543, 12973.25930694, 34239.19102087,\n",
       "       34239.19102087, 41551.14469471,  6922.40536039,  5731.36586927,\n",
       "        5746.91905362,  5871.34452841,  5886.89771276,  7312.14020322,\n",
       "        7312.14020322,  7327.69338757,  8665.79116232, 11731.29052399,\n",
       "       11809.05644574, 11731.29052399, 11809.05644574, 10256.28841207,\n",
       "       11855.71599879, 15369.49206704, 12904.37424102, 23210.78107532,\n",
       "       23941.78073972, 23148.56833792, 24003.99347712, 30772.59085594,\n",
       "       30601.5058281 , 39881.55398387, 38852.39389664, 16390.93679496,\n",
       "        5377.00360244,  5981.65695812,  6168.29517031,  8530.31536287,\n",
       "       10527.93293297, 11535.88350111, 18101.942231  , 18375.67827555,\n",
       "       18391.2314599 , 11650.9770653 , 11775.40254009, 10630.58394967,\n",
       "       10630.58394967,  6547.75434854,  5420.10733796,  6637.96281776,\n",
       "        6700.17555516,  6967.69032596,  6740.61383447,  6980.13287344,\n",
       "        6802.82657186,  7008.12860527,  6917.92013605, 10906.68366617,\n",
       "       10838.24965504, 22070.01402446, 22695.2520353 , 21437.36493695,\n",
       "       21435.38049992, 21815.08112543, 21646.90380707, 14817.60958445,\n",
       "       17435.45041038, 15470.84332711, 19556.96692656, 14997.74497294,\n",
       "       17606.53543822, 15650.9787156 , 19728.0519544 , 14988.69461229,\n",
       "       17606.53543822, 16544.06945759,  5150.15746928,  8477.43453608,\n",
       "        5826.35547297,  5894.78948411,  7430.52266444, 12528.96986454,\n",
       "       18055.28267796, 16849.01543386, 21717.34627615, 21717.34627615,\n",
       "       21854.21429843, 23745.32596253, 14023.69215555, 13653.52636804,\n",
       "       13047.78569717, 13162.87926135, 13200.20690379, 13358.84938415,\n",
       "       13637.30674275, 13758.62158067,  7223.15915027,  9543.41807066,\n",
       "        9916.69449504,  8532.90377535,  9371.25149724,  9958.1371295 ,\n",
       "       11374.56381236, 10933.7941289 ,  9856.90744991, 10490.45263522,\n",
       "       10785.06704005, 12416.8368848 ,  5961.75188605,  6307.42917958,\n",
       "        6229.66325783,  7228.57429402,  8132.64199116, 10683.36422441,\n",
       "        7253.8945138 ,  7340.99234615,  9456.37965573,  7535.86473316,\n",
       "        5548.41013622,  7905.20742252,  7961.19888618,  8051.40735541,\n",
       "        8160.27964585,  9032.93224968,  9141.80454013, 15139.97159767,\n",
       "       15127.52905019, 15174.18860324, 15572.35012257, 15681.22241302,\n",
       "       16493.09863604, 11162.3769747 , 10540.90894558, 11785.29755062,\n",
       "       11785.29755062, 11922.16557289, 20175.70641686, 20300.13189166,\n",
       "       20680.48103331, 19608.46310492,  6210.50893845,  9355.60885768,\n",
       "        6219.84084906,  9364.94076829,  9560.91089109,  7016.89205444,\n",
       "        9919.98363933, 10345.92294364, 10243.27192693, 15456.83266921,\n",
       "        8524.02670335, 10966.97556569, 16088.24807238, 16467.74577049,\n",
       "       16159.79272038, 16492.63086545, 16084.65398221, 16433.04531163,\n",
       "       16212.67354717, 16830.02382564, 20811.30761181, 17701.47829228,\n",
       "       17078.62039991])"
      ]
     },
     "execution_count": 31,
     "metadata": {},
     "output_type": "execute_result"
    }
   ],
   "source": [
    "yhat = lr.predict(X)\n",
    "yhat"
   ]
  },
  {
   "cell_type": "code",
   "execution_count": 32,
   "metadata": {},
   "outputs": [
    {
     "data": {
      "text/plain": [
       "17092937.937706742"
      ]
     },
     "execution_count": 32,
     "metadata": {},
     "output_type": "execute_result"
    }
   ],
   "source": [
    "mean_squared_error(df[\"price\"], yhat)"
   ]
  },
  {
   "cell_type": "code",
   "execution_count": 33,
   "metadata": {},
   "outputs": [
    {
     "data": {
      "text/plain": [
       "0.47289700751877217"
      ]
     },
     "execution_count": 33,
     "metadata": {},
     "output_type": "execute_result"
    }
   ],
   "source": [
    "# R - squared\n",
    "X = df[[\"highway-mpg\"]]\n",
    "Y = df[\"price\"]\n",
    "lr.fit(X, Y)\n",
    "lr.score(X, Y)"
   ]
  },
  {
   "cell_type": "code",
   "execution_count": 34,
   "metadata": {},
   "outputs": [
    {
     "data": {
      "text/plain": [
       "array([13555.48855758])"
      ]
     },
     "execution_count": 34,
     "metadata": {},
     "output_type": "execute_result"
    }
   ],
   "source": [
    "lr.predict(np.array(30.0).reshape(-1, 1))"
   ]
  },
  {
   "cell_type": "code",
   "execution_count": 35,
   "metadata": {},
   "outputs": [
    {
     "data": {
      "text/plain": [
       "array([-806.76723574])"
      ]
     },
     "execution_count": 35,
     "metadata": {},
     "output_type": "execute_result"
    }
   ],
   "source": [
    "lr.coef_"
   ]
  },
  {
   "cell_type": "code",
   "execution_count": 36,
   "metadata": {},
   "outputs": [
    {
     "data": {
      "text/plain": [
       "37758.505629693725"
      ]
     },
     "execution_count": 36,
     "metadata": {},
     "output_type": "execute_result"
    }
   ],
   "source": [
    "lr.intercept_"
   ]
  },
  {
   "cell_type": "code",
   "execution_count": 37,
   "metadata": {},
   "outputs": [
    {
     "data": {
      "text/plain": [
       "array([[  1],\n",
       "       [  2],\n",
       "       [  3],\n",
       "       [  4],\n",
       "       [  5],\n",
       "       [  6],\n",
       "       [  7],\n",
       "       [  8],\n",
       "       [  9],\n",
       "       [ 10],\n",
       "       [ 11],\n",
       "       [ 12],\n",
       "       [ 13],\n",
       "       [ 14],\n",
       "       [ 15],\n",
       "       [ 16],\n",
       "       [ 17],\n",
       "       [ 18],\n",
       "       [ 19],\n",
       "       [ 20],\n",
       "       [ 21],\n",
       "       [ 22],\n",
       "       [ 23],\n",
       "       [ 24],\n",
       "       [ 25],\n",
       "       [ 26],\n",
       "       [ 27],\n",
       "       [ 28],\n",
       "       [ 29],\n",
       "       [ 30],\n",
       "       [ 31],\n",
       "       [ 32],\n",
       "       [ 33],\n",
       "       [ 34],\n",
       "       [ 35],\n",
       "       [ 36],\n",
       "       [ 37],\n",
       "       [ 38],\n",
       "       [ 39],\n",
       "       [ 40],\n",
       "       [ 41],\n",
       "       [ 42],\n",
       "       [ 43],\n",
       "       [ 44],\n",
       "       [ 45],\n",
       "       [ 46],\n",
       "       [ 47],\n",
       "       [ 48],\n",
       "       [ 49],\n",
       "       [ 50],\n",
       "       [ 51],\n",
       "       [ 52],\n",
       "       [ 53],\n",
       "       [ 54],\n",
       "       [ 55],\n",
       "       [ 56],\n",
       "       [ 57],\n",
       "       [ 58],\n",
       "       [ 59],\n",
       "       [ 60],\n",
       "       [ 61],\n",
       "       [ 62],\n",
       "       [ 63],\n",
       "       [ 64],\n",
       "       [ 65],\n",
       "       [ 66],\n",
       "       [ 67],\n",
       "       [ 68],\n",
       "       [ 69],\n",
       "       [ 70],\n",
       "       [ 71],\n",
       "       [ 72],\n",
       "       [ 73],\n",
       "       [ 74],\n",
       "       [ 75],\n",
       "       [ 76],\n",
       "       [ 77],\n",
       "       [ 78],\n",
       "       [ 79],\n",
       "       [ 80],\n",
       "       [ 81],\n",
       "       [ 82],\n",
       "       [ 83],\n",
       "       [ 84],\n",
       "       [ 85],\n",
       "       [ 86],\n",
       "       [ 87],\n",
       "       [ 88],\n",
       "       [ 89],\n",
       "       [ 90],\n",
       "       [ 91],\n",
       "       [ 92],\n",
       "       [ 93],\n",
       "       [ 94],\n",
       "       [ 95],\n",
       "       [ 96],\n",
       "       [ 97],\n",
       "       [ 98],\n",
       "       [ 99],\n",
       "       [100]])"
      ]
     },
     "execution_count": 37,
     "metadata": {},
     "output_type": "execute_result"
    }
   ],
   "source": [
    "# predicted values makes sense\n",
    "new_input = np.arange(1, 101, 1).reshape(-1, 1)\n",
    "new_input"
   ]
  },
  {
   "cell_type": "code",
   "execution_count": 38,
   "metadata": {},
   "outputs": [
    {
     "data": {
      "text/plain": [
       "array([ 36951.73839396,  36144.97115822,  35338.20392248,  34531.43668674,\n",
       "        33724.66945101,  32917.90221527,  32111.13497953,  31304.3677438 ,\n",
       "        30497.60050806,  29690.83327232,  28884.06603658,  28077.29880085,\n",
       "        27270.53156511,  26463.76432937,  25656.99709364,  24850.2298579 ,\n",
       "        24043.46262216,  23236.69538642,  22429.92815069,  21623.16091495,\n",
       "        20816.39367921,  20009.62644348,  19202.85920774,  18396.091972  ,\n",
       "        17589.32473626,  16782.55750053,  15975.79026479,  15169.02302905,\n",
       "        14362.25579332,  13555.48855758,  12748.72132184,  11941.9540861 ,\n",
       "        11135.18685037,  10328.41961463,   9521.65237889,   8714.88514316,\n",
       "         7908.11790742,   7101.35067168,   6294.58343594,   5487.81620021,\n",
       "         4681.04896447,   3874.28172873,   3067.51449299,   2260.74725726,\n",
       "         1453.98002152,    647.21278578,   -159.55444995,   -966.32168569,\n",
       "        -1773.08892143,  -2579.85615717,  -3386.6233929 ,  -4193.39062864,\n",
       "        -5000.15786438,  -5806.92510011,  -6613.69233585,  -7420.45957159,\n",
       "        -8227.22680733,  -9033.99404306,  -9840.7612788 , -10647.52851454,\n",
       "       -11454.29575027, -12261.06298601, -13067.83022175, -13874.59745749,\n",
       "       -14681.36469322, -15488.13192896, -16294.8991647 , -17101.66640043,\n",
       "       -17908.43363617, -18715.20087191, -19521.96810765, -20328.73534338,\n",
       "       -21135.50257912, -21942.26981486, -22749.0370506 , -23555.80428633,\n",
       "       -24362.57152207, -25169.33875781, -25976.10599354, -26782.87322928,\n",
       "       -27589.64046502, -28396.40770076, -29203.17493649, -30009.94217223,\n",
       "       -30816.70940797, -31623.4766437 , -32430.24387944, -33237.01111518,\n",
       "       -34043.77835092, -34850.54558665, -35657.31282239, -36464.08005813,\n",
       "       -37270.84729386, -38077.6145296 , -38884.38176534, -39691.14900108,\n",
       "       -40497.91623681, -41304.68347255, -42111.45070829, -42918.21794402])"
      ]
     },
     "execution_count": 38,
     "metadata": {},
     "output_type": "execute_result"
    }
   ],
   "source": [
    "yhat = lr.predict(new_input)\n",
    "yhat"
   ]
  },
  {
   "cell_type": "markdown",
   "metadata": {},
   "source": [
    "### Polynomial Regression and Pipelines"
   ]
  },
  {
   "cell_type": "code",
   "execution_count": 39,
   "metadata": {},
   "outputs": [],
   "source": [
    "x = df[\"highway-mpg\"].astype(\"int\")\n",
    "y = df[\"price\"].astype(\"int\")"
   ]
  },
  {
   "cell_type": "code",
   "execution_count": 40,
   "metadata": {},
   "outputs": [
    {
     "data": {
      "image/png": "[encoded data removed]",
      "text/plain": [
       "<Figure size 432x288 with 1 Axes>"
      ]
     },
     "metadata": {
      "needs_background": "light"
     },
     "output_type": "display_data"
    }
   ],
   "source": [
    "mymodel = np.poly1d(np.polyfit(x, y, 3))\n",
    "myline = np.linspace(15, 55, 100)\n",
    "\n",
    "plt.title(\"Polynomial Fit with Matplotlib for Price ~ Length\")\n",
    "plt.xlabel(\"highway-mpg\")\n",
    "plt.ylabel(\"price\")\n",
    "plt.scatter(x, y)\n",
    "plt.plot(myline, mymodel(myline), color = \"r\")\n",
    "plt.show()"
   ]
  },
  {
   "cell_type": "code",
   "execution_count": 41,
   "metadata": {},
   "outputs": [
    {
     "data": {
      "text/plain": [
       "array([-1.49872547e+00,  1.96887677e+02, -8.63947169e+03,  1.33515385e+05])"
      ]
     },
     "execution_count": 41,
     "metadata": {},
     "output_type": "execute_result"
    }
   ],
   "source": [
    "np.polyfit(x, y, 3)"
   ]
  },
  {
   "cell_type": "code",
   "execution_count": 42,
   "metadata": {},
   "outputs": [
    {
     "data": {
      "image/png": "[encoded data removed]",
      "text/plain": [
       "<Figure size 432x288 with 1 Axes>"
      ]
     },
     "metadata": {
      "needs_background": "light"
     },
     "output_type": "display_data"
    }
   ],
   "source": [
    "# 11 order polynomial model\n",
    "model = np.poly1d(np.polyfit(x, y, 11))\n",
    "line = np.linspace(15, 55, 100)\n",
    "\n",
    "plt.scatter(x, y)\n",
    "plt.title(\"Polynomial Fit with Matplotlib for Price ~ Length\")\n",
    "plt.xlabel(\"highway-mpg\")\n",
    "plt.ylabel(\"price\")\n",
    "\n",
    "plt.plot(line, model(line), color = \"r\")\n",
    "plt.show()"
   ]
  },
  {
   "cell_type": "code",
   "execution_count": 43,
   "metadata": {},
   "outputs": [
    {
     "data": {
      "text/plain": [
       "PolynomialFeatures()"
      ]
     },
     "execution_count": 43,
     "metadata": {},
     "output_type": "execute_result"
    }
   ],
   "source": [
    "# degree = 2\n",
    "\n",
    "pr = PolynomialFeatures(degree = 2)\n",
    "pr"
   ]
  },
  {
   "cell_type": "code",
   "execution_count": 44,
   "metadata": {},
   "outputs": [],
   "source": [
    "# fit data\n",
    "Z = df[[\"horsepower\", \"curb-weight\", \"engine-size\", \"highway-mpg\"]]\n",
    "Z_pr = pr.fit_transform(Z)"
   ]
  },
  {
   "cell_type": "code",
   "execution_count": 45,
   "metadata": {},
   "outputs": [
    {
     "data": {
      "text/plain": [
       "(205, 4)"
      ]
     },
     "execution_count": 45,
     "metadata": {},
     "output_type": "execute_result"
    }
   ],
   "source": [
    "# The original data is of 201 samples and 4 features\n",
    "Z.shape"
   ]
  },
  {
   "cell_type": "code",
   "execution_count": 46,
   "metadata": {},
   "outputs": [
    {
     "data": {
      "text/plain": [
       "(205, 15)"
      ]
     },
     "execution_count": 46,
     "metadata": {},
     "output_type": "execute_result"
    }
   ],
   "source": [
    "# after the transformation, there 201 samples and 15 features\n",
    "Z_pr.shape"
   ]
  },
  {
   "cell_type": "markdown",
   "metadata": {},
   "source": [
    "### Pipeline"
   ]
  },
  {
   "cell_type": "code",
   "execution_count": 47,
   "metadata": {},
   "outputs": [],
   "source": [
    "from sklearn.pipeline import Pipeline\n",
    "from sklearn.preprocessing import StandardScaler"
   ]
  },
  {
   "cell_type": "code",
   "execution_count": 48,
   "metadata": {},
   "outputs": [],
   "source": [
    "# pipeline\n",
    "\n",
    "Input = [(\"scale\", StandardScaler()), (\"polynomial\", PolynomialFeatures(include_bias = False)), (\"model\", LinearRegression())]\n"
   ]
  },
  {
   "cell_type": "code",
   "execution_count": 49,
   "metadata": {},
   "outputs": [
    {
     "data": {
      "text/plain": [
       "Pipeline(steps=[('scale', StandardScaler()),\n",
       "                ('polynomial', PolynomialFeatures(include_bias=False)),\n",
       "                ('model', LinearRegression())])"
      ]
     },
     "execution_count": 49,
     "metadata": {},
     "output_type": "execute_result"
    }
   ],
   "source": [
    "# we input the list as an argument to the pipeline constructor \n",
    "pipe = Pipeline(Input)\n",
    "pipe"
   ]
  },
  {
   "cell_type": "code",
   "execution_count": 50,
   "metadata": {},
   "outputs": [
    {
     "data": {
      "text/plain": [
       "Pipeline(steps=[('scale', StandardScaler()),\n",
       "                ('polynomial', PolynomialFeatures(include_bias=False)),\n",
       "                ('model', LinearRegression())])"
      ]
     },
     "execution_count": 50,
     "metadata": {},
     "output_type": "execute_result"
    }
   ],
   "source": [
    "# fit\n",
    "pipe.fit(Z, y)"
   ]
  },
  {
   "cell_type": "code",
   "execution_count": 51,
   "metadata": {},
   "outputs": [
    {
     "data": {
      "text/plain": [
       "array([13721.23748493, 13721.23748493, 17810.41589015, 10781.85078941])"
      ]
     },
     "execution_count": 51,
     "metadata": {},
     "output_type": "execute_result"
    }
   ],
   "source": [
    "# e can normalize the data, perform a transform and produce a prediction simultaneously\n",
    "ypipe = pipe.predict(Z)\n",
    "ypipe[0:4]"
   ]
  },
  {
   "cell_type": "code",
   "execution_count": 52,
   "metadata": {},
   "outputs": [
    {
     "data": {
      "text/plain": [
       "array([13896.49032606, 13896.49032606, 17227.23244169, 10375.21137424,\n",
       "       16290.42510874, 14803.20232557, 15851.4869507 , 16193.65700638,\n",
       "       16774.35165898, 16232.01250439])"
      ]
     },
     "execution_count": 52,
     "metadata": {},
     "output_type": "execute_result"
    }
   ],
   "source": [
    "# Standardized -----> Prediction\n",
    "\n",
    "Input = [(\"scale\", StandardScaler()), (\"model\", LinearRegression())]\n",
    "pipe = Pipeline(Input)\n",
    "pipe.fit(Z, y)\n",
    "\n",
    "ypipe = pipe.predict(Z)\n",
    "ypipe[0:10]"
   ]
  },
  {
   "cell_type": "markdown",
   "metadata": {},
   "source": [
    "### Simple Linear Regression"
   ]
  },
  {
   "cell_type": "markdown",
   "metadata": {},
   "source": [
    "**R^2 / R-squared**"
   ]
  },
  {
   "cell_type": "code",
   "execution_count": 58,
   "metadata": {},
   "outputs": [],
   "source": [
    "lm = LinearRegression()\n",
    "x = df[[\"highway-mpg\"]]\n",
    "y = df[\"price\"]"
   ]
  },
  {
   "cell_type": "code",
   "execution_count": 59,
   "metadata": {},
   "outputs": [
    {
     "name": "stdout",
     "output_type": "stream",
     "text": [
      "The R-square is:  0.47289700751877217\n"
     ]
    }
   ],
   "source": [
    "# R-Squared\n",
    "lm.fit(x, y)\n",
    "print('The R-square is: ', lm.score(x, y))"
   ]
  },
  {
   "cell_type": "code",
   "execution_count": 61,
   "metadata": {},
   "outputs": [
    {
     "name": "stdout",
     "output_type": "stream",
     "text": [
      "The output of the first four predicted value is:  [15975.79026479 15975.79026479 16782.55750053 13555.48855758]\n"
     ]
    }
   ],
   "source": [
    "# Prediction\n",
    "yhat = lm.predict(x)\n",
    "print('The output of the first four predicted value is: ', yhat[0:4])"
   ]
  },
  {
   "cell_type": "markdown",
   "metadata": {},
   "source": [
    "**Mean Squared Error**"
   ]
  },
  {
   "cell_type": "code",
   "execution_count": 62,
   "metadata": {},
   "outputs": [],
   "source": [
    "from sklearn.metrics import mean_squared_error"
   ]
  },
  {
   "cell_type": "code",
   "execution_count": 63,
   "metadata": {},
   "outputs": [
    {
     "name": "stdout",
     "output_type": "stream",
     "text": [
      "The mean square error of price and predicted value is:  34236681.12989803\n"
     ]
    }
   ],
   "source": [
    "# we compare the predicted results with the actual results\n",
    "mse = mean_squared_error(df[\"price\"], yhat)\n",
    "print('The mean square error of price and predicted value is: ', mse)"
   ]
  },
  {
   "cell_type": "markdown",
   "metadata": {},
   "source": [
    "### Multiple Linear Regression"
   ]
  },
  {
   "cell_type": "markdown",
   "metadata": {},
   "source": [
    "**R-squared**"
   ]
  },
  {
   "cell_type": "code",
   "execution_count": 77,
   "metadata": {},
   "outputs": [],
   "source": [
    "Z = df[[\"horsepower\", \"curb-weight\", \"engine-size\", \"highway-mpg\"]]\n",
    "y = df[\"price\"]"
   ]
  },
  {
   "cell_type": "code",
   "execution_count": 78,
   "metadata": {},
   "outputs": [
    {
     "name": "stdout",
     "output_type": "stream",
     "text": [
      "The R-square is:  0.7368395989355068\n"
     ]
    }
   ],
   "source": [
    "# R-squared\n",
    "lm.fit(Z, y)\n",
    "print('The R-square is: ', lm.score(Z, y))"
   ]
  },
  {
   "cell_type": "markdown",
   "metadata": {},
   "source": [
    "**Mean Squared Error**"
   ]
  },
  {
   "cell_type": "code",
   "execution_count": 79,
   "metadata": {},
   "outputs": [
    {
     "data": {
      "text/plain": [
       "array([13896.49032606, 13896.49032606, 17227.23244169, 10375.21137424])"
      ]
     },
     "execution_count": 79,
     "metadata": {},
     "output_type": "execute_result"
    }
   ],
   "source": [
    "# prediction\n",
    "\n",
    "y_predict = lm.predict(Z)\n",
    "y_predict[0:4]"
   ]
  },
  {
   "cell_type": "code",
   "execution_count": 80,
   "metadata": {},
   "outputs": [
    {
     "name": "stdout",
     "output_type": "stream",
     "text": [
      "The mean square error of price and predicted value using multifit is:  17092937.937706742\n"
     ]
    }
   ],
   "source": [
    "mse = mean_squared_error(df[\"price\"], y_predict)\n",
    "print('The mean square error of price and predicted value using multifit is: ', \\\n",
    "      mean_squared_error(df['price'], y_predict))"
   ]
  },
  {
   "cell_type": "markdown",
   "metadata": {},
   "source": [
    "### Polynomial Fit"
   ]
  },
  {
   "cell_type": "code",
   "execution_count": 86,
   "metadata": {},
   "outputs": [],
   "source": [
    "from sklearn.metrics import r2_score"
   ]
  },
  {
   "cell_type": "markdown",
   "metadata": {},
   "source": [
    "**R-Squared**"
   ]
  },
  {
   "cell_type": "code",
   "execution_count": 91,
   "metadata": {},
   "outputs": [
    {
     "name": "stdout",
     "output_type": "stream",
     "text": [
      "The R-square value is:  0.6307128243754195\n"
     ]
    }
   ],
   "source": [
    "# We apply the function to get the value of r^2\n",
    "x = df[\"highway-mpg\"]\n",
    "y = df[\"price\"]\n",
    "\n",
    "p = np.poly1d(np.polyfit(x, y, 3))     # prediction \n",
    "\n",
    "r_squared = r2_score(y, p(x))          # R-Squared\n",
    "print('The R-square value is: ', r_squared)"
   ]
  },
  {
   "cell_type": "markdown",
   "metadata": {},
   "source": [
    "**Mean Squared Error**"
   ]
  },
  {
   "cell_type": "code",
   "execution_count": 90,
   "metadata": {},
   "outputs": [
    {
     "data": {
      "text/plain": [
       "23986142.096640978"
      ]
     },
     "execution_count": 90,
     "metadata": {},
     "output_type": "execute_result"
    }
   ],
   "source": [
    "mse = mean_squared_error(df[\"price\"], p(x))\n",
    "mse"
   ]
  },
  {
   "cell_type": "markdown",
   "metadata": {},
   "source": [
    "### Prediction and Decision Making"
   ]
  },
  {
   "cell_type": "code",
   "execution_count": 94,
   "metadata": {},
   "outputs": [],
   "source": [
    "# Create new input\n",
    "new_input = np.arange(1, 100, 1).reshape(-1, 1)"
   ]
  },
  {
   "cell_type": "code",
   "execution_count": 96,
   "metadata": {},
   "outputs": [
    {
     "data": {
      "text/plain": [
       "LinearRegression()"
      ]
     },
     "execution_count": 96,
     "metadata": {},
     "output_type": "execute_result"
    }
   ],
   "source": [
    "# Linear Model\n",
    "\n",
    "x = df[[\"highway-mpg\"]]\n",
    "y = df[\"price\"]\n",
    "lm.fit(x, y)\n",
    "lm"
   ]
  },
  {
   "cell_type": "code",
   "execution_count": 97,
   "metadata": {},
   "outputs": [
    {
     "data": {
      "text/plain": [
       "array([36951.73839396, 36144.97115822, 35338.20392248, 34531.43668674,\n",
       "       33724.66945101])"
      ]
     },
     "execution_count": 97,
     "metadata": {},
     "output_type": "execute_result"
    }
   ],
   "source": [
    "# Prediction\n",
    "yhat = lm.predict(new_input)\n",
    "yhat[0:5]"
   ]
  },
  {
   "cell_type": "code",
   "execution_count": 98,
   "metadata": {},
   "outputs": [
    {
     "data": {
      "image/png": "[encoded data removed]",
      "text/plain": [
       "<Figure size 432x288 with 1 Axes>"
      ]
     },
     "metadata": {
      "needs_background": "light"
     },
     "output_type": "display_data"
    }
   ],
   "source": [
    "# plot\n",
    "plt.plot(new_input, yhat)\n",
    "plt.show()"
   ]
  },
  {
   "cell_type": "raw",
   "metadata": {},
   "source": [
    "**What is a good R-squared value?**\n",
    "\n",
    "When comparing models, the model with the higher R-squared value is a better fit for the data."
   ]
  },
  {
   "cell_type": "raw",
   "metadata": {},
   "source": [
    "**What is a good MSE?**\n",
    "\n",
    "When comparing models, the model with the smallest MSE value is a better fit for the data"
   ]
  },
  {
   "cell_type": "raw",
   "metadata": {},
   "source": [
    "Simple Linear Regression\n",
    "\n",
    "R-Squared = 0.47289700751877217 \n",
    "MSE = 34236681\n",
    "\n",
    "\n",
    "Multiple Linear Regression\n",
    "\n",
    "R-Squared = 0.7368395989355068\n",
    "MSE = 17092937\n",
    "\n",
    "Polynomial Regression\n",
    "\n",
    "R-squared = 0.6307128243754195\n",
    "MSE = 23986142"
   ]
  },
  {
   "cell_type": "raw",
   "metadata": {},
   "source": [
    "# Conclusion\n",
    "Comparing these three models, we conclude that the MLR model is the best mode"
   ]
  },
  {
   "cell_type": "code",
   "execution_count": null,
   "metadata": {},
   "outputs": [],
   "source": []
  }
 ],
 "metadata": {
  "kernelspec": {
   "display_name": "Python 3",
   "language": "python",
   "name": "python3"
  },
  "language_info": {
   "codemirror_mode": {
    "name": "ipython",
    "version": 3
   },
   "file_extension": ".py",
   "mimetype": "text/x-python",
   "name": "python",
   "nbconvert_exporter": "python",
   "pygments_lexer": "ipython3",
   "version": "3.8.3"
  }
 },
 "nbformat": 4,
 "nbformat_minor": 4
}
