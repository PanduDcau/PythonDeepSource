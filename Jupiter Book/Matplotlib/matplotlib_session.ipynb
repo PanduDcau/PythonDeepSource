{
 "cells": [
  {
   "cell_type": "code",
   "execution_count": null,
   "metadata": {
    "collapsed": true
   },
   "outputs": [],
   "source": [
    "import matplotlib.pyplot as plt\n",
    "import numpy as np\n",
    "import pandas as pd\n",
    "import matplotlib_questions\n",
    "%matplotlib inline\n",
    "plt.rcParams['figure.figsize'] = (14.0, 8.0)"
   ]
  },
  {
   "cell_type": "code",
   "execution_count": null,
   "metadata": {
    "collapsed": true
   },
   "outputs": [],
   "source": [
    "import seaborn as sns"
   ]
  },
  {
   "cell_type": "code",
   "execution_count": null,
   "metadata": {
    "collapsed": true
   },
   "outputs": [],
   "source": [
    "plt.plot([1,4,9,16], [1,2,3,4])"
   ]
  },
  {
   "cell_type": "code",
   "execution_count": null,
   "metadata": {
    "collapsed": true
   },
   "outputs": [],
   "source": [
    "plt.plot([1,4,9,16], [1,2,3,4])\n",
    "plt.show()"
   ]
  },
  {
   "cell_type": "code",
   "execution_count": null,
   "metadata": {
    "collapsed": true
   },
   "outputs": [],
   "source": [
    "plt.plot([1,4,9,16], [1,2,3,4])\n",
    "plt.savefig('random_figure.pdf')"
   ]
  },
  {
   "cell_type": "code",
   "execution_count": null,
   "metadata": {
    "collapsed": true
   },
   "outputs": [],
   "source": [
    "x = np.arange(0,20,0.1)\n",
    "y = x\n",
    "plt.plot(x,y)\n",
    "plt.show()"
   ]
  },
  {
   "cell_type": "code",
   "execution_count": null,
   "metadata": {
    "collapsed": true
   },
   "outputs": [],
   "source": [
    "matplotlib_questions.plot1()"
   ]
  },
  {
   "cell_type": "code",
   "execution_count": null,
   "metadata": {
    "collapsed": true
   },
   "outputs": [],
   "source": [
    "x = np.arange(0,20,0.1)\n",
    "y1 = x\n",
    "y2 = np.square(x)\n",
    "y3 = np.power(x, 3)\n",
    "plt.plot(x,y2)\n",
    "plt.plot(x,y3)\n",
    "plt.show()"
   ]
  },
  {
   "cell_type": "code",
   "execution_count": null,
   "metadata": {
    "collapsed": true
   },
   "outputs": [],
   "source": [
    "matplotlib_questions.plot2()"
   ]
  },
  {
   "cell_type": "code",
   "execution_count": null,
   "metadata": {
    "collapsed": true
   },
   "outputs": [],
   "source": [
    "x = np.arange(0,20,0.1)\n",
    "y1 = x\n",
    "y2 = np.square(x)\n",
    "y3 = np.power(x, 3)\n",
    "plt.plot(x,y2, label='Square of x values')\n",
    "plt.plot(x,y3, label='Cube of x values')\n",
    "plt.show()"
   ]
  },
  {
   "cell_type": "code",
   "execution_count": null,
   "metadata": {
    "collapsed": true
   },
   "outputs": [],
   "source": [
    "x = np.arange(0,20,0.1)\n",
    "y1 = x\n",
    "y2 = np.square(x)\n",
    "y3 = np.power(x, 3)\n",
    "plt.plot(x,y2, label='Square of x values')\n",
    "plt.plot(x,y3, label='Cube of x values')\n",
    "plt.legend()\n",
    "plt.show()"
   ]
  },
  {
   "cell_type": "code",
   "execution_count": null,
   "metadata": {
    "collapsed": true
   },
   "outputs": [],
   "source": [
    "x = np.arange(0,20,0.1)\n",
    "y1 = x\n",
    "y2 = np.square(x)\n",
    "y3 = np.power(x, 3)\n",
    "plt.plot(x,y2, label='Square of x values')\n",
    "plt.plot(x,y3, label='Cube of x values')\n",
    "plt.xlabel('X Axis')\n",
    "plt.ylabel('Y Axis')\n",
    "plt.legend()\n",
    "plt.show()"
   ]
  },
  {
   "cell_type": "code",
   "execution_count": null,
   "metadata": {
    "collapsed": true
   },
   "outputs": [],
   "source": [
    "matplotlib_questions.plot3()"
   ]
  },
  {
   "cell_type": "code",
   "execution_count": null,
   "metadata": {
    "collapsed": true
   },
   "outputs": [],
   "source": [
    "# https://matplotlib.org/api/_as_gen/matplotlib.pyplot.plot.html\n",
    "x = np.arange(0,20,0.1)\n",
    "y1 = x\n",
    "y2 = np.square(x)\n",
    "y3 = np.power(x, 3)\n",
    "plt.plot(x,y2, label='Square of x values', linewidth = 5, color = 'r')\n",
    "plt.plot(x,y3, label='Cube of x values', linewidth = 4, color = 'g', linestyle = '--')\n",
    "plt.xlabel('X Axis', size=24)\n",
    "plt.ylabel('Y Axis', size=24)\n",
    "plt.legend()\n",
    "plt.show()"
   ]
  },
  {
   "cell_type": "code",
   "execution_count": null,
   "metadata": {
    "collapsed": true
   },
   "outputs": [],
   "source": [
    "# https://stackoverflow.com/questions/4700614/how-to-put-the-legend-out-of-the-plot\n",
    "matplotlib_questions.plot4()"
   ]
  },
  {
   "cell_type": "code",
   "execution_count": null,
   "metadata": {
    "collapsed": true
   },
   "outputs": [],
   "source": [
    "# Sampled time at 200ms intervals\n",
    "t = np.arange(0., 5., 0.2)# green dashes, blue squares and red triangles\n",
    "plt.plot(t, t, 'g--', t, t**2, 'bs', t, t**3, 'r^')\n",
    "plt.show()"
   ]
  },
  {
   "cell_type": "code",
   "execution_count": null,
   "metadata": {
    "collapsed": true
   },
   "outputs": [],
   "source": [
    "x = np.array([0,1,2,3])\n",
    "y = np.array([20,21,22,23])\n",
    "my_xticks = ['John','Arnold','Mavis','Matt']\n",
    "plt.xticks(x, my_xticks)\n",
    "plt.plot(x, y)\n",
    "plt.show()"
   ]
  },
  {
   "cell_type": "code",
   "execution_count": null,
   "metadata": {
    "collapsed": true
   },
   "outputs": [],
   "source": [
    "x = np.arange(0,20,0.1)\n",
    "y1 = np.sin(x)\n",
    "y2 = np.cos(x)\n",
    "y3 = np.sqrt(x)\n",
    "y4 = np.power(x,1)\n",
    "\n",
    "plt.figure()\n",
    "plt.subplot(2,2,1)\n",
    "plt.plot(x,y1, label='Sin of X')\n",
    "plt.title('Sine of X')\n",
    "\n",
    "plt.subplot(2,2,2)\n",
    "plt.plot(x,y2, label='Cosine of X')\n",
    "plt.title('Cosine of X')\n",
    "plt.show()\n",
    "\n",
    "plt.subplot(2,2,3)\n",
    "plt.plot(x,y3, label='Square Root X')\n",
    "plt.title('Square Root X')\n",
    "\n",
    "plt.subplot(2,2,4)\n",
    "plt.plot(x,y4, label='Y = X')\n",
    "plt.title('Y = X')\n",
    "plt.show()"
   ]
  },
  {
   "cell_type": "code",
   "execution_count": null,
   "metadata": {
    "collapsed": true
   },
   "outputs": [],
   "source": [
    "label = ['Adventure', 'Action', 'Drama', 'Comedy', 'Thriller/Suspense', 'Horror', 'Romantic Comedy', 'Musical',\n",
    "         'Documentary', 'Black Comedy', 'Western', 'Concert/Performance', 'Multiple Genres', 'Reality',]\n",
    "\n",
    "no_movies = [\n",
    "    941,\n",
    "    854,\n",
    "    4595,\n",
    "    2125,\n",
    "    942,\n",
    "    509,\n",
    "    548,\n",
    "    149,\n",
    "    1952,\n",
    "    161,\n",
    "    64,\n",
    "    61,\n",
    "    35,\n",
    "    5,]"
   ]
  },
  {
   "cell_type": "code",
   "execution_count": null,
   "metadata": {
    "collapsed": true
   },
   "outputs": [],
   "source": [
    "index = np.arange(len(label))\n",
    "plt.bar(index, no_movies)\n",
    "plt.xlabel('Genre', fontsize=20)\n",
    "plt.ylabel('No of Movies', fontsize=20)\n",
    "plt.xticks(index, label, fontsize=20, rotation=30, horizontalalignment = 'right')\n",
    "plt.title('Market Share for Each Genre 1995-2017')\n",
    "plt.show()"
   ]
  },
  {
   "cell_type": "code",
   "execution_count": null,
   "metadata": {
    "collapsed": true
   },
   "outputs": [],
   "source": [
    "index = np.arange(len(label))\n",
    "plt.barh(index, no_movies)\n",
    "plt.xlabel('No of Movies', fontsize=25)\n",
    "plt.ylabel('Genre', fontsize=25)\n",
    "plt.yticks(index, label, fontsize=25, rotation=0)\n",
    "plt.title('Market Share for Each Genre 1995-2017')\n",
    "plt.show()"
   ]
  },
  {
   "cell_type": "code",
   "execution_count": null,
   "metadata": {
    "scrolled": true
   },
   "outputs": [],
   "source": [
    "# x = ['Java', 'Python', 'PHP', 'JavaScript', 'C#', 'C++']\n",
    "# popularity = [22.2, 17.6, 8.8, 8, 7.7, 6.7]\n",
    "matplotlib_questions.plot5()"
   ]
  },
  {
   "cell_type": "code",
   "execution_count": null,
   "metadata": {},
   "outputs": [],
   "source": [
    "# n_groups = 5\n",
    "# men_means = (22, 30, 33, 30, 26)\n",
    "# women_means = (25, 32, 30, 35, 29)\n",
    "matplotlib_questions.plot6()"
   ]
  },
  {
   "cell_type": "code",
   "execution_count": null,
   "metadata": {
    "collapsed": true
   },
   "outputs": [],
   "source": [
    "df = pd.read_csv('box_plot_input.csv')"
   ]
  },
  {
   "cell_type": "code",
   "execution_count": null,
   "metadata": {
    "collapsed": true
   },
   "outputs": [],
   "source": [
    "df"
   ]
  },
  {
   "cell_type": "code",
   "execution_count": null,
   "metadata": {
    "collapsed": true
   },
   "outputs": [],
   "source": [
    "df.groupby('location')['price'].apply(lambda x: min(x))"
   ]
  },
  {
   "cell_type": "code",
   "execution_count": null,
   "metadata": {
    "collapsed": true
   },
   "outputs": [],
   "source": [
    "df.groupby('location')['price'].apply(lambda x: np.median(x))"
   ]
  },
  {
   "cell_type": "code",
   "execution_count": null,
   "metadata": {
    "collapsed": true
   },
   "outputs": [],
   "source": [
    "df.boxplot(column='price', by='location', figsize=(14.0, 8.0))\n",
    "# df.boxplot(column='price', by='location', vert=False, figsize=(14.0, 8.0))"
   ]
  }
 ],
 "metadata": {
  "anaconda-cloud": {},
  "kernelspec": {
   "display_name": "Python 2",
   "language": "python",
   "name": "python2"
  },
  "language_info": {
   "codemirror_mode": {
    "name": "ipython",
    "version": 2
   },
   "file_extension": ".py",
   "mimetype": "text/x-python",
   "name": "python",
   "nbconvert_exporter": "python",
   "pygments_lexer": "ipython2",
   "version": "2.7.13"
  }
 },
 "nbformat": 4,
 "nbformat_minor": 2
}
