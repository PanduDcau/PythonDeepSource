{
  "cells":[
    {
      "cell_type":"code",
      "source":[
        "import numpy as np\n",
        "import pandas as pd\n",
        "import matplotlib.pyplot as plt\n",
        "import seaborn as sns\n",
        "\n",
        "#association rules\n",
        "from mlxtend.frequent_patterns import apriori\n",
        "from mlxtend.frequent_patterns import association_rules\n",
        "\n",
        "#clustering\n",
        "from sklearn.cluster import KMeans\n",
        "from sklearn.manifold import TSNE\n",
        "\n",
        "from IPython.display import display"
      ],
      "execution_count":2,
      "outputs":[
        
      ],
      "metadata":{
        "jupyter":{
          "source_hidden":false,
          "outputs_hidden":false
        },
        "datalore":{
          "type":"CODE",
          "sheet_delimiter":false
        }
      }
    },
    {
      "cell_type":"markdown",
      "source":[
        "## 1. Checking whether there is any relationship between information about superheroes and superpowers they have"
      ],
      "attachments":{
        
      },
      "metadata":{
        "jupyter":{
          "source_hidden":false,
          "outputs_hidden":false
        },
        "datalore":{
          "type":"MD",
          "sheet_delimiter":false
        }
      }
    },
    {
      "cell_type":"markdown",
      "source":[
        "### Data preparation"
      ],
      "attachments":{
        
      },
      "metadata":{
        "jupyter":{
          "source_hidden":false,
          "outputs_hidden":false
        },
        "datalore":{
          "type":"MD",
          "sheet_delimiter":false
        }
      }
    },
    {
      "cell_type":"code",
      "source":[
        "import os\n",
        "for dirname, _, filenames in os.walk('\/kaggle\/input'):\n",
        "    for filename in filenames:\n",
        "        print(os.path.join(dirname, filename))"
      ],
      "execution_count":4,
      "outputs":[
        
      ],
      "metadata":{
        "jupyter":{
          "source_hidden":false,
          "outputs_hidden":false
        },
        "datalore":{
          "type":"CODE",
          "sheet_delimiter":false
        }
      }
    },
    {
      "cell_type":"code",
      "source":[
        "heroes_info = pd.read_csv('heroes_information.csv')\n",
        "super_powers = pd.read_csv('super_hero_powers.csv')"
      ],
      "execution_count":5,
      "outputs":[
        
      ],
      "metadata":{
        "jupyter":{
          "source_hidden":false,
          "outputs_hidden":false
        },
        "datalore":{
          "type":"CODE",
          "sheet_delimiter":false
        }
      }
    },
    {
      "cell_type":"code",
      "source":[
        "heroes_info.columns\n",
        "# heroes_info.head()"
      ],
      "execution_count":6,
      "outputs":[
        {
          "data":{
            "text\/plain":[
              "Index(['Unnamed: 0', 'name', 'Gender', 'Eye color', 'Race', 'Hair color',\n",
              "       'Height', 'Publisher', 'Skin color', 'Alignment', 'Weight'],\n",
              "      dtype='object')"
            ]
          },
          "metadata":{
            
          },
          "output_type":"display_data"
        }
      ],
      "metadata":{
        "jupyter":{
          "source_hidden":false,
          "outputs_hidden":false
        },
        "datalore":{
          "type":"CODE",
          "sheet_delimiter":false
        }
      }
    },
    {
      "cell_type":"code",
      "source":[
        "heroes_info = heroes_info.drop('Unnamed: 0', axis=1)\n",
        "heroes_info.head()"
      ],
      "execution_count":7,
      "outputs":[
        {
          "data":{
            "text\/html":[
              "<div>\n",
              "<style scoped>\n",
              "    .dataframe tbody tr th:only-of-type {\n",
              "        vertical-align: middle;\n",
              "    }\n",
              "\n",
              "    .dataframe tbody tr th {\n",
              "        vertical-align: top;\n",
              "    }\n",
              "\n",
              "    .dataframe thead th {\n",
              "        text-align: right;\n",
              "    }\n",
              "<\/style>\n",
              "<table border=\"1\" class=\"dataframe\">\n",
              "  <thead>\n",
              "    <tr style=\"text-align: right;\">\n",
              "      <th><\/th>\n",
              "      <th>name<\/th>\n",
              "      <th>Gender<\/th>\n",
              "      <th>Eye color<\/th>\n",
              "      <th>Race<\/th>\n",
              "      <th>Hair color<\/th>\n",
              "      <th>Height<\/th>\n",
              "      <th>Publisher<\/th>\n",
              "      <th>Skin color<\/th>\n",
              "      <th>Alignment<\/th>\n",
              "      <th>Weight<\/th>\n",
              "    <\/tr>\n",
              "  <\/thead>\n",
              "  <tbody>\n",
              "    <tr>\n",
              "      <th>0<\/th>\n",
              "      <td>A-Bomb<\/td>\n",
              "      <td>Male<\/td>\n",
              "      <td>yellow<\/td>\n",
              "      <td>Human<\/td>\n",
              "      <td>No Hair<\/td>\n",
              "      <td>203.0<\/td>\n",
              "      <td>Marvel Comics<\/td>\n",
              "      <td>-<\/td>\n",
              "      <td>good<\/td>\n",
              "      <td>441.0<\/td>\n",
              "    <\/tr>\n",
              "    <tr>\n",
              "      <th>1<\/th>\n",
              "      <td>Abe Sapien<\/td>\n",
              "      <td>Male<\/td>\n",
              "      <td>blue<\/td>\n",
              "      <td>Icthyo Sapien<\/td>\n",
              "      <td>No Hair<\/td>\n",
              "      <td>191.0<\/td>\n",
              "      <td>Dark Horse Comics<\/td>\n",
              "      <td>blue<\/td>\n",
              "      <td>good<\/td>\n",
              "      <td>65.0<\/td>\n",
              "    <\/tr>\n",
              "    <tr>\n",
              "      <th>2<\/th>\n",
              "      <td>Abin Sur<\/td>\n",
              "      <td>Male<\/td>\n",
              "      <td>blue<\/td>\n",
              "      <td>Ungaran<\/td>\n",
              "      <td>No Hair<\/td>\n",
              "      <td>185.0<\/td>\n",
              "      <td>DC Comics<\/td>\n",
              "      <td>red<\/td>\n",
              "      <td>good<\/td>\n",
              "      <td>90.0<\/td>\n",
              "    <\/tr>\n",
              "    <tr>\n",
              "      <th>3<\/th>\n",
              "      <td>Abomination<\/td>\n",
              "      <td>Male<\/td>\n",
              "      <td>green<\/td>\n",
              "      <td>Human \/ Radiation<\/td>\n",
              "      <td>No Hair<\/td>\n",
              "      <td>203.0<\/td>\n",
              "      <td>Marvel Comics<\/td>\n",
              "      <td>-<\/td>\n",
              "      <td>bad<\/td>\n",
              "      <td>441.0<\/td>\n",
              "    <\/tr>\n",
              "    <tr>\n",
              "      <th>4<\/th>\n",
              "      <td>Abraxas<\/td>\n",
              "      <td>Male<\/td>\n",
              "      <td>blue<\/td>\n",
              "      <td>Cosmic Entity<\/td>\n",
              "      <td>Black<\/td>\n",
              "      <td>-99.0<\/td>\n",
              "      <td>Marvel Comics<\/td>\n",
              "      <td>-<\/td>\n",
              "      <td>bad<\/td>\n",
              "      <td>-99.0<\/td>\n",
              "    <\/tr>\n",
              "  <\/tbody>\n",
              "<\/table>\n",
              "<\/div>"
            ]
          },
          "metadata":{
            
          },
          "output_type":"display_data"
        }
      ],
      "metadata":{
        "jupyter":{
          "source_hidden":false,
          "outputs_hidden":false
        },
        "datalore":{
          "type":"CODE",
          "sheet_delimiter":false
        }
      }
    },
    {
      "cell_type":"code",
      "source":[
        "super_powers.head()"
      ],
      "execution_count":8,
      "outputs":[
        {
          "data":{
            "text\/html":[
              "<div>\n",
              "<style scoped>\n",
              "    .dataframe tbody tr th:only-of-type {\n",
              "        vertical-align: middle;\n",
              "    }\n",
              "\n",
              "    .dataframe tbody tr th {\n",
              "        vertical-align: top;\n",
              "    }\n",
              "\n",
              "    .dataframe thead th {\n",
              "        text-align: right;\n",
              "    }\n",
              "<\/style>\n",
              "<table border=\"1\" class=\"dataframe\">\n",
              "  <thead>\n",
              "    <tr style=\"text-align: right;\">\n",
              "      <th><\/th>\n",
              "      <th>hero_names<\/th>\n",
              "      <th>Agility<\/th>\n",
              "      <th>Accelerated Healing<\/th>\n",
              "      <th>Lantern Power Ring<\/th>\n",
              "      <th>Dimensional Awareness<\/th>\n",
              "      <th>Cold Resistance<\/th>\n",
              "      <th>Durability<\/th>\n",
              "      <th>Stealth<\/th>\n",
              "      <th>Energy Absorption<\/th>\n",
              "      <th>Flight<\/th>\n",
              "      <th>...<\/th>\n",
              "      <th>Web Creation<\/th>\n",
              "      <th>Reality Warping<\/th>\n",
              "      <th>Odin Force<\/th>\n",
              "      <th>Symbiote Costume<\/th>\n",
              "      <th>Speed Force<\/th>\n",
              "      <th>Phoenix Force<\/th>\n",
              "      <th>Molecular Dissipation<\/th>\n",
              "      <th>Vision - Cryo<\/th>\n",
              "      <th>Omnipresent<\/th>\n",
              "      <th>Omniscient<\/th>\n",
              "    <\/tr>\n",
              "  <\/thead>\n",
              "  <tbody>\n",
              "    <tr>\n",
              "      <th>0<\/th>\n",
              "      <td>3-D Man<\/td>\n",
              "      <td>True<\/td>\n",
              "      <td>False<\/td>\n",
              "      <td>False<\/td>\n",
              "      <td>False<\/td>\n",
              "      <td>False<\/td>\n",
              "      <td>False<\/td>\n",
              "      <td>False<\/td>\n",
              "      <td>False<\/td>\n",
              "      <td>False<\/td>\n",
              "      <td>...<\/td>\n",
              "      <td>False<\/td>\n",
              "      <td>False<\/td>\n",
              "      <td>False<\/td>\n",
              "      <td>False<\/td>\n",
              "      <td>False<\/td>\n",
              "      <td>False<\/td>\n",
              "      <td>False<\/td>\n",
              "      <td>False<\/td>\n",
              "      <td>False<\/td>\n",
              "      <td>False<\/td>\n",
              "    <\/tr>\n",
              "    <tr>\n",
              "      <th>1<\/th>\n",
              "      <td>A-Bomb<\/td>\n",
              "      <td>False<\/td>\n",
              "      <td>True<\/td>\n",
              "      <td>False<\/td>\n",
              "      <td>False<\/td>\n",
              "      <td>False<\/td>\n",
              "      <td>True<\/td>\n",
              "      <td>False<\/td>\n",
              "      <td>False<\/td>\n",
              "      <td>False<\/td>\n",
              "      <td>...<\/td>\n",
              "      <td>False<\/td>\n",
              "      <td>False<\/td>\n",
              "      <td>False<\/td>\n",
              "      <td>False<\/td>\n",
              "      <td>False<\/td>\n",
              "      <td>False<\/td>\n",
              "      <td>False<\/td>\n",
              "      <td>False<\/td>\n",
              "      <td>False<\/td>\n",
              "      <td>False<\/td>\n",
              "    <\/tr>\n",
              "    <tr>\n",
              "      <th>2<\/th>\n",
              "      <td>Abe Sapien<\/td>\n",
              "      <td>True<\/td>\n",
              "      <td>True<\/td>\n",
              "      <td>False<\/td>\n",
              "      <td>False<\/td>\n",
              "      <td>True<\/td>\n",
              "      <td>True<\/td>\n",
              "      <td>False<\/td>\n",
              "      <td>False<\/td>\n",
              "      <td>False<\/td>\n",
              "      <td>...<\/td>\n",
              "      <td>False<\/td>\n",
              "      <td>False<\/td>\n",
              "      <td>False<\/td>\n",
              "      <td>False<\/td>\n",
              "      <td>False<\/td>\n",
              "      <td>False<\/td>\n",
              "      <td>False<\/td>\n",
              "      <td>False<\/td>\n",
              "      <td>False<\/td>\n",
              "      <td>False<\/td>\n",
              "    <\/tr>\n",
              "    <tr>\n",
              "      <th>3<\/th>\n",
              "      <td>Abin Sur<\/td>\n",
              "      <td>False<\/td>\n",
              "      <td>False<\/td>\n",
              "      <td>True<\/td>\n",
              "      <td>False<\/td>\n",
              "      <td>False<\/td>\n",
              "      <td>False<\/td>\n",
              "      <td>False<\/td>\n",
              "      <td>False<\/td>\n",
              "      <td>False<\/td>\n",
              "      <td>...<\/td>\n",
              "      <td>False<\/td>\n",
              "      <td>False<\/td>\n",
              "      <td>False<\/td>\n",
              "      <td>False<\/td>\n",
              "      <td>False<\/td>\n",
              "      <td>False<\/td>\n",
              "      <td>False<\/td>\n",
              "      <td>False<\/td>\n",
              "      <td>False<\/td>\n",
              "      <td>False<\/td>\n",
              "    <\/tr>\n",
              "    <tr>\n",
              "      <th>4<\/th>\n",
              "      <td>Abomination<\/td>\n",
              "      <td>False<\/td>\n",
              "      <td>True<\/td>\n",
              "      <td>False<\/td>\n",
              "      <td>False<\/td>\n",
              "      <td>False<\/td>\n",
              "      <td>False<\/td>\n",
              "      <td>False<\/td>\n",
              "      <td>False<\/td>\n",
              "      <td>False<\/td>\n",
              "      <td>...<\/td>\n",
              "      <td>False<\/td>\n",
              "      <td>False<\/td>\n",
              "      <td>False<\/td>\n",
              "      <td>False<\/td>\n",
              "      <td>False<\/td>\n",
              "      <td>False<\/td>\n",
              "      <td>False<\/td>\n",
              "      <td>False<\/td>\n",
              "      <td>False<\/td>\n",
              "      <td>False<\/td>\n",
              "    <\/tr>\n",
              "  <\/tbody>\n",
              "<\/table>\n",
              "<p>5 rows × 168 columns<\/p>\n",
              "<\/div>"
            ]
          },
          "metadata":{
            
          },
          "output_type":"display_data"
        }
      ],
      "metadata":{
        "jupyter":{
          "source_hidden":false,
          "outputs_hidden":false
        },
        "datalore":{
          "type":"CODE",
          "sheet_delimiter":false
        }
      }
    },
    {
      "cell_type":"code",
      "source":[
        "# Change the column name so that it can be used as id for datasets merge\n",
        "column_names = super_powers.columns.values\n",
        "column_names[0] = 'name'\n",
        "super_powers.columns = column_names"
      ],
      "execution_count":9,
      "outputs":[
        
      ],
      "metadata":{
        "jupyter":{
          "source_hidden":false,
          "outputs_hidden":false
        },
        "datalore":{
          "type":"CODE",
          "sheet_delimiter":false
        }
      }
    },
    {
      "cell_type":"code",
      "source":[
        "# Encoding of nulls and surely incorrect data\n",
        "heroes_info['Weight'].replace(-99.0, np.nan, inplace=True)\n",
        "heroes_info['Height'].replace(-99.0, np.nan, inplace=True)\n",
        "heroes_info.replace('-', np.nan,inplace=True)"
      ],
      "execution_count":10,
      "outputs":[
        
      ],
      "metadata":{
        "jupyter":{
          "source_hidden":false,
          "outputs_hidden":false
        },
        "datalore":{
          "type":"CODE",
          "sheet_delimiter":false
        }
      }
    },
    {
      "cell_type":"code",
      "source":[
        "heroes_info.info()"
      ],
      "execution_count":11,
      "outputs":[
        {
          "name":"stdout",
          "text":[
            "<class 'pandas.core.frame.DataFrame'>\n",
            "RangeIndex: 734 entries, 0 to 733\n",
            "Data columns (total 10 columns):\n",
            " #   Column      Non-Null Count  Dtype  \n",
            "---  ------      --------------  -----  \n",
            " 0   name        734 non-null    object \n",
            " 1   Gender      705 non-null    object \n",
            " 2   Eye color   562 non-null    object \n",
            " 3   Race        430 non-null    object \n",
            " 4   Hair color  562 non-null    object \n",
            " 5   Height      517 non-null    float64\n",
            " 6   Publisher   719 non-null    object \n",
            " 7   Skin color  72 non-null     object \n",
            " 8   Alignment   727 non-null    object \n",
            " 9   Weight      495 non-null    float64\n",
            "dtypes: float64(2), object(8)\n",
            "memory usage: 57.5+ KB\n"
          ],
          "output_type":"stream"
        }
      ],
      "metadata":{
        "jupyter":{
          "source_hidden":false,
          "outputs_hidden":false
        },
        "datalore":{
          "type":"CODE",
          "sheet_delimiter":false
        }
      }
    },
    {
      "cell_type":"markdown",
      "source":[
        "Variable *Skin color* is deleted, as it contains too many null values."
      ],
      "attachments":{
        
      },
      "metadata":{
        "jupyter":{
          "source_hidden":false,
          "outputs_hidden":false
        },
        "datalore":{
          "type":"MD",
          "sheet_delimiter":false
        }
      }
    },
    {
      "cell_type":"code",
      "source":[
        "heroes_info = heroes_info.drop('Skin color', axis=1)"
      ],
      "execution_count":12,
      "outputs":[
        
      ],
      "metadata":{
        "jupyter":{
          "source_hidden":false,
          "outputs_hidden":false
        },
        "datalore":{
          "type":"CODE",
          "sheet_delimiter":false
        }
      }
    },
    {
      "cell_type":"code",
      "source":[
        "data = pd.merge(heroes_info, super_powers, on='name')\n",
        "data.info()"
      ],
      "execution_count":13,
      "outputs":[
        {
          "name":"stdout",
          "text":[
            "<class 'pandas.core.frame.DataFrame'>\n",
            "Int64Index: 660 entries, 0 to 659\n",
            "Columns: 176 entries, name to Omniscient\n",
            "dtypes: bool(167), float64(2), object(7)\n",
            "memory usage: 159.2+ KB\n"
          ],
          "output_type":"stream"
        }
      ],
      "metadata":{
        "jupyter":{
          "source_hidden":false,
          "outputs_hidden":false
        },
        "datalore":{
          "type":"CODE",
          "sheet_delimiter":false
        }
      }
    },
    {
      "cell_type":"code",
      "source":[
        "print(data.isna().sum()['Weight'])\n",
        "print(data.isna().sum()['Height'])"
      ],
      "execution_count":14,
      "outputs":[
        {
          "name":"stdout",
          "text":[
            "192\n",
            "170\n"
          ],
          "output_type":"stream"
        }
      ],
      "metadata":{
        "jupyter":{
          "source_hidden":false,
          "outputs_hidden":false
        },
        "datalore":{
          "type":"CODE",
          "sheet_delimiter":false
        }
      }
    },
    {
      "cell_type":"markdown",
      "source":[
        "#### Fill in the missing data on height and weight - done based on the mean value of race and gender of the specific hero"
      ],
      "attachments":{
        
      },
      "metadata":{
        "jupyter":{
          "source_hidden":false,
          "outputs_hidden":false
        },
        "datalore":{
          "type":"MD",
          "sheet_delimiter":false
        }
      }
    },
    {
      "cell_type":"code",
      "source":[
        "data['Height'] = data['Height'].fillna(data.groupby(['Race','Gender'])['Height'].transform('mean'))\n",
        "data['Weight'] = data['Weight'].fillna(data.groupby(['Race','Gender'])['Weight'].transform('mean'))"
      ],
      "execution_count":15,
      "outputs":[
        
      ],
      "metadata":{
        "jupyter":{
          "source_hidden":false,
          "outputs_hidden":false
        },
        "datalore":{
          "type":"CODE",
          "sheet_delimiter":false
        }
      }
    },
    {
      "cell_type":"code",
      "source":[
        "print(data.isna().sum()['Weight'])\n",
        "print(data.isna().sum()['Height'])"
      ],
      "execution_count":16,
      "outputs":[
        {
          "name":"stdout",
          "text":[
            "118\n",
            "108\n"
          ],
          "output_type":"stream"
        }
      ],
      "metadata":{
        "jupyter":{
          "source_hidden":false,
          "outputs_hidden":false
        },
        "datalore":{
          "type":"CODE",
          "sheet_delimiter":false
        }
      }
    },
    {
      "cell_type":"code",
      "source":[
        "data[data['Height'].isna()].head()\n",
        "# data[data['Weight'].isna()]"
      ],
      "execution_count":17,
      "outputs":[
        {
          "data":{
            "text\/html":[
              "<div>\n",
              "<style scoped>\n",
              "    .dataframe tbody tr th:only-of-type {\n",
              "        vertical-align: middle;\n",
              "    }\n",
              "\n",
              "    .dataframe tbody tr th {\n",
              "        vertical-align: top;\n",
              "    }\n",
              "\n",
              "    .dataframe thead th {\n",
              "        text-align: right;\n",
              "    }\n",
              "<\/style>\n",
              "<table border=\"1\" class=\"dataframe\">\n",
              "  <thead>\n",
              "    <tr style=\"text-align: right;\">\n",
              "      <th><\/th>\n",
              "      <th>name<\/th>\n",
              "      <th>Gender<\/th>\n",
              "      <th>Eye color<\/th>\n",
              "      <th>Race<\/th>\n",
              "      <th>Hair color<\/th>\n",
              "      <th>Height<\/th>\n",
              "      <th>Publisher<\/th>\n",
              "      <th>Alignment<\/th>\n",
              "      <th>Weight<\/th>\n",
              "      <th>Agility<\/th>\n",
              "      <th>...<\/th>\n",
              "      <th>Web Creation<\/th>\n",
              "      <th>Reality Warping<\/th>\n",
              "      <th>Odin Force<\/th>\n",
              "      <th>Symbiote Costume<\/th>\n",
              "      <th>Speed Force<\/th>\n",
              "      <th>Phoenix Force<\/th>\n",
              "      <th>Molecular Dissipation<\/th>\n",
              "      <th>Vision - Cryo<\/th>\n",
              "      <th>Omnipresent<\/th>\n",
              "      <th>Omniscient<\/th>\n",
              "    <\/tr>\n",
              "  <\/thead>\n",
              "  <tbody>\n",
              "    <tr>\n",
              "      <th>6<\/th>\n",
              "      <td>Adam Monroe<\/td>\n",
              "      <td>Male<\/td>\n",
              "      <td>blue<\/td>\n",
              "      <td>NaN<\/td>\n",
              "      <td>Blond<\/td>\n",
              "      <td>NaN<\/td>\n",
              "      <td>NBC - Heroes<\/td>\n",
              "      <td>good<\/td>\n",
              "      <td>NaN<\/td>\n",
              "      <td>False<\/td>\n",
              "      <td>...<\/td>\n",
              "      <td>False<\/td>\n",
              "      <td>False<\/td>\n",
              "      <td>False<\/td>\n",
              "      <td>False<\/td>\n",
              "      <td>False<\/td>\n",
              "      <td>False<\/td>\n",
              "      <td>False<\/td>\n",
              "      <td>False<\/td>\n",
              "      <td>False<\/td>\n",
              "      <td>False<\/td>\n",
              "    <\/tr>\n",
              "    <tr>\n",
              "      <th>14<\/th>\n",
              "      <td>Alex Woolsly<\/td>\n",
              "      <td>Male<\/td>\n",
              "      <td>NaN<\/td>\n",
              "      <td>NaN<\/td>\n",
              "      <td>NaN<\/td>\n",
              "      <td>NaN<\/td>\n",
              "      <td>NBC - Heroes<\/td>\n",
              "      <td>good<\/td>\n",
              "      <td>NaN<\/td>\n",
              "      <td>False<\/td>\n",
              "      <td>...<\/td>\n",
              "      <td>False<\/td>\n",
              "      <td>False<\/td>\n",
              "      <td>False<\/td>\n",
              "      <td>False<\/td>\n",
              "      <td>False<\/td>\n",
              "      <td>False<\/td>\n",
              "      <td>False<\/td>\n",
              "      <td>False<\/td>\n",
              "      <td>False<\/td>\n",
              "      <td>False<\/td>\n",
              "    <\/tr>\n",
              "    <tr>\n",
              "      <th>16<\/th>\n",
              "      <td>Allan Quatermain<\/td>\n",
              "      <td>Male<\/td>\n",
              "      <td>NaN<\/td>\n",
              "      <td>NaN<\/td>\n",
              "      <td>NaN<\/td>\n",
              "      <td>NaN<\/td>\n",
              "      <td>Wildstorm<\/td>\n",
              "      <td>good<\/td>\n",
              "      <td>NaN<\/td>\n",
              "      <td>False<\/td>\n",
              "      <td>...<\/td>\n",
              "      <td>False<\/td>\n",
              "      <td>False<\/td>\n",
              "      <td>False<\/td>\n",
              "      <td>False<\/td>\n",
              "      <td>False<\/td>\n",
              "      <td>False<\/td>\n",
              "      <td>False<\/td>\n",
              "      <td>False<\/td>\n",
              "      <td>False<\/td>\n",
              "      <td>False<\/td>\n",
              "    <\/tr>\n",
              "    <tr>\n",
              "      <th>19<\/th>\n",
              "      <td>Ando Masahashi<\/td>\n",
              "      <td>Male<\/td>\n",
              "      <td>NaN<\/td>\n",
              "      <td>NaN<\/td>\n",
              "      <td>NaN<\/td>\n",
              "      <td>NaN<\/td>\n",
              "      <td>NBC - Heroes<\/td>\n",
              "      <td>good<\/td>\n",
              "      <td>NaN<\/td>\n",
              "      <td>False<\/td>\n",
              "      <td>...<\/td>\n",
              "      <td>False<\/td>\n",
              "      <td>False<\/td>\n",
              "      <td>False<\/td>\n",
              "      <td>False<\/td>\n",
              "      <td>False<\/td>\n",
              "      <td>False<\/td>\n",
              "      <td>False<\/td>\n",
              "      <td>False<\/td>\n",
              "      <td>False<\/td>\n",
              "      <td>False<\/td>\n",
              "    <\/tr>\n",
              "    <tr>\n",
              "      <th>24<\/th>\n",
              "      <td>Angela<\/td>\n",
              "      <td>Female<\/td>\n",
              "      <td>NaN<\/td>\n",
              "      <td>NaN<\/td>\n",
              "      <td>NaN<\/td>\n",
              "      <td>NaN<\/td>\n",
              "      <td>Image Comics<\/td>\n",
              "      <td>bad<\/td>\n",
              "      <td>NaN<\/td>\n",
              "      <td>False<\/td>\n",
              "      <td>...<\/td>\n",
              "      <td>False<\/td>\n",
              "      <td>False<\/td>\n",
              "      <td>False<\/td>\n",
              "      <td>False<\/td>\n",
              "      <td>False<\/td>\n",
              "      <td>False<\/td>\n",
              "      <td>False<\/td>\n",
              "      <td>False<\/td>\n",
              "      <td>False<\/td>\n",
              "      <td>False<\/td>\n",
              "    <\/tr>\n",
              "  <\/tbody>\n",
              "<\/table>\n",
              "<p>5 rows × 176 columns<\/p>\n",
              "<\/div>"
            ]
          },
          "metadata":{
            
          },
          "output_type":"display_data"
        }
      ],
      "metadata":{
        "jupyter":{
          "source_hidden":false,
          "outputs_hidden":false
        },
        "datalore":{
          "type":"CODE",
          "sheet_delimiter":false
        }
      }
    },
    {
      "cell_type":"code",
      "source":[
        "# data[data.isnull().sum(axis=1) < 3].count()"
      ],
      "execution_count":0,
      "outputs":[
        
      ],
      "metadata":{
        "jupyter":{
          "source_hidden":false,
          "outputs_hidden":false
        },
        "datalore":{
          "type":"CODE",
          "sheet_delimiter":false
        }
      }
    },
    {
      "cell_type":"markdown",
      "source":[
        "Missing data still exists, and as can be seen most of the heros don't have the big part of the information. Having that in mind, I decided to drop those rows and analyse only the heroes with full information."
      ],
      "attachments":{
        
      },
      "metadata":{
        "jupyter":{
          "source_hidden":false,
          "outputs_hidden":false
        },
        "datalore":{
          "type":"MD",
          "sheet_delimiter":false
        }
      }
    },
    {
      "cell_type":"code",
      "source":[
        "data.dropna(inplace=True)"
      ],
      "execution_count":18,
      "outputs":[
        
      ],
      "metadata":{
        "jupyter":{
          "source_hidden":false,
          "outputs_hidden":false
        },
        "datalore":{
          "type":"CODE",
          "sheet_delimiter":false
        }
      }
    },
    {
      "cell_type":"code",
      "source":[
        "data.head()"
      ],
      "execution_count":19,
      "outputs":[
        {
          "data":{
            "text\/html":[
              "<div>\n",
              "<style scoped>\n",
              "    .dataframe tbody tr th:only-of-type {\n",
              "        vertical-align: middle;\n",
              "    }\n",
              "\n",
              "    .dataframe tbody tr th {\n",
              "        vertical-align: top;\n",
              "    }\n",
              "\n",
              "    .dataframe thead th {\n",
              "        text-align: right;\n",
              "    }\n",
              "<\/style>\n",
              "<table border=\"1\" class=\"dataframe\">\n",
              "  <thead>\n",
              "    <tr style=\"text-align: right;\">\n",
              "      <th><\/th>\n",
              "      <th>name<\/th>\n",
              "      <th>Gender<\/th>\n",
              "      <th>Eye color<\/th>\n",
              "      <th>Race<\/th>\n",
              "      <th>Hair color<\/th>\n",
              "      <th>Height<\/th>\n",
              "      <th>Publisher<\/th>\n",
              "      <th>Alignment<\/th>\n",
              "      <th>Weight<\/th>\n",
              "      <th>Agility<\/th>\n",
              "      <th>...<\/th>\n",
              "      <th>Web Creation<\/th>\n",
              "      <th>Reality Warping<\/th>\n",
              "      <th>Odin Force<\/th>\n",
              "      <th>Symbiote Costume<\/th>\n",
              "      <th>Speed Force<\/th>\n",
              "      <th>Phoenix Force<\/th>\n",
              "      <th>Molecular Dissipation<\/th>\n",
              "      <th>Vision - Cryo<\/th>\n",
              "      <th>Omnipresent<\/th>\n",
              "      <th>Omniscient<\/th>\n",
              "    <\/tr>\n",
              "  <\/thead>\n",
              "  <tbody>\n",
              "    <tr>\n",
              "      <th>0<\/th>\n",
              "      <td>A-Bomb<\/td>\n",
              "      <td>Male<\/td>\n",
              "      <td>yellow<\/td>\n",
              "      <td>Human<\/td>\n",
              "      <td>No Hair<\/td>\n",
              "      <td>203.0<\/td>\n",
              "      <td>Marvel Comics<\/td>\n",
              "      <td>good<\/td>\n",
              "      <td>441.0<\/td>\n",
              "      <td>False<\/td>\n",
              "      <td>...<\/td>\n",
              "      <td>False<\/td>\n",
              "      <td>False<\/td>\n",
              "      <td>False<\/td>\n",
              "      <td>False<\/td>\n",
              "      <td>False<\/td>\n",
              "      <td>False<\/td>\n",
              "      <td>False<\/td>\n",
              "      <td>False<\/td>\n",
              "      <td>False<\/td>\n",
              "      <td>False<\/td>\n",
              "    <\/tr>\n",
              "    <tr>\n",
              "      <th>1<\/th>\n",
              "      <td>Abe Sapien<\/td>\n",
              "      <td>Male<\/td>\n",
              "      <td>blue<\/td>\n",
              "      <td>Icthyo Sapien<\/td>\n",
              "      <td>No Hair<\/td>\n",
              "      <td>191.0<\/td>\n",
              "      <td>Dark Horse Comics<\/td>\n",
              "      <td>good<\/td>\n",
              "      <td>65.0<\/td>\n",
              "      <td>True<\/td>\n",
              "      <td>...<\/td>\n",
              "      <td>False<\/td>\n",
              "      <td>False<\/td>\n",
              "      <td>False<\/td>\n",
              "      <td>False<\/td>\n",
              "      <td>False<\/td>\n",
              "      <td>False<\/td>\n",
              "      <td>False<\/td>\n",
              "      <td>False<\/td>\n",
              "      <td>False<\/td>\n",
              "      <td>False<\/td>\n",
              "    <\/tr>\n",
              "    <tr>\n",
              "      <th>2<\/th>\n",
              "      <td>Abin Sur<\/td>\n",
              "      <td>Male<\/td>\n",
              "      <td>blue<\/td>\n",
              "      <td>Ungaran<\/td>\n",
              "      <td>No Hair<\/td>\n",
              "      <td>185.0<\/td>\n",
              "      <td>DC Comics<\/td>\n",
              "      <td>good<\/td>\n",
              "      <td>90.0<\/td>\n",
              "      <td>False<\/td>\n",
              "      <td>...<\/td>\n",
              "      <td>False<\/td>\n",
              "      <td>False<\/td>\n",
              "      <td>False<\/td>\n",
              "      <td>False<\/td>\n",
              "      <td>False<\/td>\n",
              "      <td>False<\/td>\n",
              "      <td>False<\/td>\n",
              "      <td>False<\/td>\n",
              "      <td>False<\/td>\n",
              "      <td>False<\/td>\n",
              "    <\/tr>\n",
              "    <tr>\n",
              "      <th>3<\/th>\n",
              "      <td>Abomination<\/td>\n",
              "      <td>Male<\/td>\n",
              "      <td>green<\/td>\n",
              "      <td>Human \/ Radiation<\/td>\n",
              "      <td>No Hair<\/td>\n",
              "      <td>203.0<\/td>\n",
              "      <td>Marvel Comics<\/td>\n",
              "      <td>bad<\/td>\n",
              "      <td>441.0<\/td>\n",
              "      <td>False<\/td>\n",
              "      <td>...<\/td>\n",
              "      <td>False<\/td>\n",
              "      <td>False<\/td>\n",
              "      <td>False<\/td>\n",
              "      <td>False<\/td>\n",
              "      <td>False<\/td>\n",
              "      <td>False<\/td>\n",
              "      <td>False<\/td>\n",
              "      <td>False<\/td>\n",
              "      <td>False<\/td>\n",
              "      <td>False<\/td>\n",
              "    <\/tr>\n",
              "    <tr>\n",
              "      <th>4<\/th>\n",
              "      <td>Abraxas<\/td>\n",
              "      <td>Male<\/td>\n",
              "      <td>blue<\/td>\n",
              "      <td>Cosmic Entity<\/td>\n",
              "      <td>Black<\/td>\n",
              "      <td>876.0<\/td>\n",
              "      <td>Marvel Comics<\/td>\n",
              "      <td>bad<\/td>\n",
              "      <td>16.0<\/td>\n",
              "      <td>False<\/td>\n",
              "      <td>...<\/td>\n",
              "      <td>False<\/td>\n",
              "      <td>False<\/td>\n",
              "      <td>False<\/td>\n",
              "      <td>False<\/td>\n",
              "      <td>False<\/td>\n",
              "      <td>False<\/td>\n",
              "      <td>False<\/td>\n",
              "      <td>False<\/td>\n",
              "      <td>False<\/td>\n",
              "      <td>False<\/td>\n",
              "    <\/tr>\n",
              "  <\/tbody>\n",
              "<\/table>\n",
              "<p>5 rows × 176 columns<\/p>\n",
              "<\/div>"
            ]
          },
          "metadata":{
            
          },
          "output_type":"display_data"
        }
      ],
      "metadata":{
        "jupyter":{
          "source_hidden":false,
          "outputs_hidden":false
        },
        "datalore":{
          "type":"CODE",
          "sheet_delimiter":false
        }
      }
    },
    {
      "cell_type":"code",
      "source":[
        "data.info()"
      ],
      "execution_count":20,
      "outputs":[
        {
          "name":"stdout",
          "text":[
            "<class 'pandas.core.frame.DataFrame'>\n",
            "Int64Index: 336 entries, 0 to 658\n",
            "Columns: 176 entries, name to Omniscient\n",
            "dtypes: bool(167), float64(2), object(7)\n",
            "memory usage: 81.0+ KB\n"
          ],
          "output_type":"stream"
        }
      ],
      "metadata":{
        "jupyter":{
          "source_hidden":false,
          "outputs_hidden":false
        },
        "datalore":{
          "type":"CODE",
          "sheet_delimiter":false
        }
      }
    },
    {
      "cell_type":"markdown",
      "source":[
        "#### Converting categorical variables to binary ones"
      ],
      "attachments":{
        
      },
      "metadata":{
        "jupyter":{
          "source_hidden":false,
          "outputs_hidden":false
        },
        "datalore":{
          "type":"MD",
          "sheet_delimiter":false
        }
      }
    },
    {
      "cell_type":"code",
      "source":[
        "data = pd.get_dummies(data, columns=['Gender', 'Eye color', 'Race',\n",
        "                                     'Hair color','Publisher','Alignment'],\n",
        "                      drop_first=True)\n",
        "data.replace(0, False, inplace=True)\n",
        "data.replace(1, True, inplace=True)"
      ],
      "execution_count":21,
      "outputs":[
        
      ],
      "metadata":{
        "jupyter":{
          "source_hidden":false,
          "outputs_hidden":false
        },
        "datalore":{
          "type":"CODE",
          "sheet_delimiter":false
        }
      }
    },
    {
      "cell_type":"code",
      "source":[
        "data.head()"
      ],
      "execution_count":22,
      "outputs":[
        {
          "data":{
            "text\/html":[
              "<div>\n",
              "<style scoped>\n",
              "    .dataframe tbody tr th:only-of-type {\n",
              "        vertical-align: middle;\n",
              "    }\n",
              "\n",
              "    .dataframe tbody tr th {\n",
              "        vertical-align: top;\n",
              "    }\n",
              "\n",
              "    .dataframe thead th {\n",
              "        text-align: right;\n",
              "    }\n",
              "<\/style>\n",
              "<table border=\"1\" class=\"dataframe\">\n",
              "  <thead>\n",
              "    <tr style=\"text-align: right;\">\n",
              "      <th><\/th>\n",
              "      <th>name<\/th>\n",
              "      <th>Height<\/th>\n",
              "      <th>Weight<\/th>\n",
              "      <th>Agility<\/th>\n",
              "      <th>Accelerated Healing<\/th>\n",
              "      <th>Lantern Power Ring<\/th>\n",
              "      <th>Dimensional Awareness<\/th>\n",
              "      <th>Cold Resistance<\/th>\n",
              "      <th>Durability<\/th>\n",
              "      <th>Stealth<\/th>\n",
              "      <th>...<\/th>\n",
              "      <th>Publisher_Icon Comics<\/th>\n",
              "      <th>Publisher_Image Comics<\/th>\n",
              "      <th>Publisher_J. K. Rowling<\/th>\n",
              "      <th>Publisher_Marvel Comics<\/th>\n",
              "      <th>Publisher_Microsoft<\/th>\n",
              "      <th>Publisher_Sony Pictures<\/th>\n",
              "      <th>Publisher_Star Trek<\/th>\n",
              "      <th>Publisher_Titan Books<\/th>\n",
              "      <th>Alignment_good<\/th>\n",
              "      <th>Alignment_neutral<\/th>\n",
              "    <\/tr>\n",
              "  <\/thead>\n",
              "  <tbody>\n",
              "    <tr>\n",
              "      <th>0<\/th>\n",
              "      <td>A-Bomb<\/td>\n",
              "      <td>203.0<\/td>\n",
              "      <td>441.0<\/td>\n",
              "      <td>False<\/td>\n",
              "      <td>True<\/td>\n",
              "      <td>False<\/td>\n",
              "      <td>False<\/td>\n",
              "      <td>False<\/td>\n",
              "      <td>True<\/td>\n",
              "      <td>False<\/td>\n",
              "      <td>...<\/td>\n",
              "      <td>False<\/td>\n",
              "      <td>False<\/td>\n",
              "      <td>False<\/td>\n",
              "      <td>True<\/td>\n",
              "      <td>False<\/td>\n",
              "      <td>False<\/td>\n",
              "      <td>False<\/td>\n",
              "      <td>False<\/td>\n",
              "      <td>True<\/td>\n",
              "      <td>False<\/td>\n",
              "    <\/tr>\n",
              "    <tr>\n",
              "      <th>1<\/th>\n",
              "      <td>Abe Sapien<\/td>\n",
              "      <td>191.0<\/td>\n",
              "      <td>65.0<\/td>\n",
              "      <td>True<\/td>\n",
              "      <td>True<\/td>\n",
              "      <td>False<\/td>\n",
              "      <td>False<\/td>\n",
              "      <td>True<\/td>\n",
              "      <td>True<\/td>\n",
              "      <td>False<\/td>\n",
              "      <td>...<\/td>\n",
              "      <td>False<\/td>\n",
              "      <td>False<\/td>\n",
              "      <td>False<\/td>\n",
              "      <td>False<\/td>\n",
              "      <td>False<\/td>\n",
              "      <td>False<\/td>\n",
              "      <td>False<\/td>\n",
              "      <td>False<\/td>\n",
              "      <td>True<\/td>\n",
              "      <td>False<\/td>\n",
              "    <\/tr>\n",
              "    <tr>\n",
              "      <th>2<\/th>\n",
              "      <td>Abin Sur<\/td>\n",
              "      <td>185.0<\/td>\n",
              "      <td>90.0<\/td>\n",
              "      <td>False<\/td>\n",
              "      <td>False<\/td>\n",
              "      <td>True<\/td>\n",
              "      <td>False<\/td>\n",
              "      <td>False<\/td>\n",
              "      <td>False<\/td>\n",
              "      <td>False<\/td>\n",
              "      <td>...<\/td>\n",
              "      <td>False<\/td>\n",
              "      <td>False<\/td>\n",
              "      <td>False<\/td>\n",
              "      <td>False<\/td>\n",
              "      <td>False<\/td>\n",
              "      <td>False<\/td>\n",
              "      <td>False<\/td>\n",
              "      <td>False<\/td>\n",
              "      <td>True<\/td>\n",
              "      <td>False<\/td>\n",
              "    <\/tr>\n",
              "    <tr>\n",
              "      <th>3<\/th>\n",
              "      <td>Abomination<\/td>\n",
              "      <td>203.0<\/td>\n",
              "      <td>441.0<\/td>\n",
              "      <td>False<\/td>\n",
              "      <td>True<\/td>\n",
              "      <td>False<\/td>\n",
              "      <td>False<\/td>\n",
              "      <td>False<\/td>\n",
              "      <td>False<\/td>\n",
              "      <td>False<\/td>\n",
              "      <td>...<\/td>\n",
              "      <td>False<\/td>\n",
              "      <td>False<\/td>\n",
              "      <td>False<\/td>\n",
              "      <td>True<\/td>\n",
              "      <td>False<\/td>\n",
              "      <td>False<\/td>\n",
              "      <td>False<\/td>\n",
              "      <td>False<\/td>\n",
              "      <td>False<\/td>\n",
              "      <td>False<\/td>\n",
              "    <\/tr>\n",
              "    <tr>\n",
              "      <th>4<\/th>\n",
              "      <td>Abraxas<\/td>\n",
              "      <td>876.0<\/td>\n",
              "      <td>16.0<\/td>\n",
              "      <td>False<\/td>\n",
              "      <td>False<\/td>\n",
              "      <td>False<\/td>\n",
              "      <td>True<\/td>\n",
              "      <td>False<\/td>\n",
              "      <td>False<\/td>\n",
              "      <td>False<\/td>\n",
              "      <td>...<\/td>\n",
              "      <td>False<\/td>\n",
              "      <td>False<\/td>\n",
              "      <td>False<\/td>\n",
              "      <td>True<\/td>\n",
              "      <td>False<\/td>\n",
              "      <td>False<\/td>\n",
              "      <td>False<\/td>\n",
              "      <td>False<\/td>\n",
              "      <td>False<\/td>\n",
              "      <td>False<\/td>\n",
              "    <\/tr>\n",
              "  <\/tbody>\n",
              "<\/table>\n",
              "<p>5 rows × 268 columns<\/p>\n",
              "<\/div>"
            ]
          },
          "metadata":{
            
          },
          "output_type":"display_data"
        }
      ],
      "metadata":{
        "jupyter":{
          "source_hidden":false,
          "outputs_hidden":false
        },
        "datalore":{
          "type":"CODE",
          "sheet_delimiter":false
        }
      }
    },
    {
      "cell_type":"markdown",
      "source":[
        "### Pearson Correlation"
      ],
      "attachments":{
        
      },
      "metadata":{
        "jupyter":{
          "source_hidden":false,
          "outputs_hidden":false
        },
        "datalore":{
          "type":"MD",
          "sheet_delimiter":false
        }
      }
    },
    {
      "cell_type":"code",
      "source":[
        "corr_matrix = data.corr().abs()\n",
        "mask = np.triu(np.ones_like(corr_matrix, dtype=bool))\n",
        "tri_df = corr_matrix.mask(mask)"
      ],
      "execution_count":23,
      "outputs":[
        
      ],
      "metadata":{
        "jupyter":{
          "source_hidden":false,
          "outputs_hidden":false
        },
        "datalore":{
          "type":"CODE",
          "sheet_delimiter":false
        }
      }
    },
    {
      "cell_type":"code",
      "source":[
        "corr_matrix"
      ],
      "execution_count":24,
      "outputs":[
        {
          "data":{
            "text\/html":[
              "<div>\n",
              "<style scoped>\n",
              "    .dataframe tbody tr th:only-of-type {\n",
              "        vertical-align: middle;\n",
              "    }\n",
              "\n",
              "    .dataframe tbody tr th {\n",
              "        vertical-align: top;\n",
              "    }\n",
              "\n",
              "    .dataframe thead th {\n",
              "        text-align: right;\n",
              "    }\n",
              "<\/style>\n",
              "<table border=\"1\" class=\"dataframe\">\n",
              "  <thead>\n",
              "    <tr style=\"text-align: right;\">\n",
              "      <th><\/th>\n",
              "      <th>Height<\/th>\n",
              "      <th>Weight<\/th>\n",
              "      <th>Agility<\/th>\n",
              "      <th>Accelerated Healing<\/th>\n",
              "      <th>Lantern Power Ring<\/th>\n",
              "      <th>Dimensional Awareness<\/th>\n",
              "      <th>Cold Resistance<\/th>\n",
              "      <th>Durability<\/th>\n",
              "      <th>Stealth<\/th>\n",
              "      <th>Energy Absorption<\/th>\n",
              "      <th>...<\/th>\n",
              "      <th>Publisher_Icon Comics<\/th>\n",
              "      <th>Publisher_Image Comics<\/th>\n",
              "      <th>Publisher_J. K. Rowling<\/th>\n",
              "      <th>Publisher_Marvel Comics<\/th>\n",
              "      <th>Publisher_Microsoft<\/th>\n",
              "      <th>Publisher_Sony Pictures<\/th>\n",
              "      <th>Publisher_Star Trek<\/th>\n",
              "      <th>Publisher_Titan Books<\/th>\n",
              "      <th>Alignment_good<\/th>\n",
              "      <th>Alignment_neutral<\/th>\n",
              "    <\/tr>\n",
              "  <\/thead>\n",
              "  <tbody>\n",
              "    <tr>\n",
              "      <th>Height<\/th>\n",
              "      <td>1.000000<\/td>\n",
              "      <td>0.131475<\/td>\n",
              "      <td>0.086710<\/td>\n",
              "      <td>0.082717<\/td>\n",
              "      <td>0.002086<\/td>\n",
              "      <td>0.254002<\/td>\n",
              "      <td>0.004356<\/td>\n",
              "      <td>0.095577<\/td>\n",
              "      <td>0.119161<\/td>\n",
              "      <td>0.049368<\/td>\n",
              "      <td>...<\/td>\n",
              "      <td>0.005462<\/td>\n",
              "      <td>0.015579<\/td>\n",
              "      <td>0.005462<\/td>\n",
              "      <td>0.112489<\/td>\n",
              "      <td>0.017049<\/td>\n",
              "      <td>0.001323<\/td>\n",
              "      <td>0.001181<\/td>\n",
              "      <td>0.004997<\/td>\n",
              "      <td>0.117601<\/td>\n",
              "      <td>0.131828<\/td>\n",
              "    <\/tr>\n",
              "    <tr>\n",
              "      <th>Weight<\/th>\n",
              "      <td>0.131475<\/td>\n",
              "      <td>1.000000<\/td>\n",
              "      <td>0.001647<\/td>\n",
              "      <td>0.211724<\/td>\n",
              "      <td>0.001082<\/td>\n",
              "      <td>0.093460<\/td>\n",
              "      <td>0.146780<\/td>\n",
              "      <td>0.250428<\/td>\n",
              "      <td>0.169255<\/td>\n",
              "      <td>0.029886<\/td>\n",
              "      <td>...<\/td>\n",
              "      <td>0.006398<\/td>\n",
              "      <td>0.151978<\/td>\n",
              "      <td>0.006398<\/td>\n",
              "      <td>0.070612<\/td>\n",
              "      <td>0.053141<\/td>\n",
              "      <td>0.006398<\/td>\n",
              "      <td>0.007493<\/td>\n",
              "      <td>0.006398<\/td>\n",
              "      <td>0.258533<\/td>\n",
              "      <td>0.161289<\/td>\n",
              "    <\/tr>\n",
              "    <tr>\n",
              "      <th>Agility<\/th>\n",
              "      <td>0.086710<\/td>\n",
              "      <td>0.001647<\/td>\n",
              "      <td>1.000000<\/td>\n",
              "      <td>0.208345<\/td>\n",
              "      <td>0.024374<\/td>\n",
              "      <td>0.022146<\/td>\n",
              "      <td>0.083907<\/td>\n",
              "      <td>0.036598<\/td>\n",
              "      <td>0.291565<\/td>\n",
              "      <td>0.012180<\/td>\n",
              "      <td>...<\/td>\n",
              "      <td>0.052718<\/td>\n",
              "      <td>0.052718<\/td>\n",
              "      <td>0.052718<\/td>\n",
              "      <td>0.046525<\/td>\n",
              "      <td>0.052718<\/td>\n",
              "      <td>0.052718<\/td>\n",
              "      <td>0.035051<\/td>\n",
              "      <td>0.056623<\/td>\n",
              "      <td>0.075610<\/td>\n",
              "      <td>0.016183<\/td>\n",
              "    <\/tr>\n",
              "    <tr>\n",
              "      <th>Accelerated Healing<\/th>\n",
              "      <td>0.082717<\/td>\n",
              "      <td>0.211724<\/td>\n",
              "      <td>0.208345<\/td>\n",
              "      <td>1.000000<\/td>\n",
              "      <td>0.048599<\/td>\n",
              "      <td>0.046557<\/td>\n",
              "      <td>0.118629<\/td>\n",
              "      <td>0.265608<\/td>\n",
              "      <td>0.035175<\/td>\n",
              "      <td>0.157381<\/td>\n",
              "      <td>...<\/td>\n",
              "      <td>0.041253<\/td>\n",
              "      <td>0.041253<\/td>\n",
              "      <td>0.072361<\/td>\n",
              "      <td>0.079532<\/td>\n",
              "      <td>0.072361<\/td>\n",
              "      <td>0.072361<\/td>\n",
              "      <td>0.071666<\/td>\n",
              "      <td>0.041253<\/td>\n",
              "      <td>0.036916<\/td>\n",
              "      <td>0.071621<\/td>\n",
              "    <\/tr>\n",
              "    <tr>\n",
              "      <th>Lantern Power Ring<\/th>\n",
              "      <td>0.002086<\/td>\n",
              "      <td>0.001082<\/td>\n",
              "      <td>0.024374<\/td>\n",
              "      <td>0.048599<\/td>\n",
              "      <td>1.000000<\/td>\n",
              "      <td>0.035862<\/td>\n",
              "      <td>0.057470<\/td>\n",
              "      <td>0.051365<\/td>\n",
              "      <td>0.106456<\/td>\n",
              "      <td>0.065239<\/td>\n",
              "      <td>...<\/td>\n",
              "      <td>0.009064<\/td>\n",
              "      <td>0.009064<\/td>\n",
              "      <td>0.009064<\/td>\n",
              "      <td>0.188113<\/td>\n",
              "      <td>0.009064<\/td>\n",
              "      <td>0.009064<\/td>\n",
              "      <td>0.015747<\/td>\n",
              "      <td>0.009064<\/td>\n",
              "      <td>0.114180<\/td>\n",
              "      <td>0.041737<\/td>\n",
              "    <\/tr>\n",
              "    <tr>\n",
              "      <th>...<\/th>\n",
              "      <td>...<\/td>\n",
              "      <td>...<\/td>\n",
              "      <td>...<\/td>\n",
              "      <td>...<\/td>\n",
              "      <td>...<\/td>\n",
              "      <td>...<\/td>\n",
              "      <td>...<\/td>\n",
              "      <td>...<\/td>\n",
              "      <td>...<\/td>\n",
              "      <td>...<\/td>\n",
              "      <td>...<\/td>\n",
              "      <td>...<\/td>\n",
              "      <td>...<\/td>\n",
              "      <td>...<\/td>\n",
              "      <td>...<\/td>\n",
              "      <td>...<\/td>\n",
              "      <td>...<\/td>\n",
              "      <td>...<\/td>\n",
              "      <td>...<\/td>\n",
              "      <td>...<\/td>\n",
              "      <td>...<\/td>\n",
              "    <\/tr>\n",
              "    <tr>\n",
              "      <th>Publisher_Sony Pictures<\/th>\n",
              "      <td>0.001323<\/td>\n",
              "      <td>0.006398<\/td>\n",
              "      <td>0.052718<\/td>\n",
              "      <td>0.072361<\/td>\n",
              "      <td>0.009064<\/td>\n",
              "      <td>0.011811<\/td>\n",
              "      <td>0.018926<\/td>\n",
              "      <td>0.055953<\/td>\n",
              "      <td>0.035059<\/td>\n",
              "      <td>0.021485<\/td>\n",
              "      <td>...<\/td>\n",
              "      <td>0.002985<\/td>\n",
              "      <td>0.002985<\/td>\n",
              "      <td>0.002985<\/td>\n",
              "      <td>0.061951<\/td>\n",
              "      <td>0.002985<\/td>\n",
              "      <td>1.000000<\/td>\n",
              "      <td>0.005186<\/td>\n",
              "      <td>0.002985<\/td>\n",
              "      <td>0.037603<\/td>\n",
              "      <td>0.013745<\/td>\n",
              "    <\/tr>\n",
              "    <tr>\n",
              "      <th>Publisher_Star Trek<\/th>\n",
              "      <td>0.001181<\/td>\n",
              "      <td>0.007493<\/td>\n",
              "      <td>0.035051<\/td>\n",
              "      <td>0.071666<\/td>\n",
              "      <td>0.015747<\/td>\n",
              "      <td>0.020518<\/td>\n",
              "      <td>0.069413<\/td>\n",
              "      <td>0.029387<\/td>\n",
              "      <td>0.078308<\/td>\n",
              "      <td>0.037325<\/td>\n",
              "      <td>...<\/td>\n",
              "      <td>0.005186<\/td>\n",
              "      <td>0.005186<\/td>\n",
              "      <td>0.005186<\/td>\n",
              "      <td>0.107624<\/td>\n",
              "      <td>0.005186<\/td>\n",
              "      <td>0.005186<\/td>\n",
              "      <td>1.000000<\/td>\n",
              "      <td>0.005186<\/td>\n",
              "      <td>0.065326<\/td>\n",
              "      <td>0.023879<\/td>\n",
              "    <\/tr>\n",
              "    <tr>\n",
              "      <th>Publisher_Titan Books<\/th>\n",
              "      <td>0.004997<\/td>\n",
              "      <td>0.006398<\/td>\n",
              "      <td>0.056623<\/td>\n",
              "      <td>0.041253<\/td>\n",
              "      <td>0.009064<\/td>\n",
              "      <td>0.011811<\/td>\n",
              "      <td>0.018926<\/td>\n",
              "      <td>0.055953<\/td>\n",
              "      <td>0.085144<\/td>\n",
              "      <td>0.021485<\/td>\n",
              "      <td>...<\/td>\n",
              "      <td>0.002985<\/td>\n",
              "      <td>0.002985<\/td>\n",
              "      <td>0.002985<\/td>\n",
              "      <td>0.061951<\/td>\n",
              "      <td>0.002985<\/td>\n",
              "      <td>0.002985<\/td>\n",
              "      <td>0.005186<\/td>\n",
              "      <td>1.000000<\/td>\n",
              "      <td>0.037603<\/td>\n",
              "      <td>0.013745<\/td>\n",
              "    <\/tr>\n",
              "    <tr>\n",
              "      <th>Alignment_good<\/th>\n",
              "      <td>0.117601<\/td>\n",
              "      <td>0.258533<\/td>\n",
              "      <td>0.075610<\/td>\n",
              "      <td>0.036916<\/td>\n",
              "      <td>0.114180<\/td>\n",
              "      <td>0.098083<\/td>\n",
              "      <td>0.011774<\/td>\n",
              "      <td>0.067387<\/td>\n",
              "      <td>0.105153<\/td>\n",
              "      <td>0.046110<\/td>\n",
              "      <td>...<\/td>\n",
              "      <td>0.037603<\/td>\n",
              "      <td>0.037603<\/td>\n",
              "      <td>0.037603<\/td>\n",
              "      <td>0.003212<\/td>\n",
              "      <td>0.037603<\/td>\n",
              "      <td>0.037603<\/td>\n",
              "      <td>0.065326<\/td>\n",
              "      <td>0.037603<\/td>\n",
              "      <td>1.000000<\/td>\n",
              "      <td>0.365533<\/td>\n",
              "    <\/tr>\n",
              "    <tr>\n",
              "      <th>Alignment_neutral<\/th>\n",
              "      <td>0.131828<\/td>\n",
              "      <td>0.161289<\/td>\n",
              "      <td>0.016183<\/td>\n",
              "      <td>0.071621<\/td>\n",
              "      <td>0.041737<\/td>\n",
              "      <td>0.067435<\/td>\n",
              "      <td>0.087149<\/td>\n",
              "      <td>0.019173<\/td>\n",
              "      <td>0.050737<\/td>\n",
              "      <td>0.011872<\/td>\n",
              "      <td>...<\/td>\n",
              "      <td>0.013745<\/td>\n",
              "      <td>0.013745<\/td>\n",
              "      <td>0.013745<\/td>\n",
              "      <td>0.057052<\/td>\n",
              "      <td>0.013745<\/td>\n",
              "      <td>0.013745<\/td>\n",
              "      <td>0.023879<\/td>\n",
              "      <td>0.013745<\/td>\n",
              "      <td>0.365533<\/td>\n",
              "      <td>1.000000<\/td>\n",
              "    <\/tr>\n",
              "  <\/tbody>\n",
              "<\/table>\n",
              "<p>267 rows × 267 columns<\/p>\n",
              "<\/div>"
            ]
          },
          "metadata":{
            
          },
          "output_type":"display_data"
        }
      ],
      "metadata":{
        "jupyter":{
          "source_hidden":false,
          "outputs_hidden":false
        },
        "datalore":{
          "type":"CODE",
          "sheet_delimiter":false
        }
      }
    },
    {
      "cell_type":"code",
      "source":[
        "# corr_matrix = corr_matrix.stack()\n",
        "power_cols = data.columns[3:168].tolist()"
      ],
      "execution_count":25,
      "outputs":[
        
      ],
      "metadata":{
        "jupyter":{
          "source_hidden":false,
          "outputs_hidden":false
        },
        "datalore":{
          "type":"CODE",
          "sheet_delimiter":false
        }
      }
    },
    {
      "cell_type":"code",
      "source":[
        "for idx, x in corr_matrix[tri_df > 0.5].stack().sort_values(ascending=False).iteritems():\n",
        "    if ((idx[1] in power_cols) & (idx[0] not in power_cols)):\n",
        "     print(idx,x)"
      ],
      "execution_count":26,
      "outputs":[
        {
          "name":"stdout",
          "text":[
            "('Race_Bizarro', 'Vision - Cryo') 1.0\n",
            "('Race_Symbiote', 'Symbiote Costume') 0.863397096042456\n",
            "('Publisher_George Lucas', 'The Force') 0.8140335388727173\n",
            "('Race_Korugaran', 'Qwardian Power Ring') 0.7060506091538814\n",
            "('Eye color_green \/ blue', 'Adaptation') 0.7060506091538812\n",
            "('Race_Human \/ Cosmic', 'Nova Force') 0.7060506091538812\n",
            "('Race_Cosmic Entity', 'Power Cosmic') 0.7049865162000991\n",
            "('Race_Kryptonian', 'Vision - Heat') 0.6721222000114656\n",
            "('Race_Kryptonian', 'Vision - Microscopic') 0.6466697906828633\n",
            "('Race_Kryptonian', 'Vision - X-Ray') 0.5841031335203016\n",
            "('Race_Talokite', 'Darkforce Manipulation') 0.5756242555539938\n",
            "('Eye color_green \/ blue', 'Power Nullifier') 0.5756242555539937\n",
            "('Race_Atlantean', 'Underwater breathing') 0.568562080936773\n",
            "('Race_Kryptonian', 'Super Breath') 0.5667557862184743\n",
            "('Race_Atlantean', 'Water Control') 0.5570914296006689\n",
            "('Race_Symbiote', 'Web Creation') 0.5555932736936882\n",
            "('Race_Symbiote', 'Camouflage') 0.5555932736936882\n"
          ],
          "output_type":"stream"
        }
      ],
      "metadata":{
        "jupyter":{
          "source_hidden":false,
          "outputs_hidden":false
        },
        "datalore":{
          "type":"CODE",
          "sheet_delimiter":false
        }
      }
    },
    {
      "cell_type":"markdown",
      "source":[
        "As you can see above,the correlation between the information about the superhero and their superpower exist - especially it's seeable when it comes to the race of the hero."
      ],
      "attachments":{
        
      },
      "metadata":{
        "jupyter":{
          "source_hidden":false,
          "outputs_hidden":false
        },
        "datalore":{
          "type":"MD",
          "sheet_delimiter":false
        }
      }
    },
    {
      "cell_type":"markdown",
      "source":[
        "# 2. Can we cluster the superheroes based on their superpowers only?"
      ],
      "attachments":{
        
      },
      "metadata":{
        "jupyter":{
          "source_hidden":false,
          "outputs_hidden":false
        },
        "datalore":{
          "type":"MD",
          "sheet_delimiter":false
        }
      }
    },
    {
      "cell_type":"code",
      "source":[
        "data = pd.read_csv('super_hero_powers.csv')"
      ],
      "execution_count":27,
      "outputs":[
        
      ],
      "metadata":{
        "jupyter":{
          "source_hidden":false,
          "outputs_hidden":false
        },
        "datalore":{
          "type":"CODE",
          "sheet_delimiter":false
        }
      }
    },
    {
      "cell_type":"code",
      "source":[
        "data.head()"
      ],
      "execution_count":28,
      "outputs":[
        {
          "data":{
            "text\/html":[
              "<div>\n",
              "<style scoped>\n",
              "    .dataframe tbody tr th:only-of-type {\n",
              "        vertical-align: middle;\n",
              "    }\n",
              "\n",
              "    .dataframe tbody tr th {\n",
              "        vertical-align: top;\n",
              "    }\n",
              "\n",
              "    .dataframe thead th {\n",
              "        text-align: right;\n",
              "    }\n",
              "<\/style>\n",
              "<table border=\"1\" class=\"dataframe\">\n",
              "  <thead>\n",
              "    <tr style=\"text-align: right;\">\n",
              "      <th><\/th>\n",
              "      <th>hero_names<\/th>\n",
              "      <th>Agility<\/th>\n",
              "      <th>Accelerated Healing<\/th>\n",
              "      <th>Lantern Power Ring<\/th>\n",
              "      <th>Dimensional Awareness<\/th>\n",
              "      <th>Cold Resistance<\/th>\n",
              "      <th>Durability<\/th>\n",
              "      <th>Stealth<\/th>\n",
              "      <th>Energy Absorption<\/th>\n",
              "      <th>Flight<\/th>\n",
              "      <th>...<\/th>\n",
              "      <th>Web Creation<\/th>\n",
              "      <th>Reality Warping<\/th>\n",
              "      <th>Odin Force<\/th>\n",
              "      <th>Symbiote Costume<\/th>\n",
              "      <th>Speed Force<\/th>\n",
              "      <th>Phoenix Force<\/th>\n",
              "      <th>Molecular Dissipation<\/th>\n",
              "      <th>Vision - Cryo<\/th>\n",
              "      <th>Omnipresent<\/th>\n",
              "      <th>Omniscient<\/th>\n",
              "    <\/tr>\n",
              "  <\/thead>\n",
              "  <tbody>\n",
              "    <tr>\n",
              "      <th>0<\/th>\n",
              "      <td>3-D Man<\/td>\n",
              "      <td>True<\/td>\n",
              "      <td>False<\/td>\n",
              "      <td>False<\/td>\n",
              "      <td>False<\/td>\n",
              "      <td>False<\/td>\n",
              "      <td>False<\/td>\n",
              "      <td>False<\/td>\n",
              "      <td>False<\/td>\n",
              "      <td>False<\/td>\n",
              "      <td>...<\/td>\n",
              "      <td>False<\/td>\n",
              "      <td>False<\/td>\n",
              "      <td>False<\/td>\n",
              "      <td>False<\/td>\n",
              "      <td>False<\/td>\n",
              "      <td>False<\/td>\n",
              "      <td>False<\/td>\n",
              "      <td>False<\/td>\n",
              "      <td>False<\/td>\n",
              "      <td>False<\/td>\n",
              "    <\/tr>\n",
              "    <tr>\n",
              "      <th>1<\/th>\n",
              "      <td>A-Bomb<\/td>\n",
              "      <td>False<\/td>\n",
              "      <td>True<\/td>\n",
              "      <td>False<\/td>\n",
              "      <td>False<\/td>\n",
              "      <td>False<\/td>\n",
              "      <td>True<\/td>\n",
              "      <td>False<\/td>\n",
              "      <td>False<\/td>\n",
              "      <td>False<\/td>\n",
              "      <td>...<\/td>\n",
              "      <td>False<\/td>\n",
              "      <td>False<\/td>\n",
              "      <td>False<\/td>\n",
              "      <td>False<\/td>\n",
              "      <td>False<\/td>\n",
              "      <td>False<\/td>\n",
              "      <td>False<\/td>\n",
              "      <td>False<\/td>\n",
              "      <td>False<\/td>\n",
              "      <td>False<\/td>\n",
              "    <\/tr>\n",
              "    <tr>\n",
              "      <th>2<\/th>\n",
              "      <td>Abe Sapien<\/td>\n",
              "      <td>True<\/td>\n",
              "      <td>True<\/td>\n",
              "      <td>False<\/td>\n",
              "      <td>False<\/td>\n",
              "      <td>True<\/td>\n",
              "      <td>True<\/td>\n",
              "      <td>False<\/td>\n",
              "      <td>False<\/td>\n",
              "      <td>False<\/td>\n",
              "      <td>...<\/td>\n",
              "      <td>False<\/td>\n",
              "      <td>False<\/td>\n",
              "      <td>False<\/td>\n",
              "      <td>False<\/td>\n",
              "      <td>False<\/td>\n",
              "      <td>False<\/td>\n",
              "      <td>False<\/td>\n",
              "      <td>False<\/td>\n",
              "      <td>False<\/td>\n",
              "      <td>False<\/td>\n",
              "    <\/tr>\n",
              "    <tr>\n",
              "      <th>3<\/th>\n",
              "      <td>Abin Sur<\/td>\n",
              "      <td>False<\/td>\n",
              "      <td>False<\/td>\n",
              "      <td>True<\/td>\n",
              "      <td>False<\/td>\n",
              "      <td>False<\/td>\n",
              "      <td>False<\/td>\n",
              "      <td>False<\/td>\n",
              "      <td>False<\/td>\n",
              "      <td>False<\/td>\n",
              "      <td>...<\/td>\n",
              "      <td>False<\/td>\n",
              "      <td>False<\/td>\n",
              "      <td>False<\/td>\n",
              "      <td>False<\/td>\n",
              "      <td>False<\/td>\n",
              "      <td>False<\/td>\n",
              "      <td>False<\/td>\n",
              "      <td>False<\/td>\n",
              "      <td>False<\/td>\n",
              "      <td>False<\/td>\n",
              "    <\/tr>\n",
              "    <tr>\n",
              "      <th>4<\/th>\n",
              "      <td>Abomination<\/td>\n",
              "      <td>False<\/td>\n",
              "      <td>True<\/td>\n",
              "      <td>False<\/td>\n",
              "      <td>False<\/td>\n",
              "      <td>False<\/td>\n",
              "      <td>False<\/td>\n",
              "      <td>False<\/td>\n",
              "      <td>False<\/td>\n",
              "      <td>False<\/td>\n",
              "      <td>...<\/td>\n",
              "      <td>False<\/td>\n",
              "      <td>False<\/td>\n",
              "      <td>False<\/td>\n",
              "      <td>False<\/td>\n",
              "      <td>False<\/td>\n",
              "      <td>False<\/td>\n",
              "      <td>False<\/td>\n",
              "      <td>False<\/td>\n",
              "      <td>False<\/td>\n",
              "      <td>False<\/td>\n",
              "    <\/tr>\n",
              "  <\/tbody>\n",
              "<\/table>\n",
              "<p>5 rows × 168 columns<\/p>\n",
              "<\/div>"
            ]
          },
          "metadata":{
            
          },
          "output_type":"display_data"
        }
      ],
      "metadata":{
        "jupyter":{
          "source_hidden":false,
          "outputs_hidden":false
        },
        "datalore":{
          "type":"CODE",
          "sheet_delimiter":false
        }
      }
    },
    {
      "cell_type":"markdown",
      "source":[
        "### Association rules induction"
      ],
      "attachments":{
        
      },
      "metadata":{
        "jupyter":{
          "source_hidden":false,
          "outputs_hidden":false
        },
        "datalore":{
          "type":"MD",
          "sheet_delimiter":false
        }
      }
    },
    {
      "cell_type":"code",
      "source":[
        "frequent_itemsets = apriori(data.drop('hero_names',axis=1), min_support=0.05, use_colnames=True)"
      ],
      "execution_count":29,
      "outputs":[
        
      ],
      "metadata":{
        "jupyter":{
          "source_hidden":false,
          "outputs_hidden":false
        },
        "datalore":{
          "type":"CODE",
          "sheet_delimiter":false
        }
      }
    },
    {
      "cell_type":"code",
      "source":[
        "rules = association_rules(frequent_itemsets, metric=\"lift\", min_threshold=1)"
      ],
      "execution_count":30,
      "outputs":[
        
      ],
      "metadata":{
        "jupyter":{
          "source_hidden":false,
          "outputs_hidden":false
        },
        "datalore":{
          "type":"CODE",
          "sheet_delimiter":false
        }
      }
    },
    {
      "cell_type":"markdown",
      "source":[
        "#### Sorting by  *confidence*"
      ],
      "attachments":{
        
      },
      "metadata":{
        "jupyter":{
          "source_hidden":false,
          "outputs_hidden":false
        },
        "datalore":{
          "type":"MD",
          "sheet_delimiter":false
        }
      }
    },
    {
      "cell_type":"code",
      "source":[
        "# type(rules)\n",
        "rules.sort_values(by='confidence', ascending=False).head()"
      ],
      "execution_count":31,
      "outputs":[
        {
          "data":{
            "text\/html":[
              "<div>\n",
              "<style scoped>\n",
              "    .dataframe tbody tr th:only-of-type {\n",
              "        vertical-align: middle;\n",
              "    }\n",
              "\n",
              "    .dataframe tbody tr th {\n",
              "        vertical-align: top;\n",
              "    }\n",
              "\n",
              "    .dataframe thead th {\n",
              "        text-align: right;\n",
              "    }\n",
              "<\/style>\n",
              "<table border=\"1\" class=\"dataframe\">\n",
              "  <thead>\n",
              "    <tr style=\"text-align: right;\">\n",
              "      <th><\/th>\n",
              "      <th>antecedents<\/th>\n",
              "      <th>consequents<\/th>\n",
              "      <th>antecedent support<\/th>\n",
              "      <th>consequent support<\/th>\n",
              "      <th>support<\/th>\n",
              "      <th>confidence<\/th>\n",
              "      <th>lift<\/th>\n",
              "      <th>leverage<\/th>\n",
              "      <th>conviction<\/th>\n",
              "    <\/tr>\n",
              "  <\/thead>\n",
              "  <tbody>\n",
              "    <tr>\n",
              "      <th>3275<\/th>\n",
              "      <td>(Invulnerability, Durability, Longevity)<\/td>\n",
              "      <td>(Super Strength)<\/td>\n",
              "      <td>0.055472<\/td>\n",
              "      <td>0.53973<\/td>\n",
              "      <td>0.055472<\/td>\n",
              "      <td>1.0<\/td>\n",
              "      <td>1.852778<\/td>\n",
              "      <td>0.025532<\/td>\n",
              "      <td>inf<\/td>\n",
              "    <\/tr>\n",
              "    <tr>\n",
              "      <th>5179<\/th>\n",
              "      <td>(Accelerated Healing, Agility, Durability, Ref...<\/td>\n",
              "      <td>(Super Strength)<\/td>\n",
              "      <td>0.064468<\/td>\n",
              "      <td>0.53973<\/td>\n",
              "      <td>0.064468<\/td>\n",
              "      <td>1.0<\/td>\n",
              "      <td>1.852778<\/td>\n",
              "      <td>0.029673<\/td>\n",
              "      <td>inf<\/td>\n",
              "    <\/tr>\n",
              "    <tr>\n",
              "      <th>3892<\/th>\n",
              "      <td>(Invulnerability, Energy Blasts, Super Speed)<\/td>\n",
              "      <td>(Super Strength)<\/td>\n",
              "      <td>0.050975<\/td>\n",
              "      <td>0.53973<\/td>\n",
              "      <td>0.050975<\/td>\n",
              "      <td>1.0<\/td>\n",
              "      <td>1.852778<\/td>\n",
              "      <td>0.023462<\/td>\n",
              "      <td>inf<\/td>\n",
              "    <\/tr>\n",
              "    <tr>\n",
              "      <th>4546<\/th>\n",
              "      <td>(Agility, Invulnerability, Super Speed, Stamina)<\/td>\n",
              "      <td>(Super Strength)<\/td>\n",
              "      <td>0.053973<\/td>\n",
              "      <td>0.53973<\/td>\n",
              "      <td>0.053973<\/td>\n",
              "      <td>1.0<\/td>\n",
              "      <td>1.852778<\/td>\n",
              "      <td>0.024842<\/td>\n",
              "      <td>inf<\/td>\n",
              "    <\/tr>\n",
              "    <tr>\n",
              "      <th>3836<\/th>\n",
              "      <td>(Invulnerability, Longevity, Super Speed)<\/td>\n",
              "      <td>(Super Strength)<\/td>\n",
              "      <td>0.052474<\/td>\n",
              "      <td>0.53973<\/td>\n",
              "      <td>0.052474<\/td>\n",
              "      <td>1.0<\/td>\n",
              "      <td>1.852778<\/td>\n",
              "      <td>0.024152<\/td>\n",
              "      <td>inf<\/td>\n",
              "    <\/tr>\n",
              "  <\/tbody>\n",
              "<\/table>\n",
              "<\/div>"
            ]
          },
          "metadata":{
            
          },
          "output_type":"display_data"
        }
      ],
      "metadata":{
        "jupyter":{
          "source_hidden":false,
          "outputs_hidden":false
        },
        "datalore":{
          "type":"CODE",
          "sheet_delimiter":false
        }
      }
    },
    {
      "cell_type":"markdown",
      "source":[
        "#### Sorting by *lift*"
      ],
      "attachments":{
        
      },
      "metadata":{
        "jupyter":{
          "source_hidden":false,
          "outputs_hidden":false
        },
        "datalore":{
          "type":"MD",
          "sheet_delimiter":false
        }
      }
    },
    {
      "cell_type":"code",
      "source":[
        "rules.sort_values(by='lift', ascending=False).head()"
      ],
      "execution_count":32,
      "outputs":[
        {
          "data":{
            "text\/html":[
              "<div>\n",
              "<style scoped>\n",
              "    .dataframe tbody tr th:only-of-type {\n",
              "        vertical-align: middle;\n",
              "    }\n",
              "\n",
              "    .dataframe tbody tr th {\n",
              "        vertical-align: top;\n",
              "    }\n",
              "\n",
              "    .dataframe thead th {\n",
              "        text-align: right;\n",
              "    }\n",
              "<\/style>\n",
              "<table border=\"1\" class=\"dataframe\">\n",
              "  <thead>\n",
              "    <tr style=\"text-align: right;\">\n",
              "      <th><\/th>\n",
              "      <th>antecedents<\/th>\n",
              "      <th>consequents<\/th>\n",
              "      <th>antecedent support<\/th>\n",
              "      <th>consequent support<\/th>\n",
              "      <th>support<\/th>\n",
              "      <th>confidence<\/th>\n",
              "      <th>lift<\/th>\n",
              "      <th>leverage<\/th>\n",
              "      <th>conviction<\/th>\n",
              "    <\/tr>\n",
              "  <\/thead>\n",
              "  <tbody>\n",
              "    <tr>\n",
              "      <th>4416<\/th>\n",
              "      <td>(Stealth, Marksmanship)<\/td>\n",
              "      <td>(Weapons Master, Agility, Stamina)<\/td>\n",
              "      <td>0.100450<\/td>\n",
              "      <td>0.085457<\/td>\n",
              "      <td>0.064468<\/td>\n",
              "      <td>0.641791<\/td>\n",
              "      <td>7.510081<\/td>\n",
              "      <td>0.055884<\/td>\n",
              "      <td>2.553098<\/td>\n",
              "    <\/tr>\n",
              "    <tr>\n",
              "      <th>4401<\/th>\n",
              "      <td>(Weapons Master, Agility, Stamina)<\/td>\n",
              "      <td>(Stealth, Marksmanship)<\/td>\n",
              "      <td>0.085457<\/td>\n",
              "      <td>0.100450<\/td>\n",
              "      <td>0.064468<\/td>\n",
              "      <td>0.754386<\/td>\n",
              "      <td>7.510081<\/td>\n",
              "      <td>0.055884<\/td>\n",
              "      <td>3.662454<\/td>\n",
              "    <\/tr>\n",
              "    <tr>\n",
              "      <th>4412<\/th>\n",
              "      <td>(Weapons Master, Stamina)<\/td>\n",
              "      <td>(Stealth, Agility, Marksmanship)<\/td>\n",
              "      <td>0.110945<\/td>\n",
              "      <td>0.083958<\/td>\n",
              "      <td>0.064468<\/td>\n",
              "      <td>0.581081<\/td>\n",
              "      <td>6.921091<\/td>\n",
              "      <td>0.055153<\/td>\n",
              "      <td>2.186681<\/td>\n",
              "    <\/tr>\n",
              "    <tr>\n",
              "      <th>4405<\/th>\n",
              "      <td>(Stealth, Agility, Marksmanship)<\/td>\n",
              "      <td>(Weapons Master, Stamina)<\/td>\n",
              "      <td>0.083958<\/td>\n",
              "      <td>0.110945<\/td>\n",
              "      <td>0.064468<\/td>\n",
              "      <td>0.767857<\/td>\n",
              "      <td>6.921091<\/td>\n",
              "      <td>0.055153<\/td>\n",
              "      <td>3.829777<\/td>\n",
              "    <\/tr>\n",
              "    <tr>\n",
              "      <th>3574<\/th>\n",
              "      <td>(Weapons Master, Stamina)<\/td>\n",
              "      <td>(Stealth, Marksmanship)<\/td>\n",
              "      <td>0.110945<\/td>\n",
              "      <td>0.100450<\/td>\n",
              "      <td>0.076462<\/td>\n",
              "      <td>0.689189<\/td>\n",
              "      <td>6.861033<\/td>\n",
              "      <td>0.065317<\/td>\n",
              "      <td>2.894205<\/td>\n",
              "    <\/tr>\n",
              "  <\/tbody>\n",
              "<\/table>\n",
              "<\/div>"
            ]
          },
          "metadata":{
            
          },
          "output_type":"display_data"
        }
      ],
      "metadata":{
        "jupyter":{
          "source_hidden":false,
          "outputs_hidden":false
        },
        "datalore":{
          "type":"CODE",
          "sheet_delimiter":false
        }
      }
    },
    {
      "cell_type":"markdown",
      "source":[
        "#### Sorting by *leverage*"
      ],
      "attachments":{
        
      },
      "metadata":{
        "jupyter":{
          "source_hidden":false,
          "outputs_hidden":false
        },
        "datalore":{
          "type":"MD",
          "sheet_delimiter":false
        }
      }
    },
    {
      "cell_type":"code",
      "source":[
        "rules.sort_values(by='leverage', ascending=False).head()"
      ],
      "execution_count":33,
      "outputs":[
        {
          "data":{
            "text\/html":[
              "<div>\n",
              "<style scoped>\n",
              "    .dataframe tbody tr th:only-of-type {\n",
              "        vertical-align: middle;\n",
              "    }\n",
              "\n",
              "    .dataframe tbody tr th {\n",
              "        vertical-align: top;\n",
              "    }\n",
              "\n",
              "    .dataframe thead th {\n",
              "        text-align: right;\n",
              "    }\n",
              "<\/style>\n",
              "<table border=\"1\" class=\"dataframe\">\n",
              "  <thead>\n",
              "    <tr style=\"text-align: right;\">\n",
              "      <th><\/th>\n",
              "      <th>antecedents<\/th>\n",
              "      <th>consequents<\/th>\n",
              "      <th>antecedent support<\/th>\n",
              "      <th>consequent support<\/th>\n",
              "      <th>support<\/th>\n",
              "      <th>confidence<\/th>\n",
              "      <th>lift<\/th>\n",
              "      <th>leverage<\/th>\n",
              "      <th>conviction<\/th>\n",
              "    <\/tr>\n",
              "  <\/thead>\n",
              "  <tbody>\n",
              "    <tr>\n",
              "      <th>100<\/th>\n",
              "      <td>(Durability)<\/td>\n",
              "      <td>(Super Strength)<\/td>\n",
              "      <td>0.385307<\/td>\n",
              "      <td>0.539730<\/td>\n",
              "      <td>0.340330<\/td>\n",
              "      <td>0.883268<\/td>\n",
              "      <td>1.636500<\/td>\n",
              "      <td>0.132368<\/td>\n",
              "      <td>3.942979<\/td>\n",
              "    <\/tr>\n",
              "    <tr>\n",
              "      <th>101<\/th>\n",
              "      <td>(Super Strength)<\/td>\n",
              "      <td>(Durability)<\/td>\n",
              "      <td>0.539730<\/td>\n",
              "      <td>0.385307<\/td>\n",
              "      <td>0.340330<\/td>\n",
              "      <td>0.630556<\/td>\n",
              "      <td>1.636500<\/td>\n",
              "      <td>0.132368<\/td>\n",
              "      <td>1.663830<\/td>\n",
              "    <\/tr>\n",
              "    <tr>\n",
              "      <th>236<\/th>\n",
              "      <td>(Super Strength)<\/td>\n",
              "      <td>(Super Speed)<\/td>\n",
              "      <td>0.539730<\/td>\n",
              "      <td>0.373313<\/td>\n",
              "      <td>0.328336<\/td>\n",
              "      <td>0.608333<\/td>\n",
              "      <td>1.629552<\/td>\n",
              "      <td>0.126847<\/td>\n",
              "      <td>1.600051<\/td>\n",
              "    <\/tr>\n",
              "    <tr>\n",
              "      <th>237<\/th>\n",
              "      <td>(Super Speed)<\/td>\n",
              "      <td>(Super Strength)<\/td>\n",
              "      <td>0.373313<\/td>\n",
              "      <td>0.539730<\/td>\n",
              "      <td>0.328336<\/td>\n",
              "      <td>0.879518<\/td>\n",
              "      <td>1.629552<\/td>\n",
              "      <td>0.126847<\/td>\n",
              "      <td>3.820240<\/td>\n",
              "    <\/tr>\n",
              "    <tr>\n",
              "      <th>1719<\/th>\n",
              "      <td>(Super Strength, Stamina)<\/td>\n",
              "      <td>(Super Speed)<\/td>\n",
              "      <td>0.331334<\/td>\n",
              "      <td>0.373313<\/td>\n",
              "      <td>0.241379<\/td>\n",
              "      <td>0.728507<\/td>\n",
              "      <td>1.951462<\/td>\n",
              "      <td>0.117688<\/td>\n",
              "      <td>2.308296<\/td>\n",
              "    <\/tr>\n",
              "  <\/tbody>\n",
              "<\/table>\n",
              "<\/div>"
            ]
          },
          "metadata":{
            
          },
          "output_type":"display_data"
        }
      ],
      "metadata":{
        "jupyter":{
          "source_hidden":false,
          "outputs_hidden":false
        },
        "datalore":{
          "type":"CODE",
          "sheet_delimiter":false
        }
      }
    },
    {
      "cell_type":"markdown",
      "source":[
        "#### Conclusion\n",
        "\n",
        "The number of superheroes is relatively small compared to the number of superpowers, making the *support* of some of them, and therefore of the sets containing them, very low. This makes it difficult to draw meaningful conclusions, assuming that the available data would only be a sample, and we would like to generalize them for the entire population. This can be seen, for example, by the values in the *leverage* column, which are very low (around 0.05) and at the same time they have very high *lift* ratio, which promotes strong connections even with little support.\n",
        "\n",
        "However, assuming that the data you have is the entire superhero population, you can draw many conclusions with 100% certainty - for example, many sets of superpowers clearly indicate the simultaneous occurrence of *Super Strength*, and if you sort the rules by the *lift* coefficient, you can see that it has a high value for different sets of superpowers.\n",
        "\n",
        "To sum up, association rules confirm the dependencies in the occurrence of individual superpowers, but due to the properties of the data (a large number of parameters, a small number of observations), I believe that they should be viewed with a certain distance."
      ],
      "attachments":{
        
      },
      "metadata":{
        "jupyter":{
          "source_hidden":false,
          "outputs_hidden":false
        },
        "datalore":{
          "type":"MD",
          "sheet_delimiter":false
        }
      }
    },
    {
      "cell_type":"markdown",
      "source":[
        "### Correlation"
      ],
      "attachments":{
        
      },
      "metadata":{
        "jupyter":{
          "source_hidden":false,
          "outputs_hidden":false
        },
        "datalore":{
          "type":"MD",
          "sheet_delimiter":false
        }
      }
    },
    {
      "cell_type":"code",
      "source":[
        "corr = data.corr()\n",
        "plt.figure(figsize=(12,8))\n",
        "sns.heatmap(corr, cmap='Blues', center=0,linewidths=.1)"
      ],
      "execution_count":34,
      "outputs":[
        {
          "data":{
            "text\/plain":[
              "<AxesSubplot:>"
            ],
            "image\/png":"[encoded data removed]"
          },
          "metadata":{
            "image\/png":{
              
            }
          },
          "output_type":"display_data"
        }
      ],
      "metadata":{
        "jupyter":{
          "source_hidden":false,
          "outputs_hidden":false
        },
        "datalore":{
          "type":"CODE",
          "sheet_delimiter":false
        }
      }
    },
    {
      "cell_type":"markdown",
      "source":[
        "In the above graph, darker areas can be seen in spots, which indicates the correlation of some superpowers, but due to their number, it is unreadable and does not contain all the variables."
      ],
      "attachments":{
        
      },
      "metadata":{
        "jupyter":{
          "source_hidden":false,
          "outputs_hidden":false
        },
        "datalore":{
          "type":"MD",
          "sheet_delimiter":false
        }
      }
    },
    {
      "cell_type":"code",
      "source":[
        "data.corr().unstack().sort_values(ascending=False).drop_duplicates().head(20)"
      ],
      "execution_count":35,
      "outputs":[
        {
          "data":{
            "text\/html":[
              
            ]
          },
          "metadata":{
            
          },
          "output_type":"display_data"
        }
      ],
      "metadata":{
        "jupyter":{
          "source_hidden":false,
          "outputs_hidden":false
        },
        "datalore":{
          "type":"CODE",
          "sheet_delimiter":false
        }
      }
    },
    {
      "cell_type":"code",
      "source":[
        "data.corr().unstack().sort_values(ascending=False).drop_duplicates().tail()"
      ],
      "execution_count":36,
      "outputs":[
        {
          "data":{
            "text\/html":[
              
            ]
          },
          "metadata":{
            
          },
          "output_type":"display_data"
        }
      ],
      "metadata":{
        "jupyter":{
          "source_hidden":false,
          "outputs_hidden":false
        },
        "datalore":{
          "type":"CODE",
          "sheet_delimiter":false
        }
      }
    },
    {
      "cell_type":"markdown",
      "source":[
        "The study of the correlation value shows that a large proportion of the superpowers are positively correlated to some extent. In the case of several superpowers visible above, this is a strong correlation, but moderate and low relationships are much more common. Negative correlations are very weak or absent.\n",
        "\n",
        "I believe that correlation analysis, like the analysis of association rules, confirms the existence of dependencies and provides the premisis that we are able to group superheroes according to their superpowers."
      ],
      "attachments":{
        
      },
      "metadata":{
        "jupyter":{
          "source_hidden":false,
          "outputs_hidden":false
        },
        "datalore":{
          "type":"MD",
          "sheet_delimiter":false
        }
      }
    },
    {
      "cell_type":"markdown",
      "source":[
        "### Clustering"
      ],
      "attachments":{
        
      },
      "metadata":{
        "jupyter":{
          "source_hidden":false,
          "outputs_hidden":false
        },
        "datalore":{
          "type":"MD",
          "sheet_delimiter":false
        }
      }
    },
    {
      "cell_type":"code",
      "source":[
        "squared_dist_sum = []\n",
        "k_list = range(1,60)\n",
        "for k in k_list:\n",
        "    km_model = KMeans(n_clusters=k)\n",
        "    km_model = km_model.fit(data.drop('hero_names', axis=1))\n",
        "    squared_dist_sum.append(km_model.inertia_)"
      ],
      "execution_count":37,
      "outputs":[
        
      ],
      "metadata":{
        "jupyter":{
          "source_hidden":false,
          "outputs_hidden":false
        },
        "datalore":{
          "type":"CODE",
          "sheet_delimiter":false
        }
      }
    },
    {
      "cell_type":"code",
      "source":[
        "plt.plot(k_list, squared_dist_sum)\n",
        "plt.xlabel('k')\n",
        "plt.ylabel('Suma odległości')\n",
        "plt.show()"
      ],
      "execution_count":38,
      "outputs":[
        {
          "data":{
            "image\/png":"[encoded data removed]"
          },
          "metadata":{
            "image\/png":{
              
            }
          },
          "output_type":"display_data"
        }
      ],
      "metadata":{
        "jupyter":{
          "source_hidden":false,
          "outputs_hidden":false
        },
        "datalore":{
          "type":"CODE",
          "sheet_delimiter":false
        }
      }
    },
    {
      "cell_type":"markdown",
      "source":[
        "The *Elbow method* does not clearly indicate the best number of clusters - you cannot see a clear bend point in the graph, therefore I decided to choose 16 as the number of clusters. Should a problem indicate the need for more homogeneous groups, the number of clusters should be increased."
      ],
      "attachments":{
        
      },
      "metadata":{
        "jupyter":{
          "source_hidden":false,
          "outputs_hidden":false
        },
        "datalore":{
          "type":"MD",
          "sheet_delimiter":false
        }
      }
    },
    {
      "cell_type":"code",
      "source":[
        "km_model = KMeans(16)\n",
        "km_model = km_model.fit(data.drop('hero_names',axis=1))"
      ],
      "execution_count":39,
      "outputs":[
        
      ],
      "metadata":{
        "jupyter":{
          "source_hidden":false,
          "outputs_hidden":false
        },
        "datalore":{
          "type":"CODE",
          "sheet_delimiter":false
        }
      }
    },
    {
      "cell_type":"code",
      "source":[
        "clusters = km_model.predict(data.drop('hero_names',axis=1))\n",
        "data['Cluster'] = clusters\n",
        "data[data['Cluster']==0].head()"
      ],
      "execution_count":40,
      "outputs":[
        {
          "data":{
            "text\/html":[
              "<div>\n",
              "<style scoped>\n",
              "    .dataframe tbody tr th:only-of-type {\n",
              "        vertical-align: middle;\n",
              "    }\n",
              "\n",
              "    .dataframe tbody tr th {\n",
              "        vertical-align: top;\n",
              "    }\n",
              "\n",
              "    .dataframe thead th {\n",
              "        text-align: right;\n",
              "    }\n",
              "<\/style>\n",
              "<table border=\"1\" class=\"dataframe\">\n",
              "  <thead>\n",
              "    <tr style=\"text-align: right;\">\n",
              "      <th><\/th>\n",
              "      <th>hero_names<\/th>\n",
              "      <th>Agility<\/th>\n",
              "      <th>Accelerated Healing<\/th>\n",
              "      <th>Lantern Power Ring<\/th>\n",
              "      <th>Dimensional Awareness<\/th>\n",
              "      <th>Cold Resistance<\/th>\n",
              "      <th>Durability<\/th>\n",
              "      <th>Stealth<\/th>\n",
              "      <th>Energy Absorption<\/th>\n",
              "      <th>Flight<\/th>\n",
              "      <th>...<\/th>\n",
              "      <th>Reality Warping<\/th>\n",
              "      <th>Odin Force<\/th>\n",
              "      <th>Symbiote Costume<\/th>\n",
              "      <th>Speed Force<\/th>\n",
              "      <th>Phoenix Force<\/th>\n",
              "      <th>Molecular Dissipation<\/th>\n",
              "      <th>Vision - Cryo<\/th>\n",
              "      <th>Omnipresent<\/th>\n",
              "      <th>Omniscient<\/th>\n",
              "      <th>Cluster<\/th>\n",
              "    <\/tr>\n",
              "  <\/thead>\n",
              "  <tbody>\n",
              "    <tr>\n",
              "      <th>14<\/th>\n",
              "      <td>Alex Mercer<\/td>\n",
              "      <td>True<\/td>\n",
              "      <td>True<\/td>\n",
              "      <td>False<\/td>\n",
              "      <td>False<\/td>\n",
              "      <td>False<\/td>\n",
              "      <td>False<\/td>\n",
              "      <td>True<\/td>\n",
              "      <td>True<\/td>\n",
              "      <td>False<\/td>\n",
              "      <td>...<\/td>\n",
              "      <td>False<\/td>\n",
              "      <td>False<\/td>\n",
              "      <td>False<\/td>\n",
              "      <td>False<\/td>\n",
              "      <td>False<\/td>\n",
              "      <td>False<\/td>\n",
              "      <td>False<\/td>\n",
              "      <td>False<\/td>\n",
              "      <td>False<\/td>\n",
              "      <td>0<\/td>\n",
              "    <\/tr>\n",
              "    <tr>\n",
              "      <th>16<\/th>\n",
              "      <td>Alien<\/td>\n",
              "      <td>True<\/td>\n",
              "      <td>False<\/td>\n",
              "      <td>False<\/td>\n",
              "      <td>False<\/td>\n",
              "      <td>True<\/td>\n",
              "      <td>True<\/td>\n",
              "      <td>True<\/td>\n",
              "      <td>False<\/td>\n",
              "      <td>False<\/td>\n",
              "      <td>...<\/td>\n",
              "      <td>False<\/td>\n",
              "      <td>False<\/td>\n",
              "      <td>False<\/td>\n",
              "      <td>False<\/td>\n",
              "      <td>False<\/td>\n",
              "      <td>False<\/td>\n",
              "      <td>False<\/td>\n",
              "      <td>False<\/td>\n",
              "      <td>False<\/td>\n",
              "      <td>0<\/td>\n",
              "    <\/tr>\n",
              "    <tr>\n",
              "      <th>31<\/th>\n",
              "      <td>Anti-Venom<\/td>\n",
              "      <td>False<\/td>\n",
              "      <td>True<\/td>\n",
              "      <td>False<\/td>\n",
              "      <td>False<\/td>\n",
              "      <td>False<\/td>\n",
              "      <td>True<\/td>\n",
              "      <td>False<\/td>\n",
              "      <td>False<\/td>\n",
              "      <td>False<\/td>\n",
              "      <td>...<\/td>\n",
              "      <td>False<\/td>\n",
              "      <td>False<\/td>\n",
              "      <td>True<\/td>\n",
              "      <td>False<\/td>\n",
              "      <td>False<\/td>\n",
              "      <td>False<\/td>\n",
              "      <td>False<\/td>\n",
              "      <td>False<\/td>\n",
              "      <td>False<\/td>\n",
              "      <td>0<\/td>\n",
              "    <\/tr>\n",
              "    <tr>\n",
              "      <th>35<\/th>\n",
              "      <td>Aquaman<\/td>\n",
              "      <td>True<\/td>\n",
              "      <td>True<\/td>\n",
              "      <td>False<\/td>\n",
              "      <td>False<\/td>\n",
              "      <td>True<\/td>\n",
              "      <td>True<\/td>\n",
              "      <td>True<\/td>\n",
              "      <td>False<\/td>\n",
              "      <td>False<\/td>\n",
              "      <td>...<\/td>\n",
              "      <td>False<\/td>\n",
              "      <td>False<\/td>\n",
              "      <td>False<\/td>\n",
              "      <td>False<\/td>\n",
              "      <td>False<\/td>\n",
              "      <td>False<\/td>\n",
              "      <td>False<\/td>\n",
              "      <td>False<\/td>\n",
              "      <td>False<\/td>\n",
              "      <td>0<\/td>\n",
              "    <\/tr>\n",
              "    <tr>\n",
              "      <th>66<\/th>\n",
              "      <td>Beast<\/td>\n",
              "      <td>True<\/td>\n",
              "      <td>True<\/td>\n",
              "      <td>False<\/td>\n",
              "      <td>False<\/td>\n",
              "      <td>False<\/td>\n",
              "      <td>False<\/td>\n",
              "      <td>False<\/td>\n",
              "      <td>False<\/td>\n",
              "      <td>False<\/td>\n",
              "      <td>...<\/td>\n",
              "      <td>False<\/td>\n",
              "      <td>False<\/td>\n",
              "      <td>False<\/td>\n",
              "      <td>False<\/td>\n",
              "      <td>False<\/td>\n",
              "      <td>False<\/td>\n",
              "      <td>False<\/td>\n",
              "      <td>False<\/td>\n",
              "      <td>False<\/td>\n",
              "      <td>0<\/td>\n",
              "    <\/tr>\n",
              "  <\/tbody>\n",
              "<\/table>\n",
              "<p>5 rows × 169 columns<\/p>\n",
              "<\/div>"
            ]
          },
          "metadata":{
            
          },
          "output_type":"display_data"
        }
      ],
      "metadata":{
        "jupyter":{
          "source_hidden":false,
          "outputs_hidden":false
        },
        "datalore":{
          "type":"CODE",
          "sheet_delimiter":false
        }
      }
    },
    {
      "cell_type":"markdown",
      "source":[
        "#### t-SNE visualisation"
      ],
      "attachments":{
        
      },
      "metadata":{
        "jupyter":{
          "source_hidden":false,
          "outputs_hidden":false
        },
        "datalore":{
          "type":"MD",
          "sheet_delimiter":false
        }
      }
    },
    {
      "cell_type":"code",
      "source":[
        "np.random.seed(1)\n",
        "tsne_clusters=TSNE(perplexity=27, verbose=1)\n",
        "tsne_results=tsne_clusters.fit_transform(data.drop('hero_names', axis=1))\n",
        "plt.figure(figsize=(16,16))\n",
        "plt.scatter(tsne_results[:,0], tsne_results[:,1], c=km_model.labels_, cmap='plasma')"
      ],
      "execution_count":41,
      "outputs":[
        {
          "name":"stdout",
          "text":[
            "[t-SNE] Computing 82 nearest neighbors...\n",
            "[t-SNE] Indexed 667 samples in 0.001s...\n",
            "[t-SNE] Computed neighbors for 667 samples in 0.023s...\n",
            "[t-SNE] Computed conditional probabilities for sample 667 \/ 667\n",
            "[t-SNE] Mean sigma: 0.320521\n",
            "[t-SNE] KL divergence after 250 iterations with early exaggeration: 69.050964\n",
            "[t-SNE] KL divergence after 1000 iterations: 0.638637\n"
          ],
          "output_type":"stream"
        },
        {
          "name":"stderr",
          "text":[
            "\/opt\/python\/envs\/default\/lib\/python3.8\/site-packages\/sklearn\/manifold\/_t_sne.py:780: FutureWarning: The default initialization in TSNE will change from 'random' to 'pca' in 1.2.\n",
            "  warnings.warn(\n",
            "\/opt\/python\/envs\/default\/lib\/python3.8\/site-packages\/sklearn\/manifold\/_t_sne.py:790: FutureWarning: The default learning rate in TSNE will change from 200.0 to 'auto' in 1.2.\n",
            "  warnings.warn(\n"
          ],
          "output_type":"stream"
        },
        {
          "data":{
            "text\/plain":[
              "<matplotlib.collections.PathCollection at 0x7fe095d98f10>"
            ],
            "image\/png":"[encoded data removed]"
          },
          "metadata":{
            "image\/png":{
              
            }
          },
          "output_type":"display_data"
        }
      ],
      "metadata":{
        "jupyter":{
          "source_hidden":false,
          "outputs_hidden":false
        },
        "datalore":{
          "type":"CODE",
          "sheet_delimiter":false
        }
      }
    },
    {
      "cell_type":"markdown",
      "source":[
        "Size of individual groups."
      ],
      "attachments":{
        
      },
      "metadata":{
        "jupyter":{
          "source_hidden":false,
          "outputs_hidden":false
        },
        "datalore":{
          "type":"MD",
          "sheet_delimiter":false
        }
      }
    },
    {
      "cell_type":"code",
      "source":[
        "data['Cluster'].value_counts().plot.pie(figsize=(10,10),autopct='%1.f%%')"
      ],
      "execution_count":42,
      "outputs":[
        {
          "data":{
            "text\/plain":[
              "<AxesSubplot:ylabel='Cluster'>"
            ],
            "image\/png":"[encoded data removed]"
          },
          "metadata":{
            "image\/png":{
              
            }
          },
          "output_type":"display_data"
        }
      ],
      "metadata":{
        "jupyter":{
          "source_hidden":false,
          "outputs_hidden":false
        },
        "datalore":{
          "type":"CODE",
          "sheet_delimiter":false
        }
      }
    },
    {
      "cell_type":"markdown",
      "source":[
        "For every cluster:\n",
        "5 representatives\n",
        "5 most common skills + percentage of occurance"
      ],
      "attachments":{
        
      },
      "metadata":{
        "jupyter":{
          "source_hidden":false,
          "outputs_hidden":false
        },
        "datalore":{
          "type":"MD",
          "sheet_delimiter":false
        }
      }
    },
    {
      "cell_type":"code",
      "source":[
        "for i in range(data['Cluster'].nunique()):\n",
        "    print(\"Cluster no: {}\".format(i))\n",
        "    \n",
        "    group_members= data[data['Cluster']==i]\n",
        "    group_members_count = data[data['Cluster']==i].count()[0]\n",
        "    \n",
        "    print(\"Representatives: \", end=' ')\n",
        "    \n",
        "    reprs_count=5\n",
        "    if group_members_count < 5:\n",
        "        reprs_count = group_members_count\n",
        "        \n",
        "    for j in range(reprs_count):\n",
        "        print(group_members.iloc[j]['hero_names'], end='; ')\n",
        "    print('')\n",
        "    \n",
        "    super_powers = data[data['Cluster']==i].drop(['hero_names','Cluster'],axis=1).sum().to_dict()\n",
        "    super_powers = sorted(super_powers.items(), key=lambda x:x[1], reverse=True)\n",
        "    \n",
        "    print('Most common skills with percentage of occurance:')\n",
        "    for super_power in super_powers[:5]:\n",
        "        print(super_power[0] + ' --> ' + format((super_power[1]\/group_members_count), '.0%'))\n",
        "    print('##############################################################################')"
      ],
      "execution_count":43,
      "outputs":[
        {
          "name":"stdout",
          "text":[
            "Cluster no: 0\n",
            "Representatives:  Alex Mercer; Alien; Anti-Venom; Aquaman; Beast; \n",
            "Most common skills with percentage of occurance:\n",
            "Super Strength --> 100%\n",
            "Stamina --> 91%\n",
            "Durability --> 88%\n",
            "Agility --> 81%\n",
            "Super Speed --> 81%\n",
            "##############################################################################\n",
            "Cluster no: 1\n",
            "Representatives:  Abraxas; Ardina; Aurora; Aztar; Black Adam; \n",
            "Most common skills with percentage of occurance:\n",
            "Flight --> 93%\n",
            "Super Speed --> 93%\n",
            "Super Strength --> 82%\n",
            "Energy Blasts --> 68%\n",
            "Stamina --> 68%\n",
            "##############################################################################\n",
            "Cluster no: 2\n",
            "Representatives:  Abe Sapien; Adam Strange; Ant-Man II; Batgirl; Batgirl IV; \n",
            "Most common skills with percentage of occurance:\n",
            "Stamina --> 91%\n",
            "Stealth --> 88%\n",
            "Weapons Master --> 86%\n",
            "Agility --> 83%\n",
            "Marksmanship --> 83%\n",
            "##############################################################################\n",
            "Cluster no: 3\n",
            "Representatives:  Alan Scott; Beyonder; Doctor Fate; Doctor Strange; Exodus; \n",
            "Most common skills with percentage of occurance:\n",
            "Telepathy --> 90%\n",
            "Telekinesis --> 80%\n",
            "Flight --> 70%\n",
            "Illusions --> 70%\n",
            "Astral Projection --> 65%\n",
            "##############################################################################\n",
            "Cluster no: 4\n",
            "Representatives:  Agent Zero; Anti-Spawn; Astro Boy; Binary; Birdman; \n",
            "Most common skills with percentage of occurance:\n",
            "Super Strength --> 100%\n",
            "Energy Blasts --> 100%\n",
            "Durability --> 55%\n",
            "Flight --> 48%\n",
            "Stamina --> 35%\n",
            "##############################################################################\n",
            "Cluster no: 5\n",
            "Representatives:  Abin Sur; Adam Monroe; Agent Bob; Alex Woolsly; Allan Quatermain; \n",
            "Most common skills with percentage of occurance:\n",
            "Intelligence --> 15%\n",
            "Telepathy --> 9%\n",
            "Energy Blasts --> 9%\n",
            "Agility --> 8%\n",
            "Accelerated Healing --> 8%\n",
            "##############################################################################\n",
            "Cluster no: 6\n",
            "Representatives:  Air-Walker; Angel Salvadore; Atom II; Bananaman; Banshee; \n",
            "Most common skills with percentage of occurance:\n",
            "Flight --> 100%\n",
            "Energy Blasts --> 28%\n",
            "Super Strength --> 25%\n",
            "Force Fields --> 20%\n",
            "Super Speed --> 18%\n",
            "##############################################################################\n",
            "Cluster no: 7\n",
            "Representatives:  A-Bomb; Abomination; Absorbing Man; Aqualad; Archangel; \n",
            "Most common skills with percentage of occurance:\n",
            "Super Strength --> 98%\n",
            "Durability --> 79%\n",
            "Stamina --> 57%\n",
            "Super Speed --> 31%\n",
            "Invulnerability --> 27%\n",
            "##############################################################################\n",
            "Cluster no: 8\n",
            "Representatives:  Apocalypse; Captain Marvel; Darkseid; Goku; Spectre; \n",
            "Most common skills with percentage of occurance:\n",
            "Agility --> 100%\n",
            "Accelerated Healing --> 100%\n",
            "Flight --> 100%\n",
            "Super Strength --> 100%\n",
            "Energy Blasts --> 100%\n",
            "##############################################################################\n",
            "Cluster no: 9\n",
            "Representatives:  Anti-Monitor; Dr Manhattan; Franklin Richards; Galactus; Living Tribunal; \n",
            "Most common skills with percentage of occurance:\n",
            "Intelligence --> 100%\n",
            "Invulnerability --> 100%\n",
            "Accelerated Healing --> 90%\n",
            "Super Strength --> 90%\n",
            "Teleportation --> 90%\n",
            "##############################################################################\n",
            "Cluster no: 10\n",
            "Representatives:  Bizarro; Bizarro-Girl; Cyborg Superman; Faora; General Zod; \n",
            "Most common skills with percentage of occurance:\n",
            "Flight --> 100%\n",
            "Super Strength --> 100%\n",
            "Super Speed --> 100%\n",
            "Invulnerability --> 100%\n",
            "Durability --> 93%\n",
            "##############################################################################\n",
            "Cluster no: 11\n",
            "Representatives:  3-D Man; Ajax; Angel; Angel Dust; Annihilus; \n",
            "Most common skills with percentage of occurance:\n",
            "Super Strength --> 96%\n",
            "Super Speed --> 96%\n",
            "Agility --> 88%\n",
            "Stamina --> 82%\n",
            "Reflexes --> 72%\n",
            "##############################################################################\n",
            "Cluster no: 12\n",
            "Representatives:  Amazo; Martian Manhunter; \n",
            "Most common skills with percentage of occurance:\n",
            "Agility --> 100%\n",
            "Durability --> 100%\n",
            "Flight --> 100%\n",
            "Marksmanship --> 100%\n",
            "Intelligence --> 100%\n",
            "##############################################################################\n",
            "Cluster no: 13\n",
            "Representatives:  Dazzler; Guy Gardner; Hal Jordan; Iron Man; Jessica Cruz; \n",
            "Most common skills with percentage of occurance:\n",
            "Energy Blasts --> 100%\n",
            "Flight --> 92%\n",
            "Marksmanship --> 92%\n",
            "Force Fields --> 92%\n",
            "Super Strength --> 83%\n",
            "##############################################################################\n",
            "Cluster no: 14\n",
            "Representatives:  Cable; Darth Vader; Kylo Ren; Luke Skywalker; Yoda; \n",
            "Most common skills with percentage of occurance:\n",
            "Agility --> 100%\n",
            "Stealth --> 100%\n",
            "Marksmanship --> 100%\n",
            "Weapons Master --> 100%\n",
            "Intelligence --> 100%\n",
            "##############################################################################\n",
            "Cluster no: 15\n",
            "Representatives:  T-1000; T-X; Wonder Woman; \n",
            "Most common skills with percentage of occurance:\n",
            "Accelerated Healing --> 100%\n",
            "Durability --> 100%\n",
            "Marksmanship --> 100%\n",
            "Weapons Master --> 100%\n",
            "Longevity --> 100%\n",
            "##############################################################################\n"
          ],
          "output_type":"stream"
        }
      ],
      "metadata":{
        "jupyter":{
          "source_hidden":false,
          "outputs_hidden":false
        },
        "datalore":{
          "type":"CODE",
          "sheet_delimiter":false
        }
      }
    },
    {
      "cell_type":"markdown",
      "source":[
        "You can see from the above printout that most of the groups have been correctly identified on the basis of the dominant superpowers of their members. Many groups were distinguished very precisely.\n",
        "\n",
        "Group 2 definitely stands out from the rest of the group, with 27% of superheroes who could not be classified into the other groups."
      ],
      "attachments":{
        
      },
      "metadata":{
        "jupyter":{
          "source_hidden":false,
          "outputs_hidden":false
        },
        "datalore":{
          "type":"MD",
          "sheet_delimiter":false
        }
      }
    },
    {
      "cell_type":"markdown",
      "source":[
        "#### Cluster 2"
      ],
      "attachments":{
        
      },
      "metadata":{
        "jupyter":{
          "source_hidden":false,
          "outputs_hidden":false
        },
        "datalore":{
          "type":"MD",
          "sheet_delimiter":false
        }
      }
    },
    {
      "cell_type":"code",
      "source":[
        "data['powers_count'] = data.sum(axis=1)"
      ],
      "execution_count":44,
      "outputs":[
        {
          "name":"stderr",
          "text":[
            "<ipython-input-44-ebd2baf46b68>:1: FutureWarning: Dropping of nuisance columns in DataFrame reductions (with 'numeric_only=None') is deprecated; in a future version this will raise TypeError.  Select only valid columns before calling the reduction.\n",
            "  data['powers_count'] = data.sum(axis=1)\n"
          ],
          "output_type":"stream"
        }
      ],
      "metadata":{
        "jupyter":{
          "source_hidden":false,
          "outputs_hidden":false
        },
        "datalore":{
          "type":"CODE",
          "sheet_delimiter":false
        }
      }
    },
    {
      "cell_type":"code",
      "source":[
        "data[data['Cluster']==2]['powers_count'].mean()"
      ],
      "execution_count":45,
      "outputs":[
        {
          "data":{
            "text\/plain":[
              "10.876923076923077"
            ]
          },
          "metadata":{
            
          },
          "output_type":"display_data"
        }
      ],
      "metadata":{
        "jupyter":{
          "source_hidden":false,
          "outputs_hidden":false
        },
        "datalore":{
          "type":"CODE",
          "sheet_delimiter":false
        }
      }
    },
    {
      "cell_type":"code",
      "source":[
        "data[data['Cluster']!=2]['powers_count'].mean()"
      ],
      "execution_count":46,
      "outputs":[
        {
          "data":{
            "text\/plain":[
              "14.958471760797343"
            ]
          },
          "metadata":{
            
          },
          "output_type":"display_data"
        }
      ],
      "metadata":{
        "jupyter":{
          "source_hidden":false,
          "outputs_hidden":false
        },
        "datalore":{
          "type":"CODE",
          "sheet_delimiter":false
        }
      }
    },
    {
      "cell_type":"markdown",
      "source":[
        "As you can see, on average, super heroes from group 2 have less than 5 superpowers, while in the case of the rest the average is over 17 superpowers. This was probably the main reason behind the formation of such a large group of rather not similar superheroes."
      ],
      "attachments":{
        
      },
      "metadata":{
        "jupyter":{
          "source_hidden":false,
          "outputs_hidden":false
        },
        "datalore":{
          "type":"MD",
          "sheet_delimiter":false
        }
      }
    },
    {
      "cell_type":"code",
      "source":[
        
      ],
      "execution_count":0,
      "outputs":[
        
      ],
      "metadata":{
        "jupyter":{
          "source_hidden":false,
          "outputs_hidden":false
        },
        "datalore":{
          "type":"CODE",
          "sheet_delimiter":false
        }
      }
    }
  ],
  "metadata":{
    "datalore":{
      "version":1,
      "computation_mode":"JUPYTER",
      "package_manager":"pip",
      "base_environment":"default",
      "packages":[
        {
          "name":"mlxtend",
          "version":"0.19.0",
          "source":"PIP"
        }
      ]
    }
  },
  "nbformat":4,
  "nbformat_minor":4
}