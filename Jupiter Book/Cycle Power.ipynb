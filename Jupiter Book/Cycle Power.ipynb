{
 "cells": [
  {
   "cell_type": "markdown",
   "id": "85cb63f8",
   "metadata": {},
   "source": [
    "# Import Libraries"
   ]
  },
  {
   "cell_type": "code",
   "execution_count": 2,
   "id": "828494ca",
   "metadata": {},
   "outputs": [],
   "source": [
    "import pandas as pd\n",
    "import numpy as np\n",
    "import math\n",
    "import seaborn as sns\n",
    "import matplotlib.pyplot as plt\n",
    "import seaborn as sns\n",
    "from sklearn import linear_model\n",
    "from sklearn.linear_model import LinearRegression\n",
    "from sklearn.model_selection import train_test_split\n",
    "from sklearn.preprocessing import StandardScaler\n",
    "from sklearn.preprocessing import PolynomialFeatures\n",
    "from sklearn.pipeline import Pipeline"
   ]
  },
  {
   "cell_type": "markdown",
   "id": "12db2ddb",
   "metadata": {},
   "source": [
    "# import Data"
   ]
  },
  {
   "cell_type": "code",
   "execution_count": 3,
   "id": "c85e8bc5",
   "metadata": {
    "scrolled": true
   },
   "outputs": [],
   "source": [
    "data_df=pd.read_csv('/Users/Asus/Documents/Atmel Studio/Machine1.csv')"
   ]
  },
  {
   "cell_type": "code",
   "execution_count": 4,
   "id": "35a97544",
   "metadata": {
    "scrolled": true
   },
   "outputs": [
    {
     "name": "stdout",
     "output_type": "stream",
     "text": [
      "<class 'pandas.core.frame.DataFrame'>\n",
      "RangeIndex: 9568 entries, 0 to 9567\n",
      "Data columns (total 5 columns):\n",
      " #   Column  Non-Null Count  Dtype  \n",
      "---  ------  --------------  -----  \n",
      " 0   AT      9568 non-null   float64\n",
      " 1   V       9568 non-null   float64\n",
      " 2   AP      9568 non-null   float64\n",
      " 3   RH      9568 non-null   float64\n",
      " 4   PE      9568 non-null   float64\n",
      "dtypes: float64(5)\n",
      "memory usage: 373.9 KB\n"
     ]
    }
   ],
   "source": [
    "# Complete information about data\n",
    "data_df.info()"
   ]
  },
  {
   "cell_type": "code",
   "execution_count": 5,
   "id": "9e53bba2",
   "metadata": {},
   "outputs": [
    {
     "data": {
      "text/plain": [
       "(9568, 5)"
      ]
     },
     "execution_count": 5,
     "metadata": {},
     "output_type": "execute_result"
    }
   ],
   "source": [
    "# Shape\n",
    "data_df.shape"
   ]
  },
  {
   "cell_type": "code",
   "execution_count": 6,
   "id": "050517bb",
   "metadata": {},
   "outputs": [
    {
     "data": {
      "text/html": [
       "<div>\n",
       "<style scoped>\n",
       "    .dataframe tbody tr th:only-of-type {\n",
       "        vertical-align: middle;\n",
       "    }\n",
       "\n",
       "    .dataframe tbody tr th {\n",
       "        vertical-align: top;\n",
       "    }\n",
       "\n",
       "    .dataframe thead th {\n",
       "        text-align: right;\n",
       "    }\n",
       "</style>\n",
       "<table border=\"1\" class=\"dataframe\">\n",
       "  <thead>\n",
       "    <tr style=\"text-align: right;\">\n",
       "      <th></th>\n",
       "      <th>AT</th>\n",
       "      <th>V</th>\n",
       "      <th>AP</th>\n",
       "      <th>RH</th>\n",
       "      <th>PE</th>\n",
       "    </tr>\n",
       "  </thead>\n",
       "  <tbody>\n",
       "    <tr>\n",
       "      <th>count</th>\n",
       "      <td>9568.000000</td>\n",
       "      <td>9568.000000</td>\n",
       "      <td>9568.000000</td>\n",
       "      <td>9568.000000</td>\n",
       "      <td>9568.000000</td>\n",
       "    </tr>\n",
       "    <tr>\n",
       "      <th>mean</th>\n",
       "      <td>19.651231</td>\n",
       "      <td>54.305804</td>\n",
       "      <td>1013.259078</td>\n",
       "      <td>73.308978</td>\n",
       "      <td>454.365009</td>\n",
       "    </tr>\n",
       "    <tr>\n",
       "      <th>std</th>\n",
       "      <td>7.452473</td>\n",
       "      <td>12.707893</td>\n",
       "      <td>5.938784</td>\n",
       "      <td>14.600269</td>\n",
       "      <td>17.066995</td>\n",
       "    </tr>\n",
       "    <tr>\n",
       "      <th>min</th>\n",
       "      <td>1.810000</td>\n",
       "      <td>25.360000</td>\n",
       "      <td>992.890000</td>\n",
       "      <td>25.560000</td>\n",
       "      <td>420.260000</td>\n",
       "    </tr>\n",
       "    <tr>\n",
       "      <th>25%</th>\n",
       "      <td>13.510000</td>\n",
       "      <td>41.740000</td>\n",
       "      <td>1009.100000</td>\n",
       "      <td>63.327500</td>\n",
       "      <td>439.750000</td>\n",
       "    </tr>\n",
       "    <tr>\n",
       "      <th>50%</th>\n",
       "      <td>20.345000</td>\n",
       "      <td>52.080000</td>\n",
       "      <td>1012.940000</td>\n",
       "      <td>74.975000</td>\n",
       "      <td>451.550000</td>\n",
       "    </tr>\n",
       "    <tr>\n",
       "      <th>75%</th>\n",
       "      <td>25.720000</td>\n",
       "      <td>66.540000</td>\n",
       "      <td>1017.260000</td>\n",
       "      <td>84.830000</td>\n",
       "      <td>468.430000</td>\n",
       "    </tr>\n",
       "    <tr>\n",
       "      <th>max</th>\n",
       "      <td>37.110000</td>\n",
       "      <td>81.560000</td>\n",
       "      <td>1033.300000</td>\n",
       "      <td>100.160000</td>\n",
       "      <td>495.760000</td>\n",
       "    </tr>\n",
       "  </tbody>\n",
       "</table>\n",
       "</div>"
      ],
      "text/plain": [
       "                AT            V           AP           RH           PE\n",
       "count  9568.000000  9568.000000  9568.000000  9568.000000  9568.000000\n",
       "mean     19.651231    54.305804  1013.259078    73.308978   454.365009\n",
       "std       7.452473    12.707893     5.938784    14.600269    17.066995\n",
       "min       1.810000    25.360000   992.890000    25.560000   420.260000\n",
       "25%      13.510000    41.740000  1009.100000    63.327500   439.750000\n",
       "50%      20.345000    52.080000  1012.940000    74.975000   451.550000\n",
       "75%      25.720000    66.540000  1017.260000    84.830000   468.430000\n",
       "max      37.110000    81.560000  1033.300000   100.160000   495.760000"
      ]
     },
     "execution_count": 6,
     "metadata": {},
     "output_type": "execute_result"
    }
   ],
   "source": [
    "# Data Exploration: Summarize Data\n",
    "data_df.describe()"
   ]
  },
  {
   "cell_type": "code",
   "execution_count": 7,
   "id": "41f213c4",
   "metadata": {},
   "outputs": [
    {
     "data": {
      "text/html": [
       "<div>\n",
       "<style scoped>\n",
       "    .dataframe tbody tr th:only-of-type {\n",
       "        vertical-align: middle;\n",
       "    }\n",
       "\n",
       "    .dataframe tbody tr th {\n",
       "        vertical-align: top;\n",
       "    }\n",
       "\n",
       "    .dataframe thead th {\n",
       "        text-align: right;\n",
       "    }\n",
       "</style>\n",
       "<table border=\"1\" class=\"dataframe\">\n",
       "  <thead>\n",
       "    <tr style=\"text-align: right;\">\n",
       "      <th></th>\n",
       "      <th>AT</th>\n",
       "      <th>V</th>\n",
       "      <th>AP</th>\n",
       "      <th>RH</th>\n",
       "      <th>PE</th>\n",
       "    </tr>\n",
       "  </thead>\n",
       "  <tbody>\n",
       "    <tr>\n",
       "      <th>0</th>\n",
       "      <td>8.34</td>\n",
       "      <td>40.77</td>\n",
       "      <td>1010.84</td>\n",
       "      <td>90.01</td>\n",
       "      <td>480.48</td>\n",
       "    </tr>\n",
       "    <tr>\n",
       "      <th>1</th>\n",
       "      <td>23.64</td>\n",
       "      <td>58.49</td>\n",
       "      <td>1011.40</td>\n",
       "      <td>74.20</td>\n",
       "      <td>445.75</td>\n",
       "    </tr>\n",
       "    <tr>\n",
       "      <th>2</th>\n",
       "      <td>29.74</td>\n",
       "      <td>56.90</td>\n",
       "      <td>1007.15</td>\n",
       "      <td>41.91</td>\n",
       "      <td>438.76</td>\n",
       "    </tr>\n",
       "    <tr>\n",
       "      <th>3</th>\n",
       "      <td>19.07</td>\n",
       "      <td>49.69</td>\n",
       "      <td>1007.22</td>\n",
       "      <td>76.79</td>\n",
       "      <td>453.09</td>\n",
       "    </tr>\n",
       "    <tr>\n",
       "      <th>4</th>\n",
       "      <td>11.80</td>\n",
       "      <td>40.66</td>\n",
       "      <td>1017.13</td>\n",
       "      <td>97.20</td>\n",
       "      <td>464.43</td>\n",
       "    </tr>\n",
       "  </tbody>\n",
       "</table>\n",
       "</div>"
      ],
      "text/plain": [
       "      AT      V       AP     RH      PE\n",
       "0   8.34  40.77  1010.84  90.01  480.48\n",
       "1  23.64  58.49  1011.40  74.20  445.75\n",
       "2  29.74  56.90  1007.15  41.91  438.76\n",
       "3  19.07  49.69  1007.22  76.79  453.09\n",
       "4  11.80  40.66  1017.13  97.20  464.43"
      ]
     },
     "execution_count": 7,
     "metadata": {},
     "output_type": "execute_result"
    }
   ],
   "source": [
    "data_df.head()"
   ]
  },
  {
   "cell_type": "code",
   "execution_count": 8,
   "id": "984a799f",
   "metadata": {},
   "outputs": [
    {
     "data": {
      "text/plain": [
       "451"
      ]
     },
     "execution_count": 8,
     "metadata": {},
     "output_type": "execute_result"
    }
   ],
   "source": [
    "#dependent Variable\n",
    "import math\n",
    "median_PE = math.floor(data_df.PE.median())\n",
    "median_PE"
   ]
  },
  {
   "cell_type": "code",
   "execution_count": 9,
   "id": "f91b3e99",
   "metadata": {},
   "outputs": [
    {
     "data": {
      "text/html": [
       "<div>\n",
       "<style scoped>\n",
       "    .dataframe tbody tr th:only-of-type {\n",
       "        vertical-align: middle;\n",
       "    }\n",
       "\n",
       "    .dataframe tbody tr th {\n",
       "        vertical-align: top;\n",
       "    }\n",
       "\n",
       "    .dataframe thead th {\n",
       "        text-align: right;\n",
       "    }\n",
       "</style>\n",
       "<table border=\"1\" class=\"dataframe\">\n",
       "  <thead>\n",
       "    <tr style=\"text-align: right;\">\n",
       "      <th></th>\n",
       "      <th>AT</th>\n",
       "      <th>V</th>\n",
       "      <th>AP</th>\n",
       "      <th>RH</th>\n",
       "      <th>PE</th>\n",
       "    </tr>\n",
       "  </thead>\n",
       "  <tbody>\n",
       "    <tr>\n",
       "      <th>0</th>\n",
       "      <td>8.34</td>\n",
       "      <td>40.77</td>\n",
       "      <td>1010.84</td>\n",
       "      <td>90.01</td>\n",
       "      <td>480.48</td>\n",
       "    </tr>\n",
       "    <tr>\n",
       "      <th>1</th>\n",
       "      <td>23.64</td>\n",
       "      <td>58.49</td>\n",
       "      <td>1011.40</td>\n",
       "      <td>74.20</td>\n",
       "      <td>445.75</td>\n",
       "    </tr>\n",
       "    <tr>\n",
       "      <th>2</th>\n",
       "      <td>29.74</td>\n",
       "      <td>56.90</td>\n",
       "      <td>1007.15</td>\n",
       "      <td>41.91</td>\n",
       "      <td>438.76</td>\n",
       "    </tr>\n",
       "    <tr>\n",
       "      <th>3</th>\n",
       "      <td>19.07</td>\n",
       "      <td>49.69</td>\n",
       "      <td>1007.22</td>\n",
       "      <td>76.79</td>\n",
       "      <td>453.09</td>\n",
       "    </tr>\n",
       "    <tr>\n",
       "      <th>4</th>\n",
       "      <td>11.80</td>\n",
       "      <td>40.66</td>\n",
       "      <td>1017.13</td>\n",
       "      <td>97.20</td>\n",
       "      <td>464.43</td>\n",
       "    </tr>\n",
       "    <tr>\n",
       "      <th>...</th>\n",
       "      <td>...</td>\n",
       "      <td>...</td>\n",
       "      <td>...</td>\n",
       "      <td>...</td>\n",
       "      <td>...</td>\n",
       "    </tr>\n",
       "    <tr>\n",
       "      <th>9563</th>\n",
       "      <td>15.12</td>\n",
       "      <td>48.92</td>\n",
       "      <td>1011.80</td>\n",
       "      <td>72.93</td>\n",
       "      <td>462.59</td>\n",
       "    </tr>\n",
       "    <tr>\n",
       "      <th>9564</th>\n",
       "      <td>33.41</td>\n",
       "      <td>77.95</td>\n",
       "      <td>1010.30</td>\n",
       "      <td>59.72</td>\n",
       "      <td>432.90</td>\n",
       "    </tr>\n",
       "    <tr>\n",
       "      <th>9565</th>\n",
       "      <td>15.99</td>\n",
       "      <td>43.34</td>\n",
       "      <td>1014.20</td>\n",
       "      <td>78.66</td>\n",
       "      <td>465.96</td>\n",
       "    </tr>\n",
       "    <tr>\n",
       "      <th>9566</th>\n",
       "      <td>17.65</td>\n",
       "      <td>59.87</td>\n",
       "      <td>1018.58</td>\n",
       "      <td>94.65</td>\n",
       "      <td>450.93</td>\n",
       "    </tr>\n",
       "    <tr>\n",
       "      <th>9567</th>\n",
       "      <td>23.68</td>\n",
       "      <td>51.30</td>\n",
       "      <td>1011.86</td>\n",
       "      <td>71.24</td>\n",
       "      <td>451.67</td>\n",
       "    </tr>\n",
       "  </tbody>\n",
       "</table>\n",
       "<p>9568 rows × 5 columns</p>\n",
       "</div>"
      ],
      "text/plain": [
       "         AT      V       AP     RH      PE\n",
       "0      8.34  40.77  1010.84  90.01  480.48\n",
       "1     23.64  58.49  1011.40  74.20  445.75\n",
       "2     29.74  56.90  1007.15  41.91  438.76\n",
       "3     19.07  49.69  1007.22  76.79  453.09\n",
       "4     11.80  40.66  1017.13  97.20  464.43\n",
       "...     ...    ...      ...    ...     ...\n",
       "9563  15.12  48.92  1011.80  72.93  462.59\n",
       "9564  33.41  77.95  1010.30  59.72  432.90\n",
       "9565  15.99  43.34  1014.20  78.66  465.96\n",
       "9566  17.65  59.87  1018.58  94.65  450.93\n",
       "9567  23.68  51.30  1011.86  71.24  451.67\n",
       "\n",
       "[9568 rows x 5 columns]"
      ]
     },
     "execution_count": 9,
     "metadata": {},
     "output_type": "execute_result"
    }
   ],
   "source": [
    "data_df.fillna(median_PE)"
   ]
  },
  {
   "cell_type": "markdown",
   "id": "a49b33e2",
   "metadata": {},
   "source": [
    "# Define X & Y"
   ]
  },
  {
   "cell_type": "code",
   "execution_count": 10,
   "id": "eef4429c",
   "metadata": {},
   "outputs": [],
   "source": [
    "x=data_df.drop(['PE'],axis=1).values\n",
    "y=data_df['PE'].values"
   ]
  },
  {
   "cell_type": "code",
   "execution_count": 11,
   "id": "cadf0467",
   "metadata": {},
   "outputs": [
    {
     "name": "stdout",
     "output_type": "stream",
     "text": [
      "[[   8.34   40.77 1010.84   90.01]\n",
      " [  23.64   58.49 1011.4    74.2 ]\n",
      " [  29.74   56.9  1007.15   41.91]\n",
      " ...\n",
      " [  15.99   43.34 1014.2    78.66]\n",
      " [  17.65   59.87 1018.58   94.65]\n",
      " [  23.68   51.3  1011.86   71.24]]\n"
     ]
    }
   ],
   "source": [
    "print((x))"
   ]
  },
  {
   "cell_type": "code",
   "execution_count": 12,
   "id": "db04942a",
   "metadata": {},
   "outputs": [
    {
     "name": "stdout",
     "output_type": "stream",
     "text": [
      "[480.48 445.75 438.76 ... 465.96 450.93 451.67]\n"
     ]
    }
   ],
   "source": [
    "print((y))\n"
   ]
  },
  {
   "cell_type": "markdown",
   "id": "d47bfc08",
   "metadata": {},
   "source": [
    "# Split the dataset in training Set & test Set"
   ]
  },
  {
   "cell_type": "code",
   "execution_count": 13,
   "id": "5ae97cad",
   "metadata": {},
   "outputs": [],
   "source": [
    "from sklearn.model_selection import train_test_split\n",
    "x_train, x_test, y_train, y_test = train_test_split(x, y, test_size=0.3, random_state=0)"
   ]
  },
  {
   "cell_type": "markdown",
   "id": "18a605a4",
   "metadata": {},
   "source": [
    "# Train the Model on the Training Set\n"
   ]
  },
  {
   "cell_type": "code",
   "execution_count": 14,
   "id": "7a2dbd01",
   "metadata": {},
   "outputs": [
    {
     "data": {
      "text/plain": [
       "LinearRegression()"
      ]
     },
     "execution_count": 14,
     "metadata": {},
     "output_type": "execute_result"
    }
   ],
   "source": [
    "from sklearn.linear_model import LinearRegression\n",
    "ml=LinearRegression()\n",
    "ml.fit(x_train,y_train)"
   ]
  },
  {
   "cell_type": "code",
   "execution_count": 15,
   "id": "53aa80e9",
   "metadata": {
    "scrolled": true
   },
   "outputs": [
    {
     "data": {
      "text/plain": [
       "LinearRegression()"
      ]
     },
     "execution_count": 15,
     "metadata": {},
     "output_type": "execute_result"
    }
   ],
   "source": [
    "reg= linear_model.LinearRegression()\n",
    "reg.fit(data_df[['AT','V','AP','RH']],data_df.PE)"
   ]
  },
  {
   "cell_type": "code",
   "execution_count": 16,
   "id": "0b2651a2",
   "metadata": {},
   "outputs": [
    {
     "data": {
      "text/plain": [
       "array([-1.97751311, -0.23391642,  0.06208294, -0.1580541 ])"
      ]
     },
     "execution_count": 16,
     "metadata": {},
     "output_type": "execute_result"
    }
   ],
   "source": [
    "reg.coef_"
   ]
  },
  {
   "cell_type": "code",
   "execution_count": 17,
   "id": "1a21bfd5",
   "metadata": {},
   "outputs": [
    {
     "data": {
      "text/plain": [
       "454.6092743153102"
      ]
     },
     "execution_count": 17,
     "metadata": {},
     "output_type": "execute_result"
    }
   ],
   "source": [
    "reg.intercept_"
   ]
  },
  {
   "cell_type": "markdown",
   "id": "98d85d3e",
   "metadata": {},
   "source": [
    "# Predict the Test set Results"
   ]
  },
  {
   "cell_type": "code",
   "execution_count": 18,
   "id": "24e8e489",
   "metadata": {},
   "outputs": [
    {
     "name": "stdout",
     "output_type": "stream",
     "text": [
      "[433.33259502 448.37969342 445.91247797 ... 444.05809103 459.34745691\n",
      " 472.91532015]\n"
     ]
    }
   ],
   "source": [
    "y_pred=ml.predict(x_test)\n",
    "print(y_pred)"
   ]
  },
  {
   "cell_type": "code",
   "execution_count": 19,
   "id": "9729726f",
   "metadata": {
    "scrolled": true
   },
   "outputs": [
    {
     "data": {
      "text/plain": [
       "array([477.12419199])"
      ]
     },
     "execution_count": 19,
     "metadata": {},
     "output_type": "execute_result"
    }
   ],
   "source": [
    "ml.predict([[8.34,40.77,1010.84,90.01]])"
   ]
  },
  {
   "cell_type": "code",
   "execution_count": 20,
   "id": "d9878438",
   "metadata": {},
   "outputs": [
    {
     "data": {
      "image/png": "[encoded data removed]",
      "text/plain": [
       "<Figure size 720x360 with 2 Axes>"
      ]
     },
     "metadata": {
      "needs_background": "light"
     },
     "output_type": "display_data"
    }
   ],
   "source": [
    "# Correlation Heatmap\n",
    "plt.figure(figsize = (10, 5))\n",
    "c = data_df.corr()\n",
    "sns.heatmap(c, cmap = \"BrBG\", annot = True)\n",
    "plt.title(\"Correlation Matrix\")\n",
    "plt.show()"
   ]
  },
  {
   "cell_type": "markdown",
   "id": "a0129c86",
   "metadata": {},
   "source": [
    "# Evaluate the Model\n"
   ]
  },
  {
   "cell_type": "code",
   "execution_count": 21,
   "id": "70ea7f88",
   "metadata": {},
   "outputs": [
    {
     "data": {
      "text/plain": [
       "0.9289374661293962"
      ]
     },
     "execution_count": 21,
     "metadata": {},
     "output_type": "execute_result"
    }
   ],
   "source": [
    "from sklearn.metrics import r2_score\n",
    "r2_score (y_test,y_pred)"
   ]
  },
  {
   "cell_type": "markdown",
   "id": "3c7e6810",
   "metadata": {},
   "source": [
    "# Plot the Results"
   ]
  },
  {
   "cell_type": "code",
   "execution_count": 22,
   "id": "8f1a1310",
   "metadata": {},
   "outputs": [
    {
     "data": {
      "text/plain": [
       "Text(0.5, 1.0, 'Actual Vs. Predicted')"
      ]
     },
     "execution_count": 22,
     "metadata": {},
     "output_type": "execute_result"
    },
    {
     "data": {
      "image/png": "[encoded data removed]",
      "text/plain": [
       "<Figure size 1080x2160 with 1 Axes>"
      ]
     },
     "metadata": {
      "needs_background": "light"
     },
     "output_type": "display_data"
    }
   ],
   "source": [
    "import matplotlib.pyplot as plt\n",
    "plt.figure(figsize=(15,30))\n",
    "plt.scatter(y_test,y_pred)\n",
    "myline = np.linspace(0, 10, 100)\n",
    "#plt.plot(myline, my_model(myline), color =\"r\")\n",
    "plt.xlabel('Actual')\n",
    "plt.ylabel('Predicted')\n",
    "plt.title('Actual Vs. Predicted')"
   ]
  },
  {
   "cell_type": "markdown",
   "id": "a79f3b79",
   "metadata": {},
   "source": [
    "# Predicted Values"
   ]
  },
  {
   "cell_type": "code",
   "execution_count": 23,
   "id": "2a963571",
   "metadata": {},
   "outputs": [
    {
     "data": {
      "text/html": [
       "<div>\n",
       "<style scoped>\n",
       "    .dataframe tbody tr th:only-of-type {\n",
       "        vertical-align: middle;\n",
       "    }\n",
       "\n",
       "    .dataframe tbody tr th {\n",
       "        vertical-align: top;\n",
       "    }\n",
       "\n",
       "    .dataframe thead th {\n",
       "        text-align: right;\n",
       "    }\n",
       "</style>\n",
       "<table border=\"1\" class=\"dataframe\">\n",
       "  <thead>\n",
       "    <tr style=\"text-align: right;\">\n",
       "      <th></th>\n",
       "      <th>Actual Value</th>\n",
       "      <th>Predicted value</th>\n",
       "      <th>Differance</th>\n",
       "    </tr>\n",
       "  </thead>\n",
       "  <tbody>\n",
       "    <tr>\n",
       "      <th>0</th>\n",
       "      <td>426.18</td>\n",
       "      <td>433.332595</td>\n",
       "      <td>-7.152595</td>\n",
       "    </tr>\n",
       "    <tr>\n",
       "      <th>1</th>\n",
       "      <td>451.10</td>\n",
       "      <td>448.379693</td>\n",
       "      <td>2.720307</td>\n",
       "    </tr>\n",
       "    <tr>\n",
       "      <th>2</th>\n",
       "      <td>442.87</td>\n",
       "      <td>445.912478</td>\n",
       "      <td>-3.042478</td>\n",
       "    </tr>\n",
       "    <tr>\n",
       "      <th>3</th>\n",
       "      <td>443.70</td>\n",
       "      <td>445.986055</td>\n",
       "      <td>-2.286055</td>\n",
       "    </tr>\n",
       "    <tr>\n",
       "      <th>4</th>\n",
       "      <td>460.59</td>\n",
       "      <td>462.822292</td>\n",
       "      <td>-2.232292</td>\n",
       "    </tr>\n",
       "    <tr>\n",
       "      <th>5</th>\n",
       "      <td>438.00</td>\n",
       "      <td>440.810771</td>\n",
       "      <td>-2.810771</td>\n",
       "    </tr>\n",
       "    <tr>\n",
       "      <th>6</th>\n",
       "      <td>484.31</td>\n",
       "      <td>482.716625</td>\n",
       "      <td>1.593375</td>\n",
       "    </tr>\n",
       "    <tr>\n",
       "      <th>7</th>\n",
       "      <td>464.18</td>\n",
       "      <td>462.222261</td>\n",
       "      <td>1.957739</td>\n",
       "    </tr>\n",
       "    <tr>\n",
       "      <th>8</th>\n",
       "      <td>452.53</td>\n",
       "      <td>451.261034</td>\n",
       "      <td>1.268966</td>\n",
       "    </tr>\n",
       "    <tr>\n",
       "      <th>9</th>\n",
       "      <td>445.54</td>\n",
       "      <td>445.431174</td>\n",
       "      <td>0.108826</td>\n",
       "    </tr>\n",
       "    <tr>\n",
       "      <th>10</th>\n",
       "      <td>435.14</td>\n",
       "      <td>441.149010</td>\n",
       "      <td>-6.009010</td>\n",
       "    </tr>\n",
       "    <tr>\n",
       "      <th>11</th>\n",
       "      <td>442.03</td>\n",
       "      <td>442.202693</td>\n",
       "      <td>-0.172693</td>\n",
       "    </tr>\n",
       "    <tr>\n",
       "      <th>12</th>\n",
       "      <td>454.02</td>\n",
       "      <td>456.254216</td>\n",
       "      <td>-2.234216</td>\n",
       "    </tr>\n",
       "    <tr>\n",
       "      <th>13</th>\n",
       "      <td>445.02</td>\n",
       "      <td>449.505235</td>\n",
       "      <td>-4.485235</td>\n",
       "    </tr>\n",
       "    <tr>\n",
       "      <th>14</th>\n",
       "      <td>446.53</td>\n",
       "      <td>449.495342</td>\n",
       "      <td>-2.965342</td>\n",
       "    </tr>\n",
       "    <tr>\n",
       "      <th>15</th>\n",
       "      <td>458.59</td>\n",
       "      <td>457.171393</td>\n",
       "      <td>1.418607</td>\n",
       "    </tr>\n",
       "    <tr>\n",
       "      <th>16</th>\n",
       "      <td>445.84</td>\n",
       "      <td>450.593344</td>\n",
       "      <td>-4.753344</td>\n",
       "    </tr>\n",
       "    <tr>\n",
       "      <th>17</th>\n",
       "      <td>471.46</td>\n",
       "      <td>468.871851</td>\n",
       "      <td>2.588149</td>\n",
       "    </tr>\n",
       "    <tr>\n",
       "      <th>18</th>\n",
       "      <td>452.84</td>\n",
       "      <td>454.552505</td>\n",
       "      <td>-1.712505</td>\n",
       "    </tr>\n",
       "    <tr>\n",
       "      <th>19</th>\n",
       "      <td>448.64</td>\n",
       "      <td>452.368165</td>\n",
       "      <td>-3.728165</td>\n",
       "    </tr>\n",
       "  </tbody>\n",
       "</table>\n",
       "</div>"
      ],
      "text/plain": [
       "    Actual Value  Predicted value  Differance\n",
       "0         426.18       433.332595   -7.152595\n",
       "1         451.10       448.379693    2.720307\n",
       "2         442.87       445.912478   -3.042478\n",
       "3         443.70       445.986055   -2.286055\n",
       "4         460.59       462.822292   -2.232292\n",
       "5         438.00       440.810771   -2.810771\n",
       "6         484.31       482.716625    1.593375\n",
       "7         464.18       462.222261    1.957739\n",
       "8         452.53       451.261034    1.268966\n",
       "9         445.54       445.431174    0.108826\n",
       "10        435.14       441.149010   -6.009010\n",
       "11        442.03       442.202693   -0.172693\n",
       "12        454.02       456.254216   -2.234216\n",
       "13        445.02       449.505235   -4.485235\n",
       "14        446.53       449.495342   -2.965342\n",
       "15        458.59       457.171393    1.418607\n",
       "16        445.84       450.593344   -4.753344\n",
       "17        471.46       468.871851    2.588149\n",
       "18        452.84       454.552505   -1.712505\n",
       "19        448.64       452.368165   -3.728165"
      ]
     },
     "execution_count": 23,
     "metadata": {},
     "output_type": "execute_result"
    }
   ],
   "source": [
    "pred_y_df=pd.DataFrame({'Actual Value':y_test,'Predicted value':y_pred,'Differance':y_test-y_pred})\n",
    "pred_y_df[0:20]"
   ]
  },
  {
   "cell_type": "code",
   "execution_count": 27,
   "id": "d91b2b80",
   "metadata": {},
   "outputs": [
    {
     "name": "stdout",
     "output_type": "stream",
     "text": [
      "[[   8.34   40.77 1010.84   90.01]\n",
      " [  23.64   58.49 1011.4    74.2 ]\n",
      " [  29.74   56.9  1007.15   41.91]\n",
      " [  19.07   49.69 1007.22   76.79]\n",
      " [  11.8    40.66 1017.13   97.2 ]\n",
      " [  13.97   39.16 1016.05   84.6 ]\n",
      " [  22.1    71.29 1008.2    75.38]\n",
      " [  14.47   41.76 1021.98   78.41]\n",
      " [  31.25   69.51 1010.25   36.83]\n",
      " [   6.77   38.18 1017.8    81.13]]\n",
      "[480.48 445.75 438.76 453.09 464.43 470.96 442.35 464.   428.77 484.31]\n"
     ]
    }
   ],
   "source": [
    "from numpy import genfromtxt\n",
    "x1=data_df.drop(['PE'],axis=1).values\n",
    "y1=data_df['PE'].values\n",
    "print(x1[0:10])\n",
    "print(y1[0:10])"
   ]
  },
  {
   "cell_type": "code",
   "execution_count": 33,
   "id": "0794b89a",
   "metadata": {},
   "outputs": [],
   "source": [
    "def gradient(x1,y1,alpha,epoch):\n",
    "  m=x1.shape[0]  #number of samples\n",
    "  ones = np.ones((m,1))\n",
    "  x1=np.concatenate((ones,x1),axis=1)\n",
    "  n=x1.shape[1]\n",
    "  Theta = np.ones(n) #n = 5th parameter\n",
    "  h = np.dot(x1, Theta) #Compute Hypothesis\n",
    "\n",
    "  #Gradient descent Algorithm\n",
    "  cost = np.ones(epoch)\n",
    "  for i in range (0,epoch):\n",
    "      Theta[0] = Theta[0] - (alpha/ x1.shape[0]) * sum(h-y1)\n",
    "      for j in range(1,n):\n",
    "        Theta[j] = Theta[j] - (alpha/ x1.shape[0]) * sum((h-y1) * x1[:, j])\n",
    "      h = np.dot(x1,Theta)\n",
    "      cost[i] = 1/(2*m) * sum(np.square(h-y1)) #compute Cost\n",
    "  return cost, Theta "
   ]
  },
  {
   "cell_type": "code",
   "execution_count": 38,
   "id": "6c8eca53",
   "metadata": {
    "scrolled": true
   },
   "outputs": [
    {
     "name": "stderr",
     "output_type": "stream",
     "text": [
      "<ipython-input-33-9b7e861e7158>:16: RuntimeWarning: overflow encountered in square\n",
      "  cost[i] = 1/(2*m) * sum(np.square(h-y1)) #compute Cost\n",
      "<ipython-input-33-9b7e861e7158>:14: RuntimeWarning: overflow encountered in double_scalars\n",
      "  Theta[j] = Theta[j] - (alpha/ x1.shape[0]) * sum((h-y1) * x1[:, j])\n",
      "<ipython-input-33-9b7e861e7158>:14: RuntimeWarning: invalid value encountered in double_scalars\n",
      "  Theta[j] = Theta[j] - (alpha/ x1.shape[0]) * sum((h-y1) * x1[:, j])\n"
     ]
    },
    {
     "name": "stdout",
     "output_type": "stream",
     "text": [
      "[nan nan nan nan nan]\n"
     ]
    }
   ],
   "source": [
    "#Calcualting Theta & Cost\n",
    "cost, Theta = gradient(x1, y1, 0.01, 5000)\n",
    "print(Theta)"
   ]
  },
  {
   "cell_type": "code",
   "execution_count": 39,
   "id": "517de29e",
   "metadata": {},
   "outputs": [
    {
     "name": "stdout",
     "output_type": "stream",
     "text": [
      "Lowest Cost =nan\n",
      "Cost after 1000 iterations =nan\n"
     ]
    },
    {
     "data": {
      "image/png": "[encoded data removed]",
      "text/plain": [
       "<Figure size 432x288 with 1 Axes>"
      ]
     },
     "metadata": {
      "needs_background": "light"
     },
     "output_type": "display_data"
    }
   ],
   "source": [
    "plt.plot(cost)\n",
    "plt.xlabel('Number of Iterations (epoch)')\n",
    "plt.ylabel(\"Cost or Lost\")\n",
    "plt.show\n",
    "print(\"Lowest Cost =\"+ str(np.min(cost)))\n",
    "print(\"Cost after 1000 iterations =\" + str(cost[-1]))"
   ]
  },
  {
   "cell_type": "code",
   "execution_count": null,
   "id": "49a477c6",
   "metadata": {},
   "outputs": [],
   "source": []
  }
 ],
 "metadata": {
  "kernelspec": {
   "display_name": "Python 3",
   "language": "python",
   "name": "python3"
  },
  "language_info": {
   "codemirror_mode": {
    "name": "ipython",
    "version": 3
   },
   "file_extension": ".py",
   "mimetype": "text/x-python",
   "name": "python",
   "nbconvert_exporter": "python",
   "pygments_lexer": "ipython3",
   "version": "3.8.8"
  }
 },
 "nbformat": 4,
 "nbformat_minor": 5
}
