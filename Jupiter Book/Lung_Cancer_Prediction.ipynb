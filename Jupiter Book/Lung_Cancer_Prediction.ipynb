{
  "cells": [
    {
      "cell_type": "markdown",
      "id": "ab84cc61",
      "metadata": {
        "_kg_hide-input": false,
        "papermill": {
          "duration": 0.02934,
          "end_time": "2021-10-21T12:46:56.990243",
          "exception": false,
          "start_time": "2021-10-21T12:46:56.960903",
          "status": "completed"
        },
        "tags": [],
        "id": "ab84cc61"
      },
      "source": [
        "# <html>\n",
        "<div  style=\"background-color:w; color:#636363;border:#63b365; border-width:5px;border-radius:10px 10px; border-style:solid;\">\n",
        "\n",
        "    \n",
        "<p><center><img src=\"https://drive.google.com/thumbnail?id=1yPGYO8HkTanlqsIXozDIUvUVuvawAdG_\" width =\"6%\"  /><font size=8> <b>Lung Cancer Prediction</b></font> </p>\n",
        "\n",
        "\n",
        "</div>"
      ]
    },
    {
      "cell_type": "code",
      "execution_count": null,
      "id": "634538f9",
      "metadata": {
        "execution": {
          "iopub.execute_input": "2021-10-21T12:46:57.095284Z",
          "iopub.status.busy": "2021-10-21T12:46:57.094046Z",
          "iopub.status.idle": "2021-10-21T12:47:00.008418Z",
          "shell.execute_reply": "2021-10-21T12:47:00.007490Z",
          "shell.execute_reply.started": "2021-10-21T12:43:29.894271Z"
        },
        "papermill": {
          "duration": 2.943039,
          "end_time": "2021-10-21T12:47:00.008623",
          "exception": false,
          "start_time": "2021-10-21T12:46:57.065584",
          "status": "completed"
        },
        "tags": [],
        "id": "634538f9"
      },
      "outputs": [],
      "source": [
        "# Data Manipulation:\n",
        "import pandas as pd\n",
        "import matplotlib as mpl\n",
        "import seaborn as sns \n",
        "\n",
        "\n",
        "\n",
        "# Visualization:\n",
        "import matplotlib.pyplot as plt\n",
        "import plotly.express as px\n",
        "\n",
        "# Data tratament :\n",
        "from sklearn.preprocessing import StandardScaler \n",
        "from collections import Counter\n",
        "from sklearn.model_selection import train_test_split\n",
        "\n",
        "# Models:\n",
        "from sklearn.linear_model import LogisticRegression,RidgeClassifier,SGDClassifier,PassiveAggressiveClassifier\n",
        "from sklearn.linear_model import Perceptron\n",
        "from sklearn.svm import SVC,LinearSVC,NuSVC\n",
        "from sklearn.neighbors import KNeighborsClassifier,NearestCentroid\n",
        "from sklearn.tree import DecisionTreeClassifier\n",
        "from sklearn.ensemble import RandomForestClassifier,AdaBoostClassifier,GradientBoostingClassifier\n",
        "from sklearn.naive_bayes import GaussianNB,BernoulliNB\n",
        "from sklearn.ensemble import VotingClassifier\n",
        "\n",
        "# Evolution:\n",
        "from sklearn.metrics import precision_score,accuracy_score\n",
        "from sklearn.model_selection import RandomizedSearchCV,GridSearchCV,RepeatedStratifiedKFold"
      ]
    },
    {
      "cell_type": "markdown",
      "id": "defe4657",
      "metadata": {
        "papermill": {
          "duration": 0.02471,
          "end_time": "2021-10-21T12:47:00.059927",
          "exception": false,
          "start_time": "2021-10-21T12:47:00.035217",
          "status": "completed"
        },
        "tags": [],
        "id": "defe4657"
      },
      "source": [
        "# <span style=\"color:#32936f;\"> <center>Importing Dataset </span>"
      ]
    },
    {
      "cell_type": "code",
      "execution_count": null,
      "id": "e76dfc88",
      "metadata": {
        "execution": {
          "iopub.execute_input": "2021-10-21T12:47:00.116592Z",
          "iopub.status.busy": "2021-10-21T12:47:00.115899Z",
          "iopub.status.idle": "2021-10-21T12:47:00.156195Z",
          "shell.execute_reply": "2021-10-21T12:47:00.156792Z",
          "shell.execute_reply.started": "2021-10-21T12:14:14.876100Z"
        },
        "papermill": {
          "duration": 0.071943,
          "end_time": "2021-10-21T12:47:00.157012",
          "exception": false,
          "start_time": "2021-10-21T12:47:00.085069",
          "status": "completed"
        },
        "tags": [],
        "colab": {
          "base_uri": "https://localhost:8080/",
          "height": 287
        },
        "id": "e76dfc88",
        "outputId": "f15ac53d-26da-4433-bdbd-136f43d22154"
      },
      "outputs": [
        {
          "output_type": "execute_result",
          "data": {
            "text/html": [
              "\n",
              "  <div id=\"df-c9a38fe2-96e7-4220-81bb-a2758412171e\">\n",
              "    <div class=\"colab-df-container\">\n",
              "      <div>\n",
              "<style scoped>\n",
              "    .dataframe tbody tr th:only-of-type {\n",
              "        vertical-align: middle;\n",
              "    }\n",
              "\n",
              "    .dataframe tbody tr th {\n",
              "        vertical-align: top;\n",
              "    }\n",
              "\n",
              "    .dataframe thead th {\n",
              "        text-align: right;\n",
              "    }\n",
              "</style>\n",
              "<table border=\"1\" class=\"dataframe\">\n",
              "  <thead>\n",
              "    <tr style=\"text-align: right;\">\n",
              "      <th></th>\n",
              "      <th>GENDER</th>\n",
              "      <th>AGE</th>\n",
              "      <th>SMOKING</th>\n",
              "      <th>YELLOW_FINGERS</th>\n",
              "      <th>ANXIETY</th>\n",
              "      <th>PEER_PRESSURE</th>\n",
              "      <th>CHRONIC DISEASE</th>\n",
              "      <th>FATIGUE</th>\n",
              "      <th>ALLERGY</th>\n",
              "      <th>WHEEZING</th>\n",
              "      <th>ALCOHOL CONSUMING</th>\n",
              "      <th>COUGHING</th>\n",
              "      <th>SHORTNESS OF BREATH</th>\n",
              "      <th>SWALLOWING DIFFICULTY</th>\n",
              "      <th>CHEST PAIN</th>\n",
              "      <th>LUNG_CANCER</th>\n",
              "    </tr>\n",
              "  </thead>\n",
              "  <tbody>\n",
              "    <tr>\n",
              "      <th>0</th>\n",
              "      <td>M</td>\n",
              "      <td>69</td>\n",
              "      <td>1</td>\n",
              "      <td>2</td>\n",
              "      <td>2</td>\n",
              "      <td>1</td>\n",
              "      <td>1</td>\n",
              "      <td>2</td>\n",
              "      <td>1</td>\n",
              "      <td>2</td>\n",
              "      <td>2</td>\n",
              "      <td>2</td>\n",
              "      <td>2</td>\n",
              "      <td>2</td>\n",
              "      <td>2</td>\n",
              "      <td>YES</td>\n",
              "    </tr>\n",
              "    <tr>\n",
              "      <th>1</th>\n",
              "      <td>M</td>\n",
              "      <td>74</td>\n",
              "      <td>2</td>\n",
              "      <td>1</td>\n",
              "      <td>1</td>\n",
              "      <td>1</td>\n",
              "      <td>2</td>\n",
              "      <td>2</td>\n",
              "      <td>2</td>\n",
              "      <td>1</td>\n",
              "      <td>1</td>\n",
              "      <td>1</td>\n",
              "      <td>2</td>\n",
              "      <td>2</td>\n",
              "      <td>2</td>\n",
              "      <td>YES</td>\n",
              "    </tr>\n",
              "    <tr>\n",
              "      <th>2</th>\n",
              "      <td>F</td>\n",
              "      <td>59</td>\n",
              "      <td>1</td>\n",
              "      <td>1</td>\n",
              "      <td>1</td>\n",
              "      <td>2</td>\n",
              "      <td>1</td>\n",
              "      <td>2</td>\n",
              "      <td>1</td>\n",
              "      <td>2</td>\n",
              "      <td>1</td>\n",
              "      <td>2</td>\n",
              "      <td>2</td>\n",
              "      <td>1</td>\n",
              "      <td>2</td>\n",
              "      <td>NO</td>\n",
              "    </tr>\n",
              "    <tr>\n",
              "      <th>3</th>\n",
              "      <td>M</td>\n",
              "      <td>63</td>\n",
              "      <td>2</td>\n",
              "      <td>2</td>\n",
              "      <td>2</td>\n",
              "      <td>1</td>\n",
              "      <td>1</td>\n",
              "      <td>1</td>\n",
              "      <td>1</td>\n",
              "      <td>1</td>\n",
              "      <td>2</td>\n",
              "      <td>1</td>\n",
              "      <td>1</td>\n",
              "      <td>2</td>\n",
              "      <td>2</td>\n",
              "      <td>NO</td>\n",
              "    </tr>\n",
              "    <tr>\n",
              "      <th>4</th>\n",
              "      <td>F</td>\n",
              "      <td>63</td>\n",
              "      <td>1</td>\n",
              "      <td>2</td>\n",
              "      <td>1</td>\n",
              "      <td>1</td>\n",
              "      <td>1</td>\n",
              "      <td>1</td>\n",
              "      <td>1</td>\n",
              "      <td>2</td>\n",
              "      <td>1</td>\n",
              "      <td>2</td>\n",
              "      <td>2</td>\n",
              "      <td>1</td>\n",
              "      <td>1</td>\n",
              "      <td>NO</td>\n",
              "    </tr>\n",
              "  </tbody>\n",
              "</table>\n",
              "</div>\n",
              "      <button class=\"colab-df-convert\" onclick=\"convertToInteractive('df-c9a38fe2-96e7-4220-81bb-a2758412171e')\"\n",
              "              title=\"Convert this dataframe to an interactive table.\"\n",
              "              style=\"display:none;\">\n",
              "        \n",
              "  <svg xmlns=\"http://www.w3.org/2000/svg\" height=\"24px\"viewBox=\"0 0 24 24\"\n",
              "       width=\"24px\">\n",
              "    <path d=\"M0 0h24v24H0V0z\" fill=\"none\"/>\n",
              "    <path d=\"M18.56 5.44l.94 2.06.94-2.06 2.06-.94-2.06-.94-.94-2.06-.94 2.06-2.06.94zm-11 1L8.5 8.5l.94-2.06 2.06-.94-2.06-.94L8.5 2.5l-.94 2.06-2.06.94zm10 10l.94 2.06.94-2.06 2.06-.94-2.06-.94-.94-2.06-.94 2.06-2.06.94z\"/><path d=\"M17.41 7.96l-1.37-1.37c-.4-.4-.92-.59-1.43-.59-.52 0-1.04.2-1.43.59L10.3 9.45l-7.72 7.72c-.78.78-.78 2.05 0 2.83L4 21.41c.39.39.9.59 1.41.59.51 0 1.02-.2 1.41-.59l7.78-7.78 2.81-2.81c.8-.78.8-2.07 0-2.86zM5.41 20L4 18.59l7.72-7.72 1.47 1.35L5.41 20z\"/>\n",
              "  </svg>\n",
              "      </button>\n",
              "      \n",
              "  <style>\n",
              "    .colab-df-container {\n",
              "      display:flex;\n",
              "      flex-wrap:wrap;\n",
              "      gap: 12px;\n",
              "    }\n",
              "\n",
              "    .colab-df-convert {\n",
              "      background-color: #E8F0FE;\n",
              "      border: none;\n",
              "      border-radius: 50%;\n",
              "      cursor: pointer;\n",
              "      display: none;\n",
              "      fill: #1967D2;\n",
              "      height: 32px;\n",
              "      padding: 0 0 0 0;\n",
              "      width: 32px;\n",
              "    }\n",
              "\n",
              "    .colab-df-convert:hover {\n",
              "      background-color: #E2EBFA;\n",
              "      box-shadow: 0px 1px 2px rgba(60, 64, 67, 0.3), 0px 1px 3px 1px rgba(60, 64, 67, 0.15);\n",
              "      fill: #174EA6;\n",
              "    }\n",
              "\n",
              "    [theme=dark] .colab-df-convert {\n",
              "      background-color: #3B4455;\n",
              "      fill: #D2E3FC;\n",
              "    }\n",
              "\n",
              "    [theme=dark] .colab-df-convert:hover {\n",
              "      background-color: #434B5C;\n",
              "      box-shadow: 0px 1px 3px 1px rgba(0, 0, 0, 0.15);\n",
              "      filter: drop-shadow(0px 1px 2px rgba(0, 0, 0, 0.3));\n",
              "      fill: #FFFFFF;\n",
              "    }\n",
              "  </style>\n",
              "\n",
              "      <script>\n",
              "        const buttonEl =\n",
              "          document.querySelector('#df-c9a38fe2-96e7-4220-81bb-a2758412171e button.colab-df-convert');\n",
              "        buttonEl.style.display =\n",
              "          google.colab.kernel.accessAllowed ? 'block' : 'none';\n",
              "\n",
              "        async function convertToInteractive(key) {\n",
              "          const element = document.querySelector('#df-c9a38fe2-96e7-4220-81bb-a2758412171e');\n",
              "          const dataTable =\n",
              "            await google.colab.kernel.invokeFunction('convertToInteractive',\n",
              "                                                     [key], {});\n",
              "          if (!dataTable) return;\n",
              "\n",
              "          const docLinkHtml = 'Like what you see? Visit the ' +\n",
              "            '<a target=\"_blank\" href=https://colab.research.google.com/notebooks/data_table.ipynb>data table notebook</a>'\n",
              "            + ' to learn more about interactive tables.';\n",
              "          element.innerHTML = '';\n",
              "          dataTable['output_type'] = 'display_data';\n",
              "          await google.colab.output.renderOutput(dataTable, element);\n",
              "          const docLink = document.createElement('div');\n",
              "          docLink.innerHTML = docLinkHtml;\n",
              "          element.appendChild(docLink);\n",
              "        }\n",
              "      </script>\n",
              "    </div>\n",
              "  </div>\n",
              "  "
            ],
            "text/plain": [
              "  GENDER  AGE  SMOKING  ...  SWALLOWING DIFFICULTY  CHEST PAIN  LUNG_CANCER\n",
              "0      M   69        1  ...                      2           2          YES\n",
              "1      M   74        2  ...                      2           2          YES\n",
              "2      F   59        1  ...                      1           2           NO\n",
              "3      M   63        2  ...                      2           2           NO\n",
              "4      F   63        1  ...                      1           1           NO\n",
              "\n",
              "[5 rows x 16 columns]"
            ]
          },
          "metadata": {},
          "execution_count": 2
        }
      ],
      "source": [
        "data = pd.read_csv(\"/content/survey lung cancer.csv\")\n",
        "data.head()"
      ]
    },
    {
      "cell_type": "code",
      "execution_count": null,
      "id": "61d53aab",
      "metadata": {
        "execution": {
          "iopub.execute_input": "2021-10-21T12:47:00.212525Z",
          "iopub.status.busy": "2021-10-21T12:47:00.211615Z",
          "iopub.status.idle": "2021-10-21T12:47:00.235817Z",
          "shell.execute_reply": "2021-10-21T12:47:00.236714Z",
          "shell.execute_reply.started": "2021-10-21T12:14:14.918773Z"
        },
        "papermill": {
          "duration": 0.054043,
          "end_time": "2021-10-21T12:47:00.237063",
          "exception": false,
          "start_time": "2021-10-21T12:47:00.183020",
          "status": "completed"
        },
        "tags": [],
        "colab": {
          "base_uri": "https://localhost:8080/"
        },
        "id": "61d53aab",
        "outputId": "63f8bdf9-1c9f-441a-8a55-c7e51743ede2"
      },
      "outputs": [
        {
          "output_type": "stream",
          "name": "stdout",
          "text": [
            "<class 'pandas.core.frame.DataFrame'>\n",
            "RangeIndex: 309 entries, 0 to 308\n",
            "Data columns (total 16 columns):\n",
            " #   Column                 Non-Null Count  Dtype \n",
            "---  ------                 --------------  ----- \n",
            " 0   GENDER                 309 non-null    object\n",
            " 1   AGE                    309 non-null    int64 \n",
            " 2   SMOKING                309 non-null    int64 \n",
            " 3   YELLOW_FINGERS         309 non-null    int64 \n",
            " 4   ANXIETY                309 non-null    int64 \n",
            " 5   PEER_PRESSURE          309 non-null    int64 \n",
            " 6   CHRONIC DISEASE        309 non-null    int64 \n",
            " 7   FATIGUE                309 non-null    int64 \n",
            " 8   ALLERGY                309 non-null    int64 \n",
            " 9   WHEEZING               309 non-null    int64 \n",
            " 10  ALCOHOL CONSUMING      309 non-null    int64 \n",
            " 11  COUGHING               309 non-null    int64 \n",
            " 12  SHORTNESS OF BREATH    309 non-null    int64 \n",
            " 13  SWALLOWING DIFFICULTY  309 non-null    int64 \n",
            " 14  CHEST PAIN             309 non-null    int64 \n",
            " 15  LUNG_CANCER            309 non-null    object\n",
            "dtypes: int64(14), object(2)\n",
            "memory usage: 38.8+ KB\n"
          ]
        }
      ],
      "source": [
        "data.info()"
      ]
    },
    {
      "cell_type": "code",
      "execution_count": null,
      "id": "ecdbe86c",
      "metadata": {
        "execution": {
          "iopub.execute_input": "2021-10-21T12:47:00.295222Z",
          "iopub.status.busy": "2021-10-21T12:47:00.294503Z",
          "iopub.status.idle": "2021-10-21T12:47:00.347975Z",
          "shell.execute_reply": "2021-10-21T12:47:00.348490Z",
          "shell.execute_reply.started": "2021-10-21T12:14:14.937991Z"
        },
        "papermill": {
          "duration": 0.08374,
          "end_time": "2021-10-21T12:47:00.348727",
          "exception": false,
          "start_time": "2021-10-21T12:47:00.264987",
          "status": "completed"
        },
        "tags": [],
        "colab": {
          "base_uri": "https://localhost:8080/",
          "height": 382
        },
        "id": "ecdbe86c",
        "outputId": "2db4d433-d712-4a76-fdc8-a178895345c5"
      },
      "outputs": [
        {
          "output_type": "execute_result",
          "data": {
            "text/html": [
              "\n",
              "  <div id=\"df-9cbc5b0e-0172-4b63-b01a-0f7785b75a09\">\n",
              "    <div class=\"colab-df-container\">\n",
              "      <div>\n",
              "<style scoped>\n",
              "    .dataframe tbody tr th:only-of-type {\n",
              "        vertical-align: middle;\n",
              "    }\n",
              "\n",
              "    .dataframe tbody tr th {\n",
              "        vertical-align: top;\n",
              "    }\n",
              "\n",
              "    .dataframe thead th {\n",
              "        text-align: right;\n",
              "    }\n",
              "</style>\n",
              "<table border=\"1\" class=\"dataframe\">\n",
              "  <thead>\n",
              "    <tr style=\"text-align: right;\">\n",
              "      <th></th>\n",
              "      <th>AGE</th>\n",
              "      <th>SMOKING</th>\n",
              "      <th>YELLOW_FINGERS</th>\n",
              "      <th>ANXIETY</th>\n",
              "      <th>PEER_PRESSURE</th>\n",
              "      <th>CHRONIC DISEASE</th>\n",
              "      <th>FATIGUE</th>\n",
              "      <th>ALLERGY</th>\n",
              "      <th>WHEEZING</th>\n",
              "      <th>ALCOHOL CONSUMING</th>\n",
              "      <th>COUGHING</th>\n",
              "      <th>SHORTNESS OF BREATH</th>\n",
              "      <th>SWALLOWING DIFFICULTY</th>\n",
              "      <th>CHEST PAIN</th>\n",
              "    </tr>\n",
              "  </thead>\n",
              "  <tbody>\n",
              "    <tr>\n",
              "      <th>count</th>\n",
              "      <td>309.000000</td>\n",
              "      <td>309.000000</td>\n",
              "      <td>309.000000</td>\n",
              "      <td>309.000000</td>\n",
              "      <td>309.000000</td>\n",
              "      <td>309.000000</td>\n",
              "      <td>309.000000</td>\n",
              "      <td>309.000000</td>\n",
              "      <td>309.000000</td>\n",
              "      <td>309.000000</td>\n",
              "      <td>309.000000</td>\n",
              "      <td>309.000000</td>\n",
              "      <td>309.000000</td>\n",
              "      <td>309.000000</td>\n",
              "    </tr>\n",
              "    <tr>\n",
              "      <th>mean</th>\n",
              "      <td>62.673139</td>\n",
              "      <td>1.563107</td>\n",
              "      <td>1.569579</td>\n",
              "      <td>1.498382</td>\n",
              "      <td>1.501618</td>\n",
              "      <td>1.504854</td>\n",
              "      <td>1.673139</td>\n",
              "      <td>1.556634</td>\n",
              "      <td>1.556634</td>\n",
              "      <td>1.556634</td>\n",
              "      <td>1.579288</td>\n",
              "      <td>1.640777</td>\n",
              "      <td>1.469256</td>\n",
              "      <td>1.556634</td>\n",
              "    </tr>\n",
              "    <tr>\n",
              "      <th>std</th>\n",
              "      <td>8.210301</td>\n",
              "      <td>0.496806</td>\n",
              "      <td>0.495938</td>\n",
              "      <td>0.500808</td>\n",
              "      <td>0.500808</td>\n",
              "      <td>0.500787</td>\n",
              "      <td>0.469827</td>\n",
              "      <td>0.497588</td>\n",
              "      <td>0.497588</td>\n",
              "      <td>0.497588</td>\n",
              "      <td>0.494474</td>\n",
              "      <td>0.480551</td>\n",
              "      <td>0.499863</td>\n",
              "      <td>0.497588</td>\n",
              "    </tr>\n",
              "    <tr>\n",
              "      <th>min</th>\n",
              "      <td>21.000000</td>\n",
              "      <td>1.000000</td>\n",
              "      <td>1.000000</td>\n",
              "      <td>1.000000</td>\n",
              "      <td>1.000000</td>\n",
              "      <td>1.000000</td>\n",
              "      <td>1.000000</td>\n",
              "      <td>1.000000</td>\n",
              "      <td>1.000000</td>\n",
              "      <td>1.000000</td>\n",
              "      <td>1.000000</td>\n",
              "      <td>1.000000</td>\n",
              "      <td>1.000000</td>\n",
              "      <td>1.000000</td>\n",
              "    </tr>\n",
              "    <tr>\n",
              "      <th>25%</th>\n",
              "      <td>57.000000</td>\n",
              "      <td>1.000000</td>\n",
              "      <td>1.000000</td>\n",
              "      <td>1.000000</td>\n",
              "      <td>1.000000</td>\n",
              "      <td>1.000000</td>\n",
              "      <td>1.000000</td>\n",
              "      <td>1.000000</td>\n",
              "      <td>1.000000</td>\n",
              "      <td>1.000000</td>\n",
              "      <td>1.000000</td>\n",
              "      <td>1.000000</td>\n",
              "      <td>1.000000</td>\n",
              "      <td>1.000000</td>\n",
              "    </tr>\n",
              "    <tr>\n",
              "      <th>50%</th>\n",
              "      <td>62.000000</td>\n",
              "      <td>2.000000</td>\n",
              "      <td>2.000000</td>\n",
              "      <td>1.000000</td>\n",
              "      <td>2.000000</td>\n",
              "      <td>2.000000</td>\n",
              "      <td>2.000000</td>\n",
              "      <td>2.000000</td>\n",
              "      <td>2.000000</td>\n",
              "      <td>2.000000</td>\n",
              "      <td>2.000000</td>\n",
              "      <td>2.000000</td>\n",
              "      <td>1.000000</td>\n",
              "      <td>2.000000</td>\n",
              "    </tr>\n",
              "    <tr>\n",
              "      <th>75%</th>\n",
              "      <td>69.000000</td>\n",
              "      <td>2.000000</td>\n",
              "      <td>2.000000</td>\n",
              "      <td>2.000000</td>\n",
              "      <td>2.000000</td>\n",
              "      <td>2.000000</td>\n",
              "      <td>2.000000</td>\n",
              "      <td>2.000000</td>\n",
              "      <td>2.000000</td>\n",
              "      <td>2.000000</td>\n",
              "      <td>2.000000</td>\n",
              "      <td>2.000000</td>\n",
              "      <td>2.000000</td>\n",
              "      <td>2.000000</td>\n",
              "    </tr>\n",
              "    <tr>\n",
              "      <th>max</th>\n",
              "      <td>87.000000</td>\n",
              "      <td>2.000000</td>\n",
              "      <td>2.000000</td>\n",
              "      <td>2.000000</td>\n",
              "      <td>2.000000</td>\n",
              "      <td>2.000000</td>\n",
              "      <td>2.000000</td>\n",
              "      <td>2.000000</td>\n",
              "      <td>2.000000</td>\n",
              "      <td>2.000000</td>\n",
              "      <td>2.000000</td>\n",
              "      <td>2.000000</td>\n",
              "      <td>2.000000</td>\n",
              "      <td>2.000000</td>\n",
              "    </tr>\n",
              "  </tbody>\n",
              "</table>\n",
              "</div>\n",
              "      <button class=\"colab-df-convert\" onclick=\"convertToInteractive('df-9cbc5b0e-0172-4b63-b01a-0f7785b75a09')\"\n",
              "              title=\"Convert this dataframe to an interactive table.\"\n",
              "              style=\"display:none;\">\n",
              "        \n",
              "  <svg xmlns=\"http://www.w3.org/2000/svg\" height=\"24px\"viewBox=\"0 0 24 24\"\n",
              "       width=\"24px\">\n",
              "    <path d=\"M0 0h24v24H0V0z\" fill=\"none\"/>\n",
              "    <path d=\"M18.56 5.44l.94 2.06.94-2.06 2.06-.94-2.06-.94-.94-2.06-.94 2.06-2.06.94zm-11 1L8.5 8.5l.94-2.06 2.06-.94-2.06-.94L8.5 2.5l-.94 2.06-2.06.94zm10 10l.94 2.06.94-2.06 2.06-.94-2.06-.94-.94-2.06-.94 2.06-2.06.94z\"/><path d=\"M17.41 7.96l-1.37-1.37c-.4-.4-.92-.59-1.43-.59-.52 0-1.04.2-1.43.59L10.3 9.45l-7.72 7.72c-.78.78-.78 2.05 0 2.83L4 21.41c.39.39.9.59 1.41.59.51 0 1.02-.2 1.41-.59l7.78-7.78 2.81-2.81c.8-.78.8-2.07 0-2.86zM5.41 20L4 18.59l7.72-7.72 1.47 1.35L5.41 20z\"/>\n",
              "  </svg>\n",
              "      </button>\n",
              "      \n",
              "  <style>\n",
              "    .colab-df-container {\n",
              "      display:flex;\n",
              "      flex-wrap:wrap;\n",
              "      gap: 12px;\n",
              "    }\n",
              "\n",
              "    .colab-df-convert {\n",
              "      background-color: #E8F0FE;\n",
              "      border: none;\n",
              "      border-radius: 50%;\n",
              "      cursor: pointer;\n",
              "      display: none;\n",
              "      fill: #1967D2;\n",
              "      height: 32px;\n",
              "      padding: 0 0 0 0;\n",
              "      width: 32px;\n",
              "    }\n",
              "\n",
              "    .colab-df-convert:hover {\n",
              "      background-color: #E2EBFA;\n",
              "      box-shadow: 0px 1px 2px rgba(60, 64, 67, 0.3), 0px 1px 3px 1px rgba(60, 64, 67, 0.15);\n",
              "      fill: #174EA6;\n",
              "    }\n",
              "\n",
              "    [theme=dark] .colab-df-convert {\n",
              "      background-color: #3B4455;\n",
              "      fill: #D2E3FC;\n",
              "    }\n",
              "\n",
              "    [theme=dark] .colab-df-convert:hover {\n",
              "      background-color: #434B5C;\n",
              "      box-shadow: 0px 1px 3px 1px rgba(0, 0, 0, 0.15);\n",
              "      filter: drop-shadow(0px 1px 2px rgba(0, 0, 0, 0.3));\n",
              "      fill: #FFFFFF;\n",
              "    }\n",
              "  </style>\n",
              "\n",
              "      <script>\n",
              "        const buttonEl =\n",
              "          document.querySelector('#df-9cbc5b0e-0172-4b63-b01a-0f7785b75a09 button.colab-df-convert');\n",
              "        buttonEl.style.display =\n",
              "          google.colab.kernel.accessAllowed ? 'block' : 'none';\n",
              "\n",
              "        async function convertToInteractive(key) {\n",
              "          const element = document.querySelector('#df-9cbc5b0e-0172-4b63-b01a-0f7785b75a09');\n",
              "          const dataTable =\n",
              "            await google.colab.kernel.invokeFunction('convertToInteractive',\n",
              "                                                     [key], {});\n",
              "          if (!dataTable) return;\n",
              "\n",
              "          const docLinkHtml = 'Like what you see? Visit the ' +\n",
              "            '<a target=\"_blank\" href=https://colab.research.google.com/notebooks/data_table.ipynb>data table notebook</a>'\n",
              "            + ' to learn more about interactive tables.';\n",
              "          element.innerHTML = '';\n",
              "          dataTable['output_type'] = 'display_data';\n",
              "          await google.colab.output.renderOutput(dataTable, element);\n",
              "          const docLink = document.createElement('div');\n",
              "          docLink.innerHTML = docLinkHtml;\n",
              "          element.appendChild(docLink);\n",
              "        }\n",
              "      </script>\n",
              "    </div>\n",
              "  </div>\n",
              "  "
            ],
            "text/plain": [
              "              AGE     SMOKING  ...  SWALLOWING DIFFICULTY  CHEST PAIN\n",
              "count  309.000000  309.000000  ...             309.000000  309.000000\n",
              "mean    62.673139    1.563107  ...               1.469256    1.556634\n",
              "std      8.210301    0.496806  ...               0.499863    0.497588\n",
              "min     21.000000    1.000000  ...               1.000000    1.000000\n",
              "25%     57.000000    1.000000  ...               1.000000    1.000000\n",
              "50%     62.000000    2.000000  ...               1.000000    2.000000\n",
              "75%     69.000000    2.000000  ...               2.000000    2.000000\n",
              "max     87.000000    2.000000  ...               2.000000    2.000000\n",
              "\n",
              "[8 rows x 14 columns]"
            ]
          },
          "metadata": {},
          "execution_count": 4
        }
      ],
      "source": [
        "data.describe()"
      ]
    },
    {
      "cell_type": "markdown",
      "id": "295a2852",
      "metadata": {
        "papermill": {
          "duration": 0.026257,
          "end_time": "2021-10-21T12:47:00.401721",
          "exception": false,
          "start_time": "2021-10-21T12:47:00.375464",
          "status": "completed"
        },
        "tags": [],
        "id": "295a2852"
      },
      "source": [
        "<div  style=\"background-color:w; color:#636363;border:indianred; border-width:2px; border-style:solid;\">\n",
        "\n",
        "   \n",
        "<p ><font size=4><b>Note:</font> </p>\n",
        "<p><font size = 4>\n",
        "There isn't null values in dataset\n",
        "    The data \"GENDER\" and \"LUNG_CANCER\" are objects : transform to numerc values \n",
        "</p>\n",
        "</div>"
      ]
    },
    {
      "cell_type": "markdown",
      "id": "7190d844",
      "metadata": {
        "papermill": {
          "duration": 0.025992,
          "end_time": "2021-10-21T12:47:00.454047",
          "exception": false,
          "start_time": "2021-10-21T12:47:00.428055",
          "status": "completed"
        },
        "tags": [],
        "id": "7190d844"
      },
      "source": [
        "# <span style=\"color:#32936f;\"> <center>Data Visualization </span>"
      ]
    },
    {
      "cell_type": "code",
      "execution_count": null,
      "id": "44b6ffce",
      "metadata": {
        "execution": {
          "iopub.execute_input": "2021-10-21T12:47:00.513502Z",
          "iopub.status.busy": "2021-10-21T12:47:00.512728Z",
          "iopub.status.idle": "2021-10-21T12:47:03.639871Z",
          "shell.execute_reply": "2021-10-21T12:47:03.640382Z",
          "shell.execute_reply.started": "2021-10-21T12:14:14.993654Z"
        },
        "papermill": {
          "duration": 3.160203,
          "end_time": "2021-10-21T12:47:03.640573",
          "exception": false,
          "start_time": "2021-10-21T12:47:00.480370",
          "status": "completed"
        },
        "tags": [],
        "colab": {
          "base_uri": "https://localhost:8080/",
          "height": 1000
        },
        "id": "44b6ffce",
        "outputId": "62813853-ed89-4949-dacb-d12f6faf52a2"
      },
      "outputs": [
        {
          "output_type": "execute_result",
          "data": {
            "text/plain": [
              "array([[<matplotlib.axes._subplots.AxesSubplot object at 0x7fbb67462650>,\n",
              "        <matplotlib.axes._subplots.AxesSubplot object at 0x7fbb6743ccd0>,\n",
              "        <matplotlib.axes._subplots.AxesSubplot object at 0x7fbb67400350>,\n",
              "        <matplotlib.axes._subplots.AxesSubplot object at 0x7fbb673aee90>],\n",
              "       [<matplotlib.axes._subplots.AxesSubplot object at 0x7fbb673704d0>,\n",
              "        <matplotlib.axes._subplots.AxesSubplot object at 0x7fbb67326ad0>,\n",
              "        <matplotlib.axes._subplots.AxesSubplot object at 0x7fbb672ec190>,\n",
              "        <matplotlib.axes._subplots.AxesSubplot object at 0x7fbb672a26d0>],\n",
              "       [<matplotlib.axes._subplots.AxesSubplot object at 0x7fbb672a2710>,\n",
              "        <matplotlib.axes._subplots.AxesSubplot object at 0x7fbb672d8e10>,\n",
              "        <matplotlib.axes._subplots.AxesSubplot object at 0x7fbb67251950>,\n",
              "        <matplotlib.axes._subplots.AxesSubplot object at 0x7fbb67207f50>],\n",
              "       [<matplotlib.axes._subplots.AxesSubplot object at 0x7fbb671c8590>,\n",
              "        <matplotlib.axes._subplots.AxesSubplot object at 0x7fbb67181b90>,\n",
              "        <matplotlib.axes._subplots.AxesSubplot object at 0x7fbb671431d0>,\n",
              "        <matplotlib.axes._subplots.AxesSubplot object at 0x7fbb670f97d0>]],\n",
              "      dtype=object)"
            ]
          },
          "metadata": {},
          "execution_count": 5
        },
        {
          "output_type": "display_data",
          "data": {
            "image/png": "[encoded data removed]",
            "text/plain": [
              "<Figure size 1800x1800 with 16 Axes>"
            ]
          },
          "metadata": {}
        }
      ],
      "source": [
        "plt.style.use(\"seaborn\")\n",
        "data.hist(figsize=(25,25), bins=15)"
      ]
    },
    {
      "cell_type": "code",
      "execution_count": null,
      "id": "47278545",
      "metadata": {
        "execution": {
          "iopub.execute_input": "2021-10-21T12:47:03.717238Z",
          "iopub.status.busy": "2021-10-21T12:47:03.709896Z",
          "iopub.status.idle": "2021-10-21T12:47:04.067800Z",
          "shell.execute_reply": "2021-10-21T12:47:04.067261Z",
          "shell.execute_reply.started": "2021-10-21T12:14:17.779323Z"
        },
        "papermill": {
          "duration": 0.396503,
          "end_time": "2021-10-21T12:47:04.067956",
          "exception": false,
          "start_time": "2021-10-21T12:47:03.671453",
          "status": "completed"
        },
        "tags": [],
        "colab": {
          "base_uri": "https://localhost:8080/",
          "height": 551
        },
        "id": "47278545",
        "outputId": "fae1da56-3eca-45da-aa77-7257a441a211"
      },
      "outputs": [
        {
          "output_type": "display_data",
          "data": {
            "image/png": "[encoded data removed]",
            "text/plain": [
              "<Figure size 648x648 with 1 Axes>"
            ]
          },
          "metadata": {}
        }
      ],
      "source": [
        "plt.figure(figsize=(9,9))\n",
        "sns.histplot(data[['AGE', 'LUNG_CANCER']], x = \"AGE\", hue=\"LUNG_CANCER\")\n",
        "plt.title(\"\")\n",
        "plt.show()"
      ]
    },
    {
      "cell_type": "code",
      "execution_count": null,
      "id": "053cdf2b",
      "metadata": {
        "execution": {
          "iopub.execute_input": "2021-10-21T12:47:04.135142Z",
          "iopub.status.busy": "2021-10-21T12:47:04.134480Z",
          "iopub.status.idle": "2021-10-21T12:47:04.495911Z",
          "shell.execute_reply": "2021-10-21T12:47:04.496429Z",
          "shell.execute_reply.started": "2021-10-21T12:14:18.172606Z"
        },
        "papermill": {
          "duration": 0.398971,
          "end_time": "2021-10-21T12:47:04.496603",
          "exception": false,
          "start_time": "2021-10-21T12:47:04.097632",
          "status": "completed"
        },
        "tags": [],
        "colab": {
          "base_uri": "https://localhost:8080/",
          "height": 551
        },
        "id": "053cdf2b",
        "outputId": "462de266-2c97-4ca9-ab6b-3254d08a1fcb"
      },
      "outputs": [
        {
          "output_type": "display_data",
          "data": {
            "image/png": "[encoded data removed]",
            "text/plain": [
              "<Figure size 648x648 with 1 Axes>"
            ]
          },
          "metadata": {}
        }
      ],
      "source": [
        "plt.figure(figsize=(9,9))\n",
        "sns.histplot(data[['AGE', 'GENDER']], x = \"AGE\", hue=\"GENDER\")\n",
        "plt.title(\"\")\n",
        "plt.show()"
      ]
    },
    {
      "cell_type": "code",
      "execution_count": null,
      "id": "60324e8b",
      "metadata": {
        "execution": {
          "iopub.execute_input": "2021-10-21T12:47:04.587625Z",
          "iopub.status.busy": "2021-10-21T12:47:04.576427Z",
          "iopub.status.idle": "2021-10-21T12:47:04.814993Z",
          "shell.execute_reply": "2021-10-21T12:47:04.814237Z",
          "shell.execute_reply.started": "2021-10-21T12:14:18.557351Z"
        },
        "papermill": {
          "duration": 0.288122,
          "end_time": "2021-10-21T12:47:04.815155",
          "exception": false,
          "start_time": "2021-10-21T12:47:04.527033",
          "status": "completed"
        },
        "tags": [],
        "colab": {
          "base_uri": "https://localhost:8080/",
          "height": 551
        },
        "id": "60324e8b",
        "outputId": "3ba8bb24-ba0d-4e62-9c12-93bb42278490"
      },
      "outputs": [
        {
          "output_type": "display_data",
          "data": {
            "image/png": "[encoded data removed]",
            "text/plain": [
              "<Figure size 648x648 with 1 Axes>"
            ]
          },
          "metadata": {}
        }
      ],
      "source": [
        "plt.style.use(\"seaborn\")\n",
        "plt.figure(figsize=(9,9))\n",
        "sns.histplot(data[['GENDER', 'LUNG_CANCER']], x = \"GENDER\", hue=\"LUNG_CANCER\")\n",
        "plt.title(\"\")\n",
        "plt.show()"
      ]
    },
    {
      "cell_type": "code",
      "execution_count": null,
      "id": "7393f0bb",
      "metadata": {
        "execution": {
          "iopub.execute_input": "2021-10-21T12:47:04.921791Z",
          "iopub.status.busy": "2021-10-21T12:47:04.903588Z",
          "iopub.status.idle": "2021-10-21T12:47:05.092310Z",
          "shell.execute_reply": "2021-10-21T12:47:05.091307Z",
          "shell.execute_reply.started": "2021-10-21T12:14:18.816607Z"
        },
        "papermill": {
          "duration": 0.244372,
          "end_time": "2021-10-21T12:47:05.092511",
          "exception": false,
          "start_time": "2021-10-21T12:47:04.848139",
          "status": "completed"
        },
        "tags": [],
        "colab": {
          "base_uri": "https://localhost:8080/",
          "height": 526
        },
        "id": "7393f0bb",
        "outputId": "bcb62881-36c9-4390-8b12-8d4fd3238816"
      },
      "outputs": [
        {
          "output_type": "display_data",
          "data": {
            "image/png": "[encoded data removed]",
            "text/plain": [
              "<Figure size 1080x576 with 1 Axes>"
            ]
          },
          "metadata": {}
        }
      ],
      "source": [
        "plt.style.use(\"seaborn\")\n",
        "plt.figure(figsize=(15,8))\n",
        "plt.title(\"Genders\", fontsize=20, y=1.02)\n",
        "sns.countplot(x = data.GENDER ,palette=\"crest\")\n",
        "plt.show()"
      ]
    },
    {
      "cell_type": "markdown",
      "id": "44762818",
      "metadata": {
        "papermill": {
          "duration": 0.033448,
          "end_time": "2021-10-21T12:47:05.159629",
          "exception": false,
          "start_time": "2021-10-21T12:47:05.126181",
          "status": "completed"
        },
        "tags": [],
        "id": "44762818"
      },
      "source": [
        "# <span style=\"color:#32936f;\"> <center>Data Tratament </span>"
      ]
    },
    {
      "cell_type": "markdown",
      "id": "dbf10f4b",
      "metadata": {
        "papermill": {
          "duration": 0.03313,
          "end_time": "2021-10-21T12:47:05.225613",
          "exception": false,
          "start_time": "2021-10-21T12:47:05.192483",
          "status": "completed"
        },
        "tags": [],
        "id": "dbf10f4b"
      },
      "source": [
        "<div  style=\"background-color:w; color:#636363;border:indianred; border-width:2px; border-style:solid;\">\n",
        "\n",
        "   \n",
        "<p ><font size=4><b>Note:</font> </p>\n",
        "<p><font size = 4>\n",
        "There are some columns where the values are object, we need transform this values in numerical \n",
        "</p>\n",
        "</div>"
      ]
    },
    {
      "cell_type": "code",
      "execution_count": null,
      "id": "cf28e4fb",
      "metadata": {
        "execution": {
          "iopub.execute_input": "2021-10-21T12:47:05.296037Z",
          "iopub.status.busy": "2021-10-21T12:47:05.295246Z",
          "iopub.status.idle": "2021-10-21T12:47:05.302972Z",
          "shell.execute_reply": "2021-10-21T12:47:05.302203Z",
          "shell.execute_reply.started": "2021-10-21T12:14:19.025816Z"
        },
        "papermill": {
          "duration": 0.044181,
          "end_time": "2021-10-21T12:47:05.303141",
          "exception": false,
          "start_time": "2021-10-21T12:47:05.258960",
          "status": "completed"
        },
        "tags": [],
        "id": "cf28e4fb"
      },
      "outputs": [],
      "source": [
        "data[\"GENDER\"] = data[\"GENDER\"].map({\"F\": 0, \"M\": 1})\n",
        "data['LUNG_CANCER']= data['LUNG_CANCER'].map({'NO':0, \"YES\":1})"
      ]
    },
    {
      "cell_type": "code",
      "execution_count": null,
      "id": "73cc2325",
      "metadata": {
        "execution": {
          "iopub.execute_input": "2021-10-21T12:47:05.385829Z",
          "iopub.status.busy": "2021-10-21T12:47:05.374696Z",
          "iopub.status.idle": "2021-10-21T12:47:05.388505Z",
          "shell.execute_reply": "2021-10-21T12:47:05.389054Z",
          "shell.execute_reply.started": "2021-10-21T12:14:19.035891Z"
        },
        "papermill": {
          "duration": 0.051029,
          "end_time": "2021-10-21T12:47:05.389260",
          "exception": false,
          "start_time": "2021-10-21T12:47:05.338231",
          "status": "completed"
        },
        "tags": [],
        "colab": {
          "base_uri": "https://localhost:8080/"
        },
        "id": "73cc2325",
        "outputId": "53b0ef5f-6a9c-4f8f-8da8-ca19fa2b90d2"
      },
      "outputs": [
        {
          "output_type": "stream",
          "name": "stdout",
          "text": [
            "<class 'pandas.core.frame.DataFrame'>\n",
            "RangeIndex: 309 entries, 0 to 308\n",
            "Data columns (total 16 columns):\n",
            " #   Column                 Non-Null Count  Dtype\n",
            "---  ------                 --------------  -----\n",
            " 0   GENDER                 309 non-null    int64\n",
            " 1   AGE                    309 non-null    int64\n",
            " 2   SMOKING                309 non-null    int64\n",
            " 3   YELLOW_FINGERS         309 non-null    int64\n",
            " 4   ANXIETY                309 non-null    int64\n",
            " 5   PEER_PRESSURE          309 non-null    int64\n",
            " 6   CHRONIC DISEASE        309 non-null    int64\n",
            " 7   FATIGUE                309 non-null    int64\n",
            " 8   ALLERGY                309 non-null    int64\n",
            " 9   WHEEZING               309 non-null    int64\n",
            " 10  ALCOHOL CONSUMING      309 non-null    int64\n",
            " 11  COUGHING               309 non-null    int64\n",
            " 12  SHORTNESS OF BREATH    309 non-null    int64\n",
            " 13  SWALLOWING DIFFICULTY  309 non-null    int64\n",
            " 14  CHEST PAIN             309 non-null    int64\n",
            " 15  LUNG_CANCER            309 non-null    int64\n",
            "dtypes: int64(16)\n",
            "memory usage: 38.8 KB\n"
          ]
        }
      ],
      "source": [
        "data.info()"
      ]
    },
    {
      "cell_type": "markdown",
      "id": "a867038a",
      "metadata": {
        "papermill": {
          "duration": 0.03431,
          "end_time": "2021-10-21T12:47:05.456700",
          "exception": false,
          "start_time": "2021-10-21T12:47:05.422390",
          "status": "completed"
        },
        "tags": [],
        "id": "a867038a"
      },
      "source": [
        "# <span style=\"color:#32936f;\"> Splitting the data </span>"
      ]
    },
    {
      "cell_type": "code",
      "execution_count": null,
      "id": "ff14944c",
      "metadata": {
        "execution": {
          "iopub.execute_input": "2021-10-21T12:47:05.530463Z",
          "iopub.status.busy": "2021-10-21T12:47:05.529522Z",
          "iopub.status.idle": "2021-10-21T12:47:05.533302Z",
          "shell.execute_reply": "2021-10-21T12:47:05.533809Z",
          "shell.execute_reply.started": "2021-10-21T12:14:19.061203Z"
        },
        "papermill": {
          "duration": 0.04334,
          "end_time": "2021-10-21T12:47:05.534029",
          "exception": false,
          "start_time": "2021-10-21T12:47:05.490689",
          "status": "completed"
        },
        "tags": [],
        "id": "ff14944c"
      },
      "outputs": [],
      "source": [
        "# X data \n",
        "X = data.drop(\"LUNG_CANCER\", axis = 1)"
      ]
    },
    {
      "cell_type": "code",
      "execution_count": null,
      "id": "85b95b2d",
      "metadata": {
        "execution": {
          "iopub.execute_input": "2021-10-21T12:47:05.609921Z",
          "iopub.status.busy": "2021-10-21T12:47:05.609094Z",
          "iopub.status.idle": "2021-10-21T12:47:05.611947Z",
          "shell.execute_reply": "2021-10-21T12:47:05.612454Z",
          "shell.execute_reply.started": "2021-10-21T12:14:19.076971Z"
        },
        "papermill": {
          "duration": 0.043725,
          "end_time": "2021-10-21T12:47:05.612668",
          "exception": false,
          "start_time": "2021-10-21T12:47:05.568943",
          "status": "completed"
        },
        "tags": [],
        "colab": {
          "base_uri": "https://localhost:8080/"
        },
        "id": "85b95b2d",
        "outputId": "bdce3960-df6e-4b2b-8876-71fe9a57e063"
      },
      "outputs": [
        {
          "output_type": "execute_result",
          "data": {
            "text/plain": [
              "0    1\n",
              "1    1\n",
              "2    0\n",
              "3    0\n",
              "4    0\n",
              "Name: LUNG_CANCER, dtype: int64"
            ]
          },
          "metadata": {},
          "execution_count": 13
        }
      ],
      "source": [
        "# y data \n",
        "y = data[\"LUNG_CANCER\"]\n",
        "y.head()"
      ]
    },
    {
      "cell_type": "code",
      "execution_count": null,
      "id": "a1d12677",
      "metadata": {
        "execution": {
          "iopub.execute_input": "2021-10-21T12:47:05.691863Z",
          "iopub.status.busy": "2021-10-21T12:47:05.690699Z",
          "iopub.status.idle": "2021-10-21T12:47:05.692718Z",
          "shell.execute_reply": "2021-10-21T12:47:05.693259Z",
          "shell.execute_reply.started": "2021-10-21T12:14:19.093286Z"
        },
        "papermill": {
          "duration": 0.047073,
          "end_time": "2021-10-21T12:47:05.693469",
          "exception": false,
          "start_time": "2021-10-21T12:47:05.646396",
          "status": "completed"
        },
        "tags": [],
        "id": "a1d12677"
      },
      "outputs": [],
      "source": [
        "x_train, x_test, y_train, y_test = train_test_split (X, y , test_size = 0.2, random_state = 35)"
      ]
    },
    {
      "cell_type": "code",
      "execution_count": null,
      "id": "35047e26",
      "metadata": {
        "execution": {
          "iopub.execute_input": "2021-10-21T12:47:05.771855Z",
          "iopub.status.busy": "2021-10-21T12:47:05.770918Z",
          "iopub.status.idle": "2021-10-21T12:47:05.774207Z",
          "shell.execute_reply": "2021-10-21T12:47:05.774787Z",
          "shell.execute_reply.started": "2021-10-21T12:14:19.107168Z"
        },
        "papermill": {
          "duration": 0.046345,
          "end_time": "2021-10-21T12:47:05.774982",
          "exception": false,
          "start_time": "2021-10-21T12:47:05.728637",
          "status": "completed"
        },
        "tags": [],
        "colab": {
          "base_uri": "https://localhost:8080/"
        },
        "id": "35047e26",
        "outputId": "880807de-4b2e-41fa-b2f1-eb0f4b7c04b0"
      },
      "outputs": [
        {
          "output_type": "execute_result",
          "data": {
            "text/plain": [
              "(62, 247)"
            ]
          },
          "metadata": {},
          "execution_count": 15
        }
      ],
      "source": [
        "len(x_test), len(x_train)"
      ]
    },
    {
      "cell_type": "markdown",
      "id": "cf0f78fd",
      "metadata": {
        "papermill": {
          "duration": 0.04304,
          "end_time": "2021-10-21T12:47:05.861183",
          "exception": false,
          "start_time": "2021-10-21T12:47:05.818143",
          "status": "completed"
        },
        "tags": [],
        "id": "cf0f78fd"
      },
      "source": [
        "# <span style=\"color:#32936f;\"> Scaling the data </span>"
      ]
    },
    {
      "cell_type": "code",
      "execution_count": null,
      "id": "30e44947",
      "metadata": {
        "execution": {
          "iopub.execute_input": "2021-10-21T12:47:05.936970Z",
          "iopub.status.busy": "2021-10-21T12:47:05.935958Z",
          "iopub.status.idle": "2021-10-21T12:47:06.326835Z",
          "shell.execute_reply": "2021-10-21T12:47:06.326293Z",
          "shell.execute_reply.started": "2021-10-21T12:14:19.122017Z"
        },
        "papermill": {
          "duration": 0.42938,
          "end_time": "2021-10-21T12:47:06.326987",
          "exception": false,
          "start_time": "2021-10-21T12:47:05.897607",
          "status": "completed"
        },
        "tags": [],
        "colab": {
          "base_uri": "https://localhost:8080/",
          "height": 440
        },
        "id": "30e44947",
        "outputId": "bb56aa13-3f2c-4ab8-b471-b240b7ba68e0"
      },
      "outputs": [
        {
          "output_type": "display_data",
          "data": {
            "image/png": "[encoded data removed]",
            "text/plain": [
              "<Figure size 1440x576 with 1 Axes>"
            ]
          },
          "metadata": {}
        }
      ],
      "source": [
        "plt.figure(figsize=(20,8))\n",
        "plt.title(\"Data before Scaling\", fontsize = 20, y=1.0)\n",
        "sns.boxenplot(data=x_train)\n",
        "plt.show()"
      ]
    },
    {
      "cell_type": "code",
      "execution_count": null,
      "id": "d7d14d1a",
      "metadata": {
        "execution": {
          "iopub.execute_input": "2021-10-21T12:47:06.401578Z",
          "iopub.status.busy": "2021-10-21T12:47:06.400555Z",
          "iopub.status.idle": "2021-10-21T12:47:06.409645Z",
          "shell.execute_reply": "2021-10-21T12:47:06.410155Z",
          "shell.execute_reply.started": "2021-10-21T12:14:19.518333Z"
        },
        "papermill": {
          "duration": 0.047502,
          "end_time": "2021-10-21T12:47:06.410347",
          "exception": false,
          "start_time": "2021-10-21T12:47:06.362845",
          "status": "completed"
        },
        "tags": [],
        "id": "d7d14d1a"
      },
      "outputs": [],
      "source": [
        "# Scaling data:\n",
        "scaler = StandardScaler()\n",
        "x_train = scaler.fit_transform(x_train)\n",
        "x_test = scaler.transform(x_test)"
      ]
    },
    {
      "cell_type": "code",
      "execution_count": null,
      "id": "d0b57fe5",
      "metadata": {
        "execution": {
          "iopub.execute_input": "2021-10-21T12:47:06.483254Z",
          "iopub.status.busy": "2021-10-21T12:47:06.482221Z",
          "iopub.status.idle": "2021-10-21T12:47:06.871069Z",
          "shell.execute_reply": "2021-10-21T12:47:06.870485Z",
          "shell.execute_reply.started": "2021-10-21T12:14:19.531996Z"
        },
        "papermill": {
          "duration": 0.426605,
          "end_time": "2021-10-21T12:47:06.871239",
          "exception": false,
          "start_time": "2021-10-21T12:47:06.444634",
          "status": "completed"
        },
        "tags": [],
        "colab": {
          "base_uri": "https://localhost:8080/",
          "height": 440
        },
        "id": "d0b57fe5",
        "outputId": "1086bb91-a197-4d98-bae7-2b59e546219b"
      },
      "outputs": [
        {
          "output_type": "display_data",
          "data": {
            "image/png": "[encoded data removed]",
            "text/plain": [
              "<Figure size 1440x576 with 1 Axes>"
            ]
          },
          "metadata": {}
        }
      ],
      "source": [
        "plt.figure(figsize=(20,8))\n",
        "plt.title(\"Data after Scaling\", fontsize = 20, y=1.0)\n",
        "sns.boxenplot(data=x_train)\n",
        "plt.show()"
      ]
    },
    {
      "cell_type": "markdown",
      "id": "fda13877",
      "metadata": {
        "papermill": {
          "duration": 0.036892,
          "end_time": "2021-10-21T12:47:06.944225",
          "exception": false,
          "start_time": "2021-10-21T12:47:06.907333",
          "status": "completed"
        },
        "tags": [],
        "id": "fda13877"
      },
      "source": [
        "# <span style=\"color:#32936f;\"> Spot Checking </span>"
      ]
    },
    {
      "cell_type": "code",
      "execution_count": null,
      "id": "08ad55be",
      "metadata": {
        "execution": {
          "iopub.execute_input": "2021-10-21T12:47:07.019866Z",
          "iopub.status.busy": "2021-10-21T12:47:07.019135Z",
          "iopub.status.idle": "2021-10-21T12:47:07.023365Z",
          "shell.execute_reply": "2021-10-21T12:47:07.023958Z",
          "shell.execute_reply.started": "2021-10-21T12:14:20.176028Z"
        },
        "papermill": {
          "duration": 0.044206,
          "end_time": "2021-10-21T12:47:07.024136",
          "exception": false,
          "start_time": "2021-10-21T12:47:06.979930",
          "status": "completed"
        },
        "tags": [],
        "id": "08ad55be"
      },
      "outputs": [],
      "source": [
        "from warnings import filterwarnings\n"
      ]
    },
    {
      "cell_type": "code",
      "execution_count": null,
      "id": "7c261c27",
      "metadata": {
        "execution": {
          "iopub.execute_input": "2021-10-21T12:47:07.101694Z",
          "iopub.status.busy": "2021-10-21T12:47:07.100936Z",
          "iopub.status.idle": "2021-10-21T12:47:07.104663Z",
          "shell.execute_reply": "2021-10-21T12:47:07.104018Z",
          "shell.execute_reply.started": "2021-10-21T12:14:20.196936Z"
        },
        "papermill": {
          "duration": 0.044879,
          "end_time": "2021-10-21T12:47:07.104828",
          "exception": false,
          "start_time": "2021-10-21T12:47:07.059949",
          "status": "completed"
        },
        "tags": [],
        "id": "7c261c27"
      },
      "outputs": [],
      "source": [
        "filterwarnings('ignore')"
      ]
    },
    {
      "cell_type": "code",
      "execution_count": null,
      "id": "83af3bbf",
      "metadata": {
        "execution": {
          "iopub.execute_input": "2021-10-21T12:47:07.186944Z",
          "iopub.status.busy": "2021-10-21T12:47:07.186239Z",
          "iopub.status.idle": "2021-10-21T12:47:07.623741Z",
          "shell.execute_reply": "2021-10-21T12:47:07.623019Z",
          "shell.execute_reply.started": "2021-10-21T12:14:20.226634Z"
        },
        "papermill": {
          "duration": 0.483653,
          "end_time": "2021-10-21T12:47:07.623929",
          "exception": false,
          "start_time": "2021-10-21T12:47:07.140276",
          "status": "completed"
        },
        "tags": [],
        "id": "83af3bbf"
      },
      "outputs": [],
      "source": [
        "models = [(\"LR\", LogisticRegression(max_iter=1000)),\n",
        "          (\"SVC\", SVC()),\n",
        "          (\"KNC\", KNeighborsClassifier(n_neighbors=10)),\n",
        "          (\"DTC\", DecisionTreeClassifier()),\n",
        "          (\"GNB\", GaussianNB()),\n",
        "         (\"SGDC\", SGDClassifier()),\n",
        "         (\"Perc\", Perceptron()),\n",
        "          (\"NC\", NearestCentroid()),\n",
        "          (\"Ridge\", RidgeClassifier()),\n",
        "          (\"BNB\", BernoulliNB()),\n",
        "          (\"RF\", RandomForestClassifier()),\n",
        "          (\"ADA\", AdaBoostClassifier()),\n",
        "          (\"XGB\", GradientBoostingClassifier()),\n",
        "          (\"PAC\", PassiveAggressiveClassifier()) \n",
        "    \n",
        "]\n",
        "\n",
        "results = []\n",
        "names=[]\n",
        "finalresults=[]\n",
        "\n",
        "for name, model in models:\n",
        "    model.fit(x_train, y_train)\n",
        "    model_results = model.predict(x_test)\n",
        "    score= precision_score(y_test, model_results, average='macro')\n",
        "    results.append(score)\n",
        "    names.append(name)\n",
        "    finalresults.append((name,score))"
      ]
    },
    {
      "cell_type": "code",
      "execution_count": null,
      "id": "b1d22eb8",
      "metadata": {
        "execution": {
          "iopub.execute_input": "2021-10-21T12:47:07.702333Z",
          "iopub.status.busy": "2021-10-21T12:47:07.701526Z",
          "iopub.status.idle": "2021-10-21T12:47:07.704626Z",
          "shell.execute_reply": "2021-10-21T12:47:07.705124Z",
          "shell.execute_reply.started": "2021-10-21T12:14:20.656866Z"
        },
        "papermill": {
          "duration": 0.045841,
          "end_time": "2021-10-21T12:47:07.705297",
          "exception": false,
          "start_time": "2021-10-21T12:47:07.659456",
          "status": "completed"
        },
        "tags": [],
        "colab": {
          "base_uri": "https://localhost:8080/"
        },
        "id": "b1d22eb8",
        "outputId": "b7b6cb6d-ffe8-4a99-d0c0-08460d81eac3"
      },
      "outputs": [
        {
          "output_type": "execute_result",
          "data": {
            "text/plain": [
              "[('RF', 0.8736842105263158),\n",
              " ('LR', 0.8405172413793103),\n",
              " ('SVC', 0.8405172413793103),\n",
              " ('GNB', 0.8405172413793103),\n",
              " ('Ridge', 0.8405172413793103),\n",
              " ('XGB', 0.8405172413793103),\n",
              " ('BNB', 0.8065476190476191),\n",
              " ('DTC', 0.7909604519774012),\n",
              " ('KNC', 0.7649122807017543),\n",
              " ('SGDC', 0.7649122807017543),\n",
              " ('ADA', 0.7649122807017543),\n",
              " ('PAC', 0.7589098532494759),\n",
              " ('Perc', 0.7584415584415585),\n",
              " ('NC', 0.6939203354297694)]"
            ]
          },
          "metadata": {},
          "execution_count": 22
        }
      ],
      "source": [
        "finalresults.sort(key=lambda k:k[1], reverse=True)\n",
        "finalresults"
      ]
    },
    {
      "cell_type": "markdown",
      "id": "7645a212",
      "metadata": {
        "papermill": {
          "duration": 0.036277,
          "end_time": "2021-10-21T12:47:07.776885",
          "exception": false,
          "start_time": "2021-10-21T12:47:07.740608",
          "status": "completed"
        },
        "tags": [],
        "id": "7645a212"
      },
      "source": [
        "# <span style=\"color:#32936f;\"> Hiperparameter Tuning </span>"
      ]
    },
    {
      "cell_type": "code",
      "execution_count": null,
      "id": "970bc140",
      "metadata": {
        "execution": {
          "iopub.execute_input": "2021-10-21T12:47:07.852622Z",
          "iopub.status.busy": "2021-10-21T12:47:07.851596Z",
          "iopub.status.idle": "2021-10-21T12:58:08.757255Z",
          "shell.execute_reply": "2021-10-21T12:58:08.757837Z",
          "shell.execute_reply.started": "2021-10-21T12:18:07.788682Z"
        },
        "papermill": {
          "duration": 660.945483,
          "end_time": "2021-10-21T12:58:08.758166",
          "exception": false,
          "start_time": "2021-10-21T12:47:07.812683",
          "status": "completed"
        },
        "tags": [],
        "colab": {
          "base_uri": "https://localhost:8080/",
          "height": 81
        },
        "id": "970bc140",
        "outputId": "32f0ad79-d7d8-4b8c-a2f3-76a753e2cf85"
      },
      "outputs": [
        {
          "output_type": "execute_result",
          "data": {
            "text/html": [
              "\n",
              "  <div id=\"df-20969c3c-6f1a-438f-8beb-28aec075fdb5\">\n",
              "    <div class=\"colab-df-container\">\n",
              "      <div>\n",
              "<style scoped>\n",
              "    .dataframe tbody tr th:only-of-type {\n",
              "        vertical-align: middle;\n",
              "    }\n",
              "\n",
              "    .dataframe tbody tr th {\n",
              "        vertical-align: top;\n",
              "    }\n",
              "\n",
              "    .dataframe thead th {\n",
              "        text-align: right;\n",
              "    }\n",
              "</style>\n",
              "<table border=\"1\" class=\"dataframe\">\n",
              "  <thead>\n",
              "    <tr style=\"text-align: right;\">\n",
              "      <th></th>\n",
              "      <th>Model</th>\n",
              "      <th>Parameters</th>\n",
              "      <th>Score</th>\n",
              "    </tr>\n",
              "  </thead>\n",
              "  <tbody>\n",
              "    <tr>\n",
              "      <th>0</th>\n",
              "      <td>RF</td>\n",
              "      <td>{'n_estimators': 100, 'max_features': 1}</td>\n",
              "      <td>0.911339</td>\n",
              "    </tr>\n",
              "  </tbody>\n",
              "</table>\n",
              "</div>\n",
              "      <button class=\"colab-df-convert\" onclick=\"convertToInteractive('df-20969c3c-6f1a-438f-8beb-28aec075fdb5')\"\n",
              "              title=\"Convert this dataframe to an interactive table.\"\n",
              "              style=\"display:none;\">\n",
              "        \n",
              "  <svg xmlns=\"http://www.w3.org/2000/svg\" height=\"24px\"viewBox=\"0 0 24 24\"\n",
              "       width=\"24px\">\n",
              "    <path d=\"M0 0h24v24H0V0z\" fill=\"none\"/>\n",
              "    <path d=\"M18.56 5.44l.94 2.06.94-2.06 2.06-.94-2.06-.94-.94-2.06-.94 2.06-2.06.94zm-11 1L8.5 8.5l.94-2.06 2.06-.94-2.06-.94L8.5 2.5l-.94 2.06-2.06.94zm10 10l.94 2.06.94-2.06 2.06-.94-2.06-.94-.94-2.06-.94 2.06-2.06.94z\"/><path d=\"M17.41 7.96l-1.37-1.37c-.4-.4-.92-.59-1.43-.59-.52 0-1.04.2-1.43.59L10.3 9.45l-7.72 7.72c-.78.78-.78 2.05 0 2.83L4 21.41c.39.39.9.59 1.41.59.51 0 1.02-.2 1.41-.59l7.78-7.78 2.81-2.81c.8-.78.8-2.07 0-2.86zM5.41 20L4 18.59l7.72-7.72 1.47 1.35L5.41 20z\"/>\n",
              "  </svg>\n",
              "      </button>\n",
              "      \n",
              "  <style>\n",
              "    .colab-df-container {\n",
              "      display:flex;\n",
              "      flex-wrap:wrap;\n",
              "      gap: 12px;\n",
              "    }\n",
              "\n",
              "    .colab-df-convert {\n",
              "      background-color: #E8F0FE;\n",
              "      border: none;\n",
              "      border-radius: 50%;\n",
              "      cursor: pointer;\n",
              "      display: none;\n",
              "      fill: #1967D2;\n",
              "      height: 32px;\n",
              "      padding: 0 0 0 0;\n",
              "      width: 32px;\n",
              "    }\n",
              "\n",
              "    .colab-df-convert:hover {\n",
              "      background-color: #E2EBFA;\n",
              "      box-shadow: 0px 1px 2px rgba(60, 64, 67, 0.3), 0px 1px 3px 1px rgba(60, 64, 67, 0.15);\n",
              "      fill: #174EA6;\n",
              "    }\n",
              "\n",
              "    [theme=dark] .colab-df-convert {\n",
              "      background-color: #3B4455;\n",
              "      fill: #D2E3FC;\n",
              "    }\n",
              "\n",
              "    [theme=dark] .colab-df-convert:hover {\n",
              "      background-color: #434B5C;\n",
              "      box-shadow: 0px 1px 3px 1px rgba(0, 0, 0, 0.15);\n",
              "      filter: drop-shadow(0px 1px 2px rgba(0, 0, 0, 0.3));\n",
              "      fill: #FFFFFF;\n",
              "    }\n",
              "  </style>\n",
              "\n",
              "      <script>\n",
              "        const buttonEl =\n",
              "          document.querySelector('#df-20969c3c-6f1a-438f-8beb-28aec075fdb5 button.colab-df-convert');\n",
              "        buttonEl.style.display =\n",
              "          google.colab.kernel.accessAllowed ? 'block' : 'none';\n",
              "\n",
              "        async function convertToInteractive(key) {\n",
              "          const element = document.querySelector('#df-20969c3c-6f1a-438f-8beb-28aec075fdb5');\n",
              "          const dataTable =\n",
              "            await google.colab.kernel.invokeFunction('convertToInteractive',\n",
              "                                                     [key], {});\n",
              "          if (!dataTable) return;\n",
              "\n",
              "          const docLinkHtml = 'Like what you see? Visit the ' +\n",
              "            '<a target=\"_blank\" href=https://colab.research.google.com/notebooks/data_table.ipynb>data table notebook</a>'\n",
              "            + ' to learn more about interactive tables.';\n",
              "          element.innerHTML = '';\n",
              "          dataTable['output_type'] = 'display_data';\n",
              "          await google.colab.output.renderOutput(dataTable, element);\n",
              "          const docLink = document.createElement('div');\n",
              "          docLink.innerHTML = docLinkHtml;\n",
              "          element.appendChild(docLink);\n",
              "        }\n",
              "      </script>\n",
              "    </div>\n",
              "  </div>\n",
              "  "
            ],
            "text/plain": [
              "  Model                                Parameters     Score\n",
              "0    RF  {'n_estimators': 100, 'max_features': 1}  0.911339"
            ]
          },
          "metadata": {},
          "execution_count": 23
        }
      ],
      "source": [
        "# Grid search and space:\n",
        "models_params= {\n",
        "    \"RF\":{'model':RandomForestClassifier(),\n",
        "         'params':{\n",
        "             'max_features': list(range(1,10)),\n",
        "             'n_estimators':[10,100,1000]\n",
        "         }}}\n",
        "\n",
        "# Evaluation:\n",
        "\n",
        "cv = RepeatedStratifiedKFold(n_splits=5,n_repeats=20)\n",
        "\n",
        "# Search:\n",
        "scores=[]\n",
        "\n",
        "for model_name, params in models_params.items(): \n",
        "    rs = RandomizedSearchCV(params['model'], params['params'], cv=cv , n_iter=10)\n",
        "    rs.fit(x_train,y_train)\n",
        "    scores.append([model_name,dict(rs.best_params_),rs.best_score_])\n",
        "data=pd.DataFrame(scores,columns=['Model','Parameters','Score'])\n",
        "data"
      ]
    },
    {
      "cell_type": "code",
      "source": [
        ""
      ],
      "metadata": {
        "id": "Mz2oNTJnI9UA"
      },
      "id": "Mz2oNTJnI9UA",
      "execution_count": null,
      "outputs": []
    }
  ],
  "metadata": {
    "kernelspec": {
      "display_name": "Python 3",
      "language": "python",
      "name": "python3"
    },
    "language_info": {
      "codemirror_mode": {
        "name": "ipython",
        "version": 3
      },
      "file_extension": ".py",
      "mimetype": "text/x-python",
      "name": "python",
      "nbconvert_exporter": "python",
      "pygments_lexer": "ipython3",
      "version": "3.7.10"
    },
    "papermill": {
      "default_parameters": {},
      "duration": 683.40997,
      "end_time": "2021-10-21T12:58:09.810560",
      "environment_variables": {},
      "exception": null,
      "input_path": "__notebook__.ipynb",
      "output_path": "__notebook__.ipynb",
      "parameters": {},
      "start_time": "2021-10-21T12:46:46.400590",
      "version": "2.3.3"
    },
    "colab": {
      "name": "Lung Cancer Prediction.ipynb",
      "provenance": []
    }
  },
  "nbformat": 4,
  "nbformat_minor": 5
}