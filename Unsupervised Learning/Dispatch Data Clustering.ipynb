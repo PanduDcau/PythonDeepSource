{
 "cells": [
  {
   "cell_type": "markdown",
   "id": "c8fc4a85",
   "metadata": {},
   "source": [
    "## Spark Initializing"
   ]
  },
  {
   "cell_type": "code",
   "execution_count": 1,
   "id": "57345a58",
   "metadata": {},
   "outputs": [],
   "source": [
    "import findspark\n",
    "findspark.init()\n",
    "import pyspark\n",
    "import pandas as pd\n",
    "import seaborn as sns # To get graphs\n",
    "import matplotlib.pyplot as plt # To get graphs"
   ]
  },
  {
   "cell_type": "code",
   "execution_count": 2,
   "id": "ed368d89",
   "metadata": {},
   "outputs": [],
   "source": [
    "#### First we have create a spark session\n",
    "from pyspark.sql import SparkSession\n",
    "spark = SparkSession.builder.master(\"local[1]\") \\\n",
    "                    .appName('Clustering') \\\n",
    "                    .getOrCreate()"
   ]
  },
  {
   "cell_type": "code",
   "execution_count": 3,
   "id": "913a1e4d",
   "metadata": {},
   "outputs": [
    {
     "data": {
      "text/html": [
       "\n",
       "            <div>\n",
       "                <p><b>SparkSession - in-memory</b></p>\n",
       "                \n",
       "        <div>\n",
       "            <p><b>SparkContext</b></p>\n",
       "\n",
       "            <p><a href=\"http://PanduDCAU-Multiverse:4040\">Spark UI</a></p>\n",
       "\n",
       "            <dl>\n",
       "              <dt>Version</dt>\n",
       "                <dd><code>v3.1.2</code></dd>\n",
       "              <dt>Master</dt>\n",
       "                <dd><code>local[1]</code></dd>\n",
       "              <dt>AppName</dt>\n",
       "                <dd><code>Clustering</code></dd>\n",
       "            </dl>\n",
       "        </div>\n",
       "        \n",
       "            </div>\n",
       "        "
      ],
      "text/plain": [
       "<pyspark.sql.session.SparkSession at 0x1f7a916fe20>"
      ]
     },
     "execution_count": 3,
     "metadata": {},
     "output_type": "execute_result"
    }
   ],
   "source": [
    "spark"
   ]
  },
  {
   "cell_type": "markdown",
   "id": "d94ba9dd",
   "metadata": {},
   "source": [
    "### Importing Data Set"
   ]
  },
  {
   "cell_type": "code",
   "execution_count": 4,
   "id": "70818346",
   "metadata": {},
   "outputs": [],
   "source": [
    "df = spark.read.option(\"header\" , True).csv(\"/Users/Asus/Documents/InternCsv/combine_final.csv\")"
   ]
  },
  {
   "cell_type": "code",
   "execution_count": 5,
   "id": "4007da81",
   "metadata": {},
   "outputs": [
    {
     "name": "stdout",
     "output_type": "stream",
     "text": [
      "+-------------+--------+----+---------------+-------------------+----------+\n",
      "|        Plant|    Date|Time|Actual_Dispatch|Forecasted_Dispatch|Difference|\n",
      "+-------------+--------+----+---------------+-------------------+----------+\n",
      "| ALTAQQA-Pol.|7/1/2020|0:00|              0|                  0|         0|\n",
      "|         Bowa|7/1/2020|0:00|              0|                  0|         0|\n",
      "|     KPS(GT7)|7/1/2020|0:00|              0|                  0|         0|\n",
      "|         Polp|7/1/2020|0:00|             40|                 78|       -38|\n",
      "|          WPS|7/1/2020|0:00|              0|                  0|         0|\n",
      "|         Rand|7/1/2020|0:00|              0|                  0|         0|\n",
      "|VPOWER Horona|7/1/2020|0:00|              0|                  0|         0|\n",
      "|       LVPS 2|7/1/2020|0:00|            540|                270|       270|\n",
      "|          Uku|7/1/2020|0:00|             72|                 40|        32|\n",
      "|   ACE Matara|7/1/2020|0:00|              0|                  0|         0|\n",
      "| VPOWER Hamb.|7/1/2020|0:00|              0|                  0|         0|\n",
      "|         Koth|7/1/2020|0:00|             96|                 33|        63|\n",
      "|         KCCP|7/1/2020|0:00|              0|                  0|         0|\n",
      "|       Sapu A|7/1/2020|0:00|             66|                 54|        12|\n",
      "|          Sam|7/1/2020|0:00|              0|                  0|         0|\n",
      "|     ACE EMBP|7/1/2020|0:00|              0|                 51|       -51|\n",
      "|Uthuru Janani|7/1/2020|0:00|              0|                 20|       -20|\n",
      "|          WCP|7/1/2020|0:00|            280|                135|       145|\n",
      "|       Kukule|7/1/2020|0:00|            105|                  0|       105|\n",
      "|       LVPS 3|7/1/2020|0:00|            540|                229|       311|\n",
      "+-------------+--------+----+---------------+-------------------+----------+\n",
      "only showing top 20 rows\n",
      "\n"
     ]
    }
   ],
   "source": [
    "df.show()"
   ]
  },
  {
   "cell_type": "code",
   "execution_count": 6,
   "id": "ecc5c84d",
   "metadata": {},
   "outputs": [],
   "source": [
    "from pyspark.sql.functions import percent_rank\n",
    "from pyspark.sql import Window\n",
    "df_dev = df.withColumn(\"rank\", percent_rank().over(Window.partitionBy().orderBy(\"Date\",\"Time\",\"Plant\")))"
   ]
  },
  {
   "cell_type": "code",
   "execution_count": 7,
   "id": "fd7684f9",
   "metadata": {},
   "outputs": [
    {
     "name": "stdout",
     "output_type": "stream",
     "text": [
      "+-------------+--------+----+---------------+-------------------+----------+\n",
      "|        Plant|    Date|Time|Actual_Dispatch|Forecasted_Dispatch|Difference|\n",
      "+-------------+--------+----+---------------+-------------------+----------+\n",
      "|     ACE EMBP|7/1/2020|0:00|              0|                 51|       -51|\n",
      "|   ACE Matara|7/1/2020|0:00|              0|                  0|         0|\n",
      "|ALTAQQA-Mahi.|7/1/2020|0:00|              0|                  0|         0|\n",
      "| ALTAQQA-Pol.|7/1/2020|0:00|              0|                  0|         0|\n",
      "|   Asia Power|7/1/2020|0:00|              0|                 33|       -33|\n",
      "|        Barge|7/1/2020|0:00|             90|                 45|        45|\n",
      "|         Bowa|7/1/2020|0:00|              0|                  0|         0|\n",
      "|CEB Sup Power|7/1/2020|0:00|              0|                  0|         0|\n",
      "|       Canyon|7/1/2020|0:00|             20|                  0|        20|\n",
      "|         KCCP|7/1/2020|0:00|              0|                  0|         0|\n",
      "|      KPS(GT)|7/1/2020|0:00|              0|                  0|         0|\n",
      "|     KPS(GT7)|7/1/2020|0:00|              0|                  0|         0|\n",
      "|         Koth|7/1/2020|0:00|             96|                 33|        63|\n",
      "|       Kukule|7/1/2020|0:00|            105|                  0|       105|\n",
      "|       LVPS 1|7/1/2020|0:00|            548|                270|       278|\n",
      "|       LVPS 2|7/1/2020|0:00|            540|                270|       270|\n",
      "|       LVPS 3|7/1/2020|0:00|            540|                229|       311|\n",
      "|         Nlax|7/1/2020|0:00|             91|                 61|        30|\n",
      "|         Olax|7/1/2020|0:00|             10|                 10|         0|\n",
      "|         Polp|7/1/2020|0:00|             40|                 78|       -38|\n",
      "+-------------+--------+----+---------------+-------------------+----------+\n",
      "only showing top 20 rows\n",
      "\n"
     ]
    }
   ],
   "source": [
    "train_df = df_dev.where(\"rank <= .8\").drop(\"rank\")\n",
    "train_df.show()"
   ]
  },
  {
   "cell_type": "code",
   "execution_count": 8,
   "id": "60ba59c6",
   "metadata": {},
   "outputs": [],
   "source": [
    "train_df = train_df.withColumn(\"Difference\",train_df.Difference.cast('double'))\n",
    "train_df = train_df.withColumn(\"Actual_Dispatch\",train_df.Actual_Dispatch.cast('double'))\n",
    "train_df = train_df.withColumn(\"Forecasted_Dispatch\",train_df.Forecasted_Dispatch.cast('double'))"
   ]
  },
  {
   "cell_type": "code",
   "execution_count": 9,
   "id": "88f73d14",
   "metadata": {},
   "outputs": [
    {
     "data": {
      "text/plain": [
       "[('Plant', 'string'),\n",
       " ('Date', 'string'),\n",
       " ('Time', 'string'),\n",
       " ('Actual_Dispatch', 'double'),\n",
       " ('Forecasted_Dispatch', 'double'),\n",
       " ('Difference', 'double')]"
      ]
     },
     "execution_count": 9,
     "metadata": {},
     "output_type": "execute_result"
    }
   ],
   "source": [
    "train_df.dtypes"
   ]
  },
  {
   "cell_type": "code",
   "execution_count": 10,
   "id": "98975211",
   "metadata": {},
   "outputs": [],
   "source": [
    "from pyspark.sql.functions import col\n",
    "sumtot = train_df.groupBy(\"Plant\").sum(\"Actual_Dispatch\",\"Forecasted_Dispatch\",\"Difference\").sort(col(\"Plant\").asc())"
   ]
  },
  {
   "cell_type": "code",
   "execution_count": 11,
   "id": "113d50ad",
   "metadata": {},
   "outputs": [
    {
     "name": "stdout",
     "output_type": "stream",
     "text": [
      "+-------------+--------------------+------------------------+---------------+\n",
      "|        Plant|sum(Actual_Dispatch)|sum(Forecasted_Dispatch)|sum(Difference)|\n",
      "+-------------+--------------------+------------------------+---------------+\n",
      "|     ACE EMBP|            134409.0|                 61367.0|        73042.0|\n",
      "|   ACE Matara|             27330.0|                 14225.0|        13105.0|\n",
      "|ALTAQQA-Mahi.|              1451.0|                   650.0|          801.0|\n",
      "| ALTAQQA-Pol.|              1656.0|                   528.0|         1128.0|\n",
      "|   Asia Power|             34513.0|                 23497.0|        11016.0|\n",
      "+-------------+--------------------+------------------------+---------------+\n",
      "only showing top 5 rows\n",
      "\n"
     ]
    }
   ],
   "source": [
    "sumtot.show(5)"
   ]
  },
  {
   "cell_type": "code",
   "execution_count": 12,
   "id": "2c1588e3",
   "metadata": {},
   "outputs": [],
   "source": [
    "from pyspark.sql.functions import *\n",
    "newColumns = [\"Plant\",\"Actual_Dispatch\",\"Forecasted_Dispatch\",\"DispatchDiff\"]\n",
    "sumtot=sumtot.toDF(*newColumns)"
   ]
  },
  {
   "cell_type": "code",
   "execution_count": 13,
   "id": "42ffdc05",
   "metadata": {},
   "outputs": [
    {
     "data": {
      "text/html": [
       "<div>\n",
       "<style scoped>\n",
       "    .dataframe tbody tr th:only-of-type {\n",
       "        vertical-align: middle;\n",
       "    }\n",
       "\n",
       "    .dataframe tbody tr th {\n",
       "        vertical-align: top;\n",
       "    }\n",
       "\n",
       "    .dataframe thead th {\n",
       "        text-align: right;\n",
       "    }\n",
       "</style>\n",
       "<table border=\"1\" class=\"dataframe\">\n",
       "  <thead>\n",
       "    <tr style=\"text-align: right;\">\n",
       "      <th></th>\n",
       "      <th>Plant</th>\n",
       "      <th>Actual_Dispatch</th>\n",
       "      <th>Forecasted_Dispatch</th>\n",
       "      <th>DispatchDiff</th>\n",
       "    </tr>\n",
       "  </thead>\n",
       "  <tbody>\n",
       "    <tr>\n",
       "      <th>0</th>\n",
       "      <td>ACE EMBP</td>\n",
       "      <td>134409.0</td>\n",
       "      <td>61367.0</td>\n",
       "      <td>73042.0</td>\n",
       "    </tr>\n",
       "    <tr>\n",
       "      <th>1</th>\n",
       "      <td>ACE Matara</td>\n",
       "      <td>27330.0</td>\n",
       "      <td>14225.0</td>\n",
       "      <td>13105.0</td>\n",
       "    </tr>\n",
       "    <tr>\n",
       "      <th>2</th>\n",
       "      <td>ALTAQQA-Mahi.</td>\n",
       "      <td>1451.0</td>\n",
       "      <td>650.0</td>\n",
       "      <td>801.0</td>\n",
       "    </tr>\n",
       "    <tr>\n",
       "      <th>3</th>\n",
       "      <td>ALTAQQA-Pol.</td>\n",
       "      <td>1656.0</td>\n",
       "      <td>528.0</td>\n",
       "      <td>1128.0</td>\n",
       "    </tr>\n",
       "    <tr>\n",
       "      <th>4</th>\n",
       "      <td>Asia Power</td>\n",
       "      <td>34513.0</td>\n",
       "      <td>23497.0</td>\n",
       "      <td>11016.0</td>\n",
       "    </tr>\n",
       "  </tbody>\n",
       "</table>\n",
       "</div>"
      ],
      "text/plain": [
       "           Plant  Actual_Dispatch  Forecasted_Dispatch  DispatchDiff\n",
       "0       ACE EMBP         134409.0              61367.0       73042.0\n",
       "1     ACE Matara          27330.0              14225.0       13105.0\n",
       "2  ALTAQQA-Mahi.           1451.0                650.0         801.0\n",
       "3   ALTAQQA-Pol.           1656.0                528.0        1128.0\n",
       "4     Asia Power          34513.0              23497.0       11016.0"
      ]
     },
     "execution_count": 13,
     "metadata": {},
     "output_type": "execute_result"
    }
   ],
   "source": [
    "df1 = sumtot.toPandas()\n",
    "df1.head()"
   ]
  },
  {
   "cell_type": "code",
   "execution_count": 14,
   "id": "f01648bf",
   "metadata": {},
   "outputs": [
    {
     "data": {
      "text/html": [
       "<div>\n",
       "<style scoped>\n",
       "    .dataframe tbody tr th:only-of-type {\n",
       "        vertical-align: middle;\n",
       "    }\n",
       "\n",
       "    .dataframe tbody tr th {\n",
       "        vertical-align: top;\n",
       "    }\n",
       "\n",
       "    .dataframe thead th {\n",
       "        text-align: right;\n",
       "    }\n",
       "</style>\n",
       "<table border=\"1\" class=\"dataframe\">\n",
       "  <thead>\n",
       "    <tr style=\"text-align: right;\">\n",
       "      <th></th>\n",
       "      <th>Actual_Dispatch</th>\n",
       "      <th>Forecasted_Dispatch</th>\n",
       "      <th>DispatchDiff</th>\n",
       "    </tr>\n",
       "  </thead>\n",
       "  <tbody>\n",
       "    <tr>\n",
       "      <th>count</th>\n",
       "      <td>36.000000</td>\n",
       "      <td>36.000000</td>\n",
       "      <td>36.000000</td>\n",
       "    </tr>\n",
       "    <tr>\n",
       "      <th>mean</th>\n",
       "      <td>95874.638889</td>\n",
       "      <td>48965.472222</td>\n",
       "      <td>46909.166667</td>\n",
       "    </tr>\n",
       "    <tr>\n",
       "      <th>std</th>\n",
       "      <td>161125.799270</td>\n",
       "      <td>80548.080869</td>\n",
       "      <td>80670.562802</td>\n",
       "    </tr>\n",
       "    <tr>\n",
       "      <th>min</th>\n",
       "      <td>0.000000</td>\n",
       "      <td>0.000000</td>\n",
       "      <td>-4599.000000</td>\n",
       "    </tr>\n",
       "    <tr>\n",
       "      <th>25%</th>\n",
       "      <td>10791.750000</td>\n",
       "      <td>4581.000000</td>\n",
       "      <td>6333.000000</td>\n",
       "    </tr>\n",
       "    <tr>\n",
       "      <th>50%</th>\n",
       "      <td>36565.500000</td>\n",
       "      <td>20917.000000</td>\n",
       "      <td>16650.500000</td>\n",
       "    </tr>\n",
       "    <tr>\n",
       "      <th>75%</th>\n",
       "      <td>84124.750000</td>\n",
       "      <td>47332.000000</td>\n",
       "      <td>42021.750000</td>\n",
       "    </tr>\n",
       "    <tr>\n",
       "      <th>max</th>\n",
       "      <td>562074.000000</td>\n",
       "      <td>279720.000000</td>\n",
       "      <td>282584.000000</td>\n",
       "    </tr>\n",
       "  </tbody>\n",
       "</table>\n",
       "</div>"
      ],
      "text/plain": [
       "       Actual_Dispatch  Forecasted_Dispatch   DispatchDiff\n",
       "count        36.000000            36.000000      36.000000\n",
       "mean      95874.638889         48965.472222   46909.166667\n",
       "std      161125.799270         80548.080869   80670.562802\n",
       "min           0.000000             0.000000   -4599.000000\n",
       "25%       10791.750000          4581.000000    6333.000000\n",
       "50%       36565.500000         20917.000000   16650.500000\n",
       "75%       84124.750000         47332.000000   42021.750000\n",
       "max      562074.000000        279720.000000  282584.000000"
      ]
     },
     "execution_count": 14,
     "metadata": {},
     "output_type": "execute_result"
    }
   ],
   "source": [
    "# df description\n",
    "\n",
    "df1.describe()"
   ]
  },
  {
   "cell_type": "markdown",
   "id": "9de83e27",
   "metadata": {},
   "source": [
    "### Clustering Data Set"
   ]
  },
  {
   "cell_type": "code",
   "execution_count": 15,
   "id": "b8707fc1",
   "metadata": {},
   "outputs": [],
   "source": [
    "# import required libraries for clustering\n",
    "import sklearn\n",
    "from sklearn.preprocessing import StandardScaler\n",
    "from sklearn.cluster import KMeans\n",
    "from sklearn.metrics import silhouette_score\n",
    "from scipy.cluster.hierarchy import linkage\n",
    "from scipy.cluster.hierarchy import dendrogram\n",
    "from scipy.cluster.hierarchy import cut_tree"
   ]
  },
  {
   "cell_type": "markdown",
   "id": "b41b20bc",
   "metadata": {},
   "source": [
    "### Finding Outliers"
   ]
  },
  {
   "cell_type": "markdown",
   "id": "499ef433",
   "metadata": {},
   "source": [
    "**There are 2 types of outliers and we will treat outliers as it can skew our dataset**\n",
    "\n",
    "Statistical\n",
    "\n",
    "Domain specific"
   ]
  },
  {
   "cell_type": "code",
   "execution_count": 16,
   "id": "5e72ca16",
   "metadata": {},
   "outputs": [
    {
     "data": {
      "text/plain": [
       "Text(0.5, 0, 'Attributes')"
      ]
     },
     "execution_count": 16,
     "metadata": {},
     "output_type": "execute_result"
    },
    {
     "data": {
      "image/png": "[encoded data removed]",
      "text/plain": [
       "<Figure size 720x576 with 1 Axes>"
      ]
     },
     "metadata": {
      "needs_background": "light"
     },
     "output_type": "display_data"
    }
   ],
   "source": [
    "attributes = ['Actual_Dispatch','Forecasted_Dispatch']\n",
    "plt.rcParams['figure.figsize'] = [10,8]\n",
    "sns.boxplot(data = df1[attributes], orient=\"v\", palette=\"Set2\" ,whis=1.5,saturation=1, width=0.7)\n",
    "plt.title(\"Outliers Variable Distribution\", fontsize = 14, fontweight = 'bold')\n",
    "plt.ylabel(\"Range\", fontweight = 'bold')\n",
    "plt.xlabel(\"Attributes\", fontweight = 'bold')"
   ]
  },
  {
   "cell_type": "code",
   "execution_count": 17,
   "id": "0eeda2ca",
   "metadata": {},
   "outputs": [],
   "source": [
    "# Removing (statistical) outliers for Actual_Dispatch\n",
    "Q1 = df1.Actual_Dispatch.quantile(0.05)\n",
    "Q3 = df1.Actual_Dispatch.quantile(0.95)\n",
    "IQR = Q3 - Q1\n",
    "df1 = df1[(df1.Actual_Dispatch >= Q1 - 1.5*IQR) & (df1.Actual_Dispatch <= Q3 + 1.5*IQR)]\n",
    "\n",
    "# Removing (statistical) outliers for \n",
    "Q1 = df1.Forecasted_Dispatch.quantile(0.05)\n",
    "Q3 = df1.Forecasted_Dispatch.quantile(0.95)\n",
    "IQR = Q3 - Q1\n",
    "df1 = df1[(df1.Forecasted_Dispatch >= Q1 - 1.5*IQR) & (df1.Forecasted_Dispatch <= Q3 + 1.5*IQR)]\n",
    "\n"
   ]
  },
  {
   "cell_type": "markdown",
   "id": "3af02b57",
   "metadata": {},
   "source": [
    "## Rescaling the Attributes\n",
    "**It is extremely important to rescale the variables so that they have a comparable scale.| There are two common ways of rescaling:**\n",
    "\n",
    "1) Min-Max scaling\n",
    "\n",
    "2) Standardisation (mean-0, sigma-1)\n",
    "\n",
    "Here, we will use Standardisation Scaling."
   ]
  },
  {
   "cell_type": "code",
   "execution_count": 18,
   "id": "b4f9d074",
   "metadata": {},
   "outputs": [
    {
     "data": {
      "text/plain": [
       "(36, 2)"
      ]
     },
     "execution_count": 18,
     "metadata": {},
     "output_type": "execute_result"
    }
   ],
   "source": [
    "# Rescaling the attributes\n",
    "\n",
    "rfm_df = df1[['Actual_Dispatch','Forecasted_Dispatch']]\n",
    "\n",
    "# Instantiate\n",
    "scaler = StandardScaler()\n",
    "\n",
    "# fit_transform\n",
    "rfm_df_scaled = scaler.fit_transform(rfm_df)\n",
    "rfm_df_scaled.shape"
   ]
  },
  {
   "cell_type": "code",
   "execution_count": 20,
   "id": "27a90e41",
   "metadata": {},
   "outputs": [
    {
     "data": {
      "text/html": [
       "<div>\n",
       "<style scoped>\n",
       "    .dataframe tbody tr th:only-of-type {\n",
       "        vertical-align: middle;\n",
       "    }\n",
       "\n",
       "    .dataframe tbody tr th {\n",
       "        vertical-align: top;\n",
       "    }\n",
       "\n",
       "    .dataframe thead th {\n",
       "        text-align: right;\n",
       "    }\n",
       "</style>\n",
       "<table border=\"1\" class=\"dataframe\">\n",
       "  <thead>\n",
       "    <tr style=\"text-align: right;\">\n",
       "      <th></th>\n",
       "      <th>Actual_Dispatch</th>\n",
       "      <th>Forecasted_Dispatch</th>\n",
       "    </tr>\n",
       "  </thead>\n",
       "  <tbody>\n",
       "    <tr>\n",
       "      <th>0</th>\n",
       "      <td>0.242549</td>\n",
       "      <td>0.156148</td>\n",
       "    </tr>\n",
       "    <tr>\n",
       "      <th>1</th>\n",
       "      <td>-0.431445</td>\n",
       "      <td>-0.437419</td>\n",
       "    </tr>\n",
       "    <tr>\n",
       "      <th>2</th>\n",
       "      <td>-0.594337</td>\n",
       "      <td>-0.608343</td>\n",
       "    </tr>\n",
       "    <tr>\n",
       "      <th>3</th>\n",
       "      <td>-0.593047</td>\n",
       "      <td>-0.609879</td>\n",
       "    </tr>\n",
       "    <tr>\n",
       "      <th>4</th>\n",
       "      <td>-0.386233</td>\n",
       "      <td>-0.320675</td>\n",
       "    </tr>\n",
       "  </tbody>\n",
       "</table>\n",
       "</div>"
      ],
      "text/plain": [
       "   Actual_Dispatch  Forecasted_Dispatch\n",
       "0         0.242549             0.156148\n",
       "1        -0.431445            -0.437419\n",
       "2        -0.594337            -0.608343\n",
       "3        -0.593047            -0.609879\n",
       "4        -0.386233            -0.320675"
      ]
     },
     "execution_count": 20,
     "metadata": {},
     "output_type": "execute_result"
    }
   ],
   "source": [
    "rfm_df_scaled = pd.DataFrame(rfm_df_scaled)\n",
    "rfm_df_scaled.columns = ['Actual_Dispatch','Forecasted_Dispatch']\n",
    "rfm_df_scaled.head()"
   ]
  },
  {
   "cell_type": "markdown",
   "id": "76c44739",
   "metadata": {},
   "source": [
    "**K-means clustering is one of the simplest and popular unsupervised machine learning algorithms.**\n",
    "\n",
    "**The algorithm works as follows:**\n",
    "\n",
    "First we initialize k points, called means, randomly.\n",
    "\n",
    "We categorize each item to its closest mean and we update the mean’s coordinates, which are the averages of the items categorized in that mean so far.\n",
    "\n",
    "We repeat the process for a given number of iterations and at the end, we have our clusters."
   ]
  },
  {
   "cell_type": "code",
   "execution_count": 21,
   "id": "34bd377e",
   "metadata": {},
   "outputs": [
    {
     "data": {
      "text/plain": [
       "KMeans(max_iter=50, n_clusters=4)"
      ]
     },
     "execution_count": 21,
     "metadata": {},
     "output_type": "execute_result"
    }
   ],
   "source": [
    "# k-means with some arbitrary k\n",
    "\n",
    "kmeans = KMeans(n_clusters=4, max_iter=50)\n",
    "kmeans.fit(rfm_df_scaled)"
   ]
  },
  {
   "cell_type": "code",
   "execution_count": 22,
   "id": "4f812fe3",
   "metadata": {},
   "outputs": [
    {
     "data": {
      "text/plain": [
       "array([2, 0, 0, 0, 0, 2, 0, 0, 0, 0, 0, 0, 2, 2, 1, 1, 1, 2, 0, 2, 0, 0,\n",
       "       0, 2, 2, 2, 0, 0, 0, 0, 0, 0, 0, 0, 3, 0])"
      ]
     },
     "execution_count": 22,
     "metadata": {},
     "output_type": "execute_result"
    }
   ],
   "source": [
    "kmeans.labels_"
   ]
  },
  {
   "cell_type": "markdown",
   "id": "4b51ff60",
   "metadata": {},
   "source": [
    "**Finding the Optimal Number of Clusters**\n",
    "\n",
    "**Elbow Curve to get the right number of Clusters**\n",
    "\n",
    "A fundamental step for any unsupervised algorithm is to determine the optimal number of clusters into which the data may be clustered. The Elbow Method is one of the most popular methods to determine this optimal value of k."
   ]
  },
  {
   "cell_type": "code",
   "execution_count": 23,
   "id": "8ca5a66a",
   "metadata": {},
   "outputs": [
    {
     "data": {
      "text/plain": [
       "[<matplotlib.lines.Line2D at 0x1f7aa69ee20>]"
      ]
     },
     "execution_count": 23,
     "metadata": {},
     "output_type": "execute_result"
    },
    {
     "data": {
      "image/png": "[encoded data removed]",
      "text/plain": [
       "<Figure size 720x576 with 1 Axes>"
      ]
     },
     "metadata": {
      "needs_background": "light"
     },
     "output_type": "display_data"
    }
   ],
   "source": [
    "# Elbow-curve/SSD\n",
    "\n",
    "ssd = []\n",
    "range_n_clusters = [2, 3, 4, 5, 6, 7, 8]\n",
    "for num_clusters in range_n_clusters:\n",
    "    kmeans = KMeans(n_clusters=num_clusters, max_iter=50)\n",
    "    kmeans.fit(rfm_df_scaled)\n",
    "    \n",
    "    ssd.append(kmeans.inertia_)\n",
    "    \n",
    "# plot the SSDs for each n_clusters\n",
    "plt.plot(ssd)"
   ]
  },
  {
   "cell_type": "markdown",
   "id": "4f1f71c0",
   "metadata": {},
   "source": [
    "### Silhouette Analysis\n",
    "\n",
    "**silhouette score=(p−q) / max(p,q)**\n",
    "\n",
    "p is the mean distance to the points in the nearest cluster that the data point is not a part of\n",
    "\n",
    "q is the mean intra-cluster distance to all the points in its own cluster.\n",
    "\n",
    "1) The value of the silhouette score range lies between -1 to 1.\n",
    "\n",
    "2) A score closer to 1 indicates that the data point is very similar to other data points in the cluster,\n",
    "\n",
    "3) A score closer to -1 indicates that the data point is not similar to the data points in its cluster."
   ]
  },
  {
   "cell_type": "code",
   "execution_count": 24,
   "id": "34689c59",
   "metadata": {
    "scrolled": true
   },
   "outputs": [
    {
     "name": "stdout",
     "output_type": "stream",
     "text": [
      "For n_clusters=2, the silhouette score is 0.902772587775885\n",
      "For n_clusters=3, the silhouette score is 0.6768552682465468\n",
      "For n_clusters=4, the silhouette score is 0.6579666274159333\n",
      "For n_clusters=5, the silhouette score is 0.5961496017511657\n",
      "For n_clusters=6, the silhouette score is 0.5684812032008631\n",
      "For n_clusters=7, the silhouette score is 0.6137418201011827\n",
      "For n_clusters=8, the silhouette score is 0.6075209419084975\n"
     ]
    }
   ],
   "source": [
    "# Silhouette analysis\n",
    "range_n_clusters = [2, 3, 4, 5, 6, 7, 8]\n",
    "\n",
    "for num_clusters in range_n_clusters:\n",
    "    \n",
    "    # intialise kmeans\n",
    "    kmeans = KMeans(n_clusters=num_clusters, max_iter=50)\n",
    "    kmeans.fit(rfm_df_scaled)\n",
    "    \n",
    "    cluster_labels = kmeans.labels_\n",
    "    \n",
    "    # silhouette score\n",
    "    silhouette_avg = silhouette_score(rfm_df_scaled, cluster_labels)\n",
    "    print(\"For n_clusters={0}, the silhouette score is {1}\".format(num_clusters, silhouette_avg))"
   ]
  },
  {
   "cell_type": "markdown",
   "id": "5bafd258",
   "metadata": {},
   "source": [
    "**According to silhouette score & Elbow Curve Ideal Clusters for the Plants will be 4**"
   ]
  },
  {
   "cell_type": "code",
   "execution_count": 25,
   "id": "99e72d20",
   "metadata": {},
   "outputs": [
    {
     "data": {
      "text/plain": [
       "KMeans(max_iter=50, n_clusters=4)"
      ]
     },
     "execution_count": 25,
     "metadata": {},
     "output_type": "execute_result"
    }
   ],
   "source": [
    "# Final model with k=4\n",
    "kmeans = KMeans(n_clusters=4, max_iter=50)\n",
    "kmeans.fit(rfm_df_scaled)"
   ]
  },
  {
   "cell_type": "code",
   "execution_count": 26,
   "id": "3d311017",
   "metadata": {},
   "outputs": [
    {
     "data": {
      "text/plain": [
       "array([0, 2, 2, 2, 2, 0, 2, 2, 2, 2, 2, 2, 0, 0, 1, 1, 1, 0, 2, 0, 2, 2,\n",
       "       2, 0, 0, 0, 2, 0, 2, 2, 2, 2, 2, 2, 3, 2])"
      ]
     },
     "execution_count": 26,
     "metadata": {},
     "output_type": "execute_result"
    }
   ],
   "source": [
    "kmeans.labels_"
   ]
  },
  {
   "cell_type": "code",
   "execution_count": 27,
   "id": "f7f30424",
   "metadata": {},
   "outputs": [
    {
     "data": {
      "text/html": [
       "<div>\n",
       "<style scoped>\n",
       "    .dataframe tbody tr th:only-of-type {\n",
       "        vertical-align: middle;\n",
       "    }\n",
       "\n",
       "    .dataframe tbody tr th {\n",
       "        vertical-align: top;\n",
       "    }\n",
       "\n",
       "    .dataframe thead th {\n",
       "        text-align: right;\n",
       "    }\n",
       "</style>\n",
       "<table border=\"1\" class=\"dataframe\">\n",
       "  <thead>\n",
       "    <tr style=\"text-align: right;\">\n",
       "      <th></th>\n",
       "      <th>Plant</th>\n",
       "      <th>Actual_Dispatch</th>\n",
       "      <th>Forecasted_Dispatch</th>\n",
       "      <th>DispatchDiff</th>\n",
       "      <th>Cluster_Id</th>\n",
       "    </tr>\n",
       "  </thead>\n",
       "  <tbody>\n",
       "    <tr>\n",
       "      <th>0</th>\n",
       "      <td>ACE EMBP</td>\n",
       "      <td>134409.0</td>\n",
       "      <td>61367.0</td>\n",
       "      <td>73042.0</td>\n",
       "      <td>0</td>\n",
       "    </tr>\n",
       "    <tr>\n",
       "      <th>1</th>\n",
       "      <td>ACE Matara</td>\n",
       "      <td>27330.0</td>\n",
       "      <td>14225.0</td>\n",
       "      <td>13105.0</td>\n",
       "      <td>2</td>\n",
       "    </tr>\n",
       "    <tr>\n",
       "      <th>2</th>\n",
       "      <td>ALTAQQA-Mahi.</td>\n",
       "      <td>1451.0</td>\n",
       "      <td>650.0</td>\n",
       "      <td>801.0</td>\n",
       "      <td>2</td>\n",
       "    </tr>\n",
       "    <tr>\n",
       "      <th>3</th>\n",
       "      <td>ALTAQQA-Pol.</td>\n",
       "      <td>1656.0</td>\n",
       "      <td>528.0</td>\n",
       "      <td>1128.0</td>\n",
       "      <td>2</td>\n",
       "    </tr>\n",
       "    <tr>\n",
       "      <th>4</th>\n",
       "      <td>Asia Power</td>\n",
       "      <td>34513.0</td>\n",
       "      <td>23497.0</td>\n",
       "      <td>11016.0</td>\n",
       "      <td>2</td>\n",
       "    </tr>\n",
       "  </tbody>\n",
       "</table>\n",
       "</div>"
      ],
      "text/plain": [
       "           Plant  Actual_Dispatch  Forecasted_Dispatch  DispatchDiff  \\\n",
       "0       ACE EMBP         134409.0              61367.0       73042.0   \n",
       "1     ACE Matara          27330.0              14225.0       13105.0   \n",
       "2  ALTAQQA-Mahi.           1451.0                650.0         801.0   \n",
       "3   ALTAQQA-Pol.           1656.0                528.0        1128.0   \n",
       "4     Asia Power          34513.0              23497.0       11016.0   \n",
       "\n",
       "   Cluster_Id  \n",
       "0           0  \n",
       "1           2  \n",
       "2           2  \n",
       "3           2  \n",
       "4           2  "
      ]
     },
     "execution_count": 27,
     "metadata": {},
     "output_type": "execute_result"
    }
   ],
   "source": [
    "# assign the label\n",
    "df1['Cluster_Id'] = kmeans.labels_\n",
    "df1.head()"
   ]
  },
  {
   "cell_type": "code",
   "execution_count": 28,
   "id": "6b16491a",
   "metadata": {},
   "outputs": [
    {
     "data": {
      "text/plain": [
       "<AxesSubplot:xlabel='Cluster_Id', ylabel='Plant'>"
      ]
     },
     "execution_count": 28,
     "metadata": {},
     "output_type": "execute_result"
    },
    {
     "data": {
      "image/png": "[encoded data removed]",
      "text/plain": [
       "<Figure size 720x576 with 1 Axes>"
      ]
     },
     "metadata": {
      "needs_background": "light"
     },
     "output_type": "display_data"
    }
   ],
   "source": [
    "# Box plot to visualize Cluster Id vs Plant\n",
    "\n",
    "sns.boxplot(x='Cluster_Id', y='Plant', data=df1)"
   ]
  },
  {
   "cell_type": "code",
   "execution_count": 29,
   "id": "b116543f",
   "metadata": {},
   "outputs": [
    {
     "data": {
      "text/plain": [
       "<AxesSubplot:xlabel='Cluster_Id', ylabel='Actual_Dispatch'>"
      ]
     },
     "execution_count": 29,
     "metadata": {},
     "output_type": "execute_result"
    },
    {
     "data": {
      "image/png": "[encoded data removed]",
      "text/plain": [
       "<Figure size 720x576 with 1 Axes>"
      ]
     },
     "metadata": {
      "needs_background": "light"
     },
     "output_type": "display_data"
    }
   ],
   "source": [
    "# Box plot to visualize Cluster Id vs Frequency\n",
    "\n",
    "sns.boxplot(x='Cluster_Id', y='Actual_Dispatch', data=df1)"
   ]
  },
  {
   "cell_type": "markdown",
   "id": "f8b1e789",
   "metadata": {},
   "source": [
    "## Hierarchical Clustering\n",
    "\n",
    "**Hierarchical clustering** involves creating clusters that have a predetermined ordering from top to bottom. For example, all files and folders on the hard disk are organized in a hierarchy. There are two types of hierarchical clustering,\n",
    "\n",
    "1) Divisive\n",
    "\n",
    "2) Agglomerative."
   ]
  },
  {
   "cell_type": "code",
   "execution_count": 30,
   "id": "65b16c96",
   "metadata": {},
   "outputs": [
    {
     "data": {
      "image/png": "[encoded data removed]",
      "text/plain": [
       "<Figure size 720x576 with 1 Axes>"
      ]
     },
     "metadata": {
      "needs_background": "light"
     },
     "output_type": "display_data"
    }
   ],
   "source": [
    "# Single linkage: \n",
    "\n",
    "mergings = linkage(rfm_df_scaled, method=\"single\", metric='euclidean')\n",
    "dendrogram(mergings)\n",
    "plt.show()"
   ]
  },
  {
   "cell_type": "markdown",
   "id": "a45db62c",
   "metadata": {},
   "source": [
    "**Complete Linkage**\n",
    "\n",
    "In complete linkage hierarchical clustering, the distance between two clusters is defined as the longest distance between two points in each cluster. For example, the distance between clusters “r” and “s” to the left is equal to the length of the arrow between their two furthest points."
   ]
  },
  {
   "cell_type": "code",
   "execution_count": 31,
   "id": "9a238334",
   "metadata": {},
   "outputs": [
    {
     "data": {
      "image/png": "[encoded data removed]",
      "text/plain": [
       "<Figure size 720x576 with 1 Axes>"
      ]
     },
     "metadata": {
      "needs_background": "light"
     },
     "output_type": "display_data"
    }
   ],
   "source": [
    "# Complete linkage\n",
    "\n",
    "mergings = linkage(rfm_df_scaled, method=\"complete\", metric='euclidean')\n",
    "dendrogram(mergings)\n",
    "plt.show()"
   ]
  },
  {
   "cell_type": "markdown",
   "id": "e3a8dec4",
   "metadata": {},
   "source": [
    "**Average Linkage:**\n",
    "\n",
    "In average linkage hierarchical clustering, the distance between two clusters is defined as the average distance between each point in one cluster to every point in the other cluster. For example, the distance between clusters “r” and “s” to the left is equal to the average length each arrow between connecting the points of one cluster to the other"
   ]
  },
  {
   "cell_type": "code",
   "execution_count": 32,
   "id": "ce20cc72",
   "metadata": {},
   "outputs": [
    {
     "data": {
      "image/png": "[encoded data removed]",
      "text/plain": [
       "<Figure size 720x576 with 1 Axes>"
      ]
     },
     "metadata": {
      "needs_background": "light"
     },
     "output_type": "display_data"
    }
   ],
   "source": [
    "# Average linkage\n",
    "\n",
    "mergings = linkage(rfm_df_scaled, method=\"average\", metric='euclidean')\n",
    "dendrogram(mergings)\n",
    "plt.show()"
   ]
  },
  {
   "cell_type": "markdown",
   "id": "d7d1621b",
   "metadata": {},
   "source": [
    "## Cutting the Dendrogram based on K"
   ]
  },
  {
   "cell_type": "code",
   "execution_count": 33,
   "id": "bdb2d3b4",
   "metadata": {},
   "outputs": [
    {
     "data": {
      "text/plain": [
       "array([0, 0, 0, 0, 0, 0, 0, 0, 0, 0, 0, 0, 0, 0, 1, 1, 1, 0, 0, 0, 0, 0,\n",
       "       0, 0, 0, 0, 0, 0, 0, 0, 0, 0, 0, 0, 2, 0])"
      ]
     },
     "execution_count": 33,
     "metadata": {},
     "output_type": "execute_result"
    }
   ],
   "source": [
    "# 3 clusters\n",
    "cluster_labels = cut_tree(mergings, n_clusters=3).reshape(-1, )\n",
    "cluster_labels"
   ]
  },
  {
   "cell_type": "code",
   "execution_count": 34,
   "id": "4579a65d",
   "metadata": {},
   "outputs": [
    {
     "data": {
      "text/html": [
       "<div>\n",
       "<style scoped>\n",
       "    .dataframe tbody tr th:only-of-type {\n",
       "        vertical-align: middle;\n",
       "    }\n",
       "\n",
       "    .dataframe tbody tr th {\n",
       "        vertical-align: top;\n",
       "    }\n",
       "\n",
       "    .dataframe thead th {\n",
       "        text-align: right;\n",
       "    }\n",
       "</style>\n",
       "<table border=\"1\" class=\"dataframe\">\n",
       "  <thead>\n",
       "    <tr style=\"text-align: right;\">\n",
       "      <th></th>\n",
       "      <th>Plant</th>\n",
       "      <th>Actual_Dispatch</th>\n",
       "      <th>Forecasted_Dispatch</th>\n",
       "      <th>DispatchDiff</th>\n",
       "      <th>Cluster_Id</th>\n",
       "      <th>Cluster_Labels</th>\n",
       "    </tr>\n",
       "  </thead>\n",
       "  <tbody>\n",
       "    <tr>\n",
       "      <th>0</th>\n",
       "      <td>ACE EMBP</td>\n",
       "      <td>134409.0</td>\n",
       "      <td>61367.0</td>\n",
       "      <td>73042.0</td>\n",
       "      <td>0</td>\n",
       "      <td>0</td>\n",
       "    </tr>\n",
       "    <tr>\n",
       "      <th>1</th>\n",
       "      <td>ACE Matara</td>\n",
       "      <td>27330.0</td>\n",
       "      <td>14225.0</td>\n",
       "      <td>13105.0</td>\n",
       "      <td>2</td>\n",
       "      <td>0</td>\n",
       "    </tr>\n",
       "    <tr>\n",
       "      <th>2</th>\n",
       "      <td>ALTAQQA-Mahi.</td>\n",
       "      <td>1451.0</td>\n",
       "      <td>650.0</td>\n",
       "      <td>801.0</td>\n",
       "      <td>2</td>\n",
       "      <td>0</td>\n",
       "    </tr>\n",
       "    <tr>\n",
       "      <th>3</th>\n",
       "      <td>ALTAQQA-Pol.</td>\n",
       "      <td>1656.0</td>\n",
       "      <td>528.0</td>\n",
       "      <td>1128.0</td>\n",
       "      <td>2</td>\n",
       "      <td>0</td>\n",
       "    </tr>\n",
       "    <tr>\n",
       "      <th>4</th>\n",
       "      <td>Asia Power</td>\n",
       "      <td>34513.0</td>\n",
       "      <td>23497.0</td>\n",
       "      <td>11016.0</td>\n",
       "      <td>2</td>\n",
       "      <td>0</td>\n",
       "    </tr>\n",
       "  </tbody>\n",
       "</table>\n",
       "</div>"
      ],
      "text/plain": [
       "           Plant  Actual_Dispatch  Forecasted_Dispatch  DispatchDiff  \\\n",
       "0       ACE EMBP         134409.0              61367.0       73042.0   \n",
       "1     ACE Matara          27330.0              14225.0       13105.0   \n",
       "2  ALTAQQA-Mahi.           1451.0                650.0         801.0   \n",
       "3   ALTAQQA-Pol.           1656.0                528.0        1128.0   \n",
       "4     Asia Power          34513.0              23497.0       11016.0   \n",
       "\n",
       "   Cluster_Id  Cluster_Labels  \n",
       "0           0               0  \n",
       "1           2               0  \n",
       "2           2               0  \n",
       "3           2               0  \n",
       "4           2               0  "
      ]
     },
     "execution_count": 34,
     "metadata": {},
     "output_type": "execute_result"
    }
   ],
   "source": [
    "# Assign cluster labels\n",
    "\n",
    "df1['Cluster_Labels'] = cluster_labels\n",
    "df1.head()"
   ]
  },
  {
   "cell_type": "code",
   "execution_count": 36,
   "id": "204aca66",
   "metadata": {},
   "outputs": [
    {
     "data": {
      "text/plain": [
       "<AxesSubplot:xlabel='Cluster_Labels', ylabel='Plant'>"
      ]
     },
     "execution_count": 36,
     "metadata": {},
     "output_type": "execute_result"
    },
    {
     "data": {
      "image/png": "[encoded data removed]",
      "text/plain": [
       "<Figure size 720x576 with 1 Axes>"
      ]
     },
     "metadata": {
      "needs_background": "light"
     },
     "output_type": "display_data"
    }
   ],
   "source": [
    "# Plot Cluster Id vs Amount\n",
    "\n",
    "sns.boxplot(x='Cluster_Labels', y='Plant', data=df1)"
   ]
  },
  {
   "cell_type": "markdown",
   "id": "35d6ddfc",
   "metadata": {},
   "source": [
    "### Final Analysis\n",
    "**Inference:**\n",
    "***K-Means Clustering with 4 Cluster Ids***\n",
    "\n",
    "Plants with Cluster Id 2 are the most common Dispatches Produced in July.\n",
    "\n",
    "Plants with Cluster Id 2 are Common Dispatch Produces.\n"
   ]
  },
  {
   "cell_type": "code",
   "execution_count": null,
   "id": "824db284",
   "metadata": {},
   "outputs": [],
   "source": []
  }
 ],
 "metadata": {
  "kernelspec": {
   "display_name": "Python 3 (ipykernel)",
   "language": "python",
   "name": "python3"
  },
  "language_info": {
   "codemirror_mode": {
    "name": "ipython",
    "version": 3
   },
   "file_extension": ".py",
   "mimetype": "text/x-python",
   "name": "python",
   "nbconvert_exporter": "python",
   "pygments_lexer": "ipython3",
   "version": "3.8.8"
  }
 },
 "nbformat": 4,
 "nbformat_minor": 5
}
