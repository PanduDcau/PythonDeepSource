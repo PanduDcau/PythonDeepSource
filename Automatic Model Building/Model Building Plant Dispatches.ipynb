{
 "cells": [
  {
   "cell_type": "markdown",
   "id": "01944d36",
   "metadata": {},
   "source": [
    "## Spark Initializing"
   ]
  },
  {
   "cell_type": "code",
   "execution_count": 1,
   "id": "8b93925d",
   "metadata": {},
   "outputs": [],
   "source": [
    "import findspark\n",
    "findspark.init()\n",
    "import pyspark\n",
    "import pandas as pd\n",
    "import seaborn as sns # To get graphs\n",
    "import matplotlib.pyplot as plt # To get graphs"
   ]
  },
  {
   "cell_type": "code",
   "execution_count": 2,
   "id": "fb6fc6a4",
   "metadata": {},
   "outputs": [],
   "source": [
    "#### First we have create a spark session\n",
    "from pyspark.sql import SparkSession\n",
    "spark = SparkSession.builder.master(\"local[1]\") \\\n",
    "                    .appName('ModelBuild') \\\n",
    "                    .getOrCreate()"
   ]
  },
  {
   "cell_type": "code",
   "execution_count": 3,
   "id": "4fae0c67",
   "metadata": {
    "scrolled": true
   },
   "outputs": [
    {
     "data": {
      "text/html": [
       "\n",
       "            <div>\n",
       "                <p><b>SparkSession - in-memory</b></p>\n",
       "                \n",
       "        <div>\n",
       "            <p><b>SparkContext</b></p>\n",
       "\n",
       "            <p><a href=\"http://PanduDCAU-Multiverse:4040\">Spark UI</a></p>\n",
       "\n",
       "            <dl>\n",
       "              <dt>Version</dt>\n",
       "                <dd><code>v3.1.2</code></dd>\n",
       "              <dt>Master</dt>\n",
       "                <dd><code>local[1]</code></dd>\n",
       "              <dt>AppName</dt>\n",
       "                <dd><code>ModelBuild</code></dd>\n",
       "            </dl>\n",
       "        </div>\n",
       "        \n",
       "            </div>\n",
       "        "
      ],
      "text/plain": [
       "<pyspark.sql.session.SparkSession at 0x149e7956070>"
      ]
     },
     "execution_count": 3,
     "metadata": {},
     "output_type": "execute_result"
    }
   ],
   "source": [
    "spark"
   ]
  },
  {
   "cell_type": "markdown",
   "id": "52480f17",
   "metadata": {},
   "source": [
    "## Import Data Set"
   ]
  },
  {
   "cell_type": "code",
   "execution_count": 4,
   "id": "0e9a3fb9",
   "metadata": {},
   "outputs": [],
   "source": [
    "#df = spark.read.option(\"header\" , True).csv(\"D:\\\\Vizuamatix exam\\\\final_dispatch.csv\")\n",
    "df = spark.read.option(\"header\" , True).csv(\"/Users/Asus/Documents/InternCsv/combine_final.csv\")"
   ]
  },
  {
   "cell_type": "code",
   "execution_count": 5,
   "id": "c4b63b11",
   "metadata": {},
   "outputs": [
    {
     "name": "stdout",
     "output_type": "stream",
     "text": [
      "+-------------+--------+----+---------------+-------------------+----------+\n",
      "|        Plant|    Date|Time|Actual_Dispatch|Forecasted_Dispatch|Difference|\n",
      "+-------------+--------+----+---------------+-------------------+----------+\n",
      "| ALTAQQA-Pol.|7/1/2020|0:00|              0|                  0|         0|\n",
      "|         Bowa|7/1/2020|0:00|              0|                  0|         0|\n",
      "|     KPS(GT7)|7/1/2020|0:00|              0|                  0|         0|\n",
      "|         Polp|7/1/2020|0:00|             40|                 78|       -38|\n",
      "|          WPS|7/1/2020|0:00|              0|                  0|         0|\n",
      "|         Rand|7/1/2020|0:00|              0|                  0|         0|\n",
      "|VPOWER Horona|7/1/2020|0:00|              0|                  0|         0|\n",
      "|       LVPS 2|7/1/2020|0:00|            540|                270|       270|\n",
      "|          Uku|7/1/2020|0:00|             72|                 40|        32|\n",
      "|   ACE Matara|7/1/2020|0:00|              0|                  0|         0|\n",
      "+-------------+--------+----+---------------+-------------------+----------+\n",
      "only showing top 10 rows\n",
      "\n"
     ]
    }
   ],
   "source": [
    "df.show(10)"
   ]
  },
  {
   "cell_type": "code",
   "execution_count": 6,
   "id": "fad2bafd",
   "metadata": {},
   "outputs": [],
   "source": [
    "from pyspark.sql.functions import percent_rank\n",
    "from pyspark.sql import Window\n",
    "df_dev = df.withColumn(\"rank\", percent_rank().over(Window.partitionBy().orderBy(\"Date\",\"Time\",\"Plant\")))"
   ]
  },
  {
   "cell_type": "code",
   "execution_count": 7,
   "id": "277c4b5f",
   "metadata": {},
   "outputs": [
    {
     "name": "stdout",
     "output_type": "stream",
     "text": [
      "+-------------+--------+----+---------------+-------------------+----------+--------------------+\n",
      "|        Plant|    Date|Time|Actual_Dispatch|Forecasted_Dispatch|Difference|                rank|\n",
      "+-------------+--------+----+---------------+-------------------+----------+--------------------+\n",
      "|     ACE EMBP|7/1/2020|0:00|              0|                 51|       -51|                 0.0|\n",
      "|   ACE Matara|7/1/2020|0:00|              0|                  0|         0|2.154475923731552...|\n",
      "|ALTAQQA-Mahi.|7/1/2020|0:00|              0|                  0|         0|4.308951847463105E-5|\n",
      "| ALTAQQA-Pol.|7/1/2020|0:00|              0|                  0|         0|6.463427771194657E-5|\n",
      "|   Asia Power|7/1/2020|0:00|              0|                 33|       -33| 8.61790369492621E-5|\n",
      "|        Barge|7/1/2020|0:00|             90|                 45|        45|1.077237961865776...|\n",
      "|         Bowa|7/1/2020|0:00|              0|                  0|         0|1.292685554238931...|\n",
      "|CEB Sup Power|7/1/2020|0:00|              0|                  0|         0|1.508133146612086...|\n",
      "|       Canyon|7/1/2020|0:00|             20|                  0|        20|1.723580738985242E-4|\n",
      "|         KCCP|7/1/2020|0:00|              0|                  0|         0|1.939028331358397E-4|\n",
      "+-------------+--------+----+---------------+-------------------+----------+--------------------+\n",
      "only showing top 10 rows\n",
      "\n"
     ]
    }
   ],
   "source": [
    "df_dev.show(10)"
   ]
  },
  {
   "cell_type": "code",
   "execution_count": 8,
   "id": "147b651e",
   "metadata": {},
   "outputs": [
    {
     "name": "stdout",
     "output_type": "stream",
     "text": [
      "+-------------+--------+----+---------------+-------------------+----------+--------------------+\n",
      "|        Plant|    Date|Time|Actual_Dispatch|Forecasted_Dispatch|Difference|                rank|\n",
      "+-------------+--------+----+---------------+-------------------+----------+--------------------+\n",
      "|     ACE EMBP|7/1/2020|0:00|              0|                 51|       -51|                 0.0|\n",
      "|   ACE Matara|7/1/2020|0:00|              0|                  0|         0|2.154475923731552...|\n",
      "|ALTAQQA-Mahi.|7/1/2020|0:00|              0|                  0|         0|4.308951847463105E-5|\n",
      "| ALTAQQA-Pol.|7/1/2020|0:00|              0|                  0|         0|6.463427771194657E-5|\n",
      "|   Asia Power|7/1/2020|0:00|              0|                 33|       -33| 8.61790369492621E-5|\n",
      "|        Barge|7/1/2020|0:00|             90|                 45|        45|1.077237961865776...|\n",
      "|         Bowa|7/1/2020|0:00|              0|                  0|         0|1.292685554238931...|\n",
      "|CEB Sup Power|7/1/2020|0:00|              0|                  0|         0|1.508133146612086...|\n",
      "|       Canyon|7/1/2020|0:00|             20|                  0|        20|1.723580738985242E-4|\n",
      "|         KCCP|7/1/2020|0:00|              0|                  0|         0|1.939028331358397E-4|\n",
      "|      KPS(GT)|7/1/2020|0:00|              0|                  0|         0|2.154475923731552...|\n",
      "|     KPS(GT7)|7/1/2020|0:00|              0|                  0|         0|2.369923516104707...|\n",
      "|         Koth|7/1/2020|0:00|             96|                 33|        63|2.585371108477863E-4|\n",
      "|       Kukule|7/1/2020|0:00|            105|                  0|       105|2.800818700851018E-4|\n",
      "|       LVPS 1|7/1/2020|0:00|            548|                270|       278|3.016266293224173E-4|\n",
      "|       LVPS 2|7/1/2020|0:00|            540|                270|       270|3.231713885597328...|\n",
      "|       LVPS 3|7/1/2020|0:00|            540|                229|       311|3.447161477970484E-4|\n",
      "|         Nlax|7/1/2020|0:00|             91|                 61|        30|3.662609070343639E-4|\n",
      "|         Olax|7/1/2020|0:00|             10|                 10|         0|3.878056662716794E-4|\n",
      "|         Polp|7/1/2020|0:00|             40|                 78|       -38|4.093504255089949...|\n",
      "+-------------+--------+----+---------------+-------------------+----------+--------------------+\n",
      "only showing top 20 rows\n",
      "\n"
     ]
    }
   ],
   "source": [
    "train_df = df_dev.where(\"rank <= .8\")\n",
    "train_df.show()"
   ]
  },
  {
   "cell_type": "code",
   "execution_count": 9,
   "id": "937b2e20",
   "metadata": {},
   "outputs": [],
   "source": [
    "train_df = train_df.withColumn(\"Difference\",train_df.Difference.cast('double'))\n",
    "train_df = train_df.withColumn(\"Actual_Dispatch\",train_df.Actual_Dispatch.cast('double'))\n",
    "train_df = train_df.withColumn(\"Forecasted_Dispatch\",train_df.Forecasted_Dispatch.cast('double'))"
   ]
  },
  {
   "cell_type": "code",
   "execution_count": 10,
   "id": "6b1bf5ef",
   "metadata": {},
   "outputs": [
    {
     "data": {
      "text/plain": [
       "[('Plant', 'string'),\n",
       " ('Date', 'string'),\n",
       " ('Time', 'string'),\n",
       " ('Actual_Dispatch', 'double'),\n",
       " ('Forecasted_Dispatch', 'double'),\n",
       " ('Difference', 'double'),\n",
       " ('rank', 'double')]"
      ]
     },
     "execution_count": 10,
     "metadata": {},
     "output_type": "execute_result"
    }
   ],
   "source": [
    "train_df.dtypes"
   ]
  },
  {
   "cell_type": "code",
   "execution_count": 11,
   "id": "c3f2e14b",
   "metadata": {},
   "outputs": [],
   "source": [
    "from pyspark.sql.functions import col\n",
    "sumtot = train_df.groupBy(\"Date\").sum(\"Actual_Dispatch\",\"Forecasted_Dispatch\",\"Difference\",\"rank\").sort(col(\"Date\").asc())"
   ]
  },
  {
   "cell_type": "code",
   "execution_count": 12,
   "id": "9495c062",
   "metadata": {
    "scrolled": true
   },
   "outputs": [
    {
     "name": "stdout",
     "output_type": "stream",
     "text": [
      "+---------+--------------------+------------------------+---------------+------------------+\n",
      "|     Date|sum(Actual_Dispatch)|sum(Forecasted_Dispatch)|sum(Difference)|         sum(rank)|\n",
      "+---------+--------------------+------------------------+---------------+------------------+\n",
      "| 7/1/2020|            164394.0|                 86666.0|        77728.0| 30.38586663794032|\n",
      "|7/10/2020|            168756.0|                 84202.0|        84554.0| 94.69283636755364|\n",
      "|7/11/2020|            150952.0|                 80095.0|        70857.0|153.73909296563616|\n",
      "|7/12/2020|            133281.0|                 69588.0|        63693.0|221.57044059032634|\n",
      "|7/13/2020|            163359.0|                 82308.0|        81051.0| 285.9027469568028|\n",
      "|7/14/2020|            173932.0|                 87793.0|        86139.0| 350.2350533232791|\n",
      "|7/15/2020|            171561.0|                 87663.0|        83898.0| 414.5673596897554|\n",
      "|7/16/2020|            165218.0|                 85969.0|        79249.0|478.89966605623187|\n",
      "|7/17/2020|            165218.0|                 82911.0|        82307.0| 543.2319724227083|\n",
      "|7/18/2020|            159815.0|                 82847.0|        76968.0| 607.5642787891845|\n",
      "+---------+--------------------+------------------------+---------------+------------------+\n",
      "only showing top 10 rows\n",
      "\n"
     ]
    }
   ],
   "source": [
    "sumtot.show(10)"
   ]
  },
  {
   "cell_type": "code",
   "execution_count": 13,
   "id": "1e131f8d",
   "metadata": {},
   "outputs": [],
   "source": [
    "from pyspark.sql.functions import *\n",
    "newColumns = [\"Plant\",\"Actual_Dispatch\",\"Forecasted_Dispatch\",\"DispatchDiff\",\"Rank\"]\n",
    "sumtot=sumtot.toDF(*newColumns)"
   ]
  },
  {
   "cell_type": "code",
   "execution_count": 14,
   "id": "017d42d3",
   "metadata": {},
   "outputs": [
    {
     "data": {
      "text/html": [
       "<div>\n",
       "<style scoped>\n",
       "    .dataframe tbody tr th:only-of-type {\n",
       "        vertical-align: middle;\n",
       "    }\n",
       "\n",
       "    .dataframe tbody tr th {\n",
       "        vertical-align: top;\n",
       "    }\n",
       "\n",
       "    .dataframe thead th {\n",
       "        text-align: right;\n",
       "    }\n",
       "</style>\n",
       "<table border=\"1\" class=\"dataframe\">\n",
       "  <thead>\n",
       "    <tr style=\"text-align: right;\">\n",
       "      <th></th>\n",
       "      <th>Plant</th>\n",
       "      <th>Actual_Dispatch</th>\n",
       "      <th>Forecasted_Dispatch</th>\n",
       "      <th>DispatchDiff</th>\n",
       "      <th>Rank</th>\n",
       "    </tr>\n",
       "  </thead>\n",
       "  <tbody>\n",
       "    <tr>\n",
       "      <th>0</th>\n",
       "      <td>7/1/2020</td>\n",
       "      <td>164394.0</td>\n",
       "      <td>86666.0</td>\n",
       "      <td>77728.0</td>\n",
       "      <td>30.385867</td>\n",
       "    </tr>\n",
       "    <tr>\n",
       "      <th>1</th>\n",
       "      <td>7/10/2020</td>\n",
       "      <td>168756.0</td>\n",
       "      <td>84202.0</td>\n",
       "      <td>84554.0</td>\n",
       "      <td>94.692836</td>\n",
       "    </tr>\n",
       "    <tr>\n",
       "      <th>2</th>\n",
       "      <td>7/11/2020</td>\n",
       "      <td>150952.0</td>\n",
       "      <td>80095.0</td>\n",
       "      <td>70857.0</td>\n",
       "      <td>153.739093</td>\n",
       "    </tr>\n",
       "    <tr>\n",
       "      <th>3</th>\n",
       "      <td>7/12/2020</td>\n",
       "      <td>133281.0</td>\n",
       "      <td>69588.0</td>\n",
       "      <td>63693.0</td>\n",
       "      <td>221.570441</td>\n",
       "    </tr>\n",
       "    <tr>\n",
       "      <th>4</th>\n",
       "      <td>7/13/2020</td>\n",
       "      <td>163359.0</td>\n",
       "      <td>82308.0</td>\n",
       "      <td>81051.0</td>\n",
       "      <td>285.902747</td>\n",
       "    </tr>\n",
       "  </tbody>\n",
       "</table>\n",
       "</div>"
      ],
      "text/plain": [
       "       Plant  Actual_Dispatch  Forecasted_Dispatch  DispatchDiff        Rank\n",
       "0   7/1/2020         164394.0              86666.0       77728.0   30.385867\n",
       "1  7/10/2020         168756.0              84202.0       84554.0   94.692836\n",
       "2  7/11/2020         150952.0              80095.0       70857.0  153.739093\n",
       "3  7/12/2020         133281.0              69588.0       63693.0  221.570441\n",
       "4  7/13/2020         163359.0              82308.0       81051.0  285.902747"
      ]
     },
     "execution_count": 14,
     "metadata": {},
     "output_type": "execute_result"
    }
   ],
   "source": [
    "df1 = sumtot.toPandas()\n",
    "df1.head()"
   ]
  },
  {
   "cell_type": "markdown",
   "id": "8154e7bd",
   "metadata": {},
   "source": [
    "## Heatmap For Finding Correlation"
   ]
  },
  {
   "cell_type": "code",
   "execution_count": 15,
   "id": "ae64d33f",
   "metadata": {},
   "outputs": [
    {
     "data": {
      "image/png": "[encoded data removed]",
      "text/plain": [
       "<Figure size 720x360 with 2 Axes>"
      ]
     },
     "metadata": {
      "needs_background": "light"
     },
     "output_type": "display_data"
    }
   ],
   "source": [
    "# Correlation Heatmap\n",
    "plt.figure(figsize = (10, 5))\n",
    "c = df1.corr()\n",
    "sns.heatmap(c, cmap = \"BrBG\", annot = True)\n",
    "plt.title(\"Correlation Matrix\")\n",
    "plt.show()"
   ]
  },
  {
   "cell_type": "code",
   "execution_count": 16,
   "id": "72f3fe7e",
   "metadata": {},
   "outputs": [
    {
     "data": {
      "text/plain": [
       "Plant                   object\n",
       "Actual_Dispatch        float64\n",
       "Forecasted_Dispatch    float64\n",
       "DispatchDiff           float64\n",
       "Rank                   float64\n",
       "dtype: object"
      ]
     },
     "execution_count": 16,
     "metadata": {},
     "output_type": "execute_result"
    }
   ],
   "source": [
    "df1.dtypes"
   ]
  },
  {
   "cell_type": "code",
   "execution_count": 17,
   "id": "b5e41a27",
   "metadata": {},
   "outputs": [],
   "source": [
    "from datetime import datetime\n",
    "from typing import Any, Callable, Dict, Iterable\n",
    "from sklearn.base import BaseEstimator\n",
    "from sklearn.compose import make_column_transformer\n",
    "from sklearn.ensemble import (\n",
    "    GradientBoostingClassifier, RandomForestClassifier, VotingClassifier)\n",
    "from sklearn.impute import SimpleImputer\n",
    "from sklearn.metrics import accuracy_score, roc_auc_score, make_scorer\n",
    "from sklearn.model_selection import (\n",
    "    BaseCrossValidator, GridSearchCV, StratifiedKFold, train_test_split)\n",
    "from sklearn.pipeline import make_pipeline\n",
    "from sklearn.preprocessing import FunctionTransformer\n",
    "from sklearn.preprocessing import OneHotEncoder\n",
    "from sklearn.preprocessing import StandardScaler\n",
    "from sklearn.svm import SVC\n",
    "from seaborn import boxplot, countplot"
   ]
  },
  {
   "cell_type": "markdown",
   "id": "2117b4f7",
   "metadata": {},
   "source": [
    "### Data Visualisation"
   ]
  },
  {
   "cell_type": "markdown",
   "id": "cfa046a2",
   "metadata": {},
   "source": [
    "We introduce a simple class for automating the creation of basic visualisations that are suitable for a binary classification task and which treat continuous and non-continuous features differently."
   ]
  },
  {
   "cell_type": "code",
   "execution_count": 18,
   "id": "a1f1098b",
   "metadata": {},
   "outputs": [],
   "source": [
    "class VizFeatureBinaryClass:\n",
    "    \"\"\"Automate binary classifier feature visualisation.\"\"\"\n",
    "    \n",
    "    def __init__(self, label_col: str, feature_cols: Iterable[str],\n",
    "                 data: DataFrame) -> None:\n",
    "        plot_data = data[feature_cols + [label_col]]\n",
    "        self.plots = {}\n",
    "        for feature in feature_cols:\n",
    "            fig, ax = plt.subplots()\n",
    "            plt.close(fig)\n",
    "            if plot_data[feature].dtype == 'float64':\n",
    "                plot = boxplot(x=label_col, y=feature, data=plot_data, ax=ax)\n",
    "            else:\n",
    "                plot = countplot(x=feature, hue=label_col, data=plot_data,\n",
    "                                 ax=ax)\n",
    "            plot.set_title(feature)\n",
    "            self.plots[feature] = plot\n",
    "    \n",
    "    def show(self, feature: str) -> None:\n",
    "        \"\"\"Display single plot.\"\"\"\n",
    "        plot = self.plots[feature]\n",
    "        display(plot.figure)\n",
    "        return None\n",
    "\n",
    "    def show_all(self) -> None:\n",
    "        \"\"\"Display all plots.\"\"\"\n",
    "        for plot in self.plots.values():\n",
    "            display(plot.figure)\n",
    "        return None"
   ]
  },
  {
   "cell_type": "markdown",
   "id": "b84d23ba",
   "metadata": {},
   "source": [
    "## Extract Class Labels"
   ]
  },
  {
   "cell_type": "markdown",
   "id": "02ef5aa0",
   "metadata": {},
   "source": [
    "The class labels for this classification task are in the Survived column of the training data. We split this column into seperate vector for **model training.**"
   ]
  },
  {
   "cell_type": "code",
   "execution_count": 19,
   "id": "9286823d",
   "metadata": {},
   "outputs": [],
   "source": [
    "labels = df1.Actual_Dispatch.values"
   ]
  },
  {
   "cell_type": "code",
   "execution_count": 20,
   "id": "568f0e45",
   "metadata": {},
   "outputs": [
    {
     "name": "stdout",
     "output_type": "stream",
     "text": [
      "156885.77272727274 Average Dispacth of the Plants in July\n"
     ]
    }
   ],
   "source": [
    "survived_fraction = labels.sum() / labels.shape[0]\n",
    "print(f'{survived_fraction} Average Dispacth of the Plants in July')"
   ]
  },
  {
   "cell_type": "markdown",
   "id": "ad99832a",
   "metadata": {},
   "source": [
    "## Spit Dataset into Train and Test Subsets"
   ]
  },
  {
   "cell_type": "markdown",
   "id": "2c38f89b",
   "metadata": {},
   "source": [
    "Use **stratified sampling** to ensure that classes are fairly represented in both train and test data."
   ]
  },
  {
   "cell_type": "code",
   "execution_count": 21,
   "id": "f959d015",
   "metadata": {},
   "outputs": [],
   "source": [
    "x=df1.iloc[:, 1:3].values  \n",
    "y=df1.iloc[:,4].values"
   ]
  },
  {
   "cell_type": "code",
   "execution_count": 22,
   "id": "a5df2ba5",
   "metadata": {},
   "outputs": [
    {
     "data": {
      "text/plain": [
       "array([[164394.,  86666.],\n",
       "       [168756.,  84202.],\n",
       "       [150952.,  80095.],\n",
       "       [133281.,  69588.],\n",
       "       [163359.,  82308.],\n",
       "       [173932.,  87793.],\n",
       "       [171561.,  87663.],\n",
       "       [165218.,  85969.],\n",
       "       [165218.,  82911.],\n",
       "       [159815.,  82847.],\n",
       "       [140516.,  67697.],\n",
       "       [161345.,  83312.],\n",
       "       [150243.,  82204.],\n",
       "       [159014.,  81733.],\n",
       "       [168316.,  85996.],\n",
       "       [161692.,  85618.],\n",
       "       [155644.,  80132.],\n",
       "       [152612.,  74585.],\n",
       "       [139838.,  67123.],\n",
       "       [171161.,  83587.],\n",
       "       [173788.,  87930.],\n",
       "       [100832.,  52798.]])"
      ]
     },
     "execution_count": 22,
     "metadata": {},
     "output_type": "execute_result"
    }
   ],
   "source": [
    "x"
   ]
  },
  {
   "cell_type": "code",
   "execution_count": 26,
   "id": "48e058de",
   "metadata": {},
   "outputs": [],
   "source": [
    "from sklearn.model_selection import train_test_split  \n",
    "X_train, X_test, y_train, y_test = train_test_split(x, y, test_size=0.1)\n"
   ]
  },
  {
   "cell_type": "markdown",
   "id": "d3f576f9",
   "metadata": {},
   "source": [
    "## Feature Engineering"
   ]
  },
  {
   "cell_type": "code",
   "execution_count": 30,
   "id": "f346f6e1",
   "metadata": {},
   "outputs": [],
   "source": [
    "from sklearn import tree\n",
    "import graphviz \n",
    "from sklearn.ensemble import RandomForestClassifier,RandomForestRegressor\n",
    "from sklearn.model_selection import train_test_split\n",
    "import numpy as np"
   ]
  },
  {
   "cell_type": "markdown",
   "id": "e7b6b7ce",
   "metadata": {},
   "source": [
    "## Fitting to the Model"
   ]
  },
  {
   "cell_type": "code",
   "execution_count": 31,
   "id": "d20b9ca3",
   "metadata": {},
   "outputs": [],
   "source": [
    "from sklearn.ensemble import RandomForestClassifier\n",
    "randf=RandomForestRegressor(n_estimators=900)\n",
    "randf.fit(X_train,y_train)\n",
    "y_pred=randf.predict(X_test)"
   ]
  },
  {
   "cell_type": "code",
   "execution_count": 33,
   "id": "a0e85e08",
   "metadata": {},
   "outputs": [
    {
     "data": {
      "text/plain": [
       "array([0.50512398, 0.49487602])"
      ]
     },
     "execution_count": 33,
     "metadata": {},
     "output_type": "execute_result"
    }
   ],
   "source": [
    "randf.feature_importances_"
   ]
  },
  {
   "cell_type": "code",
   "execution_count": 35,
   "id": "497e969a",
   "metadata": {},
   "outputs": [],
   "source": [
    "ylables=['Actual Dispatch','Forecasted_Dispatch']"
   ]
  },
  {
   "cell_type": "code",
   "execution_count": 37,
   "id": "6e46501e",
   "metadata": {},
   "outputs": [
    {
     "data": {
      "text/plain": [
       "<BarContainer object of 2 artists>"
      ]
     },
     "execution_count": 37,
     "metadata": {},
     "output_type": "execute_result"
    },
    {
     "data": {
      "image/png": "[encoded data removed]",
      "text/plain": [
       "<Figure size 432x288 with 1 Axes>"
      ]
     },
     "metadata": {
      "needs_background": "light"
     },
     "output_type": "display_data"
    }
   ],
   "source": [
    "plt.barh(ylables, randf.feature_importances_)"
   ]
  },
  {
   "cell_type": "markdown",
   "id": "0a0a79f3",
   "metadata": {},
   "source": [
    "#### Actual Dispatch is Recognized as the Most Features Component"
   ]
  },
  {
   "cell_type": "code",
   "execution_count": 48,
   "id": "354c9f17",
   "metadata": {},
   "outputs": [],
   "source": [
    "features = df1.columns.values.tolist()[1:3]\n",
    "feature_pro = pd.Series(randf.feature_importances_,index=features).sort_values(ascending=False)"
   ]
  },
  {
   "cell_type": "code",
   "execution_count": 45,
   "id": "63123bc9",
   "metadata": {},
   "outputs": [
    {
     "data": {
      "text/plain": [
       "Actual_Dispatch        0.505124\n",
       "Forecasted_Dispatch    0.494876\n",
       "dtype: float64"
      ]
     },
     "execution_count": 45,
     "metadata": {},
     "output_type": "execute_result"
    }
   ],
   "source": [
    "feature_pro"
   ]
  },
  {
   "cell_type": "code",
   "execution_count": 50,
   "id": "157b72e7",
   "metadata": {},
   "outputs": [
    {
     "data": {
      "text/plain": [
       "count        22.000000\n",
       "mean     156885.772727\n",
       "std       16785.946988\n",
       "min      100832.000000\n",
       "25%      151367.000000\n",
       "50%      161518.500000\n",
       "75%      167541.500000\n",
       "max      173932.000000\n",
       "Name: Actual_Dispatch, dtype: float64"
      ]
     },
     "execution_count": 50,
     "metadata": {},
     "output_type": "execute_result"
    }
   ],
   "source": [
    "df1['Actual_Dispatch'].describe()"
   ]
  },
  {
   "cell_type": "code",
   "execution_count": 51,
   "id": "49ff98db",
   "metadata": {},
   "outputs": [
    {
     "data": {
      "image/png": "[encoded data removed]",
      "text/plain": [
       "<Figure size 432x288 with 1 Axes>"
      ]
     },
     "metadata": {
      "needs_background": "light"
     },
     "output_type": "display_data"
    }
   ],
   "source": [
    "values, base = np.histogram(df1['Actual_Dispatch'], bins=20)\n",
    "Accumalate = np.cumsum(values/df1.shape[0])\n",
    "plt.plot(base[:-1], Accumalate, c='blue')\n",
    "plt.xlabel('Actual_Dispatch')\n",
    "plt.ylabel('Frequency')\n",
    "plt.show()"
   ]
  },
  {
   "cell_type": "markdown",
   "id": "7d9840e3",
   "metadata": {},
   "source": [
    "Since the median **\"Actual Dispatch\"** is **161518** and **mean Dispatch is ∼157000**, we classify Plants as **'Semi-Prioritized Plants'** if Actual_Dispacth is less then or equal to **162,000** , otherwise we classify the Plants as **'Prioritized Plants'**. We repleace the column **\"Actual Dispatch\"**  with the value 0 for '**Semi-Prioritized**' Plants and the value 1 for '**Prioritized**' Plants."
   ]
  },
  {
   "cell_type": "code",
   "execution_count": 56,
   "id": "07c78f2a",
   "metadata": {},
   "outputs": [],
   "source": [
    "indeksDaarlig = df1.loc[df1['Actual_Dispatch'] <= 162000].index\n",
    "indeksGod = df1.loc[df1['Actual_Dispatch'] > 162000].index\n",
    "df1.iloc[indeksDaarlig, df1.columns.get_loc('Actual_Dispatch')] = 0\n",
    "df1.iloc[indeksGod, df1.columns.get_loc('Actual_Dispatch')] = 1"
   ]
  },
  {
   "cell_type": "code",
   "execution_count": 57,
   "id": "b23b9358",
   "metadata": {},
   "outputs": [
    {
     "data": {
      "text/plain": [
       "0.0    12\n",
       "1.0    10\n",
       "Name: Actual_Dispatch, dtype: int64"
      ]
     },
     "execution_count": 57,
     "metadata": {},
     "output_type": "execute_result"
    }
   ],
   "source": [
    "df1['Actual_Dispatch'].value_counts()"
   ]
  },
  {
   "cell_type": "markdown",
   "id": "d990332d",
   "metadata": {},
   "source": [
    "## Decision Tree"
   ]
  },
  {
   "cell_type": "code",
   "execution_count": 60,
   "id": "832ce1a0",
   "metadata": {},
   "outputs": [],
   "source": [
    "final=df1.select_dtypes('float64')"
   ]
  },
  {
   "cell_type": "code",
   "execution_count": 61,
   "id": "d71ded5e",
   "metadata": {},
   "outputs": [
    {
     "data": {
      "text/html": [
       "<div>\n",
       "<style scoped>\n",
       "    .dataframe tbody tr th:only-of-type {\n",
       "        vertical-align: middle;\n",
       "    }\n",
       "\n",
       "    .dataframe tbody tr th {\n",
       "        vertical-align: top;\n",
       "    }\n",
       "\n",
       "    .dataframe thead th {\n",
       "        text-align: right;\n",
       "    }\n",
       "</style>\n",
       "<table border=\"1\" class=\"dataframe\">\n",
       "  <thead>\n",
       "    <tr style=\"text-align: right;\">\n",
       "      <th></th>\n",
       "      <th>Actual_Dispatch</th>\n",
       "      <th>Forecasted_Dispatch</th>\n",
       "      <th>DispatchDiff</th>\n",
       "      <th>Rank</th>\n",
       "    </tr>\n",
       "  </thead>\n",
       "  <tbody>\n",
       "    <tr>\n",
       "      <th>0</th>\n",
       "      <td>1.0</td>\n",
       "      <td>86666.0</td>\n",
       "      <td>77728.0</td>\n",
       "      <td>30.385867</td>\n",
       "    </tr>\n",
       "    <tr>\n",
       "      <th>1</th>\n",
       "      <td>1.0</td>\n",
       "      <td>84202.0</td>\n",
       "      <td>84554.0</td>\n",
       "      <td>94.692836</td>\n",
       "    </tr>\n",
       "    <tr>\n",
       "      <th>2</th>\n",
       "      <td>0.0</td>\n",
       "      <td>80095.0</td>\n",
       "      <td>70857.0</td>\n",
       "      <td>153.739093</td>\n",
       "    </tr>\n",
       "    <tr>\n",
       "      <th>3</th>\n",
       "      <td>0.0</td>\n",
       "      <td>69588.0</td>\n",
       "      <td>63693.0</td>\n",
       "      <td>221.570441</td>\n",
       "    </tr>\n",
       "    <tr>\n",
       "      <th>4</th>\n",
       "      <td>1.0</td>\n",
       "      <td>82308.0</td>\n",
       "      <td>81051.0</td>\n",
       "      <td>285.902747</td>\n",
       "    </tr>\n",
       "    <tr>\n",
       "      <th>5</th>\n",
       "      <td>1.0</td>\n",
       "      <td>87793.0</td>\n",
       "      <td>86139.0</td>\n",
       "      <td>350.235053</td>\n",
       "    </tr>\n",
       "    <tr>\n",
       "      <th>6</th>\n",
       "      <td>1.0</td>\n",
       "      <td>87663.0</td>\n",
       "      <td>83898.0</td>\n",
       "      <td>414.567360</td>\n",
       "    </tr>\n",
       "    <tr>\n",
       "      <th>7</th>\n",
       "      <td>1.0</td>\n",
       "      <td>85969.0</td>\n",
       "      <td>79249.0</td>\n",
       "      <td>478.899666</td>\n",
       "    </tr>\n",
       "    <tr>\n",
       "      <th>8</th>\n",
       "      <td>1.0</td>\n",
       "      <td>82911.0</td>\n",
       "      <td>82307.0</td>\n",
       "      <td>543.231972</td>\n",
       "    </tr>\n",
       "    <tr>\n",
       "      <th>9</th>\n",
       "      <td>0.0</td>\n",
       "      <td>82847.0</td>\n",
       "      <td>76968.0</td>\n",
       "      <td>607.564279</td>\n",
       "    </tr>\n",
       "  </tbody>\n",
       "</table>\n",
       "</div>"
      ],
      "text/plain": [
       "   Actual_Dispatch  Forecasted_Dispatch  DispatchDiff        Rank\n",
       "0              1.0              86666.0       77728.0   30.385867\n",
       "1              1.0              84202.0       84554.0   94.692836\n",
       "2              0.0              80095.0       70857.0  153.739093\n",
       "3              0.0              69588.0       63693.0  221.570441\n",
       "4              1.0              82308.0       81051.0  285.902747\n",
       "5              1.0              87793.0       86139.0  350.235053\n",
       "6              1.0              87663.0       83898.0  414.567360\n",
       "7              1.0              85969.0       79249.0  478.899666\n",
       "8              1.0              82911.0       82307.0  543.231972\n",
       "9              0.0              82847.0       76968.0  607.564279"
      ]
     },
     "execution_count": 61,
     "metadata": {},
     "output_type": "execute_result"
    }
   ],
   "source": [
    "final.head(10)"
   ]
  },
  {
   "cell_type": "markdown",
   "id": "f75e2dd5",
   "metadata": {},
   "source": [
    "## Decision Model"
   ]
  },
  {
   "cell_type": "code",
   "execution_count": 63,
   "id": "d63bd8bd",
   "metadata": {},
   "outputs": [],
   "source": [
    "x = final.iloc[:,1:]\n",
    "y = final['Actual_Dispatch']"
   ]
  },
  {
   "cell_type": "code",
   "execution_count": 64,
   "id": "77349adb",
   "metadata": {},
   "outputs": [],
   "source": [
    "#Choosing 40% as training data.\n",
    "xTrain, xTest, yTrain, yTest = train_test_split(x, y, test_size = 0.40, random_state = 42)"
   ]
  },
  {
   "cell_type": "code",
   "execution_count": 69,
   "id": "7d0bfe97",
   "metadata": {},
   "outputs": [
    {
     "data": {
      "text/plain": [
       "DecisionTreeClassifier(max_depth=3)"
      ]
     },
     "execution_count": 69,
     "metadata": {},
     "output_type": "execute_result"
    }
   ],
   "source": [
    "# Making a decision tree with two levels.\n",
    "clfTre = tree.DecisionTreeClassifier(max_depth=3)\n",
    "clfTre.fit(xTrain, yTrain)"
   ]
  },
  {
   "cell_type": "code",
   "execution_count": 70,
   "id": "6d82fdfe",
   "metadata": {},
   "outputs": [
    {
     "data": {
      "image/svg+xml": [
       "<?xml version=\"1.0\" encoding=\"UTF-8\" standalone=\"no\"?>\r\n",
       "<!DOCTYPE svg PUBLIC \"-//W3C//DTD SVG 1.1//EN\"\r\n",
       " \"http://www.w3.org/Graphics/SVG/1.1/DTD/svg11.dtd\">\r\n",
       "<!-- Generated by graphviz version 2.38.0 (20140413.2041)\r\n",
       " -->\r\n",
       "<!-- Title: Tree Pages: 1 -->\r\n",
       "<svg width=\"220pt\" height=\"165pt\"\r\n",
       " viewBox=\"0.00 0.00 220.00 165.00\" xmlns=\"http://www.w3.org/2000/svg\" xmlns:xlink=\"http://www.w3.org/1999/xlink\">\r\n",
       "<g id=\"graph0\" class=\"graph\" transform=\"scale(1 1) rotate(0) translate(4 161)\">\r\n",
       "<title>Tree</title>\r\n",
       "<polygon fill=\"white\" stroke=\"none\" points=\"-4,4 -4,-161 216,-161 216,4 -4,4\"/>\r\n",
       "<!-- 0 -->\r\n",
       "<g id=\"node1\" class=\"node\"><title>0</title>\r\n",
       "<path fill=\"#f5d0b5\" stroke=\"black\" d=\"M179.5,-157C179.5,-157 31.5,-157 31.5,-157 25.5,-157 19.5,-151 19.5,-145 19.5,-145 19.5,-101 19.5,-101 19.5,-95 25.5,-89 31.5,-89 31.5,-89 179.5,-89 179.5,-89 185.5,-89 191.5,-95 191.5,-101 191.5,-101 191.5,-145 191.5,-145 191.5,-151 185.5,-157 179.5,-157\"/>\r\n",
       "<text text-anchor=\"middle\" x=\"105.5\" y=\"-141.8\" font-family=\"Helvetica,sans-Serif\" font-size=\"14.00\">DispatchDiff &lt;= 78638.0</text>\r\n",
       "<text text-anchor=\"middle\" x=\"105.5\" y=\"-126.8\" font-family=\"Helvetica,sans-Serif\" font-size=\"14.00\">gini = 0.473</text>\r\n",
       "<text text-anchor=\"middle\" x=\"105.5\" y=\"-111.8\" font-family=\"Helvetica,sans-Serif\" font-size=\"14.00\">samples = 13</text>\r\n",
       "<text text-anchor=\"middle\" x=\"105.5\" y=\"-96.8\" font-family=\"Helvetica,sans-Serif\" font-size=\"14.00\">value = [8, 5]</text>\r\n",
       "</g>\r\n",
       "<!-- 1 -->\r\n",
       "<g id=\"node2\" class=\"node\"><title>1</title>\r\n",
       "<path fill=\"#e58139\" stroke=\"black\" d=\"M85,-53C85,-53 12,-53 12,-53 6,-53 0,-47 0,-41 0,-41 0,-12 0,-12 0,-6 6,-0 12,-0 12,-0 85,-0 85,-0 91,-0 97,-6 97,-12 97,-12 97,-41 97,-41 97,-47 91,-53 85,-53\"/>\r\n",
       "<text text-anchor=\"middle\" x=\"48.5\" y=\"-37.8\" font-family=\"Helvetica,sans-Serif\" font-size=\"14.00\">gini = 0.0</text>\r\n",
       "<text text-anchor=\"middle\" x=\"48.5\" y=\"-22.8\" font-family=\"Helvetica,sans-Serif\" font-size=\"14.00\">samples = 8</text>\r\n",
       "<text text-anchor=\"middle\" x=\"48.5\" y=\"-7.8\" font-family=\"Helvetica,sans-Serif\" font-size=\"14.00\">value = [8, 0]</text>\r\n",
       "</g>\r\n",
       "<!-- 0&#45;&gt;1 -->\r\n",
       "<g id=\"edge1\" class=\"edge\"><title>0&#45;&gt;1</title>\r\n",
       "<path fill=\"none\" stroke=\"black\" d=\"M85.5642,-88.9485C80.267,-80.1664 74.5348,-70.6629 69.198,-61.815\"/>\r\n",
       "<polygon fill=\"black\" stroke=\"black\" points=\"72.1857,-59.9919 64.0237,-53.2367 66.1917,-63.6074 72.1857,-59.9919\"/>\r\n",
       "<text text-anchor=\"middle\" x=\"58.0169\" y=\"-73.8043\" font-family=\"Helvetica,sans-Serif\" font-size=\"14.00\">True</text>\r\n",
       "</g>\r\n",
       "<!-- 2 -->\r\n",
       "<g id=\"node3\" class=\"node\"><title>2</title>\r\n",
       "<path fill=\"#399de5\" stroke=\"black\" d=\"M200,-53C200,-53 127,-53 127,-53 121,-53 115,-47 115,-41 115,-41 115,-12 115,-12 115,-6 121,-0 127,-0 127,-0 200,-0 200,-0 206,-0 212,-6 212,-12 212,-12 212,-41 212,-41 212,-47 206,-53 200,-53\"/>\r\n",
       "<text text-anchor=\"middle\" x=\"163.5\" y=\"-37.8\" font-family=\"Helvetica,sans-Serif\" font-size=\"14.00\">gini = 0.0</text>\r\n",
       "<text text-anchor=\"middle\" x=\"163.5\" y=\"-22.8\" font-family=\"Helvetica,sans-Serif\" font-size=\"14.00\">samples = 5</text>\r\n",
       "<text text-anchor=\"middle\" x=\"163.5\" y=\"-7.8\" font-family=\"Helvetica,sans-Serif\" font-size=\"14.00\">value = [0, 5]</text>\r\n",
       "</g>\r\n",
       "<!-- 0&#45;&gt;2 -->\r\n",
       "<g id=\"edge2\" class=\"edge\"><title>0&#45;&gt;2</title>\r\n",
       "<path fill=\"none\" stroke=\"black\" d=\"M125.786,-88.9485C131.176,-80.1664 137.008,-70.6629 142.439,-61.815\"/>\r\n",
       "<polygon fill=\"black\" stroke=\"black\" points=\"145.456,-63.5903 147.704,-53.2367 139.49,-59.9287 145.456,-63.5903\"/>\r\n",
       "<text text-anchor=\"middle\" x=\"153.523\" y=\"-73.85\" font-family=\"Helvetica,sans-Serif\" font-size=\"14.00\">False</text>\r\n",
       "</g>\r\n",
       "</g>\r\n",
       "</svg>\r\n"
      ],
      "text/plain": [
       "<graphviz.files.Source at 0x149e8f36730>"
      ]
     },
     "execution_count": 70,
     "metadata": {},
     "output_type": "execute_result"
    }
   ],
   "source": [
    "#Visualizing the decision tree\n",
    "dot_data = tree.export_graphviz(clfTre, out_file=None, max_depth=3, feature_names=list(x.columns.values), filled=True, rounded=True)\n",
    "valgTre = graphviz.Source(dot_data) \n",
    "valgTre"
   ]
  },
  {
   "cell_type": "markdown",
   "id": "f2f3e65c",
   "metadata": {},
   "source": [
    "We observe that our model uses the all levels of Features in Wine to first to make a decision. Also, note that based on **Actual Dispatch** level if the the Dispatch_Diff is **lower than 78600**, then the wine is most likely **'Prioritzed Plant'**. On the other hand, is the **DispacthDiff >= 78600**  then the Plant is most likely **'Semi-Prioritized Plant'**."
   ]
  },
  {
   "cell_type": "code",
   "execution_count": 71,
   "id": "3c8b7134",
   "metadata": {},
   "outputs": [
    {
     "name": "stdout",
     "output_type": "stream",
     "text": [
      "The Decision Tree predicts the test data in 88.88888888888889 % of the cases.\n"
     ]
    }
   ],
   "source": [
    "utfall = (clfTre.predict(xTest) == yTest).value_counts()\n",
    "print(\"The Decision Tree predicts the test data in\", (utfall[1]/(utfall[0]+utfall[1]))*100 , \"% of the cases.\")"
   ]
  },
  {
   "cell_type": "markdown",
   "id": "20aeb400",
   "metadata": {},
   "source": [
    "## Usage Of Random Forest"
   ]
  },
  {
   "cell_type": "code",
   "execution_count": 72,
   "id": "fde582c3",
   "metadata": {},
   "outputs": [
    {
     "data": {
      "text/plain": [
       "RandomForestClassifier(max_depth=10, random_state=0)"
      ]
     },
     "execution_count": 72,
     "metadata": {},
     "output_type": "execute_result"
    }
   ],
   "source": [
    "rf = RandomForestClassifier(n_estimators=100, max_depth=10, random_state=0)\n",
    "rf.fit(xTrain, yTrain)"
   ]
  },
  {
   "cell_type": "code",
   "execution_count": 73,
   "id": "18ace45a",
   "metadata": {},
   "outputs": [
    {
     "name": "stdout",
     "output_type": "stream",
     "text": [
      "The Decision tree Predicts the test data in 88.88888888888889 % of the cases.\n"
     ]
    }
   ],
   "source": [
    "utfall = (rf.predict(xTest) == yTest).value_counts()\n",
    "print(\"The Decision tree Predicts the test data in\", (utfall[1]/(utfall[0]+utfall[1]))*100 , \"% of the cases.\")"
   ]
  },
  {
   "cell_type": "markdown",
   "id": "ee2688bb",
   "metadata": {},
   "source": [
    "Both of the Methods Provide Same Accuray due to the **Small-sized Data Set** is Used."
   ]
  },
  {
   "cell_type": "code",
   "execution_count": null,
   "id": "01a8c35c",
   "metadata": {},
   "outputs": [],
   "source": []
  }
 ],
 "metadata": {
  "kernelspec": {
   "display_name": "Python 3 (ipykernel)",
   "language": "python",
   "name": "python3"
  },
  "language_info": {
   "codemirror_mode": {
    "name": "ipython",
    "version": 3
   },
   "file_extension": ".py",
   "mimetype": "text/x-python",
   "name": "python",
   "nbconvert_exporter": "python",
   "pygments_lexer": "ipython3",
   "version": "3.8.8"
  }
 },
 "nbformat": 4,
 "nbformat_minor": 5
}
